{
  "nbformat": 4,
  "nbformat_minor": 0,
  "metadata": {
    "colab": {
      "name": "0329 수업 - colab 기초.ipynb",
      "provenance": [],
      "mount_file_id": "131ui1w6vdAGBSl_hVbQ0cGNeXf1tjWFv",
      "authorship_tag": "ABX9TyMt5K4fqYxoQPOvFHSZMjv7",
      "include_colab_link": true
    },
    "kernelspec": {
      "name": "python3",
      "display_name": "Python 3"
    },
    "language_info": {
      "name": "python"
    },
    "accelerator": "TPU"
  },
  "cells": [
    {
      "cell_type": "markdown",
      "metadata": {
        "id": "view-in-github",
        "colab_type": "text"
      },
      "source": [
        "<a href=\"https://colab.research.google.com/github/JadeWednesday/cakd5/blob/main/0329_%EC%88%98%EC%97%85_colab_%EA%B8%B0%EC%B4%88.ipynb\" target=\"_parent\"><img src=\"https://colab.research.google.com/assets/colab-badge.svg\" alt=\"Open In Colab\"/></a>"
      ]
    },
    {
      "cell_type": "markdown",
      "source": [
        "/content/drive/MyDrive/cakd5_colab/m9_딥러닝알고리즘구현/0329 수업 - colab 기초.ipynb"
      ],
      "metadata": {
        "id": "nMYIDQhZBgaH"
      }
    },
    {
      "cell_type": "markdown",
      "source": [
        "# 코랩 무료버전은 12시간만 런타임이 유지됩니다.\n",
        "# 경험상 딥러닝 돌려놓고 어디 나갔다오고 하다보면 중간에 끊겨서 결과 안나오는 경우가 종종 있습니다.\n",
        "# 다음은 런타임이 끊기지 않도록 계속 클릭 이벤트를 발생시키는 코드입니다.\n",
        "\n",
        "function ClickConnect(){\n",
        "    console.log(\"1분마다 코랩 연결 끊김 방지\"); \n",
        "    document.querySelector(\"#top-toolbar > colab-connect-button\").shadowRoot.querySelector(\"#connect-icon\")\n",
        ".click();\n",
        "}\n",
        "setInterval(ClickConnect, 1000 * 60);\n",
        "\n",
        "# 다음은 위에서 출력한 로그를 지워주는 코드라고 합니다.\n",
        "\n",
        "function CleanCurrentOutput() {\n",
        " var btn = document.querySelector(\".output-icon.clear_outputs_enabled.output-icon-selected[title$='현재 실행 중...'] iron-icon[command=clear-focused-or-selected-outputs]\");\n",
        " if(btn) {\n",
        "  console.log(\"10분마다 출력 지우기\");\n",
        "  btn.click();\n",
        "  }\n",
        " }\n",
        "setInterval(CleanCurrentOutput, 1000 * 60 * 10);"
      ],
      "metadata": {
        "id": "07_rZCQLDcaC"
      }
    },
    {
      "cell_type": "code",
      "source": [
        ""
      ],
      "metadata": {
        "id": "Ks_6vEuTA5dM"
      },
      "execution_count": null,
      "outputs": []
    },
    {
      "cell_type": "code",
      "source": [
        ""
      ],
      "metadata": {
        "id": "pZDtm4buA5f4"
      },
      "execution_count": null,
      "outputs": []
    },
    {
      "cell_type": "code",
      "source": [
        ""
      ],
      "metadata": {
        "id": "JJM4dnGOA5iz"
      },
      "execution_count": null,
      "outputs": []
    },
    {
      "cell_type": "code",
      "source": [
        ""
      ],
      "metadata": {
        "id": "hbCuLszGA5le"
      },
      "execution_count": null,
      "outputs": []
    },
    {
      "cell_type": "code",
      "source": [
        ""
      ],
      "metadata": {
        "id": "8Vu6OZKNA5oT"
      },
      "execution_count": null,
      "outputs": []
    },
    {
      "cell_type": "code",
      "source": [
        ""
      ],
      "metadata": {
        "id": "DWr97kI1A5rU"
      },
      "execution_count": null,
      "outputs": []
    },
    {
      "cell_type": "code",
      "source": [
        ""
      ],
      "metadata": {
        "id": "Dj016GriA5uW"
      },
      "execution_count": null,
      "outputs": []
    },
    {
      "cell_type": "code",
      "source": [
        ""
      ],
      "metadata": {
        "id": "PuGQv28uA5xT"
      },
      "execution_count": null,
      "outputs": []
    },
    {
      "cell_type": "code",
      "source": [
        ""
      ],
      "metadata": {
        "id": "9FDnFWIhA50f"
      },
      "execution_count": null,
      "outputs": []
    },
    {
      "cell_type": "code",
      "source": [
        ""
      ],
      "metadata": {
        "id": "tvCBb68SA530"
      },
      "execution_count": null,
      "outputs": []
    },
    {
      "cell_type": "code",
      "source": [
        ""
      ],
      "metadata": {
        "id": "hOQ-GCbEA7hE"
      },
      "execution_count": null,
      "outputs": []
    }
  ]
}