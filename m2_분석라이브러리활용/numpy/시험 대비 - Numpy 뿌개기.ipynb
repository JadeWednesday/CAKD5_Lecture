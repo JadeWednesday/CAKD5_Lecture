{
 "cells": [
  {
   "cell_type": "code",
   "execution_count": 1,
   "id": "b12c6be5",
   "metadata": {},
   "outputs": [],
   "source": [
    "import numpy as np\n",
    "import pandas as pd"
   ]
  },
  {
   "cell_type": "code",
   "execution_count": 51,
   "id": "0093f69c",
   "metadata": {},
   "outputs": [
    {
     "data": {
      "text/plain": [
       "array([[ 1,  2,  3,  4,  5],\n",
       "       [ 6,  7,  8,  9, 10],\n",
       "       [11, 12, 13, 14, 15],\n",
       "       [16, 17, 18, 19, 20]])"
      ]
     },
     "metadata": {},
     "output_type": "display_data"
    },
    {
     "data": {
      "text/plain": [
       "array([[0, 0, 0, 0, 0],\n",
       "       [0, 0, 0, 0, 0],\n",
       "       [0, 0, 0, 0, 0],\n",
       "       [0, 0, 0, 0, 0]])"
      ]
     },
     "metadata": {},
     "output_type": "display_data"
    },
    {
     "data": {
      "text/plain": [
       "array([[1, 1, 1, 1, 1],\n",
       "       [1, 1, 1, 1, 1],\n",
       "       [1, 1, 1, 1, 1],\n",
       "       [1, 1, 1, 1, 1]])"
      ]
     },
     "metadata": {},
     "output_type": "display_data"
    },
    {
     "data": {
      "text/plain": [
       "array([[5, 5, 5, 5, 5],\n",
       "       [5, 5, 5, 5, 5],\n",
       "       [5, 5, 5, 5, 5],\n",
       "       [5, 5, 5, 5, 5]])"
      ]
     },
     "metadata": {},
     "output_type": "display_data"
    }
   ],
   "source": [
    "# [과제] zeros_like, ones_like, full_like 함수를 예시로 하나씩만 만들어 보자.\n",
    "a = np.arange(1,21).reshape(4,5)\n",
    "a0 = np.zeros_like(a)\n",
    "a1 = np.ones_like(a)\n",
    "af = np.full_like(a,5)\n",
    "display(a,a0,a1,af)"
   ]
  },
  {
   "cell_type": "code",
   "execution_count": 9,
   "id": "301fa94c",
   "metadata": {},
   "outputs": [
    {
     "name": "stdout",
     "output_type": "stream",
     "text": [
      "[3, 6, 9, 12, 15, 18, 21, 24, 27, 30, 33, 36, 39, 42, 45, 48, 51, 54, 57, 60, 63, 66, 69, 72, 75, 78, 81, 84, 87, 90, 93, 96, 99]\n",
      "[ 3  6  9 12 15 18 21 24 27 30 33 36 39 42 45 48 51 54 57 60 63 66 69 72\n",
      " 75 78 81 84 87 90 93 96 99]\n"
     ]
    },
    {
     "data": {
      "text/plain": [
       "array([ 3,  6,  9, 12, 15, 18, 21, 24, 27, 30, 33, 36, 39, 42, 45, 48, 51,\n",
       "       54, 57, 60, 63, 66, 69, 72, 75, 78, 81, 84, 87, 90, 93, 96, 99])"
      ]
     },
     "execution_count": 9,
     "metadata": {},
     "output_type": "execute_result"
    }
   ],
   "source": [
    "# [과제] 1 ~ 100까지 정수에서 3의 배수인 것만을 출력(for문과 배열 두가지 방식)\n",
    "a = np.arange(1,101)\n",
    "l1=[]\n",
    "for i in a:\n",
    "    if i%3==0:\n",
    "        l1.append(i)\n",
    "print(l1)\n",
    "a1 = np.arange(3,100,3)\n",
    "print(a1)\n",
    "# 또는 a를 이용하여\n",
    "a[a%3==0] # 이거슨 불린인덱싱"
   ]
  },
  {
   "cell_type": "code",
   "execution_count": 11,
   "id": "d735d66b",
   "metadata": {},
   "outputs": [
    {
     "name": "stdout",
     "output_type": "stream",
     "text": [
      "10 20 30 40 50 60 70 80 90 100 "
     ]
    },
    {
     "data": {
      "text/plain": [
       "array([ 10,  20,  30,  40,  50,  60,  70,  80,  90, 100])"
      ]
     },
     "execution_count": 11,
     "metadata": {},
     "output_type": "execute_result"
    }
   ],
   "source": [
    "# [과제] 1 ~ 100까지 정수에서 5의 배수이면서 2의 배수인 것만을 출력(for문과 배열 두가지 방식)\n",
    "a = np.arange(1,101)\n",
    "for i in a:\n",
    "    if i%10==0:\n",
    "        print(i,end=\" \")\n",
    "a[a%10==0]"
   ]
  },
  {
   "cell_type": "code",
   "execution_count": 12,
   "id": "1ded3d73",
   "metadata": {},
   "outputs": [
    {
     "data": {
      "text/plain": [
       "0.09987654500743236"
      ]
     },
     "metadata": {},
     "output_type": "display_data"
    },
    {
     "data": {
      "text/plain": [
       "0.9574348503334579"
      ]
     },
     "metadata": {},
     "output_type": "display_data"
    }
   ],
   "source": [
    "# [과제] 표준정규분포로 구성된 5행 5열 다차원 배열을 생성하고 함수를 이용하여 평균과 표준편차를 구하세요.\n",
    "a = np.random.randn(5,5)  # 가우시안 표준 정규분포의 특징은\n",
    "display(a.mean(),a.std()) # 요소가 많을수록 평균이 0, 표준편차가 1에 수렴 "
   ]
  },
  {
   "cell_type": "code",
   "execution_count": 13,
   "id": "6f1ca18c",
   "metadata": {},
   "outputs": [
    {
     "data": {
      "text/plain": [
       "array([0., 0., 0., 0., 1., 0., 0., 0., 0., 0.])"
      ]
     },
     "execution_count": 13,
     "metadata": {},
     "output_type": "execute_result"
    }
   ],
   "source": [
    "# [과제] zeros 함수를 이용해서 아래와 같이 출력하세요.\n",
    "# array([0., 0., 0., 0., 1., 0., 0., 0., 0., 0.])\n",
    "a = np.zeros(10)\n",
    "a[4]=1\n",
    "a"
   ]
  },
  {
   "cell_type": "code",
   "execution_count": 14,
   "id": "f306b99f",
   "metadata": {},
   "outputs": [
    {
     "data": {
      "text/plain": [
       "array([9, 8, 7, 6, 5, 4, 3, 2, 1, 0])"
      ]
     },
     "execution_count": 14,
     "metadata": {},
     "output_type": "execute_result"
    }
   ],
   "source": [
    "# [과제] 인덱싱을 이용하여 아래 배열을 내림차순으로 정렬하세요.\n",
    "# [0, 1, 2, 3, 4, 5, 6, 7, 8, 9]\n",
    "a = np.arange(10)\n",
    "a[::-1]"
   ]
  },
  {
   "cell_type": "code",
   "execution_count": 15,
   "id": "a90ab604",
   "metadata": {},
   "outputs": [
    {
     "data": {
      "text/plain": [
       "(array([0, 1, 4], dtype=int64),)"
      ]
     },
     "execution_count": 15,
     "metadata": {},
     "output_type": "execute_result"
    }
   ],
   "source": [
    "# [과제] [1,2,0,0,4,0]에서 zero가 아닌 인덱스를 배열 형태로 출력하세요.\n",
    "a = [1,2,0,0,4,0]\n",
    "np.nonzero(a)"
   ]
  },
  {
   "cell_type": "code",
   "execution_count": 25,
   "id": "279ea611",
   "metadata": {},
   "outputs": [
    {
     "data": {
      "text/html": [
       "<div>\n",
       "<style scoped>\n",
       "    .dataframe tbody tr th:only-of-type {\n",
       "        vertical-align: middle;\n",
       "    }\n",
       "\n",
       "    .dataframe tbody tr th {\n",
       "        vertical-align: top;\n",
       "    }\n",
       "\n",
       "    .dataframe thead th {\n",
       "        text-align: right;\n",
       "    }\n",
       "</style>\n",
       "<table border=\"1\" class=\"dataframe\">\n",
       "  <thead>\n",
       "    <tr style=\"text-align: right;\">\n",
       "      <th></th>\n",
       "      <th>Gender</th>\n",
       "      <th>Age</th>\n",
       "    </tr>\n",
       "    <tr>\n",
       "      <th>ID</th>\n",
       "      <th></th>\n",
       "      <th></th>\n",
       "    </tr>\n",
       "  </thead>\n",
       "  <tbody>\n",
       "    <tr>\n",
       "      <th>1</th>\n",
       "      <td>F</td>\n",
       "      <td>13</td>\n",
       "    </tr>\n",
       "    <tr>\n",
       "      <th>2</th>\n",
       "      <td>F</td>\n",
       "      <td>51</td>\n",
       "    </tr>\n",
       "    <tr>\n",
       "      <th>3</th>\n",
       "      <td>F</td>\n",
       "      <td>10</td>\n",
       "    </tr>\n",
       "    <tr>\n",
       "      <th>4</th>\n",
       "      <td>M</td>\n",
       "      <td>38</td>\n",
       "    </tr>\n",
       "    <tr>\n",
       "      <th>5</th>\n",
       "      <td>F</td>\n",
       "      <td>55</td>\n",
       "    </tr>\n",
       "    <tr>\n",
       "      <th>6</th>\n",
       "      <td>M</td>\n",
       "      <td>14</td>\n",
       "    </tr>\n",
       "    <tr>\n",
       "      <th>7</th>\n",
       "      <td>M</td>\n",
       "      <td>18</td>\n",
       "    </tr>\n",
       "    <tr>\n",
       "      <th>8</th>\n",
       "      <td>F</td>\n",
       "      <td>40</td>\n",
       "    </tr>\n",
       "    <tr>\n",
       "      <th>9</th>\n",
       "      <td>F</td>\n",
       "      <td>27</td>\n",
       "    </tr>\n",
       "    <tr>\n",
       "      <th>10</th>\n",
       "      <td>M</td>\n",
       "      <td>52</td>\n",
       "    </tr>\n",
       "  </tbody>\n",
       "</table>\n",
       "</div>"
      ],
      "text/plain": [
       "   Gender Age\n",
       "ID           \n",
       "1       F  13\n",
       "2       F  51\n",
       "3       F  10\n",
       "4       M  38\n",
       "5       F  55\n",
       "6       M  14\n",
       "7       M  18\n",
       "8       F  40\n",
       "9       F  27\n",
       "10      M  52"
      ]
     },
     "execution_count": 25,
     "metadata": {},
     "output_type": "execute_result"
    }
   ],
   "source": [
    "# [연습문제] id, gender, age 컬럼에 대하여\n",
    "# 의미있는 값으로 변환하여 3개의 컬럼으로 구성된 데이터프레임을 출력하라.\n",
    "\n",
    "ID = pd.Series(np.arange(1,11))\n",
    "gender = pd.Series(np.random.choice(['F','M'],10))\n",
    "age = pd.Series(np.random.randint(10,59,10))\n",
    "\n",
    "df = pd.DataFrame([ID,gender,age]).T\n",
    "df.columns=['ID','Gender','Age']\n",
    "df.set_index('ID',inplace=True)\n",
    "df"
   ]
  },
  {
   "cell_type": "code",
   "execution_count": 29,
   "id": "58ce2334",
   "metadata": {},
   "outputs": [
    {
     "name": "stdout",
     "output_type": "stream",
     "text": [
      "[[[ 0  1  2  3]\n",
      "  [ 8  9 10 11]]\n",
      "\n",
      " [[ 4  5  6  7]\n",
      "  [12 13 14 15]]] (2, 2, 4)\n"
     ]
    }
   ],
   "source": [
    "# [과제] 아래 배열에서 3차원과 2차원을 변경하여 출력하세요.\n",
    "# (완료 후 shape 확인)\n",
    "arr = np.arange(16).reshape(2,2,4)\n",
    "ar = np.transpose(arr,(1,0,2))\n",
    "print(ar,ar.shape)"
   ]
  },
  {
   "cell_type": "code",
   "execution_count": 31,
   "id": "fd9b5298",
   "metadata": {},
   "outputs": [
    {
     "name": "stdout",
     "output_type": "stream",
     "text": [
      "[[[ 0  4]\n",
      "  [ 1  5]\n",
      "  [ 2  6]\n",
      "  [ 3  7]]\n",
      "\n",
      " [[ 8 12]\n",
      "  [ 9 13]\n",
      "  [10 14]\n",
      "  [11 15]]] (2, 4, 2)\n"
     ]
    }
   ],
   "source": [
    "# [과제] 상기 과제의 arr에서 2차원과 1차원을 변경하여 출력하세요.\n",
    "arr = np.arange(16).reshape(2,2,4)\n",
    "ar = np.transpose(arr,(0,2,1))\n",
    "print(ar,ar.shape)"
   ]
  },
  {
   "cell_type": "code",
   "execution_count": 37,
   "id": "af9b09a8",
   "metadata": {},
   "outputs": [
    {
     "data": {
      "text/plain": [
       "array([[0., 0., 0., 0., 0., 0., 0., 0., 0.],\n",
       "       [0., 0., 0., 0., 0., 0., 0., 0., 0.],\n",
       "       [0., 0., 1., 1., 1., 1., 1., 0., 0.],\n",
       "       [0., 0., 1., 1., 1., 1., 1., 0., 0.],\n",
       "       [0., 0., 1., 1., 1., 1., 1., 0., 0.],\n",
       "       [0., 0., 1., 1., 1., 1., 1., 0., 0.],\n",
       "       [0., 0., 1., 1., 1., 1., 1., 0., 0.],\n",
       "       [0., 0., 0., 0., 0., 0., 0., 0., 0.],\n",
       "       [0., 0., 0., 0., 0., 0., 0., 0., 0.]])"
      ]
     },
     "execution_count": 37,
     "metadata": {},
     "output_type": "execute_result"
    }
   ],
   "source": [
    "# [과제] np.ones((5,5))를 아래와 같이 출력하세요.\n",
    "# array([[0., 0., 0., 0., 0., 0., 0., 0., 0.],\n",
    "#        [0., 0., 0., 0., 0., 0., 0., 0., 0.],\n",
    "#        [0., 0., 1., 1., 1., 1., 1., 0., 0.],\n",
    "#        [0., 0., 1., 1., 1., 1., 1., 0., 0.],\n",
    "#        [0., 0., 1., 1., 1., 1., 1., 0., 0.],\n",
    "#        [0., 0., 1., 1., 1., 1., 1., 0., 0.],\n",
    "#        [0., 0., 1., 1., 1., 1., 1., 0., 0.],\n",
    "#        [0., 0., 0., 0., 0., 0., 0., 0., 0.],\n",
    "#        [0., 0., 0., 0., 0., 0., 0., 0., 0.]])\n",
    "\n",
    "a = np.ones((5,5))\n",
    "a0 = np.pad(a,(2,2),'constant',constant_values=0)\n",
    "a0"
   ]
  },
  {
   "cell_type": "code",
   "execution_count": 42,
   "id": "ac69a330",
   "metadata": {},
   "outputs": [
    {
     "data": {
      "text/plain": [
       "array([[0., 1., 0., 1., 0., 1., 0., 1.],\n",
       "       [1., 0., 1., 0., 1., 0., 1., 0.],\n",
       "       [0., 1., 0., 1., 0., 1., 0., 1.],\n",
       "       [1., 0., 1., 0., 1., 0., 1., 0.],\n",
       "       [0., 1., 0., 1., 0., 1., 0., 1.],\n",
       "       [1., 0., 1., 0., 1., 0., 1., 0.],\n",
       "       [0., 1., 0., 1., 0., 1., 0., 1.],\n",
       "       [1., 0., 1., 0., 1., 0., 1., 0.]])"
      ]
     },
     "execution_count": 42,
     "metadata": {},
     "output_type": "execute_result"
    }
   ],
   "source": [
    "# [과제] np.zeros((8,8))을 이용해서 아래와 같이 출력하세요.\n",
    "# 2가지 방식: 인덱싱, tile 함수\n",
    "# array([[0, 1, 0, 1, 0, 1, 0, 1],\n",
    "#        [1, 0, 1, 0, 1, 0, 1, 0],\n",
    "#        [0, 1, 0, 1, 0, 1, 0, 1],\n",
    "#        [1, 0, 1, 0, 1, 0, 1, 0],\n",
    "#        [0, 1, 0, 1, 0, 1, 0, 1],\n",
    "#        [1, 0, 1, 0, 1, 0, 1, 0],\n",
    "#        [0, 1, 0, 1, 0, 1, 0, 1],\n",
    "#        [1, 0, 1, 0, 1, 0, 1, 0]])\n",
    "\n",
    "a = np.zeros((8,8))\n",
    "b = np.tile([0,1],4)\n",
    "c = np.tile([1,0],4)\n",
    "a[[0,2,4,6]] = b\n",
    "a[[1,3,5,7]] = c\n",
    "a"
   ]
  },
  {
   "cell_type": "code",
   "execution_count": 46,
   "id": "2124bbf5",
   "metadata": {},
   "outputs": [
    {
     "data": {
      "text/plain": [
       "array([[0., 0., 0., 0., 0.],\n",
       "       [1., 0., 0., 0., 0.],\n",
       "       [0., 2., 0., 0., 0.],\n",
       "       [0., 0., 3., 0., 0.],\n",
       "       [0., 0., 0., 4., 0.]])"
      ]
     },
     "execution_count": 46,
     "metadata": {},
     "output_type": "execute_result"
    }
   ],
   "source": [
    "# [도전과제] np.arange(4)를 이용해서 아래와 같이 출력하세요.\n",
    "# array([[0, 0, 0, 0, 0],\n",
    "#        [1, 0, 0, 0, 0],\n",
    "#        [0, 2, 0, 0, 0],\n",
    "#        [0, 0, 3, 0, 0],\n",
    "#        [0, 0, 0, 4, 0]])\n",
    "\n",
    "a = np.eye(4,4)\n",
    "b = np.arange(1,5)\n",
    "a = a*b\n",
    "a = np.append(np.zeros((1,4)),a,axis=0)\n",
    "a = np.append(a,np.zeros((5,1)),axis=1)\n",
    "a"
   ]
  },
  {
   "cell_type": "code",
   "execution_count": 50,
   "id": "3c78ec27",
   "metadata": {},
   "outputs": [
    {
     "data": {
      "text/plain": [
       "(array([1], dtype=int64), array([5], dtype=int64), array([3], dtype=int64))"
      ]
     },
     "execution_count": 50,
     "metadata": {},
     "output_type": "execute_result"
    }
   ],
   "source": [
    "# [도전과제] np.arange(336).reshape(6,7,8)에서 100번째 요소의 인덱스를 구하세요.\n",
    "a = np.arange(336).reshape(6,7,-1)\n",
    "np.where(a==99)"
   ]
  },
  {
   "cell_type": "code",
   "execution_count": 59,
   "id": "25928e70",
   "metadata": {},
   "outputs": [
    {
     "data": {
      "text/plain": [
       "array([[  1,   2,   3,   4,   5,   6,   7,   8,   9,  10],\n",
       "       [ 20,  19,  18,  17,  16,  15,  14,  13,  12,  11],\n",
       "       [ 21,  22,  23,  24,  25,  26,  27,  28,  29,  30],\n",
       "       [ 40,  39,  38,  37,  36,  35,  34,  33,  32,  31],\n",
       "       [ 41,  42,  43,  44,  45,  46,  47,  48,  49,  50],\n",
       "       [ 60,  59,  58,  57,  56,  55,  54,  53,  52,  51],\n",
       "       [ 61,  62,  63,  64,  65,  66,  67,  68,  69,  70],\n",
       "       [ 80,  79,  78,  77,  76,  75,  74,  73,  72,  71],\n",
       "       [ 81,  82,  83,  84,  85,  86,  87,  88,  89,  90],\n",
       "       [100,  99,  98,  97,  96,  95,  94,  93,  92,  91]])"
      ]
     },
     "execution_count": 59,
     "metadata": {},
     "output_type": "execute_result"
    }
   ],
   "source": [
    "# [연습문제] 1~100을 아래와 같이 출력해 보세요\n",
    "#[[  1   2   3   4   5   6   7   8   9  10]\n",
    "# [ 20  19  18  17  16  15  14  13  12  11]\n",
    "# [ 21  22  23  24  25  26  27  28  29  30]\n",
    "# [ 40  39  38  37  36  35  34  33  32  31]\n",
    "# [ 41  42  43  44  45  46  47  48  49  50]\n",
    "# [ 60  59  58  57  56  55  54  53  52  51]\n",
    "# [ 61  62  63  64  65  66  67  68  69  70]\n",
    "# [ 80  79  78  77  76  75  74  73  72  71]\n",
    "# [ 81  82  83  84  85  86  87  88  89  90]\n",
    "# [100  99  98  97  96  95  94  93  92  91]] <class 'numpy.ndarray'>\n",
    "\n",
    "a = np.arange(1,101).reshape(10,-1)\n",
    "a[[1,3,5,7,9]]=a[[1,3,5,7,9],::-1]\n",
    "a"
   ]
  },
  {
   "cell_type": "code",
   "execution_count": 69,
   "id": "e3dc0147",
   "metadata": {},
   "outputs": [
    {
     "data": {
      "text/plain": [
       "array([[ 2.        , -0.17184081, -1.50639955, -0.50034691],\n",
       "       [-0.67990045,  2.        ,  2.        , -1.43837135],\n",
       "       [-0.14632677,  2.        , -0.09876695,  2.        ],\n",
       "       [-0.69429111,  2.        , -1.60987775, -0.85351637]])"
      ]
     },
     "execution_count": 69,
     "metadata": {},
     "output_type": "execute_result"
    }
   ],
   "source": [
    "# [연습문제] arr의 모든 양수를 2로 바꿔보자.\n",
    "arr = np.random.randn(4,4)\n",
    "np.where(arr>0,2,arr)"
   ]
  },
  {
   "cell_type": "code",
   "execution_count": 71,
   "id": "552c2001",
   "metadata": {},
   "outputs": [
    {
     "data": {
      "text/plain": [
       "array([1., 0., 1., 0., 1., 0., 1., 0., 1., 0.])"
      ]
     },
     "execution_count": 71,
     "metadata": {},
     "output_type": "execute_result"
    }
   ],
   "source": [
    "# [연습문제] 인덱싱을 사용하여 [1 0 1 0 1 0 1 0 1 0]을 출력하세요.\n",
    "a = np.ones(10)\n",
    "a[[1,3,5,7,9]] = 0\n",
    "a"
   ]
  },
  {
   "cell_type": "code",
   "execution_count": 86,
   "id": "8719a50a",
   "metadata": {},
   "outputs": [
    {
     "data": {
      "text/plain": [
       "array([3, 9, 8])"
      ]
     },
     "metadata": {},
     "output_type": "display_data"
    },
    {
     "data": {
      "text/plain": [
       "9"
      ]
     },
     "metadata": {},
     "output_type": "display_data"
    },
    {
     "data": {
      "text/plain": [
       "1"
      ]
     },
     "metadata": {},
     "output_type": "display_data"
    },
    {
     "data": {
      "text/plain": [
       "7"
      ]
     },
     "metadata": {},
     "output_type": "display_data"
    },
    {
     "data": {
      "text/plain": [
       "0"
      ]
     },
     "metadata": {},
     "output_type": "display_data"
    },
    {
     "data": {
      "text/plain": [
       "array([8, 6, 2, 4, 7, 5, 3, 0, 1], dtype=int64)"
      ]
     },
     "metadata": {},
     "output_type": "display_data"
    },
    {
     "data": {
      "text/plain": [
       "array([8, 9, 3, 7, 4, 6, 2, 5, 1])"
      ]
     },
     "execution_count": 86,
     "metadata": {},
     "output_type": "execute_result"
    }
   ],
   "source": [
    "# [연습문제] a = np.arange(10)에서 [6,7,8,9]처럼 출력하세요\n",
    "# [연습문제] a에서 최대값, 최소값 출력\n",
    "# [연습문제] a에서 최대값, 최소값의 인덱스도 출력해 보자.\n",
    "# [연습문제] a에서 인덱스 배열을 역순으로 출력하세요.\n",
    "a = np.array([1,5,2,6,4,7,3,9,8])\n",
    "display(a[6:], a.max(),a.min(),np.argmax(a),np.argmin(a),np.argsort(a[::-1]))"
   ]
  },
  {
   "cell_type": "code",
   "execution_count": 104,
   "id": "f81a2571",
   "metadata": {},
   "outputs": [
    {
     "data": {
      "text/plain": [
       "array([[1., 1., 1., 1., 1., 1., 1., 1., 1., 1.],\n",
       "       [1., 0., 0., 0., 0., 0., 0., 0., 0., 1.],\n",
       "       [1., 0., 0., 0., 0., 0., 0., 0., 0., 1.],\n",
       "       [1., 0., 0., 0., 0., 0., 0., 0., 0., 1.],\n",
       "       [1., 0., 0., 0., 0., 0., 0., 0., 0., 1.],\n",
       "       [1., 0., 0., 0., 0., 0., 0., 0., 0., 1.],\n",
       "       [1., 0., 0., 0., 0., 0., 0., 0., 0., 1.],\n",
       "       [1., 0., 0., 0., 0., 0., 0., 0., 0., 1.],\n",
       "       [1., 0., 0., 0., 0., 0., 0., 0., 0., 1.],\n",
       "       [1., 1., 1., 1., 1., 1., 1., 1., 1., 1.]])"
      ]
     },
     "execution_count": 104,
     "metadata": {},
     "output_type": "execute_result"
    }
   ],
   "source": [
    "# [연습문제] np.ones((10,10))을 아래와 같이 출력하세요.\n",
    "# array([[1., 1., 1., 1., 1., 1., 1., 1., 1., 1.],\n",
    "#        [1., 0., 0., 0., 0., 0., 0., 0., 0., 1.],\n",
    "#        [1., 0., 0., 0., 0., 0., 0., 0., 0., 1.],\n",
    "#        [1., 0., 0., 0., 0., 0., 0., 0., 0., 1.],\n",
    "#        [1., 0., 0., 0., 0., 0., 0., 0., 0., 1.],\n",
    "#        [1., 0., 0., 0., 0., 0., 0., 0., 0., 1.],\n",
    "#        [1., 0., 0., 0., 0., 0., 0., 0., 0., 1.],\n",
    "#        [1., 0., 0., 0., 0., 0., 0., 0., 0., 1.],\n",
    "#        [1., 0., 0., 0., 0., 0., 0., 0., 0., 1.],\n",
    "#        [1., 1., 1., 1., 1., 1., 1., 1., 1., 1.]])\n",
    "a = np.ones((10,10))\n",
    "a[1:9,1:9] = np.zeros((8,8))\n",
    "a"
   ]
  },
  {
   "cell_type": "code",
   "execution_count": 105,
   "id": "b02b9f8f",
   "metadata": {},
   "outputs": [
    {
     "data": {
      "text/plain": [
       "array([1, 2, 3])"
      ]
     },
     "metadata": {},
     "output_type": "display_data"
    },
    {
     "data": {
      "text/plain": [
       "array([1.2, 2.3, 3. ])"
      ]
     },
     "metadata": {},
     "output_type": "display_data"
    }
   ],
   "source": [
    "# [연습문제] 정수와 실수로 구성된 list_e = [1.2,2.3,3]을\n",
    "# numpy를 이용하여 실수형과 정수형으로 각각 출력하세요.\n",
    "list_e = [1.2,2.3,3]\n",
    "e = np.array(list_e)\n",
    "display(e.astype(int),e.astype(float))"
   ]
  },
  {
   "cell_type": "code",
   "execution_count": 111,
   "id": "0c159f71",
   "metadata": {},
   "outputs": [
    {
     "data": {
      "text/plain": [
       "array([3, 6])"
      ]
     },
     "metadata": {},
     "output_type": "display_data"
    },
    {
     "data": {
      "text/plain": [
       "array([[1, 2],\n",
       "       [4, 5]])"
      ]
     },
     "metadata": {},
     "output_type": "display_data"
    },
    {
     "data": {
      "text/plain": [
       "array([[1, 2, 3],\n",
       "       [4, 5, 6]])"
      ]
     },
     "metadata": {},
     "output_type": "display_data"
    }
   ],
   "source": [
    "# [연습문제] 2차원 배열 ar2d에서 [3,6],[[1,2],[4,5]]를 각각 출력하세요.\n",
    "# [연습문제] 2차원 배열 ar2d를 다른 방식으로 아래와 같이 출력하세요.\n",
    "# [[1,2,3]\n",
    "#  [4,5,6]]\n",
    "ar2d = np.arange(1,10).reshape(3,-1)\n",
    "display(ar2d[0:2,2],ar2d[0:2,0:2],ar2d[0:2,:])"
   ]
  },
  {
   "cell_type": "code",
   "execution_count": 112,
   "id": "d8fa0490",
   "metadata": {},
   "outputs": [
    {
     "data": {
      "text/plain": [
       "array([6, 7, 8, 9])"
      ]
     },
     "metadata": {},
     "output_type": "display_data"
    },
    {
     "data": {
      "text/plain": [
       "array([6, 7, 8, 9])"
      ]
     },
     "metadata": {},
     "output_type": "display_data"
    }
   ],
   "source": [
    "# [연습문제] ar1d에서 일반 인덱스와 불린을 이용해 각각 [6,7,8,9]를 출력해 보세요.\n",
    "ar1d = np.arange(1,10)\n",
    "display(ar1d[5:],ar1d[ar1d>5])"
   ]
  },
  {
   "cell_type": "code",
   "execution_count": 113,
   "id": "34b907da",
   "metadata": {},
   "outputs": [
    {
     "data": {
      "text/plain": [
       "array([11, 12, 13, 14])"
      ]
     },
     "execution_count": 113,
     "metadata": {},
     "output_type": "execute_result"
    }
   ],
   "source": [
    "# [연습문제] 1~14까지의 ndarray를 만들어 array_e로 저장하고\n",
    "# (array_e/2)>5를 만족하는 값을 불린 인덱싱으로 출력\n",
    "array_e = np.arange(1,15)\n",
    "array_e[array_e/2 >5]"
   ]
  }
 ],
 "metadata": {
  "kernelspec": {
   "display_name": "Python 3 (ipykernel)",
   "language": "python",
   "name": "python3"
  },
  "language_info": {
   "codemirror_mode": {
    "name": "ipython",
    "version": 3
   },
   "file_extension": ".py",
   "mimetype": "text/x-python",
   "name": "python",
   "nbconvert_exporter": "python",
   "pygments_lexer": "ipython3",
   "version": "3.8.12"
  }
 },
 "nbformat": 4,
 "nbformat_minor": 5
}
