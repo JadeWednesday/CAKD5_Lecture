{
 "cells": [
  {
   "cell_type": "markdown",
   "id": "e20d7117",
   "metadata": {},
   "source": [
    "## 판다스(Pandas)\n",
    "- 판다스는 구조화된 데이터 형식을 제공<br>\n",
    "    시리즈는 1차원 배열, 데이터프레임은 2차원 배열\n",
    "- 라이브러리는 여러 종류의 class와 다양한 내장 함수로 구성<br>\n",
    "    시리즈와 데이터프레임은 대표적인 클래스 객체\n",
    "- 시리즈 인덱스는 데이터 값과 일대일 대응<br>\n",
    "    파이썬 딕셔너리와 비슷한 구조<br>\n",
    "    pandas.Series(딕셔너리)<br>\n",
    "    ex) pd.Series({'빨강':247,'파랑':146,'초록':136})\n",
    "- Contents\n",
    "    - Series(변환, 인덱스 구조, 원소 선택)\n",
    "    - DataFrame(변환, 인덱스, 삭제, 선택, 추가, 변경, 전치 등)"
   ]
  },
  {
   "cell_type": "code",
   "execution_count": 1,
   "id": "4f93141e",
   "metadata": {},
   "outputs": [],
   "source": [
    "import numpy as np\n",
    "import pandas as pd"
   ]
  },
  {
   "cell_type": "code",
   "execution_count": 15,
   "id": "e24e0218",
   "metadata": {
    "scrolled": true
   },
   "outputs": [
    {
     "name": "stdout",
     "output_type": "stream",
     "text": [
      "a    1\n",
      "b    2\n",
      "c    3\n",
      "dtype: int64 <class 'pandas.core.series.Series'>\n"
     ]
    }
   ],
   "source": [
    "# 시리즈 클래스 만들기 - 딕셔너리를 시리즈로 변환\n",
    "dic_data = {'a':1,'b':2,'c':3}\n",
    "sr = pd.Series(dic_data)\n",
    "print(sr, type(sr))"
   ]
  },
  {
   "cell_type": "code",
   "execution_count": 16,
   "id": "0be26d98",
   "metadata": {},
   "outputs": [
    {
     "data": {
      "text/html": [
       "<div>\n",
       "<style scoped>\n",
       "    .dataframe tbody tr th:only-of-type {\n",
       "        vertical-align: middle;\n",
       "    }\n",
       "\n",
       "    .dataframe tbody tr th {\n",
       "        vertical-align: top;\n",
       "    }\n",
       "\n",
       "    .dataframe thead th {\n",
       "        text-align: right;\n",
       "    }\n",
       "</style>\n",
       "<table border=\"1\" class=\"dataframe\">\n",
       "  <thead>\n",
       "    <tr style=\"text-align: right;\">\n",
       "      <th></th>\n",
       "      <th>0</th>\n",
       "    </tr>\n",
       "  </thead>\n",
       "  <tbody>\n",
       "    <tr>\n",
       "      <th>1</th>\n",
       "      <td>a</td>\n",
       "    </tr>\n",
       "    <tr>\n",
       "      <th>2</th>\n",
       "      <td>b</td>\n",
       "    </tr>\n",
       "    <tr>\n",
       "      <th>3</th>\n",
       "      <td>c</td>\n",
       "    </tr>\n",
       "  </tbody>\n",
       "</table>\n",
       "</div>"
      ],
      "text/plain": [
       "   0\n",
       "1  a\n",
       "2  b\n",
       "3  c"
      ]
     },
     "execution_count": 16,
     "metadata": {},
     "output_type": "execute_result"
    }
   ],
   "source": [
    "dic = {1:'a',2:'b',3:'c'}\n",
    "ds = pd.Series(dic) # 이건 시리즈\n",
    "df = pd.DataFrame(ds) # 이건 시리즈로 만든 데이터프레임\n",
    "df"
   ]
  },
  {
   "cell_type": "code",
   "execution_count": 8,
   "id": "a02eeace",
   "metadata": {},
   "outputs": [
    {
     "name": "stdout",
     "output_type": "stream",
     "text": [
      "0    2021-01-12\n",
      "1          3.14\n",
      "2          F732\n",
      "3             4\n",
      "4          True\n",
      "dtype: object <class 'pandas.core.series.Series'> \n",
      "\n",
      "1번    2021-01-12\n",
      "2번          3.14\n",
      "3번          F732\n",
      "4번             4\n",
      "5번          True\n",
      "dtype: object <class 'pandas.core.series.Series'>\n",
      "Index(['1번', '2번', '3번', '4번', '5번'], dtype='object') \n",
      " ['2021-01-12' 3.14 'F732' 4 True]\n"
     ]
    }
   ],
   "source": [
    "# 시리즈 클래스 만들기 - 리스트를 시리즈로 변환\n",
    "# 딕셔너리가 아닌 리스트는 인덱스가 없기 때문에 따로 지정 안 하면 일반 인덱스가 나옴\n",
    "li_data = ['2021-01-12',3.14,\"F732\",4,True]\n",
    "sr = pd.Series(li_data)\n",
    "print(sr, type(sr),'\\n')\n",
    "\n",
    "sr = pd.Series(li_data,index=['1번','2번','3번','4번','5번'])\n",
    "print(sr, type(sr))\n",
    "print(sr.index,'\\n',sr.values)"
   ]
  },
  {
   "cell_type": "code",
   "execution_count": 9,
   "id": "cfd97907",
   "metadata": {},
   "outputs": [
    {
     "name": "stdout",
     "output_type": "stream",
     "text": [
      "이름               김점순\n",
      "생일        1989-08-31\n",
      "성별                 여\n",
      "감자 좋아함          True\n",
      "dtype: object <class 'pandas.core.series.Series'>\n",
      "김점순 김점순\n",
      "생일    1989-08-31\n",
      "성별             여\n",
      "dtype: object \n",
      " 생일        1989-08-31\n",
      "감자 좋아함          True\n",
      "dtype: object\n"
     ]
    }
   ],
   "source": [
    "# 시리즈 클래스 만들기 - 튜플을 시리즈로 변환\n",
    "tp_data = ('김점순','1989-08-31','여',True)\n",
    "sr = pd.Series(tp_data,index=['이름','생일','성별','감자 좋아함'])\n",
    "print(sr,type(sr))\n",
    "print(sr[0],sr['이름'])\n",
    "print(sr[1:3],'\\n',sr[[1,3]]) # 슬라이싱이 아닌 추출을 하려면 리스트[]로 묶어줘야 함"
   ]
  },
  {
   "cell_type": "code",
   "execution_count": 34,
   "id": "1447b6bd",
   "metadata": {
    "scrolled": true
   },
   "outputs": [
    {
     "name": "stdout",
     "output_type": "stream",
     "text": [
      "쥐      1984\n",
      "소      1985\n",
      "호랑이    1986\n",
      "토끼     1987\n",
      "용      1988\n",
      "뱀      1989\n",
      "말      1990\n",
      "양      1991\n",
      "원숭이    1992\n",
      "닭      1993\n",
      "개      1994\n",
      "돼지     1995\n",
      "dtype: int32 <class 'pandas.core.series.Series'>\n"
     ]
    }
   ],
   "source": [
    "# 시리즈 클래스 만들기 - 배열을 시리즈로 변환\n",
    "ar_data = np.arange(1984,1996)\n",
    "sr = pd.Series(ar_data,index=['쥐','소','호랑이','토끼','용','뱀',\n",
    "                              '말','양','원숭이','닭','개','돼지'])\n",
    "print(sr,type(sr))"
   ]
  },
  {
   "cell_type": "code",
   "execution_count": 11,
   "id": "c4dc69f0",
   "metadata": {
    "scrolled": true
   },
   "outputs": [
    {
     "data": {
      "text/plain": [
       "array([123, 231, 132], dtype=int64)"
      ]
     },
     "execution_count": 11,
     "metadata": {},
     "output_type": "execute_result"
    }
   ],
   "source": [
    "# 번외 - 시리즈를 배열로 변환\n",
    "# 인덱스는 빼고 값만 나온다\n",
    "sr = pd.Series({'빨강':123,'파랑':231,'초록':132})\n",
    "arr = np.array(sr)\n",
    "arr"
   ]
  },
  {
   "cell_type": "code",
   "execution_count": 41,
   "id": "51ed665a",
   "metadata": {},
   "outputs": [
    {
     "name": "stdout",
     "output_type": "stream",
     "text": [
      "1번    2\n",
      "2번    3\n",
      "3번    4\n",
      "4번    5\n",
      "dtype: int64\n",
      "1번     True\n",
      "2번    False\n",
      "3번     True\n",
      "4번     True\n",
      "dtype: bool\n",
      "김첨지    설렁탕\n",
      "점순이     감자\n",
      "나      아달린\n",
      "dtype: object\n",
      "1번    살바도르\n",
      "2번     빈센트\n",
      "3번     파블로\n",
      "4번    램브란트\n",
      "dtype: object\n"
     ]
    }
   ],
   "source": [
    "# [연습문제] 4가지 자료형 데이터를 생성하고 각 자료형을 시리즈로 변환하세요.\n",
    "\n",
    "lidata = [2,3,4,5]\n",
    "tudata = (True,False,True,True)\n",
    "dicdata = {'김첨지':'설렁탕','점순이':'감자','나':'아달린'}\n",
    "arrdata = np.array(['살바도르','빈센트','파블로','램브란트'])\n",
    "index = ['1번','2번','3번','4번']\n",
    "\n",
    "li = pd.Series(lidata,index)\n",
    "tu = pd.Series(tudata,index)\n",
    "dic = pd.Series(dicdata)\n",
    "arr = pd.Series(arrdata,index)\n",
    "\n",
    "print(li)\n",
    "print(tu)\n",
    "print(dic)\n",
    "print(arr)"
   ]
  },
  {
   "cell_type": "code",
   "execution_count": 14,
   "id": "5b78b00c",
   "metadata": {},
   "outputs": [
    {
     "data": {
      "text/plain": [
       "state\n",
       "California    1000\n",
       "Ohio          2000\n",
       "Oregon        3000\n",
       "Maine         4000\n",
       "Texas         5000\n",
       "Name: population, dtype: int32"
      ]
     },
     "metadata": {},
     "output_type": "display_data"
    },
    {
     "data": {
      "text/html": [
       "<div>\n",
       "<style scoped>\n",
       "    .dataframe tbody tr th:only-of-type {\n",
       "        vertical-align: middle;\n",
       "    }\n",
       "\n",
       "    .dataframe tbody tr th {\n",
       "        vertical-align: top;\n",
       "    }\n",
       "\n",
       "    .dataframe thead th {\n",
       "        text-align: right;\n",
       "    }\n",
       "</style>\n",
       "<table border=\"1\" class=\"dataframe\">\n",
       "  <thead>\n",
       "    <tr style=\"text-align: right;\">\n",
       "      <th></th>\n",
       "      <th>population</th>\n",
       "    </tr>\n",
       "    <tr>\n",
       "      <th>state</th>\n",
       "      <th></th>\n",
       "    </tr>\n",
       "  </thead>\n",
       "  <tbody>\n",
       "    <tr>\n",
       "      <th>California</th>\n",
       "      <td>1000</td>\n",
       "    </tr>\n",
       "    <tr>\n",
       "      <th>Ohio</th>\n",
       "      <td>2000</td>\n",
       "    </tr>\n",
       "    <tr>\n",
       "      <th>Oregon</th>\n",
       "      <td>3000</td>\n",
       "    </tr>\n",
       "    <tr>\n",
       "      <th>Maine</th>\n",
       "      <td>4000</td>\n",
       "    </tr>\n",
       "    <tr>\n",
       "      <th>Texas</th>\n",
       "      <td>5000</td>\n",
       "    </tr>\n",
       "  </tbody>\n",
       "</table>\n",
       "</div>"
      ],
      "text/plain": [
       "            population\n",
       "state                 \n",
       "California        1000\n",
       "Ohio              2000\n",
       "Oregon            3000\n",
       "Maine             4000\n",
       "Texas             5000"
      ]
     },
     "metadata": {},
     "output_type": "display_data"
    },
    {
     "name": "stdout",
     "output_type": "stream",
     "text": [
      "state\n",
      "California       NaN\n",
      "Ohio          2000.0\n",
      "Oregon        3000.0\n",
      "Maine         4000.0\n",
      "Texas         5000.0\n",
      "Name: population, dtype: float64\n"
     ]
    },
    {
     "data": {
      "text/plain": [
       "state\n",
       "California     True\n",
       "Ohio          False\n",
       "Oregon        False\n",
       "Maine         False\n",
       "Texas         False\n",
       "Name: population, dtype: bool"
      ]
     },
     "metadata": {},
     "output_type": "display_data"
    },
    {
     "data": {
      "text/plain": [
       "1"
      ]
     },
     "metadata": {},
     "output_type": "display_data"
    }
   ],
   "source": [
    "# Null 값\n",
    "data = np.arange(1000,6000,1000)\n",
    "obj = pd.Series(data)\n",
    "state = ['California','Ohio','Oregon','Maine','Texas']\n",
    "obj.name = 'population'\n",
    "obj.index = state\n",
    "obj.index.name = 'state'\n",
    "display(obj,pd.DataFrame(obj))\n",
    "\n",
    "obj.California = np.nan # obj['California'] = np.nan 으로 써도 됨.\n",
    "# 전자는 안 되는 경우가 있는데(신규 생성), 아래에 기술\n",
    "print(obj)\n",
    "display(obj.isnull(), obj.isnull().sum())"
   ]
  },
  {
   "cell_type": "code",
   "execution_count": 54,
   "id": "b0b5f1af",
   "metadata": {},
   "outputs": [
    {
     "name": "stdout",
     "output_type": "stream",
     "text": [
      "state\n",
      "California       NaN\n",
      "Ohio          2000.0\n",
      "Oregon        3000.0\n",
      "Maine         4000.0\n",
      "Texas         5000.0\n",
      "Name: population, dtype: float64\n",
      "state\n",
      "California       NaN\n",
      "Ohio          2000.0\n",
      "Oregon        3000.0\n",
      "Maine         4000.0\n",
      "Texas         5000.0\n",
      "Newyork       3500.0\n",
      "Name: population, dtype: float64\n"
     ]
    }
   ],
   "source": [
    "obj.Newyork = 3500 # 이러면 데이터프레임에 안 들어가짐\n",
    "print(obj)\n",
    "obj['Newyork'] = 3500 # 이렇게 하면 들어가짐. 전에 이거 한 번 한 적 있다.\n",
    "print(obj)"
   ]
  },
  {
   "cell_type": "markdown",
   "id": "49d7f528",
   "metadata": {},
   "source": [
    "## 데이터프레임\n",
    "- 데이터프레임은 2차원 배열<br>\n",
    "    R의 데이터프레임에서 유래\n",
    "- 데이터프레임의 열은 각각 시리즈 개체\n",
    "- 시리즈가 열 벡터라면<br>\n",
    "    데이터 프레임은 여러 개의 열 벡터들이 같은 행 인덱스를 기준으로<br>\n",
    "    줄지어 결합된 2차원 벡터 또는 행렬\n",
    "- 선형대수학에서 열 벡터(mx1 행렬(m,1))는 m 원소들의 단일 열 행렬 - 하나의 시리즈<br>\n",
    "    행 벡터(1xm 행렬(1,m))는 m 원소들의 단일 행 행렬 - 하나의 관측치\n",
    "- 리스트, 딕셔너리, 배열 등 다양한 데이터로부터 생성 가능\n",
    "- 반대로 리스트, 딕셔너리, 배열 등으로 변환할 수 있다<br>\n",
    "    (이 때에는 인덱스와 분리되어 하나의 시리즈 값으로 출력)"
   ]
  },
  {
   "cell_type": "code",
   "execution_count": 62,
   "id": "7d758029",
   "metadata": {
    "scrolled": true
   },
   "outputs": [
    {
     "name": "stdout",
     "output_type": "stream",
     "text": [
      "[[110 102 105]\n",
      " [113 112 106]\n",
      " [116 104 117]]\n",
      "<class 'numpy.ndarray'> <class 'pandas.core.frame.DataFrame'>\n"
     ]
    },
    {
     "data": {
      "text/html": [
       "<div>\n",
       "<style scoped>\n",
       "    .dataframe tbody tr th:only-of-type {\n",
       "        vertical-align: middle;\n",
       "    }\n",
       "\n",
       "    .dataframe tbody tr th {\n",
       "        vertical-align: top;\n",
       "    }\n",
       "\n",
       "    .dataframe thead th {\n",
       "        text-align: right;\n",
       "    }\n",
       "</style>\n",
       "<table border=\"1\" class=\"dataframe\">\n",
       "  <thead>\n",
       "    <tr style=\"text-align: right;\">\n",
       "      <th></th>\n",
       "      <th>상품</th>\n",
       "      <th>판매량</th>\n",
       "      <th>비고</th>\n",
       "    </tr>\n",
       "  </thead>\n",
       "  <tbody>\n",
       "    <tr>\n",
       "      <th>D1</th>\n",
       "      <td>110</td>\n",
       "      <td>102</td>\n",
       "      <td>105</td>\n",
       "    </tr>\n",
       "    <tr>\n",
       "      <th>D2</th>\n",
       "      <td>113</td>\n",
       "      <td>112</td>\n",
       "      <td>106</td>\n",
       "    </tr>\n",
       "    <tr>\n",
       "      <th>D3</th>\n",
       "      <td>116</td>\n",
       "      <td>104</td>\n",
       "      <td>117</td>\n",
       "    </tr>\n",
       "  </tbody>\n",
       "</table>\n",
       "</div>"
      ],
      "text/plain": [
       "     상품  판매량   비고\n",
       "D1  110  102  105\n",
       "D2  113  112  106\n",
       "D3  116  104  117"
      ]
     },
     "execution_count": 62,
     "metadata": {},
     "output_type": "execute_result"
    }
   ],
   "source": [
    "# 배열을 데이터프레임으로 변환\n",
    "\n",
    "ar = np.random.randint(100,120,size=(3,3))\n",
    "print(ar)\n",
    "df = pd.DataFrame(ar,index = ['D1','D2','D3'],\n",
    "                 columns = ['상품','판매량','비고'])\n",
    "print(type(ar),type(df))\n",
    "df"
   ]
  },
  {
   "cell_type": "code",
   "execution_count": 76,
   "id": "a18a9dd8",
   "metadata": {
    "scrolled": true
   },
   "outputs": [
    {
     "name": "stdout",
     "output_type": "stream",
     "text": [
      "상품     113\n",
      "판매량    112\n",
      "비고     106\n",
      "Name: D2, dtype: int32\n",
      "상품     113\n",
      "판매량    112\n",
      "비고     106\n",
      "Name: D2, dtype: int32\n",
      "\n",
      "D1    102\n",
      "D2    112\n",
      "D3    104\n",
      "Name: 판매량, dtype: int32\n",
      "D1    102\n",
      "D2    112\n",
      "D3    104\n",
      "Name: 판매량, dtype: int32\n",
      "\n",
      "105\n",
      "105\n"
     ]
    }
   ],
   "source": [
    "# 행 선택\n",
    "print(df.iloc[1]) # D2(인덱스 1값의 행)\n",
    "print(df.loc['D2']) # 더 직관적\n",
    "print()\n",
    "# 열 선택\n",
    "print(df.iloc[:,1])\n",
    "print(df.loc[:,'판매량'])\n",
    "print()\n",
    "# 행, 열 선택\n",
    "print(df.iloc[0,2])\n",
    "print(df.loc['D1','비고'])"
   ]
  },
  {
   "cell_type": "code",
   "execution_count": 76,
   "id": "ead30743",
   "metadata": {
    "scrolled": true
   },
   "outputs": [
    {
     "name": "stdout",
     "output_type": "stream",
     "text": [
      "상품     113\n",
      "판매량    112\n",
      "비고     106\n",
      "Name: D2, dtype: int32\n",
      "상품     113\n",
      "판매량    112\n",
      "비고     106\n",
      "Name: D2, dtype: int32\n",
      "\n",
      "D1    102\n",
      "D2    112\n",
      "D3    104\n",
      "Name: 판매량, dtype: int32\n",
      "D1    102\n",
      "D2    112\n",
      "D3    104\n",
      "Name: 판매량, dtype: int32\n",
      "\n",
      "105\n",
      "105\n"
     ]
    }
   ],
   "source": [
    "# 행 선택\n",
    "print(df.iloc[1]) # D2(인덱스 1값의 행)\n",
    "print(df.loc['D2']) # 더 직관적\n",
    "print()\n",
    "# 열 선택\n",
    "print(df.iloc[:,1])\n",
    "print(df.loc[:,'판매량'])\n",
    "print()\n",
    "# 행, 열 선택\n",
    "print(df.iloc[0,2])\n",
    "print(df.loc['D1','비고'])"
   ]
  },
  {
   "cell_type": "code",
   "execution_count": 91,
   "id": "f925f9fb",
   "metadata": {
    "scrolled": true
   },
   "outputs": [
    {
     "data": {
      "text/html": [
       "<div>\n",
       "<style scoped>\n",
       "    .dataframe tbody tr th:only-of-type {\n",
       "        vertical-align: middle;\n",
       "    }\n",
       "\n",
       "    .dataframe tbody tr th {\n",
       "        vertical-align: top;\n",
       "    }\n",
       "\n",
       "    .dataframe thead th {\n",
       "        text-align: right;\n",
       "    }\n",
       "</style>\n",
       "<table border=\"1\" class=\"dataframe\">\n",
       "  <thead>\n",
       "    <tr style=\"text-align: right;\">\n",
       "      <th></th>\n",
       "      <th>상품</th>\n",
       "      <th>판매량</th>\n",
       "      <th>비고</th>\n",
       "      <th>광고</th>\n",
       "      <th>신상 여부</th>\n",
       "    </tr>\n",
       "  </thead>\n",
       "  <tbody>\n",
       "    <tr>\n",
       "      <th>D1</th>\n",
       "      <td>110</td>\n",
       "      <td>102.0</td>\n",
       "      <td>105</td>\n",
       "      <td>1</td>\n",
       "      <td>New</td>\n",
       "    </tr>\n",
       "    <tr>\n",
       "      <th>D2</th>\n",
       "      <td>113</td>\n",
       "      <td>112.0</td>\n",
       "      <td>106</td>\n",
       "      <td>0</td>\n",
       "      <td>구제품</td>\n",
       "    </tr>\n",
       "    <tr>\n",
       "      <th>D3</th>\n",
       "      <td>116</td>\n",
       "      <td>104.0</td>\n",
       "      <td>117</td>\n",
       "      <td>0</td>\n",
       "      <td>구제품</td>\n",
       "    </tr>\n",
       "    <tr>\n",
       "      <th>D4</th>\n",
       "      <td>0</td>\n",
       "      <td>NaN</td>\n",
       "      <td>0</td>\n",
       "      <td>1</td>\n",
       "      <td>New</td>\n",
       "    </tr>\n",
       "  </tbody>\n",
       "</table>\n",
       "</div>"
      ],
      "text/plain": [
       "     상품    판매량   비고  광고 신상 여부\n",
       "D1  110  102.0  105   1   New\n",
       "D2  113  112.0  106   0   구제품\n",
       "D3  116  104.0  117   0   구제품\n",
       "D4    0    NaN    0   1   New"
      ]
     },
     "execution_count": 91,
     "metadata": {},
     "output_type": "execute_result"
    }
   ],
   "source": [
    "# 행 추가\n",
    "df1 = df.copy()\n",
    "df1.loc['D4']=0\n",
    "\n",
    "# 열 추가 (2가지 방법을 써보자)\n",
    "df1.loc[:,'광고'] = np.random.randint(2,size=4)\n",
    "df1['신상 여부']=['New','구제품','구제품','New'] # 시리즈 추가\n",
    "\n",
    "# 원소값 변경\n",
    "df1.iloc[3,1] = np.nan\n",
    "df1"
   ]
  },
  {
   "cell_type": "code",
   "execution_count": 99,
   "id": "381a1248",
   "metadata": {},
   "outputs": [
    {
     "data": {
      "text/html": [
       "<div>\n",
       "<style scoped>\n",
       "    .dataframe tbody tr th:only-of-type {\n",
       "        vertical-align: middle;\n",
       "    }\n",
       "\n",
       "    .dataframe tbody tr th {\n",
       "        vertical-align: top;\n",
       "    }\n",
       "\n",
       "    .dataframe thead th {\n",
       "        text-align: right;\n",
       "    }\n",
       "</style>\n",
       "<table border=\"1\" class=\"dataframe\">\n",
       "  <thead>\n",
       "    <tr style=\"text-align: right;\">\n",
       "      <th></th>\n",
       "      <th>col1</th>\n",
       "      <th>col2</th>\n",
       "      <th>col3</th>\n",
       "    </tr>\n",
       "    <tr>\n",
       "      <th>No.</th>\n",
       "      <th></th>\n",
       "      <th></th>\n",
       "      <th></th>\n",
       "    </tr>\n",
       "  </thead>\n",
       "  <tbody>\n",
       "    <tr>\n",
       "      <th>1</th>\n",
       "      <td>1</td>\n",
       "      <td>2</td>\n",
       "      <td>A</td>\n",
       "    </tr>\n",
       "    <tr>\n",
       "      <th>2</th>\n",
       "      <td>3</td>\n",
       "      <td>6</td>\n",
       "      <td>B</td>\n",
       "    </tr>\n",
       "    <tr>\n",
       "      <th>3</th>\n",
       "      <td>5</td>\n",
       "      <td>10</td>\n",
       "      <td>C</td>\n",
       "    </tr>\n",
       "    <tr>\n",
       "      <th>4</th>\n",
       "      <td>7</td>\n",
       "      <td>14</td>\n",
       "      <td>D</td>\n",
       "    </tr>\n",
       "    <tr>\n",
       "      <th>5</th>\n",
       "      <td>9</td>\n",
       "      <td>18</td>\n",
       "      <td>E</td>\n",
       "    </tr>\n",
       "  </tbody>\n",
       "</table>\n",
       "</div>"
      ],
      "text/plain": [
       "     col1  col2 col3\n",
       "No.                 \n",
       "1       1     2    A\n",
       "2       3     6    B\n",
       "3       5    10    C\n",
       "4       7    14    D\n",
       "5       9    18    E"
      ]
     },
     "execution_count": 99,
     "metadata": {},
     "output_type": "execute_result"
    }
   ],
   "source": [
    "# 사전(딕셔너리)을 데이터프레임으로 변환\n",
    "sp1 = np.arange(1,10,2)\n",
    "df = pd.DataFrame({\n",
    "    'col1':sp1,\n",
    "    'col2':sp1*2,\n",
    "    'col3':['A','B','C','D','E']\n",
    "},index=[1,2,3,4,5])\n",
    "df.index.name = 'No.'\n",
    "df"
   ]
  },
  {
   "cell_type": "code",
   "execution_count": 103,
   "id": "6198495b",
   "metadata": {},
   "outputs": [
    {
     "data": {
      "text/html": [
       "<div>\n",
       "<style scoped>\n",
       "    .dataframe tbody tr th:only-of-type {\n",
       "        vertical-align: middle;\n",
       "    }\n",
       "\n",
       "    .dataframe tbody tr th {\n",
       "        vertical-align: top;\n",
       "    }\n",
       "\n",
       "    .dataframe thead th {\n",
       "        text-align: right;\n",
       "    }\n",
       "</style>\n",
       "<table border=\"1\" class=\"dataframe\">\n",
       "  <thead>\n",
       "    <tr style=\"text-align: right;\">\n",
       "      <th></th>\n",
       "      <th>C1</th>\n",
       "      <th>C2</th>\n",
       "      <th>C3</th>\n",
       "      <th>C4</th>\n",
       "      <th>C5</th>\n",
       "    </tr>\n",
       "  </thead>\n",
       "  <tbody>\n",
       "    <tr>\n",
       "      <th>1</th>\n",
       "      <td>1</td>\n",
       "      <td>4</td>\n",
       "      <td>1</td>\n",
       "      <td>2</td>\n",
       "      <td>2</td>\n",
       "    </tr>\n",
       "    <tr>\n",
       "      <th>2</th>\n",
       "      <td>2</td>\n",
       "      <td>4</td>\n",
       "      <td>3</td>\n",
       "      <td>4</td>\n",
       "      <td>1</td>\n",
       "    </tr>\n",
       "    <tr>\n",
       "      <th>3</th>\n",
       "      <td>3</td>\n",
       "      <td>4</td>\n",
       "      <td>2</td>\n",
       "      <td>1</td>\n",
       "      <td>4</td>\n",
       "    </tr>\n",
       "    <tr>\n",
       "      <th>4</th>\n",
       "      <td>2</td>\n",
       "      <td>4</td>\n",
       "      <td>2</td>\n",
       "      <td>1</td>\n",
       "      <td>1</td>\n",
       "    </tr>\n",
       "    <tr>\n",
       "      <th>5</th>\n",
       "      <td>1</td>\n",
       "      <td>3</td>\n",
       "      <td>2</td>\n",
       "      <td>1</td>\n",
       "      <td>3</td>\n",
       "    </tr>\n",
       "    <tr>\n",
       "      <th>6</th>\n",
       "      <td>2</td>\n",
       "      <td>1</td>\n",
       "      <td>3</td>\n",
       "      <td>2</td>\n",
       "      <td>1</td>\n",
       "    </tr>\n",
       "    <tr>\n",
       "      <th>7</th>\n",
       "      <td>2</td>\n",
       "      <td>2</td>\n",
       "      <td>1</td>\n",
       "      <td>4</td>\n",
       "      <td>4</td>\n",
       "    </tr>\n",
       "    <tr>\n",
       "      <th>8</th>\n",
       "      <td>4</td>\n",
       "      <td>2</td>\n",
       "      <td>1</td>\n",
       "      <td>4</td>\n",
       "      <td>4</td>\n",
       "    </tr>\n",
       "    <tr>\n",
       "      <th>9</th>\n",
       "      <td>2</td>\n",
       "      <td>3</td>\n",
       "      <td>4</td>\n",
       "      <td>2</td>\n",
       "      <td>2</td>\n",
       "    </tr>\n",
       "    <tr>\n",
       "      <th>10</th>\n",
       "      <td>3</td>\n",
       "      <td>4</td>\n",
       "      <td>3</td>\n",
       "      <td>4</td>\n",
       "      <td>2</td>\n",
       "    </tr>\n",
       "  </tbody>\n",
       "</table>\n",
       "</div>"
      ],
      "text/plain": [
       "    C1  C2  C3  C4  C5\n",
       "1    1   4   1   2   2\n",
       "2    2   4   3   4   1\n",
       "3    3   4   2   1   4\n",
       "4    2   4   2   1   1\n",
       "5    1   3   2   1   3\n",
       "6    2   1   3   2   1\n",
       "7    2   2   1   4   4\n",
       "8    4   2   1   4   4\n",
       "9    2   3   4   2   2\n",
       "10   3   4   3   4   2"
      ]
     },
     "execution_count": 103,
     "metadata": {},
     "output_type": "execute_result"
    }
   ],
   "source": [
    "# 리스트를 데이터프레임으로 변환\n",
    "a = np.random.randint(1,5,size=(10,5))\n",
    "li1 = a.tolist()\n",
    "index = np.arange(1,11)\n",
    "df = pd.DataFrame(li1,index,['C1','C2','C3','C4','C5'])\n",
    "df"
   ]
  },
  {
   "cell_type": "code",
   "execution_count": 110,
   "id": "212d37d0",
   "metadata": {},
   "outputs": [
    {
     "name": "stdout",
     "output_type": "stream",
     "text": [
      "[[1 4 1 2 2]\n",
      " [2 4 3 4 1]\n",
      " [3 4 2 1 4]\n",
      " [2 4 2 1 1]\n",
      " [1 3 2 1 3]\n",
      " [2 1 3 2 1]\n",
      " [2 2 1 4 4]\n",
      " [4 2 1 4 4]\n",
      " [2 3 4 2 2]\n",
      " [3 4 3 4 2]] <class 'numpy.ndarray'> \n",
      "\n",
      "[[1 4 1 2 2]\n",
      " [2 4 3 4 1]\n",
      " [3 4 2 1 4]\n",
      " [2 4 2 1 1]\n",
      " [1 3 2 1 3]\n",
      " [2 1 3 2 1]\n",
      " [2 2 1 4 4]\n",
      " [4 2 1 4 4]\n",
      " [2 3 4 2 2]\n",
      " [3 4 3 4 2]] \n",
      "\n",
      "[[1, 4, 1, 2, 2], [2, 4, 3, 4, 1], [3, 4, 2, 1, 4], [2, 4, 2, 1, 1], [1, 3, 2, 1, 3], [2, 1, 3, 2, 1], [2, 2, 1, 4, 4], [4, 2, 1, 4, 4], [2, 3, 4, 2, 2], [3, 4, 3, 4, 2]] \n",
      "\n",
      "{'C1': [1, 2, 3, 2, 1, 2, 2, 4, 2, 3], 'C2': [4, 4, 4, 4, 3, 1, 2, 2, 3, 4], 'C3': [1, 3, 2, 2, 2, 3, 1, 1, 4, 3], 'C4': [2, 4, 1, 1, 1, 2, 4, 4, 2, 4], 'C5': [2, 1, 4, 1, 3, 1, 4, 4, 2, 2]}\n"
     ]
    }
   ],
   "source": [
    "# 데이터프레임을 배열, 리스트, 딕셔너리로 변환\n",
    "\n",
    "ar = df.values\n",
    "print(ar,type(ar),'\\n')  # 배열로 변환 1\n",
    "print(np.array(df),'\\n') # 배열로 변환 2\n",
    "print(ar.tolist(),'\\n')  # 리스트로 변환. df.values.tolist()도 가능.\n",
    "print(df.to_dict('list')) # 'list','d_list','series' 등등"
   ]
  },
  {
   "cell_type": "code",
   "execution_count": 141,
   "id": "7345f603",
   "metadata": {},
   "outputs": [
    {
     "name": "stdout",
     "output_type": "stream",
     "text": [
      "      차림표\n",
      "메뉴1    냉면\n",
      "메뉴2   칼국수\n",
      "메뉴3  잔치국수\n",
      "메뉴4   수제비\n",
      "메뉴5    우동 \n",
      "\n",
      "[['냉면'], ['칼국수'], ['잔치국수'], ['수제비'], ['우동']] <class 'list'> \n",
      "\n",
      "     커피    쿠키   케이크\n",
      "A  4000  3000  6500\n",
      "B  4500  3500  7000\n",
      "C  5000  3800  7500 \n",
      "\n",
      "{'커피': [4000, 4500, 5000], '쿠키': [3000, 3500, 3800], '케이크': [6500, 7000, 7500]} <class 'dict'> \n",
      "\n",
      "    달리기  줄다리기  무궁화\n",
      "1반    6     1    5\n",
      "2반    8     3    8\n",
      "3반    6     8    5 \n",
      "\n",
      "[[6 1 5]\n",
      " [8 3 8]\n",
      " [6 8 5]]\n"
     ]
    }
   ],
   "source": [
    "# [연습문제] 배열, 리스트, 딕셔너리로 데이터프레임을 생성한 후\n",
    "# 다시 배열, 리스트, 딕셔너리로 변환하세요.\n",
    "\n",
    "# 리스트\n",
    "li = ['냉면','칼국수','잔치국수','수제비','우동']\n",
    "df1 = pd.DataFrame(li,index=['메뉴1','메뉴2','메뉴3','메뉴4','메뉴5'],columns=['차림표'])\n",
    "print(df1,'\\n')\n",
    "print(df1.values.tolist(),type(df1.values.tolist()),'\\n')\n",
    "\n",
    "# 딕셔너리\n",
    "df2 = pd.DataFrame({\n",
    "    '커피':[4000,4500,5000],\n",
    "    '쿠키':[3000,3500,3800],\n",
    "    '케이크':[6500,7000,7500]\n",
    "},index=['A','B','C'])\n",
    "print(df2,'\\n')\n",
    "print(df2.to_dict('list'),type(df2.to_dict('list')),'\\n')\n",
    "# 여기서 딕셔너리 값이 스칼라 값이면 인덱스 넣어줘야 함.\n",
    "\n",
    "# 배열\n",
    "df3 = pd.DataFrame(np.random.randint(1,10,size=(3,3)),index=['1반','2반','3반'],\n",
    "                   columns=['달리기','줄다리기','무궁화'])\n",
    "print(df3,'\\n')\n",
    "print(df3.values)"
   ]
  },
  {
   "cell_type": "code",
   "execution_count": 137,
   "id": "731b08a5",
   "metadata": {},
   "outputs": [
    {
     "data": {
      "text/html": [
       "<div>\n",
       "<style scoped>\n",
       "    .dataframe tbody tr th:only-of-type {\n",
       "        vertical-align: middle;\n",
       "    }\n",
       "\n",
       "    .dataframe tbody tr th {\n",
       "        vertical-align: top;\n",
       "    }\n",
       "\n",
       "    .dataframe thead th {\n",
       "        text-align: right;\n",
       "    }\n",
       "</style>\n",
       "<table border=\"1\" class=\"dataframe\">\n",
       "  <thead>\n",
       "    <tr style=\"text-align: right;\">\n",
       "      <th></th>\n",
       "      <th>차림표</th>\n",
       "    </tr>\n",
       "  </thead>\n",
       "  <tbody>\n",
       "    <tr>\n",
       "      <th>0</th>\n",
       "      <td>냉면</td>\n",
       "    </tr>\n",
       "    <tr>\n",
       "      <th>1</th>\n",
       "      <td>칼국수</td>\n",
       "    </tr>\n",
       "    <tr>\n",
       "      <th>2</th>\n",
       "      <td>잔치국수</td>\n",
       "    </tr>\n",
       "    <tr>\n",
       "      <th>3</th>\n",
       "      <td>수제비</td>\n",
       "    </tr>\n",
       "    <tr>\n",
       "      <th>4</th>\n",
       "      <td>우동</td>\n",
       "    </tr>\n",
       "  </tbody>\n",
       "</table>\n",
       "</div>"
      ],
      "text/plain": [
       "    차림표\n",
       "0    냉면\n",
       "1   칼국수\n",
       "2  잔치국수\n",
       "3   수제비\n",
       "4    우동"
      ]
     },
     "execution_count": 137,
     "metadata": {},
     "output_type": "execute_result"
    }
   ],
   "source": [
    "# 데이터프레임을 파일로 생성 및 저장 후 불러오기\n",
    "\n",
    "li = ['냉면','칼국수','잔치국수','수제비','우동']\n",
    "df1 = pd.DataFrame(li,index=['메뉴1','메뉴2','메뉴3','메뉴4','메뉴5'],columns=['차림표'])\n",
    "df1.to_csv('./dataset/file_data.csv',index=None) # csv 확장자로 '해당 경로와 이름'으로 저장할 거예용\n",
    "# 지금 엑셀로 열면 깨지는데 메모장으로 열면 안 깨짐(한글이라 그럼)\n",
    "# 인덱스 같이 저장하면 인덱스 정보 날라가면서 0번째 컬럼이 됨\n",
    "file_data = pd.read_csv('./dataset/file_data.csv')\n",
    "file_data\n",
    "\n",
    "# 만약 인덱스도 저장하고 싶다면 일단 index=None 지우고 저장한 다음에\n",
    "# 불러올 때 index_col=0 (0번째 컬럼을 인덱스로 지정) 해서 불러오면 됨"
   ]
  },
  {
   "cell_type": "code",
   "execution_count": null,
   "id": "f0bb8838",
   "metadata": {},
   "outputs": [],
   "source": []
  }
 ],
 "metadata": {
  "kernelspec": {
   "display_name": "Python 3 (ipykernel)",
   "language": "python",
   "name": "python3"
  },
  "language_info": {
   "codemirror_mode": {
    "name": "ipython",
    "version": 3
   },
   "file_extension": ".py",
   "mimetype": "text/x-python",
   "name": "python",
   "nbconvert_exporter": "python",
   "pygments_lexer": "ipython3",
   "version": "3.8.12"
  }
 },
 "nbformat": 4,
 "nbformat_minor": 5
}
