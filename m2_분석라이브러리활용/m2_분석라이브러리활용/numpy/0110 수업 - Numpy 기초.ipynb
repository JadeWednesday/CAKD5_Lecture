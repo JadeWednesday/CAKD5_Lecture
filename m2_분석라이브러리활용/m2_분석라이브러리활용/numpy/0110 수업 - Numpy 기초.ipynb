{
 "cells": [
  {
   "cell_type": "markdown",
   "id": "2826cb40",
   "metadata": {},
   "source": [
    "## Numpy\n",
    "- 'Numerical Python'의 약자<br>\n",
    "- 대규모 다차원 배열과 행렬 연산에 필요한 다양한 함수를 제공<br>\n",
    "    (메모리도 적게 먹고 빠르다!)\n",
    "<br>\n",
    "\n",
    "- Numerical Python을 의미하는 Numpy는 파이썬에서 선형대수 기반의 프로그램을<br>\n",
    "    쉽게 만들 수 있도록 지원하는 대표적인 패키지<br>\n",
    "- 많은 머신러닝 알고리즘이 넘파이 기반으로 작성되어 있으며<br>\n",
    "    알고리즘의 입출력 데이터를 넘파이 배열 타입으로 사용함<br>\n",
    "- 넘파이의 기본 데이터 타입은 ndarray<br>\n",
    "    ndarray를 이용해 넘파이에서 다차원 배열을 쉽게 생성하고 다양한 연산 수행<br>\n",
    "    (행렬 같은 2차원 배열부터 n차까지 다양하게)\n",
    "    \n",
    "<br>\n",
    "    \n",
    "### Numpy의 특징\n",
    "- 강력한 N차원 배열 객체\n",
    "- 정교한 브로드캐스팅 기능\n",
    "- 유용한 선형대수학, 푸리에 변환 및 난수 기능\n",
    "- 푸리에 변환은 시간이나 공간에 대한 함수를 시간 또는 공간 주파수 성분으로 분해하는 변환\n",
    "- 범용적 데이터 처리에 사용 가능한 다차원 컨테이너"
   ]
  },
  {
   "cell_type": "code",
   "execution_count": 1,
   "id": "781593ad",
   "metadata": {
    "scrolled": true
   },
   "outputs": [
    {
     "name": "stdout",
     "output_type": "stream",
     "text": [
      "Requirement already satisfied: numpy in c:\\cakd5\\sw\\anaconda3\\envs\\cakd5\\lib\\site-packages (1.21.2)\n"
     ]
    }
   ],
   "source": [
    "!pip install numpy"
   ]
  },
  {
   "cell_type": "code",
   "execution_count": 2,
   "id": "07d4e13c",
   "metadata": {
    "scrolled": false
   },
   "outputs": [
    {
     "name": "stdout",
     "output_type": "stream",
     "text": [
      "[0 1 2 3 4 5 6 7 8 9] <class 'numpy.ndarray'>\n"
     ]
    }
   ],
   "source": [
    "import numpy as np\n",
    "\n",
    "z = np.arange(10) # 0~9까지 10개 숫자의 1차원 배열을 출력\n",
    "print(z, type (z)) # 넘파이의 기본 데이터 타입은 ndarray"
   ]
  },
  {
   "cell_type": "code",
   "execution_count": 4,
   "id": "572ef750",
   "metadata": {},
   "outputs": [],
   "source": [
    "import numpy as np\n",
    "\n",
    "my_arr = np.arange(1000000)\n",
    "my_list = list(range(100000))"
   ]
  },
  {
   "cell_type": "code",
   "execution_count": 6,
   "id": "a2a27d7d",
   "metadata": {
    "scrolled": true
   },
   "outputs": [
    {
     "name": "stdout",
     "output_type": "stream",
     "text": [
      "Wall time: 9.03 ms\n"
     ]
    }
   ],
   "source": [
    "%time for _ in range(10): my_arr2 = my_arr*2"
   ]
  },
  {
   "cell_type": "code",
   "execution_count": 8,
   "id": "dfbab858",
   "metadata": {},
   "outputs": [
    {
     "name": "stdout",
     "output_type": "stream",
     "text": [
      "Wall time: 43 ms\n"
     ]
    }
   ],
   "source": [
    "%time for _ in range(10): my_list2 = [x*2 for x in my_list]"
   ]
  },
  {
   "cell_type": "code",
   "execution_count": 16,
   "id": "63f9ee20",
   "metadata": {
    "scrolled": true
   },
   "outputs": [
    {
     "name": "stdout",
     "output_type": "stream",
     "text": [
      "[[ 1.11452506 -0.57950103 -2.4025284 ]\n",
      " [-0.83737288  0.79928533  0.70650401]] \n",
      "\n",
      "[[ 11.14525058  -5.79501032 -24.02528402]\n",
      " [ -8.37372882   7.99285332   7.0650401 ]] \n",
      "\n",
      "[[ 2.22905012 -1.15900206 -4.8050568 ]\n",
      " [-1.67474576  1.59857066  1.41300802]]\n"
     ]
    }
   ],
   "source": [
    "# 배열 연산\n",
    "# np.random.randn - 가우시안 표준 정규분포(평균이 0이고 표준편차가 1인 분포)에서 난수 행렬 array 생성\n",
    "data = np.random.randn(2,3) # 표준 정규분포로 구성되는 2행 3열 매트릭스\n",
    "print(data, '\\n')\n",
    "print(data*10, '\\n') # 행렬 자체에다 연산이 가능하다!\n",
    "print(data+data)"
   ]
  },
  {
   "cell_type": "code",
   "execution_count": 20,
   "id": "2db1315f",
   "metadata": {
    "scrolled": true
   },
   "outputs": [
    {
     "name": "stdout",
     "output_type": "stream",
     "text": [
      "(2, 3)\n",
      "float64\n",
      "2\n"
     ]
    }
   ],
   "source": [
    "print(data.shape) # 행렬의 크기(2행 3열이겠지?)\n",
    "print(data.dtype) # 데이터의 타입(ndarray겠지?) - float64는 실수 형태이니까~\n",
    "print(data.ndim) # 데이터의 차원(2차원이겠지?)"
   ]
  },
  {
   "cell_type": "markdown",
   "id": "beda2113",
   "metadata": {},
   "source": [
    "## Numpy 차원\n",
    "\n",
    "<img src = \"numpy차원.jpg\" width = 700px;>\n",
    "<br>\n",
    "axis 0: 행<br>\n",
    "axis 1: 열<br>\n",
    "axis 2: 깊이<br>\n",
    "3D는 공간, 그 이상 고차원부터는 수학적으로만 계산 가능(이미지화 불가능)"
   ]
  },
  {
   "cell_type": "code",
   "execution_count": 13,
   "id": "89facf52",
   "metadata": {
    "scrolled": true
   },
   "outputs": [
    {
     "name": "stdout",
     "output_type": "stream",
     "text": [
      "<class 'list'> \n",
      "\n",
      "[[1 2 3 4]\n",
      " [5 6 7 8]] <class 'numpy.ndarray'>\n"
     ]
    }
   ],
   "source": [
    "data2 = [[1,2,3,4],[5,6,7,8]]\n",
    "print(type(data2),'\\n')\n",
    "arr2 = np.array(data2)\n",
    "print(arr2,type(arr2))"
   ]
  },
  {
   "cell_type": "code",
   "execution_count": 14,
   "id": "91f4cd0b",
   "metadata": {
    "scrolled": false
   },
   "outputs": [
    {
     "name": "stdout",
     "output_type": "stream",
     "text": [
      "(2, 4) \n",
      "\n",
      "int32 \n",
      "\n",
      "2 \n",
      "\n"
     ]
    }
   ],
   "source": [
    "print(arr2.shape,'\\n') # 2행 1열이겠지요? (2행 4열이었다고 합니다)\n",
    "print(arr2.dtype,'\\n') # 리스트겠지요? (정수 타입이었다고 합니다)\n",
    "print(arr2.ndim,'\\n') # 2차원이겠지요?\n",
    "\n",
    "\n",
    "# []끼리 묶어진 것을 한 덩이로 보는 게 아니라, 같은 행이어서 묶었다고 생각해 봐\n",
    "# 그러면 [[]/[]]로 2행, [///] 괄호의 내용으로 열 구분이 가능해질 거야"
   ]
  },
  {
   "cell_type": "code",
   "execution_count": 4,
   "id": "7ec1605a",
   "metadata": {},
   "outputs": [
    {
     "data": {
      "text/html": [
       "<div>\n",
       "<style scoped>\n",
       "    .dataframe tbody tr th:only-of-type {\n",
       "        vertical-align: middle;\n",
       "    }\n",
       "\n",
       "    .dataframe tbody tr th {\n",
       "        vertical-align: top;\n",
       "    }\n",
       "\n",
       "    .dataframe thead th {\n",
       "        text-align: right;\n",
       "    }\n",
       "</style>\n",
       "<table border=\"1\" class=\"dataframe\">\n",
       "  <thead>\n",
       "    <tr style=\"text-align: right;\">\n",
       "      <th></th>\n",
       "      <th>빨강</th>\n",
       "      <th>파랑</th>\n",
       "      <th>초록</th>\n",
       "    </tr>\n",
       "  </thead>\n",
       "  <tbody>\n",
       "    <tr>\n",
       "      <th>빨강</th>\n",
       "      <td>2</td>\n",
       "      <td>7</td>\n",
       "      <td>21</td>\n",
       "    </tr>\n",
       "    <tr>\n",
       "      <th>파랑</th>\n",
       "      <td>2</td>\n",
       "      <td>7</td>\n",
       "      <td>21</td>\n",
       "    </tr>\n",
       "    <tr>\n",
       "      <th>초록</th>\n",
       "      <td>2</td>\n",
       "      <td>7</td>\n",
       "      <td>21</td>\n",
       "    </tr>\n",
       "  </tbody>\n",
       "</table>\n",
       "</div>"
      ],
      "text/plain": [
       "    빨강  파랑  초록\n",
       "빨강   2   7  21\n",
       "파랑   2   7  21\n",
       "초록   2   7  21"
      ]
     },
     "execution_count": 4,
     "metadata": {},
     "output_type": "execute_result"
    }
   ],
   "source": [
    "import numpy as np\n",
    "import pandas as pd\n",
    "a = {'빨강':2,'파랑':7,'초록':21}\n",
    "pd.DataFrame(a,index = a.keys())\n"
   ]
  },
  {
   "cell_type": "code",
   "execution_count": 15,
   "id": "e10e455f",
   "metadata": {
    "scrolled": true
   },
   "outputs": [
    {
     "name": "stdout",
     "output_type": "stream",
     "text": [
      "[1 2 3] <class 'numpy.ndarray'> (3,)\n"
     ]
    }
   ],
   "source": [
    "# 1차원 배열로 3개의 데이터\n",
    "array1 = np.array([1,2,3]) # 1차원 배열이당\n",
    "print(array1,type(array1),array1.shape) #(행,렬)이 아닌 (행,)의 형태로 출력\n",
    "\n",
    "# 우리가 보통 행렬이라 말하고 (행,렬)로 나타내긴 하지만 1차원 배열이면\n",
    "# (행,) 이렇게 출력해 준다\n",
    "# 왜냐면 1차원이니까~ 열이 필요가 없는 거지~\n",
    "# 근데 만약 저게 2차원 배열(1행 3열)이었음 한다면 양옆에 []만 새로 쳐 주면 됨"
   ]
  },
  {
   "cell_type": "code",
   "execution_count": 27,
   "id": "41881d4f",
   "metadata": {
    "scrolled": true
   },
   "outputs": [
    {
     "name": "stdout",
     "output_type": "stream",
     "text": [
      "[[1 2 3]\n",
      " [4 5 6]] <class 'numpy.ndarray'> (2, 3)\n"
     ]
    }
   ],
   "source": [
    "# [연습문제] 2차원 배열로 2개의 row와 3개의 column으로 구성되 6개의 데이터\n",
    "\n",
    "array2 = np.array([[1,2,3],[4,5,6]])\n",
    "print(array2,type(array2),array2.shape)"
   ]
  },
  {
   "cell_type": "code",
   "execution_count": 36,
   "id": "b467ea72",
   "metadata": {
    "scrolled": true
   },
   "outputs": [
    {
     "name": "stdout",
     "output_type": "stream",
     "text": [
      "['김' '이' '박'] <class 'numpy.ndarray'> (3,) 1\n",
      "[['김' '이' '박']] <class 'numpy.ndarray'> (1, 3) 2\n"
     ]
    }
   ],
   "source": [
    "# [연습문제] 2차원 배열로 1개의 row와 3개의 column으로 구성되 3개의 데이터\n",
    "array3 = np.array(['김','이','박']) # 1차원 배열\n",
    "print(array3,type(array3),array3.shape,array3.ndim)\n",
    "\n",
    "array4 = np.array([['김','이','박']]) # 2차원 배열. []로 한 번 더 감싸주어 차원을 만들었다.\n",
    "print(array4,type(array4),array4.shape,array4.ndim)"
   ]
  },
  {
   "cell_type": "code",
   "execution_count": 35,
   "id": "c017c930",
   "metadata": {
    "scrolled": true
   },
   "outputs": [
    {
     "name": "stdout",
     "output_type": "stream",
     "text": [
      "[[1]\n",
      " [2]\n",
      " [3]] <class 'numpy.ndarray'> (3, 1) 2\n"
     ]
    }
   ],
   "source": [
    "# [자체문제] 1행 n열은 많이 했으니 n행 1열 해볼까?\n",
    "ar0 = np.array([[1],[2],[3]])\n",
    "print(ar0,type(ar0),ar0.shape,ar0.ndim)"
   ]
  },
  {
   "cell_type": "code",
   "execution_count": 43,
   "id": "73425b11",
   "metadata": {
    "scrolled": true
   },
   "outputs": [
    {
     "name": "stdout",
     "output_type": "stream",
     "text": [
      "[[[ 1  2  3]\n",
      "  [ 4  5  6]\n",
      "  [ 7  8  9]]\n",
      "\n",
      " [[10 11 12]\n",
      "  [13 14 15]\n",
      "  [16 17 18]]] <class 'numpy.ndarray'> (2, 3, 3) 3\n"
     ]
    }
   ],
   "source": [
    "# [연습문제] 3차원 만들어 보기\n",
    "ar3d = np.array([[[1,2,3],[4,5,6],[7,8,9]],[[10,11,12],[13,14,15],[16,17,18]]])\n",
    "print(ar3d,type(ar3d),ar3d.shape,ar3d.ndim)"
   ]
  },
  {
   "cell_type": "markdown",
   "id": "fb8a1309",
   "metadata": {},
   "source": [
    "한 장 한 장씩 순차적으로 깊이를 만들었다고 생각하셈<br>\n",
    "2,3,4면 3행 4열의 배열이 2장이라고"
   ]
  },
  {
   "cell_type": "code",
   "execution_count": null,
   "id": "7e7681e3",
   "metadata": {},
   "outputs": [],
   "source": [
    "# 경고 메시지 처리\n",
    "import warnings\n",
    "warnings.filterwarnings('ignore') # 경고문구 무시함. 어떤 상황의 오류를 무시한다는 건지 못 들음"
   ]
  },
  {
   "cell_type": "markdown",
   "id": "c2f6a5f2",
   "metadata": {},
   "source": [
    "배열 생성 및 초기화\n",
    "- Numpy는 원하는 shape로 배열을 설정하고 각 요소를 특정값으로 초기화하는<br>\n",
    "   zeros, ones, full, eye 함수 제공<br>\n",
    "   (zeros는 각 요소를 0으로, ones는 1로 초기화)\n",
    "- 파라미터로 입력한 배열과 같은 shape의 배열을 만드는 zeros_like, ones_like, full_like 함수도 제공"
   ]
  },
  {
   "cell_type": "code",
   "execution_count": 53,
   "id": "55e3512d",
   "metadata": {
    "scrolled": true
   },
   "outputs": [
    {
     "name": "stdout",
     "output_type": "stream",
     "text": [
      "[0. 0. 0. 0. 0. 0. 0. 0. 0. 0.] \n",
      "\n",
      "[[0. 0. 0. 0. 0. 0.]\n",
      " [0. 0. 0. 0. 0. 0.]\n",
      " [0. 0. 0. 0. 0. 0.]] \n",
      "\n",
      "[[[0. 0.]\n",
      "  [0. 0.]\n",
      "  [0. 0.]]\n",
      "\n",
      " [[0. 0.]\n",
      "  [0. 0.]\n",
      "  [0. 0.]]] \n",
      "\n"
     ]
    }
   ],
   "source": [
    "print(np.zeros(10),'\\n') # 0이 10개인 1차원 배열 출력\n",
    "print(np.zeros((3,6)),'\\n') # 0으로만 구성된 3행 6열의 2차원 배열 출력\n",
    "print(np.zeros((2,3,2)),'\\n') # 0으로만 구성된, 2행 3열 깊이 2인 3차원 배열 출력\n",
    "# 출력값 뒤에 . 찍힌 건 실수 형태 표현이라서"
   ]
  },
  {
   "cell_type": "code",
   "execution_count": 18,
   "id": "db7e78c1",
   "metadata": {},
   "outputs": [
    {
     "name": "stdout",
     "output_type": "stream",
     "text": [
      "[1. 1. 1. 1. 1. 1. 1. 1. 1. 1.] \n",
      "\n",
      "[[1. 1. 1. 1. 1. 1.]\n",
      " [1. 1. 1. 1. 1. 1.]\n",
      " [1. 1. 1. 1. 1. 1.]] \n",
      "\n",
      "[[[1. 1.]\n",
      "  [1. 1.]\n",
      "  [1. 1.]]\n",
      "\n",
      " [[1. 1.]\n",
      "  [1. 1.]\n",
      "  [1. 1.]]]\n"
     ]
    }
   ],
   "source": [
    "print(np.ones(10),'\\n') # 1이 10개인 1차원 배열 출력\n",
    "print(np.ones((3,6)),'\\n') # 1로만 구성된 3행 6열의 2차원 배열 출력\n",
    "print(np.ones((2,3,2))) # 1로만 구성된, 3행 2열 깊이 2인 3차원 배열 출력"
   ]
  },
  {
   "cell_type": "code",
   "execution_count": 54,
   "id": "cb06398a",
   "metadata": {
    "scrolled": true
   },
   "outputs": [
    {
     "name": "stdout",
     "output_type": "stream",
     "text": [
      "[[5 5 5]\n",
      " [5 5 5]]\n"
     ]
    }
   ],
   "source": [
    "a = np.full((2,3),5) # 5로만 구성된 2행 3열의 2차원 배열 출력\n",
    "print(a)"
   ]
  },
  {
   "cell_type": "code",
   "execution_count": 57,
   "id": "ca588a8d",
   "metadata": {
    "scrolled": false
   },
   "outputs": [
    {
     "name": "stdout",
     "output_type": "stream",
     "text": [
      "[[1. 0. 0.]\n",
      " [0. 1. 0.]\n",
      " [0. 0. 1.]]\n"
     ]
    }
   ],
   "source": [
    "b = np.eye(3) # E 기억나니...? 해당 크기의 단위행렬을 만들어 준단다\n",
    "print(b)"
   ]
  },
  {
   "cell_type": "code",
   "execution_count": 62,
   "id": "2d1553ea",
   "metadata": {
    "scrolled": true
   },
   "outputs": [
    {
     "name": "stdout",
     "output_type": "stream",
     "text": [
      "[ 0  1  2  3  4  5  6  7  8  9 10 11 12 13 14] \n",
      " range(0, 15)\n"
     ]
    }
   ],
   "source": [
    "# arange 함수: Python의 range 함수의 배열 버전\n",
    "arr1 = np.arange(15)\n",
    "arr2 = range(15)\n",
    "print(arr1,'\\n',arr2)"
   ]
  },
  {
   "cell_type": "code",
   "execution_count": 65,
   "id": "f59f2df4",
   "metadata": {
    "scrolled": false
   },
   "outputs": [
    {
     "name": "stdout",
     "output_type": "stream",
     "text": [
      "[[ 0  1  2  3  4]\n",
      " [ 5  6  7  8  9]\n",
      " [10 11 12 13 14]]\n",
      "\n",
      "[[[ 0  1  2  3  4]\n",
      "  [ 5  6  7  8  9]\n",
      "  [10 11 12 13 14]]]\n"
     ]
    }
   ],
   "source": [
    "arr3 = arr1.reshape((3,5))\n",
    "# 위에서 만든 arr1의 요소가 15개이기 때문에 3*5든, 5*3이든, 요소가 총 15개가 되도록 해야 함\n",
    "print(arr3)\n",
    "print()\n",
    "arr3rd = arr1.reshape((1,3,5))\n",
    "print(arr3rd)"
   ]
  },
  {
   "cell_type": "code",
   "execution_count": 66,
   "id": "045c4801",
   "metadata": {
    "scrolled": true
   },
   "outputs": [
    {
     "name": "stdout",
     "output_type": "stream",
     "text": [
      "[[0 1]\n",
      " [2 3]\n",
      " [4 5]\n",
      " [6 7]\n",
      " [8 9]] 2\n"
     ]
    }
   ],
   "source": [
    "# [연습문제] array1을 생성하고 reshape 함수를 이용, (5,2) 2차원 배열을 생성한 후 크기를 같이 출력하세요.\n",
    "array1 = np.arange(10)\n",
    "array2 = array1.reshape(5,2)\n",
    "print(array2, array2.ndim)"
   ]
  },
  {
   "cell_type": "code",
   "execution_count": 68,
   "id": "994be0bf",
   "metadata": {
    "scrolled": true
   },
   "outputs": [
    {
     "name": "stdout",
     "output_type": "stream",
     "text": [
      "[[ 0  1  2  3  4  5]\n",
      " [ 6  7  8  9 10 11]\n",
      " [12 13 14 15 16 17]\n",
      " [18 19 20 21 22 23]\n",
      " [24 25 26 27 28 29]] \n",
      " 2 \n",
      "\n",
      "[[[ 0  1  2  3  4]\n",
      "  [ 5  6  7  8  9]\n",
      "  [10 11 12 13 14]]\n",
      "\n",
      " [[15 16 17 18 19]\n",
      "  [20 21 22 23 24]\n",
      "  [25 26 27 28 29]]] \n",
      " 3\n"
     ]
    }
   ],
   "source": [
    "# [연습문제] 0~29까지의 1차원 배열을 생성한 후 다시 2, 3차원 배열로 변환하여 출력하세요.\n",
    "\n",
    "ar1 = np.arange(30)\n",
    "ar2 = ar1.reshape(5,6)\n",
    "ar3 = ar1.reshape(2,3,5)\n",
    "\n",
    "print(ar2,'\\n',ar2.ndim,'\\n')\n",
    "print(ar3,'\\n',ar3.ndim)"
   ]
  },
  {
   "cell_type": "code",
   "execution_count": 73,
   "id": "e1d9109b",
   "metadata": {
    "scrolled": false
   },
   "outputs": [
    {
     "name": "stdout",
     "output_type": "stream",
     "text": [
      "[[ 0  1  2  3  4  5]\n",
      " [ 6  7  8  9 10 11]\n",
      " [12 13 14 15 16 17]\n",
      " [18 19 20 21 22 23]\n",
      " [24 25 26 27 28 29]] \n",
      " 2 \n",
      "\n",
      "[[[ 0  1  2  3  4]\n",
      "  [ 5  6  7  8  9]]\n",
      "\n",
      " [[10 11 12 13 14]\n",
      "  [15 16 17 18 19]]\n",
      "\n",
      " [[20 21 22 23 24]\n",
      "  [25 26 27 28 29]]] \n",
      " 3 \n",
      "\n"
     ]
    }
   ],
   "source": [
    "# reshape(-1,-1)를 이용, 차원 변경\n",
    "ar1 = np.arange(30)\n",
    "ar12 = ar1.reshape(5,-1) # 1차원 배열 ar1에 대해 행은 5개, 나머지 열의 수는 가능한 수로 출력\n",
    "print(ar12,'\\n',ar12.ndim,'\\n') # 알아서 6열로 배치\n",
    "\n",
    "ar13 = ar1.reshape(-1,2,5) # -1 자리에 들어갈 수 있는 숫자는 3뿐이지\n",
    "print(ar13,'\\n',ar13.ndim,'\\n')"
   ]
  },
  {
   "cell_type": "code",
   "execution_count": 76,
   "id": "50d72b7f",
   "metadata": {
    "scrolled": true
   },
   "outputs": [
    {
     "name": "stdout",
     "output_type": "stream",
     "text": [
      "[1 2 3 4 5 6] \n",
      "\n",
      "[[[1 2 3]]\n",
      "\n",
      " [[4 5 6]]]\n"
     ]
    }
   ],
   "source": [
    "# [연습문제] 2차원 배열을 1, 3차원으로 재변환\n",
    "ar2 = np.array([[1,2,3],[4,5,6]])\n",
    "ar1 = ar2.reshape(-1,) # 6,이라고 써도 되지만 어차피 가능한 경우의 수가 1개라서 -1, 써도 됨\n",
    "ar3 = ar2.reshape(2,-1,3)\n",
    "print(ar1,'\\n')\n",
    "print(ar3)"
   ]
  },
  {
   "cell_type": "code",
   "execution_count": 79,
   "id": "5c0883c7",
   "metadata": {
    "scrolled": true
   },
   "outputs": [
    {
     "name": "stdout",
     "output_type": "stream",
     "text": [
      "[ 0  1  2  3  4  5  6  7  8  9 10 11 12 13 14 15 16 17 18 19 20 21 22 23\n",
      " 24 25 26 27 28 29] \n",
      "\n",
      "[[ 0  1  2  3  4  5  6  7  8  9]\n",
      " [10 11 12 13 14 15 16 17 18 19]\n",
      " [20 21 22 23 24 25 26 27 28 29]]\n"
     ]
    }
   ],
   "source": [
    "# [연습문제] 3차원 배열을 1, 2차원으로 재변환\n",
    "ar3 = np.arange(30).reshape(3,2,5)\n",
    "ar31 = ar3.reshape(-1,)\n",
    "ar32 = ar3.reshape(3,-1) # -1 자리에는 경우의 수가 1개밖에 없는 경우에 편리하게 적용할 수 있다!\n",
    "\n",
    "print(ar31,'\\n')\n",
    "print(ar32)"
   ]
  },
  {
   "cell_type": "markdown",
   "id": "9f9eaa35",
   "metadata": {},
   "source": [
    "## 행렬의 종류\n",
    "- 정방행렬: 행과 열의 수가 같은 행렬(n*n)\n",
    "- 대각행렬: 주 대각선 원소를 제외한 모든 원소들이 0인 정방행렬<br>\n",
    "    (eye로 만든 단위행렬/항등행렬을 포함, 해당 행렬에 n을 곱한 형태가 대각행렬의 기본 모양)\n",
    "- 항등행렬(단위행렬): 행렬 곱셈 연산에 항등원으로 작용하는 행렬\n",
    "- 영행렬: 모든 원소가 0인 행렬<br>\n",
    "    zeros 함수로 만든 정방행렬이 영행렬이다.\n",
    "- 전치행렬: 주 대각선 원소를 기준으로 행과 열을 바꿔주는 행렬\n",
    "- 직교행렬: 행렬 A의 역행렬 a의 전치행렬<br>\n",
    "    A의 전치행렬과 A 행렬을 곱하였을 때 항등행렬이 나오는 행렬"
   ]
  },
  {
   "cell_type": "code",
   "execution_count": 83,
   "id": "5f24772c",
   "metadata": {
    "scrolled": true
   },
   "outputs": [
    {
     "name": "stdout",
     "output_type": "stream",
     "text": [
      "[[ 0  1  2  3  4]\n",
      " [ 5  6  7  8  9]\n",
      " [10 11 12 13 14]\n",
      " [15 16 17 18 19]\n",
      " [20 21 22 23 24]] \n",
      " [[7 7 7]\n",
      " [7 7 7]\n",
      " [7 7 7]]\n"
     ]
    }
   ],
   "source": [
    "# 정방행렬\n",
    "jar = np.arange(25).reshape(5,5)\n",
    "jar1 = np.full((3,3),7)\n",
    "print(jar,'\\n',jar1)"
   ]
  },
  {
   "cell_type": "code",
   "execution_count": 84,
   "id": "58d78b92",
   "metadata": {
    "scrolled": true
   },
   "outputs": [
    {
     "name": "stdout",
     "output_type": "stream",
     "text": [
      "[[1. 0. 0. 0. 0.]\n",
      " [0. 1. 0. 0. 0.]\n",
      " [0. 0. 1. 0. 0.]\n",
      " [0. 0. 0. 1. 0.]\n",
      " [0. 0. 0. 0. 1.]]\n"
     ]
    }
   ],
   "source": [
    "# 항등행렬, 단위행렬\n",
    "a = np.eye(5)\n",
    "print(a)"
   ]
  },
  {
   "cell_type": "code",
   "execution_count": 86,
   "id": "150f13dd",
   "metadata": {},
   "outputs": [
    {
     "name": "stdout",
     "output_type": "stream",
     "text": [
      "[[0. 0. 0. 0. 0.]\n",
      " [0. 0. 0. 0. 0.]\n",
      " [0. 0. 0. 0. 0.]\n",
      " [0. 0. 0. 0. 0.]\n",
      " [0. 0. 0. 0. 0.]]\n"
     ]
    }
   ],
   "source": [
    "# 영행렬\n",
    "a = np.zeros((5,5))\n",
    "print(a)"
   ]
  },
  {
   "cell_type": "markdown",
   "id": "b8c4702e",
   "metadata": {},
   "source": [
    "## ndarray 데이터 형태 지정 및 변경\n",
    "<img src =\"데이터형태.jpg\" width=700px>\n",
    "\n",
    "dtype 함수를 통해서 나오는 결과값을 정리했음<br>\n",
    "unit 아니고 uint임. 언사인드 인테걸스.<br>\n",
    "int는 부호 있는 정수형, uint는 부호 없는 정수형<br>\n",
    "뒤의 숫자는 16비트, 64비트 뭐 이런 얘기"
   ]
  },
  {
   "cell_type": "code",
   "execution_count": 89,
   "id": "32494cbf",
   "metadata": {
    "scrolled": true
   },
   "outputs": [
    {
     "name": "stdout",
     "output_type": "stream",
     "text": [
      "[1. 2. 3.] float64 \n",
      " [1 2 3] int32\n"
     ]
    }
   ],
   "source": [
    "arr1 = np.array([1,2,3],dtype=np.float64) # 실수형이니까 n. 형태로 나올 것이다\n",
    "arr2 = np.array([1,2,3],dtype=np.int32)\n",
    "print(arr1,arr1.dtype,'\\n',arr2,arr2.dtype)"
   ]
  },
  {
   "cell_type": "code",
   "execution_count": 93,
   "id": "8ad7275a",
   "metadata": {
    "scrolled": true
   },
   "outputs": [
    {
     "name": "stdout",
     "output_type": "stream",
     "text": [
      "[1 2 3 4 5] int32\n",
      "[1. 2. 3. 4. 5.] float64\n"
     ]
    }
   ],
   "source": [
    "# 타입 변경\n",
    "arr = np.array([1,2,3,4,5])\n",
    "print(arr,arr.dtype)\n",
    "farr = arr.astype(np.float64)\n",
    "print(farr,farr.dtype)"
   ]
  },
  {
   "cell_type": "code",
   "execution_count": 97,
   "id": "dc2f016b",
   "metadata": {},
   "outputs": [
    {
     "data": {
      "text/plain": [
       "array([1., 1., 1., 1., 1., 1., 1., 1., 1., 1.])"
      ]
     },
     "execution_count": 97,
     "metadata": {},
     "output_type": "execute_result"
    }
   ],
   "source": [
    "np.ones(10)"
   ]
  },
  {
   "cell_type": "code",
   "execution_count": 99,
   "id": "d247b12b",
   "metadata": {
    "scrolled": true
   },
   "outputs": [
    {
     "name": "stdout",
     "output_type": "stream",
     "text": [
      "[1 1 1 1 1 1 1 1 1 1]\n"
     ]
    }
   ],
   "source": [
    "# empty 함수: shape와 dtype을 입력받아 초기화되지 않은 배열을 만들어 준다. cf. zeros 함수\n",
    "# 메모리에 남아 있는 걸 그대로 가져오기 때문에 이전 값을 불러온다.\n",
    "# 위에서 ones 함수를 실행했기 때문에 1이 나오고, 만약 zeros를 썼다면 0이 나오겠지?\n",
    "\n",
    "# empty 함수를 실행할 때마다 값이 다른 것을 확인할 수 있다.\n",
    "# 이는 해당 메모리 영역에 어떤 데이터가 남아 있었든 상관 없이 있는 그대로 영역의 주소만 알려줄 뿐\n",
    "# 초기화는 사용자에게 맡기기 때문임.\n",
    "\n",
    "# zeros는 0으로 초기화 된 그릇\n",
    "# ones는 1로 초기화 된 그릇\n",
    "# full은 해당 숫자로 가득 찬 그릇\n",
    "# empty는 초기화 그런 거 없이 진짜 빈 그릇이라 이전 정보가 담겨 나옴\n",
    "\n",
    "print(np.empty(shape=(10,),dtype=np.int8))"
   ]
  },
  {
   "cell_type": "code",
   "execution_count": 266,
   "id": "bef5b9e6",
   "metadata": {
    "scrolled": true
   },
   "outputs": [
    {
     "name": "stdout",
     "output_type": "stream",
     "text": [
      "[[b'1' b'2' b'3' b'4']\n",
      " [b'5' b'6' b'7' b'8']] |S1\n",
      "[[1. 2. 3. 4.]\n",
      " [5. 6. 7. 8.]] float64\n",
      "|S7\n"
     ]
    }
   ],
   "source": [
    "# 문자열 타입으로 배열 만들기\n",
    "# arr = np.array([1,2,3,4],dtype='S') - 이건 타입 코드로 작성\n",
    "arr = np.array(([1,2,3,4],[5,6,7,8]),dtype=np.string_) # 이건 타입으로 작성\n",
    "print(arr,arr.dtype)\n",
    "arr1 = arr.astype(float) # 문자열 타입을 실수형으로도 변환했다!\n",
    "# arr1 = arr.astype('float64') 로도 표현 가능. 64를 다른 숫자로 바꾼다거나 할 때에.\n",
    "print(arr1,arr1.dtype)\n",
    "\n",
    "# S1 << S 뒤의 숫자는 문자열의 길이를 의미한다...고 하는데\n",
    "# 지금 위의 배열은 전부 글자가 1개뿐이라 S1로 나왔지\n",
    "\n",
    "ar_ = np.array([12,234,5678,9101112],dtype=np.string_)\n",
    "print(ar_.dtype) # 인덱스 3번의 글자 길이가 7이라서 S7 출력"
   ]
  },
  {
   "cell_type": "code",
   "execution_count": 116,
   "id": "f21cc9ac",
   "metadata": {},
   "outputs": [
    {
     "name": "stdout",
     "output_type": "stream",
     "text": [
      "[1.2 2.3 3. ] float64 \n",
      " [1 2 3] int64 \n",
      " [1.2 2.3 3. ] float64\n"
     ]
    }
   ],
   "source": [
    "# [연습문제] 정수와 실수로 구성된 list_e = [1.2,2.3,3]을\n",
    "# numpy를 이용하여 실수형과 정수형으로 각각 출력하세요.\n",
    "list_e = [1.2,2.3,3] # 애초에 실수가 섞여 있어서 실수형으로 분류됨\n",
    "int_e = np.array(list_e,dtype='int64')\n",
    "float_e = np.array(list_e).astype(float)\n",
    "print(np.array(list_e),np.array(list_e).dtype,'\\n',int_e,int_e.dtype,'\\n',float_e,float_e.dtype)"
   ]
  },
  {
   "cell_type": "code",
   "execution_count": 122,
   "id": "7d2a38b2",
   "metadata": {},
   "outputs": [
    {
     "name": "stdout",
     "output_type": "stream",
     "text": [
      "[[1 2 3]\n",
      " [4 5 6]] int32\n",
      "[[ 2  4  6]\n",
      " [ 8 10 12]]\n",
      "[[0 0 0]\n",
      " [0 0 0]]\n",
      "[[ 1  4  9]\n",
      " [16 25 36]]\n",
      "[[1. 1. 1.]\n",
      " [1. 1. 1.]]\n"
     ]
    }
   ],
   "source": [
    "# 배열의 산술 연산\n",
    "# arr = np.array([[1,2,3],[4,5,6]])\n",
    "arr = np.arange(1,7).reshape(2,3)\n",
    "print(arr,arr.dtype)\n",
    "print(arr+arr)\n",
    "print(arr-arr)\n",
    "print(arr*arr)\n",
    "print(arr/arr)"
   ]
  },
  {
   "cell_type": "code",
   "execution_count": 126,
   "id": "eca68e7a",
   "metadata": {
    "scrolled": true
   },
   "outputs": [
    {
     "data": {
      "text/plain": [
       "array([[ True, False,  True],\n",
       "       [False,  True, False]])"
      ]
     },
     "execution_count": 126,
     "metadata": {},
     "output_type": "execute_result"
    }
   ],
   "source": [
    "# Boolean\n",
    "arr = np.arange(1,7).reshape(2,3)\n",
    "arr2 = np.array([[0.,4.,1.],[7.,2.,12.]]) # 정수형 뒤에 . 붙여 놓으면 알아서 실수형으로 출력해 줌\n",
    "arr > arr2"
   ]
  },
  {
   "cell_type": "code",
   "execution_count": 262,
   "id": "e2fc8dfd",
   "metadata": {},
   "outputs": [
    {
     "name": "stdout",
     "output_type": "stream",
     "text": [
      "[[12 14 16]\n",
      " [18 20 22]\n",
      " [24 26 28]]\n",
      "[[12 14 16]\n",
      " [18 20 22]\n",
      " [24 26 28]] \n",
      "\n",
      "[[10 10 10]\n",
      " [10 10 10]\n",
      " [10 10 10]]\n",
      "[[10 10 10]\n",
      " [10 10 10]\n",
      " [10 10 10]] \n",
      "\n",
      "[[ 11  24  39]\n",
      " [ 56  75  96]\n",
      " [119 144 171]]\n",
      "[[ 11  24  39]\n",
      " [ 56  75  96]\n",
      " [119 144 171]] \n",
      "\n",
      "[[11.          6.          4.33333333]\n",
      " [ 3.5         3.          2.66666667]\n",
      " [ 2.42857143  2.25        2.11111111]]\n",
      "[[11.    6.    4.33]\n",
      " [ 3.5   3.    2.67]\n",
      " [ 2.43  2.25  2.11]]\n"
     ]
    }
   ],
   "source": [
    "# 기본 사칙연산 - 수식과 함수\n",
    "v1 = np.arange(1,10).reshape(3,-1)\n",
    "v2 = np.arange(11,20).reshape(3,-1)\n",
    "\n",
    "print(v1+v2)\n",
    "print(np.add(v1,v2),'\\n')\n",
    "print(v2-v1)\n",
    "print(np.subtract(v2,v1),'\\n') # EXTRACT와 헷갈리지 말자!\n",
    "print(v1*v2)\n",
    "print(np.multiply(v1,v2),'\\n')\n",
    "print(v2/v1) # round는 안 먹히네 ㅎㅎ...?\n",
    "print(np.divide(v2,v1).round(2)) # round를 쓰고 싶으면 이렇게 하자!"
   ]
  },
  {
   "cell_type": "code",
   "execution_count": 150,
   "id": "2e508331",
   "metadata": {},
   "outputs": [
    {
     "name": "stdout",
     "output_type": "stream",
     "text": [
      "[[-0.10763935  0.33076305 -0.78023307]\n",
      " [-1.3103681   1.11074813  0.39702184]]\n",
      "-0.06\n",
      "[-0.70900373  0.72075559 -0.19160561]\n",
      "[-0.18570312  0.06580062]\n",
      "-0.3597\n",
      "[-0.10763935 -0.03560312  0.02777873 -0.03640036 -0.04043164 -0.01605224]\n"
     ]
    }
   ],
   "source": [
    "arr = np.random.randn(2,3)\n",
    "\n",
    "print(arr)\n",
    "print(arr.mean().round(4)) # 산술평균\n",
    "print(arr.mean(axis=0)) # 열을 따라 계산된 평균. 열의 개수만큼 나옴\n",
    "print(arr.mean(axis=1)) # 행을 따라 계산된 평균. 행의 개수만큼 나옴. 헷갈리지 마~\n",
    "print(arr.sum().round(4)) # 모든 항목을 전부 더하고 소수점 4자리까지 깎아치기\n",
    "print(arr.cumprod()) # 각 원소들끼리의 누적 곱"
   ]
  },
  {
   "cell_type": "code",
   "execution_count": 161,
   "id": "412a64be",
   "metadata": {
    "scrolled": false
   },
   "outputs": [
    {
     "name": "stdout",
     "output_type": "stream",
     "text": [
      "[7 8 9]\n",
      "9\n",
      "[1 4 7]\n",
      "[[1 2 3]\n",
      " [4 5 6]]\n"
     ]
    }
   ],
   "source": [
    "# 인덱싱, 슬라이싱\n",
    "\n",
    "ar2d = np.arange(1,10).reshape(3,-1)\n",
    "print(ar2d[2])\n",
    "print(ar2d[2][2])\n",
    "print(ar2d[:,0])\n",
    "print(ar2d[:2,:])"
   ]
  },
  {
   "cell_type": "code",
   "execution_count": 164,
   "id": "60d9d180",
   "metadata": {},
   "outputs": [
    {
     "name": "stdout",
     "output_type": "stream",
     "text": [
      "[3 6]\n",
      "[[1 2]\n",
      " [4 5]]\n"
     ]
    }
   ],
   "source": [
    "# [연습문제] 2차원 배열 ar2d에서 [3,6],[[1,2],[4,5]]를 각각 출력하세요.\n",
    "ar2d = np.arange(1,10).reshape(3,-1)\n",
    "print(ar2d[:2,2])\n",
    "print(ar2d[:2,:2])"
   ]
  },
  {
   "cell_type": "code",
   "execution_count": 20,
   "id": "4a49006d",
   "metadata": {},
   "outputs": [
    {
     "name": "stdout",
     "output_type": "stream",
     "text": [
      "[[1 2 3]\n",
      " [4 5 6]]\n"
     ]
    }
   ],
   "source": [
    "# [연습문제] 2차원 배열 ar2d를 다른 방식으로 아래와 같이 출력하세요.\n",
    "# [[1,2,3]\n",
    "#  [4,5,6]]\n",
    "ar2d = np.arange(1,10).reshape(3,-1)\n",
    "print(ar2d[:2,:]) # 리스트로 묶어서 범위 지정해 줘도 된다! [(0,1),:]도 되고"
   ]
  },
  {
   "cell_type": "code",
   "execution_count": 183,
   "id": "81f6c194",
   "metadata": {
    "scrolled": true
   },
   "outputs": [
    {
     "name": "stdout",
     "output_type": "stream",
     "text": [
      "[[ 0  1  2  3  4  5]\n",
      " [ 6  7  8  9 10 11]\n",
      " [12 13 14 15 16 17]\n",
      " [18 19 20 21 22 23]\n",
      " [24 25 26 27 28 29]]\n",
      "[14 15 16]\n",
      "[3 9]\n",
      "[ 1  7 13]\n"
     ]
    }
   ],
   "source": [
    "ar = np.arange(30).reshape(5,-1)\n",
    "print(ar)\n",
    "# [14,15,16]\n",
    "print(ar[2,(2,3,4)]) # [2],[2:5]\n",
    "# [3,9]\n",
    "print(ar[:2,3]) # [0,1],3\n",
    "# [1,7,13]\n",
    "print(ar[:3,1]) # [0,1,2],1"
   ]
  },
  {
   "cell_type": "code",
   "execution_count": 185,
   "id": "7c539856",
   "metadata": {},
   "outputs": [
    {
     "name": "stdout",
     "output_type": "stream",
     "text": [
      "[[0, 1, 2, 3, 4, 5], [6, 7, 8, 9, 10, 11], [12, 13, 14, 15, 16, 17], [18, 19, 20, 21, 22, 23], [24, 25, 26, 27, 28, 29]] \n",
      " <class 'list'>\n"
     ]
    }
   ],
   "source": [
    "# 배열을 리스트로 변환\n",
    "arli = ar.tolist()\n",
    "print(arli,'\\n',type(arli))"
   ]
  },
  {
   "cell_type": "code",
   "execution_count": 188,
   "id": "babcb09a",
   "metadata": {
    "scrolled": true
   },
   "outputs": [
    {
     "name": "stdout",
     "output_type": "stream",
     "text": [
      "[1 2 3 4 5 6 7 8 9]\n",
      "[6 7 8 9]\n",
      "[False False False False False  True  True  True  True]\n"
     ]
    }
   ],
   "source": [
    "# Boolean indexing\n",
    "ar1d = np.arange(1,10)\n",
    "print(ar1d)\n",
    "arbl = ar1d[ar1d>5] # True인 값만 반환\n",
    "print(arbl)\n",
    "print(ar1d>5)"
   ]
  },
  {
   "cell_type": "code",
   "execution_count": 190,
   "id": "f2867880",
   "metadata": {
    "scrolled": true
   },
   "outputs": [
    {
     "name": "stdout",
     "output_type": "stream",
     "text": [
      "[6 7 8 9]\n",
      "[6 7 8 9]\n"
     ]
    }
   ],
   "source": [
    "# [연습문제] ar1d에서 일반 인덱스와 불린을 이용해 각각 [6,7,8,9]를 출력해 보세요.\n",
    "ar1d = np.arange(1,10)\n",
    "# 일반 인덱스\n",
    "print(ar1d[5:])\n",
    "# Boolean indexing\n",
    "arbl = ar1d[ar1d>5]\n",
    "print(arbl)"
   ]
  },
  {
   "cell_type": "code",
   "execution_count": 191,
   "id": "81dbad04",
   "metadata": {},
   "outputs": [
    {
     "name": "stdout",
     "output_type": "stream",
     "text": [
      "[11 12 13 14]\n"
     ]
    }
   ],
   "source": [
    "# [연습문제] 1~14까지의 ndarray를 만들어 array_e로 저장하고\n",
    "# (array_e/2)>5를 만족하는 값을 불린 인덱싱으로 출력\n",
    "array_e = np.arange(1,15)\n",
    "bl_e = array_e[(array_e/2)>5]\n",
    "print(bl_e)"
   ]
  },
  {
   "cell_type": "code",
   "execution_count": 267,
   "id": "33bda747",
   "metadata": {},
   "outputs": [
    {
     "name": "stdout",
     "output_type": "stream",
     "text": [
      "[[ 0.16340854 -0.02944818 -1.56923922  0.93952409]\n",
      " [-1.38269477  0.57026719  0.29464956  0.02241067]\n",
      " [-0.39488217 -2.16186948 -0.81998176 -0.91745489]\n",
      " [-0.42668411  0.08161055  0.56825067  0.76642641]\n",
      " [ 1.71586869 -0.0060645   0.51508091  0.02054131]\n",
      " [ 0.52711889  0.06525407  0.12086259 -0.14612327]\n",
      " [-0.84012465  0.26791252 -0.40341937  0.20179841]]\n",
      "[ True False False  True False False False]\n",
      "[[ 0.16340854 -0.02944818 -1.56923922  0.93952409]\n",
      " [-0.42668411  0.08161055  0.56825067  0.76642641]]\n",
      "\n",
      "[[-1.56923922  0.93952409]\n",
      " [ 0.56825067  0.76642641]]\n",
      "[[-1.38269477  0.57026719  0.29464956  0.02241067]\n",
      " [-0.39488217 -2.16186948 -0.81998176 -0.91745489]\n",
      " [ 1.71586869 -0.0060645   0.51508091  0.02054131]\n",
      " [ 0.52711889  0.06525407  0.12086259 -0.14612327]\n",
      " [-0.84012465  0.26791252 -0.40341937  0.20179841]]\n",
      "[[ 0.16340854 -0.02944818 -1.56923922  0.93952409]\n",
      " [-0.39488217 -2.16186948 -0.81998176 -0.91745489]\n",
      " [-0.42668411  0.08161055  0.56825067  0.76642641]\n",
      " [ 1.71586869 -0.0060645   0.51508091  0.02054131]]\n"
     ]
    }
   ],
   "source": [
    "names = np.array(['Bob','Joe','Will','Bob','Will','Joe','Joe'])\n",
    "data = np.random.randn(7,4) # 이건 걍 한 거임.\n",
    "\n",
    "print(data)\n",
    "print(names == \"Bob\") # 0, 3번째 인덱스만 True\n",
    "print(data[names == \"Bob\"]) # 1행과 4행만 출력됨\n",
    "print()\n",
    "print(data[names==\"Bob\",2:]) # 조건 만족하는 1,4행에서 3,4열 부분만 출력\n",
    "print(data[names!=\"Bob\"])\n",
    "print(data[(names == \"Bob\")|(names==\"Will\")])\n",
    "\n",
    "# 불리언에선 파이썬 예약어인 and, or를 쓸 수 없음\n",
    "# 대신 &와 |를 쓰도록 하자! "
   ]
  },
  {
   "cell_type": "code",
   "execution_count": 211,
   "id": "0ab41b07",
   "metadata": {
    "scrolled": true
   },
   "outputs": [
    {
     "name": "stdout",
     "output_type": "stream",
     "text": [
      "[[0.         0.         0.         1.52222034]\n",
      " [0.         0.65394781 0.         1.15146403]\n",
      " [0.         0.         0.         0.        ]\n",
      " [0.62613043 0.         0.06885662 0.40768233]]\n"
     ]
    }
   ],
   "source": [
    "# 음수인 자료를 모두 0으로 바꿔서 출력\n",
    "data = np.random.randn(4,4)\n",
    "data[data<0] = 0\n",
    "print(data)"
   ]
  },
  {
   "cell_type": "code",
   "execution_count": 16,
   "id": "2101634a",
   "metadata": {},
   "outputs": [
    {
     "data": {
      "text/plain": [
       "(array([1, 2, 3, 4, 5, 6, 7, 8, 9], dtype=int64),)"
      ]
     },
     "execution_count": 16,
     "metadata": {},
     "output_type": "execute_result"
    }
   ],
   "source": [
    "# nonzero 함수\n",
    "# 배열에서 0이 아닌 값들의 '인 덱 스'를 반환해 준다\n",
    "\n",
    "np.nonzero(np.arange(10))"
   ]
  },
  {
   "cell_type": "code",
   "execution_count": 33,
   "id": "2e39dade",
   "metadata": {
    "scrolled": true
   },
   "outputs": [
    {
     "name": "stdout",
     "output_type": "stream",
     "text": [
      "[[0. 0. 0. 0.]\n",
      " [1. 1. 1. 1.]\n",
      " [2. 2. 2. 2.]\n",
      " [3. 3. 3. 3.]\n",
      " [4. 4. 4. 4.]\n",
      " [5. 5. 5. 5.]\n",
      " [6. 6. 6. 6.]\n",
      " [7. 7. 7. 7.]]\n",
      "[[0. 0. 0. 0.]\n",
      " [1. 1. 1. 1.]\n",
      " [2. 2. 2. 2.]\n",
      " [3. 3. 3. 3.]\n",
      " [4. 4. 4. 4.]\n",
      " [5. 5. 5. 5.]\n",
      " [6. 6. 6. 6.]\n",
      " [7. 7. 7. 7.]]\n",
      "[[4. 4. 4. 4.]\n",
      " [3. 3. 3. 3.]\n",
      " [0. 0. 0. 0.]\n",
      " [6. 6. 6. 6.]]\n",
      "[[5. 5. 5. 5.]\n",
      " [3. 3. 3. 3.]\n",
      " [1. 1. 1. 1.]]\n"
     ]
    }
   ],
   "source": [
    "# Fancy indexing\n",
    "\n",
    "arr = np.empty((8,4))\n",
    "print(arr)\n",
    "for i in range(8):\n",
    "    arr[i] = i\n",
    "print(arr)\n",
    "\n",
    "print(arr[[4,3,0,6]]) # 행 인덱스가 4,3,0,6인 것만 출력\n",
    "print(arr[[-3,-5,-7]]) # 행 인덱스가 밑에서 3번째, 5번째, 7번째인 것을 출력"
   ]
  },
  {
   "cell_type": "code",
   "execution_count": 22,
   "id": "8f7d0d1e",
   "metadata": {},
   "outputs": [
    {
     "name": "stdout",
     "output_type": "stream",
     "text": [
      "[[ 0  1  2  3]\n",
      " [ 4  5  6  7]\n",
      " [ 8  9 10 11]\n",
      " [12 13 14 15]\n",
      " [16 17 18 19]\n",
      " [20 21 22 23]\n",
      " [24 25 26 27]\n",
      " [28 29 30 31]] \n",
      "\n",
      "[ 4 23 29 10]\n",
      "[[ 4  5  6  7]\n",
      " [20 21 22 23]\n",
      " [28 29 30 31]\n",
      " [ 8  9 10 11]]\n",
      "[[ 4  7  5  6]\n",
      " [20 23 21 22]\n",
      " [28 31 29 30]\n",
      " [ 8 11  9 10]]\n"
     ]
    }
   ],
   "source": [
    "arr = np.arange(32).reshape(8,4)\n",
    "print(arr,'\\n')\n",
    "print(arr[[1,5,7,2],[0,3,1,2]]) # 이건 (1,0),(5,3),(7,1),(2,2)를 뽑아서 어레이로 반환함\n",
    "print(arr[[1,5,7,2]])\n",
    "print(arr[[1,5,7,2]][:,[0,3,1,2]]) # 뒤의 인자의 경우, 행은 전부 선택, 열 순서만 이렇게 출력"
   ]
  },
  {
   "cell_type": "code",
   "execution_count": 32,
   "id": "5f4e6498",
   "metadata": {},
   "outputs": [
    {
     "name": "stdout",
     "output_type": "stream",
     "text": [
      "[[ 0  1  2  3  4]\n",
      " [ 5  6  7  8  9]\n",
      " [10 11 12 13 14]] \n",
      "\n",
      "[[ 0  5 10]\n",
      " [ 1  6 11]\n",
      " [ 2  7 12]\n",
      " [ 3  8 13]\n",
      " [ 4  9 14]]\n",
      "[[ 0  5 10]\n",
      " [ 1  6 11]\n",
      " [ 2  7 12]\n",
      " [ 3  8 13]\n",
      " [ 4  9 14]]\n"
     ]
    }
   ],
   "source": [
    "# 배열 전치와 축 바꾸기\n",
    "# 행과 열을 맞바꾼다!\n",
    "# T 함수를 써도 되고 np.transpose를 써도 되고~\n",
    "\n",
    "arr = np.arange(15).reshape(3,5)\n",
    "print(arr,'\\n')\n",
    "print(arr.T)\n",
    "print(np.transpose(arr))"
   ]
  },
  {
   "cell_type": "code",
   "execution_count": null,
   "id": "75009a1e",
   "metadata": {},
   "outputs": [],
   "source": []
  },
  {
   "cell_type": "code",
   "execution_count": null,
   "id": "ef9338eb",
   "metadata": {},
   "outputs": [],
   "source": []
  },
  {
   "cell_type": "code",
   "execution_count": 4,
   "id": "32da8c42",
   "metadata": {
    "scrolled": true
   },
   "outputs": [
    {
     "name": "stdout",
     "output_type": "stream",
     "text": [
      "[0 0 0 0 0]\n",
      "[[1 1 1]\n",
      " [1 1 1]]\n",
      "[[5. 5.]\n",
      " [5. 5.]\n",
      " [5. 5.]]\n"
     ]
    }
   ],
   "source": [
    "# [과제] zeros_like, ones_like, full_like 함수를 예시로 하나씩만 만들어 보자.\n",
    "# 파라미터 자리에 변수 들어와야 한다고 함. 그 변수랑 똑같은 사이즈의 해당 내용을 출력한다고.\n",
    "import numpy as np\n",
    "\n",
    "# ar0 = np.zeros((3,3))\n",
    "# ar1 = np.ones((2,3))\n",
    "ar0 = np.arange(0,10,2)\n",
    "ar1 = np.arange(0,11,2).reshape(2,-1)\n",
    "arf = np.arange(6).reshape(3,2)\n",
    "print(np.zeros_like(ar0)) # ar0 배열의 크기와 똑같은 행렬을 0으로 채워서 출력\n",
    "print(np.ones_like(ar1)) # ar1 배열의 크기와 똑같은 행렬을 1로 채워서 출력\n",
    "print(np.full_like(arf,5,dtype=float)) # arf 배열의 크기와 똑같은 행렬을 해당 수로 채워서 출력"
   ]
  },
  {
   "cell_type": "code",
   "execution_count": 9,
   "id": "caa0f6da",
   "metadata": {},
   "outputs": [
    {
     "name": "stdout",
     "output_type": "stream",
     "text": [
      "[3, 6, 9, 12, 15, 18, 21, 24, 27, 30, 33, 36, 39, 42, 45, 48, 51, 54, 57, 60, 63, 66, 69, 72, 75, 78, 81, 84, 87, 90, 93, 96, 99]\n",
      "[ 3  6  9 12 15 18 21 24 27 30 33 36 39 42 45 48 51 54 57 60 63 66 69 72\n",
      " 75 78 81 84 87 90 93 96 99]\n"
     ]
    }
   ],
   "source": [
    "# [과제] 1 ~ 100까지 정수에서 3의 배수인 것만을 출력(for문과 배열 두가지 방식)\n",
    "\n",
    "# for문\n",
    "li =[]\n",
    "for i in range(1,101):\n",
    "    if i%3==0: li.append(i)\n",
    "print(li)\n",
    "\n",
    "# 배열\n",
    "ar3 = np.arange(1,101)\n",
    "print(ar3[ar3%3==0])"
   ]
  },
  {
   "cell_type": "code",
   "execution_count": 10,
   "id": "febb2f90",
   "metadata": {},
   "outputs": [
    {
     "name": "stdout",
     "output_type": "stream",
     "text": [
      "[10, 20, 30, 40, 50, 60, 70, 80, 90, 100]\n",
      "[ 10  20  30  40  50  60  70  80  90 100]\n"
     ]
    }
   ],
   "source": [
    "# [과제] 1 ~ 100까지 정수에서 5의 배수이면서 2의 배수인 것만을 출력(for문과 배열 두가지 방식)\n",
    "\n",
    "# for문\n",
    "li=[]\n",
    "for i in range(1,101):\n",
    "    if i%10==0:\n",
    "        li.append(i)\n",
    "print(li)\n",
    "\n",
    "# 배열\n",
    "ar10 = np.arange(1,101)\n",
    "print(ar10[ar10%10==0])"
   ]
  },
  {
   "cell_type": "code",
   "execution_count": 238,
   "id": "80ec29a3",
   "metadata": {},
   "outputs": [
    {
     "name": "stdout",
     "output_type": "stream",
     "text": [
      "[[ 1.24237644 -0.48162387  1.34126797 -0.74201681 -0.76633299]\n",
      " [ 0.03500337  1.03510124  0.20396    -0.62086646  0.88086019]\n",
      " [ 0.18301655  0.98525456  0.95512192 -1.60636576  0.08986724]\n",
      " [ 0.61821458 -0.64651648  0.18739048  0.64671374  0.58958905]\n",
      " [ 0.56902407 -0.12822631 -0.90910246 -1.09114019 -0.85096274]]\n",
      "전체 평균: 0.0688\n",
      "행 방향 평균: [ 0.11873415  0.30681167  0.1213789   0.27907827 -0.48208153]\n",
      "열 방향 평균: [ 0.529527    0.15279783  0.35572758 -0.6827351  -0.01139585]\n",
      "표준편차: 0.8014\n"
     ]
    }
   ],
   "source": [
    "# [과제] 표준정규분포로 구성된 5행 5열 다차원 배열을 생성하고 함수를 이용하여 평균과 표준편차를 구하세요.\n",
    "arr = np.random.randn(5,5)\n",
    "print(arr)\n",
    "print(f'전체 평균: {arr.mean().round(4)}')\n",
    "print(f'행 방향 평균: {arr.mean(axis=1)}')\n",
    "print(f'열 방향 평균: {arr.mean(axis=0)}')\n",
    "print(f'표준편차: {arr.std().round(4)}')"
   ]
  },
  {
   "cell_type": "code",
   "execution_count": 241,
   "id": "7f9c5df2",
   "metadata": {
    "scrolled": false
   },
   "outputs": [
    {
     "name": "stdout",
     "output_type": "stream",
     "text": [
      "Name: numpy\n",
      "Version: 1.21.2\n",
      "Summary: NumPy is the fundamental package for array computing with Python.\n",
      "Home-page: https://www.numpy.org\n",
      "Author: Travis E. Oliphant et al.\n",
      "Author-email: \n",
      "License: BSD\n",
      "Location: c:\\cakd5\\sw\\anaconda3\\envs\\cakd5\\lib\\site-packages\n",
      "Requires: \n",
      "Required-by: tensorflow, tensorboard, seaborn, scipy, scikit-learn, pandas, opt-einsum, numexpr, mkl-random, mkl-fft, matplotlib, Keras, Keras-Preprocessing, Keras-Applications, h5py, Bottleneck\n"
     ]
    }
   ],
   "source": [
    "# [과제] 현재 사용하고 있는 numpy의 버전을 출력하세요.\n",
    "!pip show numpy"
   ]
  },
  {
   "cell_type": "code",
   "execution_count": 12,
   "id": "85122159",
   "metadata": {},
   "outputs": [
    {
     "name": "stdout",
     "output_type": "stream",
     "text": [
      "1.21.2\n"
     ]
    }
   ],
   "source": [
    "print(np.__version__)"
   ]
  },
  {
   "cell_type": "code",
   "execution_count": 245,
   "id": "8b866354",
   "metadata": {
    "scrolled": true
   },
   "outputs": [
    {
     "name": "stdout",
     "output_type": "stream",
     "text": [
      "add(x1, x2, /, out=None, *, where=True, casting='same_kind', order='K', dtype=None, subok=True[, signature, extobj])\n",
      "\n",
      "Add arguments element-wise.\n",
      "\n",
      "Parameters\n",
      "----------\n",
      "x1, x2 : array_like\n",
      "    The arrays to be added.\n",
      "    If ``x1.shape != x2.shape``, they must be broadcastable to a common\n",
      "    shape (which becomes the shape of the output).\n",
      "out : ndarray, None, or tuple of ndarray and None, optional\n",
      "    A location into which the result is stored. If provided, it must have\n",
      "    a shape that the inputs broadcast to. If not provided or None,\n",
      "    a freshly-allocated array is returned. A tuple (possible only as a\n",
      "    keyword argument) must have length equal to the number of outputs.\n",
      "where : array_like, optional\n",
      "    This condition is broadcast over the input. At locations where the\n",
      "    condition is True, the `out` array will be set to the ufunc result.\n",
      "    Elsewhere, the `out` array will retain its original value.\n",
      "    Note that if an uninitialized `out` array is created via the default\n",
      "    ``out=None``, locations within it where the condition is False will\n",
      "    remain uninitialized.\n",
      "**kwargs\n",
      "    For other keyword-only arguments, see the\n",
      "    :ref:`ufunc docs <ufuncs.kwargs>`.\n",
      "\n",
      "Returns\n",
      "-------\n",
      "add : ndarray or scalar\n",
      "    The sum of `x1` and `x2`, element-wise.\n",
      "    This is a scalar if both `x1` and `x2` are scalars.\n",
      "\n",
      "Notes\n",
      "-----\n",
      "Equivalent to `x1` + `x2` in terms of array broadcasting.\n",
      "\n",
      "Examples\n",
      "--------\n",
      ">>> np.add(1.0, 4.0)\n",
      "5.0\n",
      ">>> x1 = np.arange(9.0).reshape((3, 3))\n",
      ">>> x2 = np.arange(3.0)\n",
      ">>> np.add(x1, x2)\n",
      "array([[  0.,   2.,   4.],\n",
      "       [  3.,   5.,   7.],\n",
      "       [  6.,   8.,  10.]])\n",
      "\n",
      "The ``+`` operator can be used as a shorthand for ``np.add`` on ndarrays.\n",
      "\n",
      ">>> x1 = np.arange(9.0).reshape((3, 3))\n",
      ">>> x2 = np.arange(3.0)\n",
      ">>> x1 + x2\n",
      "array([[ 0.,  2.,  4.],\n",
      "       [ 3.,  5.,  7.],\n",
      "       [ 6.,  8., 10.]])\n"
     ]
    }
   ],
   "source": [
    "# [과제] numpy 함수의 도움말 기능을 볼수 있는 방법을 수행하여 add 함수의 가이드를 출력하세요.\n",
    "np.info(np.add)"
   ]
  },
  {
   "cell_type": "code",
   "execution_count": 13,
   "id": "6e00b09e",
   "metadata": {},
   "outputs": [
    {
     "name": "stdout",
     "output_type": "stream",
     "text": [
      "Help on ufunc object:\n",
      "\n",
      "add = class ufunc(builtins.object)\n",
      " |  Functions that operate element by element on whole arrays.\n",
      " |  \n",
      " |  To see the documentation for a specific ufunc, use `info`.  For\n",
      " |  example, ``np.info(np.sin)``.  Because ufuncs are written in C\n",
      " |  (for speed) and linked into Python with NumPy's ufunc facility,\n",
      " |  Python's help() function finds this page whenever help() is called\n",
      " |  on a ufunc.\n",
      " |  \n",
      " |  A detailed explanation of ufuncs can be found in the docs for :ref:`ufuncs`.\n",
      " |  \n",
      " |  **Calling ufuncs:** ``op(*x[, out], where=True, **kwargs)``\n",
      " |  \n",
      " |  Apply `op` to the arguments `*x` elementwise, broadcasting the arguments.\n",
      " |  \n",
      " |  The broadcasting rules are:\n",
      " |  \n",
      " |  * Dimensions of length 1 may be prepended to either array.\n",
      " |  * Arrays may be repeated along dimensions of length 1.\n",
      " |  \n",
      " |  Parameters\n",
      " |  ----------\n",
      " |  *x : array_like\n",
      " |      Input arrays.\n",
      " |  out : ndarray, None, or tuple of ndarray and None, optional\n",
      " |      Alternate array object(s) in which to put the result; if provided, it\n",
      " |      must have a shape that the inputs broadcast to. A tuple of arrays\n",
      " |      (possible only as a keyword argument) must have length equal to the\n",
      " |      number of outputs; use None for uninitialized outputs to be\n",
      " |      allocated by the ufunc.\n",
      " |  where : array_like, optional\n",
      " |      This condition is broadcast over the input. At locations where the\n",
      " |      condition is True, the `out` array will be set to the ufunc result.\n",
      " |      Elsewhere, the `out` array will retain its original value.\n",
      " |      Note that if an uninitialized `out` array is created via the default\n",
      " |      ``out=None``, locations within it where the condition is False will\n",
      " |      remain uninitialized.\n",
      " |  **kwargs\n",
      " |      For other keyword-only arguments, see the :ref:`ufunc docs <ufuncs.kwargs>`.\n",
      " |  \n",
      " |  Returns\n",
      " |  -------\n",
      " |  r : ndarray or tuple of ndarray\n",
      " |      `r` will have the shape that the arrays in `x` broadcast to; if `out` is\n",
      " |      provided, it will be returned. If not, `r` will be allocated and\n",
      " |      may contain uninitialized values. If the function has more than one\n",
      " |      output, then the result will be a tuple of arrays.\n",
      " |  \n",
      " |  Methods defined here:\n",
      " |  \n",
      " |  __call__(self, /, *args, **kwargs)\n",
      " |      Call self as a function.\n",
      " |  \n",
      " |  __repr__(self, /)\n",
      " |      Return repr(self).\n",
      " |  \n",
      " |  __str__(self, /)\n",
      " |      Return str(self).\n",
      " |  \n",
      " |  accumulate(...)\n",
      " |      accumulate(array, axis=0, dtype=None, out=None)\n",
      " |      \n",
      " |      Accumulate the result of applying the operator to all elements.\n",
      " |      \n",
      " |      For a one-dimensional array, accumulate produces results equivalent to::\n",
      " |      \n",
      " |        r = np.empty(len(A))\n",
      " |        t = op.identity        # op = the ufunc being applied to A's  elements\n",
      " |        for i in range(len(A)):\n",
      " |            t = op(t, A[i])\n",
      " |            r[i] = t\n",
      " |        return r\n",
      " |      \n",
      " |      For example, add.accumulate() is equivalent to np.cumsum().\n",
      " |      \n",
      " |      For a multi-dimensional array, accumulate is applied along only one\n",
      " |      axis (axis zero by default; see Examples below) so repeated use is\n",
      " |      necessary if one wants to accumulate over multiple axes.\n",
      " |      \n",
      " |      Parameters\n",
      " |      ----------\n",
      " |      array : array_like\n",
      " |          The array to act on.\n",
      " |      axis : int, optional\n",
      " |          The axis along which to apply the accumulation; default is zero.\n",
      " |      dtype : data-type code, optional\n",
      " |          The data-type used to represent the intermediate results. Defaults\n",
      " |          to the data-type of the output array if such is provided, or the\n",
      " |          the data-type of the input array if no output array is provided.\n",
      " |      out : ndarray, None, or tuple of ndarray and None, optional\n",
      " |          A location into which the result is stored. If not provided or None,\n",
      " |          a freshly-allocated array is returned. For consistency with\n",
      " |          ``ufunc.__call__``, if given as a keyword, this may be wrapped in a\n",
      " |          1-element tuple.\n",
      " |      \n",
      " |          .. versionchanged:: 1.13.0\n",
      " |             Tuples are allowed for keyword argument.\n",
      " |      \n",
      " |      Returns\n",
      " |      -------\n",
      " |      r : ndarray\n",
      " |          The accumulated values. If `out` was supplied, `r` is a reference to\n",
      " |          `out`.\n",
      " |      \n",
      " |      Examples\n",
      " |      --------\n",
      " |      1-D array examples:\n",
      " |      \n",
      " |      >>> np.add.accumulate([2, 3, 5])\n",
      " |      array([ 2,  5, 10])\n",
      " |      >>> np.multiply.accumulate([2, 3, 5])\n",
      " |      array([ 2,  6, 30])\n",
      " |      \n",
      " |      2-D array examples:\n",
      " |      \n",
      " |      >>> I = np.eye(2)\n",
      " |      >>> I\n",
      " |      array([[1.,  0.],\n",
      " |             [0.,  1.]])\n",
      " |      \n",
      " |      Accumulate along axis 0 (rows), down columns:\n",
      " |      \n",
      " |      >>> np.add.accumulate(I, 0)\n",
      " |      array([[1.,  0.],\n",
      " |             [1.,  1.]])\n",
      " |      >>> np.add.accumulate(I) # no axis specified = axis zero\n",
      " |      array([[1.,  0.],\n",
      " |             [1.,  1.]])\n",
      " |      \n",
      " |      Accumulate along axis 1 (columns), through rows:\n",
      " |      \n",
      " |      >>> np.add.accumulate(I, 1)\n",
      " |      array([[1.,  1.],\n",
      " |             [0.,  1.]])\n",
      " |  \n",
      " |  at(...)\n",
      " |      at(a, indices, b=None, /)\n",
      " |      \n",
      " |      Performs unbuffered in place operation on operand 'a' for elements\n",
      " |      specified by 'indices'. For addition ufunc, this method is equivalent to\n",
      " |      ``a[indices] += b``, except that results are accumulated for elements that\n",
      " |      are indexed more than once. For example, ``a[[0,0]] += 1`` will only\n",
      " |      increment the first element once because of buffering, whereas\n",
      " |      ``add.at(a, [0,0], 1)`` will increment the first element twice.\n",
      " |      \n",
      " |      .. versionadded:: 1.8.0\n",
      " |      \n",
      " |      Parameters\n",
      " |      ----------\n",
      " |      a : array_like\n",
      " |          The array to perform in place operation on.\n",
      " |      indices : array_like or tuple\n",
      " |          Array like index object or slice object for indexing into first\n",
      " |          operand. If first operand has multiple dimensions, indices can be a\n",
      " |          tuple of array like index objects or slice objects.\n",
      " |      b : array_like\n",
      " |          Second operand for ufuncs requiring two operands. Operand must be\n",
      " |          broadcastable over first operand after indexing or slicing.\n",
      " |      \n",
      " |      Examples\n",
      " |      --------\n",
      " |      Set items 0 and 1 to their negative values:\n",
      " |      \n",
      " |      >>> a = np.array([1, 2, 3, 4])\n",
      " |      >>> np.negative.at(a, [0, 1])\n",
      " |      >>> a\n",
      " |      array([-1, -2,  3,  4])\n",
      " |      \n",
      " |      Increment items 0 and 1, and increment item 2 twice:\n",
      " |      \n",
      " |      >>> a = np.array([1, 2, 3, 4])\n",
      " |      >>> np.add.at(a, [0, 1, 2, 2], 1)\n",
      " |      >>> a\n",
      " |      array([2, 3, 5, 4])\n",
      " |      \n",
      " |      Add items 0 and 1 in first array to second array,\n",
      " |      and store results in first array:\n",
      " |      \n",
      " |      >>> a = np.array([1, 2, 3, 4])\n",
      " |      >>> b = np.array([1, 2])\n",
      " |      >>> np.add.at(a, [0, 1], b)\n",
      " |      >>> a\n",
      " |      array([2, 4, 3, 4])\n",
      " |  \n",
      " |  outer(...)\n",
      " |      outer(A, B, /, **kwargs)\n",
      " |      \n",
      " |      Apply the ufunc `op` to all pairs (a, b) with a in `A` and b in `B`.\n",
      " |      \n",
      " |      Let ``M = A.ndim``, ``N = B.ndim``. Then the result, `C`, of\n",
      " |      ``op.outer(A, B)`` is an array of dimension M + N such that:\n",
      " |      \n",
      " |      .. math:: C[i_0, ..., i_{M-1}, j_0, ..., j_{N-1}] =\n",
      " |         op(A[i_0, ..., i_{M-1}], B[j_0, ..., j_{N-1}])\n",
      " |      \n",
      " |      For `A` and `B` one-dimensional, this is equivalent to::\n",
      " |      \n",
      " |        r = empty(len(A),len(B))\n",
      " |        for i in range(len(A)):\n",
      " |            for j in range(len(B)):\n",
      " |                r[i,j] = op(A[i], B[j])  # op = ufunc in question\n",
      " |      \n",
      " |      Parameters\n",
      " |      ----------\n",
      " |      A : array_like\n",
      " |          First array\n",
      " |      B : array_like\n",
      " |          Second array\n",
      " |      kwargs : any\n",
      " |          Arguments to pass on to the ufunc. Typically `dtype` or `out`.\n",
      " |          See `ufunc` for a comprehensive overview of all available arguments.\n",
      " |      \n",
      " |      Returns\n",
      " |      -------\n",
      " |      r : ndarray\n",
      " |          Output array\n",
      " |      \n",
      " |      See Also\n",
      " |      --------\n",
      " |      numpy.outer : A less powerful version of ``np.multiply.outer``\n",
      " |                    that `ravel`\\ s all inputs to 1D. This exists\n",
      " |                    primarily for compatibility with old code.\n",
      " |      \n",
      " |      tensordot : ``np.tensordot(a, b, axes=((), ()))`` and\n",
      " |                  ``np.multiply.outer(a, b)`` behave same for all\n",
      " |                  dimensions of a and b.\n",
      " |      \n",
      " |      Examples\n",
      " |      --------\n",
      " |      >>> np.multiply.outer([1, 2, 3], [4, 5, 6])\n",
      " |      array([[ 4,  5,  6],\n",
      " |             [ 8, 10, 12],\n",
      " |             [12, 15, 18]])\n",
      " |      \n",
      " |      A multi-dimensional example:\n",
      " |      \n",
      " |      >>> A = np.array([[1, 2, 3], [4, 5, 6]])\n",
      " |      >>> A.shape\n",
      " |      (2, 3)\n",
      " |      >>> B = np.array([[1, 2, 3, 4]])\n",
      " |      >>> B.shape\n",
      " |      (1, 4)\n",
      " |      >>> C = np.multiply.outer(A, B)\n",
      " |      >>> C.shape; C\n",
      " |      (2, 3, 1, 4)\n",
      " |      array([[[[ 1,  2,  3,  4]],\n",
      " |              [[ 2,  4,  6,  8]],\n",
      " |              [[ 3,  6,  9, 12]]],\n",
      " |             [[[ 4,  8, 12, 16]],\n",
      " |              [[ 5, 10, 15, 20]],\n",
      " |              [[ 6, 12, 18, 24]]]])\n",
      " |  \n",
      " |  reduce(...)\n",
      " |      reduce(array, axis=0, dtype=None, out=None, keepdims=False, initial=<no value>, where=True)\n",
      " |      \n",
      " |      Reduces `array`'s dimension by one, by applying ufunc along one axis.\n",
      " |      \n",
      " |      Let :math:`array.shape = (N_0, ..., N_i, ..., N_{M-1})`.  Then\n",
      " |      :math:`ufunc.reduce(array, axis=i)[k_0, ..,k_{i-1}, k_{i+1}, .., k_{M-1}]` =\n",
      " |      the result of iterating `j` over :math:`range(N_i)`, cumulatively applying\n",
      " |      ufunc to each :math:`array[k_0, ..,k_{i-1}, j, k_{i+1}, .., k_{M-1}]`.\n",
      " |      For a one-dimensional array, reduce produces results equivalent to:\n",
      " |      ::\n",
      " |      \n",
      " |       r = op.identity # op = ufunc\n",
      " |       for i in range(len(A)):\n",
      " |         r = op(r, A[i])\n",
      " |       return r\n",
      " |      \n",
      " |      For example, add.reduce() is equivalent to sum().\n",
      " |      \n",
      " |      Parameters\n",
      " |      ----------\n",
      " |      array : array_like\n",
      " |          The array to act on.\n",
      " |      axis : None or int or tuple of ints, optional\n",
      " |          Axis or axes along which a reduction is performed.\n",
      " |          The default (`axis` = 0) is perform a reduction over the first\n",
      " |          dimension of the input array. `axis` may be negative, in\n",
      " |          which case it counts from the last to the first axis.\n",
      " |      \n",
      " |          .. versionadded:: 1.7.0\n",
      " |      \n",
      " |          If this is None, a reduction is performed over all the axes.\n",
      " |          If this is a tuple of ints, a reduction is performed on multiple\n",
      " |          axes, instead of a single axis or all the axes as before.\n",
      " |      \n",
      " |          For operations which are either not commutative or not associative,\n",
      " |          doing a reduction over multiple axes is not well-defined. The\n",
      " |          ufuncs do not currently raise an exception in this case, but will\n",
      " |          likely do so in the future.\n",
      " |      dtype : data-type code, optional\n",
      " |          The type used to represent the intermediate results. Defaults\n",
      " |          to the data-type of the output array if this is provided, or\n",
      " |          the data-type of the input array if no output array is provided.\n",
      " |      out : ndarray, None, or tuple of ndarray and None, optional\n",
      " |          A location into which the result is stored. If not provided or None,\n",
      " |          a freshly-allocated array is returned. For consistency with\n",
      " |          ``ufunc.__call__``, if given as a keyword, this may be wrapped in a\n",
      " |          1-element tuple.\n",
      " |      \n",
      " |          .. versionchanged:: 1.13.0\n",
      " |             Tuples are allowed for keyword argument.\n",
      " |      keepdims : bool, optional\n",
      " |          If this is set to True, the axes which are reduced are left\n",
      " |          in the result as dimensions with size one. With this option,\n",
      " |          the result will broadcast correctly against the original `array`.\n",
      " |      \n",
      " |          .. versionadded:: 1.7.0\n",
      " |      initial : scalar, optional\n",
      " |          The value with which to start the reduction.\n",
      " |          If the ufunc has no identity or the dtype is object, this defaults\n",
      " |          to None - otherwise it defaults to ufunc.identity.\n",
      " |          If ``None`` is given, the first element of the reduction is used,\n",
      " |          and an error is thrown if the reduction is empty.\n",
      " |      \n",
      " |          .. versionadded:: 1.15.0\n",
      " |      \n",
      " |      where : array_like of bool, optional\n",
      " |          A boolean array which is broadcasted to match the dimensions\n",
      " |          of `array`, and selects elements to include in the reduction. Note\n",
      " |          that for ufuncs like ``minimum`` that do not have an identity\n",
      " |          defined, one has to pass in also ``initial``.\n",
      " |      \n",
      " |          .. versionadded:: 1.17.0\n",
      " |      \n",
      " |      Returns\n",
      " |      -------\n",
      " |      r : ndarray\n",
      " |          The reduced array. If `out` was supplied, `r` is a reference to it.\n",
      " |      \n",
      " |      Examples\n",
      " |      --------\n",
      " |      >>> np.multiply.reduce([2,3,5])\n",
      " |      30\n",
      " |      \n",
      " |      A multi-dimensional array example:\n",
      " |      \n",
      " |      >>> X = np.arange(8).reshape((2,2,2))\n",
      " |      >>> X\n",
      " |      array([[[0, 1],\n",
      " |              [2, 3]],\n",
      " |             [[4, 5],\n",
      " |              [6, 7]]])\n",
      " |      >>> np.add.reduce(X, 0)\n",
      " |      array([[ 4,  6],\n",
      " |             [ 8, 10]])\n",
      " |      >>> np.add.reduce(X) # confirm: default axis value is 0\n",
      " |      array([[ 4,  6],\n",
      " |             [ 8, 10]])\n",
      " |      >>> np.add.reduce(X, 1)\n",
      " |      array([[ 2,  4],\n",
      " |             [10, 12]])\n",
      " |      >>> np.add.reduce(X, 2)\n",
      " |      array([[ 1,  5],\n",
      " |             [ 9, 13]])\n",
      " |      \n",
      " |      You can use the ``initial`` keyword argument to initialize the reduction\n",
      " |      with a different value, and ``where`` to select specific elements to include:\n",
      " |      \n",
      " |      >>> np.add.reduce([10], initial=5)\n",
      " |      15\n",
      " |      >>> np.add.reduce(np.ones((2, 2, 2)), axis=(0, 2), initial=10)\n",
      " |      array([14., 14.])\n",
      " |      >>> a = np.array([10., np.nan, 10])\n",
      " |      >>> np.add.reduce(a, where=~np.isnan(a))\n",
      " |      20.0\n",
      " |      \n",
      " |      Allows reductions of empty arrays where they would normally fail, i.e.\n",
      " |      for ufuncs without an identity.\n",
      " |      \n",
      " |      >>> np.minimum.reduce([], initial=np.inf)\n",
      " |      inf\n",
      " |      >>> np.minimum.reduce([[1., 2.], [3., 4.]], initial=10., where=[True, False])\n",
      " |      array([ 1., 10.])\n",
      " |      >>> np.minimum.reduce([])\n",
      " |      Traceback (most recent call last):\n",
      " |          ...\n",
      " |      ValueError: zero-size array to reduction operation minimum which has no identity\n",
      " |  \n",
      " |  reduceat(...)\n",
      " |      reduceat(array, indices, axis=0, dtype=None, out=None)\n",
      " |      \n",
      " |      Performs a (local) reduce with specified slices over a single axis.\n",
      " |      \n",
      " |      For i in ``range(len(indices))``, `reduceat` computes\n",
      " |      ``ufunc.reduce(array[indices[i]:indices[i+1]])``, which becomes the i-th\n",
      " |      generalized \"row\" parallel to `axis` in the final result (i.e., in a\n",
      " |      2-D array, for example, if `axis = 0`, it becomes the i-th row, but if\n",
      " |      `axis = 1`, it becomes the i-th column).  There are three exceptions to this:\n",
      " |      \n",
      " |      * when ``i = len(indices) - 1`` (so for the last index),\n",
      " |        ``indices[i+1] = array.shape[axis]``.\n",
      " |      * if ``indices[i] >= indices[i + 1]``, the i-th generalized \"row\" is\n",
      " |        simply ``array[indices[i]]``.\n",
      " |      * if ``indices[i] >= len(array)`` or ``indices[i] < 0``, an error is raised.\n",
      " |      \n",
      " |      The shape of the output depends on the size of `indices`, and may be\n",
      " |      larger than `array` (this happens if ``len(indices) > array.shape[axis]``).\n",
      " |      \n",
      " |      Parameters\n",
      " |      ----------\n",
      " |      array : array_like\n",
      " |          The array to act on.\n",
      " |      indices : array_like\n",
      " |          Paired indices, comma separated (not colon), specifying slices to\n",
      " |          reduce.\n",
      " |      axis : int, optional\n",
      " |          The axis along which to apply the reduceat.\n",
      " |      dtype : data-type code, optional\n",
      " |          The type used to represent the intermediate results. Defaults\n",
      " |          to the data type of the output array if this is provided, or\n",
      " |          the data type of the input array if no output array is provided.\n",
      " |      out : ndarray, None, or tuple of ndarray and None, optional\n",
      " |          A location into which the result is stored. If not provided or None,\n",
      " |          a freshly-allocated array is returned. For consistency with\n",
      " |          ``ufunc.__call__``, if given as a keyword, this may be wrapped in a\n",
      " |          1-element tuple.\n",
      " |      \n",
      " |          .. versionchanged:: 1.13.0\n",
      " |             Tuples are allowed for keyword argument.\n",
      " |      \n",
      " |      Returns\n",
      " |      -------\n",
      " |      r : ndarray\n",
      " |          The reduced values. If `out` was supplied, `r` is a reference to\n",
      " |          `out`.\n",
      " |      \n",
      " |      Notes\n",
      " |      -----\n",
      " |      A descriptive example:\n",
      " |      \n",
      " |      If `array` is 1-D, the function `ufunc.accumulate(array)` is the same as\n",
      " |      ``ufunc.reduceat(array, indices)[::2]`` where `indices` is\n",
      " |      ``range(len(array) - 1)`` with a zero placed\n",
      " |      in every other element:\n",
      " |      ``indices = zeros(2 * len(array) - 1)``,\n",
      " |      ``indices[1::2] = range(1, len(array))``.\n",
      " |      \n",
      " |      Don't be fooled by this attribute's name: `reduceat(array)` is not\n",
      " |      necessarily smaller than `array`.\n",
      " |      \n",
      " |      Examples\n",
      " |      --------\n",
      " |      To take the running sum of four successive values:\n",
      " |      \n",
      " |      >>> np.add.reduceat(np.arange(8),[0,4, 1,5, 2,6, 3,7])[::2]\n",
      " |      array([ 6, 10, 14, 18])\n",
      " |      \n",
      " |      A 2-D example:\n",
      " |      \n",
      " |      >>> x = np.linspace(0, 15, 16).reshape(4,4)\n",
      " |      >>> x\n",
      " |      array([[ 0.,   1.,   2.,   3.],\n",
      " |             [ 4.,   5.,   6.,   7.],\n",
      " |             [ 8.,   9.,  10.,  11.],\n",
      " |             [12.,  13.,  14.,  15.]])\n",
      " |      \n",
      " |      ::\n",
      " |      \n",
      " |       # reduce such that the result has the following five rows:\n",
      " |       # [row1 + row2 + row3]\n",
      " |       # [row4]\n",
      " |       # [row2]\n",
      " |       # [row3]\n",
      " |       # [row1 + row2 + row3 + row4]\n",
      " |      \n",
      " |      >>> np.add.reduceat(x, [0, 3, 1, 2, 0])\n",
      " |      array([[12.,  15.,  18.,  21.],\n",
      " |             [12.,  13.,  14.,  15.],\n",
      " |             [ 4.,   5.,   6.,   7.],\n",
      " |             [ 8.,   9.,  10.,  11.],\n",
      " |             [24.,  28.,  32.,  36.]])\n",
      " |      \n",
      " |      ::\n",
      " |      \n",
      " |       # reduce such that result has the following two columns:\n",
      " |       # [col1 * col2 * col3, col4]\n",
      " |      \n",
      " |      >>> np.multiply.reduceat(x, [0, 3], 1)\n",
      " |      array([[   0.,     3.],\n",
      " |             [ 120.,     7.],\n",
      " |             [ 720.,    11.],\n",
      " |             [2184.,    15.]])\n",
      " |  \n",
      " |  ----------------------------------------------------------------------\n",
      " |  Data descriptors defined here:\n",
      " |  \n",
      " |  identity\n",
      " |      The identity value.\n",
      " |      \n",
      " |      Data attribute containing the identity element for the ufunc, if it has one.\n",
      " |      If it does not, the attribute value is None.\n",
      " |      \n",
      " |      Examples\n",
      " |      --------\n",
      " |      >>> np.add.identity\n",
      " |      0\n",
      " |      >>> np.multiply.identity\n",
      " |      1\n",
      " |      >>> np.power.identity\n",
      " |      1\n",
      " |      >>> print(np.exp.identity)\n",
      " |      None\n",
      " |  \n",
      " |  nargs\n",
      " |      The number of arguments.\n",
      " |      \n",
      " |      Data attribute containing the number of arguments the ufunc takes, including\n",
      " |      optional ones.\n",
      " |      \n",
      " |      Notes\n",
      " |      -----\n",
      " |      Typically this value will be one more than what you might expect because all\n",
      " |      ufuncs take  the optional \"out\" argument.\n",
      " |      \n",
      " |      Examples\n",
      " |      --------\n",
      " |      >>> np.add.nargs\n",
      " |      3\n",
      " |      >>> np.multiply.nargs\n",
      " |      3\n",
      " |      >>> np.power.nargs\n",
      " |      3\n",
      " |      >>> np.exp.nargs\n",
      " |      2\n",
      " |  \n",
      " |  nin\n",
      " |      The number of inputs.\n",
      " |      \n",
      " |      Data attribute containing the number of arguments the ufunc treats as input.\n",
      " |      \n",
      " |      Examples\n",
      " |      --------\n",
      " |      >>> np.add.nin\n",
      " |      2\n",
      " |      >>> np.multiply.nin\n",
      " |      2\n",
      " |      >>> np.power.nin\n",
      " |      2\n",
      " |      >>> np.exp.nin\n",
      " |      1\n",
      " |  \n",
      " |  nout\n",
      " |      The number of outputs.\n",
      " |      \n",
      " |      Data attribute containing the number of arguments the ufunc treats as output.\n",
      " |      \n",
      " |      Notes\n",
      " |      -----\n",
      " |      Since all ufuncs can take output arguments, this will always be (at least) 1.\n",
      " |      \n",
      " |      Examples\n",
      " |      --------\n",
      " |      >>> np.add.nout\n",
      " |      1\n",
      " |      >>> np.multiply.nout\n",
      " |      1\n",
      " |      >>> np.power.nout\n",
      " |      1\n",
      " |      >>> np.exp.nout\n",
      " |      1\n",
      " |  \n",
      " |  ntypes\n",
      " |      The number of types.\n",
      " |      \n",
      " |      The number of numerical NumPy types - of which there are 18 total - on which\n",
      " |      the ufunc can operate.\n",
      " |      \n",
      " |      See Also\n",
      " |      --------\n",
      " |      numpy.ufunc.types\n",
      " |      \n",
      " |      Examples\n",
      " |      --------\n",
      " |      >>> np.add.ntypes\n",
      " |      18\n",
      " |      >>> np.multiply.ntypes\n",
      " |      18\n",
      " |      >>> np.power.ntypes\n",
      " |      17\n",
      " |      >>> np.exp.ntypes\n",
      " |      7\n",
      " |      >>> np.remainder.ntypes\n",
      " |      14\n",
      " |  \n",
      " |  signature\n",
      " |      Definition of the core elements a generalized ufunc operates on.\n",
      " |      \n",
      " |      The signature determines how the dimensions of each input/output array\n",
      " |      are split into core and loop dimensions:\n",
      " |      \n",
      " |      1. Each dimension in the signature is matched to a dimension of the\n",
      " |         corresponding passed-in array, starting from the end of the shape tuple.\n",
      " |      2. Core dimensions assigned to the same label in the signature must have\n",
      " |         exactly matching sizes, no broadcasting is performed.\n",
      " |      3. The core dimensions are removed from all inputs and the remaining\n",
      " |         dimensions are broadcast together, defining the loop dimensions.\n",
      " |      \n",
      " |      Notes\n",
      " |      -----\n",
      " |      Generalized ufuncs are used internally in many linalg functions, and in\n",
      " |      the testing suite; the examples below are taken from these.\n",
      " |      For ufuncs that operate on scalars, the signature is None, which is\n",
      " |      equivalent to '()' for every argument.\n",
      " |      \n",
      " |      Examples\n",
      " |      --------\n",
      " |      >>> np.core.umath_tests.matrix_multiply.signature\n",
      " |      '(m,n),(n,p)->(m,p)'\n",
      " |      >>> np.linalg._umath_linalg.det.signature\n",
      " |      '(m,m)->()'\n",
      " |      >>> np.add.signature is None\n",
      " |      True  # equivalent to '(),()->()'\n",
      " |  \n",
      " |  types\n",
      " |      Returns a list with types grouped input->output.\n",
      " |      \n",
      " |      Data attribute listing the data-type \"Domain-Range\" groupings the ufunc can\n",
      " |      deliver. The data-types are given using the character codes.\n",
      " |      \n",
      " |      See Also\n",
      " |      --------\n",
      " |      numpy.ufunc.ntypes\n",
      " |      \n",
      " |      Examples\n",
      " |      --------\n",
      " |      >>> np.add.types\n",
      " |      ['??->?', 'bb->b', 'BB->B', 'hh->h', 'HH->H', 'ii->i', 'II->I', 'll->l',\n",
      " |      'LL->L', 'qq->q', 'QQ->Q', 'ff->f', 'dd->d', 'gg->g', 'FF->F', 'DD->D',\n",
      " |      'GG->G', 'OO->O']\n",
      " |      \n",
      " |      >>> np.multiply.types\n",
      " |      ['??->?', 'bb->b', 'BB->B', 'hh->h', 'HH->H', 'ii->i', 'II->I', 'll->l',\n",
      " |      'LL->L', 'qq->q', 'QQ->Q', 'ff->f', 'dd->d', 'gg->g', 'FF->F', 'DD->D',\n",
      " |      'GG->G', 'OO->O']\n",
      " |      \n",
      " |      >>> np.power.types\n",
      " |      ['bb->b', 'BB->B', 'hh->h', 'HH->H', 'ii->i', 'II->I', 'll->l', 'LL->L',\n",
      " |      'qq->q', 'QQ->Q', 'ff->f', 'dd->d', 'gg->g', 'FF->F', 'DD->D', 'GG->G',\n",
      " |      'OO->O']\n",
      " |      \n",
      " |      >>> np.exp.types\n",
      " |      ['f->f', 'd->d', 'g->g', 'F->F', 'D->D', 'G->G', 'O->O']\n",
      " |      \n",
      " |      >>> np.remainder.types\n",
      " |      ['bb->b', 'BB->B', 'hh->h', 'HH->H', 'ii->i', 'II->I', 'll->l', 'LL->L',\n",
      " |      'qq->q', 'QQ->Q', 'ff->f', 'dd->d', 'gg->g', 'OO->O']\n",
      "\n"
     ]
    }
   ],
   "source": [
    "help(np.add)"
   ]
  },
  {
   "cell_type": "code",
   "execution_count": 257,
   "id": "d7118c1c",
   "metadata": {
    "scrolled": true
   },
   "outputs": [
    {
     "data": {
      "text/plain": [
       "array([0., 0., 0., 0., 1., 0., 0., 0., 0., 0.])"
      ]
     },
     "execution_count": 257,
     "metadata": {},
     "output_type": "execute_result"
    }
   ],
   "source": [
    "# [과제] zeros 함수를 이용해서 아래와 같이 출력하세요.\n",
    "# array([0., 0., 0., 0., 1., 0., 0., 0., 0., 0.])\n",
    "ar0 = np.zeros(10).astype(float)\n",
    "ar0[4] = 1\n",
    "ar0"
   ]
  },
  {
   "cell_type": "code",
   "execution_count": 251,
   "id": "336b7206",
   "metadata": {},
   "outputs": [
    {
     "name": "stdout",
     "output_type": "stream",
     "text": [
      "[9 8 7 6 5 4 3 2 1 0]\n"
     ]
    }
   ],
   "source": [
    "# [과제] 인덱싱을 이용하여 아래 배열을 내림차순으로 정렬하세요.\n",
    "# [0, 1, 2, 3, 4, 5, 6, 7, 8, 9]\n",
    "arr = np.arange(10)\n",
    "print(arr[::-1])"
   ]
  },
  {
   "cell_type": "code",
   "execution_count": 15,
   "id": "e97cb394",
   "metadata": {},
   "outputs": [
    {
     "data": {
      "text/plain": [
       "(array([0, 1, 4], dtype=int64),)"
      ]
     },
     "execution_count": 15,
     "metadata": {},
     "output_type": "execute_result"
    }
   ],
   "source": [
    "# [과제] [1,2,0,0,4,0]에서 zero가 아닌 인덱스를 배열 형태로 출력하세요.\n",
    "# nonzero 함수를 쓰는가 아니냐를 보는 것이었음\n",
    "\n",
    "arr = np.array([1,2,0,0,4,0])\n",
    "# arr_= arr[arr!=0]\n",
    "# print(arr_)\n",
    "np.nonzero(arr)"
   ]
  }
 ],
 "metadata": {
  "kernelspec": {
   "display_name": "Python 3 (ipykernel)",
   "language": "python",
   "name": "python3"
  },
  "language_info": {
   "codemirror_mode": {
    "name": "ipython",
    "version": 3
   },
   "file_extension": ".py",
   "mimetype": "text/x-python",
   "name": "python",
   "nbconvert_exporter": "python",
   "pygments_lexer": "ipython3",
   "version": "3.8.12"
  }
 },
 "nbformat": 4,
 "nbformat_minor": 5
}
