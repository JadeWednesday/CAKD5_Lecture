{
 "cells": [
  {
   "cell_type": "code",
   "execution_count": 1,
   "id": "bc6d8a37",
   "metadata": {},
   "outputs": [],
   "source": [
    "import numpy as np"
   ]
  },
  {
   "cell_type": "code",
   "execution_count": 2,
   "id": "44b35ca6",
   "metadata": {},
   "outputs": [
    {
     "name": "stdout",
     "output_type": "stream",
     "text": [
      "[[9 4 3 2 5]\n",
      " [9 4 1 9 6]\n",
      " [3 6 4 3 2]\n",
      " [1 5 9 1 9]\n",
      " [5 6 9 9 2]] \n",
      " [[9 9 3 1 5]\n",
      " [4 4 6 5 6]\n",
      " [3 1 4 9 9]\n",
      " [2 9 3 1 9]\n",
      " [5 6 2 9 2]] \n",
      " [[9 9 3 1 5]\n",
      " [4 4 6 5 6]\n",
      " [3 1 4 9 9]\n",
      " [2 9 3 1 9]\n",
      " [5 6 2 9 2]]\n"
     ]
    }
   ],
   "source": [
    "# 전치\n",
    "arr = np.random.randint(1,10,size=(5,5))\n",
    "print(arr,'\\n',arr.T,'\\n',np.transpose(arr))"
   ]
  },
  {
   "cell_type": "code",
   "execution_count": 3,
   "id": "49fca3fe",
   "metadata": {},
   "outputs": [
    {
     "name": "stdout",
     "output_type": "stream",
     "text": [
      "[[ 1  2  3  4  5]\n",
      " [ 6  7  8  9 10]\n",
      " [11 12 13 14 15]\n",
      " [16 17 18 19 20]\n",
      " [21 22 23 24 25]]\n",
      "[[ 1  6 11 16 21]\n",
      " [ 2  7 12 17 22]\n",
      " [ 3  8 13 18 23]\n",
      " [ 4  9 14 19 24]\n",
      " [ 5 10 15 20 25]]\n"
     ]
    },
    {
     "data": {
      "text/plain": [
       "array([[ 855,  910,  965, 1020, 1075],\n",
       "       [ 910,  970, 1030, 1090, 1150],\n",
       "       [ 965, 1030, 1095, 1160, 1225],\n",
       "       [1020, 1090, 1160, 1230, 1300],\n",
       "       [1075, 1150, 1225, 1300, 1375]])"
      ]
     },
     "execution_count": 3,
     "metadata": {},
     "output_type": "execute_result"
    }
   ],
   "source": [
    "# 행렬 곱, 내적\n",
    "\n",
    "arr = np.arange(1,26).reshape(5,5)\n",
    "print(arr)\n",
    "print(arr.T)\n",
    "np.dot(arr.T,arr) # 앞 행렬의 행과 뒷 행렬의 열을 곱해서 다 더한 값을 해당 위치에 넣은 결과임\n",
    "# 일반적인 행렬 곱 계산이라 보면 된다"
   ]
  },
  {
   "cell_type": "code",
   "execution_count": 4,
   "id": "810425ce",
   "metadata": {},
   "outputs": [
    {
     "name": "stdout",
     "output_type": "stream",
     "text": [
      "[[0 1 2]\n",
      " [3 4 5]] \n",
      "\n",
      "[[0 3]\n",
      " [1 4]\n",
      " [2 5]] \n",
      " [[0 3]\n",
      " [1 4]\n",
      " [2 5]] \n",
      " [[0 3]\n",
      " [1 4]\n",
      " [2 5]]\n",
      "[[ True  True]\n",
      " [ True  True]\n",
      " [ True  True]]\n"
     ]
    }
   ],
   "source": [
    "# 축 스왑\n",
    "a = np.arange(6).reshape(2,3)\n",
    "print(a,'\\n')\n",
    "y = np.swapaxes(a, 0,1) # a에 대해 행과 열을 바꿔라. 0은 2차원(열), 1은 1차원(행)\n",
    "print(y,'\\n',a.T,'\\n',np.transpose(a))\n",
    "print(y == a.T)"
   ]
  },
  {
   "cell_type": "code",
   "execution_count": 5,
   "id": "d47f5f2c",
   "metadata": {},
   "outputs": [],
   "source": [
    "# [연습문제] 1~100을 아래와 같이 출력해 보세요\n",
    "#[[  1   2   3   4   5   6   7   8   9  10]\n",
    "# [ 20  19  18  17  16  15  14  13  12  11]\n",
    "# [ 21  22  23  24  25  26  27  28  29  30]\n",
    "# [ 40  39  38  37  36  35  34  33  32  31]\n",
    "# [ 41  42  43  44  45  46  47  48  49  50]\n",
    "# [ 60  59  58  57  56  55  54  53  52  51]\n",
    "# [ 61  62  63  64  65  66  67  68  69  70]\n",
    "# [ 80  79  78  77  76  75  74  73  72  71]\n",
    "# [ 81  82  83  84  85  86  87  88  89  90]\n",
    "# [100  99  98  97  96  95  94  93  92  91]] <class 'numpy.ndarray'>\n"
   ]
  },
  {
   "cell_type": "code",
   "execution_count": 6,
   "id": "907a60cc",
   "metadata": {},
   "outputs": [
    {
     "name": "stdout",
     "output_type": "stream",
     "text": [
      "[[  1   2   3   4   5   6   7   8   9  10]\n",
      " [ 20  19  18  17  16  15  14  13  12  11]\n",
      " [ 21  22  23  24  25  26  27  28  29  30]\n",
      " [ 40  39  38  37  36  35  34  33  32  31]\n",
      " [ 41  42  43  44  45  46  47  48  49  50]\n",
      " [ 60  59  58  57  56  55  54  53  52  51]\n",
      " [ 61  62  63  64  65  66  67  68  69  70]\n",
      " [ 80  79  78  77  76  75  74  73  72  71]\n",
      " [ 81  82  83  84  85  86  87  88  89  90]\n",
      " [100  99  98  97  96  95  94  93  92  91]] <class 'numpy.ndarray'>\n"
     ]
    }
   ],
   "source": [
    "ar = np.arange(1,101).reshape(10,10)\n",
    "for i in range(10):\n",
    "    if i%2==1:\n",
    "        ar[i] = ar[i,::-1]\n",
    "print(ar,type(ar))"
   ]
  },
  {
   "cell_type": "code",
   "execution_count": 7,
   "id": "b93577d6",
   "metadata": {},
   "outputs": [
    {
     "name": "stdout",
     "output_type": "stream",
     "text": [
      "[[  1   2   3   4   5   6   7   8   9  10]\n",
      " [ 20  19  18  17  16  15  14  13  12  11]\n",
      " [ 21  22  23  24  25  26  27  28  29  30]\n",
      " [ 40  39  38  37  36  35  34  33  32  31]\n",
      " [ 41  42  43  44  45  46  47  48  49  50]\n",
      " [ 60  59  58  57  56  55  54  53  52  51]\n",
      " [ 61  62  63  64  65  66  67  68  69  70]\n",
      " [ 80  79  78  77  76  75  74  73  72  71]\n",
      " [ 81  82  83  84  85  86  87  88  89  90]\n",
      " [100  99  98  97  96  95  94  93  92  91]] <class 'numpy.ndarray'>\n"
     ]
    }
   ],
   "source": [
    "# 또는! 인덱싱 기능을 이용하여~\n",
    "ar = np.arange(1,101).reshape(10,10)\n",
    "ar[[1,3,5,7,9]] = ar[[1,3,5,7,9]][:,::-1]\n",
    "print(ar,type(ar))"
   ]
  },
  {
   "cell_type": "code",
   "execution_count": 8,
   "id": "0e8bc80b",
   "metadata": {
    "scrolled": true
   },
   "outputs": [
    {
     "name": "stdout",
     "output_type": "stream",
     "text": [
      "[[[ 0  1  2  3  4  5]\n",
      "  [ 6  7  8  9 10 11]\n",
      "  [12 13 14 15 16 17]]\n",
      "\n",
      " [[18 19 20 21 22 23]\n",
      "  [24 25 26 27 28 29]\n",
      "  [30 31 32 33 34 35]]] (2, 3, 6) \n",
      "\n",
      "[[[ 0 18]\n",
      "  [ 1 19]\n",
      "  [ 2 20]\n",
      "  [ 3 21]\n",
      "  [ 4 22]\n",
      "  [ 5 23]]\n",
      "\n",
      " [[ 6 24]\n",
      "  [ 7 25]\n",
      "  [ 8 26]\n",
      "  [ 9 27]\n",
      "  [10 28]\n",
      "  [11 29]]\n",
      "\n",
      " [[12 30]\n",
      "  [13 31]\n",
      "  [14 32]\n",
      "  [15 33]\n",
      "  [16 34]\n",
      "  [17 35]]] (3, 6, 2) \n",
      "\n"
     ]
    }
   ],
   "source": [
    "# (0,1,2) - 순서대로 3차원, 2차원, 1차원\n",
    "# 2차원 배열 행렬과 헷갈리면 안 돼!!\n",
    "\n",
    "# 0 - 3차원 깊이\n",
    "# 1 - 2차원 행\n",
    "# 2 - 1차원 열\n",
    "\n",
    "# axis 0(깊이), 1(행), 2(열)\n",
    "# 차원을 모두 바꿔보자! (3차원, 2차원, 1차원)->(2차원,1차원,3차원) 0,1,2 -> 1,2,0\n",
    "# 1차원 열, 2차원 행, 3차원 깊이\n",
    "# 행이 페이지 수라고 생각하면 편함.윗장, 밑장의 개수가 행의 수\n",
    "\n",
    "a = np.arange(36).reshape(2,3,-1) # 1차원 열 6개, 2차원 행 3개, 3차원 깊이 2개\n",
    "print(a,a.shape,'\\n')\n",
    "y = np.transpose(a,(1,2,0)) # 2차원 성분을 3차원으로, 3차원 성분은 1차원으로, 1차원 성분은 2차원\n",
    "print(y,y.shape,'\\n') # 1차원 열 2개, 2차원 행 6개, 3차원 깊이 3개"
   ]
  },
  {
   "cell_type": "code",
   "execution_count": 9,
   "id": "fb8a72f9",
   "metadata": {},
   "outputs": [
    {
     "name": "stdout",
     "output_type": "stream",
     "text": [
      "[1 2 0]\n",
      "[1 2 0]\n"
     ]
    }
   ],
   "source": [
    "# 나머지를 구할 경우 사용하는 함수\n",
    "val1 = np.array([15,30,45])\n",
    "val2 = np.array([2,7,9])\n",
    "print(np.mod(val1,val2))\n",
    "print(np.remainder(val1,val2))"
   ]
  },
  {
   "cell_type": "code",
   "execution_count": 10,
   "id": "db48c937",
   "metadata": {},
   "outputs": [
    {
     "name": "stdout",
     "output_type": "stream",
     "text": [
      "[1.1765 0.5405 0.01  ] \n",
      "\n",
      "[100] \n",
      "\n",
      "[0.01]\n"
     ]
    }
   ],
   "source": [
    "# 각 수의 역수를 구해주는 함수\n",
    "val = np.array([0.85,1.85,100])\n",
    "print(np.reciprocal(val).round(4),'\\n')\n",
    "\n",
    "val1 = np.array([100],dtype=int)\n",
    "print(val1,'\\n')\n",
    "print(np.reciprocal(val1,dtype=float))"
   ]
  },
  {
   "cell_type": "code",
   "execution_count": 11,
   "id": "2ab97b0e",
   "metadata": {
    "scrolled": true
   },
   "outputs": [
    {
     "name": "stdout",
     "output_type": "stream",
     "text": [
      "[  4 100 225] \n",
      " [   2  100 3375]\n"
     ]
    }
   ],
   "source": [
    "# 승수의 결과값을 표시해 주는 함수\n",
    "v1 = np.array([2,10,15])\n",
    "v2 = np.array([1,2,3])\n",
    "print(np.power(v1,2),'\\n',np.power(v1,v2))"
   ]
  },
  {
   "cell_type": "code",
   "execution_count": 12,
   "id": "4b49d59f",
   "metadata": {},
   "outputs": [
    {
     "name": "stdout",
     "output_type": "stream",
     "text": [
      "0.00025743979333665184 \n",
      "\n",
      "1.0001374683061406\n"
     ]
    }
   ],
   "source": [
    "# 그것이 표준 정규분포이니까...\n",
    "arr = np.random.randn(10000000) # 집단을 무한히 늘릴수록 평균은 0, 표준편차는 1에 가까워진다.\n",
    "print(arr.mean(),'\\n')\n",
    "print(arr.std())"
   ]
  },
  {
   "cell_type": "code",
   "execution_count": 13,
   "id": "a83bc236",
   "metadata": {},
   "outputs": [
    {
     "data": {
      "text/plain": [
       "6"
      ]
     },
     "execution_count": 13,
     "metadata": {},
     "output_type": "execute_result"
    }
   ],
   "source": [
    "# 양수인 원소의 개수\n",
    "arr = np.random.randn(10)\n",
    "(arr>0).sum()"
   ]
  },
  {
   "cell_type": "code",
   "execution_count": 14,
   "id": "64c74ffc",
   "metadata": {},
   "outputs": [
    {
     "name": "stdout",
     "output_type": "stream",
     "text": [
      "True False\n"
     ]
    }
   ],
   "source": [
    "# 하나 이상의 값이 True라면 any, 모두가 True여야 한다면 all\n",
    "bools = np.array([False, False, True, True])\n",
    "print(bools.any(),bools.all())"
   ]
  },
  {
   "cell_type": "code",
   "execution_count": 15,
   "id": "75f1cf97",
   "metadata": {},
   "outputs": [
    {
     "name": "stdout",
     "output_type": "stream",
     "text": [
      "[[ 0.05428054  0.4339411  -1.08880494 -0.83544476]\n",
      " [ 1.02588133 -0.0404686  -0.08926639 -0.76061744]\n",
      " [ 0.42602662 -0.11205881  1.57583905 -0.21513109]\n",
      " [-0.6331516  -1.42771306 -1.67125322  0.38850975]] \n",
      "\n"
     ]
    },
    {
     "data": {
      "text/plain": [
       "array([[ 2,  2, -2, -2],\n",
       "       [ 2, -2, -2, -2],\n",
       "       [ 2, -2,  2, -2],\n",
       "       [-2, -2, -2,  2]])"
      ]
     },
     "execution_count": 15,
     "metadata": {},
     "output_type": "execute_result"
    }
   ],
   "source": [
    "# 삼항식의 벡터화 버전\n",
    "arr = np.random.randn(4,4)\n",
    "print(arr,'\\n')\n",
    "np.where(arr>0,2,-2) # arr이 0보다 크면 2, 작으면 -2 반환"
   ]
  },
  {
   "cell_type": "code",
   "execution_count": 16,
   "id": "28ad9b04",
   "metadata": {
    "scrolled": true
   },
   "outputs": [
    {
     "name": "stdout",
     "output_type": "stream",
     "text": [
      "[[-0.89304106 -1.62862982  0.9303644   1.5130584 ]\n",
      " [-0.30797797  0.21122002 -0.96134789  0.04538075]\n",
      " [ 0.21252087 -1.11932921 -0.83830317  1.15195166]\n",
      " [-1.10791506  2.15858115  0.83753364 -0.66396382]] \n",
      "\n"
     ]
    },
    {
     "data": {
      "text/plain": [
       "array([[-0.89304106, -1.62862982,  2.        ,  2.        ],\n",
       "       [-0.30797797,  2.        , -0.96134789,  2.        ],\n",
       "       [ 2.        , -1.11932921, -0.83830317,  2.        ],\n",
       "       [-1.10791506,  2.        ,  2.        , -0.66396382]])"
      ]
     },
     "execution_count": 16,
     "metadata": {},
     "output_type": "execute_result"
    }
   ],
   "source": [
    "# [연습문제] arr의 모든 양수를 2로 바꿔보자.\n",
    "arr = np.random.randn(4,4)\n",
    "print(arr,'\\n')\n",
    "np.where(arr>0,2,arr)\n",
    "# 이 경우에는 아닌 경우를 지정하지 않았기 때문에 arr 그대로 둔다고 말해줘야 함"
   ]
  },
  {
   "cell_type": "code",
   "execution_count": 17,
   "id": "18dc8fe7",
   "metadata": {},
   "outputs": [
    {
     "name": "stdout",
     "output_type": "stream",
     "text": [
      "[[1 2 3]\n",
      " [1 2 3]\n",
      " [1 2 3]] \n",
      " [[1 1 1]\n",
      " [2 2 2]\n",
      " [3 3 3]]\n"
     ]
    }
   ],
   "source": [
    "# meshgrid()\n",
    "# 두 개의 1차원 배열을 받아서 가능한 모든 (x,y) 짝을 만드는 함수\n",
    "\n",
    "x = np.arange(1,4)\n",
    "y = np.arange(1,4)\n",
    "xs,ys = np.meshgrid(x,y)\n",
    "print(xs,'\\n',ys)"
   ]
  },
  {
   "cell_type": "code",
   "execution_count": 18,
   "id": "19cdf042",
   "metadata": {},
   "outputs": [
    {
     "name": "stdout",
     "output_type": "stream",
     "text": [
      "[45 48 65 68 68 10 84 22 37 88] \n",
      "\n",
      "[10 22 37 45 48 65 68 68 84 88]\n"
     ]
    }
   ],
   "source": [
    "# np.sort()\n",
    "np.random.seed(0) # 랜덤 출력 고정\n",
    "arr = np.random.randint(1,100,size = 10)\n",
    "print(arr,'\\n')\n",
    "print(np.sort(arr)) # 기존 것은 놔두고 새로운 어레이 생성"
   ]
  },
  {
   "cell_type": "code",
   "execution_count": 19,
   "id": "a3e22f10",
   "metadata": {},
   "outputs": [
    {
     "name": "stdout",
     "output_type": "stream",
     "text": [
      "[[ 8 12]\n",
      " [17  1]] \n",
      " [[ 8  1]\n",
      " [17 12]]\n",
      "[[ 8 12]\n",
      " [17  1]] \n",
      " [[ 8 12]\n",
      " [ 1 17]]\n"
     ]
    }
   ],
   "source": [
    "# 행렬이 2차원 이상일 때 axis 축 값 설정을 통해 행, 열 방향으로 정렬 수행\n",
    "ar2d = np.array([[8,12],[17,1]])\n",
    "ar2d_ax0 = np.sort(ar2d, axis=0)\n",
    "ar2d_ax1 = np.sort(ar2d, axis=1)\n",
    "print(ar2d,'\\n',ar2d_ax0) # 행 방향으로 크기 작은 놈이 제일 상단으로 이동\n",
    "print(ar2d,'\\n',ar2d_ax1) # 열 방향으로 크기 작은 놈이 제일 상단으로 이동"
   ]
  },
  {
   "cell_type": "code",
   "execution_count": 20,
   "id": "3ce5a5ee",
   "metadata": {
    "scrolled": true
   },
   "outputs": [
    {
     "name": "stdout",
     "output_type": "stream",
     "text": [
      "[6 1 4 4 8 4 6 3 5 8] \n",
      "\n",
      "[1 3 4 4 4 5 6 6 8 8]\n"
     ]
    }
   ],
   "source": [
    "# ndarray.sort(): 원본에 반영하여 정렬\n",
    "np.random.seed(0) # 일단 고정해두고\n",
    "arr = np.random.randint(1,10,size=10)\n",
    "print(arr,'\\n')\n",
    "arr.sort() # np.sort(a)와는 다르다 이거야~\n",
    "print(arr)"
   ]
  },
  {
   "cell_type": "code",
   "execution_count": 21,
   "id": "459a178c",
   "metadata": {},
   "outputs": [
    {
     "name": "stdout",
     "output_type": "stream",
     "text": [
      "[[[13 16 22]\n",
      "  [ 1  4  4]\n",
      "  [ 8 10 20]]\n",
      "\n",
      " [[22 19  5]\n",
      "  [24  7 25]\n",
      "  [25 13 27]]\n",
      "\n",
      " [[ 2  7  8]\n",
      "  [24 15 25]\n",
      "  [18  6 26]]] \n",
      "\n",
      "[[[13 16 22]\n",
      "  [ 1  4  4]\n",
      "  [ 8 10 20]]\n",
      "\n",
      " [[ 5 19 22]\n",
      "  [ 7 24 25]\n",
      "  [13 25 27]]\n",
      "\n",
      " [[ 2  7  8]\n",
      "  [15 24 25]\n",
      "  [ 6 18 26]]]\n"
     ]
    }
   ],
   "source": [
    "# 다차원 배열의 정렬은 sort 메소드에 넘긴 축에 따라 1차원 부분을 정렬\n",
    "# 뭔 말이냐 하면...\n",
    "# 행, 열, 깊이 중 어느 방향으로 정렬할지 정한 후\n",
    "# 해당 위치에서 행or열or깊이끼리 비교 후 정렬한다 이 얘기임\n",
    "import numpy as np\n",
    "np.random.seed(0)\n",
    "arr = np.random.randint(1,28,size=(3,3,3))\n",
    "print(arr,'\\n')\n",
    "arr.sort(2) # 0은 깊이, 1은 열, 2는 행\n",
    "print(arr)"
   ]
  },
  {
   "cell_type": "code",
   "execution_count": 22,
   "id": "024e202c",
   "metadata": {},
   "outputs": [
    {
     "name": "stdout",
     "output_type": "stream",
     "text": [
      "[3 1 9 5] [1 0 3 2] <class 'numpy.ndarray'>\n"
     ]
    }
   ],
   "source": [
    "# 정렬된 행렬의 인덱스 반환: 기존 원본 행렬의 원소에 대한 인덱스를 필요로 할 때\n",
    "# 정렬은 했지만 얘 말구 원본의 인덱스를 요구할 때\n",
    "# 그러면 argsort를 쓰고 출력 결과에서 원본의 인덱스를 확인 가능!\n",
    "\n",
    "ar0 = np.array([3,1,9,5])\n",
    "ar1 = np.argsort(ar0)\n",
    "print(ar0,ar1,type(ar1))"
   ]
  },
  {
   "cell_type": "code",
   "execution_count": 23,
   "id": "fa221363",
   "metadata": {},
   "outputs": [
    {
     "data": {
      "text/plain": [
       "-1.6326345262344952"
      ]
     },
     "execution_count": 23,
     "metadata": {},
     "output_type": "execute_result"
    }
   ],
   "source": [
    "# 배열에서 정렬한 후 일정 비율(%) 분위수에 해당하는 요소만 추려내기\n",
    "# 여기선 5%로 해보자\n",
    "\n",
    "np.random.seed(0)\n",
    "large = np.random.randn(1000)\n",
    "large.sort()\n",
    "large[int(0.05*len(large))] # len(large) 말고 1000으로 해도 되지 않나? 1천개를 만든 셈이니까\n",
    "\n",
    "# large[]에서 []안의 자리에\n",
    "# int(0.05*len(large)), int(0.05*1000),int(50),50\n",
    "# 전부 동일한 결과 나왔음\n",
    "# 어쨌든 원하는 분위의 값을 뽑으려면 해당 퍼센티지에 배열의 크기를 곱하라는 뜻인가 봄"
   ]
  },
  {
   "cell_type": "code",
   "execution_count": 61,
   "id": "bcab42c7",
   "metadata": {
    "scrolled": true
   },
   "outputs": [
    {
     "name": "stdout",
     "output_type": "stream",
     "text": [
      "['Jade' 'Wednesday' 'Wendy']\n"
     ]
    },
    {
     "data": {
      "text/plain": [
       "['Jade', 'Wednesday', 'Wendy']"
      ]
     },
     "execution_count": 61,
     "metadata": {},
     "output_type": "execute_result"
    }
   ],
   "source": [
    "# 배열 집합 연산\n",
    "names = np.array(['Jade','Jade','Wednesday','Wendy','Wendy'])\n",
    "print(np.unique(names)) # 이거 로또 만들 때 써봤다. set랑 같은 방식임\n",
    "# print(sorted(set(list(names))))\n",
    "sorted(set(names))"
   ]
  },
  {
   "cell_type": "code",
   "execution_count": 25,
   "id": "c6b9ab1a",
   "metadata": {},
   "outputs": [
    {
     "data": {
      "text/plain": [
       "array([ True, False, False,  True,  True, False, False])"
      ]
     },
     "execution_count": 25,
     "metadata": {},
     "output_type": "execute_result"
    }
   ],
   "source": [
    "# np.in1d(): 첫 번째 배열의 원소가 두 번째 배열의 원소를 포함하는지 알려주는 불리언 배열을 반환\n",
    "v1 = np.array([6,0,1,3,2,5,7])\n",
    "v2 = np.array([2,3,6])\n",
    "np.in1d(v1,v2)"
   ]
  },
  {
   "cell_type": "code",
   "execution_count": 26,
   "id": "620639d2",
   "metadata": {},
   "outputs": [
    {
     "data": {
      "text/plain": [
       "array([0, 1, 2, 3, 4, 5, 6, 7, 8, 9])"
      ]
     },
     "execution_count": 26,
     "metadata": {},
     "output_type": "execute_result"
    }
   ],
   "source": [
    "# 배열 데이터의 입출력\n",
    "# np.save, np.load는 바이너리 형식 .npy 파일로 저장\n",
    "\n",
    "arr = np.arange(10)\n",
    "np.save('some_array',arr)\n",
    "np.load('some_array.npy')"
   ]
  },
  {
   "cell_type": "code",
   "execution_count": 27,
   "id": "c0e9675a",
   "metadata": {},
   "outputs": [
    {
     "data": {
      "text/plain": [
       "array([0, 1, 2, 3, 4, 5, 6, 7, 8, 9])"
      ]
     },
     "execution_count": 27,
     "metadata": {},
     "output_type": "execute_result"
    }
   ],
   "source": [
    "# np.savez: 여러 개의 배열을 압축된 형식으로 저장\n",
    "np.savez('array_archive.npz',a = arr, b = arr)\n",
    "# arch = np.load('array_archive.npz')\n",
    "# arch['a']\n",
    "np.load('array_archive.npz')['a']"
   ]
  },
  {
   "cell_type": "code",
   "execution_count": 28,
   "id": "bd2805f0",
   "metadata": {},
   "outputs": [
    {
     "name": "stdout",
     "output_type": "stream",
     "text": [
      "[1 0 1 0 1 0 1 0 1 0]\n"
     ]
    }
   ],
   "source": [
    "# [연습문제] 인덱싱을 사용하여 [1 0 1 0 1 0 1 0 1 0]을 출력하세요.\n",
    "\n",
    "a = np.ones(10).astype(int)\n",
    "a[[1,3,5,7,9]] = 0\n",
    "print(a)"
   ]
  },
  {
   "cell_type": "code",
   "execution_count": 29,
   "id": "ddd339b7",
   "metadata": {},
   "outputs": [
    {
     "name": "stdout",
     "output_type": "stream",
     "text": [
      "[6, 7, 8, 9]\n"
     ]
    }
   ],
   "source": [
    "# [연습문제] a = np.arange(10)에서 [6,7,8,9]처럼 출력하세요\n",
    "a = np.arange(10)\n",
    "print(a[a>5].tolist())"
   ]
  },
  {
   "cell_type": "code",
   "execution_count": 30,
   "id": "a2517f48",
   "metadata": {},
   "outputs": [
    {
     "name": "stdout",
     "output_type": "stream",
     "text": [
      "최댓값: 10\n",
      "최솟값: 1\n",
      "최댓값: 9\n",
      "최솟값: 0\n"
     ]
    }
   ],
   "source": [
    "# [연습문제] a에서 최대값, 최소값 출력\n",
    "a = np.arange(1,11)\n",
    "print(f'최댓값: {max(a)}\\n최솟값: {min(a)}')\n",
    "\n",
    "# [연습문제] a에서 최대값, 최소값의 인덱스도 출력해 보자.\n",
    "print(f'최댓값: {np.argmax(a)}\\n최솟값: {np.argmin(a)}')"
   ]
  },
  {
   "cell_type": "code",
   "execution_count": 31,
   "id": "a353f35b",
   "metadata": {
    "scrolled": true
   },
   "outputs": [
    {
     "name": "stdout",
     "output_type": "stream",
     "text": [
      "[9 8 7 6 5 4 3 2 1 0]\n"
     ]
    }
   ],
   "source": [
    "# [연습문제] a에서 인덱스 배열을 역순으로 출력하세요.\n",
    "# 인덱스는 arg 뭐시기를 쓰면 된다!\n",
    "a = np.arange(10)\n",
    "print(np.argsort(a)[::-1])"
   ]
  },
  {
   "cell_type": "code",
   "execution_count": 32,
   "id": "25b3e60d",
   "metadata": {},
   "outputs": [
    {
     "data": {
      "text/plain": [
       "array([[1., 1., 1., 1., 1., 1., 1., 1., 1., 1.],\n",
       "       [1., 0., 0., 0., 0., 0., 0., 0., 0., 1.],\n",
       "       [1., 0., 0., 0., 0., 0., 0., 0., 0., 1.],\n",
       "       [1., 0., 0., 0., 0., 0., 0., 0., 0., 1.],\n",
       "       [1., 0., 0., 0., 0., 0., 0., 0., 0., 1.],\n",
       "       [1., 0., 0., 0., 0., 0., 0., 0., 0., 1.],\n",
       "       [1., 0., 0., 0., 0., 0., 0., 0., 0., 1.],\n",
       "       [1., 0., 0., 0., 0., 0., 0., 0., 0., 1.],\n",
       "       [1., 0., 0., 0., 0., 0., 0., 0., 0., 1.],\n",
       "       [1., 1., 1., 1., 1., 1., 1., 1., 1., 1.]])"
      ]
     },
     "execution_count": 32,
     "metadata": {},
     "output_type": "execute_result"
    }
   ],
   "source": [
    "# [연습문제] np.ones((10,10))을 아래와 같이 출력하세요.\n",
    "# array([[1., 1., 1., 1., 1., 1., 1., 1., 1., 1.],\n",
    "#        [1., 0., 0., 0., 0., 0., 0., 0., 0., 1.],\n",
    "#        [1., 0., 0., 0., 0., 0., 0., 0., 0., 1.],\n",
    "#        [1., 0., 0., 0., 0., 0., 0., 0., 0., 1.],\n",
    "#        [1., 0., 0., 0., 0., 0., 0., 0., 0., 1.],\n",
    "#        [1., 0., 0., 0., 0., 0., 0., 0., 0., 1.],\n",
    "#        [1., 0., 0., 0., 0., 0., 0., 0., 0., 1.],\n",
    "#        [1., 0., 0., 0., 0., 0., 0., 0., 0., 1.],\n",
    "#        [1., 0., 0., 0., 0., 0., 0., 0., 0., 1.],\n",
    "#        [1., 1., 1., 1., 1., 1., 1., 1., 1., 1.]])\n",
    "\n",
    "n1 = np.ones((10,10))\n",
    "n1[1:9,1:9] = 0\n",
    "n1"
   ]
  },
  {
   "cell_type": "markdown",
   "id": "9dfc4e5a",
   "metadata": {},
   "source": [
    "### [파이썬 Random 함수]\n",
    "\n",
    "import random"
   ]
  },
  {
   "cell_type": "code",
   "execution_count": 33,
   "id": "2c554980",
   "metadata": {},
   "outputs": [
    {
     "name": "stdout",
     "output_type": "stream",
     "text": [
      "8\n",
      "0.944365117142195\n",
      "18.29072378505885\n",
      "3\n",
      "4\n",
      "[3, 2, 1]\n",
      "[4, 1, 2, 3, 5]\n"
     ]
    }
   ],
   "source": [
    "# random 비교하기\n",
    "import random\n",
    "\n",
    "print(random.randint(1,11)) # a<=x<b의 랜덤한 정수\n",
    "print(random.random()) # 0<=x<1의 랜덤한 실수\n",
    "print(random.uniform(10,21)) # min<=x<max의 랜덤한 실수\n",
    "print(random.randrange(10)) # 범위 내에서 랜덤한 정수\n",
    "print(random.choice([1,2,3,4,5])) # 리스트 내부에서의 요소를 랜덤하게 선택\n",
    "print(random.sample([1,2,3,4,5],3)) # 리스트 내부에서의 요소를 중복 없이 n개 선택\n",
    "li = [1,2,3,4,5]\n",
    "random.shuffle(li) # 리스트 요소를 랜덤하게 섞은 후 리턴.\n",
    "print(li)"
   ]
  },
  {
   "cell_type": "markdown",
   "id": "0116da4c",
   "metadata": {},
   "source": [
    "### [Numpy Random 함수]\n",
    "\n",
    "- np.random.seed(): seed를 통한 난수 생성\n",
    "- np.random.randint(): 균일분포의 정수 난수 1개 생성\n",
    "- np.random.rand(): 0부터 1 사이의 균일분포에서 난수 매트릭스 배열 생성\n",
    "- np.random.randn(): 가우시안 표준 정규분포에서 난수 매트릭스 배열 생성 (평균 0, 표준편차 1)\n",
    "- np.random.shuffle(): 기존 데이터의 순서 바꾸기\n",
    "- np.random.choice(): 기존 데이터에서 sampling (중복 있음)"
   ]
  },
  {
   "cell_type": "code",
   "execution_count": 34,
   "id": "9a9fb0e6",
   "metadata": {},
   "outputs": [
    {
     "name": "stdout",
     "output_type": "stream",
     "text": [
      "0\n",
      "[7 4]\n",
      "[6 9 5 1 9 3 3 9 7 8]\n",
      "[14 17 18 19 14 11 15 10 13 16]\n",
      "[[13 10 13 16 19]\n",
      " [15 11 17 13 14]\n",
      " [17 10 13 15 16]]\n"
     ]
    }
   ],
   "source": [
    "# np.random.randint\n",
    "print(np.random.randint(8)) # 0~a 범위 내에서 1개 출력\n",
    "print(np.random.randint(1,10,2)) # a, b 범위 내에서 c개 출력\n",
    "print(np.random.randint(10,size=10)) # 위의 거랑 작동 똑같이 함. 중복도 나옴.\n",
    "print(np.random.randint(10,20,size=10))\n",
    "print(np.random.randint(10,20,size=(3,5))) # 범위 내 난수를 3행 5열 배열로 뽑아서 줌"
   ]
  },
  {
   "cell_type": "code",
   "execution_count": 35,
   "id": "2dfd284c",
   "metadata": {},
   "outputs": [
    {
     "name": "stdout",
     "output_type": "stream",
     "text": [
      "[0.41378022 0.68638023 0.29589198 0.30329192 0.35588915 0.81030208]\n",
      "[[0.57759009 0.07527728 0.0782461  0.37128694 0.76659105]\n",
      " [0.68868343 0.70798235 0.76721007 0.28715271 0.54825628]\n",
      " [0.54335264 0.7396325  0.95687057 0.27798994 0.79328167]]\n"
     ]
    }
   ],
   "source": [
    "# np.random.rand - 균일분포란, 정해진 범위 내에서의 모든 확률이 동일한 분포를 의미\n",
    "print(np.random.rand(6))\n",
    "print(np.random.rand(3,5))"
   ]
  },
  {
   "cell_type": "code",
   "execution_count": 36,
   "id": "5fd63d46",
   "metadata": {},
   "outputs": [
    {
     "name": "stdout",
     "output_type": "stream",
     "text": [
      "0.0006617981841580971\n"
     ]
    }
   ],
   "source": [
    "# np.random.randn - 표준 정규분포\n",
    "print(np.random.randn(10000).mean())"
   ]
  },
  {
   "cell_type": "code",
   "execution_count": 37,
   "id": "60192eb8",
   "metadata": {},
   "outputs": [
    {
     "data": {
      "text/plain": [
       "array([ 9,  7, 10,  8,  5,  1,  3,  6,  4,  2])"
      ]
     },
     "execution_count": 37,
     "metadata": {},
     "output_type": "execute_result"
    }
   ],
   "source": [
    "#np.random.shuffle()\n",
    "# 리턴이 있는 게 아니라 원본 자체를 변형시키는 명령이기 때문에 프린트 해도 안 나옴. del처럼.\n",
    "li = np.arange(1,11)\n",
    "np.random.shuffle(li)\n",
    "li"
   ]
  },
  {
   "cell_type": "code",
   "execution_count": 38,
   "id": "2dc9e0f7",
   "metadata": {},
   "outputs": [
    {
     "name": "stdout",
     "output_type": "stream",
     "text": [
      "[7 6 2 9 4]\n"
     ]
    },
    {
     "data": {
      "text/plain": [
       "array([ 1,  2,  3,  4,  5,  6,  7,  8,  9, 10])"
      ]
     },
     "execution_count": 38,
     "metadata": {},
     "output_type": "execute_result"
    }
   ],
   "source": [
    "# np.random.choice()\n",
    "li = np.arange(1,11)\n",
    "print(np.random.choice(li,5))\n",
    "li"
   ]
  },
  {
   "cell_type": "code",
   "execution_count": null,
   "id": "cb4dd1cc",
   "metadata": {},
   "outputs": [],
   "source": []
  },
  {
   "cell_type": "code",
   "execution_count": 39,
   "id": "6b10004d",
   "metadata": {},
   "outputs": [
    {
     "name": "stdout",
     "output_type": "stream",
     "text": [
      "[ 2  3  7 11]\n",
      "[3 2 1 2]\n"
     ]
    }
   ],
   "source": [
    "# np.unique()\n",
    "a = np.array([11,11,3,3,2,2,2,7])\n",
    "index,count=np.unique(a,return_counts=True)\n",
    "print(index)\n",
    "print(count) # 2가 3개, 3이 2개, 7이 1개, 11이 2개"
   ]
  },
  {
   "cell_type": "code",
   "execution_count": 40,
   "id": "ab3ebb23",
   "metadata": {},
   "outputs": [
    {
     "data": {
      "text/plain": [
       "array([3.34788639, 3.21494158, 3.04452419, 3.62292019, 1.96033346,\n",
       "       3.04096773, 3.92613391, 2.80776932, 3.48598895, 4.76950154])"
      ]
     },
     "execution_count": 40,
     "metadata": {},
     "output_type": "execute_result"
    }
   ],
   "source": [
    "# np.random.uniform()\n",
    "np.random.uniform(1,5,10)"
   ]
  },
  {
   "cell_type": "code",
   "execution_count": 41,
   "id": "db4889dc",
   "metadata": {
    "scrolled": false
   },
   "outputs": [
    {
     "data": {
      "text/plain": [
       "array([[0.02211583, 0.56552577, 0.48109331],\n",
       "       [0.96158088, 0.3216367 , 0.97622829]])"
      ]
     },
     "execution_count": 41,
     "metadata": {},
     "output_type": "execute_result"
    }
   ],
   "source": [
    "# uniform 함수의 최솟값, 최댓값을 각각 0,1로 지정한 것과 같음\n",
    "np.random.random_sample((2,3))"
   ]
  },
  {
   "cell_type": "code",
   "execution_count": 42,
   "id": "bc28a447",
   "metadata": {},
   "outputs": [
    {
     "name": "stdout",
     "output_type": "stream",
     "text": [
      "<class 'pandas.core.frame.DataFrame'>\n"
     ]
    },
    {
     "data": {
      "text/html": [
       "<div>\n",
       "<style scoped>\n",
       "    .dataframe tbody tr th:only-of-type {\n",
       "        vertical-align: middle;\n",
       "    }\n",
       "\n",
       "    .dataframe tbody tr th {\n",
       "        vertical-align: top;\n",
       "    }\n",
       "\n",
       "    .dataframe thead th {\n",
       "        text-align: right;\n",
       "    }\n",
       "</style>\n",
       "<table border=\"1\" class=\"dataframe\">\n",
       "  <thead>\n",
       "    <tr style=\"text-align: right;\">\n",
       "      <th></th>\n",
       "      <th>0</th>\n",
       "      <th>1</th>\n",
       "      <th>2</th>\n",
       "      <th>3</th>\n",
       "      <th>4</th>\n",
       "      <th>5</th>\n",
       "      <th>6</th>\n",
       "      <th>7</th>\n",
       "    </tr>\n",
       "  </thead>\n",
       "  <tbody>\n",
       "    <tr>\n",
       "      <th>0</th>\n",
       "      <td>0.993922</td>\n",
       "      <td>0.668933</td>\n",
       "      <td>0.660081</td>\n",
       "      <td>0.685133</td>\n",
       "      <td>0.896554</td>\n",
       "      <td>0.892838</td>\n",
       "      <td>0.706141</td>\n",
       "      <td>0.904172</td>\n",
       "    </tr>\n",
       "    <tr>\n",
       "      <th>1</th>\n",
       "      <td>0.723627</td>\n",
       "      <td>0.713488</td>\n",
       "      <td>0.962748</td>\n",
       "      <td>0.251920</td>\n",
       "      <td>0.497482</td>\n",
       "      <td>0.588401</td>\n",
       "      <td>0.890006</td>\n",
       "      <td>0.535504</td>\n",
       "    </tr>\n",
       "    <tr>\n",
       "      <th>2</th>\n",
       "      <td>0.980750</td>\n",
       "      <td>0.813481</td>\n",
       "      <td>0.623734</td>\n",
       "      <td>0.633366</td>\n",
       "      <td>0.123680</td>\n",
       "      <td>0.697265</td>\n",
       "      <td>0.813343</td>\n",
       "      <td>0.371532</td>\n",
       "    </tr>\n",
       "    <tr>\n",
       "      <th>3</th>\n",
       "      <td>0.622701</td>\n",
       "      <td>0.475417</td>\n",
       "      <td>0.767889</td>\n",
       "      <td>0.014817</td>\n",
       "      <td>0.050799</td>\n",
       "      <td>0.472953</td>\n",
       "      <td>0.634107</td>\n",
       "      <td>0.073489</td>\n",
       "    </tr>\n",
       "  </tbody>\n",
       "</table>\n",
       "</div>"
      ],
      "text/plain": [
       "          0         1         2         3         4         5         6  \\\n",
       "0  0.993922  0.668933  0.660081  0.685133  0.896554  0.892838  0.706141   \n",
       "1  0.723627  0.713488  0.962748  0.251920  0.497482  0.588401  0.890006   \n",
       "2  0.980750  0.813481  0.623734  0.633366  0.123680  0.697265  0.813343   \n",
       "3  0.622701  0.475417  0.767889  0.014817  0.050799  0.472953  0.634107   \n",
       "\n",
       "          7  \n",
       "0  0.904172  \n",
       "1  0.535504  \n",
       "2  0.371532  \n",
       "3  0.073489  "
      ]
     },
     "execution_count": 42,
     "metadata": {},
     "output_type": "execute_result"
    }
   ],
   "source": [
    "# 배열을 데이터프레임으로 변환\n",
    "import pandas as pd\n",
    "ar = np.random.rand(4,8)\n",
    "df = pd.DataFrame(ar)\n",
    "print(type(df))\n",
    "df"
   ]
  },
  {
   "cell_type": "code",
   "execution_count": 43,
   "id": "0df51b22",
   "metadata": {},
   "outputs": [
    {
     "name": "stdout",
     "output_type": "stream",
     "text": [
      "0    0.993922\n",
      "1    0.723627\n",
      "2    0.980750\n",
      "3    0.622701\n",
      "Name: 0, dtype: float64\n",
      "<class 'pandas.core.series.Series'>\n"
     ]
    }
   ],
   "source": [
    "print(df[0])\n",
    "print(type(df[0])) # 시리즈가 모여서 데이터프레임이 되었다.\n",
    "# 시리즈는 열(column)이 없다!"
   ]
  },
  {
   "cell_type": "code",
   "execution_count": 44,
   "id": "5f0897dd",
   "metadata": {},
   "outputs": [
    {
     "data": {
      "text/html": [
       "<div>\n",
       "<style scoped>\n",
       "    .dataframe tbody tr th:only-of-type {\n",
       "        vertical-align: middle;\n",
       "    }\n",
       "\n",
       "    .dataframe tbody tr th {\n",
       "        vertical-align: top;\n",
       "    }\n",
       "\n",
       "    .dataframe thead th {\n",
       "        text-align: right;\n",
       "    }\n",
       "</style>\n",
       "<table border=\"1\" class=\"dataframe\">\n",
       "  <thead>\n",
       "    <tr style=\"text-align: right;\">\n",
       "      <th></th>\n",
       "      <th>id</th>\n",
       "      <th>gender</th>\n",
       "      <th>age</th>\n",
       "      <th>region</th>\n",
       "      <th>product</th>\n",
       "      <th>price</th>\n",
       "      <th>qty</th>\n",
       "      <th>time</th>\n",
       "    </tr>\n",
       "  </thead>\n",
       "  <tbody>\n",
       "    <tr>\n",
       "      <th>1</th>\n",
       "      <td>0.993922</td>\n",
       "      <td>0.668933</td>\n",
       "      <td>0.660081</td>\n",
       "      <td>0.685133</td>\n",
       "      <td>0.896554</td>\n",
       "      <td>0.892838</td>\n",
       "      <td>0.706141</td>\n",
       "      <td>0.904172</td>\n",
       "    </tr>\n",
       "    <tr>\n",
       "      <th>2</th>\n",
       "      <td>0.723627</td>\n",
       "      <td>0.713488</td>\n",
       "      <td>0.962748</td>\n",
       "      <td>0.251920</td>\n",
       "      <td>0.497482</td>\n",
       "      <td>0.588401</td>\n",
       "      <td>0.890006</td>\n",
       "      <td>0.535504</td>\n",
       "    </tr>\n",
       "    <tr>\n",
       "      <th>3</th>\n",
       "      <td>0.980750</td>\n",
       "      <td>0.813481</td>\n",
       "      <td>0.623734</td>\n",
       "      <td>0.633366</td>\n",
       "      <td>0.123680</td>\n",
       "      <td>0.697265</td>\n",
       "      <td>0.813343</td>\n",
       "      <td>0.371532</td>\n",
       "    </tr>\n",
       "    <tr>\n",
       "      <th>4</th>\n",
       "      <td>0.622701</td>\n",
       "      <td>0.475417</td>\n",
       "      <td>0.767889</td>\n",
       "      <td>0.014817</td>\n",
       "      <td>0.050799</td>\n",
       "      <td>0.472953</td>\n",
       "      <td>0.634107</td>\n",
       "      <td>0.073489</td>\n",
       "    </tr>\n",
       "  </tbody>\n",
       "</table>\n",
       "</div>"
      ],
      "text/plain": [
       "         id    gender       age    region   product     price       qty  \\\n",
       "1  0.993922  0.668933  0.660081  0.685133  0.896554  0.892838  0.706141   \n",
       "2  0.723627  0.713488  0.962748  0.251920  0.497482  0.588401  0.890006   \n",
       "3  0.980750  0.813481  0.623734  0.633366  0.123680  0.697265  0.813343   \n",
       "4  0.622701  0.475417  0.767889  0.014817  0.050799  0.472953  0.634107   \n",
       "\n",
       "       time  \n",
       "1  0.904172  \n",
       "2  0.535504  \n",
       "3  0.371532  \n",
       "4  0.073489  "
      ]
     },
     "execution_count": 44,
     "metadata": {},
     "output_type": "execute_result"
    }
   ],
   "source": [
    "col = ['id','gender','age','region','product','price','qty','time']\n",
    "index = [np.arange(1,5)]\n",
    "df = pd.DataFrame(ar,index,col) # ar 데이터에, index 행, col열을 넣어 데이터프레임 만들기\n",
    "df"
   ]
  },
  {
   "cell_type": "code",
   "execution_count": 45,
   "id": "1a25ac36",
   "metadata": {
    "scrolled": false
   },
   "outputs": [
    {
     "data": {
      "text/html": [
       "<div>\n",
       "<style scoped>\n",
       "    .dataframe tbody tr th:only-of-type {\n",
       "        vertical-align: middle;\n",
       "    }\n",
       "\n",
       "    .dataframe tbody tr th {\n",
       "        vertical-align: top;\n",
       "    }\n",
       "\n",
       "    .dataframe thead th {\n",
       "        text-align: right;\n",
       "    }\n",
       "</style>\n",
       "<table border=\"1\" class=\"dataframe\">\n",
       "  <thead>\n",
       "    <tr style=\"text-align: right;\">\n",
       "      <th></th>\n",
       "      <th>ID</th>\n",
       "      <th>Gender</th>\n",
       "      <th>Age</th>\n",
       "    </tr>\n",
       "  </thead>\n",
       "  <tbody>\n",
       "    <tr>\n",
       "      <th>1</th>\n",
       "      <td>5524</td>\n",
       "      <td>M</td>\n",
       "      <td>12</td>\n",
       "    </tr>\n",
       "    <tr>\n",
       "      <th>2</th>\n",
       "      <td>7253</td>\n",
       "      <td>M</td>\n",
       "      <td>12</td>\n",
       "    </tr>\n",
       "    <tr>\n",
       "      <th>3</th>\n",
       "      <td>5123</td>\n",
       "      <td>M</td>\n",
       "      <td>32</td>\n",
       "    </tr>\n",
       "  </tbody>\n",
       "</table>\n",
       "</div>"
      ],
      "text/plain": [
       "     ID Gender Age\n",
       "1  5524      M  12\n",
       "2  7253      M  12\n",
       "3  5123      M  32"
      ]
     },
     "execution_count": 45,
     "metadata": {},
     "output_type": "execute_result"
    }
   ],
   "source": [
    "# [연습문제] id, gender, age 컬럼에 대하여\n",
    "# 의미있는 값으로 변환하여 3개의 컬럼으로 구성된 데이터프레임을 출력하라.\n",
    "ID = np.random.randint(1000,10000,3)\n",
    "gen = np.random.choice(['M','F'],3)\n",
    "age = np.random.randint(10,40,3)\n",
    "\n",
    "data = np.array([ID,gen,age]).reshape(3,3).transpose()\n",
    "df=pd.DataFrame(data,np.arange(1,4),['ID','Gender','Age'])\n",
    "df"
   ]
  },
  {
   "cell_type": "code",
   "execution_count": 46,
   "id": "d46038a9",
   "metadata": {},
   "outputs": [
    {
     "data": {
      "text/html": [
       "<div>\n",
       "<style scoped>\n",
       "    .dataframe tbody tr th:only-of-type {\n",
       "        vertical-align: middle;\n",
       "    }\n",
       "\n",
       "    .dataframe tbody tr th {\n",
       "        vertical-align: top;\n",
       "    }\n",
       "\n",
       "    .dataframe thead th {\n",
       "        text-align: right;\n",
       "    }\n",
       "</style>\n",
       "<table border=\"1\" class=\"dataframe\">\n",
       "  <thead>\n",
       "    <tr style=\"text-align: right;\">\n",
       "      <th></th>\n",
       "      <th>id</th>\n",
       "      <th>gender</th>\n",
       "      <th>age</th>\n",
       "    </tr>\n",
       "  </thead>\n",
       "  <tbody>\n",
       "    <tr>\n",
       "      <th>0</th>\n",
       "      <td>1</td>\n",
       "      <td>0</td>\n",
       "      <td>10</td>\n",
       "    </tr>\n",
       "    <tr>\n",
       "      <th>1</th>\n",
       "      <td>2</td>\n",
       "      <td>1</td>\n",
       "      <td>20</td>\n",
       "    </tr>\n",
       "    <tr>\n",
       "      <th>2</th>\n",
       "      <td>3</td>\n",
       "      <td>1</td>\n",
       "      <td>30</td>\n",
       "    </tr>\n",
       "    <tr>\n",
       "      <th>3</th>\n",
       "      <td>4</td>\n",
       "      <td>0</td>\n",
       "      <td>40</td>\n",
       "    </tr>\n",
       "  </tbody>\n",
       "</table>\n",
       "</div>"
      ],
      "text/plain": [
       "   id  gender  age\n",
       "0   1       0   10\n",
       "1   2       1   20\n",
       "2   3       1   30\n",
       "3   4       0   40"
      ]
     },
     "execution_count": 46,
     "metadata": {},
     "output_type": "execute_result"
    }
   ],
   "source": [
    "import pandas as pd\n",
    "ar = np.zeros((4,3))\n",
    "columns = ['id','gender','age']\n",
    "index = [np.arange(4)]\n",
    "df = pd.DataFrame(ar,index,columns=columns)\n",
    "# df.id = np.array([1,2,3,4])\n",
    "df.id = np.arange(1,5)\n",
    "# df.gender = np.array([0,1,0,1])\n",
    "np.random.seed(0)\n",
    "df.gender = np.random.randint(2,size=4)\n",
    "# df.age = np.array([20,30,40,50])\n",
    "df.age = np.arange(1,5) * 10\n",
    "df"
   ]
  },
  {
   "cell_type": "code",
   "execution_count": null,
   "id": "373ce9fb",
   "metadata": {},
   "outputs": [],
   "source": []
  },
  {
   "cell_type": "code",
   "execution_count": null,
   "id": "1194dcd1",
   "metadata": {},
   "outputs": [],
   "source": []
  },
  {
   "cell_type": "code",
   "execution_count": null,
   "id": "25e4b38e",
   "metadata": {},
   "outputs": [],
   "source": []
  },
  {
   "cell_type": "code",
   "execution_count": 47,
   "id": "b039afbf",
   "metadata": {
    "scrolled": false
   },
   "outputs": [
    {
     "name": "stdout",
     "output_type": "stream",
     "text": [
      "[[[ 0  1  2  3]\n",
      "  [ 4  5  6  7]]\n",
      "\n",
      " [[ 8  9 10 11]\n",
      "  [12 13 14 15]]] (2, 2, 4) \n",
      "\n",
      "[[[ 0  1  2  3]\n",
      "  [ 8  9 10 11]]\n",
      "\n",
      " [[ 4  5  6  7]\n",
      "  [12 13 14 15]]] (2, 2, 4)\n"
     ]
    }
   ],
   "source": [
    "# [과제] 아래 배열에서 3차원과 2차원을 변경하여 출력하세요.\n",
    "# (완료 후 shape 확인)\n",
    "arr = np.arange(16).reshape(2,2,4)\n",
    "arrt = np.transpose(arr,(1,0,2))\n",
    "print(arr,arr.shape,'\\n')\n",
    "print(arrt,arrt.shape)"
   ]
  },
  {
   "cell_type": "code",
   "execution_count": 48,
   "id": "5dd8e29a",
   "metadata": {
    "scrolled": true
   },
   "outputs": [
    {
     "name": "stdout",
     "output_type": "stream",
     "text": [
      "[[[ 0  1  2  3]\n",
      "  [ 4  5  6  7]]\n",
      "\n",
      " [[ 8  9 10 11]\n",
      "  [12 13 14 15]]] (2, 2, 4) \n",
      "\n",
      "[[[ 0  4]\n",
      "  [ 1  5]\n",
      "  [ 2  6]\n",
      "  [ 3  7]]\n",
      "\n",
      " [[ 8 12]\n",
      "  [ 9 13]\n",
      "  [10 14]\n",
      "  [11 15]]] (2, 4, 2)\n"
     ]
    }
   ],
   "source": [
    "# [과제] 상기 과제의 arr에서 2차원과 1차원을 변경하여 출력하세요.\n",
    "arr = np.arange(16).reshape(2,2,4)\n",
    "arrt = np.transpose(arr,(0,2,1))\n",
    "print(arr,arr.shape,'\\n')\n",
    "print(arrt,arrt.shape)"
   ]
  },
  {
   "cell_type": "code",
   "execution_count": 49,
   "id": "87f91787",
   "metadata": {
    "scrolled": true
   },
   "outputs": [
    {
     "name": "stdout",
     "output_type": "stream",
     "text": [
      "[[0. 0. 0. 0. 0. 0. 0. 0. 0.]\n",
      " [0. 0. 0. 0. 0. 0. 0. 0. 0.]\n",
      " [0. 0. 1. 1. 1. 1. 1. 0. 0.]\n",
      " [0. 0. 1. 1. 1. 1. 1. 0. 0.]\n",
      " [0. 0. 1. 1. 1. 1. 1. 0. 0.]\n",
      " [0. 0. 1. 1. 1. 1. 1. 0. 0.]\n",
      " [0. 0. 1. 1. 1. 1. 1. 0. 0.]\n",
      " [0. 0. 0. 0. 0. 0. 0. 0. 0.]\n",
      " [0. 0. 0. 0. 0. 0. 0. 0. 0.]]\n",
      "[[0. 0. 0. 0. 0. 0. 0. 0. 0.]\n",
      " [0. 0. 0. 0. 0. 0. 0. 0. 0.]\n",
      " [0. 0. 1. 1. 1. 1. 1. 0. 0.]\n",
      " [0. 0. 1. 1. 1. 1. 1. 0. 0.]\n",
      " [0. 0. 1. 1. 1. 1. 1. 0. 0.]\n",
      " [0. 0. 1. 1. 1. 1. 1. 0. 0.]\n",
      " [0. 0. 1. 1. 1. 1. 1. 0. 0.]\n",
      " [0. 0. 0. 0. 0. 0. 0. 0. 0.]\n",
      " [0. 0. 0. 0. 0. 0. 0. 0. 0.]]\n"
     ]
    }
   ],
   "source": [
    "# [과제] np.ones((5,5))를 아래와 같이 출력하세요.\n",
    "# array([[0., 0., 0., 0., 0., 0., 0., 0., 0.],\n",
    "#        [0., 0., 0., 0., 0., 0., 0., 0., 0.],\n",
    "#        [0., 0., 1., 1., 1., 1., 1., 0., 0.],\n",
    "#        [0., 0., 1., 1., 1., 1., 1., 0., 0.],\n",
    "#        [0., 0., 1., 1., 1., 1., 1., 0., 0.],\n",
    "#        [0., 0., 1., 1., 1., 1., 1., 0., 0.],\n",
    "#        [0., 0., 1., 1., 1., 1., 1., 0., 0.],\n",
    "#        [0., 0., 0., 0., 0., 0., 0., 0., 0.],\n",
    "#        [0., 0., 0., 0., 0., 0., 0., 0., 0.]])\n",
    "\n",
    "# append\n",
    "n1 = np.ones((5,5))\n",
    "n10 = np.zeros((2,5))\n",
    "n01 = np.zeros((9,2))\n",
    "n = np.append(n10,n1,axis=0)\n",
    "n = np.append(n,n10,axis=0)\n",
    "n = np.append(n01,n,axis=1)\n",
    "n = np.append(n,n01,axis=1)\n",
    "print(n)\n",
    "\n",
    "# indexing\n",
    "n1 = np.ones((5,5))\n",
    "n2 = np.zeros((9,9))\n",
    "n2[2:7,2:7] = n1\n",
    "print(n2)\n"
   ]
  },
  {
   "cell_type": "code",
   "execution_count": 50,
   "id": "ef138cd9",
   "metadata": {},
   "outputs": [
    {
     "data": {
      "text/plain": [
       "array([[0., 0., 0., 0., 0., 0., 0., 0., 0.],\n",
       "       [0., 0., 0., 0., 0., 0., 0., 0., 0.],\n",
       "       [0., 0., 1., 1., 1., 1., 1., 0., 0.],\n",
       "       [0., 0., 1., 1., 1., 1., 1., 0., 0.],\n",
       "       [0., 0., 1., 1., 1., 1., 1., 0., 0.],\n",
       "       [0., 0., 1., 1., 1., 1., 1., 0., 0.],\n",
       "       [0., 0., 1., 1., 1., 1., 1., 0., 0.],\n",
       "       [0., 0., 0., 0., 0., 0., 0., 0., 0.],\n",
       "       [0., 0., 0., 0., 0., 0., 0., 0., 0.]])"
      ]
     },
     "execution_count": 50,
     "metadata": {},
     "output_type": "execute_result"
    }
   ],
   "source": [
    "# pad 합수 쓰면 알아서 잘 포장해 줌\n",
    "arr1 = np.ones((5,5))\n",
    "np.pad(arr1,(2,2),'constant',constant_values=0)\n"
   ]
  },
  {
   "cell_type": "code",
   "execution_count": 51,
   "id": "be055b7a",
   "metadata": {
    "scrolled": false
   },
   "outputs": [
    {
     "name": "stdout",
     "output_type": "stream",
     "text": [
      "[[0. 1. 0. 1. 0. 1. 0. 1.]\n",
      " [1. 0. 1. 0. 1. 0. 1. 0.]\n",
      " [0. 1. 0. 1. 0. 1. 0. 1.]\n",
      " [1. 0. 1. 0. 1. 0. 1. 0.]\n",
      " [0. 1. 0. 1. 0. 1. 0. 1.]\n",
      " [1. 0. 1. 0. 1. 0. 1. 0.]\n",
      " [0. 1. 0. 1. 0. 1. 0. 1.]\n",
      " [1. 0. 1. 0. 1. 0. 1. 0.]]\n",
      "[[0. 1. 0. 1. 0. 1. 0. 1.]\n",
      " [1. 0. 1. 0. 1. 0. 1. 0.]\n",
      " [0. 1. 0. 1. 0. 1. 0. 1.]\n",
      " [1. 0. 1. 0. 1. 0. 1. 0.]\n",
      " [0. 1. 0. 1. 0. 1. 0. 1.]\n",
      " [1. 0. 1. 0. 1. 0. 1. 0.]\n",
      " [0. 1. 0. 1. 0. 1. 0. 1.]\n",
      " [1. 0. 1. 0. 1. 0. 1. 0.]]\n"
     ]
    }
   ],
   "source": [
    "# [과제] np.zeros((8,8))을 이용해서 아래와 같이 출력하세요.\n",
    "# 2가지 방식: 인덱싱, tile 함수\n",
    "# array([[0, 1, 0, 1, 0, 1, 0, 1],\n",
    "#        [1, 0, 1, 0, 1, 0, 1, 0],\n",
    "#        [0, 1, 0, 1, 0, 1, 0, 1],\n",
    "#        [1, 0, 1, 0, 1, 0, 1, 0],\n",
    "#        [0, 1, 0, 1, 0, 1, 0, 1],\n",
    "#        [1, 0, 1, 0, 1, 0, 1, 0],\n",
    "#        [0, 1, 0, 1, 0, 1, 0, 1],\n",
    "#        [1, 0, 1, 0, 1, 0, 1, 0]])\n",
    "\n",
    "# 인덱싱\n",
    "a = np.zeros((8,8))\n",
    "a[[0,2,4,6]] = [0,1,0,1,0,1,0,1]\n",
    "a[[1,3,5,7]] = [1,0,1,0,1,0,1,0]\n",
    "print(a)\n",
    "\n",
    "# tile함수\n",
    "a0 = np.tile([[0,1]],4)\n",
    "a1 = np.tile([[1,0]],4)\n",
    "aa = np.zeros((8,8))\n",
    "for i in range(8):\n",
    "    if i%2==0: aa[[i]]+=a0\n",
    "    else: aa[[i]]+=a1\n",
    "print(aa)"
   ]
  },
  {
   "cell_type": "code",
   "execution_count": 52,
   "id": "6979367f",
   "metadata": {},
   "outputs": [
    {
     "data": {
      "text/plain": [
       "array([1., 0., 1., 0., 1., 0., 1., 0.])"
      ]
     },
     "execution_count": 52,
     "metadata": {},
     "output_type": "execute_result"
    }
   ],
   "source": [
    "a = np.zeros(8)\n",
    "b = np.tile([1,0],4)\n",
    "a[:] = b\n",
    "a"
   ]
  },
  {
   "cell_type": "code",
   "execution_count": null,
   "id": "cb07cf2b",
   "metadata": {},
   "outputs": [],
   "source": []
  },
  {
   "cell_type": "code",
   "execution_count": 53,
   "id": "0d80aaa0",
   "metadata": {
    "scrolled": true
   },
   "outputs": [
    {
     "data": {
      "text/html": [
       "<div>\n",
       "<style scoped>\n",
       "    .dataframe tbody tr th:only-of-type {\n",
       "        vertical-align: middle;\n",
       "    }\n",
       "\n",
       "    .dataframe tbody tr th {\n",
       "        vertical-align: top;\n",
       "    }\n",
       "\n",
       "    .dataframe thead th {\n",
       "        text-align: right;\n",
       "    }\n",
       "</style>\n",
       "<table border=\"1\" class=\"dataframe\">\n",
       "  <thead>\n",
       "    <tr style=\"text-align: right;\">\n",
       "      <th></th>\n",
       "      <th>ID</th>\n",
       "      <th>Gender</th>\n",
       "      <th>Age</th>\n",
       "      <th>Region</th>\n",
       "      <th>Product_19</th>\n",
       "      <th>Product_20</th>\n",
       "      <th>Price_19</th>\n",
       "      <th>Price_20</th>\n",
       "      <th>Quantity_19</th>\n",
       "      <th>Quantity_20</th>\n",
       "      <th>Time_19</th>\n",
       "      <th>Time_20</th>\n",
       "      <th>Amount_19</th>\n",
       "      <th>Amount_20</th>\n",
       "      <th>Sales</th>\n",
       "    </tr>\n",
       "  </thead>\n",
       "  <tbody>\n",
       "    <tr>\n",
       "      <th>1</th>\n",
       "      <td>11</td>\n",
       "      <td>0</td>\n",
       "      <td>32</td>\n",
       "      <td>7</td>\n",
       "      <td>172</td>\n",
       "      <td>196</td>\n",
       "      <td>32400</td>\n",
       "      <td>36000</td>\n",
       "      <td>1</td>\n",
       "      <td>26</td>\n",
       "      <td>5</td>\n",
       "      <td>19</td>\n",
       "      <td>32400</td>\n",
       "      <td>936000</td>\n",
       "      <td>1</td>\n",
       "    </tr>\n",
       "    <tr>\n",
       "      <th>2</th>\n",
       "      <td>307</td>\n",
       "      <td>0</td>\n",
       "      <td>64</td>\n",
       "      <td>5</td>\n",
       "      <td>147</td>\n",
       "      <td>160</td>\n",
       "      <td>25200</td>\n",
       "      <td>25600</td>\n",
       "      <td>67</td>\n",
       "      <td>14</td>\n",
       "      <td>4</td>\n",
       "      <td>21</td>\n",
       "      <td>1688400</td>\n",
       "      <td>358400</td>\n",
       "      <td>0</td>\n",
       "    </tr>\n",
       "    <tr>\n",
       "      <th>3</th>\n",
       "      <td>990</td>\n",
       "      <td>1</td>\n",
       "      <td>76</td>\n",
       "      <td>6</td>\n",
       "      <td>159</td>\n",
       "      <td>133</td>\n",
       "      <td>19600</td>\n",
       "      <td>21100</td>\n",
       "      <td>98</td>\n",
       "      <td>64</td>\n",
       "      <td>12</td>\n",
       "      <td>1</td>\n",
       "      <td>1920800</td>\n",
       "      <td>1350400</td>\n",
       "      <td>0</td>\n",
       "    </tr>\n",
       "    <tr>\n",
       "      <th>4</th>\n",
       "      <td>724</td>\n",
       "      <td>0</td>\n",
       "      <td>16</td>\n",
       "      <td>7</td>\n",
       "      <td>156</td>\n",
       "      <td>151</td>\n",
       "      <td>36000</td>\n",
       "      <td>7300</td>\n",
       "      <td>13</td>\n",
       "      <td>92</td>\n",
       "      <td>9</td>\n",
       "      <td>14</td>\n",
       "      <td>468000</td>\n",
       "      <td>671600</td>\n",
       "      <td>1</td>\n",
       "    </tr>\n",
       "    <tr>\n",
       "      <th>5</th>\n",
       "      <td>803</td>\n",
       "      <td>0</td>\n",
       "      <td>75</td>\n",
       "      <td>1</td>\n",
       "      <td>179</td>\n",
       "      <td>118</td>\n",
       "      <td>1000</td>\n",
       "      <td>25600</td>\n",
       "      <td>16</td>\n",
       "      <td>63</td>\n",
       "      <td>1</td>\n",
       "      <td>8</td>\n",
       "      <td>16000</td>\n",
       "      <td>1612800</td>\n",
       "      <td>1</td>\n",
       "    </tr>\n",
       "    <tr>\n",
       "      <th>...</th>\n",
       "      <td>...</td>\n",
       "      <td>...</td>\n",
       "      <td>...</td>\n",
       "      <td>...</td>\n",
       "      <td>...</td>\n",
       "      <td>...</td>\n",
       "      <td>...</td>\n",
       "      <td>...</td>\n",
       "      <td>...</td>\n",
       "      <td>...</td>\n",
       "      <td>...</td>\n",
       "      <td>...</td>\n",
       "      <td>...</td>\n",
       "      <td>...</td>\n",
       "      <td>...</td>\n",
       "    </tr>\n",
       "    <tr>\n",
       "      <th>996</th>\n",
       "      <td>646</td>\n",
       "      <td>1</td>\n",
       "      <td>20</td>\n",
       "      <td>9</td>\n",
       "      <td>119</td>\n",
       "      <td>199</td>\n",
       "      <td>5100</td>\n",
       "      <td>13500</td>\n",
       "      <td>30</td>\n",
       "      <td>5</td>\n",
       "      <td>24</td>\n",
       "      <td>2</td>\n",
       "      <td>153000</td>\n",
       "      <td>67500</td>\n",
       "      <td>0</td>\n",
       "    </tr>\n",
       "    <tr>\n",
       "      <th>997</th>\n",
       "      <td>934</td>\n",
       "      <td>0</td>\n",
       "      <td>49</td>\n",
       "      <td>7</td>\n",
       "      <td>166</td>\n",
       "      <td>174</td>\n",
       "      <td>24300</td>\n",
       "      <td>12100</td>\n",
       "      <td>10</td>\n",
       "      <td>5</td>\n",
       "      <td>6</td>\n",
       "      <td>3</td>\n",
       "      <td>243000</td>\n",
       "      <td>60500</td>\n",
       "      <td>0</td>\n",
       "    </tr>\n",
       "    <tr>\n",
       "      <th>998</th>\n",
       "      <td>901</td>\n",
       "      <td>1</td>\n",
       "      <td>8</td>\n",
       "      <td>3</td>\n",
       "      <td>156</td>\n",
       "      <td>125</td>\n",
       "      <td>35900</td>\n",
       "      <td>13100</td>\n",
       "      <td>12</td>\n",
       "      <td>19</td>\n",
       "      <td>11</td>\n",
       "      <td>9</td>\n",
       "      <td>430800</td>\n",
       "      <td>248900</td>\n",
       "      <td>0</td>\n",
       "    </tr>\n",
       "    <tr>\n",
       "      <th>999</th>\n",
       "      <td>765</td>\n",
       "      <td>0</td>\n",
       "      <td>64</td>\n",
       "      <td>8</td>\n",
       "      <td>123</td>\n",
       "      <td>105</td>\n",
       "      <td>2100</td>\n",
       "      <td>15500</td>\n",
       "      <td>100</td>\n",
       "      <td>70</td>\n",
       "      <td>4</td>\n",
       "      <td>2</td>\n",
       "      <td>210000</td>\n",
       "      <td>1085000</td>\n",
       "      <td>1</td>\n",
       "    </tr>\n",
       "    <tr>\n",
       "      <th>1000</th>\n",
       "      <td>768</td>\n",
       "      <td>0</td>\n",
       "      <td>34</td>\n",
       "      <td>2</td>\n",
       "      <td>117</td>\n",
       "      <td>105</td>\n",
       "      <td>17200</td>\n",
       "      <td>23900</td>\n",
       "      <td>27</td>\n",
       "      <td>15</td>\n",
       "      <td>22</td>\n",
       "      <td>15</td>\n",
       "      <td>464400</td>\n",
       "      <td>358500</td>\n",
       "      <td>0</td>\n",
       "    </tr>\n",
       "  </tbody>\n",
       "</table>\n",
       "<p>1000 rows × 15 columns</p>\n",
       "</div>"
      ],
      "text/plain": [
       "       ID  Gender  Age  Region  Product_19  Product_20  Price_19  Price_20  \\\n",
       "1      11       0   32       7         172         196     32400     36000   \n",
       "2     307       0   64       5         147         160     25200     25600   \n",
       "3     990       1   76       6         159         133     19600     21100   \n",
       "4     724       0   16       7         156         151     36000      7300   \n",
       "5     803       0   75       1         179         118      1000     25600   \n",
       "...   ...     ...  ...     ...         ...         ...       ...       ...   \n",
       "996   646       1   20       9         119         199      5100     13500   \n",
       "997   934       0   49       7         166         174     24300     12100   \n",
       "998   901       1    8       3         156         125     35900     13100   \n",
       "999   765       0   64       8         123         105      2100     15500   \n",
       "1000  768       0   34       2         117         105     17200     23900   \n",
       "\n",
       "      Quantity_19  Quantity_20  Time_19  Time_20  Amount_19  Amount_20  Sales  \n",
       "1               1           26        5       19      32400     936000      1  \n",
       "2              67           14        4       21    1688400     358400      0  \n",
       "3              98           64       12        1    1920800    1350400      0  \n",
       "4              13           92        9       14     468000     671600      1  \n",
       "5              16           63        1        8      16000    1612800      1  \n",
       "...           ...          ...      ...      ...        ...        ...    ...  \n",
       "996            30            5       24        2     153000      67500      0  \n",
       "997            10            5        6        3     243000      60500      0  \n",
       "998            12           19       11        9     430800     248900      0  \n",
       "999           100           70        4        2     210000    1085000      1  \n",
       "1000           27           15       22       15     464400     358500      0  \n",
       "\n",
       "[1000 rows x 15 columns]"
      ]
     },
     "execution_count": 53,
     "metadata": {},
     "output_type": "execute_result"
    }
   ],
   "source": [
    "# 수정 보완해서 다시 해보자\n",
    "# 관측치는 1천, 코드가 같을 때에 단가가 같게 처리\n",
    "# 워닝 사인 삭제\n",
    "\n",
    "# [과제] 아래 가이드에 따라 고객 구매데이터를 생성하고\n",
    "# ID, 성별, 연령, 지역, 상품, 가격, 구매시간\n",
    "# 데이터프레임으로 변환하여 출력하세요.\n",
    "\n",
    "# ID: 1~1000번 일련번호\n",
    "# gender: 0,1 정수 난수 생성\n",
    "# age: 0~80 사이 정수 난수 생성\n",
    "# region: 1~10 사이 정수 난수 생성\n",
    "# product_19: 제품코드 100~200\n",
    "# product_20: 제품코드 100~200\n",
    "# price_19: 1000~50000 사이의 실수 난수 생성\n",
    "# price_20: 1000~50000 사이의 실수 난수 생성\n",
    "# quantity_19: 1~100사이 정수 난수 생성\n",
    "# quantity_20: 1~100사이 정수 난수 생성\n",
    "# time_19: 01~24 사이 정수 난수 생성\n",
    "# time_20: 01~24 사이 정수 난수 생성\n",
    "# amount_19: price_19*quantity_19\n",
    "# amount_20: price_20*quantity_20\n",
    "# sales: 19년 대비 20년 구매금액이 증가 상태면 1, 감소면 0\n",
    "\n",
    "# amount_20-amount_19>0 이면 트루, 아니면 false로 해볼까?\n",
    "\n",
    "import numpy as np\n",
    "import pandas as pd\n",
    "import warnings\n",
    "warnings.filterwarnings('ignore')\n",
    "\n",
    "arr = np.zeros((1000,15))\n",
    "col = ['ID','Gender','Age','Region','Product_19','Product_20','Price_19','Price_20',\n",
    "       'Quantity_19','Quantity_20','Time_19','Time_20','Amount_19','Amount_20','Sales']\n",
    "index = np.arange(1,1001)\n",
    "df = pd.DataFrame(arr,index,col)\n",
    "\n",
    "p19 = np.random.randint(1,500,size=1000)*100\n",
    "q19 = np.random.randint(1,101,size=1000)\n",
    "p20 = np.random.randint(1,500,size=1000)*100\n",
    "q20 = np.random.randint(1,101,size=1000)\n",
    "\n",
    "df.ID = np.random.randint(1,1001,size=1000)\n",
    "df.Gender = np.random.randint(2,size=1000)\n",
    "df.Age = np.random.randint(80,size=1000)\n",
    "df.Region = np.random.randint(1,11,size=1000)\n",
    "df.Product_19 = np.random.randint(100,201,size=1000)\n",
    "df.Product_20 = np.random.randint(100,201,size=1000)\n",
    "df.Price_19 = p19\n",
    "df.Price_20 = p20\n",
    "df.Quantity_19 = q19\n",
    "df.Quantity_20 = q20\n",
    "#if df.Product_19==df.Product_20:\n",
    "#    p19 = p20\n",
    "\n",
    "\n",
    "df.Time_19 = np.random.randint(1,25,size=1000)\n",
    "df.Time_20 = np.random.randint(1,25,size=1000)\n",
    "# 시간 출력시 앞에 0 채우기(zfill)\n",
    "\n",
    "df.Amount_19 = p19*q19\n",
    "df.Amount_20 = p20*q20\n",
    "df.Sales = np.where(df.Amount_20-df.Amount_19>0,1,0)\n",
    "\n",
    "df\n",
    "\n",
    "# if df.Product_19==df.Product_20:\n",
    "#    p19 = p20"
   ]
  },
  {
   "cell_type": "code",
   "execution_count": 54,
   "id": "813ba5c2",
   "metadata": {
    "scrolled": true
   },
   "outputs": [
    {
     "data": {
      "text/html": [
       "<div>\n",
       "<style scoped>\n",
       "    .dataframe tbody tr th:only-of-type {\n",
       "        vertical-align: middle;\n",
       "    }\n",
       "\n",
       "    .dataframe tbody tr th {\n",
       "        vertical-align: top;\n",
       "    }\n",
       "\n",
       "    .dataframe thead th {\n",
       "        text-align: right;\n",
       "    }\n",
       "</style>\n",
       "<table border=\"1\" class=\"dataframe\">\n",
       "  <thead>\n",
       "    <tr style=\"text-align: right;\">\n",
       "      <th></th>\n",
       "      <th>id</th>\n",
       "      <th>gender</th>\n",
       "      <th>age</th>\n",
       "      <th>region</th>\n",
       "      <th>product_19</th>\n",
       "      <th>product_20</th>\n",
       "      <th>price_19</th>\n",
       "      <th>price_20</th>\n",
       "      <th>quantity_19</th>\n",
       "      <th>quantity_20</th>\n",
       "      <th>time_19</th>\n",
       "      <th>time_20</th>\n",
       "      <th>amount_19</th>\n",
       "      <th>amount_20</th>\n",
       "      <th>sales</th>\n",
       "    </tr>\n",
       "  </thead>\n",
       "  <tbody>\n",
       "    <tr>\n",
       "      <th>0</th>\n",
       "      <td>126</td>\n",
       "      <td>남</td>\n",
       "      <td>41</td>\n",
       "      <td>0</td>\n",
       "      <td>VR968</td>\n",
       "      <td>DH631</td>\n",
       "      <td>459621.07</td>\n",
       "      <td>138374.37</td>\n",
       "      <td>73</td>\n",
       "      <td>82</td>\n",
       "      <td>07</td>\n",
       "      <td>13</td>\n",
       "      <td>33552338.35</td>\n",
       "      <td>11346698.74</td>\n",
       "      <td>0.00</td>\n",
       "    </tr>\n",
       "    <tr>\n",
       "      <th>1</th>\n",
       "      <td>25</td>\n",
       "      <td>남</td>\n",
       "      <td>79</td>\n",
       "      <td>8</td>\n",
       "      <td>TQ406</td>\n",
       "      <td>FW442</td>\n",
       "      <td>296461.52</td>\n",
       "      <td>80912.00</td>\n",
       "      <td>38</td>\n",
       "      <td>19</td>\n",
       "      <td>05</td>\n",
       "      <td>14</td>\n",
       "      <td>11265537.81</td>\n",
       "      <td>1537328.08</td>\n",
       "      <td>0.00</td>\n",
       "    </tr>\n",
       "    <tr>\n",
       "      <th>2</th>\n",
       "      <td>810</td>\n",
       "      <td>여</td>\n",
       "      <td>51</td>\n",
       "      <td>1</td>\n",
       "      <td>QH806</td>\n",
       "      <td>XI203</td>\n",
       "      <td>107010.84</td>\n",
       "      <td>392979.25</td>\n",
       "      <td>85</td>\n",
       "      <td>94</td>\n",
       "      <td>14</td>\n",
       "      <td>02</td>\n",
       "      <td>9095921.48</td>\n",
       "      <td>36940049.79</td>\n",
       "      <td>1.00</td>\n",
       "    </tr>\n",
       "    <tr>\n",
       "      <th>3</th>\n",
       "      <td>634</td>\n",
       "      <td>여</td>\n",
       "      <td>20</td>\n",
       "      <td>3</td>\n",
       "      <td>KN797</td>\n",
       "      <td>ZK196</td>\n",
       "      <td>208804.01</td>\n",
       "      <td>206969.42</td>\n",
       "      <td>18</td>\n",
       "      <td>67</td>\n",
       "      <td>04</td>\n",
       "      <td>03</td>\n",
       "      <td>3758472.11</td>\n",
       "      <td>13866951.19</td>\n",
       "      <td>1.00</td>\n",
       "    </tr>\n",
       "    <tr>\n",
       "      <th>4</th>\n",
       "      <td>676</td>\n",
       "      <td>여</td>\n",
       "      <td>71</td>\n",
       "      <td>1</td>\n",
       "      <td>AH672</td>\n",
       "      <td>TG552</td>\n",
       "      <td>232884.13</td>\n",
       "      <td>304181.10</td>\n",
       "      <td>19</td>\n",
       "      <td>21</td>\n",
       "      <td>02</td>\n",
       "      <td>20</td>\n",
       "      <td>4424798.43</td>\n",
       "      <td>6387803.08</td>\n",
       "      <td>1.00</td>\n",
       "    </tr>\n",
       "    <tr>\n",
       "      <th>...</th>\n",
       "      <td>...</td>\n",
       "      <td>...</td>\n",
       "      <td>...</td>\n",
       "      <td>...</td>\n",
       "      <td>...</td>\n",
       "      <td>...</td>\n",
       "      <td>...</td>\n",
       "      <td>...</td>\n",
       "      <td>...</td>\n",
       "      <td>...</td>\n",
       "      <td>...</td>\n",
       "      <td>...</td>\n",
       "      <td>...</td>\n",
       "      <td>...</td>\n",
       "      <td>...</td>\n",
       "    </tr>\n",
       "    <tr>\n",
       "      <th>995</th>\n",
       "      <td>576</td>\n",
       "      <td>남</td>\n",
       "      <td>3</td>\n",
       "      <td>9</td>\n",
       "      <td>PW764</td>\n",
       "      <td>WT864</td>\n",
       "      <td>209575.73</td>\n",
       "      <td>98040.55</td>\n",
       "      <td>31</td>\n",
       "      <td>96</td>\n",
       "      <td>22</td>\n",
       "      <td>24</td>\n",
       "      <td>6496847.70</td>\n",
       "      <td>9411892.68</td>\n",
       "      <td>1.00</td>\n",
       "    </tr>\n",
       "    <tr>\n",
       "      <th>996</th>\n",
       "      <td>988</td>\n",
       "      <td>남</td>\n",
       "      <td>15</td>\n",
       "      <td>1</td>\n",
       "      <td>YU712</td>\n",
       "      <td>ED899</td>\n",
       "      <td>384661.27</td>\n",
       "      <td>154883.36</td>\n",
       "      <td>91</td>\n",
       "      <td>93</td>\n",
       "      <td>06</td>\n",
       "      <td>24</td>\n",
       "      <td>35004175.60</td>\n",
       "      <td>14404152.25</td>\n",
       "      <td>0.00</td>\n",
       "    </tr>\n",
       "    <tr>\n",
       "      <th>997</th>\n",
       "      <td>454</td>\n",
       "      <td>여</td>\n",
       "      <td>79</td>\n",
       "      <td>8</td>\n",
       "      <td>WS218</td>\n",
       "      <td>YC238</td>\n",
       "      <td>240932.95</td>\n",
       "      <td>116774.93</td>\n",
       "      <td>46</td>\n",
       "      <td>8</td>\n",
       "      <td>21</td>\n",
       "      <td>01</td>\n",
       "      <td>11082915.65</td>\n",
       "      <td>934199.42</td>\n",
       "      <td>0.00</td>\n",
       "    </tr>\n",
       "    <tr>\n",
       "      <th>998</th>\n",
       "      <td>100</td>\n",
       "      <td>여</td>\n",
       "      <td>0</td>\n",
       "      <td>1</td>\n",
       "      <td>FW286</td>\n",
       "      <td>IW026</td>\n",
       "      <td>97385.62</td>\n",
       "      <td>16132.33</td>\n",
       "      <td>24</td>\n",
       "      <td>94</td>\n",
       "      <td>24</td>\n",
       "      <td>01</td>\n",
       "      <td>2337254.81</td>\n",
       "      <td>1516439.11</td>\n",
       "      <td>0.00</td>\n",
       "    </tr>\n",
       "    <tr>\n",
       "      <th>999</th>\n",
       "      <td>665</td>\n",
       "      <td>여</td>\n",
       "      <td>32</td>\n",
       "      <td>2</td>\n",
       "      <td>PT443</td>\n",
       "      <td>VK787</td>\n",
       "      <td>165946.13</td>\n",
       "      <td>241478.03</td>\n",
       "      <td>98</td>\n",
       "      <td>14</td>\n",
       "      <td>18</td>\n",
       "      <td>03</td>\n",
       "      <td>16262720.98</td>\n",
       "      <td>3380692.35</td>\n",
       "      <td>0.00</td>\n",
       "    </tr>\n",
       "  </tbody>\n",
       "</table>\n",
       "<p>1000 rows × 15 columns</p>\n",
       "</div>"
      ],
      "text/plain": [
       "      id gender  age  region product_19 product_20  price_19  price_20  \\\n",
       "0    126      남   41       0      VR968      DH631 459621.07 138374.37   \n",
       "1     25      남   79       8      TQ406      FW442 296461.52  80912.00   \n",
       "2    810      여   51       1      QH806      XI203 107010.84 392979.25   \n",
       "3    634      여   20       3      KN797      ZK196 208804.01 206969.42   \n",
       "4    676      여   71       1      AH672      TG552 232884.13 304181.10   \n",
       "..   ...    ...  ...     ...        ...        ...       ...       ...   \n",
       "995  576      남    3       9      PW764      WT864 209575.73  98040.55   \n",
       "996  988      남   15       1      YU712      ED899 384661.27 154883.36   \n",
       "997  454      여   79       8      WS218      YC238 240932.95 116774.93   \n",
       "998  100      여    0       1      FW286      IW026  97385.62  16132.33   \n",
       "999  665      여   32       2      PT443      VK787 165946.13 241478.03   \n",
       "\n",
       "     quantity_19  quantity_20 time_19 time_20   amount_19   amount_20  sales  \n",
       "0             73           82      07      13 33552338.35 11346698.74   0.00  \n",
       "1             38           19      05      14 11265537.81  1537328.08   0.00  \n",
       "2             85           94      14      02  9095921.48 36940049.79   1.00  \n",
       "3             18           67      04      03  3758472.11 13866951.19   1.00  \n",
       "4             19           21      02      20  4424798.43  6387803.08   1.00  \n",
       "..           ...          ...     ...     ...         ...         ...    ...  \n",
       "995           31           96      22      24  6496847.70  9411892.68   1.00  \n",
       "996           91           93      06      24 35004175.60 14404152.25   0.00  \n",
       "997           46            8      21      01 11082915.65   934199.42   0.00  \n",
       "998           24           94      24      01  2337254.81  1516439.11   0.00  \n",
       "999           98           14      18      03 16262720.98  3380692.35   0.00  \n",
       "\n",
       "[1000 rows x 15 columns]"
      ]
     },
     "execution_count": 54,
     "metadata": {},
     "output_type": "execute_result"
    }
   ],
   "source": [
    "import string\n",
    "import warnings\n",
    "warnings.filterwarnings('ignore')\n",
    "\n",
    "arr = np.zeros((1000,15))\n",
    "columns = ['id','gender','age','region','product_19','product_20','price_19','price_20','quantity_19','quantity_20','time_19','time_20','amount_19','amount_20','sales']\n",
    "index = [np.arange(1000)]\n",
    "df = pd.DataFrame(arr,index,columns = columns)\n",
    "\n",
    "id_arr = np.arange(1,1001) ; np.random.shuffle(id_arr) ; df.id = id_arr\n",
    "gender_ar = np.array(['남','여']) ; df.gender = np.array(np.random.choice(gender_ar) for _ in range(1000))\n",
    "df.age = np.random.randint(80,size = 1000)\n",
    "df.region = np.random.randint(10,size = 1000)\n",
    "def code(a):\n",
    "    li = []\n",
    "    for _ in range(a):\n",
    "        result = \"\"\n",
    "        for _ in range(2):\n",
    "            result += random.choice(string.ascii_uppercase)\n",
    "        for _ in range(3):\n",
    "            result += random.choice(string.digits)\n",
    "        li.append(result)\n",
    "    return np.array(li)\n",
    "df.product_19 = code(1000)\n",
    "df.product_20 = code(1000)\n",
    "df.price_19 = np.random.rand(1000)*499000+1000\n",
    "df.price_20 = np.random.rand(1000)*499000+1000\n",
    "df.quantity_19 = np.random.randint(1,101,size=1000)\n",
    "df.quantity_20 = np.random.randint(1,101,size=1000)\n",
    "time_ar = []\n",
    "for _ in range(1,25):                   # df.time_19 = np.random.randint(1,25,size=1000).astype(str)       # 이 방식 안돼..\n",
    "    time_ar.append(f'{_}'.zfill(2))     # df.time_19 = df.time_19.str.zfill(2)\n",
    "np.array(time_ar)\n",
    "df.time_19 = np.array(np.random.choice(time_ar) for _ in range(1000))\n",
    "df.time_20 = np.array(np.random.choice(time_ar) for _ in range(1000))\n",
    "# df.time_19 = np.random.randint(1,25,size=1000)\n",
    "# df.time_20 = np.random.randint(1,25,size=1000)\n",
    "df.amount_19 = df.price_19 * df.quantity_19\n",
    "df.amount_20 = df.price_20 * df.quantity_20\n",
    "for _ in range(1000):\n",
    "    if df.amount_19[_] <= df.amount_20[_]:\n",
    "        df.sales[_] = 1\n",
    "    else:\n",
    "        df.sales[_] = 0\n",
    "#pd.Series(df.sales).astype(int)\n",
    "pd.options.display.float_format = '{:.2f}'.format\n",
    "df"
   ]
  },
  {
   "cell_type": "code",
   "execution_count": 55,
   "id": "4aa0b8bb",
   "metadata": {},
   "outputs": [
    {
     "data": {
      "text/html": [
       "<div>\n",
       "<style scoped>\n",
       "    .dataframe tbody tr th:only-of-type {\n",
       "        vertical-align: middle;\n",
       "    }\n",
       "\n",
       "    .dataframe tbody tr th {\n",
       "        vertical-align: top;\n",
       "    }\n",
       "\n",
       "    .dataframe thead th {\n",
       "        text-align: right;\n",
       "    }\n",
       "</style>\n",
       "<table border=\"1\" class=\"dataframe\">\n",
       "  <thead>\n",
       "    <tr style=\"text-align: right;\">\n",
       "      <th></th>\n",
       "      <th>id</th>\n",
       "      <th>gender</th>\n",
       "      <th>age</th>\n",
       "      <th>product_19</th>\n",
       "      <th>product_20</th>\n",
       "      <th>price_19</th>\n",
       "      <th>price_20</th>\n",
       "      <th>quantity_19</th>\n",
       "      <th>quantity_20</th>\n",
       "      <th>time_19</th>\n",
       "      <th>time_20</th>\n",
       "      <th>amount_19</th>\n",
       "      <th>amount_20</th>\n",
       "      <th>sales</th>\n",
       "    </tr>\n",
       "  </thead>\n",
       "  <tbody>\n",
       "    <tr>\n",
       "      <th>1</th>\n",
       "      <td>1</td>\n",
       "      <td>M</td>\n",
       "      <td>40</td>\n",
       "      <td>24227</td>\n",
       "      <td>55976</td>\n",
       "      <td>42900</td>\n",
       "      <td>17000</td>\n",
       "      <td>76</td>\n",
       "      <td>79</td>\n",
       "      <td>18</td>\n",
       "      <td>20</td>\n",
       "      <td>3260400</td>\n",
       "      <td>1343000</td>\n",
       "      <td>0</td>\n",
       "    </tr>\n",
       "    <tr>\n",
       "      <th>2</th>\n",
       "      <td>2</td>\n",
       "      <td>F</td>\n",
       "      <td>29</td>\n",
       "      <td>77462</td>\n",
       "      <td>78920</td>\n",
       "      <td>27400</td>\n",
       "      <td>38500</td>\n",
       "      <td>66</td>\n",
       "      <td>45</td>\n",
       "      <td>4</td>\n",
       "      <td>19</td>\n",
       "      <td>1808400</td>\n",
       "      <td>1732500</td>\n",
       "      <td>0</td>\n",
       "    </tr>\n",
       "    <tr>\n",
       "      <th>3</th>\n",
       "      <td>3</td>\n",
       "      <td>F</td>\n",
       "      <td>25</td>\n",
       "      <td>53750</td>\n",
       "      <td>46507</td>\n",
       "      <td>25600</td>\n",
       "      <td>49500</td>\n",
       "      <td>55</td>\n",
       "      <td>36</td>\n",
       "      <td>24</td>\n",
       "      <td>18</td>\n",
       "      <td>1408000</td>\n",
       "      <td>1782000</td>\n",
       "      <td>1</td>\n",
       "    </tr>\n",
       "    <tr>\n",
       "      <th>4</th>\n",
       "      <td>4</td>\n",
       "      <td>M</td>\n",
       "      <td>19</td>\n",
       "      <td>73611</td>\n",
       "      <td>29381</td>\n",
       "      <td>28000</td>\n",
       "      <td>19100</td>\n",
       "      <td>71</td>\n",
       "      <td>15</td>\n",
       "      <td>2</td>\n",
       "      <td>17</td>\n",
       "      <td>1988000</td>\n",
       "      <td>286500</td>\n",
       "      <td>0</td>\n",
       "    </tr>\n",
       "    <tr>\n",
       "      <th>5</th>\n",
       "      <td>5</td>\n",
       "      <td>F</td>\n",
       "      <td>68</td>\n",
       "      <td>82728</td>\n",
       "      <td>84075</td>\n",
       "      <td>1300</td>\n",
       "      <td>23200</td>\n",
       "      <td>20</td>\n",
       "      <td>90</td>\n",
       "      <td>3</td>\n",
       "      <td>20</td>\n",
       "      <td>26000</td>\n",
       "      <td>2088000</td>\n",
       "      <td>1</td>\n",
       "    </tr>\n",
       "    <tr>\n",
       "      <th>...</th>\n",
       "      <td>...</td>\n",
       "      <td>...</td>\n",
       "      <td>...</td>\n",
       "      <td>...</td>\n",
       "      <td>...</td>\n",
       "      <td>...</td>\n",
       "      <td>...</td>\n",
       "      <td>...</td>\n",
       "      <td>...</td>\n",
       "      <td>...</td>\n",
       "      <td>...</td>\n",
       "      <td>...</td>\n",
       "      <td>...</td>\n",
       "      <td>...</td>\n",
       "    </tr>\n",
       "    <tr>\n",
       "      <th>996</th>\n",
       "      <td>996</td>\n",
       "      <td>M</td>\n",
       "      <td>24</td>\n",
       "      <td>73435</td>\n",
       "      <td>97517</td>\n",
       "      <td>6400</td>\n",
       "      <td>21300</td>\n",
       "      <td>7</td>\n",
       "      <td>76</td>\n",
       "      <td>20</td>\n",
       "      <td>10</td>\n",
       "      <td>44800</td>\n",
       "      <td>1618800</td>\n",
       "      <td>1</td>\n",
       "    </tr>\n",
       "    <tr>\n",
       "      <th>997</th>\n",
       "      <td>997</td>\n",
       "      <td>M</td>\n",
       "      <td>53</td>\n",
       "      <td>36781</td>\n",
       "      <td>83820</td>\n",
       "      <td>34400</td>\n",
       "      <td>21600</td>\n",
       "      <td>28</td>\n",
       "      <td>53</td>\n",
       "      <td>10</td>\n",
       "      <td>24</td>\n",
       "      <td>963200</td>\n",
       "      <td>1144800</td>\n",
       "      <td>1</td>\n",
       "    </tr>\n",
       "    <tr>\n",
       "      <th>998</th>\n",
       "      <td>998</td>\n",
       "      <td>M</td>\n",
       "      <td>24</td>\n",
       "      <td>38495</td>\n",
       "      <td>96299</td>\n",
       "      <td>12700</td>\n",
       "      <td>7700</td>\n",
       "      <td>72</td>\n",
       "      <td>35</td>\n",
       "      <td>8</td>\n",
       "      <td>7</td>\n",
       "      <td>914400</td>\n",
       "      <td>269500</td>\n",
       "      <td>0</td>\n",
       "    </tr>\n",
       "    <tr>\n",
       "      <th>999</th>\n",
       "      <td>999</td>\n",
       "      <td>F</td>\n",
       "      <td>73</td>\n",
       "      <td>56675</td>\n",
       "      <td>61737</td>\n",
       "      <td>15700</td>\n",
       "      <td>21000</td>\n",
       "      <td>54</td>\n",
       "      <td>6</td>\n",
       "      <td>1</td>\n",
       "      <td>17</td>\n",
       "      <td>847800</td>\n",
       "      <td>126000</td>\n",
       "      <td>0</td>\n",
       "    </tr>\n",
       "    <tr>\n",
       "      <th>1000</th>\n",
       "      <td>1000</td>\n",
       "      <td>M</td>\n",
       "      <td>42</td>\n",
       "      <td>88153</td>\n",
       "      <td>76382</td>\n",
       "      <td>10100</td>\n",
       "      <td>32500</td>\n",
       "      <td>56</td>\n",
       "      <td>39</td>\n",
       "      <td>13</td>\n",
       "      <td>23</td>\n",
       "      <td>565600</td>\n",
       "      <td>1267500</td>\n",
       "      <td>1</td>\n",
       "    </tr>\n",
       "  </tbody>\n",
       "</table>\n",
       "<p>1000 rows × 14 columns</p>\n",
       "</div>"
      ],
      "text/plain": [
       "        id gender  age  product_19  product_20  price_19  price_20  \\\n",
       "1        1      M   40       24227       55976     42900     17000   \n",
       "2        2      F   29       77462       78920     27400     38500   \n",
       "3        3      F   25       53750       46507     25600     49500   \n",
       "4        4      M   19       73611       29381     28000     19100   \n",
       "5        5      F   68       82728       84075      1300     23200   \n",
       "...    ...    ...  ...         ...         ...       ...       ...   \n",
       "996    996      M   24       73435       97517      6400     21300   \n",
       "997    997      M   53       36781       83820     34400     21600   \n",
       "998    998      M   24       38495       96299     12700      7700   \n",
       "999    999      F   73       56675       61737     15700     21000   \n",
       "1000  1000      M   42       88153       76382     10100     32500   \n",
       "\n",
       "      quantity_19  quantity_20  time_19  time_20  amount_19  amount_20  sales  \n",
       "1              76           79       18       20    3260400    1343000      0  \n",
       "2              66           45        4       19    1808400    1732500      0  \n",
       "3              55           36       24       18    1408000    1782000      1  \n",
       "4              71           15        2       17    1988000     286500      0  \n",
       "5              20           90        3       20      26000    2088000      1  \n",
       "...           ...          ...      ...      ...        ...        ...    ...  \n",
       "996             7           76       20       10      44800    1618800      1  \n",
       "997            28           53       10       24     963200    1144800      1  \n",
       "998            72           35        8        7     914400     269500      0  \n",
       "999            54            6        1       17     847800     126000      0  \n",
       "1000           56           39       13       23     565600    1267500      1  \n",
       "\n",
       "[1000 rows x 14 columns]"
      ]
     },
     "execution_count": 55,
     "metadata": {},
     "output_type": "execute_result"
    }
   ],
   "source": [
    "import numpy as np\n",
    "import pandas as pd\n",
    "\n",
    "customer = 1000\n",
    "\n",
    "array = np.zeros((customer,14),dtype = int)\n",
    "df = pd.DataFrame(array,(np.arange(1,customer+1)),columns = ['id','gender','age','product_19','product_20','price_19','price_20','quantity_19','quantity_20','time_19','time_20','amount_19','amount_20','sales'])\n",
    "np.random.seed(0)\n",
    "df.id = np.arange(1,customer+1)\n",
    "df.gender = np.random.choice(['M','F'],customer)\n",
    "df.age = np.random.randint(1,81,size=customer)\n",
    "df.product_19 = np.random.randint(11111,100000,size = customer)\n",
    "df.product_20 = np.random.randint(11111,100000,size = customer)\n",
    "\n",
    "pricearray= np.random.randint(10,500,size = 100000)*100\n",
    "\n",
    "for i in range(1,customer+1):\n",
    "    df.price_19[i] = pricearray[df.product_19[i]]\n",
    "    df.price_20[i] = pricearray[df.product_20[i]]\n",
    "\n",
    "df.quantity_19 = np.random.randint(1,101,size = customer)\n",
    "df.quantity_20 = np.random.randint(1,101,size = customer)\n",
    "\n",
    "df.time_19 = np.random.randint(1,25,size = customer)\n",
    "df.time_20 = np.random.randint(1,25,size = customer)\n",
    "\n",
    "df.amount_19 = df.price_19*df.quantity_19\n",
    "df.amount_20 = df.price_20*df.quantity_20\n",
    "\n",
    "for i in range(1,customer+1):\n",
    "    if df.amount_20[i]>df.amount_19[i]:\n",
    "        df.sales[i] = 1\n",
    "    else:\n",
    "        df.sales[i] = 0\n",
    "\n",
    "df"
   ]
  },
  {
   "cell_type": "code",
   "execution_count": 56,
   "id": "d1531a18",
   "metadata": {
    "scrolled": true
   },
   "outputs": [
    {
     "data": {
      "text/plain": [
       "array([[0., 0., 0., 0., 0.],\n",
       "       [1., 0., 0., 0., 0.],\n",
       "       [0., 2., 0., 0., 0.],\n",
       "       [0., 0., 3., 0., 0.],\n",
       "       [0., 0., 0., 4., 0.]])"
      ]
     },
     "execution_count": 56,
     "metadata": {},
     "output_type": "execute_result"
    }
   ],
   "source": [
    "# [도전과제] np.arange(4)를 이용해서 아래와 같이 출력하세요.\n",
    "# array([[0, 0, 0, 0, 0],\n",
    "#        [1, 0, 0, 0, 0],\n",
    "#        [0, 2, 0, 0, 0],\n",
    "#        [0, 0, 3, 0, 0],\n",
    "#        [0, 0, 0, 4, 0]])\n",
    "\n",
    "a = np.arange(4)\n",
    "a0 = np.zeros((4,4))\n",
    "a0[[0,1,2,3],[0,1,2,3]] = a+1\n",
    "a0 = np.append(np.append(np.zeros((1,4)),a0,axis=0),np.zeros((5,1)),axis=1)\n",
    "a0"
   ]
  },
  {
   "cell_type": "code",
   "execution_count": 57,
   "id": "97ac9de1",
   "metadata": {},
   "outputs": [
    {
     "name": "stdout",
     "output_type": "stream",
     "text": [
      "[[0. 0. 0. 0. 0.]\n",
      " [1. 0. 0. 0. 0.]\n",
      " [0. 2. 0. 0. 0.]\n",
      " [0. 0. 3. 0. 0.]\n",
      " [0. 0. 0. 4. 0.]]\n"
     ]
    }
   ],
   "source": [
    "zero = np.zeros((5, 5))\n",
    "a = np.arange(4)\n",
    "\n",
    "for i in range(4):\n",
    "    zero[i + 1, i] = a[i] + 1\n",
    "    \n",
    "print(zero)"
   ]
  },
  {
   "cell_type": "code",
   "execution_count": 58,
   "id": "76c14a93",
   "metadata": {},
   "outputs": [
    {
     "data": {
      "text/plain": [
       "array([[0, 0, 0, 0, 0],\n",
       "       [1, 0, 0, 0, 0],\n",
       "       [0, 2, 0, 0, 0],\n",
       "       [0, 0, 3, 0, 0],\n",
       "       [0, 0, 0, 4, 0]])"
      ]
     },
     "execution_count": 58,
     "metadata": {},
     "output_type": "execute_result"
    }
   ],
   "source": [
    "# diag 함수\n",
    "d = np.diag(np.arange(4)+1,k=-1)\n",
    "d"
   ]
  },
  {
   "cell_type": "code",
   "execution_count": 59,
   "id": "cf0af934",
   "metadata": {
    "scrolled": true
   },
   "outputs": [
    {
     "name": "stdout",
     "output_type": "stream",
     "text": [
      "99\n"
     ]
    },
    {
     "data": {
      "text/plain": [
       "(array([1], dtype=int64), array([5], dtype=int64), array([3], dtype=int64))"
      ]
     },
     "execution_count": 59,
     "metadata": {},
     "output_type": "execute_result"
    }
   ],
   "source": [
    "# [도전과제] np.arange(336).reshape(6,7,8)에서 100번째 요소의 인덱스를 구하세요.\n",
    "import numpy as np\n",
    "print(np.arange(336)[99])\n",
    "# 100번째(인덱스 99) 요소값은 99\n",
    "np.where(np.arange(336).reshape(6,7,8)==99)"
   ]
  },
  {
   "cell_type": "code",
   "execution_count": 60,
   "id": "66094fdf",
   "metadata": {},
   "outputs": [
    {
     "name": "stdout",
     "output_type": "stream",
     "text": [
      "(1, 5, 3)\n"
     ]
    }
   ],
   "source": [
    "# unravel을 써보자!\n",
    "arr = np.arange(336).reshape(6,7,8)\n",
    "#print(arr)\n",
    "print(np.unravel_index(99,(6,7,8)))"
   ]
  }
 ],
 "metadata": {
  "kernelspec": {
   "display_name": "Python 3 (ipykernel)",
   "language": "python",
   "name": "python3"
  },
  "language_info": {
   "codemirror_mode": {
    "name": "ipython",
    "version": 3
   },
   "file_extension": ".py",
   "mimetype": "text/x-python",
   "name": "python",
   "nbconvert_exporter": "python",
   "pygments_lexer": "ipython3",
   "version": "3.8.12"
  }
 },
 "nbformat": 4,
 "nbformat_minor": 5
}
