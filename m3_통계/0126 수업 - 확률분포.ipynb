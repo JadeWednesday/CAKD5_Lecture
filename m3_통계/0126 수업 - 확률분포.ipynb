{
 "cells": [
  {
   "cell_type": "code",
   "execution_count": 1,
   "id": "1836ef5c",
   "metadata": {},
   "outputs": [],
   "source": [
    "import numpy as np\n",
    "import pandas as pd\n",
    "import matplotlib.pyplot as plt\n",
    "import seaborn as sns\n",
    "import warnings\n",
    "warnings.filterwarnings('ignore')"
   ]
  },
  {
   "cell_type": "markdown",
   "id": "c9fd764c",
   "metadata": {},
   "source": [
    "## 1차원 데이터의 이산형 확률분포"
   ]
  },
  {
   "cell_type": "code",
   "execution_count": 2,
   "id": "922bccc5",
   "metadata": {},
   "outputs": [],
   "source": [
    "# 1차원 이산확률분포\n",
    "# 균형이 안 맞는 주사위로 예시를 들어봅시다.\n",
    "\n",
    "x_set = np.array([1,2,3,4,5,6]) # 확률변수\n",
    "\n",
    "def f(x): # 확률함수 정의\n",
    "    if x in x_set:\n",
    "        return x/21\n",
    "    else: return 0\n",
    "\n",
    "X = [x_set, f] # 확률분포. 확률변수가 취할 수 있는 값의 목록과 확률함수"
   ]
  },
  {
   "cell_type": "code",
   "execution_count": 3,
   "id": "c59a0cc7",
   "metadata": {},
   "outputs": [
    {
     "data": {
      "text/plain": [
       "array([0.04761905, 0.0952381 , 0.14285714, 0.19047619, 0.23809524,\n",
       "       0.28571429])"
      ]
     },
     "metadata": {},
     "output_type": "display_data"
    },
    {
     "data": {
      "text/plain": [
       "{1: 0.047619047619047616,\n",
       " 2: 0.09523809523809523,\n",
       " 3: 0.14285714285714285,\n",
       " 4: 0.19047619047619047,\n",
       " 5: 0.23809523809523808,\n",
       " 6: 0.2857142857142857}"
      ]
     },
     "execution_count": 3,
     "metadata": {},
     "output_type": "execute_result"
    }
   ],
   "source": [
    "prob = np.array([f(i) for i  in x_set])\n",
    "display(prob)\n",
    "dict(zip(x_set, prob)) # 확률변수와 그에 대응하는 확률"
   ]
  },
  {
   "cell_type": "code",
   "execution_count": 4,
   "id": "c9e9df68",
   "metadata": {},
   "outputs": [
    {
     "data": {
      "image/png": "[encoded data removed]",
      "text/plain": [
       "<Figure size 432x288 with 1 Axes>"
      ]
     },
     "metadata": {
      "needs_background": "light"
     },
     "output_type": "display_data"
    }
   ],
   "source": [
    "plt.figure(figsize=(6,4))\n",
    "plt.bar(x_set, prob,color = 'cornflowerblue')\n",
    "plt.xlabel('X')\n",
    "plt.ylabel('Probability')\n",
    "plt.show()"
   ]
  },
  {
   "cell_type": "code",
   "execution_count": 5,
   "id": "2a4ac5d0",
   "metadata": {},
   "outputs": [
    {
     "data": {
      "image/png": "[encoded data removed]",
      "text/plain": [
       "<Figure size 432x288 with 1 Axes>"
      ]
     },
     "metadata": {
      "needs_background": "light"
     },
     "output_type": "display_data"
    }
   ],
   "source": [
    "sns.barplot(x_set,prob)\n",
    "plt.title('Bar Graph', fontsize=25)\n",
    "plt.show()"
   ]
  },
  {
   "cell_type": "code",
   "execution_count": 6,
   "id": "166b2d4a",
   "metadata": {},
   "outputs": [
    {
     "data": {
      "text/plain": [
       "False"
      ]
     },
     "execution_count": 6,
     "metadata": {},
     "output_type": "execute_result"
    }
   ],
   "source": [
    "# 확률은 0보다 작을 수 있을까?\n",
    "np.all(prob<0)"
   ]
  },
  {
   "cell_type": "code",
   "execution_count": 7,
   "id": "c27c8549",
   "metadata": {},
   "outputs": [
    {
     "data": {
      "text/plain": [
       "1.0"
      ]
     },
     "execution_count": 7,
     "metadata": {},
     "output_type": "execute_result"
    }
   ],
   "source": [
    "# 확률의 총합은 얼마일까?\n",
    "np.sum(prob).round(2)"
   ]
  },
  {
   "cell_type": "code",
   "execution_count": 8,
   "id": "c376479e",
   "metadata": {},
   "outputs": [
    {
     "data": {
      "text/plain": [
       "1.0"
      ]
     },
     "execution_count": 8,
     "metadata": {},
     "output_type": "execute_result"
    }
   ],
   "source": [
    "# 누적분포함수\n",
    "def F(x):\n",
    "    return np.sum([f(i) for i in x_set if i<=x]) # x까지의 확률을 누적(x의 확률 포함)\n",
    "\n",
    "F(6).round(2) # 마지막 x값까지의 누계는 확률 총합이니까"
   ]
  },
  {
   "cell_type": "code",
   "execution_count": 9,
   "id": "ca3efa87",
   "metadata": {},
   "outputs": [
    {
     "data": {
      "text/plain": [
       "{5: 0.047619047619047616,\n",
       " 7: 0.09523809523809523,\n",
       " 9: 0.14285714285714285,\n",
       " 11: 0.19047619047619047,\n",
       " 13: 0.23809523809523808,\n",
       " 15: 0.2857142857142857}"
      ]
     },
     "execution_count": 9,
     "metadata": {},
     "output_type": "execute_result"
    }
   ],
   "source": [
    "# 확률변수의 변환: 확률변수 X에 2를 곱하고 3을 더한 2X+3은 확률변수가 될까?\n",
    "\n",
    "y_set = np.array([2*i + 3 for i in x_set]) # 확률변수를 변환\n",
    "prob = np.array([f(i) for i in x_set]) # 변환한 확률변수도 기존 확률에 적용할 수 있나?\n",
    "dict(zip(y_set, prob)) # 변환한 확률변수도 이전 확률에 적용 가능."
   ]
  },
  {
   "cell_type": "code",
   "execution_count": 10,
   "id": "fa40992c",
   "metadata": {},
   "outputs": [
    {
     "data": {
      "text/plain": [
       "4.333333333333333"
      ]
     },
     "execution_count": 10,
     "metadata": {},
     "output_type": "execute_result"
    }
   ],
   "source": [
    "# 1차원 이산형 확률변수의 지표\n",
    "# 평균: 확률변수의 평균은 확률변수의 중심을 나타내는 지표가 되며,\n",
    "# 기댓값이라고도 부른다.\n",
    "np.sum([i*f(i) for i in x_set])"
   ]
  },
  {
   "cell_type": "code",
   "execution_count": 11,
   "id": "cf82e5af",
   "metadata": {
    "scrolled": true
   },
   "outputs": [
    {
     "data": {
      "text/plain": [
       "4.331408"
      ]
     },
     "execution_count": 11,
     "metadata": {},
     "output_type": "execute_result"
    }
   ],
   "source": [
    "# 확률변수의 기댓값은 확률변수를 무제한 시행하여 얻은 실현값의 평균\n",
    "sample = np.random.choice(x_set, int(1e6), p = prob)\n",
    "np.mean(sample)"
   ]
  },
  {
   "cell_type": "code",
   "execution_count": 12,
   "id": "669802dd",
   "metadata": {},
   "outputs": [
    {
     "data": {
      "text/plain": [
       "4.333333333333333"
      ]
     },
     "execution_count": 12,
     "metadata": {},
     "output_type": "execute_result"
    }
   ],
   "source": [
    "# 일반화\n",
    "def E(X, g=lambda x:x): # g의 로직은 확률변수의 변환을 일반화한 것\n",
    "    x_set, f = X # 확률변수와 확률함수를 묶어놓은 X에서 가져왔다\n",
    "    return np.sum([g(i)*f(i) for i in x_set])\n",
    "E(X)"
   ]
  },
  {
   "cell_type": "code",
   "execution_count": 13,
   "id": "044a0f8b",
   "metadata": {},
   "outputs": [
    {
     "data": {
      "text/plain": [
       "11.666666666666664"
      ]
     },
     "execution_count": 13,
     "metadata": {},
     "output_type": "execute_result"
    }
   ],
   "source": [
    "E(X, g = lambda x:2*x+3)"
   ]
  },
  {
   "cell_type": "code",
   "execution_count": 14,
   "id": "44358d3d",
   "metadata": {},
   "outputs": [
    {
     "data": {
      "text/plain": [
       "11.666666666666666"
      ]
     },
     "execution_count": 14,
     "metadata": {},
     "output_type": "execute_result"
    }
   ],
   "source": [
    "# 기댓값의 선형성\n",
    "2*E(X)+3\n",
    "# 확률변수를 변환한 기댓값과, 기댓값을 확률변수와 동일한 로직으로 변환한 거나 같다"
   ]
  },
  {
   "cell_type": "code",
   "execution_count": 15,
   "id": "494492d6",
   "metadata": {},
   "outputs": [
    {
     "data": {
      "text/plain": [
       "2.2222222222222223"
      ]
     },
     "execution_count": 15,
     "metadata": {},
     "output_type": "execute_result"
    }
   ],
   "source": [
    "# 분산\n",
    "mean = E(X) # 기댓값이 곧 평균\n",
    "np.sum([(i-mean)**2 *f(i) for i in x_set])"
   ]
  },
  {
   "cell_type": "code",
   "execution_count": 16,
   "id": "8fe6c9b3",
   "metadata": {},
   "outputs": [
    {
     "data": {
      "text/plain": [
       "8.88888888888889"
      ]
     },
     "execution_count": 16,
     "metadata": {},
     "output_type": "execute_result"
    }
   ],
   "source": [
    "# 분산의 일반화\n",
    "def V(X, g = lambda x:x):\n",
    "    x_set,f = X\n",
    "    mean = E(X,g)\n",
    "    return np.sum([(g(i)-mean)**2 *f(i) for i in x_set])\n",
    "\n",
    "V(X, lambda x:2*x+3)"
   ]
  },
  {
   "cell_type": "code",
   "execution_count": 17,
   "id": "19114081",
   "metadata": {
    "scrolled": true
   },
   "outputs": [
    {
     "name": "stdout",
     "output_type": "stream",
     "text": [
      "7.444444444444445 \n",
      "\n",
      "8.88888888888889\n"
     ]
    }
   ],
   "source": [
    "# 분산은 선형적인가?\n",
    "print(2*V(X)+3,'\\n') # 그렇지 않다.\n",
    "print(2**2*V(X)) # aX+b의 변환이라면 분산은 a^2V(X)\n",
    "# 분산에서 상수는 어차피 편차라 똑같고, 분산은 제곱의 합이므로 a도 제곱해 줘야지"
   ]
  },
  {
   "cell_type": "code",
   "execution_count": null,
   "id": "a00d4def",
   "metadata": {},
   "outputs": [],
   "source": []
  },
  {
   "cell_type": "markdown",
   "id": "9d65550b",
   "metadata": {},
   "source": [
    "## 2차원 데이터의 이산형 확률분포"
   ]
  },
  {
   "cell_type": "code",
   "execution_count": 18,
   "id": "afddce80",
   "metadata": {},
   "outputs": [],
   "source": [
    "# 2차원 이산형 확률분포\n",
    "x_set = np.arange(2,13) # 불공정한 6면 주사위 2개를 굴려 나온 눈의 합\n",
    "y_set = np.arange(1,7) # 불공정한 6면 주사위"
   ]
  },
  {
   "cell_type": "code",
   "execution_count": 19,
   "id": "5e4856b8",
   "metadata": {},
   "outputs": [],
   "source": [
    "# 확률함수 만들기 - 결합확률함수\n",
    "def f_XY(x,y):\n",
    "    if 1<=y<=6 and 1<=x-y<=6: # x는 2~12, y는 1~6. 주사위 2개의 눈금 범위\n",
    "        return y*(x-y)/441 # 왜 441이냐 하면, 21*21이라서\n",
    "                           # (y/21)*((x-y)/21)과 같은 모양새임\n",
    "    else: return 0"
   ]
  },
  {
   "cell_type": "code",
   "execution_count": 20,
   "id": "72f57d0f",
   "metadata": {},
   "outputs": [],
   "source": [
    "# 확률분포 만들기\n",
    "XY = [x_set, y_set, f_XY]"
   ]
  },
  {
   "cell_type": "code",
   "execution_count": 21,
   "id": "4f2960fd",
   "metadata": {},
   "outputs": [
    {
     "data": {
      "text/plain": [
       "array([[0.  , 0.  , 0.  , 0.  , 0.  , 0.  ],\n",
       "       [0.  , 0.  , 0.  , 0.  , 0.  , 0.  ],\n",
       "       [0.01, 0.01, 0.01, 0.  , 0.  , 0.  ],\n",
       "       [0.01, 0.01, 0.01, 0.01, 0.  , 0.  ],\n",
       "       [0.01, 0.02, 0.02, 0.02, 0.01, 0.  ],\n",
       "       [0.01, 0.02, 0.03, 0.03, 0.02, 0.01],\n",
       "       [0.  , 0.03, 0.03, 0.04, 0.03, 0.03],\n",
       "       [0.  , 0.  , 0.04, 0.05, 0.05, 0.04],\n",
       "       [0.  , 0.  , 0.  , 0.05, 0.06, 0.05],\n",
       "       [0.  , 0.  , 0.  , 0.  , 0.07, 0.07],\n",
       "       [0.  , 0.  , 0.  , 0.  , 0.  , 0.08]])"
      ]
     },
     "metadata": {},
     "output_type": "display_data"
    },
    {
     "data": {
      "text/plain": [
       "(11, 6)"
      ]
     },
     "metadata": {},
     "output_type": "display_data"
    }
   ],
   "source": [
    "prob = np.array([[f_XY(x,y) for y in y_set] for x in x_set])\n",
    "# 총 6*11개의 계산이 나와야 하기 때문에 6번 돌리는 작업을 11번 돌리는 이중 for문\n",
    "display(prob.round(2), prob.shape)\n",
    "# x를 먼저 돌릴지 y를 먼저 돌릴지 하는 건 걍 축 변경인 것 같음\n",
    "# 요소는 똑같고 배치만 다른.\n",
    "\n",
    "# 지금 여기선 y를 먼저 돌렸기 때문에 y가 컬럼에, x가 인덱스에 들어감\n",
    "# x 먼저 돌리면 6행 11열로 출력됨"
   ]
  },
  {
   "cell_type": "code",
   "execution_count": 22,
   "id": "1d040a69",
   "metadata": {},
   "outputs": [
    {
     "data": {
      "image/png": "[encoded data removed]",
      "text/plain": [
       "<Figure size 576x432 with 2 Axes>"
      ]
     },
     "metadata": {
      "needs_background": "light"
     },
     "output_type": "display_data"
    }
   ],
   "source": [
    "plt.figure(figsize=(8,6))\n",
    "plt.pcolor(prob)                                # minor=False는 세부눈금 삭제\n",
    "plt.xticks(np.arange(prob.shape[1]) + 0.5, y_set, minor=False) # y를 먼저 돌려서 y값을 x축에 표시\n",
    "plt.yticks(np.arange(prob.shape[0]) + 0.5, x_set, minor=False) # ax 안 쓰면 라벨은 ticks와 함께 지장\n",
    "plt.gca().invert_yaxis() # 객체 선언을 안 했기 때문에 gca()를 써서 임시 객체 선언\n",
    "plt.gca().xaxis.tick_top()\n",
    "plt.colorbar()\n",
    "plt.show()"
   ]
  },
  {
   "cell_type": "code",
   "execution_count": 23,
   "id": "3fd0ae5d",
   "metadata": {},
   "outputs": [
    {
     "data": {
      "text/plain": [
       "True"
      ]
     },
     "metadata": {},
     "output_type": "display_data"
    },
    {
     "data": {
      "text/plain": [
       "1.0"
      ]
     },
     "metadata": {},
     "output_type": "display_data"
    }
   ],
   "source": [
    "display(np.all(prob>=0),np.sum(prob))"
   ]
  },
  {
   "cell_type": "code",
   "execution_count": 24,
   "id": "6357976f",
   "metadata": {},
   "outputs": [
    {
     "data": {
      "text/plain": [
       "[array([ 2,  3,  4,  5,  6,  7,  8,  9, 10, 11, 12]),\n",
       " <function __main__.f_X(x)>]"
      ]
     },
     "metadata": {},
     "output_type": "display_data"
    },
    {
     "data": {
      "text/plain": [
       "[array([1, 2, 3, 4, 5, 6]), <function __main__.f_Y(y)>]"
      ]
     },
     "metadata": {},
     "output_type": "display_data"
    }
   ],
   "source": [
    "# 주변확률분포: 확률변수 (X,Y)는 결합확률분포에 의해 동시에 정의되나,\n",
    "# 개별 확률변수에만 흥미가 있다면 주변확률분포를 극딜하라.\n",
    "# 확률변수 X만의 움직임, 즉 확률변수 X의 확률함수를 구하여 보자.\n",
    "\n",
    "def f_X(x):\n",
    "    return np.sum([f_XY(x,y) for y in y_set]) # x 고정, y만 움직임\n",
    "\n",
    "def f_Y(y):\n",
    "    return np.sum([f_XY(x,y) for x in x_set]) # y 고정, x만 움직임\n",
    "\n",
    "# 확률분포 만들기\n",
    "X = [x_set, f_X]\n",
    "Y = [y_set, f_Y]\n",
    "display(X,Y)"
   ]
  },
  {
   "cell_type": "code",
   "execution_count": 25,
   "id": "bfdc96cc",
   "metadata": {},
   "outputs": [
    {
     "data": {
      "image/png": "[encoded data removed]",
      "text/plain": [
       "<Figure size 864x288 with 2 Axes>"
      ]
     },
     "metadata": {
      "needs_background": "light"
     },
     "output_type": "display_data"
    }
   ],
   "source": [
    "# 각각이 확률로서 잘 작동하는지 시각화해 보자.\n",
    "\n",
    "prob_x = np.array([f_X(x) for x in x_set])\n",
    "prob_y = np.array([f_Y(y) for y in y_set])\n",
    "\n",
    "fig = plt.figure(figsize=(12,4))\n",
    "ax1 = fig.add_subplot(121)\n",
    "ax2 = fig.add_subplot(122)\n",
    "\n",
    "ax1.bar(x_set, prob_x, color = 'cornflowerblue')\n",
    "ax2.bar(y_set, prob_y, color = 'lightcoral')\n",
    "ax1.set_xlabel('X')\n",
    "ax1.set_ylabel('Probability')\n",
    "ax2.set_xlabel('Y')\n",
    "ax2.set_ylabel('Probability')\n",
    "ax1.set_xticks(x_set)\n",
    "ax2.set_xticks(y_set)\n",
    "ax1.set_title('X_marginal Probability Distribution',fontsize=15)\n",
    "ax2.set_title('Y_marginal Probability Distribution',fontsize=15)\n",
    "\n",
    "plt.show()"
   ]
  },
  {
   "cell_type": "code",
   "execution_count": 26,
   "id": "af3fbf0c",
   "metadata": {},
   "outputs": [
    {
     "data": {
      "text/plain": [
       "8.666666666666666"
      ]
     },
     "execution_count": 26,
     "metadata": {},
     "output_type": "execute_result"
    }
   ],
   "source": [
    "# 2차원 이산형 확률분포의 지표\n",
    "# 기댓값(확률변수의 평균)\n",
    "np.sum([x*f_XY(x,y) for x in x_set for y in y_set])"
   ]
  },
  {
   "cell_type": "code",
   "execution_count": 27,
   "id": "4b7e0f1a",
   "metadata": {},
   "outputs": [
    {
     "data": {
      "text/plain": [
       "8.666666666666666"
      ]
     },
     "execution_count": 27,
     "metadata": {},
     "output_type": "execute_result"
    }
   ],
   "source": [
    "# 위의 것이랑 똑같은 내용인데 표기 방식만 바꾼 것임\n",
    "s = 0\n",
    "for y in y_set:\n",
    "    for x in x_set:\n",
    "        s += x*f_XY(x,y)\n",
    "s"
   ]
  },
  {
   "cell_type": "code",
   "execution_count": 28,
   "id": "8e623559",
   "metadata": {},
   "outputs": [
    {
     "data": {
      "text/plain": [
       "8.666666666666666"
      ]
     },
     "metadata": {},
     "output_type": "display_data"
    },
    {
     "data": {
      "text/plain": [
       "4.333333333333333"
      ]
     },
     "metadata": {},
     "output_type": "display_data"
    }
   ],
   "source": [
    "# 2차원 이산형 확률변수 변환의 일반화\n",
    "def E(XY, g):\n",
    "    x_set, y_set, f_XY = XY # 결합함수와 확률변수의 분포\n",
    "    return np.sum([g(x,y)*f_XY(x,y) for x in x_set for y in y_set])\n",
    "display(E(XY, lambda x,y:x), E(XY, lambda x,y: y))\n",
    "# 왜 기댓값이 2배냐 하면, 애초에 x는 주사위 2개의 합이고 y는 주사위 1개짜리거든..."
   ]
  },
  {
   "cell_type": "code",
   "execution_count": 29,
   "id": "4be4a979",
   "metadata": {},
   "outputs": [
    {
     "data": {
      "text/plain": [
       "30.333333333333332"
      ]
     },
     "metadata": {},
     "output_type": "display_data"
    },
    {
     "data": {
      "text/plain": [
       "30.33333333333333"
      ]
     },
     "metadata": {},
     "output_type": "display_data"
    }
   ],
   "source": [
    "# 선형성 체크\n",
    "a,b = 2,3\n",
    "display(\n",
    "    E(XY, lambda x,y:a*x+b*y),\n",
    "    E(XY, lambda x,y:a*x) + E(XY, lambda x,y: b*y))"
   ]
  },
  {
   "cell_type": "code",
   "execution_count": 30,
   "id": "d9f6d0e0",
   "metadata": {},
   "outputs": [
    {
     "data": {
      "text/plain": [
       "4.444444444444444"
      ]
     },
     "execution_count": 30,
     "metadata": {},
     "output_type": "execute_result"
    }
   ],
   "source": [
    "# 분산: X의 분산이라면 X에 관한 편차 제곱의 기댓값(평균)으로 구할 수 있다\n",
    "mean_X = E(XY, lambda x,y:x)\n",
    "mean_Y = E(XY, lambda x,y: y)\n",
    "np.sum([(x-mean_X)**2 * f_XY(x,y) for x in x_set for y in y_set])"
   ]
  },
  {
   "cell_type": "code",
   "execution_count": 31,
   "id": "cc56fbe9",
   "metadata": {},
   "outputs": [],
   "source": [
    "# 분산의 일반화\n",
    "def V(XY, g): # g는 변환식을 의미함\n",
    "    x_set, y_set, f_XY = XY\n",
    "    return np.sum([(g(x,y)-E(XY,g))**2 *f_XY(x,y)\n",
    "                   for x in x_set for y in y_set])"
   ]
  },
  {
   "cell_type": "code",
   "execution_count": 32,
   "id": "f0fbfc7f",
   "metadata": {},
   "outputs": [
    {
     "data": {
      "text/plain": [
       "4.444444444444444"
      ]
     },
     "metadata": {},
     "output_type": "display_data"
    },
    {
     "data": {
      "text/plain": [
       "2.2222222222222223"
      ]
     },
     "metadata": {},
     "output_type": "display_data"
    }
   ],
   "source": [
    "# 분산 체크\n",
    "var_X = V(XY, lambda x,y:x)\n",
    "var_Y = V(XY, lambda x,y:y)\n",
    "display(var_X,var_Y)"
   ]
  },
  {
   "cell_type": "code",
   "execution_count": 33,
   "id": "62faf0fc",
   "metadata": {},
   "outputs": [
    {
     "data": {
      "text/plain": [
       "2.222222222222222"
      ]
     },
     "execution_count": 33,
     "metadata": {},
     "output_type": "execute_result"
    }
   ],
   "source": [
    "# 공분산 구하기\n",
    "def Cov(XY):\n",
    "    x_set, y_set, f_XY = XY\n",
    "    return np.sum([(x-mean_X)*(y-mean_Y) * f_XY(x,y)\n",
    "                  for x in x_set for y in y_set])\n",
    "Cov(XY)"
   ]
  },
  {
   "cell_type": "code",
   "execution_count": 34,
   "id": "e31ad015",
   "metadata": {},
   "outputs": [
    {
     "data": {
      "text/plain": [
       "64.44444444444444"
      ]
     },
     "metadata": {},
     "output_type": "display_data"
    },
    {
     "data": {
      "text/plain": [
       "64.44444444444443"
      ]
     },
     "metadata": {},
     "output_type": "display_data"
    }
   ],
   "source": [
    "# 분산과 공분산의 공식관계\n",
    "display(\n",
    "    V(XY, lambda x,y:a*x+b*y),\n",
    "    a**2*var_X + b**2*var_Y + 2*a*b*Cov(XY))\n",
    "# 약간 2차방정식과도 비슷한 모양새이다..."
   ]
  },
  {
   "cell_type": "code",
   "execution_count": 35,
   "id": "d2c87a19",
   "metadata": {},
   "outputs": [
    {
     "data": {
      "text/plain": [
       "0.7071067811865474"
      ]
     },
     "execution_count": 35,
     "metadata": {},
     "output_type": "execute_result"
    }
   ],
   "source": [
    "# 확률변수의 상관계수: 공분산을 각각의 표준편차로 나누어 산출\n",
    "Cov(XY)/np.sqrt(var_X*var_Y)"
   ]
  },
  {
   "cell_type": "code",
   "execution_count": null,
   "id": "e1960ee4",
   "metadata": {},
   "outputs": [],
   "source": []
  },
  {
   "cell_type": "markdown",
   "id": "da7b6324",
   "metadata": {},
   "source": [
    "## 대표적인 이산형 확률분포"
   ]
  },
  {
   "cell_type": "code",
   "execution_count": 36,
   "id": "53b69b0b",
   "metadata": {},
   "outputs": [],
   "source": [
    "# 그래프를 위한 사용자 함수\n",
    "import numpy as np\n",
    "import matplotlib.pyplot as plt\n",
    "from scipy import stats\n",
    "\n",
    "linestyles = ['-', '--', ':']\n",
    "\n",
    "def E(X,g = lambda x:x): # 기댓값(평균)\n",
    "    x_set, f = X\n",
    "    return np.sum([g(x)*f(x) for x in x_set])\n",
    "\n",
    "def V(X,g = lambda x:x): # 분산\n",
    "    x_set, f = X\n",
    "    return np.sum([(g(x)-E(X,g))**2 * f(x) for x in x_set])\n",
    "\n",
    "def check_prob(X): # 확률분포를 인수로 넣으면 기댓값과 분산을 반환해 주는 함수\n",
    "    x_set, f = X\n",
    "    prob = np.array([f(x) for x in x_set]) # 확률\n",
    "    assert np.all(prob>=0), '확률은 음수일 수 없습니다.' # 조건식이 False일 때 출력됨\n",
    "    prob_sum = (prob.sum()).round(6)\n",
    "    assert prob_sum==1, f'확률의 총합은 1이어야 합니다. 현재 총합 {prob_sum}'\n",
    "    print(f'기댓값: {(E(X)):.4}')\n",
    "    print(f'분산: {(V(X)):.4}')\n",
    "    \n",
    "def plot_prob(X):\n",
    "    # 확률분포를 인수로 가지며 그 확률변수의 확률함수와 기댓값을 그리기 위한 함수\n",
    "    x_set, f = X # 선언 당하는 쪽이 왼쪽에 가면 됨. 선언 내용은 오른쪽.\n",
    "    prob = np.array([f(x) for x in x_set])\n",
    "    fig = plt.figure(figsize=(6,4))\n",
    "    ax = fig.add_subplot(111)\n",
    "    ax.bar(x_set, prob, label='Probability',color='cornflowerblue')\n",
    "    ax.vlines(E(X),0,1,label='Mean', color='crimson') # 평균 안내선\n",
    "    ax.set_xticks(np.append(x_set,E(X)))\n",
    "    ax.set_ylim(0,prob.max()+0.3)\n",
    "    ax.legend()\n",
    "    plt.show()"
   ]
  },
  {
   "cell_type": "markdown",
   "id": "999c11a4",
   "metadata": {},
   "source": [
    "### 베르누이 분포\n",
    "$f(x) = p^x(1-p)^{(1-x)}$      $(x\\in \\{0,1\\})$\n",
    "- 가장 기본적인 이산형 확률분포로, 확률변수가 취할 수 있는 값이 0과 1밖에 없는 분포이다.\n",
    "- 베르누이 분포를 따르는 확률변수의 시행을 '베르누이 시행'이라 하며,<br>1이 나오면 성공, 0이 나오면 실패인 두 가지 경우로 나뉜다.\n",
    "- 예) 동전을 던져 앞면이 나올 확률, 주사위를 던져 6이 나오지 않을 확률"
   ]
  },
  {
   "cell_type": "code",
   "execution_count": 37,
   "id": "11e97d2c",
   "metadata": {},
   "outputs": [],
   "source": [
    "# 베르누이 분포를 만족하는 함수 작성\n",
    "def Bern(p):\n",
    "    x_set = np.array([0,1])\n",
    "    def f(x):\n",
    "        if x in x_set:\n",
    "            return p**x * (1-p)**(1-x)\n",
    "        else: return 0\n",
    "    return x_set, f"
   ]
  },
  {
   "cell_type": "code",
   "execution_count": 38,
   "id": "89ad6082",
   "metadata": {
    "scrolled": true
   },
   "outputs": [
    {
     "name": "stdout",
     "output_type": "stream",
     "text": [
      "기댓값: 0.3\n",
      "분산: 0.21\n"
     ]
    }
   ],
   "source": [
    "# 성공할 확률이 30%, 0.3인 사건이 있다.\n",
    "p = 0.3\n",
    "X = Bern(p)\n",
    "check_prob(X)"
   ]
  },
  {
   "cell_type": "code",
   "execution_count": 39,
   "id": "69726f46",
   "metadata": {},
   "outputs": [
    {
     "data": {
      "image/png": "[encoded data removed]",
      "text/plain": [
       "<Figure size 432x288 with 1 Axes>"
      ]
     },
     "metadata": {
      "needs_background": "light"
     },
     "output_type": "display_data"
    }
   ],
   "source": [
    "plot_prob(X)"
   ]
  },
  {
   "cell_type": "code",
   "execution_count": 40,
   "id": "8b75c6d4",
   "metadata": {},
   "outputs": [
    {
     "data": {
      "text/plain": [
       "(0.7, 0.3)"
      ]
     },
     "execution_count": 40,
     "metadata": {},
     "output_type": "execute_result"
    }
   ],
   "source": [
    "rv = stats.bernoulli(p)\n",
    "rv.pmf(0), rv.pmf(1) # probability math function, 확률 질량 함수(이산형에 적용)"
   ]
  },
  {
   "cell_type": "code",
   "execution_count": 41,
   "id": "58d41c00",
   "metadata": {},
   "outputs": [
    {
     "data": {
      "text/plain": [
       "array([0.7, 0.3])"
      ]
     },
     "execution_count": 41,
     "metadata": {},
     "output_type": "execute_result"
    }
   ],
   "source": [
    "rv.pmf([0,1]) # 실패할 확률 0.7, 성공할 확률 0.3"
   ]
  },
  {
   "cell_type": "code",
   "execution_count": 42,
   "id": "6edf1adf",
   "metadata": {},
   "outputs": [
    {
     "data": {
      "text/plain": [
       "array([0.7, 1. ])"
      ]
     },
     "execution_count": 42,
     "metadata": {},
     "output_type": "execute_result"
    }
   ],
   "source": [
    "# 누적밀도함수\n",
    "rv.cdf([0,1]) # 누적이므로 최종값은 항상 1이다."
   ]
  },
  {
   "cell_type": "code",
   "execution_count": 43,
   "id": "9193ced8",
   "metadata": {},
   "outputs": [
    {
     "data": {
      "text/plain": [
       "(0.3, 0.21)"
      ]
     },
     "execution_count": 43,
     "metadata": {},
     "output_type": "execute_result"
    }
   ],
   "source": [
    "rv.mean(), rv.var()"
   ]
  },
  {
   "cell_type": "code",
   "execution_count": null,
   "id": "1c72df76",
   "metadata": {},
   "outputs": [],
   "source": []
  },
  {
   "cell_type": "markdown",
   "id": "b5047f27",
   "metadata": {},
   "source": [
    "### 이항분포\n",
    "$f(x) = _{n}\\mathrm{C}_{x}p^x(1-p)^{(n-x)}$   $(x\\in \\{0,1,$$\\cdots$$,n\\})$<br>\n",
    "$ _{n}\\mathrm{C}_{x} =\\frac{n!}{x!(n-x)!}$\n",
    "- 성공확률이 p인 베르누이 시행을 n번 했을 때의 성공 횟수가 따르는 분포"
   ]
  },
  {
   "cell_type": "code",
   "execution_count": 44,
   "id": "c6ad11b9",
   "metadata": {},
   "outputs": [],
   "source": [
    "from scipy.special import comb\n",
    "\n",
    "def Bin(n,p):\n",
    "    # 성공확률이 p인 베르누이 함수를 따르는 사건을 n번 시행했을 때\n",
    "    # 그 성공 횟수가 따르는 분포\n",
    "    x_set = np.arange(n+1)\n",
    "    def f(x):\n",
    "        if x in x_set:\n",
    "            return comb(n,x)*(p**x)*((1-p)**(n-x))\n",
    "        else: return 0\n",
    "    return x_set, f"
   ]
  },
  {
   "cell_type": "code",
   "execution_count": 45,
   "id": "4bb85265",
   "metadata": {},
   "outputs": [
    {
     "data": {
      "text/plain": [
       "(array([ 0,  1,  2,  3,  4,  5,  6,  7,  8,  9, 10]),\n",
       " <function __main__.Bin.<locals>.f(x)>)"
      ]
     },
     "execution_count": 45,
     "metadata": {},
     "output_type": "execute_result"
    }
   ],
   "source": [
    "n = 10\n",
    "p = 0.3\n",
    "X = Bin(n,p)\n",
    "X"
   ]
  },
  {
   "cell_type": "code",
   "execution_count": 46,
   "id": "39d78bdd",
   "metadata": {},
   "outputs": [
    {
     "name": "stdout",
     "output_type": "stream",
     "text": [
      "기댓값: 3.0\n",
      "분산: 2.1\n"
     ]
    }
   ],
   "source": [
    "check_prob(X)"
   ]
  },
  {
   "cell_type": "code",
   "execution_count": 47,
   "id": "23565db9",
   "metadata": {
    "scrolled": false
   },
   "outputs": [
    {
     "data": {
      "image/png": "[encoded data removed]",
      "text/plain": [
       "<Figure size 432x288 with 1 Axes>"
      ]
     },
     "metadata": {
      "needs_background": "light"
     },
     "output_type": "display_data"
    }
   ],
   "source": [
    "plot_prob(X)"
   ]
  },
  {
   "cell_type": "code",
   "execution_count": null,
   "id": "6ae62aae",
   "metadata": {},
   "outputs": [],
   "source": []
  },
  {
   "cell_type": "markdown",
   "id": "a7671f9f",
   "metadata": {},
   "source": [
    "### 기하분포\n",
    "$f(x) = (1-p)^{(x-1)}p$ $(x \\in \\{1,2,3,$$\\cdots$$\\})$\n",
    "- 베르누이 시행에서 처음 성공할 때까지 반복한 시행 횟수가 따르는 분포<br>(성공할 때까지 반복하는 횟수이므로 확률변수의 최솟값은 0이 아닌 1이다.)\n",
    "- 기하분포의 파라미터는 베르누이 시행의 성공 확률 파라미터 $p$가 되며,<br>파라미터 p의 기하분포를 $Ge(p)$로 표기한다.\n",
    "- 기하분포의 기댓값과 분산: $E(X) = \\frac{1}{p}, V(X) = \\frac{1-p}{p^2}$"
   ]
  },
  {
   "cell_type": "markdown",
   "id": "98de4116",
   "metadata": {},
   "source": [
    "### 포아송 분포\n",
    "- 임의의 사건이 단위 시간당 발생하는 건수가 따르는 확률분포이며,<br>포아송 분포의 파라미터는 $\\lambda$로 나타낸다.\n",
    "- 하루에 평균 2건의 교통사고가 발생하는 지역에서 하루 교통사고 발생건수는 $Poi(2)$를 따른다.<br>\n",
    "    예) 하루에 교통사고가 1건도 발생하지 않을 확률<br>\n",
    "    $P(X=0) = \\frac{2!}{0!}*e^{-2} = 0.135$\n",
    "\n",
    "- 포아송 분포의 기댓값과 분산은 모두 $\\lambda$가 된다.<br>\n",
    "$f(x) = \\frac{\\lambda^x}{x!}*e^{-\\lambda}$ $(x \\in \\{0,1,2,$$\\cdots$$\\})$"
   ]
  },
  {
   "cell_type": "code",
   "execution_count": null,
   "id": "d9767ed0",
   "metadata": {},
   "outputs": [],
   "source": []
  },
  {
   "cell_type": "code",
   "execution_count": 48,
   "id": "a824ee60",
   "metadata": {},
   "outputs": [
    {
     "name": "stdout",
     "output_type": "stream",
     "text": [
      "동전을 10번 던져 앞면이 3번 나올 확률: 0.2668279319999998\n",
      "\n",
      "동전을 10번 던지는 이항분포의 기대값: 2.9999999999999982,\n",
      "동전을 10번 던지는 이항분포의 분산: 2.099999999999999\n",
      "기댓값: 3.0\n",
      "분산: 2.1\n"
     ]
    }
   ],
   "source": [
    "# [과제] 동전을 10번 던져 앞면이 3번 나오는 확률의 이항분포의 기대값과 분산을 구하세요.\n",
    "\n",
    "# 동전을 던져서 앞뒷면이 나올 각각의 확률은 0.5가 맞지만\n",
    "# 여기선 성공을 동전의 앞면으로만 보고 나머지는 실패로 본다.\n",
    "# 곧, 10번 시행하여 3번 성공하는 작업의 성공확률은 0.3이므로\n",
    "# p=0.3이 되는 것이다.\n",
    "n = 10\n",
    "p = 0.3\n",
    "def f(x):\n",
    "    if x in x_set:\n",
    "        return comb(n,x)*p**x*((1-p)**(n-x))\n",
    "    else: return 0\n",
    "print(f'동전을 10번 던져 앞면이 3번 나올 확률: {f(3)}\\n')\n",
    "print(f'''동전을 10번 던지는 이항분포의 기대값: {E(Bin(n,p))},\n",
    "동전을 10번 던지는 이항분포의 분산: {V(Bin(n,p))}''')\n",
    "check_prob(Bin(n,p))"
   ]
  },
  {
   "cell_type": "code",
   "execution_count": 49,
   "id": "022f759c",
   "metadata": {},
   "outputs": [
    {
     "data": {
      "image/png": "[encoded data removed]",
      "text/plain": [
       "<Figure size 432x288 with 1 Axes>"
      ]
     },
     "metadata": {
      "needs_background": "light"
     },
     "output_type": "display_data"
    }
   ],
   "source": [
    "# [과제] 상기 이항분포의 확률함수와 기댓값을 시각화하세요.\n",
    "plot_prob(Bin(n,p))"
   ]
  },
  {
   "cell_type": "code",
   "execution_count": 50,
   "id": "a9b2cb28",
   "metadata": {},
   "outputs": [
    {
     "data": {
      "image/png": "[encoded data removed]",
      "text/plain": [
       "<Figure size 576x432 with 1 Axes>"
      ]
     },
     "metadata": {
      "needs_background": "light"
     },
     "output_type": "display_data"
    }
   ],
   "source": [
    "# [과제] 확률이 0.3, 0.5, 0.7로 변할 때 확률함수가 변하는 모습을 시각화하세요.\n",
    "from scipy import stats\n",
    "x_set = np.arange(n+1) # 이 x_set가 x의 집합임.\n",
    "fig = plt.figure(figsize=(8,6))\n",
    "ax = fig.add_subplot(111)\n",
    "for p, color in zip([0.3, 0.5, 0.7],['cornflowerblue','orange','lightcoral']):\n",
    "    rv = stats.binom(n,p)\n",
    "    ax.plot(x_set, rv.pmf(x_set), label=f'p: {p}',\n",
    "            color=color)\n",
    "    # 뭔 말이냐 하면, x_set의 값이 발생할 확률을 y축에 표시하란 뜻임.\n",
    "    # 그리고 그 확률은 위에서 만든 이항분포를 따르고.\n",
    "ax.set_xticks(x_set)\n",
    "ax.legend()\n",
    "plt.show()"
   ]
  },
  {
   "cell_type": "code",
   "execution_count": 51,
   "id": "eb81e390",
   "metadata": {},
   "outputs": [],
   "source": [
    "# [과제] 기하분포의 사용자 함수를 구하세요.\n",
    "# 단, 확률변수를 1 이상 29 이하인 정수로 설정\n",
    "def Ge(p):\n",
    "    x_set = np.arange(1,30)\n",
    "    # 성공할 때까지이므로 문제에서 반드시 변수의 범위를 지정해 줘야 함.\n",
    "    # 물론 실생활에서는 저렇게 범위가 정해지진 않는다. 무제한이라고 생각하면 됨.\n",
    "    def f(x):\n",
    "        if x in x_set:\n",
    "            return ((1-p)**(x-1))*p\n",
    "        else: 0\n",
    "    return x_set, f"
   ]
  },
  {
   "cell_type": "code",
   "execution_count": 52,
   "id": "d92a8456",
   "metadata": {},
   "outputs": [
    {
     "name": "stdout",
     "output_type": "stream",
     "text": [
      "기하분포의 기댓값: 2.0\n",
      "기하분포의 분산: 2.0\n",
      "기댓값: 2.0\n",
      "분산: 2.0\n"
     ]
    }
   ],
   "source": [
    "# [과제] 성공확률이 0.5일 때의 기하분포의 기댓값과 분산을 구하세요.\n",
    "print(f'''기하분포의 기댓값: {E(Ge(0.5)).round(3)}\n",
    "기하분포의 분산: {V(Ge(0.5)).round(3)}''')\n",
    "check_prob(Ge(0.5))"
   ]
  },
  {
   "cell_type": "code",
   "execution_count": 53,
   "id": "da6acef7",
   "metadata": {},
   "outputs": [
    {
     "data": {
      "image/png": "[encoded data removed]",
      "text/plain": [
       "<Figure size 432x288 with 1 Axes>"
      ]
     },
     "metadata": {
      "needs_background": "light"
     },
     "output_type": "display_data"
    }
   ],
   "source": [
    "# 상기 기하분포의 확률함수와 기댓값을 시각화하세요.\n",
    "plot_prob(Ge(0.5)) # 지수함수적으로 변화"
   ]
  },
  {
   "cell_type": "code",
   "execution_count": 54,
   "id": "2b017c12",
   "metadata": {},
   "outputs": [
    {
     "data": {
      "image/png": "[encoded data removed]",
      "text/plain": [
       "<Figure size 504x360 with 1 Axes>"
      ]
     },
     "metadata": {
      "needs_background": "light"
     },
     "output_type": "display_data"
    }
   ],
   "source": [
    "# [과제] 성공확률이 0.2, 0.5, 0.8로 변할 때 확률함수가 변화는 모습을 시각화 하세요\n",
    "fig = plt.figure(figsize=(7,5))\n",
    "ax = fig.add_subplot(111)\n",
    "for p, color in zip([0.2, 0.5, 0.8],['cornflowerblue','orange','lightcoral']):\n",
    "    rv = stats.geom(p)\n",
    "    x_set = np.arange(1,30)\n",
    "    ax.plot(x_set, rv.pmf(x_set),label=f'p: {p}',\n",
    "           color = color)\n",
    "ax.set_xticks(x_set)\n",
    "plt.legend()\n",
    "plt.show() # 이것 역시 지수적으로 감소"
   ]
  },
  {
   "cell_type": "code",
   "execution_count": 55,
   "id": "557c4774",
   "metadata": {},
   "outputs": [],
   "source": [
    "# [과제] 포아송 분포의 사용자 함수를 구하세요.\n",
    "# 단, 확률변수를 0 이상 19 이하인 정수로 설정\n",
    "# 이거 문제 범위가 잘못된 것 같음. 1 이상이 아니라 0 이상이어야 함.\n",
    "# 범위를 1부터로 하면 확률 총합이 1이 아니게 되어서 assert 작동하고 함수 실행 안 됨.\n",
    "# 교재에도 확률변수 x의 범위는 0부터로 시작함.\n",
    "from scipy.special import factorial\n",
    "\n",
    "def Poi(lamb):\n",
    "    x_set = np.arange(20)\n",
    "    def f(x):\n",
    "        if x in x_set:\n",
    "            return ((lamb**x)/factorial(x))*np.exp(-lamb)\n",
    "        else: return 0\n",
    "    return x_set, f"
   ]
  },
  {
   "cell_type": "code",
   "execution_count": 56,
   "id": "19814d6a",
   "metadata": {},
   "outputs": [
    {
     "name": "stdout",
     "output_type": "stream",
     "text": [
      "포아송 분포의 기댓값: 3.0\n",
      "포아송 분포의 분산: 3.0\n",
      "기댓값: 3.0\n",
      "분산: 3.0\n"
     ]
    }
   ],
   "source": [
    "# [과제] 𝜆가 3일 때의 포아송분포의 기댓값과 분산을 구하세요.\n",
    "print(f'''포아송 분포의 기댓값: {E(Poi(3)).round(3)}\n",
    "포아송 분포의 분산: {V(Poi(3)).round(3)}''')\n",
    "check_prob(Poi(3))"
   ]
  },
  {
   "cell_type": "code",
   "execution_count": 57,
   "id": "747f1846",
   "metadata": {},
   "outputs": [
    {
     "data": {
      "image/png": "[encoded data removed]",
      "text/plain": [
       "<Figure size 432x288 with 1 Axes>"
      ]
     },
     "metadata": {
      "needs_background": "light"
     },
     "output_type": "display_data"
    }
   ],
   "source": [
    "# [과제] 상기 포아송분포의 확률함수와 기댓값을 시각화하세요.\n",
    "plot_prob(Poi(3))"
   ]
  },
  {
   "cell_type": "code",
   "execution_count": 58,
   "id": "bf641a35",
   "metadata": {},
   "outputs": [
    {
     "data": {
      "image/png": "[encoded data removed]",
      "text/plain": [
       "<Figure size 504x360 with 1 Axes>"
      ]
     },
     "metadata": {
      "needs_background": "light"
     },
     "output_type": "display_data"
    }
   ],
   "source": [
    "# [과제] 𝜆가 3, 5, 8로 변할 때 확률함수가 변하는 모습을 시각화하세요.\n",
    "\n",
    "x_set = np.arange(20)\n",
    "fig = plt.figure(figsize=(7,5))\n",
    "ax = fig.add_subplot(111)\n",
    "\n",
    "for lamb, color in zip([3,5,8],['cornflowerblue','orange','lightcoral']):\n",
    "    rv = stats.poisson(lamb)\n",
    "    ax.plot(x_set, rv.pmf(x_set), label=f'lambda: {lamb}',\n",
    "           color = color)\n",
    "plt.legend()\n",
    "plt.show()"
   ]
  },
  {
   "cell_type": "markdown",
   "id": "d11f1f42",
   "metadata": {},
   "source": [
    "#### [과제] 베르누이, 이항, 기하, 포아송분포의 사례를 각각 2개씩 제시 및 설명 하세요.\n",
    "<br>\n",
    "1. 베르누이\n",
    "\n",
    "    베르누이 분포는 사건이 발생하거나 발생하지 않는 두 가지의 경우만을 가진다.\n",
    "- 학생 중 아무나 택했을 때 그 사람이 남자일 확률\n",
    "- 31가지 맛 아이스크림 중 아무거나 골랐을 때 초콜릿 맛일 확률\n",
    "<br>\n",
    "2. 이항\n",
    "<br>\n",
    "\n",
    "\n",
    "    이항분포는 베르누이 시행을 여러 번 했을 때 '성공 횟수'가 가지는 분포이다.\n",
    "- 확률 30% 짜리 아이템 강화를 5번 시도했을 때 강화 성공횟수가 따르는 분포\n",
    "- 10명에게 고백했을 때 3 사람만 승낙하는 상황에서 고백 성공횟수의 분포\n",
    "<br>\n",
    "3. 기하\n",
    "<br>\n",
    "\n",
    "\n",
    "    기하분포는 베르누이 시행에서 최초로 성공할 때까지 반복한 '시행 횟수'가 가지는 분포이다.\n",
    "- 합격률 80%의 시험에 합격할 때까지 계속해서 도전해 합격할 확률\n",
    "- 팝콘을 위로 던지고 입을 벌려 최초로 받아먹을 확률\n",
    "<br>\n",
    "4. 포아송\n",
    "<br>\n",
    "\n",
    "\n",
    "    포아송 분포는 임의의 사건이 단위 시간당 발생하는 건수가 가지는 확률분포이다.\n",
    "- 일 평균 2번 컵을 깨뜨리는 고양이가 하루에 컵을 3번 깨뜨릴 확률\n",
    "- 1시간마다 5개씩 팔리는 물건이 한 개도 팔리지 않을 확률"
   ]
  },
  {
   "cell_type": "code",
   "execution_count": 59,
   "id": "f40b5584",
   "metadata": {
    "scrolled": true
   },
   "outputs": [
    {
     "name": "stdout",
     "output_type": "stream",
     "text": [
      "기댓값: 1.5\n",
      "분산: 1.05\n"
     ]
    },
    {
     "data": {
      "image/png": "[encoded data removed]",
      "text/plain": [
       "<Figure size 432x288 with 1 Axes>"
      ]
     },
     "metadata": {
      "needs_background": "light"
     },
     "output_type": "display_data"
    },
    {
     "name": "stdout",
     "output_type": "stream",
     "text": [
      "기댓값: 3.0\n",
      "분산: 2.1\n"
     ]
    },
    {
     "data": {
      "image/png": "[encoded data removed]",
      "text/plain": [
       "<Figure size 432x288 with 1 Axes>"
      ]
     },
     "metadata": {
      "needs_background": "light"
     },
     "output_type": "display_data"
    }
   ],
   "source": [
    "# 확률 30% 짜리 아이템 강화를 5번 시도했을 때 강화 성공횟수가 따르는 분포\n",
    "# n=5, p=0.3일 때 모두 성공이면 5번째 막대그래프를 보면 된다.\n",
    "# 성공횟수가 따르는 분포이니까.\n",
    "check_prob(Bin(5,0.3))\n",
    "plot_prob(Bin(5,.3))\n",
    "\n",
    "# 10명에게 고백했을 때 3 사람만 승낙하는 상황에서 고백 성공횟수의 분포\n",
    "check_prob(Bin(10,0.3))\n",
    "plot_prob(Bin(10,0.3))"
   ]
  },
  {
   "cell_type": "code",
   "execution_count": 60,
   "id": "2c17eae7",
   "metadata": {
    "scrolled": true
   },
   "outputs": [
    {
     "name": "stdout",
     "output_type": "stream",
     "text": [
      "기댓값: 1.25\n",
      "분산: 0.3125\n"
     ]
    },
    {
     "data": {
      "image/png": "[encoded data removed]",
      "text/plain": [
       "<Figure size 432x288 with 1 Axes>"
      ]
     },
     "metadata": {
      "needs_background": "light"
     },
     "output_type": "display_data"
    },
    {
     "name": "stdout",
     "output_type": "stream",
     "text": [
      "기댓값: 2.5\n",
      "분산: 3.75\n"
     ]
    },
    {
     "data": {
      "image/png": "[encoded data removed]",
      "text/plain": [
       "<Figure size 432x288 with 1 Axes>"
      ]
     },
     "metadata": {
      "needs_background": "light"
     },
     "output_type": "display_data"
    }
   ],
   "source": [
    "def Ge(p):\n",
    "    x_set = np.arange(1,31)\n",
    "    # 성공할 때까지이므로 문제에서 반드시 변수의 범위를 지정해 줘야 함.\n",
    "    # 물론 실생활에서는 저렇게 범위가 정해지진 않는다. 무제한이라고 생각하면 됨.\n",
    "    def f(x):\n",
    "        if x in x_set:\n",
    "            return ((1-p)**(x-1))*p\n",
    "        else: 0\n",
    "    return x_set, f\n",
    "\n",
    "# 합격률 80%의 시험에 합격할 때까지 계속해서 도전해 합격할 확률\n",
    "check_prob(Ge(0.8)) # 1~2번 안에 합격할 확률이 가장 높다\n",
    "plot_prob(Ge(0.8))\n",
    "# 팝콘을 위로 던지고 입을 벌려 받아먹는 확률 40%의 행위에 대해 최초로 받아먹을 확률\n",
    "check_prob(Ge(0.4)) # 보통 2~3번 안에 받아먹기 성공하더라\n",
    "plot_prob(Ge(0.4))"
   ]
  },
  {
   "cell_type": "code",
   "execution_count": 61,
   "id": "dadd86b0",
   "metadata": {},
   "outputs": [
    {
     "name": "stdout",
     "output_type": "stream",
     "text": [
      "기댓값: 2.0\n",
      "분산: 2.0\n"
     ]
    },
    {
     "data": {
      "image/png": "[encoded data removed]",
      "text/plain": [
       "<Figure size 432x288 with 1 Axes>"
      ]
     },
     "metadata": {
      "needs_background": "light"
     },
     "output_type": "display_data"
    },
    {
     "ename": "AssertionError",
     "evalue": "확률은 음수일 수 없습니다.",
     "output_type": "error",
     "traceback": [
      "\u001b[1;31m---------------------------------------------------------------------------\u001b[0m",
      "\u001b[1;31mAssertionError\u001b[0m                            Traceback (most recent call last)",
      "\u001b[1;32m~\\AppData\\Local\\Temp/ipykernel_5132/789636755.py\u001b[0m in \u001b[0;36m<module>\u001b[1;34m\u001b[0m\n\u001b[0;32m      3\u001b[0m \u001b[0mplot_prob\u001b[0m\u001b[1;33m(\u001b[0m\u001b[0mPoi\u001b[0m\u001b[1;33m(\u001b[0m\u001b[1;36m2\u001b[0m\u001b[1;33m)\u001b[0m\u001b[1;33m)\u001b[0m \u001b[1;31m# 여기서 3의 확률값을 보면 됨\u001b[0m\u001b[1;33m\u001b[0m\u001b[1;33m\u001b[0m\u001b[0m\n\u001b[0;32m      4\u001b[0m \u001b[1;31m# 1시간마다 5개씩 팔리는 물건이 한 개도 팔리지 않을 확률\u001b[0m\u001b[1;33m\u001b[0m\u001b[1;33m\u001b[0m\u001b[1;33m\u001b[0m\u001b[0m\n\u001b[1;32m----> 5\u001b[1;33m \u001b[0mcheck_prob\u001b[0m\u001b[1;33m(\u001b[0m\u001b[0mPoi\u001b[0m\u001b[1;33m(\u001b[0m\u001b[1;36m5\u001b[0m\u001b[1;33m)\u001b[0m\u001b[1;33m)\u001b[0m\u001b[1;33m\u001b[0m\u001b[1;33m\u001b[0m\u001b[0m\n\u001b[0m\u001b[0;32m      6\u001b[0m \u001b[0mplot_prob\u001b[0m\u001b[1;33m(\u001b[0m\u001b[0mPoi\u001b[0m\u001b[1;33m(\u001b[0m\u001b[1;36m5\u001b[0m\u001b[1;33m)\u001b[0m\u001b[1;33m)\u001b[0m\u001b[1;33m\u001b[0m\u001b[1;33m\u001b[0m\u001b[0m\n",
      "\u001b[1;32m~\\AppData\\Local\\Temp/ipykernel_5132/2801115017.py\u001b[0m in \u001b[0;36mcheck_prob\u001b[1;34m(X)\u001b[0m\n\u001b[0;32m     17\u001b[0m     \u001b[0mx_set\u001b[0m\u001b[1;33m,\u001b[0m \u001b[0mf\u001b[0m \u001b[1;33m=\u001b[0m \u001b[0mX\u001b[0m\u001b[1;33m\u001b[0m\u001b[1;33m\u001b[0m\u001b[0m\n\u001b[0;32m     18\u001b[0m     \u001b[0mprob\u001b[0m \u001b[1;33m=\u001b[0m \u001b[0mnp\u001b[0m\u001b[1;33m.\u001b[0m\u001b[0marray\u001b[0m\u001b[1;33m(\u001b[0m\u001b[1;33m[\u001b[0m\u001b[0mf\u001b[0m\u001b[1;33m(\u001b[0m\u001b[0mx\u001b[0m\u001b[1;33m)\u001b[0m \u001b[1;32mfor\u001b[0m \u001b[0mx\u001b[0m \u001b[1;32min\u001b[0m \u001b[0mx_set\u001b[0m\u001b[1;33m]\u001b[0m\u001b[1;33m)\u001b[0m \u001b[1;31m# 확률\u001b[0m\u001b[1;33m\u001b[0m\u001b[1;33m\u001b[0m\u001b[0m\n\u001b[1;32m---> 19\u001b[1;33m     \u001b[1;32massert\u001b[0m \u001b[0mnp\u001b[0m\u001b[1;33m.\u001b[0m\u001b[0mall\u001b[0m\u001b[1;33m(\u001b[0m\u001b[0mprob\u001b[0m\u001b[1;33m>=\u001b[0m\u001b[1;36m0\u001b[0m\u001b[1;33m)\u001b[0m\u001b[1;33m,\u001b[0m \u001b[1;34m'확률은 음수일 수 없습니다.'\u001b[0m \u001b[1;31m# 조건식이 False일 때 출력됨\u001b[0m\u001b[1;33m\u001b[0m\u001b[1;33m\u001b[0m\u001b[0m\n\u001b[0m\u001b[0;32m     20\u001b[0m     \u001b[0mprob_sum\u001b[0m \u001b[1;33m=\u001b[0m \u001b[1;33m(\u001b[0m\u001b[0mprob\u001b[0m\u001b[1;33m.\u001b[0m\u001b[0msum\u001b[0m\u001b[1;33m(\u001b[0m\u001b[1;33m)\u001b[0m\u001b[1;33m)\u001b[0m\u001b[1;33m.\u001b[0m\u001b[0mround\u001b[0m\u001b[1;33m(\u001b[0m\u001b[1;36m6\u001b[0m\u001b[1;33m)\u001b[0m\u001b[1;33m\u001b[0m\u001b[1;33m\u001b[0m\u001b[0m\n\u001b[0;32m     21\u001b[0m     \u001b[1;32massert\u001b[0m \u001b[0mprob_sum\u001b[0m\u001b[1;33m==\u001b[0m\u001b[1;36m1\u001b[0m\u001b[1;33m,\u001b[0m \u001b[1;34mf'확률의 총합은 1이어야 합니다. 현재 총합 {prob_sum}'\u001b[0m\u001b[1;33m\u001b[0m\u001b[1;33m\u001b[0m\u001b[0m\n",
      "\u001b[1;31mAssertionError\u001b[0m: 확률은 음수일 수 없습니다."
     ]
    }
   ],
   "source": [
    "# 일 평균 2번 컵을 깨뜨리는 고양이가 하루에 컵을 3번 깨뜨릴 확률\n",
    "check_prob(Poi(2))\n",
    "plot_prob(Poi(2)) # 여기서 3의 확률값을 보면 됨\n",
    "# 1시간마다 5개씩 팔리는 물건이 한 개도 팔리지 않을 확률\n",
    "check_prob(Poi(5))\n",
    "plot_prob(Poi(5))"
   ]
  }
 ],
 "metadata": {
  "kernelspec": {
   "display_name": "Python 3 (ipykernel)",
   "language": "python",
   "name": "python3"
  },
  "language_info": {
   "codemirror_mode": {
    "name": "ipython",
    "version": 3
   },
   "file_extension": ".py",
   "mimetype": "text/x-python",
   "name": "python",
   "nbconvert_exporter": "python",
   "pygments_lexer": "ipython3",
   "version": "3.8.12"
  }
 },
 "nbformat": 4,
 "nbformat_minor": 5
}
