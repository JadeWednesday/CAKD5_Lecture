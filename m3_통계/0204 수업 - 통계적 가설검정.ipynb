{
 "cells": [
  {
   "cell_type": "code",
   "execution_count": 1,
   "id": "1ca9d53c",
   "metadata": {},
   "outputs": [],
   "source": [
    "import numpy as np\n",
    "import pandas as pd\n",
    "import matplotlib.pyplot as plt\n",
    "import seaborn as sns\n",
    "import scipy as sp\n",
    "from scipy import stats, integrate\n",
    "import warnings\n",
    "warnings.filterwarnings('ignore')"
   ]
  },
  {
   "cell_type": "markdown",
   "id": "c8401f34",
   "metadata": {},
   "source": [
    "#### 통계적 가설검정"
   ]
  },
  {
   "cell_type": "code",
   "execution_count": null,
   "id": "17fec281",
   "metadata": {},
   "outputs": [],
   "source": []
  },
  {
   "cell_type": "code",
   "execution_count": null,
   "id": "81670f93",
   "metadata": {},
   "outputs": [],
   "source": []
  },
  {
   "cell_type": "code",
   "execution_count": null,
   "id": "16e9b1c0",
   "metadata": {},
   "outputs": [],
   "source": []
  },
  {
   "cell_type": "code",
   "execution_count": 2,
   "id": "9fec9043",
   "metadata": {},
   "outputs": [],
   "source": [
    "# [과제] A학생의 사례로 가설검정의 프로세스를 정리하세요.\n",
    "df= pd.read_csv('./data/ch11_potato.csv')\n",
    "sample = np.array(df['무게'])"
   ]
  },
  {
   "cell_type": "markdown",
   "id": "03082d50",
   "metadata": {},
   "source": [
    "Q. '감자튀김 무게의 평균이 130g이다.'라는 귀무가설에 대한 유의성 검정을 수행하세요."
   ]
  },
  {
   "cell_type": "code",
   "execution_count": 3,
   "id": "d6b15ac4",
   "metadata": {},
   "outputs": [
    {
     "name": "stdout",
     "output_type": "stream",
     "text": [
      "128.451\n"
     ]
    },
    {
     "data": {
      "text/plain": [
       "128.681"
      ]
     },
     "execution_count": 3,
     "metadata": {},
     "output_type": "execute_result"
    }
   ],
   "source": [
    "# 표본평균\n",
    "print(sample.mean().round(3))\n",
    "\n",
    "# 감튀의 모평균 130g, 모분산이 9라고 가정해 보자.\n",
    "# 감튀 표본 14개의 분포는 N(130,9)의 정규분포를 따른다고 할 수 있다.\n",
    "# 표본 14개 뽑았으면 n=14이므로 표본평균은 N(130, 9/14)를 따른다.\n",
    "\n",
    "rv = stats.norm(130,np.sqrt(9/14)) # 표본평균\n",
    "rv.isf(0.95).round(3) # (임계값)하위 5% 지점의 평균 무게는 128.681g이다.\n",
    "# 으아니? 내가 얻은 14개 표본의 평균 무게는 128.451g인데 저게 하위 5% 지점보다 작다고?\n",
    "# 그렇다면 처음부터 감튀 무게의 모평균은 130g보다 작은 게 아닐까?"
   ]
  },
  {
   "cell_type": "code",
   "execution_count": 4,
   "id": "b40f88b8",
   "metadata": {},
   "outputs": [
    {
     "name": "stdout",
     "output_type": "stream",
     "text": [
      "-1.932 -1.645\n"
     ]
    }
   ],
   "source": [
    "# 검정통계량 z 기준\n",
    "smean = sample.mean()\n",
    "z = ((smean-130)/np.sqrt(9/14)).round(3) # 표준화 수행\n",
    "\n",
    "# 임곗값\n",
    "rv = stats.norm() # 표준화했기 때문에 표준정규분포로 진행\n",
    "print(z.round(3), rv.isf(0.95).round(3))\n",
    "\n",
    "# 검정통계량이 임곗값보다 작으므로 귀무가설 기각"
   ]
  },
  {
   "cell_type": "code",
   "execution_count": 5,
   "id": "b6b2d40f",
   "metadata": {},
   "outputs": [
    {
     "data": {
      "text/plain": [
       "0.027"
      ]
     },
     "execution_count": 5,
     "metadata": {},
     "output_type": "execute_result"
    }
   ],
   "source": [
    "# 알파(유의수준, 0.05) 기준 / 내가 확인하려는 유의수준은 5%, 즉 0.05\n",
    "# p값은 유의수준보다 작은, 검정통계량까지 면적 = 곧 확률이다.\n",
    "# 유의수준 역시 확률이므로 확률은 확률끼리 비교하기\n",
    "p = rv.cdf(z)\n",
    "p.round(3)\n",
    "\n",
    "# p값이 유의수준보다 작으므로 귀무가설 기각"
   ]
  },
  {
   "cell_type": "code",
   "execution_count": 6,
   "id": "b5231a6c",
   "metadata": {},
   "outputs": [
    {
     "data": {
      "image/png": "[encoded data removed]",
      "text/plain": [
       "<Figure size 720x360 with 2 Axes>"
      ]
     },
     "metadata": {
      "needs_background": "light"
     },
     "output_type": "display_data"
    }
   ],
   "source": [
    "# 그래프 그리기\n",
    "\n",
    "fig = plt.figure(figsize=(10,5))\n",
    "ax1 = fig.add_subplot(111)\n",
    "ax2 = ax1.twinx()\n",
    "\n",
    "rv = stats.norm(130, np.sqrt(9/14))\n",
    "xrange = np.linspace(127,133,100)\n",
    "ax1.plot(xrange, rv.pdf(xrange), color = 'lightcoral', label='PDF')\n",
    "ax2.plot(xrange, rv.cdf(xrange), color = 'cornflowerblue',label='CDF')\n",
    "ax1.set_xticks(np.linspace(127,133,7))\n",
    "ax1.vlines(130, 0,0.5, color='orange')\n",
    "ax1.vlines(sample.mean(), 0,0.5, color='gray',ls='--')\n",
    "\n",
    "ax1.legend()\n",
    "ax2.legend()\n",
    "plt.show()"
   ]
  },
  {
   "cell_type": "code",
   "execution_count": 7,
   "id": "56b8834f",
   "metadata": {},
   "outputs": [
    {
     "data": {
      "text/plain": [
       "-1.932"
      ]
     },
     "execution_count": 7,
     "metadata": {},
     "output_type": "execute_result"
    }
   ],
   "source": [
    "# 양측검정\n",
    "\n",
    "# 귀무가설 - 감튀 평균 무게는 130g이다.\n",
    "# 대립가설 - 감튀 평균 무게는 130이 아 니 다. (그 전에는 작다 였음)\n",
    "\n",
    "# 130g이 아닌 경우는 2가지, 크거나 작거나임. 그래서 단측이 아닌 양측검정 해야 함.\n",
    "\n",
    "z = (smean-130)/np.sqrt(9/14)\n",
    "z.round(3)"
   ]
  },
  {
   "cell_type": "code",
   "execution_count": 8,
   "id": "403622d2",
   "metadata": {},
   "outputs": [
    {
     "data": {
      "text/plain": [
       "array([-1.96,  1.96])"
      ]
     },
     "execution_count": 8,
     "metadata": {},
     "output_type": "execute_result"
    }
   ],
   "source": [
    "rv = stats.norm()\n",
    "np.round(rv.interval(0.95),3) # 튜플로 반환"
   ]
  },
  {
   "cell_type": "code",
   "execution_count": 9,
   "id": "b5921b25",
   "metadata": {},
   "outputs": [
    {
     "data": {
      "text/plain": [
       "0.05332263904625327"
      ]
     },
     "execution_count": 9,
     "metadata": {},
     "output_type": "execute_result"
    }
   ],
   "source": [
    "# 양측검정의 p값은 상단과 하단의 양쪽 면적을 고려해야 하므로\n",
    "# 누적 밀도 함수의 2배로 진행한다.\n",
    "rv.cdf(z) * 2\n",
    "# 유의수준 α = 0.05를 넘어섰으므로 귀무가설은 채택된다.\n",
    "# 즉, \"감튀 평균 무게는 130g이 아니다\" 라고는 말할 수 없는 것.\n",
    "### 이거 조심해야 함. 감튀 평균 무게 130g이다 라는 결론 아님."
   ]
  },
  {
   "cell_type": "markdown",
   "id": "c1e374b2",
   "metadata": {},
   "source": [
    "#### 가설검정에서의 두 가지 오류\n",
    "- 제1종 오류<br>\n",
    "    귀무가설이 옳을 때, 귀무가설을 기각하는 오류.<br>예) 실제 평균이 130g인데도 '평균은 130g보다 작다'는 결론을 내리는 경우.\n",
    "- 제2종 오류<br>\n",
    "    대립가설이 옳을 때, 귀무가설을 채택하는 오류.<br>예) 모평균은 130g보다 적은데도 '평균은 130g보다 작다고 할 수 없다'는 결론을 내리는 경우.<br>즉, 모평균이 130g보다 작다는 결론을 얻을 수 없을 때 제2종 오류가 발생한다.\n",
    "- 통계적 가설검정에서는 제1종 오류는 제어할 수 있지만,<br>제2종 오류는 제어할 수 없는 비대칭성이 있다.\n",
    "<br>\n",
    "\n",
    "#### 오탐(false positive)\n",
    "    검출하지 말아야 할 것을 검출한 것.\n",
    "    감튀 무게 평균은 130g인데 평균이 130g보다 작다는 증거를 찾아 그걸로 결론을 내리는 것.\n",
    "<br>\n",
    "\n",
    "#### 미탐(false negative)\n",
    "    검출해야 하는 것을 검출하지 못한 것.\n",
    "    감튀 무게 평균은 130g보다 작은데 그 사실을 뒷받침할 증거를 못 찾은 것."
   ]
  },
  {
   "cell_type": "code",
   "execution_count": 10,
   "id": "3b2fe981",
   "metadata": {},
   "outputs": [
    {
     "data": {
      "text/plain": [
       "0.0497"
      ]
     },
     "execution_count": 10,
     "metadata": {},
     "output_type": "execute_result"
    }
   ],
   "source": [
    "# 제1종 오류를 범할 비율\n",
    "# = 위험률. 유의수준(α). 분석가가 제어할 수 있는 확률.\n",
    "c = stats.norm().isf(.95)\n",
    "rv = stats.norm(130,3) # 이건 실제 감튀의 분포. 귀무가설 채택해야 하는 경우이다.\n",
    "count=0\n",
    "for _ in range(10000):\n",
    "    sam = np.round(rv.rvs(14),2)\n",
    "    smean = np.mean(sam)\n",
    "    z = (smean-130)/np.sqrt(9/14)\n",
    "    \n",
    "    if z < c : # 표준화한 z값이 유의수준보다 작은 경우 귀무가설 기각\n",
    "        count+=1\n",
    "count/10000 # 전체 표본 비율 중 귀무가설이 기각될 비율"
   ]
  },
  {
   "cell_type": "code",
   "execution_count": 11,
   "id": "936d1953",
   "metadata": {},
   "outputs": [],
   "source": [
    "# 정규분포의 모분산에 대한 검정 - 카이제곱 사용\n",
    "# 양측검정 기준\n",
    "\n",
    "def pvar_test(sample, var0, alpha=0.05): # 유의수준 지정\n",
    "    u_var = np.var(sample, ddof=1)\n",
    "    n = len(sample)\n",
    "    rv = stats.chi2(df=n-1) # 표본평균의 분산은 불편분산으로 구했으므로 자유도 n-1\n",
    "    interval = rv.interval(1-alpha)\n",
    "    \n",
    "    y = (n-1)*u_var/var0 # 검정통계량. 불편분산 u_var의 변환\n",
    "    if interval[0]<=y<=interval[1]: # 양측검정 후 귀무가설 채택범위에 있을 때\n",
    "        print(\"귀무가설 채택\") # 모분산은 var0이다\n",
    "    else: print(\"귀무가설 기각\") # 모분산은 var0이라 할 수 없다.\n",
    "    \n",
    "    if y<rv.isf(0.5):\n",
    "        p = rv.cdf(y)*2 # 양측검정이므로 2배\n",
    "    else: p = (1-rv.cdf(y))*2\n",
    "    print(f'p값: {p:.3f}')"
   ]
  },
  {
   "cell_type": "code",
   "execution_count": 12,
   "id": "7e957fb9",
   "metadata": {},
   "outputs": [
    {
     "name": "stdout",
     "output_type": "stream",
     "text": [
      "귀무가설 채택\n",
      "p값: 0.085\n"
     ]
    }
   ],
   "source": [
    "pvar_test(sample,9)"
   ]
  },
  {
   "cell_type": "code",
   "execution_count": null,
   "id": "cef57f8d",
   "metadata": {},
   "outputs": [],
   "source": []
  },
  {
   "cell_type": "markdown",
   "id": "b2b4af31",
   "metadata": {},
   "source": [
    "#### 2표본 문제"
   ]
  },
  {
   "cell_type": "code",
   "execution_count": 13,
   "id": "cd5801b9",
   "metadata": {},
   "outputs": [
    {
     "data": {
      "text/plain": [
       "20"
      ]
     },
     "metadata": {},
     "output_type": "display_data"
    },
    {
     "data": {
      "text/html": [
       "<div>\n",
       "<style scoped>\n",
       "    .dataframe tbody tr th:only-of-type {\n",
       "        vertical-align: middle;\n",
       "    }\n",
       "\n",
       "    .dataframe tbody tr th {\n",
       "        vertical-align: top;\n",
       "    }\n",
       "\n",
       "    .dataframe thead th {\n",
       "        text-align: right;\n",
       "    }\n",
       "</style>\n",
       "<table border=\"1\" class=\"dataframe\">\n",
       "  <thead>\n",
       "    <tr style=\"text-align: right;\">\n",
       "      <th></th>\n",
       "      <th>전</th>\n",
       "      <th>후</th>\n",
       "      <th>gap</th>\n",
       "    </tr>\n",
       "  </thead>\n",
       "  <tbody>\n",
       "    <tr>\n",
       "      <th>0</th>\n",
       "      <td>59</td>\n",
       "      <td>41</td>\n",
       "      <td>-18</td>\n",
       "    </tr>\n",
       "    <tr>\n",
       "      <th>1</th>\n",
       "      <td>52</td>\n",
       "      <td>63</td>\n",
       "      <td>11</td>\n",
       "    </tr>\n",
       "    <tr>\n",
       "      <th>2</th>\n",
       "      <td>55</td>\n",
       "      <td>68</td>\n",
       "      <td>13</td>\n",
       "    </tr>\n",
       "    <tr>\n",
       "      <th>3</th>\n",
       "      <td>61</td>\n",
       "      <td>59</td>\n",
       "      <td>-2</td>\n",
       "    </tr>\n",
       "    <tr>\n",
       "      <th>4</th>\n",
       "      <td>59</td>\n",
       "      <td>84</td>\n",
       "      <td>25</td>\n",
       "    </tr>\n",
       "  </tbody>\n",
       "</table>\n",
       "</div>"
      ],
      "text/plain": [
       "    전   후  gap\n",
       "0  59  41  -18\n",
       "1  52  63   11\n",
       "2  55  68   13\n",
       "3  61  59   -2\n",
       "4  59  84   25"
      ]
     },
     "metadata": {},
     "output_type": "display_data"
    }
   ],
   "source": [
    "# p값이 유의수준 0.05보다 작으므로 귀무가설을 기각하여\n",
    "# 근력운동은 집중력에 유의미한 차이를 가져온다고 할 수 있다.\n",
    "data = pd.read_csv('./data/ch11_training_rel.csv')\n",
    "data['gap'] = data['후'] - data['전']\n",
    "display(len(data),data.head())"
   ]
  },
  {
   "cell_type": "code",
   "execution_count": 14,
   "id": "57b9e18b",
   "metadata": {},
   "outputs": [
    {
     "data": {
      "text/plain": [
       "0.04004419061842953"
      ]
     },
     "execution_count": 14,
     "metadata": {},
     "output_type": "execute_result"
    }
   ],
   "source": [
    "t,p = stats.ttest_1samp(data.gap,0)\n",
    "p"
   ]
  },
  {
   "cell_type": "code",
   "execution_count": 15,
   "id": "80381c7c",
   "metadata": {},
   "outputs": [
    {
     "data": {
      "text/html": [
       "<div>\n",
       "<style scoped>\n",
       "    .dataframe tbody tr th:only-of-type {\n",
       "        vertical-align: middle;\n",
       "    }\n",
       "\n",
       "    .dataframe tbody tr th {\n",
       "        vertical-align: top;\n",
       "    }\n",
       "\n",
       "    .dataframe thead th {\n",
       "        text-align: right;\n",
       "    }\n",
       "</style>\n",
       "<table border=\"1\" class=\"dataframe\">\n",
       "  <thead>\n",
       "    <tr style=\"text-align: right;\">\n",
       "      <th></th>\n",
       "      <th>A</th>\n",
       "      <th>B</th>\n",
       "    </tr>\n",
       "  </thead>\n",
       "  <tbody>\n",
       "    <tr>\n",
       "      <th>0</th>\n",
       "      <td>47</td>\n",
       "      <td>49</td>\n",
       "    </tr>\n",
       "    <tr>\n",
       "      <th>1</th>\n",
       "      <td>50</td>\n",
       "      <td>52</td>\n",
       "    </tr>\n",
       "    <tr>\n",
       "      <th>2</th>\n",
       "      <td>37</td>\n",
       "      <td>54</td>\n",
       "    </tr>\n",
       "    <tr>\n",
       "      <th>3</th>\n",
       "      <td>60</td>\n",
       "      <td>48</td>\n",
       "    </tr>\n",
       "    <tr>\n",
       "      <th>4</th>\n",
       "      <td>39</td>\n",
       "      <td>51</td>\n",
       "    </tr>\n",
       "  </tbody>\n",
       "</table>\n",
       "</div>"
      ],
      "text/plain": [
       "    A   B\n",
       "0  47  49\n",
       "1  50  52\n",
       "2  37  54\n",
       "3  60  48\n",
       "4  39  51"
      ]
     },
     "execution_count": 15,
     "metadata": {},
     "output_type": "execute_result"
    }
   ],
   "source": [
    "# 독립표본 1검정\n",
    "data = pd.read_csv('./data/ch11_training_ind.csv')\n",
    "data.head()"
   ]
  },
  {
   "cell_type": "code",
   "execution_count": 16,
   "id": "f5bb23a7",
   "metadata": {},
   "outputs": [
    {
     "data": {
      "text/plain": [
       "0.08695731107259361"
      ]
     },
     "execution_count": 16,
     "metadata": {},
     "output_type": "execute_result"
    }
   ],
   "source": [
    "# p값이 0.05보다 크므로 귀무가설을 채택\n",
    "# 'A 학생의 학급과 B 학생의 학급 사이에는 평균 점수에 유의미한 차이가 있다고 말할 수 없다'\n",
    "t,p = stats.ttest_ind(data.A, data.B, equal_var=False)\n",
    "p"
   ]
  },
  {
   "cell_type": "code",
   "execution_count": 17,
   "id": "8ef258ff",
   "metadata": {},
   "outputs": [
    {
     "data": {
      "text/plain": [
       "1000"
      ]
     },
     "metadata": {},
     "output_type": "display_data"
    },
    {
     "data": {
      "text/html": [
       "<div>\n",
       "<style scoped>\n",
       "    .dataframe tbody tr th:only-of-type {\n",
       "        vertical-align: middle;\n",
       "    }\n",
       "\n",
       "    .dataframe tbody tr th {\n",
       "        vertical-align: top;\n",
       "    }\n",
       "\n",
       "    .dataframe thead th {\n",
       "        text-align: right;\n",
       "    }\n",
       "</style>\n",
       "<table border=\"1\" class=\"dataframe\">\n",
       "  <thead>\n",
       "    <tr style=\"text-align: right;\">\n",
       "      <th></th>\n",
       "      <th>광고</th>\n",
       "      <th>구입</th>\n",
       "    </tr>\n",
       "  </thead>\n",
       "  <tbody>\n",
       "    <tr>\n",
       "      <th>0</th>\n",
       "      <td>B</td>\n",
       "      <td>하지 않았다</td>\n",
       "    </tr>\n",
       "    <tr>\n",
       "      <th>1</th>\n",
       "      <td>B</td>\n",
       "      <td>하지 않았다</td>\n",
       "    </tr>\n",
       "    <tr>\n",
       "      <th>2</th>\n",
       "      <td>A</td>\n",
       "      <td>했다</td>\n",
       "    </tr>\n",
       "    <tr>\n",
       "      <th>3</th>\n",
       "      <td>A</td>\n",
       "      <td>했다</td>\n",
       "    </tr>\n",
       "    <tr>\n",
       "      <th>4</th>\n",
       "      <td>B</td>\n",
       "      <td>하지 않았다</td>\n",
       "    </tr>\n",
       "  </tbody>\n",
       "</table>\n",
       "</div>"
      ],
      "text/plain": [
       "  광고      구입\n",
       "0  B  하지 않았다\n",
       "1  B  하지 않았다\n",
       "2  A      했다\n",
       "3  A      했다\n",
       "4  B  하지 않았다"
      ]
     },
     "metadata": {},
     "output_type": "display_data"
    }
   ],
   "source": [
    "# 카이제곱검정을 통한 독립성 검정 수행\n",
    "df = pd.read_csv('./data/ch11_ad.csv')\n",
    "display(len(df),df.head())"
   ]
  },
  {
   "cell_type": "code",
   "execution_count": 18,
   "id": "fb3a1133",
   "metadata": {},
   "outputs": [
    {
     "data": {
      "text/html": [
       "<div>\n",
       "<style scoped>\n",
       "    .dataframe tbody tr th:only-of-type {\n",
       "        vertical-align: middle;\n",
       "    }\n",
       "\n",
       "    .dataframe tbody tr th {\n",
       "        vertical-align: top;\n",
       "    }\n",
       "\n",
       "    .dataframe thead th {\n",
       "        text-align: right;\n",
       "    }\n",
       "</style>\n",
       "<table border=\"1\" class=\"dataframe\">\n",
       "  <thead>\n",
       "    <tr style=\"text-align: right;\">\n",
       "      <th>구입</th>\n",
       "      <th>하지 않았다</th>\n",
       "      <th>했다</th>\n",
       "    </tr>\n",
       "    <tr>\n",
       "      <th>광고</th>\n",
       "      <th></th>\n",
       "      <th></th>\n",
       "    </tr>\n",
       "  </thead>\n",
       "  <tbody>\n",
       "    <tr>\n",
       "      <th>A</th>\n",
       "      <td>351</td>\n",
       "      <td>49</td>\n",
       "    </tr>\n",
       "    <tr>\n",
       "      <th>B</th>\n",
       "      <td>549</td>\n",
       "      <td>51</td>\n",
       "    </tr>\n",
       "  </tbody>\n",
       "</table>\n",
       "</div>"
      ],
      "text/plain": [
       "구입  하지 않았다  했다\n",
       "광고            \n",
       "A      351  49\n",
       "B      549  51"
      ]
     },
     "metadata": {},
     "output_type": "display_data"
    }
   ],
   "source": [
    "# 교차검정\n",
    "ad_cross = pd.crosstab(df.광고, df.구입) # 교차집계표 생성\n",
    "display(ad_cross)"
   ]
  },
  {
   "cell_type": "code",
   "execution_count": 19,
   "id": "3f52fd1e",
   "metadata": {},
   "outputs": [
    {
     "data": {
      "text/plain": [
       "3.75"
      ]
     },
     "metadata": {},
     "output_type": "display_data"
    },
    {
     "data": {
      "text/plain": [
       "0.052807511416113395"
      ]
     },
     "metadata": {},
     "output_type": "display_data"
    },
    {
     "data": {
      "text/plain": [
       "1"
      ]
     },
     "metadata": {},
     "output_type": "display_data"
    },
    {
     "data": {
      "text/plain": [
       "array([[360.,  40.],\n",
       "       [540.,  60.]])"
      ]
     },
     "metadata": {},
     "output_type": "display_data"
    }
   ],
   "source": [
    "# 함수를 이용해 검정\n",
    "chi2, p, dof, ef = stats.chi2_contingency(ad_cross,correction=False)\n",
    "display(chi2, p, dof, ef)\n",
    "# p값이 0.05 유의수준보다 크가 때문에 귀무가설 채택\n",
    "# 광고 A와 광고 B에 구입에 대해 유의미한 차이가 인정되지 않는다고 결론내릴 수 있다."
   ]
  },
  {
   "cell_type": "code",
   "execution_count": null,
   "id": "8d8ab76c",
   "metadata": {},
   "outputs": [],
   "source": []
  },
  {
   "cell_type": "code",
   "execution_count": null,
   "id": "9d90f8fc",
   "metadata": {},
   "outputs": [],
   "source": []
  },
  {
   "cell_type": "code",
   "execution_count": 20,
   "id": "325a1467",
   "metadata": {},
   "outputs": [
    {
     "data": {
      "text/plain": [
       "0.0196"
      ]
     },
     "execution_count": 20,
     "metadata": {},
     "output_type": "execute_result"
    }
   ],
   "source": [
    "# [과제] 위의 감튀 사건에 대하여 제2종 오류를 범할 비율을 구하시오.\n",
    "# 검정력: 1-β. (β: 제2종 오류를 범할 확률.)\n",
    "# 모집단의 정보는 알 수 없기 때문에 분석가가 제어할 수 없다.\n",
    "rv = stats.norm(127,3) # 예를 들어 감튀 평균은 127g이었다 치자.\n",
    "                       # 실제 상황이었다면 알 수 없었을 평균 무게이다.\n",
    "# 우리의 귀무가설은 감튀 평균 무게가 130g이라는 것임\n",
    "# 대립가설(130g보다 작다)이 맞는 상황에 귀무가설을 채택하는 것이 제2종 오류.\n",
    "\n",
    "c = stats.norm().isf(0.95) # 유의수준까지의 확률.\n",
    "count = 0\n",
    "\n",
    "for _ in range(10000):\n",
    "    sample = rv.rvs(14)\n",
    "    smean = np.mean(sample)\n",
    "    z = (smean-130)/np.sqrt(9/14) # 표준화한 검정통계량. 표준정규분포에 비교하고 있음\n",
    "    if z>=c:\n",
    "        count+=1\n",
    "count/10000 # 약 0.02의 비율(2%)로 제2종 오류를 범하며, 이는 분석가가 제어할 수 없다.\n",
    "# 이유인 즉 모평균을 알지 못하기 때문임."
   ]
  },
  {
   "cell_type": "code",
   "execution_count": 21,
   "id": "d544c588",
   "metadata": {},
   "outputs": [
    {
     "name": "stdout",
     "output_type": "stream",
     "text": [
      "귀무가설 채택\n",
      "p값: 0.053\n"
     ]
    }
   ],
   "source": [
    "# [과제] 모평균에 대한 검정을 사용자 함수 pmean_test()를 작성하여\n",
    "# 감튀 표본 데이터에 적용하여 수행하시오. (모분산을 아는 경우)\n",
    "df= pd.read_csv('./data/ch11_potato.csv')\n",
    "sample = np.array(df['무게'])\n",
    "\n",
    "def pmean_t(sample, mean0,p_bar,alpha=0.05):\n",
    "    smean = np.mean(sample)\n",
    "    n = len(sample)\n",
    "    z = (smean-mean0)/np.sqrt(p_bar/n)\n",
    "    rv = stats.norm()\n",
    "    interval = rv.interval(1-alpha) # 양측검정\n",
    "    \n",
    "    if interval[0]<=z<=interval[1]:\n",
    "        print('귀무가설 채택') # 모평균은 mean0이다.\n",
    "    else: print('귀무가설 기각') # 모평균은 mean0이라고는 할 수 없다.\n",
    "    \n",
    "    if z<0: # 검정통계량이 표준정규분포 그래프의 좌측에 위치했다면\n",
    "        print(f'p값: {(rv.cdf(z)*2).round(3)}')\n",
    "    else: print(f'p값: {((1-rv.cdf(z))*2).round(3)}')\n",
    "        # 검정통계량이 표준정규분포 그래프의 우측에 위치했다면\n",
    "        \n",
    "pmean_t(sample,130,9)"
   ]
  },
  {
   "cell_type": "code",
   "execution_count": 22,
   "id": "cbe7d9d9",
   "metadata": {},
   "outputs": [],
   "source": [
    "# [과제] 모평균에 대한 검정을 사용자 함수 pmean_test()를 작성하여\n",
    "# 감튀 표본 데이터에 적용하여 수행하시오. (모분산은 모른다)\n",
    "\n",
    "# 여기서의 검정통계량은 t검정통계량 사용\n",
    "\n",
    "def pmean_test(sample, mean0, alpha=0.05): # 유의수준 지정\n",
    "    smean = np.mean(sample)\n",
    "    u_var = np.var(sample, ddof=1) # 불편분산으로 구한, 표본평균의 분산\n",
    "    n = len(sample)\n",
    "    rv = stats.t(df=n-1) # 자유도 n-1\n",
    "    interval = rv.interval(1-alpha)\n",
    "    \n",
    "    t = (smean-mean0)/np.sqrt(u_var/n) # t 검정통계량 사용\n",
    "    if interval[0]<=t<=interval[1]: # 양측검정 후 귀무가설 채택범위에 있을 때\n",
    "        print(\"귀무가설 채택\")\n",
    "    else: print(\"귀무가설 기각\")\n",
    "    \n",
    "    if t<0:\n",
    "        p = rv.cdf(t)*2 # 양측검정이므로 2배\n",
    "    else: p = rv.sf(t)*2\n",
    "    print(f'p값: {p:.3f}')"
   ]
  },
  {
   "cell_type": "code",
   "execution_count": 23,
   "id": "268c38b2",
   "metadata": {},
   "outputs": [
    {
     "name": "stdout",
     "output_type": "stream",
     "text": [
      "귀무가설 채택\n",
      "p값: 0.169\n"
     ]
    }
   ],
   "source": [
    "pmean_test(sample,130)"
   ]
  },
  {
   "cell_type": "code",
   "execution_count": 24,
   "id": "dc6b8ad3",
   "metadata": {
    "scrolled": false
   },
   "outputs": [
    {
     "data": {
      "text/plain": [
       "array([-1.455,  0.169])"
      ]
     },
     "execution_count": 24,
     "metadata": {},
     "output_type": "execute_result"
    }
   ],
   "source": [
    "t,p = stats.ttest_1samp(sample,130)\n",
    "np.round((t,p),3)"
   ]
  },
  {
   "cell_type": "markdown",
   "id": "8e81b8b0",
   "metadata": {},
   "source": [
    "#### [과제] 대응표본과 독립표본에 대하여 정규분포를 가정할 수 있는 경우와 그렇지 않은 4가지 유형의 각 사례를 작성하세요.\n",
    "\n",
    "- 대응표본 - 정규분포 가정\n",
    "    - 환자 10명에 대하여 공복 혈당과 식후 혈당 비교 측정\n",
    "\n",
    "- 독립표본 - 정규분포 가정\n",
    "    - 아마추어 게이머 10명과 프로 게이머 10명에 대하여 각 그룹별 게임 승률 비교"
   ]
  },
  {
   "cell_type": "markdown",
   "id": "bca69ca8",
   "metadata": {},
   "source": [
    "#### [과제] 독립성 검정이 필요한 사례 2가지를 작성하세요.\n",
    "- 채널 별로 광고를 노출한 뒤 각 채널의 광고가 판매량에 영향을 미치는지 검정\n",
    "- 똑같은 영화에 각자 다른 간식을 서비스로 제시하고 관람율 비교"
   ]
  },
  {
   "cell_type": "code",
   "execution_count": 25,
   "id": "63508c15",
   "metadata": {},
   "outputs": [],
   "source": [
    "# 선생님 깃허브에서 긁어오기\n",
    "# 현정님 수영장 사례"
   ]
  },
  {
   "cell_type": "code",
   "execution_count": 26,
   "id": "8539de4a",
   "metadata": {},
   "outputs": [
    {
     "data": {
      "text/plain": [
       "(13, 8)"
      ]
     },
     "execution_count": 26,
     "metadata": {},
     "output_type": "execute_result"
    }
   ],
   "source": [
    "# [과제] 정규분포를 가정할 수 없는 대응표본에 대해 윌 콕슨의 부호순위검정을 통해 검정하시오.\n",
    "data = pd.read_csv('./data/ch11_training_rel.csv')\n",
    "data1 = data[:6].copy()\n",
    "\n",
    "data1['차'] = data1.전 - data1.후\n",
    "\n",
    "# 차이의 절댓값이 작은 것부터 순위 부여\n",
    "data1['순위'] = stats.rankdata(abs(data1.차)).astype(int)\n",
    "\n",
    "rm = np.sum((data1.차<0)*data1.순위)\n",
    "rp = np.sum((data1.차>0)*data1.순위)\n",
    "rm,rp # 귀무가설 기각"
   ]
  },
  {
   "cell_type": "code",
   "execution_count": 36,
   "id": "913007c5",
   "metadata": {},
   "outputs": [
    {
     "data": {
      "text/plain": [
       "0.30952380952380953"
      ]
     },
     "execution_count": 36,
     "metadata": {},
     "output_type": "execute_result"
    }
   ],
   "source": [
    "# [과제] 정규분포를 가정할 수 없는 독립표본에 대해 만-위트니의 U검정을 통해 검정하시오.\n",
    "data = pd.read_csv('./data/ch11_training_ind.csv')\n",
    "data1 = data[:5].copy()\n",
    "\n",
    "training_ind = pd.read_csv('./data/ch11_training_ind.csv')[:5]\n",
    "u,p = stats.mannwhitneyu(training_ind['A'],training_ind['B'],alternative='two-sided')\n",
    "p\n"
   ]
  },
  {
   "cell_type": "code",
   "execution_count": 28,
   "id": "87f7a5b8",
   "metadata": {
    "scrolled": true
   },
   "outputs": [
    {
     "data": {
      "text/plain": [
       "1000"
      ]
     },
     "metadata": {},
     "output_type": "display_data"
    },
    {
     "data": {
      "text/html": [
       "<div>\n",
       "<style scoped>\n",
       "    .dataframe tbody tr th:only-of-type {\n",
       "        vertical-align: middle;\n",
       "    }\n",
       "\n",
       "    .dataframe tbody tr th {\n",
       "        vertical-align: top;\n",
       "    }\n",
       "\n",
       "    .dataframe thead th {\n",
       "        text-align: right;\n",
       "    }\n",
       "</style>\n",
       "<table border=\"1\" class=\"dataframe\">\n",
       "  <thead>\n",
       "    <tr style=\"text-align: right;\">\n",
       "      <th></th>\n",
       "      <th>광고</th>\n",
       "      <th>구입</th>\n",
       "    </tr>\n",
       "  </thead>\n",
       "  <tbody>\n",
       "    <tr>\n",
       "      <th>0</th>\n",
       "      <td>B</td>\n",
       "      <td>하지 않았다</td>\n",
       "    </tr>\n",
       "    <tr>\n",
       "      <th>1</th>\n",
       "      <td>B</td>\n",
       "      <td>하지 않았다</td>\n",
       "    </tr>\n",
       "    <tr>\n",
       "      <th>2</th>\n",
       "      <td>A</td>\n",
       "      <td>했다</td>\n",
       "    </tr>\n",
       "    <tr>\n",
       "      <th>3</th>\n",
       "      <td>A</td>\n",
       "      <td>했다</td>\n",
       "    </tr>\n",
       "    <tr>\n",
       "      <th>4</th>\n",
       "      <td>B</td>\n",
       "      <td>하지 않았다</td>\n",
       "    </tr>\n",
       "  </tbody>\n",
       "</table>\n",
       "</div>"
      ],
      "text/plain": [
       "  광고      구입\n",
       "0  B  하지 않았다\n",
       "1  B  하지 않았다\n",
       "2  A      했다\n",
       "3  A      했다\n",
       "4  B  하지 않았다"
      ]
     },
     "metadata": {},
     "output_type": "display_data"
    }
   ],
   "source": [
    "# [과제] 기대도수(확률적으로 기대)와 관측도수(실측)의 차이를 측정해서 검정 수행\n",
    "df = pd.read_csv('./data/ch11_ad.csv')\n",
    "display(len(df),df.head())\n",
    "\n",
    "cross = pd.crosstab(df.광고,df.구입)"
   ]
  },
  {
   "cell_type": "code",
   "execution_count": 29,
   "id": "fb98c14c",
   "metadata": {},
   "outputs": [
    {
     "data": {
      "text/html": [
       "<div>\n",
       "<style scoped>\n",
       "    .dataframe tbody tr th:only-of-type {\n",
       "        vertical-align: middle;\n",
       "    }\n",
       "\n",
       "    .dataframe tbody tr th {\n",
       "        vertical-align: top;\n",
       "    }\n",
       "\n",
       "    .dataframe thead th {\n",
       "        text-align: right;\n",
       "    }\n",
       "</style>\n",
       "<table border=\"1\" class=\"dataframe\">\n",
       "  <thead>\n",
       "    <tr style=\"text-align: right;\">\n",
       "      <th>구입</th>\n",
       "      <th>하지 않았다</th>\n",
       "      <th>했다</th>\n",
       "    </tr>\n",
       "    <tr>\n",
       "      <th>광고</th>\n",
       "      <th></th>\n",
       "      <th></th>\n",
       "    </tr>\n",
       "  </thead>\n",
       "  <tbody>\n",
       "    <tr>\n",
       "      <th>A</th>\n",
       "      <td>351</td>\n",
       "      <td>49</td>\n",
       "    </tr>\n",
       "    <tr>\n",
       "      <th>B</th>\n",
       "      <td>549</td>\n",
       "      <td>51</td>\n",
       "    </tr>\n",
       "  </tbody>\n",
       "</table>\n",
       "</div>"
      ],
      "text/plain": [
       "구입  하지 않았다  했다\n",
       "광고            \n",
       "A      351  49\n",
       "B      549  51"
      ]
     },
     "execution_count": 29,
     "metadata": {},
     "output_type": "execute_result"
    }
   ],
   "source": [
    "cross"
   ]
  },
  {
   "cell_type": "code",
   "execution_count": 30,
   "id": "369f852d",
   "metadata": {},
   "outputs": [
    {
     "data": {
      "text/plain": [
       "광고\n",
       "A    0.1225\n",
       "B    0.0850\n",
       "dtype: float64"
      ]
     },
     "execution_count": 30,
     "metadata": {},
     "output_type": "execute_result"
    }
   ],
   "source": [
    "cross.했다/(cross.했다+cross['하지 않았다']) # 물건 구매자 비울"
   ]
  },
  {
   "cell_type": "code",
   "execution_count": 31,
   "id": "223d8528",
   "metadata": {},
   "outputs": [
    {
     "data": {
      "text/plain": [
       "(900, 100)"
      ]
     },
     "execution_count": 31,
     "metadata": {},
     "output_type": "execute_result"
    }
   ],
   "source": [
    "# 총 물건 구매여부\n",
    "no, yes = cross.sum()\n",
    "no, yes # 광고와 상관 없이 물건 구매함 - 광고와 구입은 독립이다.라고 생각하는 게 맞을까?"
   ]
  },
  {
   "cell_type": "code",
   "execution_count": 32,
   "id": "57fd5b99",
   "metadata": {},
   "outputs": [
    {
     "data": {
      "text/plain": [
       "(400, 600)"
      ]
     },
     "execution_count": 32,
     "metadata": {},
     "output_type": "execute_result"
    }
   ],
   "source": [
    "# 광고 별로 광고 본 사람만 체크\n",
    "Asee, Bsee = cross.sum(axis=1)\n",
    "Asee,Bsee # 대충 A 광고 본 사람 40명, B광고 본 사람 60명은 물건 사겠지? 10%니까?\n",
    "# 이것이 기대도수(광고와 구입이 독립일 때)\n",
    "\n",
    "# 관측도수는 cross.했다 임."
   ]
  },
  {
   "cell_type": "code",
   "execution_count": 33,
   "id": "d662d15a",
   "metadata": {},
   "outputs": [
    {
     "data": {
      "text/html": [
       "<div>\n",
       "<style scoped>\n",
       "    .dataframe tbody tr th:only-of-type {\n",
       "        vertical-align: middle;\n",
       "    }\n",
       "\n",
       "    .dataframe tbody tr th {\n",
       "        vertical-align: top;\n",
       "    }\n",
       "\n",
       "    .dataframe thead th {\n",
       "        text-align: right;\n",
       "    }\n",
       "</style>\n",
       "<table border=\"1\" class=\"dataframe\">\n",
       "  <thead>\n",
       "    <tr style=\"text-align: right;\">\n",
       "      <th></th>\n",
       "      <th>했다</th>\n",
       "      <th>하지 않았다</th>\n",
       "    </tr>\n",
       "  </thead>\n",
       "  <tbody>\n",
       "    <tr>\n",
       "      <th>A</th>\n",
       "      <td>40.0</td>\n",
       "      <td>360.0</td>\n",
       "    </tr>\n",
       "    <tr>\n",
       "      <th>B</th>\n",
       "      <td>60.0</td>\n",
       "      <td>540.0</td>\n",
       "    </tr>\n",
       "  </tbody>\n",
       "</table>\n",
       "</div>"
      ],
      "text/plain": [
       "     했다  하지 않았다\n",
       "A  40.0   360.0\n",
       "B  60.0   540.0"
      ]
     },
     "execution_count": 33,
     "metadata": {},
     "output_type": "execute_result"
    }
   ],
   "source": [
    "n = len(df)\n",
    "ad = pd.DataFrame({'했다': [Asee*yes/n, Bsee*yes/n],\n",
    "                   '하지 않았다': [Asee*no/n, Bsee*no/n]},\n",
    "                  index=['A','B'])\n",
    "ad # 이것이 기대도수. 10%의 비율로 광고시청구매자가 있다."
   ]
  },
  {
   "cell_type": "code",
   "execution_count": 34,
   "id": "55e412b8",
   "metadata": {},
   "outputs": [
    {
     "data": {
      "text/plain": [
       "3.75"
      ]
     },
     "execution_count": 34,
     "metadata": {},
     "output_type": "execute_result"
    }
   ],
   "source": [
    "y = ((cross-ad)**2/ad).sum().sum()\n",
    "y"
   ]
  },
  {
   "cell_type": "code",
   "execution_count": 35,
   "id": "7ec5e8d5",
   "metadata": {},
   "outputs": [
    {
     "data": {
      "text/plain": [
       "0.052807511416113395"
      ]
     },
     "execution_count": 35,
     "metadata": {},
     "output_type": "execute_result"
    }
   ],
   "source": [
    "rv=stats.chi2(1)\n",
    "1-rv.cdf(y) # 유의수준 0.05 이상이므로 귀무가설 - 광고와 구입은 독립이다 채택."
   ]
  },
  {
   "cell_type": "code",
   "execution_count": null,
   "id": "550d3968",
   "metadata": {},
   "outputs": [],
   "source": []
  },
  {
   "cell_type": "code",
   "execution_count": null,
   "id": "cd76be16",
   "metadata": {},
   "outputs": [],
   "source": []
  }
 ],
 "metadata": {
  "kernelspec": {
   "display_name": "Python 3 (ipykernel)",
   "language": "python",
   "name": "python3"
  },
  "language_info": {
   "codemirror_mode": {
    "name": "ipython",
    "version": 3
   },
   "file_extension": ".py",
   "mimetype": "text/x-python",
   "name": "python",
   "nbconvert_exporter": "python",
   "pygments_lexer": "ipython3",
   "version": "3.8.12"
  }
 },
 "nbformat": 4,
 "nbformat_minor": 5
}
