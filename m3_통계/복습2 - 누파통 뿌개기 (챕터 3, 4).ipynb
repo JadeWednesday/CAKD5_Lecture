{
 "cells": [
  {
   "cell_type": "code",
   "execution_count": 1,
   "id": "5430f587",
   "metadata": {},
   "outputs": [],
   "source": [
    "import numpy as np\n",
    "import pandas as pd\n",
    "import matplotlib.pyplot as plt\n",
    "import seaborn as sns"
   ]
  },
  {
   "cell_type": "code",
   "execution_count": 2,
   "id": "f7ec66f9",
   "metadata": {},
   "outputs": [
    {
     "data": {
      "text/html": [
       "<div>\n",
       "<style scoped>\n",
       "    .dataframe tbody tr th:only-of-type {\n",
       "        vertical-align: middle;\n",
       "    }\n",
       "\n",
       "    .dataframe tbody tr th {\n",
       "        vertical-align: top;\n",
       "    }\n",
       "\n",
       "    .dataframe thead th {\n",
       "        text-align: right;\n",
       "    }\n",
       "</style>\n",
       "<table border=\"1\" class=\"dataframe\">\n",
       "  <thead>\n",
       "    <tr style=\"text-align: right;\">\n",
       "      <th></th>\n",
       "      <th>english</th>\n",
       "      <th>mathematics</th>\n",
       "    </tr>\n",
       "    <tr>\n",
       "      <th>student number</th>\n",
       "      <th></th>\n",
       "      <th></th>\n",
       "    </tr>\n",
       "  </thead>\n",
       "  <tbody>\n",
       "    <tr>\n",
       "      <th>1</th>\n",
       "      <td>42</td>\n",
       "      <td>65</td>\n",
       "    </tr>\n",
       "    <tr>\n",
       "      <th>2</th>\n",
       "      <td>69</td>\n",
       "      <td>80</td>\n",
       "    </tr>\n",
       "    <tr>\n",
       "      <th>3</th>\n",
       "      <td>56</td>\n",
       "      <td>63</td>\n",
       "    </tr>\n",
       "    <tr>\n",
       "      <th>4</th>\n",
       "      <td>41</td>\n",
       "      <td>63</td>\n",
       "    </tr>\n",
       "    <tr>\n",
       "      <th>5</th>\n",
       "      <td>57</td>\n",
       "      <td>76</td>\n",
       "    </tr>\n",
       "  </tbody>\n",
       "</table>\n",
       "</div>"
      ],
      "text/plain": [
       "                english  mathematics\n",
       "student number                      \n",
       "1                    42           65\n",
       "2                    69           80\n",
       "3                    56           63\n",
       "4                    41           63\n",
       "5                    57           76"
      ]
     },
     "execution_count": 2,
     "metadata": {},
     "output_type": "execute_result"
    }
   ],
   "source": [
    "df = pd.read_csv('./data/ch2_scores_em.csv', index_col=0)\n",
    "df.head()"
   ]
  },
  {
   "cell_type": "code",
   "execution_count": 3,
   "id": "8c11d482",
   "metadata": {},
   "outputs": [
    {
     "data": {
      "text/html": [
       "<div>\n",
       "<style scoped>\n",
       "    .dataframe tbody tr th:only-of-type {\n",
       "        vertical-align: middle;\n",
       "    }\n",
       "\n",
       "    .dataframe tbody tr th {\n",
       "        vertical-align: top;\n",
       "    }\n",
       "\n",
       "    .dataframe thead th {\n",
       "        text-align: right;\n",
       "    }\n",
       "</style>\n",
       "<table border=\"1\" class=\"dataframe\">\n",
       "  <thead>\n",
       "    <tr style=\"text-align: right;\">\n",
       "      <th></th>\n",
       "      <th>english</th>\n",
       "      <th>mathematics</th>\n",
       "    </tr>\n",
       "    <tr>\n",
       "      <th>student</th>\n",
       "      <th></th>\n",
       "      <th></th>\n",
       "    </tr>\n",
       "  </thead>\n",
       "  <tbody>\n",
       "    <tr>\n",
       "      <th>A</th>\n",
       "      <td>42</td>\n",
       "      <td>65</td>\n",
       "    </tr>\n",
       "    <tr>\n",
       "      <th>B</th>\n",
       "      <td>69</td>\n",
       "      <td>80</td>\n",
       "    </tr>\n",
       "    <tr>\n",
       "      <th>C</th>\n",
       "      <td>56</td>\n",
       "      <td>63</td>\n",
       "    </tr>\n",
       "    <tr>\n",
       "      <th>D</th>\n",
       "      <td>41</td>\n",
       "      <td>63</td>\n",
       "    </tr>\n",
       "    <tr>\n",
       "      <th>E</th>\n",
       "      <td>57</td>\n",
       "      <td>76</td>\n",
       "    </tr>\n",
       "    <tr>\n",
       "      <th>F</th>\n",
       "      <td>48</td>\n",
       "      <td>60</td>\n",
       "    </tr>\n",
       "    <tr>\n",
       "      <th>G</th>\n",
       "      <td>65</td>\n",
       "      <td>81</td>\n",
       "    </tr>\n",
       "    <tr>\n",
       "      <th>H</th>\n",
       "      <td>49</td>\n",
       "      <td>66</td>\n",
       "    </tr>\n",
       "    <tr>\n",
       "      <th>I</th>\n",
       "      <td>65</td>\n",
       "      <td>78</td>\n",
       "    </tr>\n",
       "    <tr>\n",
       "      <th>J</th>\n",
       "      <td>58</td>\n",
       "      <td>82</td>\n",
       "    </tr>\n",
       "  </tbody>\n",
       "</table>\n",
       "</div>"
      ],
      "text/plain": [
       "         english  mathematics\n",
       "student                      \n",
       "A             42           65\n",
       "B             69           80\n",
       "C             56           63\n",
       "D             41           63\n",
       "E             57           76\n",
       "F             48           60\n",
       "G             65           81\n",
       "H             49           66\n",
       "I             65           78\n",
       "J             58           82"
      ]
     },
     "execution_count": 3,
     "metadata": {},
     "output_type": "execute_result"
    }
   ],
   "source": [
    "# 작업용 데이터프레임 만들기\n",
    "en_scores = np.array(df.english[:10])\n",
    "ma_scores = np.array(df.mathematics[:10])\n",
    "\n",
    "scores_df = pd.DataFrame({'english': en_scores,\n",
    "                         'mathematics': ma_scores},\n",
    "                        index = pd.Index(['A','B','C','D','E','F','G','H','I','J'],\n",
    "                                         name = 'student'))\n",
    "scores_df"
   ]
  },
  {
   "cell_type": "markdown",
   "id": "1b42dee3",
   "metadata": {},
   "source": [
    "## 두 데이터 간 상관관계를 나타내는 지표\n",
    "<br>\n",
    "\n",
    "#### 공분산 (covariance)\n",
    "    데이터의 관계성을 수치화한 지표이다.\n",
    "    최솟값 0, 양의 최댓값 1, 음의 최댓값 -1을 가지며 공분산이 0일 경우 두 데이터는 무상관이라고 한다.\n",
    "    무상관이라는 말은 곧 서로간에 미치는 영향력이 없다는 뜻과도 같다.\n",
    "<br>\n",
    "\n",
    "#### 상관계수 (correlation coefficient)\n",
    "    단위에 의존하지 않으면서 상관관계를 나타내는 지표.\n",
    "    상관계수는 반드시 -1 ≤ 상관계수 ≤ 1 범위 안에 있으며, 절댓값이 1에 가까울수록 상관도가 높아진다.\n",
    "    상관관계가 0일 경우 두 데이터는 무상관이며, 절댓값이 1인 경우 두 데이터는 완전히 직선상에 놓인다."
   ]
  },
  {
   "cell_type": "code",
   "execution_count": 4,
   "id": "6bcbd85d",
   "metadata": {},
   "outputs": [
    {
     "data": {
      "text/html": [
       "<div>\n",
       "<style scoped>\n",
       "    .dataframe tbody tr th:only-of-type {\n",
       "        vertical-align: middle;\n",
       "    }\n",
       "\n",
       "    .dataframe tbody tr th {\n",
       "        vertical-align: top;\n",
       "    }\n",
       "\n",
       "    .dataframe thead th {\n",
       "        text-align: right;\n",
       "    }\n",
       "</style>\n",
       "<table border=\"1\" class=\"dataframe\">\n",
       "  <thead>\n",
       "    <tr style=\"text-align: right;\">\n",
       "      <th></th>\n",
       "      <th>english</th>\n",
       "      <th>mathematics</th>\n",
       "      <th>E deviation</th>\n",
       "      <th>M deviation</th>\n",
       "      <th>product of deviation</th>\n",
       "    </tr>\n",
       "    <tr>\n",
       "      <th>student</th>\n",
       "      <th></th>\n",
       "      <th></th>\n",
       "      <th></th>\n",
       "      <th></th>\n",
       "      <th></th>\n",
       "    </tr>\n",
       "  </thead>\n",
       "  <tbody>\n",
       "    <tr>\n",
       "      <th>A</th>\n",
       "      <td>42</td>\n",
       "      <td>65</td>\n",
       "      <td>-13.0</td>\n",
       "      <td>-6.4</td>\n",
       "      <td>83.2</td>\n",
       "    </tr>\n",
       "    <tr>\n",
       "      <th>B</th>\n",
       "      <td>69</td>\n",
       "      <td>80</td>\n",
       "      <td>14.0</td>\n",
       "      <td>8.6</td>\n",
       "      <td>120.4</td>\n",
       "    </tr>\n",
       "    <tr>\n",
       "      <th>C</th>\n",
       "      <td>56</td>\n",
       "      <td>63</td>\n",
       "      <td>1.0</td>\n",
       "      <td>-8.4</td>\n",
       "      <td>-8.4</td>\n",
       "    </tr>\n",
       "    <tr>\n",
       "      <th>D</th>\n",
       "      <td>41</td>\n",
       "      <td>63</td>\n",
       "      <td>-14.0</td>\n",
       "      <td>-8.4</td>\n",
       "      <td>117.6</td>\n",
       "    </tr>\n",
       "    <tr>\n",
       "      <th>E</th>\n",
       "      <td>57</td>\n",
       "      <td>76</td>\n",
       "      <td>2.0</td>\n",
       "      <td>4.6</td>\n",
       "      <td>9.2</td>\n",
       "    </tr>\n",
       "    <tr>\n",
       "      <th>F</th>\n",
       "      <td>48</td>\n",
       "      <td>60</td>\n",
       "      <td>-7.0</td>\n",
       "      <td>-11.4</td>\n",
       "      <td>79.8</td>\n",
       "    </tr>\n",
       "    <tr>\n",
       "      <th>G</th>\n",
       "      <td>65</td>\n",
       "      <td>81</td>\n",
       "      <td>10.0</td>\n",
       "      <td>9.6</td>\n",
       "      <td>96.0</td>\n",
       "    </tr>\n",
       "    <tr>\n",
       "      <th>H</th>\n",
       "      <td>49</td>\n",
       "      <td>66</td>\n",
       "      <td>-6.0</td>\n",
       "      <td>-5.4</td>\n",
       "      <td>32.4</td>\n",
       "    </tr>\n",
       "    <tr>\n",
       "      <th>I</th>\n",
       "      <td>65</td>\n",
       "      <td>78</td>\n",
       "      <td>10.0</td>\n",
       "      <td>6.6</td>\n",
       "      <td>66.0</td>\n",
       "    </tr>\n",
       "    <tr>\n",
       "      <th>J</th>\n",
       "      <td>58</td>\n",
       "      <td>82</td>\n",
       "      <td>3.0</td>\n",
       "      <td>10.6</td>\n",
       "      <td>31.8</td>\n",
       "    </tr>\n",
       "  </tbody>\n",
       "</table>\n",
       "</div>"
      ],
      "text/plain": [
       "         english  mathematics  E deviation  M deviation  product of deviation\n",
       "student                                                                      \n",
       "A             42           65        -13.0         -6.4                  83.2\n",
       "B             69           80         14.0          8.6                 120.4\n",
       "C             56           63          1.0         -8.4                  -8.4\n",
       "D             41           63        -14.0         -8.4                 117.6\n",
       "E             57           76          2.0          4.6                   9.2\n",
       "F             48           60         -7.0        -11.4                  79.8\n",
       "G             65           81         10.0          9.6                  96.0\n",
       "H             49           66         -6.0         -5.4                  32.4\n",
       "I             65           78         10.0          6.6                  66.0\n",
       "J             58           82          3.0         10.6                  31.8"
      ]
     },
     "execution_count": 4,
     "metadata": {},
     "output_type": "execute_result"
    }
   ],
   "source": [
    "sample = scores_df.copy()\n",
    "sample['E deviation'] = sample.english - sample.english.mean()\n",
    "sample['M deviation'] = sample.mathematics - sample.mathematics.mean()\n",
    "sample['product of deviation'] = sample['E deviation']*sample['M deviation']\n",
    "sample"
   ]
  },
  {
   "cell_type": "code",
   "execution_count": 5,
   "id": "cfeec0f5",
   "metadata": {},
   "outputs": [
    {
     "data": {
      "text/plain": [
       "array([[95.55555556, 69.77777778],\n",
       "       [69.77777778, 76.04444444]])"
      ]
     },
     "metadata": {},
     "output_type": "display_data"
    },
    {
     "data": {
      "text/plain": [
       "69.778"
      ]
     },
     "metadata": {},
     "output_type": "display_data"
    }
   ],
   "source": [
    "# 두 데이터 간 공분산을 함수로 구해보면\n",
    "cov = np.cov(sample.english, sample.mathematics) # np.cov 함수는 공분산 '행렬'을 반환합니다\n",
    "display(cov, cov[0,1].round(3))"
   ]
  },
  {
   "cell_type": "code",
   "execution_count": 6,
   "id": "4204193a",
   "metadata": {},
   "outputs": [
    {
     "data": {
      "text/plain": [
       "69.778"
      ]
     },
     "execution_count": 6,
     "metadata": {},
     "output_type": "execute_result"
    }
   ],
   "source": [
    "# 두 데이터 간 공분산을 수식으로 구해보면\n",
    "cov = (sample['E deviation']*sample['M deviation']).sum()/(len(sample)-1)\n",
    "cov.round(3)\n",
    "# 기본적으로 불편분산(자유도 1)로 계산하는 것이 수식 꼬이지 않고 좋다."
   ]
  },
  {
   "cell_type": "code",
   "execution_count": 7,
   "id": "a1e7c3df",
   "metadata": {},
   "outputs": [
    {
     "data": {
      "text/plain": [
       "62.8"
      ]
     },
     "metadata": {},
     "output_type": "display_data"
    },
    {
     "data": {
      "text/plain": [
       "62.8"
      ]
     },
     "metadata": {},
     "output_type": "display_data"
    }
   ],
   "source": [
    "# 아 싫어요. 표준분산으로 해줘요.\n",
    "display(np.cov(sample.english, sample.mathematics,ddof=0)[0,1].round(3),\n",
    "        (sample['E deviation']*sample['M deviation']).sum()/len(sample))\n",
    "# 해드렸습니다."
   ]
  },
  {
   "cell_type": "code",
   "execution_count": 8,
   "id": "ec7da6bb",
   "metadata": {},
   "outputs": [
    {
     "data": {
      "text/plain": [
       "array([[1.        , 0.81856923],\n",
       "       [0.81856923, 1.        ]])"
      ]
     },
     "metadata": {},
     "output_type": "display_data"
    },
    {
     "data": {
      "text/html": [
       "<div>\n",
       "<style scoped>\n",
       "    .dataframe tbody tr th:only-of-type {\n",
       "        vertical-align: middle;\n",
       "    }\n",
       "\n",
       "    .dataframe tbody tr th {\n",
       "        vertical-align: top;\n",
       "    }\n",
       "\n",
       "    .dataframe thead th {\n",
       "        text-align: right;\n",
       "    }\n",
       "</style>\n",
       "<table border=\"1\" class=\"dataframe\">\n",
       "  <thead>\n",
       "    <tr style=\"text-align: right;\">\n",
       "      <th></th>\n",
       "      <th>english</th>\n",
       "      <th>mathematics</th>\n",
       "    </tr>\n",
       "  </thead>\n",
       "  <tbody>\n",
       "    <tr>\n",
       "      <th>english</th>\n",
       "      <td>1.000000</td>\n",
       "      <td>0.818569</td>\n",
       "    </tr>\n",
       "    <tr>\n",
       "      <th>mathematics</th>\n",
       "      <td>0.818569</td>\n",
       "      <td>1.000000</td>\n",
       "    </tr>\n",
       "  </tbody>\n",
       "</table>\n",
       "</div>"
      ],
      "text/plain": [
       "              english  mathematics\n",
       "english      1.000000     0.818569\n",
       "mathematics  0.818569     1.000000"
      ]
     },
     "metadata": {},
     "output_type": "display_data"
    }
   ],
   "source": [
    "# 상관관계를 구해볼게요. 두 가지 방법으루다가.\n",
    "display(np.corrcoef(en_scores, ma_scores), # 이건 numpy\n",
    "       scores_df.corr())                   # 이건 pandas"
   ]
  },
  {
   "cell_type": "code",
   "execution_count": null,
   "id": "0625a104",
   "metadata": {},
   "outputs": [],
   "source": []
  },
  {
   "cell_type": "markdown",
   "id": "9c1558a8",
   "metadata": {},
   "source": [
    "## 2차원 데이터의 시각화"
   ]
  },
  {
   "cell_type": "markdown",
   "id": "8aa4ab3b",
   "metadata": {},
   "source": [
    "#### 산점도 (scatter)"
   ]
  },
  {
   "cell_type": "code",
   "execution_count": 9,
   "id": "e8efc884",
   "metadata": {},
   "outputs": [
    {
     "data": {
      "image/png": "[encoded data removed]",
      "text/plain": [
       "<Figure size 360x360 with 1 Axes>"
      ]
     },
     "metadata": {
      "needs_background": "light"
     },
     "output_type": "display_data"
    }
   ],
   "source": [
    "eng = df.english\n",
    "math = df.mathematics\n",
    "\n",
    "fig = plt.figure(figsize = (5,5))\n",
    "ax = fig.add_subplot(111)\n",
    "ax.scatter(eng, math, color='cornflowerblue',s=10,label='score')\n",
    "ax.set_xlabel('English',fontsize=15)\n",
    "ax.set_ylabel('Mathematics',fontsize=15)\n",
    "\n",
    "# 여기에 회귀직선도 넣어볼 거야.\n",
    "# 방정식을 만드는 polyfit 함수를 써서!\n",
    "poly = np.polyfit(eng,math,1) # eng 점수와 math 점수를 변수로 갖는 1차 방정식의 계수\n",
    "poly1d = np.poly1d(poly) # 해당 계수로 1차 방정식 생성\n",
    "xrange = np.linspace(eng.min(),eng.max()) # x축이 영어이니까 맞춰서 범위 생성\n",
    "ax.plot(xrange, poly1d(xrange), color='crimson',alpha=0.8,\n",
    "        label=f'y={poly[0].round(2)}x + {poly[1].round(2)}')\n",
    "ax.legend()\n",
    "plt.show()"
   ]
  },
  {
   "cell_type": "markdown",
   "id": "59bc4408",
   "metadata": {},
   "source": [
    "#### 히트맵 (heat map)\n",
    "    히스토그램의 2차원 버전.\n",
    "    hist2d(histogram 2-dimention) 메소드를 이용해 작성한다."
   ]
  },
  {
   "cell_type": "code",
   "execution_count": 10,
   "id": "5f9aa93b",
   "metadata": {
    "scrolled": true
   },
   "outputs": [
    {
     "data": {
      "image/png": "[encoded data removed]",
      "text/plain": [
       "<Figure size 504x360 with 2 Axes>"
      ]
     },
     "metadata": {
      "needs_background": "light"
     },
     "output_type": "display_data"
    }
   ],
   "source": [
    "plt.figure(figsize=(7,5))\n",
    "plt.hist2d(eng,math, bins = [9,8], # 2차원 히스토그램이므로 bins도 2차원으로 지정해주자\n",
    "           range=[(35,80),(55,95)])\n",
    "plt.colorbar()\n",
    "plt.show()"
   ]
  },
  {
   "cell_type": "code",
   "execution_count": null,
   "id": "5ecf28e1",
   "metadata": {},
   "outputs": [],
   "source": []
  },
  {
   "cell_type": "markdown",
   "id": "f366a7f5",
   "metadata": {},
   "source": [
    "## 앤스컴의 예\n",
    "    통계적 자료가 일치하는 데이터들이 그래프로 나타내면 전혀 다른 모양을 띄고 있는 경우도 있다.\n",
    "    그만큼 데이터 분석을 시작하기 앞서 데이터를 시각화하는 습관을 들여야 통계적 오류에 빠지지 않을 것이다.\n",
    "    물론 지표는 많은 의미를 갖지만, 데이터의 구성 방식은 무한하기 때문에 지표들을 과신하지 말고 가능하면 그래프로 그려보고 그 경향을 파악하는 것이 좋다."
   ]
  },
  {
   "cell_type": "code",
   "execution_count": null,
   "id": "d6dcfe2c",
   "metadata": {},
   "outputs": [],
   "source": []
  },
  {
   "cell_type": "markdown",
   "id": "e9eb9d35",
   "metadata": {},
   "source": [
    "# 추측통계\n",
    "<br>\n",
    "\n",
    "### 모집단과 표본\n",
    "<br>\n",
    "\n",
    "#### 모집단 (population)\n",
    "    추측하고 싶은 관측대상 전체.\n",
    "    추측통계에서는 일부 집단에 대해 통계적 성질을 적용해 모집단의 성질을 추측한다.\n",
    "    모집단의 모수는 표본집단의 표본통계량과 일맥상통한다.\n",
    "<br>\n",
    "\n",
    "#### 표본 (sample)\n",
    "    추측에 사용하는, 관측대상의 일부분.\n",
    "    표본을 추출하는 것을 표본추출(sampling)이라 하며, 표본통계량을 통해 모집단의 모수를 추측할 수 있다.\n",
    "    모수를 추정할 때 사용할 통계량을 '추정량(estimator)', 표본을 사용해 구한 통계량을 '추정값(estimate)'이라고 한다.\n",
    "<br>\n",
    "\n",
    "#### 무작위 추출 (random sampling)\n",
    "    모수를 추정할 때에는 편향이 생기지 않도록 임의로 표본을 추출하는 것이 중요한데, 이를 무작위 추출이라 한다.\n",
    "    동일 집단에서 반복을 허용하는 추출을 복원 추출, 반복을 허용하지 않는 추출을 비복원 추출이라 하며, np.random.choice() 함수에서 replace=True/False 값으로 표현할 수 있다."
   ]
  },
  {
   "cell_type": "code",
   "execution_count": 11,
   "id": "40143676",
   "metadata": {},
   "outputs": [
    {
     "data": {
      "text/plain": [
       "array([3, 2, 5, 1, 5])"
      ]
     },
     "metadata": {},
     "output_type": "display_data"
    },
    {
     "data": {
      "text/plain": [
       "array([3, 1, 4, 5, 2])"
      ]
     },
     "metadata": {},
     "output_type": "display_data"
    }
   ],
   "source": [
    "# 복원추출과 비복원추출의 예시\n",
    "a = [1,2,3,4,5]\n",
    "display(np.random.choice(a, 5, replace=True), # choice는 복원추출이 기본값이다\n",
    "       np.random.choice(a, 5, replace=False))"
   ]
  },
  {
   "cell_type": "code",
   "execution_count": 12,
   "id": "39427017",
   "metadata": {},
   "outputs": [
    {
     "name": "stdout",
     "output_type": "stream",
     "text": [
      "모평균: 58.38\n",
      "\n",
      "1번째 무작위 복원추출로 얻은 표본평균: 59.9\n",
      "2번째 무작위 복원추출로 얻은 표본평균: 58.2\n",
      "3번째 무작위 복원추출로 얻은 표본평균: 52.7\n",
      "4번째 무작위 복원추출로 얻은 표본평균: 56.0\n",
      "5번째 무작위 복원추출로 얻은 표본평균: 65.7\n",
      "6번째 무작위 복원추출로 얻은 표본평균: 58.4\n",
      "7번째 무작위 복원추출로 얻은 표본평균: 60.2\n",
      "8번째 무작위 복원추출로 얻은 표본평균: 55.4\n",
      "9번째 무작위 복원추출로 얻은 표본평균: 61.3\n",
      "10번째 무작위 복원추출로 얻은 표본평균: 54.5\n"
     ]
    }
   ],
   "source": [
    "# 모평균과 무작위 복원추출로 얻은 표본평균도 비교해 보자.\n",
    "# 추출은 10개만, 영어점수에 한해서 우선 구해보자.\n",
    "\n",
    "df = pd.read_csv('./data/ch2_scores_em.csv', index_col=0)\n",
    "scores = df.english\n",
    "\n",
    "print(f'모평균: {scores.mean()}\\n')\n",
    "for i in range(10):\n",
    "    print(f'{i+1}번째 무작위 복원추출로 얻은 표본평균: {np.random.choice(scores,10).mean()}')\n",
    "\n",
    "# 뭐 거의 비슷하게 나온다는 것을 알 수 있습니다.\n",
    "# 이때 표본평균이 추정량, 수치가 추정값인 것이죠."
   ]
  },
  {
   "cell_type": "markdown",
   "id": "e158a54d",
   "metadata": {},
   "source": [
    "## 확률 모형\n",
    "<br>\n",
    "\n",
    "#### 확률변수 (random variable)\n",
    "    결과를 알아맞힐 수는 없지만, 취하는 값의 목록과 각각의 확률이 결정되어 있는 것을 뜻한다.\n",
    "    주사위에 대해서는 각각의 눈과 그 확률을 알고 있으며, 이때 주사위의 눈을 확률변수라 부른다.\n",
    "- 시행: 확률변수의 값을 관찰하는 단위 행위.<br># 주사위를 1번 굴렸다.\n",
    "- 실현값: 시행에 의해 관측되는 값.<br># 눈이 4가 나왔다.\n",
    "- 사건: 시행 결과로 인해 나타날 수 있는 모든 종류의 일.<br># 눈이 3 이상일 경우, 눈이 짝수일 경우 등등\n",
    "- 근원사건: 더 이상 세부적으로 분해할 수 없는 사건.<br># 눈이 짝수일 경우는 2,4,6으로 나눌 수 있기 때문에 근원사건이 아니지만,<br># 눈이 4인 경우는 오직 한 가지뿐이므로 근원사건이다.\n",
    "<br>\n",
    "\n",
    "#### 상호배반 (mutally exclusive)\n",
    "    동시에 일어날 수 없는 각 사건 간의 관계.\n",
    "    # 눈이 홀수인 것과 2가 나오는 사건은 상호배반이며, 이 때의 확률은 두 경우가 각각 일어날 확률을 더한 것과 같다.\n",
    "<br>\n",
    "\n",
    "#### 확률분포 (probality distribution)\n",
    "    확률변수의 집단이 어떤 확률을 따를 때, 그 확률의 분포를 확률분포라 한다.\n",
    "    # 주사위의 눈이 확률 변수, 각 눈이 나올 확률의 분포가 확률분포인 셈."
   ]
  },
  {
   "cell_type": "code",
   "execution_count": 13,
   "id": "10707e8f",
   "metadata": {},
   "outputs": [
    {
     "data": {
      "text/plain": [
       "array([4, 1, 5, 4, 4, 4, 3, 5, 4, 3, 5, 5, 2, 5, 3, 6, 6, 5, 6, 2, 5, 2,\n",
       "       4, 2, 2, 5, 3, 2, 3, 4, 4, 3, 5, 5, 5, 4, 6, 5, 3, 5, 6, 5, 6, 4,\n",
       "       5, 4, 4, 6, 5, 6, 5, 2, 4, 6, 4, 1, 3, 2, 6, 6, 6, 5, 6, 3, 4, 5,\n",
       "       4, 1, 6, 4, 5, 4, 3, 4, 6, 6, 4, 1, 6, 3, 5, 1, 5, 4, 5, 4, 4, 5,\n",
       "       6, 2, 4, 1, 6, 5, 3, 4, 5, 5, 3, 6])"
      ]
     },
     "execution_count": 13,
     "metadata": {},
     "output_type": "execute_result"
    }
   ],
   "source": [
    "# 불공정한 주사위 모델로 검증해 보자.\n",
    "\n",
    "dice = [1,2,3,4,5,6]\n",
    "prob = []\n",
    "for i in dice:\n",
    "    prob.append(i/sum(dice))\n",
    "    \n",
    "# 불공정한 주사위 던지기 시행 100번\n",
    "np.random.seed(2)\n",
    "sample = np.random.choice(dice,100, p=prob)\n",
    "sample"
   ]
  },
  {
   "cell_type": "code",
   "execution_count": 14,
   "id": "9d55d991",
   "metadata": {},
   "outputs": [
    {
     "data": {
      "image/png": "[encoded data removed]",
      "text/plain": [
       "<Figure size 360x360 with 1 Axes>"
      ]
     },
     "metadata": {
      "needs_background": "light"
     },
     "output_type": "display_data"
    },
    {
     "data": {
      "text/plain": [
       "array([0.06, 0.09, 0.13, 0.25, 0.27, 0.2 ])"
      ]
     },
     "execution_count": 14,
     "metadata": {},
     "output_type": "execute_result"
    }
   ],
   "source": [
    "# 결과를 히스토그램으로 그려보자\n",
    "\n",
    "fig = plt.figure(figsize=(5,5))\n",
    "ax = fig.add_subplot(111)\n",
    "freq, _,_ = ax.hist(sample, bins=6,range=(1,7), # range를 정해주면 그 범위에 맞춰서 출력해줌\n",
    "                    density=True, color='cornflowerblue', label='Frequency',\n",
    "                   rwidth=0.8)\n",
    "#ax1 = ax.twinx()\n",
    "ax.hlines(prob,np.arange(1,7), np.arange(2,8),\n",
    "          color='crimson', label='Probability')\n",
    "plt.legend()\n",
    "plt.xlim(0.5,7.5)\n",
    "ax.set_xticks(np.linspace(0.5,6.5,6))\n",
    "ax.set_xticklabels(np.arange(1,7))\n",
    "plt.show()\n",
    "freq"
   ]
  },
  {
   "cell_type": "code",
   "execution_count": 19,
   "id": "56c8fe79",
   "metadata": {},
   "outputs": [
    {
     "data": {
      "image/png": "[encoded data removed]",
      "text/plain": [
       "<Figure size 360x360 with 1 Axes>"
      ]
     },
     "metadata": {
      "needs_background": "light"
     },
     "output_type": "display_data"
    },
    {
     "data": {
      "text/plain": [
       "1.0"
      ]
     },
     "execution_count": 19,
     "metadata": {},
     "output_type": "execute_result"
    }
   ],
   "source": [
    "# 만약 표본추출이 10만개가 되어서 그 상대도수를 본다면\n",
    "# 그래프는 확률과 비슷하게 그려질까?\n",
    "\n",
    "sample = np.random.choice(dice,100000,p=prob)\n",
    "\n",
    "plt.figure(figsize=(5,5))\n",
    "a,_,_ = plt.hist(sample, bins=6, range=(1,7),color='cornflowerblue',\n",
    "        rwidth=0.8, density=True, label='Frequency') # 상대도수를 봐야 확률과 비교 가능\n",
    "plt.hlines(prob, np.arange(1,7), np.arange(2,8), color='crimson',label='Probability')\n",
    "plt.xticks(np.linspace(1.5,6.5,6),np.arange(1,7))\n",
    "plt.legend()\n",
    "plt.show()\n",
    "\n",
    "# 상대도수는 비율이기 때문에 확률의 성질도 함께 지닌다.\n",
    "a.sum() # 일단 bin의 값이 확률변수의 개수와 맞아 떨어져서 이렇게 나오는데\n",
    "# 만약 bin이 변수의 개수보다 많으면 (상대도수의 합)*(변수/bins)를 해주면 1이 나올 것"
   ]
  },
  {
   "cell_type": "code",
   "execution_count": 16,
   "id": "b1f5beeb",
   "metadata": {},
   "outputs": [
    {
     "data": {
      "image/png": "[encoded data removed]",
      "text/plain": [
       "<Figure size 864x432 with 2 Axes>"
      ]
     },
     "metadata": {
      "needs_background": "light"
     },
     "output_type": "display_data"
    }
   ],
   "source": [
    "# 무작위추출로 얻은 표본모형을 모집단의 모형과 비슷하다고,\n",
    "# 표본으로 얻은 통계량을 모집단의 모수와 비슷하다고 추정할 수 있다\n",
    "\n",
    "df = pd.read_csv('./data/ch4_scores400.csv')\n",
    "scores = np.array(df.score)\n",
    "\n",
    "sample = np.random.choice(scores, 10000)\n",
    "\n",
    "fig = plt.figure(figsize=(12,6))\n",
    "ax1 = fig.add_subplot(121)\n",
    "ax2 = fig.add_subplot(122)\n",
    "ax1.hist(df,bins=100)# 점수는 1점단위로\n",
    "ax2.hist(sample,bins=100,density=True)\n",
    "plt.show()\n",
    "# 거의 비슷합니당"
   ]
  },
  {
   "cell_type": "code",
   "execution_count": 17,
   "id": "ee1637a1",
   "metadata": {},
   "outputs": [
    {
     "data": {
      "image/png": "[encoded data removed]",
      "text/plain": [
       "<Figure size 504x360 with 1 Axes>"
      ]
     },
     "metadata": {
      "needs_background": "light"
     },
     "output_type": "display_data"
    }
   ],
   "source": [
    "# 표본평균도 어디에 위치할 경우가 많은지 보자.\n",
    "np.random.seed(0)\n",
    "sample = [np.random.choice(scores,20).mean() for _ in range(10000)]\n",
    "\n",
    "plt.figure(figsize=(7,5))\n",
    "plt.hist(sample,bins=20,density=True,color='cornflowerblue')\n",
    "plt.vlines(scores.mean(),0,0.13,color='crimson')\n",
    "plt.show()\n",
    "# 모평균과 근사하게 표본평균이 나올 확률이 높다."
   ]
  },
  {
   "cell_type": "code",
   "execution_count": null,
   "id": "0e0a3c2c",
   "metadata": {},
   "outputs": [],
   "source": []
  }
 ],
 "metadata": {
  "kernelspec": {
   "display_name": "Python 3 (ipykernel)",
   "language": "python",
   "name": "python3"
  },
  "language_info": {
   "codemirror_mode": {
    "name": "ipython",
    "version": 3
   },
   "file_extension": ".py",
   "mimetype": "text/x-python",
   "name": "python",
   "nbconvert_exporter": "python",
   "pygments_lexer": "ipython3",
   "version": "3.8.12"
  }
 },
 "nbformat": 4,
 "nbformat_minor": 5
}
