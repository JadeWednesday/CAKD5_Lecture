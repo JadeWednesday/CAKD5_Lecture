{
 "cells": [
  {
   "cell_type": "code",
   "execution_count": 1,
   "id": "5ec9970e",
   "metadata": {},
   "outputs": [],
   "source": [
    "import numpy as np\n",
    "import pandas as pd\n",
    "import matplotlib.pyplot as plt\n",
    "import seaborn as sns\n",
    "from scipy import stats, special\n",
    "import warnings\n",
    "warnings.filterwarnings('ignore')"
   ]
  },
  {
   "cell_type": "markdown",
   "id": "0742ae49",
   "metadata": {},
   "source": [
    "## 1차원 이산형 확률변수\n",
    "    이산형이란?\n",
    "    취할 수 있는 값이 이산적인 확률변수.\n",
    "    이산적이라는 말은 대충 그 값이 정수라고 생각하면 쉽다.\n",
    "\n",
    "#### 확률질량함수(probability mass function, PMF)\n",
    "확률변수 $X$가 취할 수 있는 값에 대한 집합을 $\\{x_1,x_2,...\\}$로 정의할 때,<br>확률변수$X$가 $x_k$라는 값을 취하는 확률은 다음과 같다.<br>\n",
    "$P(X=x_k) = p_k$       $(k = 1,2,...)$<br>이때 확률은 $f(x) = P(X=x)$로 나타낼 수 있다.\n",
    "<br><br>\n",
    "\n",
    "#### 확률분포(probability distribution)\n",
    "확률변수가 취할 수 있는 값과 그 확률의 구체적인 대응(1:1이 될 수도 있고...)\n",
    "<br><br>\n",
    "\n",
    "- 확률의 성질\n",
    "    - 확률의 총합은 1이다.<br>모든 사건이 일어난다면 '사건이 일어난다(=1)'라는 명제만 남는다.\n",
    "    - 확률은 무조건 0 이상이다.<br>확률의 가장 낮은 값은 '일어나지 않는 것(=0)'이다.\n",
    "    \n",
    "<br><br>\n",
    "#### 누적분포함수(cumulative distribution function, CDF)\n",
    "$F(x) = P(X\\leq x) = $$\\displaystyle\\sum_{x_k\\leq x} f(x_k)$<br>\n",
    "확률변수 $X$가 $x$가 될 때까지의 확률을 모두 더한 것.<br>가장 마지막 요소까지의 합은 1이다.\n",
    "<br><br>\n",
    "\n",
    "#### 확률변수의 변환\n",
    "확률변수 $X$를 수식을 통해 다른 값으로 변환해도 확률변수로서의 성질은 유지된다.<br>확률변수만 바꾼다면 각 개체에 할당된 확률은 유지되므로, 평균(기댓값)이 선형성을 지니게 된다."
   ]
  },
  {
   "cell_type": "code",
   "execution_count": 2,
   "id": "1b33d27e",
   "metadata": {},
   "outputs": [],
   "source": [
    "# 먼저, 확률변수의 집합을 만들어 보자.\n",
    "# 1~6까지의 눈을 가진 불공정 주사위 모델을 다시 가져온다.\n",
    "xset = [1,2,3,4,5,6]\n",
    "\n",
    "# 주사위의 확률함수를 정의하자.\n",
    "def f(x):\n",
    "    if x in xset:\n",
    "        return x/21\n",
    "    else: 0\n",
    "\n",
    "# 주사위(확률변수)가 가질 수 있는 값의 집합과 확률함수를 세트로 만든 것이 확률분포\n",
    "X = [xset, f]"
   ]
  },
  {
   "cell_type": "code",
   "execution_count": 3,
   "id": "2afa776d",
   "metadata": {},
   "outputs": [
    {
     "data": {
      "text/plain": [
       "{1: 0.047619047619047616,\n",
       " 2: 0.09523809523809523,\n",
       " 3: 0.14285714285714285,\n",
       " 4: 0.19047619047619047,\n",
       " 5: 0.23809523809523808,\n",
       " 6: 0.2857142857142857}"
      ]
     },
     "execution_count": 3,
     "metadata": {},
     "output_type": "execute_result"
    }
   ],
   "source": [
    "# 주사위의 각 눈이 나올 확률(probability)을 배열로 만들어 보자.\n",
    "prob = np.array([f(x) for x in xset])\n",
    "\n",
    "# 각 눈과 그게 나올 확률을 묶어서 딕셔너리로 나타내 볼까?\n",
    "dict(zip(xset,prob))"
   ]
  },
  {
   "cell_type": "code",
   "execution_count": 4,
   "id": "11230e7e",
   "metadata": {},
   "outputs": [
    {
     "data": {
      "image/png": "[encoded data removed]",
      "text/plain": [
       "<Figure size 432x288 with 1 Axes>"
      ]
     },
     "metadata": {
      "needs_background": "light"
     },
     "output_type": "display_data"
    }
   ],
   "source": [
    "# 시각화 하는 습관을 들이자.\n",
    "plt.bar(xset,prob,color='lightcoral')\n",
    "plt.xlabel('Eyes of Dice')\n",
    "plt.ylabel('Probability')\n",
    "plt.show()"
   ]
  },
  {
   "cell_type": "code",
   "execution_count": 5,
   "id": "70ffd9d6",
   "metadata": {},
   "outputs": [
    {
     "data": {
      "text/plain": [
       "True"
      ]
     },
     "metadata": {},
     "output_type": "display_data"
    },
    {
     "data": {
      "text/plain": [
       "1.0"
      ]
     },
     "metadata": {},
     "output_type": "display_data"
    }
   ],
   "source": [
    "# 우리가 만든 확률이 타당한지 검증해 보자.\n",
    "display(np.all(prob>=0), np.sum(prob).round(2))"
   ]
  },
  {
   "cell_type": "code",
   "execution_count": 6,
   "id": "a991e914",
   "metadata": {
    "scrolled": true
   },
   "outputs": [
    {
     "data": {
      "text/plain": [
       "0.2857142857142857"
      ]
     },
     "metadata": {},
     "output_type": "display_data"
    },
    {
     "data": {
      "text/plain": [
       "0.2857142857142857"
      ]
     },
     "metadata": {},
     "output_type": "display_data"
    }
   ],
   "source": [
    "# 누적분포함수를 만들어 보자.\n",
    "def cdf(x):\n",
    "    return np.sum([f(i) for i in xset if i<=x]) # x도 포함한다잉\n",
    "display(cdf(3), np.sum([f(1),f(2),f(3)]))"
   ]
  },
  {
   "cell_type": "markdown",
   "id": "fcb71862",
   "metadata": {},
   "source": [
    "### 1차원 이산형 확률변수의 지표\n",
    "<br>\n",
    "\n",
    "#### 기댓값(평균, expected value)\n",
    "$E(X) = $$\\displaystyle\\sum_{k} x_kf(x_k)$\n",
    "<br>\n",
    "\n",
    "    이것은 특이하게도 총합을 데이터의 수로 나누는 게 아닌,\n",
    "    확률변수가 가질 수 있는 값과 확률의 곱의 총합으로 나타낸다.\n",
    "    따라서 np.sum 함수를 쓸 것이고, 이에 대해 np.mean 함수를 안 쓴다고 헷갈려하면 안 되는 것이다.\n",
    "- 기댓값의 선형성\n",
    "    $E(aX + b) = aE(X) + b$\n",
    "<br><br>\n",
    "\n",
    "#### 분산(variance)\n",
    "$V(X) = $$\\displaystyle\\sum_{k} (x_k-\\mu)^2f(x_k)$\n",
    "<br>\n",
    "    \n",
    "    이것 역시 편차 제곱의 평균을 확률의 기댓값처럼 편차 제곱의 합으로 나타내었다.\n",
    "    함수를 np.mean 대신 np.sum을 쓴다는 것만 기억한다면 어렵지 않을 것이다."
   ]
  },
  {
   "cell_type": "code",
   "execution_count": 7,
   "id": "72979730",
   "metadata": {},
   "outputs": [
    {
     "data": {
      "text/plain": [
       "4.333333333333333"
      ]
     },
     "metadata": {},
     "output_type": "display_data"
    },
    {
     "data": {
      "text/plain": [
       "93.33333333333333"
      ]
     },
     "metadata": {},
     "output_type": "display_data"
    },
    {
     "data": {
      "text/plain": [
       "93.33333333333333"
      ]
     },
     "metadata": {},
     "output_type": "display_data"
    }
   ],
   "source": [
    "# 확률변수를 변환해 보고, 기댓값의 선형성을 검증해 보자.\n",
    "# 데이터 표준화의 기본인 만큼 변환은 10X+50으로 해볼까?\n",
    "# x를 g(x)로 치환하는 것이니 x가 일어날 확률 x*f도 g(x)*f가 되는 것이지.\n",
    "\n",
    "def E(X,g = lambda x:x): # expectation\n",
    "    xset, f = X\n",
    "    return np.sum([g(x)*f(x) for x in xset])\n",
    "\n",
    "display(E(X),E(X,lambda x:10*x+50),10*E(X)+50)"
   ]
  },
  {
   "cell_type": "code",
   "execution_count": 8,
   "id": "73402805",
   "metadata": {},
   "outputs": [
    {
     "data": {
      "text/plain": [
       "2.2222222222222223"
      ]
     },
     "metadata": {},
     "output_type": "display_data"
    },
    {
     "data": {
      "text/plain": [
       "222.22222222222223"
      ]
     },
     "metadata": {},
     "output_type": "display_data"
    },
    {
     "data": {
      "text/plain": [
       "222.22222222222223"
      ]
     },
     "metadata": {},
     "output_type": "display_data"
    }
   ],
   "source": [
    "# 변환함수를 고려한 분산을 사용자함수로 나타내 보고, 연산을 수행하 보자.\n",
    "\n",
    "def V(X,g=lambda x:x):\n",
    "    xset,f = X\n",
    "    return np.sum([(g(x)-E(X,g))**2 *f(x) for x in xset])\n",
    "\n",
    "display(V(X), V(X, lambda x:(10*x+50)), 10**2*V(X))\n",
    "# 분산의 경우 제곱의 합이므로 변환함수에서 x에 곱해주는 인자값을 제곱해 주고,\n",
    "# 상수의 경우 똑같이 움직이는 편차라고 생각하면 되므로 분산은 선형적이진 않음."
   ]
  },
  {
   "cell_type": "code",
   "execution_count": null,
   "id": "878f058e",
   "metadata": {},
   "outputs": [],
   "source": []
  },
  {
   "cell_type": "markdown",
   "id": "20fbaba3",
   "metadata": {},
   "source": [
    "## 2차원 이산형 확률변수\n",
    "<br>\n",
    "\n",
    "#### 결합확률분포\n",
    "$P(X = x_i, Y = y_j) = p_{ij}$\n",
    "\n",
    "    확률변수 x와 y의 움직임을 동시에 고려한 분포.\n",
    "    결합분포라고도 부른다.\n",
    "<br>\n",
    "\n",
    "- 2차원 이산형 확률변수의 확률적 성질\n",
    "    * 이것 역시 확률적 성질은 동일해서, 총합은 1이고 모든 확률의 값이 0 이상이다.\n",
    "<br><br>\n",
    "\n",
    "#### 주변확률분포(marginal probability distribution)\n",
    "$f_X(x) = $$\\displaystyle\\sum_{k} f_{XY}(x,y_k)$\n",
    "\n",
    "    x와 y 두 가지 변수로 정의되는 결합확률분포에서\n",
    "    한 가지 변수의 확률분포에만 관심이 있다면,\n",
    "    나머지 한 변수의 가짓수를 모두 대입해서 그 영향을 없앤 후 총합을 구하면 된다.\n",
    "\n",
    "<br>"
   ]
  },
  {
   "cell_type": "code",
   "execution_count": 9,
   "id": "b8446094",
   "metadata": {},
   "outputs": [],
   "source": [
    "# 이번엔 불공정 주사위 2개를 꺼내들었다.\n",
    "# 두 주사위 눈의 합을 x, 하나를 굴려 나온 눈의 수를 y라고 하자.\n",
    "xset = np.arange(2,13) # 11개의 가짓수가 있다\n",
    "yset = np.arange(1,7) # 6개의 경우의 수가 있다\n",
    "\n",
    "def f_XY(x,y):\n",
    "    if 1<=y<=6 and 1<=x-y<=6:\n",
    "        return (y/21)*((x-y)/21)\n",
    "    else: return 0\n",
    "\n",
    "XY = [xset, yset, f_XY]"
   ]
  },
  {
   "cell_type": "code",
   "execution_count": 10,
   "id": "d9664e5d",
   "metadata": {},
   "outputs": [
    {
     "data": {
      "image/png": "[encoded data removed]",
      "text/plain": [
       "<Figure size 504x360 with 2 Axes>"
      ]
     },
     "metadata": {
      "needs_background": "light"
     },
     "output_type": "display_data"
    }
   ],
   "source": [
    "# 주사위를 굴려 나오는 확률을 히트맵으로 그려보자.\n",
    "# 이 때, X를 먼저 정하든 Y를 먼저 정하든 나머지 한 수가 결정되는 경우는 동일하므로\n",
    "# 일단 주사위 하나를 먼저 굴리는 방식으로 Y를 먼저 정했다고 치자.\n",
    "\n",
    "prob = np.array([[f_XY(x,y) for y in yset] for x in xset])\n",
    "\n",
    "fig = plt.figure(figsize=(7,5))\n",
    "ax = fig.add_subplot(111)\n",
    "c = ax.pcolor(prob)\n",
    "ax.set_xlabel('Y')\n",
    "ax.set_ylabel('X')\n",
    "ax.invert_yaxis()\n",
    "ax.set_xticks(np.arange(prob.shape[1])+0.5, yset)\n",
    "ax.set_yticks(np.arange(prob.shape[0])+0.5, xset)\n",
    "fig.colorbar(c, ax=ax)\n",
    "plt.show()"
   ]
  },
  {
   "cell_type": "code",
   "execution_count": 11,
   "id": "1ef24be1",
   "metadata": {},
   "outputs": [
    {
     "data": {
      "text/plain": [
       "True"
      ]
     },
     "metadata": {},
     "output_type": "display_data"
    },
    {
     "data": {
      "text/plain": [
       "1.0"
      ]
     },
     "metadata": {},
     "output_type": "display_data"
    }
   ],
   "source": [
    "# 확률의 성질을 검증해 보자\n",
    "display(np.all(prob>=0), np.sum(prob).round(2))"
   ]
  },
  {
   "cell_type": "code",
   "execution_count": 12,
   "id": "126949bd",
   "metadata": {},
   "outputs": [],
   "source": [
    "# 주변확률분포를 구하는 함수를 만들어 보자.\n",
    "\n",
    "def f_X(x):\n",
    "    return np.sum([f_XY(x,y) for y in yset])\n",
    "def f_Y(y):\n",
    "    return np.sum([f_XY(x,y) for x in xset])\n",
    "# 두 함수 모두 원하는 변수는 놔두고 나머지 변수의 경우를 바꿔가며 합을 구했다.\n",
    "\n",
    "X = [xset, f_X]\n",
    "Y = [yset, f_Y]"
   ]
  },
  {
   "cell_type": "code",
   "execution_count": 13,
   "id": "a14d9df2",
   "metadata": {},
   "outputs": [
    {
     "data": {
      "image/png": "[encoded data removed]",
      "text/plain": [
       "<Figure size 864x360 with 2 Axes>"
      ]
     },
     "metadata": {
      "needs_background": "light"
     },
     "output_type": "display_data"
    }
   ],
   "source": [
    "# 항상 시각화하는 습관!!\n",
    "\n",
    "px = np.array([f_X(x) for x in xset]) # y의 영향을 배제한 함수이니 x 값만 바꿔가며\n",
    "py = np.array([f_Y(y) for y in yset]) # 이것도 같은 원리\n",
    "\n",
    "fig = plt.figure(figsize=(12,5))\n",
    "ax1 = fig.add_subplot(121)\n",
    "ax2 = fig.add_subplot(122)\n",
    "\n",
    "ax1.bar(xset, px, color='lightcoral')\n",
    "ax2.bar(yset, py, color='cornflowerblue')\n",
    "plt.show()"
   ]
  },
  {
   "cell_type": "markdown",
   "id": "de16fce6",
   "metadata": {},
   "source": [
    "### 2차원 이산형 확률변수의 지표\n",
    "<br>\n",
    "\n",
    "- 기댓값(평균)<br>\n",
    "$\\mu_x = E(X) = $$\\displaystyle\\sum_{i} $$\\displaystyle\\sum_{k} x_if_{XY}(x_i,y_j)$"
   ]
  },
  {
   "cell_type": "code",
   "execution_count": null,
   "id": "90a1fe50",
   "metadata": {},
   "outputs": [],
   "source": []
  },
  {
   "cell_type": "markdown",
   "id": "c342d282",
   "metadata": {},
   "source": [
    "#### 베르누이 분포(Bernoulli dirstribution)\n",
    "    확률변수가 취할 수 있는 값이 0과 1밖에 없는 분포.\n",
    "$f(x) = p^x(1-p)^{(1-x)}$      $(x\\in \\{0,1\\})$\n",
    "- 파라미터는 $p$로서, 성공 확률을 뜻한다(0≤$p$≤1).\n",
    "- 확률변수 $X$에 대하여 $X\\~Bern(p)$일 때<br>$E(X)=p$<br>$V(X)=p(1-p)$"
   ]
  },
  {
   "cell_type": "code",
   "execution_count": 14,
   "id": "8c90a98c",
   "metadata": {},
   "outputs": [
    {
     "name": "stdout",
     "output_type": "stream",
     "text": [
      "0.4 0.24\n",
      "0.4 0.24\n"
     ]
    }
   ],
   "source": [
    "# p=0.4인 베르누이 분포를 만들고 기댓값과 분산을 구해 보자.\n",
    "p = 0.4\n",
    "rv = stats.bernoulli(p)\n",
    "print(p, p*(1-p))\n",
    "print(rv.mean(), rv.var())"
   ]
  },
  {
   "cell_type": "code",
   "execution_count": 17,
   "id": "3845d2bc",
   "metadata": {},
   "outputs": [
    {
     "data": {
      "text/plain": [
       "array([0.6, 0.4])"
      ]
     },
     "metadata": {},
     "output_type": "display_data"
    },
    {
     "data": {
      "text/plain": [
       "array([0.6, 1. ])"
      ]
     },
     "metadata": {},
     "output_type": "display_data"
    }
   ],
   "source": [
    "# 위의 베르누이 분포에서 확률질량함수와 누적밀도함수를 살펴 보자.\n",
    "display(rv.pmf([0,1]), rv.cdf([0,1]))\n",
    "# 실패 확률 0.6, 성공 확률 0.4\n",
    "# 0일 때 누적 확률 0.6, 1까지 포함하면 전체 확률이므로 1"
   ]
  },
  {
   "cell_type": "markdown",
   "id": "0a993441",
   "metadata": {},
   "source": [
    "#### 이항분포(binomial distribution)\n",
    "    성공 확률이 p인 베르누이 시행을 n번 했을 때의 성공 횟수가 따르는 분포\n",
    "$f(x) = _{n}\\mathrm{C}_{x}p^x(1-p)^{(n-x)}$   $(x\\in \\{0,1,$$\\cdots$$,n\\})$<br>\n",
    "여기서, $ _{n}\\mathrm{C}_{x} =\\frac{n!}{x!(n-x)!}$이다.\n",
    "- 성공 확률이 $p$"
   ]
  },
  {
   "cell_type": "code",
   "execution_count": null,
   "id": "455d3ed5",
   "metadata": {},
   "outputs": [],
   "source": []
  },
  {
   "cell_type": "code",
   "execution_count": null,
   "id": "cdbb6514",
   "metadata": {},
   "outputs": [],
   "source": []
  },
  {
   "cell_type": "code",
   "execution_count": null,
   "id": "9454cbfb",
   "metadata": {},
   "outputs": [],
   "source": []
  },
  {
   "cell_type": "code",
   "execution_count": null,
   "id": "2eb142c5",
   "metadata": {},
   "outputs": [],
   "source": []
  },
  {
   "cell_type": "code",
   "execution_count": null,
   "id": "dd0b4512",
   "metadata": {},
   "outputs": [],
   "source": []
  },
  {
   "cell_type": "code",
   "execution_count": null,
   "id": "8a570915",
   "metadata": {},
   "outputs": [],
   "source": []
  },
  {
   "cell_type": "code",
   "execution_count": null,
   "id": "406cf68b",
   "metadata": {},
   "outputs": [],
   "source": []
  },
  {
   "cell_type": "code",
   "execution_count": null,
   "id": "6320b155",
   "metadata": {},
   "outputs": [],
   "source": []
  },
  {
   "cell_type": "code",
   "execution_count": null,
   "id": "340f6d59",
   "metadata": {},
   "outputs": [],
   "source": []
  },
  {
   "cell_type": "code",
   "execution_count": null,
   "id": "089c4237",
   "metadata": {},
   "outputs": [],
   "source": []
  },
  {
   "cell_type": "code",
   "execution_count": null,
   "id": "fa0c6adc",
   "metadata": {},
   "outputs": [],
   "source": []
  },
  {
   "cell_type": "code",
   "execution_count": null,
   "id": "1e7af905",
   "metadata": {},
   "outputs": [],
   "source": []
  },
  {
   "cell_type": "code",
   "execution_count": null,
   "id": "d9878b5c",
   "metadata": {},
   "outputs": [],
   "source": []
  },
  {
   "cell_type": "code",
   "execution_count": null,
   "id": "726faa2d",
   "metadata": {},
   "outputs": [],
   "source": []
  },
  {
   "cell_type": "code",
   "execution_count": null,
   "id": "284136d3",
   "metadata": {},
   "outputs": [],
   "source": []
  },
  {
   "cell_type": "code",
   "execution_count": null,
   "id": "2fee4aa7",
   "metadata": {},
   "outputs": [],
   "source": []
  },
  {
   "cell_type": "code",
   "execution_count": null,
   "id": "b0b49720",
   "metadata": {},
   "outputs": [],
   "source": []
  },
  {
   "cell_type": "code",
   "execution_count": null,
   "id": "b9539e3b",
   "metadata": {},
   "outputs": [],
   "source": []
  },
  {
   "cell_type": "code",
   "execution_count": null,
   "id": "a2ac6f8a",
   "metadata": {},
   "outputs": [],
   "source": []
  },
  {
   "cell_type": "code",
   "execution_count": null,
   "id": "d6e2ad9b",
   "metadata": {},
   "outputs": [],
   "source": []
  },
  {
   "cell_type": "code",
   "execution_count": null,
   "id": "a9770b36",
   "metadata": {},
   "outputs": [],
   "source": []
  }
 ],
 "metadata": {
  "kernelspec": {
   "display_name": "Python 3 (ipykernel)",
   "language": "python",
   "name": "python3"
  },
  "language_info": {
   "codemirror_mode": {
    "name": "ipython",
    "version": 3
   },
   "file_extension": ".py",
   "mimetype": "text/x-python",
   "name": "python",
   "nbconvert_exporter": "python",
   "pygments_lexer": "ipython3",
   "version": "3.8.12"
  }
 },
 "nbformat": 4,
 "nbformat_minor": 5
}
