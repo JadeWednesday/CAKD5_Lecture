{
 "cells": [
  {
   "cell_type": "code",
   "execution_count": 1,
   "id": "d7e8d74d",
   "metadata": {},
   "outputs": [],
   "source": [
    "import numpy as np\n",
    "import pandas as pd\n",
    "import matplotlib.pyplot as plt\n",
    "import seaborn as sns\n",
    "import scipy as sp\n",
    "from scipy import stats, integrate\n",
    "import warnings\n",
    "warnings.filterwarnings('ignore')"
   ]
  },
  {
   "cell_type": "markdown",
   "id": "c6b3af0c",
   "metadata": {},
   "source": [
    "#### 통계적 추정\n",
    "- 점추정\n",
    "    - 모평균이나 모분산 등의 모수를 하나의 수치로 추정\n",
    "    - 추정량의 기댓값이 추측하려는 모수가 되는 성질을 '불편성'이라 하며,<br>불편성을 가진 추정량을 불편추정량이라고 한다.\n",
    "    - 표본평균이 모평균을 잘 추정할 수 있는 근거 중 하나가 바로 이 불편성이다.\n",
    "    - 표본 크기 $n$을 증가시키면 추측하길 원하는 모수에 수렴해 가는 성질을 '일치성'이라 하며,<br>일치성을 지닌 추정량을 일치추정량이라고 한다.\n",
    "    - 표본평균은 불편성과 일치성을 모두 가지고 있기 때문에 모평균을 잘 추정한다고 할 수 있다.\n",
    "    - 모분산의 불편추정량이 되는 표본통계량은 불편분산이다.\n",
    "    - 불편분산은 표본분산에서 나누는 수 $n$을 $n-1$로 변경하여 계산되며,<br>표본분산은 $S^2$로 나타내지만 불편분산은 $s^2$로 나타낸다.\n",
    "<br>\n",
    "\n",
    "- 구간추정\n",
    "    - 구간(폭)으로 모수를 추정하는 방법\n",
    "    - 모분산을 알고 있는 경우의 모평균 구간추정\n",
    "    - 모분산을 알고 있는 경우의 모분산 구간추정\n",
    "    - 모분산을 알지 못하는 경우의 모평균 구간추정\n",
    "    - 베르누이 분포의 모평균 구간추정\n",
    "    - 포아송 분포의 모평균 신뢰구간"
   ]
  },
  {
   "cell_type": "markdown",
   "id": "4f3794a1",
   "metadata": {},
   "source": [
    "모분산을 모르는 경우\n",
    "- $\\sqrt{\\sigma^2/n}$ 대신 불편표준편차의 $\\sqrt{s^2/n}$를 표준오차로 사용한다.\n",
    "- 표준화 과정에서 다음의 식이 사용되는데, 이것은 t분포를 따른다. (카이제곱분포 Y 이용하여 구함)  \n",
    "$t = $ $Z \\over \\sqrt{Y/(n-1)}$\n",
    "- 이 때, $\\alpha$ 신뢰구간은 다음과 같다.  \n",
    "$[\\bar{X}-t_{\\alpha/2}(n-1)\\sqrt{s^2/n}, \\bar{X}-t_{1-\\alpha/2}(n-1)\\sqrt{s^2/n}]$\n"
   ]
  },
  {
   "cell_type": "code",
   "execution_count": null,
   "id": "1dfe4819",
   "metadata": {},
   "outputs": [],
   "source": []
  },
  {
   "cell_type": "code",
   "execution_count": 21,
   "id": "04175bb4",
   "metadata": {},
   "outputs": [
    {
     "name": "stdout",
     "output_type": "stream",
     "text": [
      "모평균: 0.0\n",
      "모분산: 2.0\n",
      "0.01\n",
      "2.037\n",
      "-0.001\n",
      "1.997\n"
     ]
    }
   ],
   "source": [
    "# [과제] 모평균과 모분산의 점추정 사례를 파이썬 코드로 수행하세요.\n",
    "\n",
    "np.random.seed(0)\n",
    "rv = stats.t(4) # 자유도 4인 t분포\n",
    "print(f'모평균: {rv.mean()}')\n",
    "print(f'모분산: {rv.var()}')\n",
    "\n",
    "# 불편성 검증\n",
    "# 추정량의 평균이 모수에 근접한다.\n",
    "sample = rv.rvs((10000,5))\n",
    "spmean = np.mean(sample, axis=0)\n",
    "spvar = np.var(sample,axis=0, ddof=1)\n",
    "print(np.mean(spmean).round(3))\n",
    "print(np.mean(spvar).round(3))\n",
    "\n",
    "# 일치성 검증\n",
    "# 표본의 값이 커지면 모수에 수렴한다.\n",
    "sample = rv.rvs(10000000)\n",
    "print(sample.mean().round(3))\n",
    "print(sample.var(ddof=1).round(3))"
   ]
  },
  {
   "cell_type": "code",
   "execution_count": 34,
   "id": "e1b3ec79",
   "metadata": {
    "scrolled": true
   },
   "outputs": [
    {
     "name": "stdout",
     "output_type": "stream",
     "text": [
      "2.419 3.406\n"
     ]
    }
   ],
   "source": [
    "# [과제] 모분산을 알지 못할 때 정규분포의 모평균의 구간 추정을 파이썬 코드로 수행하세요.\n",
    "# 95% 추정으로 고고 -> 알파는 0.05\n",
    "\n",
    "normal = stats.norm(3,8) # 평균 3, 표준편차 8(분산 64)의 정규분포\n",
    "n = 1000 # 표본 개수\n",
    "sample = normal.rvs(n) # 1천 개의 표본 추출\n",
    "rv = stats.t(n-1)\n",
    "\n",
    "lcl = sample.mean()-rv.isf(0.05/2)*np.sqrt(sample.var(ddof=1)/n)\n",
    "ucl = sample.mean()-rv.isf(1-0.05/2)*np.sqrt(sample.var(ddof=1)/n)\n",
    "print(lcl.round(3), ucl.round(3))\n",
    "\n",
    "# 100번 돌려서 5번은 모평균이 이 범위에 안 들어간다."
   ]
  },
  {
   "cell_type": "code",
   "execution_count": 40,
   "id": "78f2838a",
   "metadata": {},
   "outputs": [
    {
     "name": "stdout",
     "output_type": "stream",
     "text": [
      "7.823 8.117\n"
     ]
    }
   ],
   "source": [
    "# [과제] 모집단의 정규분포를 가정할 수 없는 예를 포아송 분포로 설정하여 모평균 신뢰구간을 구하세요.\n",
    "# 90% 신뢰 구간으로 진행 => 알파는 0.1\n",
    "\n",
    "poisson = stats.poisson(8) # 기댓값 8, 분산 8\n",
    "n = 1000\n",
    "sample = poisson.rvs(n) # 중심극한정리에 의해 이것의 평균은 정규분포를 따른다\n",
    "                        # 추후 수식을 통해 표준화해서 표준정규분포를 따르게끔 바꾸자\n",
    "rv = stats.norm() # 표준정규분포\n",
    "lcl = sample.mean()-rv.isf(0.1/2)*np.sqrt(sample.mean()/n)\n",
    "ucl = sample.mean()-rv.isf(1-0.1/2)*np.sqrt(sample.mean()/n)\n",
    "print(lcl.round(3), ucl.round(3))\n",
    "\n",
    "# 10번 돌려서 1번은 모평균이 이 범위에 안 들어간다. 그 뜻임."
   ]
  }
 ],
 "metadata": {
  "kernelspec": {
   "display_name": "Python 3 (ipykernel)",
   "language": "python",
   "name": "python3"
  },
  "language_info": {
   "codemirror_mode": {
    "name": "ipython",
    "version": 3
   },
   "file_extension": ".py",
   "mimetype": "text/x-python",
   "name": "python",
   "nbconvert_exporter": "python",
   "pygments_lexer": "ipython3",
   "version": "3.8.12"
  }
 },
 "nbformat": 4,
 "nbformat_minor": 5
}
