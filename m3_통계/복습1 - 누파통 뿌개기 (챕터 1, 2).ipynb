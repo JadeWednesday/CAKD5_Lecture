{
 "cells": [
  {
   "cell_type": "code",
   "execution_count": 34,
   "id": "a700e383",
   "metadata": {},
   "outputs": [],
   "source": [
    "import numpy as np\n",
    "import pandas as pd\n",
    "import matplotlib.pyplot as plt"
   ]
  },
  {
   "cell_type": "code",
   "execution_count": 2,
   "id": "4d59b43b",
   "metadata": {},
   "outputs": [
    {
     "data": {
      "text/html": [
       "<div>\n",
       "<style scoped>\n",
       "    .dataframe tbody tr th:only-of-type {\n",
       "        vertical-align: middle;\n",
       "    }\n",
       "\n",
       "    .dataframe tbody tr th {\n",
       "        vertical-align: top;\n",
       "    }\n",
       "\n",
       "    .dataframe thead th {\n",
       "        text-align: right;\n",
       "    }\n",
       "</style>\n",
       "<table border=\"1\" class=\"dataframe\">\n",
       "  <thead>\n",
       "    <tr style=\"text-align: right;\">\n",
       "      <th></th>\n",
       "      <th>학년</th>\n",
       "      <th>악력</th>\n",
       "      <th>윗몸일으키기</th>\n",
       "      <th>점수</th>\n",
       "      <th>순위</th>\n",
       "    </tr>\n",
       "    <tr>\n",
       "      <th>학생번호</th>\n",
       "      <th></th>\n",
       "      <th></th>\n",
       "      <th></th>\n",
       "      <th></th>\n",
       "      <th></th>\n",
       "    </tr>\n",
       "  </thead>\n",
       "  <tbody>\n",
       "    <tr>\n",
       "      <th>1</th>\n",
       "      <td>1</td>\n",
       "      <td>40.2</td>\n",
       "      <td>34</td>\n",
       "      <td>15</td>\n",
       "      <td>4</td>\n",
       "    </tr>\n",
       "    <tr>\n",
       "      <th>2</th>\n",
       "      <td>1</td>\n",
       "      <td>34.2</td>\n",
       "      <td>14</td>\n",
       "      <td>7</td>\n",
       "      <td>10</td>\n",
       "    </tr>\n",
       "    <tr>\n",
       "      <th>3</th>\n",
       "      <td>1</td>\n",
       "      <td>28.8</td>\n",
       "      <td>27</td>\n",
       "      <td>11</td>\n",
       "      <td>7</td>\n",
       "    </tr>\n",
       "    <tr>\n",
       "      <th>4</th>\n",
       "      <td>2</td>\n",
       "      <td>39.0</td>\n",
       "      <td>27</td>\n",
       "      <td>14</td>\n",
       "      <td>5</td>\n",
       "    </tr>\n",
       "    <tr>\n",
       "      <th>5</th>\n",
       "      <td>2</td>\n",
       "      <td>50.9</td>\n",
       "      <td>32</td>\n",
       "      <td>17</td>\n",
       "      <td>2</td>\n",
       "    </tr>\n",
       "  </tbody>\n",
       "</table>\n",
       "</div>"
      ],
      "text/plain": [
       "      학년    악력  윗몸일으키기  점수  순위\n",
       "학생번호                          \n",
       "1      1  40.2      34  15   4\n",
       "2      1  34.2      14   7  10\n",
       "3      1  28.8      27  11   7\n",
       "4      2  39.0      27  14   5\n",
       "5      2  50.9      32  17   2"
      ]
     },
     "execution_count": 2,
     "metadata": {},
     "output_type": "execute_result"
    }
   ],
   "source": [
    "df = pd.read_csv('./data/ch1_sport_test.csv',\n",
    "                index_col='학생번호')\n",
    "df.head()"
   ]
  },
  {
   "cell_type": "code",
   "execution_count": 3,
   "id": "e253e1f9",
   "metadata": {},
   "outputs": [
    {
     "data": {
      "text/plain": [
       "학생번호\n",
       "1     40.2\n",
       "2     34.2\n",
       "3     28.8\n",
       "4     39.0\n",
       "5     50.9\n",
       "6     36.5\n",
       "7     36.6\n",
       "8     49.2\n",
       "9     26.0\n",
       "10    47.4\n",
       "Name: 악력, dtype: float64"
      ]
     },
     "execution_count": 3,
     "metadata": {},
     "output_type": "execute_result"
    }
   ],
   "source": [
    "df.악력"
   ]
  },
  {
   "cell_type": "code",
   "execution_count": 4,
   "id": "c132b6f7",
   "metadata": {},
   "outputs": [
    {
     "data": {
      "text/html": [
       "<div>\n",
       "<style scoped>\n",
       "    .dataframe tbody tr th:only-of-type {\n",
       "        vertical-align: middle;\n",
       "    }\n",
       "\n",
       "    .dataframe tbody tr th {\n",
       "        vertical-align: top;\n",
       "    }\n",
       "\n",
       "    .dataframe thead th {\n",
       "        text-align: right;\n",
       "    }\n",
       "</style>\n",
       "<table border=\"1\" class=\"dataframe\">\n",
       "  <thead>\n",
       "    <tr style=\"text-align: right;\">\n",
       "      <th></th>\n",
       "      <th>english</th>\n",
       "      <th>mathematics</th>\n",
       "    </tr>\n",
       "    <tr>\n",
       "      <th>student number</th>\n",
       "      <th></th>\n",
       "      <th></th>\n",
       "    </tr>\n",
       "  </thead>\n",
       "  <tbody>\n",
       "    <tr>\n",
       "      <th>1</th>\n",
       "      <td>42</td>\n",
       "      <td>65</td>\n",
       "    </tr>\n",
       "    <tr>\n",
       "      <th>2</th>\n",
       "      <td>69</td>\n",
       "      <td>80</td>\n",
       "    </tr>\n",
       "    <tr>\n",
       "      <th>3</th>\n",
       "      <td>56</td>\n",
       "      <td>63</td>\n",
       "    </tr>\n",
       "    <tr>\n",
       "      <th>4</th>\n",
       "      <td>41</td>\n",
       "      <td>63</td>\n",
       "    </tr>\n",
       "    <tr>\n",
       "      <th>5</th>\n",
       "      <td>57</td>\n",
       "      <td>76</td>\n",
       "    </tr>\n",
       "  </tbody>\n",
       "</table>\n",
       "</div>"
      ],
      "text/plain": [
       "                english  mathematics\n",
       "student number                      \n",
       "1                    42           65\n",
       "2                    69           80\n",
       "3                    56           63\n",
       "4                    41           63\n",
       "5                    57           76"
      ]
     },
     "execution_count": 4,
     "metadata": {},
     "output_type": "execute_result"
    }
   ],
   "source": [
    "df = pd.read_csv('./data/ch2_scores_em.csv', index_col='student number')\n",
    "pd.set_option('precision',3) # 소수점 3자리로 출력 제한\n",
    "df.head()"
   ]
  },
  {
   "cell_type": "code",
   "execution_count": 5,
   "id": "41329b47",
   "metadata": {},
   "outputs": [
    {
     "data": {
      "text/plain": [
       "array([42, 69, 56, 41, 57, 48, 65, 49, 65, 58], dtype=int64)"
      ]
     },
     "execution_count": 5,
     "metadata": {},
     "output_type": "execute_result"
    }
   ],
   "source": [
    "scores = np.array(df.english)[:10]\n",
    "scores"
   ]
  },
  {
   "cell_type": "code",
   "execution_count": 6,
   "id": "01fea28f",
   "metadata": {},
   "outputs": [
    {
     "data": {
      "text/html": [
       "<div>\n",
       "<style scoped>\n",
       "    .dataframe tbody tr th:only-of-type {\n",
       "        vertical-align: middle;\n",
       "    }\n",
       "\n",
       "    .dataframe tbody tr th {\n",
       "        vertical-align: top;\n",
       "    }\n",
       "\n",
       "    .dataframe thead th {\n",
       "        text-align: right;\n",
       "    }\n",
       "</style>\n",
       "<table border=\"1\" class=\"dataframe\">\n",
       "  <thead>\n",
       "    <tr style=\"text-align: right;\">\n",
       "      <th></th>\n",
       "      <th>score</th>\n",
       "    </tr>\n",
       "    <tr>\n",
       "      <th>student</th>\n",
       "      <th></th>\n",
       "    </tr>\n",
       "  </thead>\n",
       "  <tbody>\n",
       "    <tr>\n",
       "      <th>A</th>\n",
       "      <td>42</td>\n",
       "    </tr>\n",
       "    <tr>\n",
       "      <th>B</th>\n",
       "      <td>69</td>\n",
       "    </tr>\n",
       "    <tr>\n",
       "      <th>C</th>\n",
       "      <td>56</td>\n",
       "    </tr>\n",
       "    <tr>\n",
       "      <th>D</th>\n",
       "      <td>41</td>\n",
       "    </tr>\n",
       "    <tr>\n",
       "      <th>E</th>\n",
       "      <td>57</td>\n",
       "    </tr>\n",
       "    <tr>\n",
       "      <th>F</th>\n",
       "      <td>48</td>\n",
       "    </tr>\n",
       "    <tr>\n",
       "      <th>G</th>\n",
       "      <td>65</td>\n",
       "    </tr>\n",
       "    <tr>\n",
       "      <th>H</th>\n",
       "      <td>49</td>\n",
       "    </tr>\n",
       "    <tr>\n",
       "      <th>I</th>\n",
       "      <td>65</td>\n",
       "    </tr>\n",
       "    <tr>\n",
       "      <th>J</th>\n",
       "      <td>58</td>\n",
       "    </tr>\n",
       "  </tbody>\n",
       "</table>\n",
       "</div>"
      ],
      "text/plain": [
       "         score\n",
       "student       \n",
       "A           42\n",
       "B           69\n",
       "C           56\n",
       "D           41\n",
       "E           57\n",
       "F           48\n",
       "G           65\n",
       "H           49\n",
       "I           65\n",
       "J           58"
      ]
     },
     "execution_count": 6,
     "metadata": {},
     "output_type": "execute_result"
    }
   ],
   "source": [
    "scores_df = pd.DataFrame({'score':scores},\n",
    "                        index = pd.Index(['A','B','C','D','E','F','G','H','I','J'],\n",
    "                                         name='student'))\n",
    "scores_df"
   ]
  },
  {
   "cell_type": "markdown",
   "id": "ebc720f1",
   "metadata": {},
   "source": [
    "# 대푯값\n",
    "<br>\n",
    "\n",
    "####  평균값(mean)\n",
    "    데이터를 모두 더한 뒤, 데이터의 개수로 나눈다.\n",
    "<br>\n",
    "\n",
    "#### 중앙값(median)\n",
    "    데이터를 크기 순서대로 나열할 때 정확히 중앙에 위치한 값.\n",
    "    크기 순서로 정렬하기 때문에 이상치에 강하다는 특성을 지녔다.\n",
    "    데이터가 짝수라면 중앙의 두 값의 평균을 중앙값으로 정한다.\n",
    "<br>\n",
    "\n",
    "#### 최빈값(mode 함수 사용)\n",
    "    데이터에서 가장 많이 나타나는 값."
   ]
  },
  {
   "cell_type": "code",
   "execution_count": 7,
   "id": "ba08ffbd",
   "metadata": {},
   "outputs": [
    {
     "data": {
      "text/plain": [
       "55.0"
      ]
     },
     "metadata": {},
     "output_type": "display_data"
    },
    {
     "data": {
      "text/plain": [
       "55.0"
      ]
     },
     "metadata": {},
     "output_type": "display_data"
    },
    {
     "data": {
      "text/plain": [
       "score    55.0\n",
       "dtype: float64"
      ]
     },
     "metadata": {},
     "output_type": "display_data"
    }
   ],
   "source": [
    "# 평균값\n",
    "display(sum(scores)/len(scores),\n",
    "       scores.mean(), # np.mean(scores)도 가능!\n",
    "        scores_df.mean())"
   ]
  },
  {
   "cell_type": "code",
   "execution_count": 8,
   "id": "36f504df",
   "metadata": {},
   "outputs": [
    {
     "data": {
      "text/plain": [
       "56.5"
      ]
     },
     "metadata": {},
     "output_type": "display_data"
    },
    {
     "data": {
      "text/plain": [
       "56.5"
      ]
     },
     "metadata": {},
     "output_type": "display_data"
    },
    {
     "data": {
      "text/plain": [
       "score    56.5\n",
       "dtype: float64"
      ]
     },
     "metadata": {},
     "output_type": "display_data"
    }
   ],
   "source": [
    "# 중앙값\n",
    "sorted_scores = np.sort(scores)\n",
    "if len(sorted_scores)%2==0:\n",
    "    n1 = sorted_scores[len(sorted_scores)//2-1]\n",
    "    n2 = sorted_scores[len(sorted_scores)//2]\n",
    "    n = (n1+n2)/2\n",
    "else: n = sorted_scores[len(sorted_scores)//2]\n",
    "    \n",
    "display(n,\n",
    "       np.median(scores),\n",
    "       scores_df.median())"
   ]
  },
  {
   "cell_type": "code",
   "execution_count": 9,
   "id": "3ac919e5",
   "metadata": {},
   "outputs": [
    {
     "data": {
      "text/plain": [
       "0    3\n",
       "dtype: int64"
      ]
     },
     "execution_count": 9,
     "metadata": {},
     "output_type": "execute_result"
    }
   ],
   "source": [
    "# 최빈값\n",
    "pd.Series([1,3,5,67,3,6,4,4,6,3,1,3,35]).mode()"
   ]
  },
  {
   "cell_type": "markdown",
   "id": "f94a4fb0",
   "metadata": {},
   "source": [
    "## 데이터의 산포도 지표\n",
    "<br>\n",
    "\n",
    "#### 편차(deviation)\n",
    "    각 데이터가 평균으로부터 얼마나 떨어져 있는지를 알아보는 지표.\n",
    "    (데이터 요소 값 - 평균)으로 계산하며, 편차의 평균은 항상 0이다.\n",
    "<br>\n",
    "\n",
    "#### 분산(variance)\n",
    "    편차 제곱의 평균.\n",
    "    산포도를 나타내는 지표이다.\n",
    "<br>\n",
    "\n",
    "#### 표준편차(standard deviation)\n",
    "    분산의 제곱근.\n",
    "    원래의 데이터와 같은 단위를 쓰는 산포도 지표.\n",
    "<br>\n",
    "\n",
    "#### 범위(range)\n",
    "    데이터의 최댓값-최솟값만으로 산포도를 표현.\n",
    "    개략적인 지표이며, 이상치에 약하다.\n",
    "<br>\n",
    "\n",
    "#### 사분위 범위(interquartile range)\n",
    "    데이터의 하위 25%, 50%, 75%, 100%에 위치한 수.\n",
    "    각각 제1, 2, 3, 4분위수라고 칭하며, Q1, Q2, Q3, Q4로 나타낸다.\n",
    "* IQR: 상자 그림(box plot)에서 이상치를 추려내기 위한 지표<br>(Q3-Q1)로 구할 수 있다.\n",
    "    * Upper whisker: 데이터에서 Q3 + 1.5IQR보다 작은 숫자 중 최댓값\n",
    "    * Lower whisker: 데이터에서 Q1- 1.5IQR보다 큰 숫자 중 최솟값\n",
    "    * 이 두 지표를 벗어나는 값은 이상치로 추정해 볼 수 있다."
   ]
  },
  {
   "cell_type": "code",
   "execution_count": 10,
   "id": "62a0cf24",
   "metadata": {},
   "outputs": [
    {
     "data": {
      "text/plain": [
       "array([-13.,  14.,   1., -14.,   2.,  -7.,  10.,  -6.,  10.,   3.])"
      ]
     },
     "metadata": {},
     "output_type": "display_data"
    },
    {
     "data": {
      "text/plain": [
       "0.0"
      ]
     },
     "metadata": {},
     "output_type": "display_data"
    }
   ],
   "source": [
    "# 편차\n",
    "deviation = scores - scores.mean()\n",
    "display(deviation,\n",
    "       deviation.mean())"
   ]
  },
  {
   "cell_type": "code",
   "execution_count": 11,
   "id": "61d3c2d1",
   "metadata": {},
   "outputs": [
    {
     "data": {
      "text/plain": [
       "86.0"
      ]
     },
     "metadata": {},
     "output_type": "display_data"
    },
    {
     "data": {
      "text/plain": [
       "86.0"
      ]
     },
     "metadata": {},
     "output_type": "display_data"
    },
    {
     "name": "stdout",
     "output_type": "stream",
     "text": [
      "score    95.556\n",
      "dtype: float64 95.556\n"
     ]
    }
   ],
   "source": [
    "# 분산\n",
    "var = (deviation**2).mean()\n",
    "display(var,\n",
    "       np.var(scores))\n",
    "print(scores_df.var(), np.var(scores, ddof=1).round(3))"
   ]
  },
  {
   "cell_type": "code",
   "execution_count": 13,
   "id": "8bf40c68",
   "metadata": {},
   "outputs": [
    {
     "data": {
      "text/plain": [
       "9.274"
      ]
     },
     "metadata": {},
     "output_type": "display_data"
    },
    {
     "data": {
      "text/plain": [
       "9.274"
      ]
     },
     "metadata": {},
     "output_type": "display_data"
    },
    {
     "name": "stdout",
     "output_type": "stream",
     "text": [
      "score    9.775\n",
      "dtype: float64 9.775\n"
     ]
    }
   ],
   "source": [
    "# 표준편차\n",
    "display(np.sqrt(var).round(3),\n",
    "       scores.std().round(3))\n",
    "print(scores_df.std(), scores.std(ddof=1).round(3))"
   ]
  },
  {
   "cell_type": "code",
   "execution_count": 18,
   "id": "c57a806a",
   "metadata": {},
   "outputs": [
    {
     "name": "stdout",
     "output_type": "stream",
     "text": [
      "48.25 48.25 \n",
      "\n",
      "63.25 63.25\n"
     ]
    }
   ],
   "source": [
    "# 사분위 범위\n",
    "print(np.percentile(scores,25), np.quantile(scores,0.25),'\\n') # Q1\n",
    "print(np.percentile(scores,75), np.quantile(scores,0.75)) # Q3"
   ]
  },
  {
   "cell_type": "code",
   "execution_count": 21,
   "id": "3d64551d",
   "metadata": {},
   "outputs": [
    {
     "data": {
      "text/plain": [
       "count    10.00\n",
       "mean     55.00\n",
       "std       9.78\n",
       "min      41.00\n",
       "25%      48.25\n",
       "50%      56.50\n",
       "75%      63.25\n",
       "max      69.00\n",
       "dtype: float64"
      ]
     },
     "execution_count": 21,
     "metadata": {},
     "output_type": "execute_result"
    }
   ],
   "source": [
    "# 배열을 시리즈로 만들어 통계요약표를 출력해 보자.\n",
    "pd.Series(scores).describe().round(2)"
   ]
  },
  {
   "cell_type": "markdown",
   "id": "e9b27b5d",
   "metadata": {},
   "source": [
    "## 데이터의 정규화\n",
    "<br>\n",
    "\n",
    "#### 표준화(standardizaion)\n",
    "$z_i = \\frac{(x_i-x)}{S}$\n",
    "\n",
    "    데이터에서 평균을 뺀 후 표준편차로 나누는 작업.\n",
    "    이를 표준화 변량, 또는 Z 점수(z-score)라고 한다.\n",
    "    표준화된 데이터는 평균이 0, 표준편차가 1인 가우시안 정규분포를 만족한다.\n",
    "<br>\n",
    "\n",
    "#### 편찻값\n",
    "$z_i = 50 + 10*\\frac{(x_i-x)}{S}$\n",
    "\n",
    "    평균이 50, 표준편차가 10이 되도록 정규화한 값."
   ]
  },
  {
   "cell_type": "code",
   "execution_count": 25,
   "id": "37286aa9",
   "metadata": {},
   "outputs": [
    {
     "data": {
      "text/plain": [
       "array([-1.40182605,  1.50965882,  0.10783277, -1.50965882,  0.21566555,\n",
       "       -0.75482941,  1.07832773, -0.64699664,  1.07832773,  0.32349832])"
      ]
     },
     "metadata": {},
     "output_type": "display_data"
    },
    {
     "data": {
      "text/plain": [
       "-0.0"
      ]
     },
     "metadata": {},
     "output_type": "display_data"
    },
    {
     "data": {
      "text/plain": [
       "1.0"
      ]
     },
     "metadata": {},
     "output_type": "display_data"
    }
   ],
   "source": [
    "# 데이터를 표준화한 후 그 통계량을 확인해 보자.\n",
    "z = (scores - scores.mean())/scores.std()\n",
    "display(z, z.mean().round(3), z.std().round(3))"
   ]
  },
  {
   "cell_type": "code",
   "execution_count": 26,
   "id": "97c8c932",
   "metadata": {
    "scrolled": true
   },
   "outputs": [
    {
     "data": {
      "text/plain": [
       "array([35.98173948, 65.09658825, 51.07832773, 34.90341175, 52.15665546,\n",
       "       42.45170588, 60.78327732, 43.53003361, 60.78327732, 53.2349832 ])"
      ]
     },
     "metadata": {},
     "output_type": "display_data"
    },
    {
     "data": {
      "text/plain": [
       "50.0"
      ]
     },
     "metadata": {},
     "output_type": "display_data"
    },
    {
     "data": {
      "text/plain": [
       "10.0"
      ]
     },
     "metadata": {},
     "output_type": "display_data"
    }
   ],
   "source": [
    "# 표준화한 데이터를 편찻값으로 계산해 보자.\n",
    "z = 50+10*(scores-scores.mean())/scores.std()\n",
    "display(z, z.mean().round(3), z.std().round(3))"
   ]
  },
  {
   "cell_type": "markdown",
   "id": "9881b7f6",
   "metadata": {},
   "source": [
    "## 1차원 데이터의 시각화"
   ]
  },
  {
   "cell_type": "code",
   "execution_count": 61,
   "id": "ffa31c51",
   "metadata": {},
   "outputs": [
    {
     "data": {
      "text/plain": [
       "count    50.00\n",
       "mean     58.38\n",
       "std       9.80\n",
       "min      37.00\n",
       "25%      54.00\n",
       "50%      57.50\n",
       "75%      65.00\n",
       "max      79.00\n",
       "dtype: float64"
      ]
     },
     "execution_count": 61,
     "metadata": {},
     "output_type": "execute_result"
    }
   ],
   "source": [
    "english_scores = np.array(df.english)\n",
    "pd.Series(english_scores).describe()"
   ]
  },
  {
   "cell_type": "code",
   "execution_count": 62,
   "id": "fc0d8852",
   "metadata": {},
   "outputs": [
    {
     "data": {
      "text/html": [
       "<div>\n",
       "<style scoped>\n",
       "    .dataframe tbody tr th:only-of-type {\n",
       "        vertical-align: middle;\n",
       "    }\n",
       "\n",
       "    .dataframe tbody tr th {\n",
       "        vertical-align: top;\n",
       "    }\n",
       "\n",
       "    .dataframe thead th {\n",
       "        text-align: right;\n",
       "    }\n",
       "</style>\n",
       "<table border=\"1\" class=\"dataframe\">\n",
       "  <thead>\n",
       "    <tr style=\"text-align: right;\">\n",
       "      <th></th>\n",
       "      <th>frequency</th>\n",
       "      <th>class value</th>\n",
       "      <th>relative frequency</th>\n",
       "      <th>cumsum relative frequency</th>\n",
       "    </tr>\n",
       "    <tr>\n",
       "      <th>class</th>\n",
       "      <th></th>\n",
       "      <th></th>\n",
       "      <th></th>\n",
       "      <th></th>\n",
       "    </tr>\n",
       "  </thead>\n",
       "  <tbody>\n",
       "    <tr>\n",
       "      <th>0~10</th>\n",
       "      <td>0</td>\n",
       "      <td>5</td>\n",
       "      <td>0.00</td>\n",
       "      <td>0.00</td>\n",
       "    </tr>\n",
       "    <tr>\n",
       "      <th>10~20</th>\n",
       "      <td>0</td>\n",
       "      <td>15</td>\n",
       "      <td>0.00</td>\n",
       "      <td>0.00</td>\n",
       "    </tr>\n",
       "    <tr>\n",
       "      <th>20~30</th>\n",
       "      <td>0</td>\n",
       "      <td>25</td>\n",
       "      <td>0.00</td>\n",
       "      <td>0.00</td>\n",
       "    </tr>\n",
       "    <tr>\n",
       "      <th>30~40</th>\n",
       "      <td>2</td>\n",
       "      <td>35</td>\n",
       "      <td>0.04</td>\n",
       "      <td>0.04</td>\n",
       "    </tr>\n",
       "    <tr>\n",
       "      <th>40~50</th>\n",
       "      <td>8</td>\n",
       "      <td>45</td>\n",
       "      <td>0.16</td>\n",
       "      <td>0.20</td>\n",
       "    </tr>\n",
       "    <tr>\n",
       "      <th>50~60</th>\n",
       "      <td>16</td>\n",
       "      <td>55</td>\n",
       "      <td>0.32</td>\n",
       "      <td>0.52</td>\n",
       "    </tr>\n",
       "    <tr>\n",
       "      <th>60~70</th>\n",
       "      <td>18</td>\n",
       "      <td>65</td>\n",
       "      <td>0.36</td>\n",
       "      <td>0.88</td>\n",
       "    </tr>\n",
       "    <tr>\n",
       "      <th>70~80</th>\n",
       "      <td>6</td>\n",
       "      <td>75</td>\n",
       "      <td>0.12</td>\n",
       "      <td>1.00</td>\n",
       "    </tr>\n",
       "    <tr>\n",
       "      <th>80~90</th>\n",
       "      <td>0</td>\n",
       "      <td>85</td>\n",
       "      <td>0.00</td>\n",
       "      <td>1.00</td>\n",
       "    </tr>\n",
       "    <tr>\n",
       "      <th>90~100</th>\n",
       "      <td>0</td>\n",
       "      <td>95</td>\n",
       "      <td>0.00</td>\n",
       "      <td>1.00</td>\n",
       "    </tr>\n",
       "  </tbody>\n",
       "</table>\n",
       "</div>"
      ],
      "text/plain": [
       "        frequency  class value  relative frequency  cumsum relative frequency\n",
       "class                                                                        \n",
       "0~10            0            5                0.00                       0.00\n",
       "10~20           0           15                0.00                       0.00\n",
       "20~30           0           25                0.00                       0.00\n",
       "30~40           2           35                0.04                       0.04\n",
       "40~50           8           45                0.16                       0.20\n",
       "50~60          16           55                0.32                       0.52\n",
       "60~70          18           65                0.36                       0.88\n",
       "70~80           6           75                0.12                       1.00\n",
       "80~90           0           85                0.00                       1.00\n",
       "90~100          0           95                0.00                       1.00"
      ]
     },
     "metadata": {},
     "output_type": "display_data"
    },
    {
     "data": {
      "text/plain": [
       "65"
      ]
     },
     "execution_count": 62,
     "metadata": {},
     "output_type": "execute_result"
    }
   ],
   "source": [
    "# 50명의 영어 점수를 10점 구간으로 나눠서 도수분포표를 만들어 보자.\n",
    "\n",
    "freq, _ = np.histogram(english_sccores, # 영어 점수에 대해\n",
    "                       bins=10,         # 100점을 10점 단위로 나누니까 계급수는 10개\n",
    "                       range=(0,100))   # 점수 분포는 0점에서 100점까지\n",
    "\n",
    "# 각 구간 별로 점수 분포 도수가 freq(빈도)에 저장되었다.\n",
    "# 이를 이용해 각 구간을 인덱스로 갖는 데이터프레임 freq_dist_df를 생성해 보자.\n",
    "\n",
    "freq_class = [f'{i}~{i+10}' for i in range(0,100,10)]\n",
    "freq_dist_df = pd.DataFrame({'frequency':freq},\n",
    "                           index = pd.Index(freq_class,name='class'))\n",
    "\n",
    "# freq_dist_df에 계급값, 상대도수, 누적상대도수를 추가해 보자.\n",
    "class_value = [(i+(i+10))//2 for i in range(0,100,10)] # //를 쓰는 건 정수인 몫을 반환하기 때문\n",
    "rel_freq = freq/freq.sum()\n",
    "cum_rel_freq = np.cumsum(rel_freq)\n",
    "freq_dist_df['class value'] = class_value\n",
    "freq_dist_df['relative frequency'] = rel_freq\n",
    "freq_dist_df['cumsum relative frequency'] = cum_rel_freq\n",
    "display(freq_dist_df)\n",
    "\n",
    "# 최빈값을 찾아볼까? 빈도가 가장 많은, 즉 빈도값이 가장 큰 곳의 계급값을 도출하면 된다.\n",
    "freq_dist_df.loc[freq_dist_df.frequency.idxmax(),'class value']\n",
    "# idxmax, idxmin 함수는 최댓값, 최솟값의 인덱스를 반환하는 함수이다."
   ]
  },
  {
   "cell_type": "code",
   "execution_count": 67,
   "id": "35af5842",
   "metadata": {},
   "outputs": [
    {
     "data": {
      "image/png": "[encoded data removed]",
      "text/plain": [
       "<Figure size 504x360 with 1 Axes>"
      ]
     },
     "metadata": {
      "needs_background": "light"
     },
     "output_type": "display_data"
    }
   ],
   "source": [
    "# 만든 것으로 히스토그램을 그려보자.\n",
    "\n",
    "fig = plt.figure(figsize=(7,5))\n",
    "ax = fig.add_subplot(111)\n",
    "freq, _, _ = ax.hist(english_scores, # 점수의 빈도를 보려면 점수를 넣어야지? freq가 아니라.\n",
    "                     bins=10, range=(0,100),color='cornflowerblue')\n",
    "ax.set_xlabel('Score')\n",
    "ax.set_ylabel('Frequency')\n",
    "ax.set_xticks(np.linspace(0,100,11)) # 0에서 100까지 11개의 동일 간격 숫자로 나누어라.\n",
    "ax.set_yticks(np.arange(0, freq.max()+1)) # 아까 구한 freq나 지금 구한 freq나 매한가지이긴 함\n",
    "plt.show()"
   ]
  },
  {
   "cell_type": "code",
   "execution_count": 36,
   "id": "38f850e2",
   "metadata": {
    "scrolled": true
   },
   "outputs": [
    {
     "data": {
      "text/plain": [
       "['0~10',\n",
       " '10~20',\n",
       " '20~30',\n",
       " '30~40',\n",
       " '40~50',\n",
       " '50~60',\n",
       " '60~70',\n",
       " '70~80',\n",
       " '80~90',\n",
       " '90~100']"
      ]
     },
     "execution_count": 36,
     "metadata": {},
     "output_type": "execute_result"
    }
   ],
   "source": [
    "freq_class"
   ]
  },
  {
   "cell_type": "code",
   "execution_count": 68,
   "id": "d1ea258f",
   "metadata": {},
   "outputs": [
    {
     "data": {
      "image/png": "[encoded data removed]",
      "text/plain": [
       "<Figure size 504x360 with 1 Axes>"
      ]
     },
     "metadata": {
      "needs_background": "light"
     },
     "output_type": "display_data"
    }
   ],
   "source": [
    "# 계급수를 10이 아닌 25로, 계급폭을 10이 아닌 4로 하여 그려보자.\n",
    "# bins의 값만 바꿔주면 된다.\n",
    "fig = plt.figure(figsize=(7,5))\n",
    "ax = fig.add_subplot(111)\n",
    "freq, _, _ = ax.hist(english_scores, # 점수의 빈도를 보려면 점수를 넣어야지? freq가 아니라.\n",
    "                     bins=25, range=(0,100),color='cornflowerblue')\n",
    "ax.set_xlabel('Score')\n",
    "ax.set_ylabel('Frequency')\n",
    "ax.set_xticks(np.linspace(0,100,11)) # 0에서 100까지 11개의 동일 간격 숫자로 나누어라.\n",
    "ax.set_yticks(np.arange(0, freq.max()+1)) # 아까 구한 freq나 지금 구한 freq나 매한가지이긴 함\n",
    "plt.show()"
   ]
  },
  {
   "cell_type": "code",
   "execution_count": 54,
   "id": "3e4cba75",
   "metadata": {},
   "outputs": [
    {
     "data": {
      "text/plain": [
       "array([  0.,  10.,  20.,  30.,  40.,  50.,  60.,  70.,  80.,  90., 100.])"
      ]
     },
     "execution_count": 54,
     "metadata": {},
     "output_type": "execute_result"
    }
   ],
   "source": [
    "np.linspace(0,100,11) # 나누고 싶은 눈금간격 + 1 해줘도 되긴 함"
   ]
  },
  {
   "cell_type": "code",
   "execution_count": 78,
   "id": "e388bf4c",
   "metadata": {},
   "outputs": [
    {
     "data": {
      "image/png": "[encoded data removed]",
      "text/plain": [
       "<Figure size 720x576 with 2 Axes>"
      ]
     },
     "metadata": {
      "needs_background": "light"
     },
     "output_type": "display_data"
    }
   ],
   "source": [
    "# 상대도수 히스토그램 + 누적상대도수 꺾은선 그래프 함께 그려보기!\n",
    "\n",
    "fig = plt.figure(figsize=(10,8))\n",
    "ax1 = fig.add_subplot(111)\n",
    "ax2 = ax1.twinx() # ax1과 x축을 공유하는(y축은 다른) 그래프를 그리겠습니다.\n",
    "\n",
    "# 상대도수는 도수/데이터의 수이기 때문에 weights 값으로 이를 표현한다.\n",
    "weights = np.ones_like(english_scores)/len(english_scores)\n",
    "# 이렇게 하면 1/데이터의 수 인, english_scores와 똑같은 크기의 배열이 생성된다.\n",
    "\n",
    "rel_freq,_,_ = ax1.hist(english_scores, bins=25,\n",
    "                        range=(0,100), weights=weights,color='cornflowerblue')\n",
    "cum_rel_freq = np.cumsum(rel_freq)\n",
    "\n",
    "class_value = [(i+(i+4))//2 for i in range(0,100,4)] # bins가 25이기 때문에 계급도 4단위\n",
    "\n",
    "# 꺾은선 그래프 그려보자\n",
    "ax2.plot(class_value,cum_rel_freq, ls=\"--\", marker='H',\n",
    "         markersize=5, color='crimson',alpha=0.6)\n",
    "\n",
    "ax1.set_xlabel('Score')\n",
    "ax1.set_ylabel('Relative Frequency')\n",
    "ax2.set_ylabel('Cumulative Relative Frequency')\n",
    "ax1.set_xticks(np.linspace(0,100,26))\n",
    "plt.show()"
   ]
  },
  {
   "cell_type": "code",
   "execution_count": 90,
   "id": "53aeb483",
   "metadata": {},
   "outputs": [
    {
     "data": {
      "image/png": "[encoded data removed]",
      "text/plain": [
       "<Figure size 504x360 with 1 Axes>"
      ]
     },
     "metadata": {
      "needs_background": "light"
     },
     "output_type": "display_data"
    },
    {
     "data": {
      "text/plain": [
       "count    50.00\n",
       "mean     58.38\n",
       "std       9.80\n",
       "min      37.00\n",
       "25%      54.00\n",
       "50%      57.50\n",
       "75%      65.00\n",
       "max      79.00\n",
       "dtype: float64"
      ]
     },
     "metadata": {},
     "output_type": "display_data"
    },
    {
     "data": {
      "text/plain": [
       "18    73\n",
       "26    75\n",
       "35    79\n",
       "dtype: int64"
      ]
     },
     "metadata": {},
     "output_type": "display_data"
    },
    {
     "data": {
      "text/plain": [
       "19    37\n",
       "34    37\n",
       "3     41\n",
       "dtype: int64"
      ]
     },
     "metadata": {},
     "output_type": "display_data"
    }
   ],
   "source": [
    "# 상자그림(box plot)을 그려보고 IQR와 upper, lower whisker를 구해보자.\n",
    "\n",
    "fig = plt.figure(figsize=(7,5))\n",
    "ax = fig.add_subplot(111)\n",
    "ax.boxplot(english_scores, labels=['English Score'])\n",
    "plt.show()\n",
    "display(pd.Series(english_scores).describe(),\n",
    "        pd.Series(english_scores).sort_values().tail(3),\n",
    "        pd.Series(english_scores).sort_values().head(3))\n",
    "# 박스는 1분위~3분위 사이의 값. 빨간선은 중앙값.\n",
    "# IQR = 65-54 = 9\n",
    "# upper whisker = 65+13.5 = 78.5보다 작은 값 중 최댓값 == 75\n",
    "# lower whisker = 54-13.5 = 40.5보다 큰 값 중 최솟값 == 41"
   ]
  }
 ],
 "metadata": {
  "kernelspec": {
   "display_name": "Python 3 (ipykernel)",
   "language": "python",
   "name": "python3"
  },
  "language_info": {
   "codemirror_mode": {
    "name": "ipython",
    "version": 3
   },
   "file_extension": ".py",
   "mimetype": "text/x-python",
   "name": "python",
   "nbconvert_exporter": "python",
   "pygments_lexer": "ipython3",
   "version": "3.8.12"
  }
 },
 "nbformat": 4,
 "nbformat_minor": 5
}
