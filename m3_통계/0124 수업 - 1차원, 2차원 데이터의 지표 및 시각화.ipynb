{
 "cells": [
  {
   "cell_type": "markdown",
   "id": "2943c0ba",
   "metadata": {},
   "source": [
    "모집단의 분포, 표본의 분포를 보고 이게 경향이 비슷할 거라고 생각해야<br>\n",
    "추정을 할 수 있는 거지. 이것이 바로 [추측 통계학]<br>\n",
    "전체 평균을 보고서 개인의 값을 예측하는 것.<br>"
   ]
  },
  {
   "cell_type": "code",
   "execution_count": 1,
   "id": "37dcfa38",
   "metadata": {},
   "outputs": [],
   "source": [
    "import numpy as np\n",
    "import pandas as pd"
   ]
  },
  {
   "cell_type": "markdown",
   "id": "98020d9b",
   "metadata": {},
   "source": [
    "# 1차원 데이터\n",
    "- 평균값(기댓값), 표본분산(표본집단에서 값들이 표본평균으로부터 얼마나 퍼져 있는지),<br>\n",
    "    불편분산(자유도로 구분. ddof=1), 표준편차<br>\n",
    "<br>\n",
    "- 표본분산은 표본의 평균을 사용해 분산을 계산한 값으로,<br>\n",
    "    분산을 과소 추정하는 경향이 있으며, 그 경향을 없애기 위한 것이 불편분산.<br>\n",
    "    따라서 불편분산은 표본분산보다 조금 큰 값이 된다.<br>\n",
    "<br>\n",
    "- 표준화: 평균값이 큰 변수와 작은 변수가 섞여 있으면(scale이 다르면) 데이터를 다루기 어려우므로<br>\n",
    "    표준화를 통해 데이터를 다루기 쉽게 한다.<br>\n",
    "<br>\n",
    "- 최댓값, 최솟값, 중앙값, 사분위수<br>\n",
    "<br>\n",
    "- 표본분산과 비편향분산\n",
    "    - 분산은 표본분산과 불편분산(unbiased variance)의 두 종류가 존재\n",
    "    - 표본분산은 표본에서 계산된 분산이며,<br>\n",
    "        모집단에 비해 표본 수가 적을 때에는 표본분산이 모분산보다 작아진다.\n",
    "    - 즉, 표본분산을 모집단 분산에 맞춰서 동일하게 보정한 것을 '비편향분산'이라 한다.\n",
    "    - 통계학에서는 이 비편향분산을 사용하는 경우가 많다.\n",
    "    - 불편분산은 n 대신 n-1로 나누어 구할 수 있다.\n",
    "<br>"
   ]
  },
  {
   "cell_type": "markdown",
   "id": "ec9780a5",
   "metadata": {},
   "source": [
    "## [표본분산이 분산을 과소평가하는 이유]\n",
    "### 호수 안에 물고기가 7마리 있다.<br>\n",
    "몸 길이 {1,2,3,4,5,6,7} -> 모평균 4<br>\n",
    "샘플링 3마리 {1,2,3} -> 표본평균 2<br>\n",
    "샘플링 4마리 {1,2,6,7} -> 표본평균 4<br>\n",
    "샘플링만 알고 있을 때 우리는 모평균을 모른다.<br>\n",
    "이 때 분산은 모평균을 모르기 때문에 표본평균과의 거리를 계산하며<br>\n",
    "분산을 과소평가하게 된다.<br>\n",
    "거리 계산이지 값 계산이 아니기 때문에 어쨌든 중앙값에서 떨어지는 거리는<br>\n",
    "전체 모집단에서 보는 평균에서의 거리보다는 짧게 나온다는 것임.<br>\n",
    "모평균에서의 분산보다 표본평균에서의 분산값이 더 작게 나온다는 것.<br>\n",
    "<br>\n",
    "일부는 모평균, 모분산과 유사값이 나올 수 있겠지만<br>\n",
    "그렇지 않은 나머지 집단들(더 적거나 편향된 샘플들)이 많기 때문에<br>\n",
    "결과적으로는 모집단보다는 표본의 분산값들이 작게 나올 수밖에 없음.<br>\n",
    "<br>\n",
    "표본분산보다 조금 더 큰 값이 되도록 보정한 것이 (모분산을 추정하기 위한)불편분산이며,<br>\n",
    "분모를 n 대신 n-1로 나누는 것이다.<br>\n",
    "https://m.blog.naver.com/ao9364/222023124818<br>\n",
    "https://m.blog.naver.com/sw4r/221021838997<br>\n",
    "내용 보면 우리가 이렇게 하는 건 최종적으로 전체적인 모집단의 값을 추측하기 위한 것임<br>\n",
    "기댓값이 실제보다 적게 나오는 경향이 있으니, 편향성을 배제한 불편분산을 만들어 주는 것."
   ]
  },
  {
   "cell_type": "markdown",
   "id": "b253d37a",
   "metadata": {},
   "source": [
    "일단 헷갈리지 않게 자유도 다 붙여주자.<br>\n",
    "넘파이에서 분산 구할 때만 기본적으로 표본분산을 출력해 주는데<br>\n",
    "실사용할 때 헷갈려서 망하면 어떡하니?<br>\n",
    "그러니까 자유도는 다 붙여주기!"
   ]
  },
  {
   "cell_type": "markdown",
   "id": "396a292b",
   "metadata": {},
   "source": [
    "어느 통계 책이든 시작할 적에 이러한 예시를 들 것임.<br>\n",
    "전 국민 몸무게를 알고 싶다.<br>\n",
    "근데 지금 내가 가진 건 우리 학교 학생들의 몸무게 데이터뿐이다.<br>\n",
    "그럼 이걸(표본집단) 갖고 전국민 몸무게(모집단)를 추측할 수 있게 하는 것이<br>\n",
    "이 통계라는 학문의 궁극적 목표인 것임.<br>\n",
    "우리는 데이터를 정제해서 경향을 파악하고 일반화해서 상용화하는 게 목적임.<br>\n",
    "그걸 위해서 모집단을 추정할 수 있어야 하는 거라고!!!!!!!!!!!!!!<br>"
   ]
  },
  {
   "cell_type": "code",
   "execution_count": 2,
   "id": "d0f8e8cc",
   "metadata": {
    "scrolled": true
   },
   "outputs": [
    {
     "data": {
      "text/plain": [
       "1.2"
      ]
     },
     "metadata": {},
     "output_type": "display_data"
    },
    {
     "data": {
      "text/plain": [
       "1.3333333333333333"
      ]
     },
     "metadata": {},
     "output_type": "display_data"
    },
    {
     "data": {
      "text/plain": [
       "1.2"
      ]
     },
     "metadata": {},
     "output_type": "display_data"
    },
    {
     "data": {
      "text/plain": [
       "1.3333333333333333"
      ]
     },
     "metadata": {},
     "output_type": "display_data"
    }
   ],
   "source": [
    "# 표본분산과 불편분산(비편향분산) 구해 보기\n",
    "data = np.array([2,3,3,4,4,4,4,5,5,6])\n",
    "mu = data.sum()/len(data) # 평균\n",
    "# 편차 제곱의 합을 n 또는 n-1로 나누면 표본분산 또는 불편분산이 나온다.\n",
    "s = np.sum((data-mu)**2)/len(data) # 표본분산. n으로 나누었다.\n",
    "s1 = np.sum((data-mu)**2)/(len(data)-1) # 불편분산. n-1로 나누었다.\n",
    "display(s,s1)\n",
    "# 검증해 봅시다. 순서대로 표본분산, 불편분산.\n",
    "display(np.var(data), np.var(data,ddof=1))"
   ]
  },
  {
   "cell_type": "code",
   "execution_count": null,
   "id": "06ffb982",
   "metadata": {},
   "outputs": [],
   "source": []
  },
  {
   "cell_type": "code",
   "execution_count": 3,
   "id": "ef993fbe",
   "metadata": {},
   "outputs": [
    {
     "data": {
      "text/html": [
       "<div>\n",
       "<style scoped>\n",
       "    .dataframe tbody tr th:only-of-type {\n",
       "        vertical-align: middle;\n",
       "    }\n",
       "\n",
       "    .dataframe tbody tr th {\n",
       "        vertical-align: top;\n",
       "    }\n",
       "\n",
       "    .dataframe thead th {\n",
       "        text-align: right;\n",
       "    }\n",
       "</style>\n",
       "<table border=\"1\" class=\"dataframe\">\n",
       "  <thead>\n",
       "    <tr style=\"text-align: right;\">\n",
       "      <th></th>\n",
       "      <th>student number</th>\n",
       "      <th>english</th>\n",
       "      <th>mathematics</th>\n",
       "    </tr>\n",
       "  </thead>\n",
       "  <tbody>\n",
       "    <tr>\n",
       "      <th>0</th>\n",
       "      <td>1</td>\n",
       "      <td>42</td>\n",
       "      <td>65</td>\n",
       "    </tr>\n",
       "    <tr>\n",
       "      <th>1</th>\n",
       "      <td>2</td>\n",
       "      <td>69</td>\n",
       "      <td>80</td>\n",
       "    </tr>\n",
       "    <tr>\n",
       "      <th>2</th>\n",
       "      <td>3</td>\n",
       "      <td>56</td>\n",
       "      <td>63</td>\n",
       "    </tr>\n",
       "    <tr>\n",
       "      <th>3</th>\n",
       "      <td>4</td>\n",
       "      <td>41</td>\n",
       "      <td>63</td>\n",
       "    </tr>\n",
       "    <tr>\n",
       "      <th>4</th>\n",
       "      <td>5</td>\n",
       "      <td>57</td>\n",
       "      <td>76</td>\n",
       "    </tr>\n",
       "  </tbody>\n",
       "</table>\n",
       "</div>"
      ],
      "text/plain": [
       "   student number  english  mathematics\n",
       "0               1       42           65\n",
       "1               2       69           80\n",
       "2               3       56           63\n",
       "3               4       41           63\n",
       "4               5       57           76"
      ]
     },
     "execution_count": 3,
     "metadata": {},
     "output_type": "execute_result"
    }
   ],
   "source": [
    "df = pd.read_csv('./data/ch2_scores_em.csv')\n",
    "df.head()"
   ]
  },
  {
   "cell_type": "code",
   "execution_count": 4,
   "id": "28e16d6e",
   "metadata": {},
   "outputs": [
    {
     "data": {
      "text/plain": [
       "array([42, 69, 56, 41, 57, 48, 65, 49, 65, 58], dtype=int64)"
      ]
     },
     "execution_count": 4,
     "metadata": {},
     "output_type": "execute_result"
    }
   ],
   "source": [
    "scores = np.array(df.english)[:10]\n",
    "scores"
   ]
  },
  {
   "cell_type": "code",
   "execution_count": 5,
   "id": "8b6b9cfa",
   "metadata": {},
   "outputs": [
    {
     "data": {
      "text/html": [
       "<div>\n",
       "<style scoped>\n",
       "    .dataframe tbody tr th:only-of-type {\n",
       "        vertical-align: middle;\n",
       "    }\n",
       "\n",
       "    .dataframe tbody tr th {\n",
       "        vertical-align: top;\n",
       "    }\n",
       "\n",
       "    .dataframe thead th {\n",
       "        text-align: right;\n",
       "    }\n",
       "</style>\n",
       "<table border=\"1\" class=\"dataframe\">\n",
       "  <thead>\n",
       "    <tr style=\"text-align: right;\">\n",
       "      <th></th>\n",
       "      <th>score</th>\n",
       "    </tr>\n",
       "    <tr>\n",
       "      <th>student</th>\n",
       "      <th></th>\n",
       "    </tr>\n",
       "  </thead>\n",
       "  <tbody>\n",
       "    <tr>\n",
       "      <th>A</th>\n",
       "      <td>42</td>\n",
       "    </tr>\n",
       "    <tr>\n",
       "      <th>B</th>\n",
       "      <td>69</td>\n",
       "    </tr>\n",
       "    <tr>\n",
       "      <th>C</th>\n",
       "      <td>56</td>\n",
       "    </tr>\n",
       "    <tr>\n",
       "      <th>D</th>\n",
       "      <td>41</td>\n",
       "    </tr>\n",
       "    <tr>\n",
       "      <th>E</th>\n",
       "      <td>57</td>\n",
       "    </tr>\n",
       "    <tr>\n",
       "      <th>F</th>\n",
       "      <td>48</td>\n",
       "    </tr>\n",
       "    <tr>\n",
       "      <th>G</th>\n",
       "      <td>65</td>\n",
       "    </tr>\n",
       "    <tr>\n",
       "      <th>H</th>\n",
       "      <td>49</td>\n",
       "    </tr>\n",
       "    <tr>\n",
       "      <th>I</th>\n",
       "      <td>65</td>\n",
       "    </tr>\n",
       "    <tr>\n",
       "      <th>J</th>\n",
       "      <td>58</td>\n",
       "    </tr>\n",
       "  </tbody>\n",
       "</table>\n",
       "</div>"
      ],
      "text/plain": [
       "         score\n",
       "student       \n",
       "A           42\n",
       "B           69\n",
       "C           56\n",
       "D           41\n",
       "E           57\n",
       "F           48\n",
       "G           65\n",
       "H           49\n",
       "I           65\n",
       "J           58"
      ]
     },
     "execution_count": 5,
     "metadata": {},
     "output_type": "execute_result"
    }
   ],
   "source": [
    "score_df = pd.DataFrame({'score':scores},\n",
    "                       index = \n",
    "                        pd.Index(['A','B','C','D','E','F','G','H','I','J'],\n",
    "                       name = 'student'))\n",
    "score_df"
   ]
  },
  {
   "cell_type": "code",
   "execution_count": 6,
   "id": "ec09e6d3",
   "metadata": {},
   "outputs": [
    {
     "name": "stdout",
     "output_type": "stream",
     "text": [
      "55.0\n",
      "55.0 55.0\n",
      "score    55.0\n",
      "dtype: float64\n"
     ]
    }
   ],
   "source": [
    "# 평균값\n",
    "print(sum(scores)/len(scores))\n",
    "print(np.mean(scores), scores.mean())\n",
    "print(score_df.mean())"
   ]
  },
  {
   "cell_type": "code",
   "execution_count": 7,
   "id": "6e840fe1",
   "metadata": {},
   "outputs": [
    {
     "name": "stdout",
     "output_type": "stream",
     "text": [
      "[41 42 48 49 56 57 58 65 65 69]\n",
      "56.5\n",
      "56.5\n",
      "score    56.5\n",
      "dtype: float64\n"
     ]
    }
   ],
   "source": [
    "# 중앙값\n",
    "sorted_scores = np.sort(scores)\n",
    "print(sorted_scores)\n",
    "if len(sorted_scores)%2==1: # 집단이 홀수 개일 때\n",
    "    n = sorted_scores[len(sorted_scores)//2+1]\n",
    "else: # 집단이 짝수 개일 때\n",
    "    n1 = sorted_scores[len(sorted_scores)//2-1]\n",
    "    n2 = sorted_scores[len(sorted_scores)//2]\n",
    "    n = (n1+n2)/2\n",
    "print(n)\n",
    "\n",
    "print(np.median(scores))\n",
    "print(score_df.median())"
   ]
  },
  {
   "cell_type": "code",
   "execution_count": 8,
   "id": "6ab4fe68",
   "metadata": {},
   "outputs": [
    {
     "data": {
      "text/plain": [
       "0    1\n",
       "dtype: int64"
      ]
     },
     "execution_count": 8,
     "metadata": {},
     "output_type": "execute_result"
    }
   ],
   "source": [
    "# 최빈값\n",
    "pd.Series([1,1,1,2,2,3]).mode()"
   ]
  },
  {
   "cell_type": "code",
   "execution_count": 9,
   "id": "35995138",
   "metadata": {},
   "outputs": [
    {
     "name": "stdout",
     "output_type": "stream",
     "text": [
      "55.0\n",
      "[-13.  14.   1. -14.   2.  -7.  10.  -6.  10.   3.]\n"
     ]
    }
   ],
   "source": [
    "# 분산과 표준편차\n",
    "mean = np.mean(scores)\n",
    "print(mean)\n",
    "deviation = scores - mean\n",
    "print(deviation)\n",
    "# 편차를 다 더하면 0이 나온다.\n",
    "# 편차란 요소값과 평균간의 거리.\n",
    "# 분산은 편차 제곱의 평균"
   ]
  },
  {
   "cell_type": "code",
   "execution_count": 10,
   "id": "077c8170",
   "metadata": {},
   "outputs": [
    {
     "data": {
      "text/plain": [
       "0.0"
      ]
     },
     "execution_count": 10,
     "metadata": {},
     "output_type": "execute_result"
    }
   ],
   "source": [
    "np.mean(deviation) # 합이 0이니 평균도 0일 수밖에"
   ]
  },
  {
   "cell_type": "code",
   "execution_count": 11,
   "id": "49a10a10",
   "metadata": {},
   "outputs": [
    {
     "name": "stdout",
     "output_type": "stream",
     "text": [
      "[14 10  8 10 14 16  6  8  2 25  8 15 26 18 18  1 14 26 10 16]\n",
      "13.25\n",
      "[  0.75  -3.25  -5.25  -3.25   0.75   2.75  -7.25  -5.25 -11.25  11.75\n",
      "  -5.25   1.75  12.75   4.75   4.75 -12.25   0.75  12.75  -3.25   2.75]\n",
      "0.0\n"
     ]
    }
   ],
   "source": [
    "# [연습문제] 20개 원소로 구성되는 배열을 만든 후\n",
    "# 평균, 편차 및 편차의 합을 구하세요.\n",
    "ar = np.random.randint(1,30,20)\n",
    "np.random.seed(0)\n",
    "# 평균\n",
    "print(ar)\n",
    "print(np.mean(ar))\n",
    "# 편차\n",
    "devi = ar - np.mean(ar)\n",
    "print(devi)\n",
    "# 편차의 합\n",
    "print(np.sum(devi))"
   ]
  },
  {
   "cell_type": "code",
   "execution_count": 12,
   "id": "7abee696",
   "metadata": {},
   "outputs": [
    {
     "data": {
      "text/plain": [
       "<AxesSubplot:>"
      ]
     },
     "execution_count": 12,
     "metadata": {},
     "output_type": "execute_result"
    },
    {
     "data": {
      "image/png": "[encoded data removed]",
      "text/plain": [
       "<Figure size 432x288 with 1 Axes>"
      ]
     },
     "metadata": {
      "needs_background": "light"
     },
     "output_type": "display_data"
    }
   ],
   "source": [
    "adf = pd.DataFrame(ar)\n",
    "adf.plot()"
   ]
  },
  {
   "cell_type": "markdown",
   "id": "5338a712",
   "metadata": {},
   "source": [
    "## 분산\n",
    "- Numpy와 Pandas는 서로 다른 분산을 기본으로 설정하여 계산\n",
    "  * Numpy는 표본분산, Pandas는 불편분산(편향이 없는 분산)\n",
    "  * Pandas에서 표본분산을 계산하려면 var 메소드의 인수를 ddof = 0 이라고 설정,<br>\n",
    "      불편분산은 ddof = 1일 때 해당됨.<br>\n",
    "- 일반적으로 우리가 생각하는 분산은 표본분산.<br>\n",
    "    불편분산을 좀 더 심도 있게 이해해야 헷갈리지 않음.<br>\n",
    "    불편분산은 표본분산보다 값이 조금 더 커서, 모분산과의 격차를 줄인 것임\n",
    "-두 방식의 차이가 뭐냐, 자유도(degree of freedom)의 차이임.<br>"
   ]
  },
  {
   "cell_type": "code",
   "execution_count": 13,
   "id": "74df0065",
   "metadata": {},
   "outputs": [
    {
     "name": "stdout",
     "output_type": "stream",
     "text": [
      "86.0\n",
      "86.0\n"
     ]
    }
   ],
   "source": [
    "# 위에서 구했던 성적의 편차를 제곱하고 평균을 내보자.\n",
    "# 앞서 말했듯 분산은 편차 제곱의 평균임.\n",
    "print(np.mean(deviation ** 2))\n",
    "# 표본분산도 알아보자.\n",
    "print(np.var(scores))"
   ]
  },
  {
   "cell_type": "code",
   "execution_count": 14,
   "id": "91fdd028",
   "metadata": {},
   "outputs": [
    {
     "name": "stdout",
     "output_type": "stream",
     "text": [
      "score    95.555556\n",
      "dtype: float64\n"
     ]
    }
   ],
   "source": [
    "# pandas로 구해보자.\n",
    "print(score_df.var())\n",
    "# 값이 다르다. 불편분산으로 계산했기 때문이다.\n",
    "# 일반적인 분산의 개념은 위의 numpy의 표본분산이다.\n",
    "# 값의 정확도는 불편분산이 더 좋음. 모집단의 분산을 추정하기엔 이게 더 유리하단 뜻"
   ]
  },
  {
   "cell_type": "code",
   "execution_count": 15,
   "id": "3e649225",
   "metadata": {},
   "outputs": [
    {
     "data": {
      "text/html": [
       "<div>\n",
       "<style scoped>\n",
       "    .dataframe tbody tr th:only-of-type {\n",
       "        vertical-align: middle;\n",
       "    }\n",
       "\n",
       "    .dataframe tbody tr th {\n",
       "        vertical-align: top;\n",
       "    }\n",
       "\n",
       "    .dataframe thead th {\n",
       "        text-align: right;\n",
       "    }\n",
       "</style>\n",
       "<table border=\"1\" class=\"dataframe\">\n",
       "  <thead>\n",
       "    <tr style=\"text-align: right;\">\n",
       "      <th></th>\n",
       "      <th>score</th>\n",
       "      <th>deviation</th>\n",
       "      <th>square of deviation</th>\n",
       "    </tr>\n",
       "    <tr>\n",
       "      <th>student</th>\n",
       "      <th></th>\n",
       "      <th></th>\n",
       "      <th></th>\n",
       "    </tr>\n",
       "  </thead>\n",
       "  <tbody>\n",
       "    <tr>\n",
       "      <th>A</th>\n",
       "      <td>42</td>\n",
       "      <td>-13.0</td>\n",
       "      <td>169.0</td>\n",
       "    </tr>\n",
       "    <tr>\n",
       "      <th>B</th>\n",
       "      <td>69</td>\n",
       "      <td>14.0</td>\n",
       "      <td>196.0</td>\n",
       "    </tr>\n",
       "    <tr>\n",
       "      <th>C</th>\n",
       "      <td>56</td>\n",
       "      <td>1.0</td>\n",
       "      <td>1.0</td>\n",
       "    </tr>\n",
       "    <tr>\n",
       "      <th>D</th>\n",
       "      <td>41</td>\n",
       "      <td>-14.0</td>\n",
       "      <td>196.0</td>\n",
       "    </tr>\n",
       "    <tr>\n",
       "      <th>E</th>\n",
       "      <td>57</td>\n",
       "      <td>2.0</td>\n",
       "      <td>4.0</td>\n",
       "    </tr>\n",
       "    <tr>\n",
       "      <th>F</th>\n",
       "      <td>48</td>\n",
       "      <td>-7.0</td>\n",
       "      <td>49.0</td>\n",
       "    </tr>\n",
       "    <tr>\n",
       "      <th>G</th>\n",
       "      <td>65</td>\n",
       "      <td>10.0</td>\n",
       "      <td>100.0</td>\n",
       "    </tr>\n",
       "    <tr>\n",
       "      <th>H</th>\n",
       "      <td>49</td>\n",
       "      <td>-6.0</td>\n",
       "      <td>36.0</td>\n",
       "    </tr>\n",
       "    <tr>\n",
       "      <th>I</th>\n",
       "      <td>65</td>\n",
       "      <td>10.0</td>\n",
       "      <td>100.0</td>\n",
       "    </tr>\n",
       "    <tr>\n",
       "      <th>J</th>\n",
       "      <td>58</td>\n",
       "      <td>3.0</td>\n",
       "      <td>9.0</td>\n",
       "    </tr>\n",
       "  </tbody>\n",
       "</table>\n",
       "</div>"
      ],
      "text/plain": [
       "         score  deviation  square of deviation\n",
       "student                                       \n",
       "A           42      -13.0                169.0\n",
       "B           69       14.0                196.0\n",
       "C           56        1.0                  1.0\n",
       "D           41      -14.0                196.0\n",
       "E           57        2.0                  4.0\n",
       "F           48       -7.0                 49.0\n",
       "G           65       10.0                100.0\n",
       "H           49       -6.0                 36.0\n",
       "I           65       10.0                100.0\n",
       "J           58        3.0                  9.0"
      ]
     },
     "metadata": {},
     "output_type": "display_data"
    },
    {
     "data": {
      "text/plain": [
       "score                  55.0\n",
       "deviation               0.0\n",
       "square of deviation    86.0\n",
       "dtype: float64"
      ]
     },
     "metadata": {},
     "output_type": "display_data"
    }
   ],
   "source": [
    "df1 = score_df.copy()\n",
    "df1['deviation'] = deviation\n",
    "df1['square of deviation'] = np.square(deviation) # deviation**2\n",
    "display(df1,df1.mean())"
   ]
  },
  {
   "cell_type": "code",
   "execution_count": 16,
   "id": "eb45da19",
   "metadata": {},
   "outputs": [
    {
     "data": {
      "text/plain": [
       "9.273618495495704"
      ]
     },
     "execution_count": 16,
     "metadata": {},
     "output_type": "execute_result"
    }
   ],
   "source": [
    "# 표준편차를 구해보자\n",
    "# sqrt는 루트 씌우는 것임\n",
    "# 표준편차는 분산의 루트값\n",
    "# 편차 제곱의 평균이 분산 ->  그 분산의 루트가 표준편차\n",
    "np.sqrt(np.var(scores,ddof=0))\n",
    "# 자유도가 0인 표본분산을 이용해 표준편차 구하기"
   ]
  },
  {
   "cell_type": "code",
   "execution_count": 17,
   "id": "e80158d6",
   "metadata": {},
   "outputs": [
    {
     "data": {
      "text/plain": [
       "9.273618495495704"
      ]
     },
     "execution_count": 17,
     "metadata": {},
     "output_type": "execute_result"
    }
   ],
   "source": [
    "# 함수를 써서 표준편차를 구한다면?\n",
    "np.std(scores, ddof=0)\n",
    "# 표본분산으로 구한 표준편차.\n",
    "# 기본값이 ddof=0이기 때문에 생략해도 되는데 일단 써봤음"
   ]
  },
  {
   "cell_type": "code",
   "execution_count": 18,
   "id": "cb92a7c8",
   "metadata": {},
   "outputs": [
    {
     "data": {
      "text/plain": [
       "9.775252199076787"
      ]
     },
     "metadata": {},
     "output_type": "display_data"
    },
    {
     "data": {
      "text/plain": [
       "9.775252199076787"
      ]
     },
     "metadata": {},
     "output_type": "display_data"
    }
   ],
   "source": [
    "# 불편분산에 기반한 표준편차를 구한다면?\n",
    "display(np.sqrt(np.var(scores,ddof=1)),\n",
    "       np.std(scores, ddof=1))"
   ]
  },
  {
   "cell_type": "code",
   "execution_count": 19,
   "id": "5acaa82e",
   "metadata": {},
   "outputs": [
    {
     "data": {
      "text/plain": [
       "score                   9.775252\n",
       "deviation               9.775252\n",
       "square of deviation    78.335461\n",
       "dtype: float64"
      ]
     },
     "metadata": {},
     "output_type": "display_data"
    },
    {
     "data": {
      "text/plain": [
       "score                   9.273618\n",
       "deviation               9.273618\n",
       "square of deviation    74.315543\n",
       "dtype: float64"
      ]
     },
     "execution_count": 19,
     "metadata": {},
     "output_type": "execute_result"
    }
   ],
   "source": [
    "# pandas 기본값은 불편분산\n",
    "display(df1.std())\n",
    "# 표본분산으로 하고 싶다면?\n",
    "df1.std(ddof=0)"
   ]
  },
  {
   "cell_type": "code",
   "execution_count": 20,
   "id": "155f375d",
   "metadata": {},
   "outputs": [
    {
     "data": {
      "text/plain": [
       "28"
      ]
     },
     "metadata": {},
     "output_type": "display_data"
    },
    {
     "data": {
      "text/plain": [
       "48.25"
      ]
     },
     "metadata": {},
     "output_type": "display_data"
    },
    {
     "data": {
      "text/plain": [
       "63.25"
      ]
     },
     "metadata": {},
     "output_type": "display_data"
    },
    {
     "data": {
      "text/plain": [
       "15.0"
      ]
     },
     "metadata": {},
     "output_type": "display_data"
    }
   ],
   "source": [
    "# 범위와 4분위수 범위\n",
    "# 범위: 가장 큰 수와 가장 작은 수의 차이(최댓값-최솟값)\n",
    "display(np.max(scores)-np.min(scores))\n",
    "# 4분위 구하기\n",
    "sQ1 = np.percentile(scores,25) # 1사분위\n",
    "sQ3 = np.percentile(scores,75) # 3사분위\n",
    "iqr = sQ3-sQ1\n",
    "display(sQ1,sQ3,iqr)"
   ]
  },
  {
   "cell_type": "code",
   "execution_count": 21,
   "id": "ef98d7c0",
   "metadata": {},
   "outputs": [
    {
     "data": {
      "text/plain": [
       "count    10.000000\n",
       "mean     55.000000\n",
       "std       9.775252\n",
       "min      41.000000\n",
       "25%      48.250000\n",
       "50%      56.500000\n",
       "75%      63.250000\n",
       "max      69.000000\n",
       "dtype: float64"
      ]
     },
     "execution_count": 21,
     "metadata": {},
     "output_type": "execute_result"
    }
   ],
   "source": [
    "# 배열의 통계요약표를 보려면\n",
    "# 시리즈로 바꿔주면 pandas에서 먹힌다!\n",
    "pd.Series(scores).describe()"
   ]
  },
  {
   "cell_type": "code",
   "execution_count": 22,
   "id": "614d99d5",
   "metadata": {},
   "outputs": [
    {
     "name": "stdout",
     "output_type": "stream",
     "text": [
      "평균: 55.0,\n",
      "표준편차: 9.2736\n"
     ]
    }
   ],
   "source": [
    "# 데이터 정규화\n",
    "print(f'''평균: {scores.mean()},\n",
    "표준편차: {scores.std().round(4)}''')"
   ]
  },
  {
   "cell_type": "code",
   "execution_count": 23,
   "id": "f8bf8aa9",
   "metadata": {},
   "outputs": [
    {
     "data": {
      "text/plain": [
       "array([-1.40182605,  1.50965882,  0.10783277, -1.50965882,  0.21566555,\n",
       "       -0.75482941,  1.07832773, -0.64699664,  1.07832773,  0.32349832])"
      ]
     },
     "metadata": {},
     "output_type": "display_data"
    },
    {
     "data": {
      "text/plain": [
       "-1.6653345369377347e-17"
      ]
     },
     "metadata": {},
     "output_type": "display_data"
    },
    {
     "data": {
      "text/plain": [
       "0.9999999999999999"
      ]
     },
     "metadata": {},
     "output_type": "display_data"
    }
   ],
   "source": [
    "# 표준화 하기 - z_score 이용\n",
    "z = (scores-scores.mean())/scores.std()\n",
    "display(z,z.mean(), z.std())\n",
    "# 표준화했기 때문에 평균이 0, 표준편차가 1인 정규분포의 형태로 바뀐다."
   ]
  },
  {
   "cell_type": "code",
   "execution_count": 24,
   "id": "971fa0ea",
   "metadata": {},
   "outputs": [
    {
     "data": {
      "text/plain": [
       "array([35.98173948, 65.09658825, 51.07832773, 34.90341175, 52.15665546,\n",
       "       42.45170588, 60.78327732, 43.53003361, 60.78327732, 53.2349832 ])"
      ]
     },
     "execution_count": 24,
     "metadata": {},
     "output_type": "execute_result"
    }
   ],
   "source": [
    "z1 = 50+10*z\n",
    "z1"
   ]
  },
  {
   "cell_type": "code",
   "execution_count": 25,
   "id": "591823eb",
   "metadata": {},
   "outputs": [
    {
     "data": {
      "text/html": [
       "<div>\n",
       "<style scoped>\n",
       "    .dataframe tbody tr th:only-of-type {\n",
       "        vertical-align: middle;\n",
       "    }\n",
       "\n",
       "    .dataframe tbody tr th {\n",
       "        vertical-align: top;\n",
       "    }\n",
       "\n",
       "    .dataframe thead th {\n",
       "        text-align: right;\n",
       "    }\n",
       "</style>\n",
       "<table border=\"1\" class=\"dataframe\">\n",
       "  <thead>\n",
       "    <tr style=\"text-align: right;\">\n",
       "      <th></th>\n",
       "      <th>score</th>\n",
       "      <th>deviation_value</th>\n",
       "    </tr>\n",
       "    <tr>\n",
       "      <th>student</th>\n",
       "      <th></th>\n",
       "      <th></th>\n",
       "    </tr>\n",
       "  </thead>\n",
       "  <tbody>\n",
       "    <tr>\n",
       "      <th>A</th>\n",
       "      <td>42</td>\n",
       "      <td>35.981739</td>\n",
       "    </tr>\n",
       "    <tr>\n",
       "      <th>B</th>\n",
       "      <td>69</td>\n",
       "      <td>65.096588</td>\n",
       "    </tr>\n",
       "    <tr>\n",
       "      <th>C</th>\n",
       "      <td>56</td>\n",
       "      <td>51.078328</td>\n",
       "    </tr>\n",
       "    <tr>\n",
       "      <th>D</th>\n",
       "      <td>41</td>\n",
       "      <td>34.903412</td>\n",
       "    </tr>\n",
       "    <tr>\n",
       "      <th>E</th>\n",
       "      <td>57</td>\n",
       "      <td>52.156655</td>\n",
       "    </tr>\n",
       "    <tr>\n",
       "      <th>F</th>\n",
       "      <td>48</td>\n",
       "      <td>42.451706</td>\n",
       "    </tr>\n",
       "    <tr>\n",
       "      <th>G</th>\n",
       "      <td>65</td>\n",
       "      <td>60.783277</td>\n",
       "    </tr>\n",
       "    <tr>\n",
       "      <th>H</th>\n",
       "      <td>49</td>\n",
       "      <td>43.530034</td>\n",
       "    </tr>\n",
       "    <tr>\n",
       "      <th>I</th>\n",
       "      <td>65</td>\n",
       "      <td>60.783277</td>\n",
       "    </tr>\n",
       "    <tr>\n",
       "      <th>J</th>\n",
       "      <td>58</td>\n",
       "      <td>53.234983</td>\n",
       "    </tr>\n",
       "  </tbody>\n",
       "</table>\n",
       "</div>"
      ],
      "text/plain": [
       "         score  deviation_value\n",
       "student                        \n",
       "A           42        35.981739\n",
       "B           69        65.096588\n",
       "C           56        51.078328\n",
       "D           41        34.903412\n",
       "E           57        52.156655\n",
       "F           48        42.451706\n",
       "G           65        60.783277\n",
       "H           49        43.530034\n",
       "I           65        60.783277\n",
       "J           58        53.234983"
      ]
     },
     "execution_count": 25,
     "metadata": {},
     "output_type": "execute_result"
    }
   ],
   "source": [
    "score_df['deviation_value'] = z1\n",
    "score_df\n",
    "# 이 컬럼을 왜 만들었는지 잘 모르겠음...\n",
    "# 동일한 분포를 가진(균일분포) 데이터를 말한 거 같은디"
   ]
  },
  {
   "cell_type": "code",
   "execution_count": 26,
   "id": "1d7e5cce",
   "metadata": {
    "scrolled": true
   },
   "outputs": [
    {
     "data": {
      "text/plain": [
       "count    50.000000\n",
       "mean     58.380000\n",
       "std       9.799813\n",
       "min      37.000000\n",
       "25%      54.000000\n",
       "50%      57.500000\n",
       "75%      65.000000\n",
       "max      79.000000\n",
       "dtype: float64"
      ]
     },
     "execution_count": 26,
     "metadata": {},
     "output_type": "execute_result"
    }
   ],
   "source": [
    "eng_scores = np.array(df.english)\n",
    "pd.Series(eng_scores).describe()\n",
    "# 영어 공부 좀 하자 얘들아"
   ]
  },
  {
   "cell_type": "code",
   "execution_count": 27,
   "id": "070fc063",
   "metadata": {},
   "outputs": [
    {
     "data": {
      "text/plain": [
       "54.0"
      ]
     },
     "metadata": {},
     "output_type": "display_data"
    },
    {
     "data": {
      "text/plain": [
       "65.0"
      ]
     },
     "metadata": {},
     "output_type": "display_data"
    }
   ],
   "source": [
    "display(np.percentile(eng_scores,25),np.percentile(eng_scores,75))\n",
    "# 위의 통계요약표에 나온 것과 값이 같다잉~"
   ]
  },
  {
   "cell_type": "code",
   "execution_count": 28,
   "id": "13a356be",
   "metadata": {},
   "outputs": [
    {
     "data": {
      "text/plain": [
       "array([ 0,  0,  0,  2,  8, 16, 18,  6,  0,  0], dtype=int64)"
      ]
     },
     "execution_count": 28,
     "metadata": {},
     "output_type": "execute_result"
    }
   ],
   "source": [
    "# 도수 분포표를 만들어 볼까용?\n",
    "freq, _ = np.histogram(eng_scores, bins=10, range=(0,100))\n",
    "freq\n",
    "# np.histogram 함수를 쓰면 값 2개가 반환되는데\n",
    "# 그 중 앞의 값만 취한 것이 빈도임\n",
    "# 사실 뒤의 값은 100의 범위를 10의 bins로 나눈 것들의 목록이라\n",
    "# 중요하진 않음,,,"
   ]
  },
  {
   "cell_type": "code",
   "execution_count": 29,
   "id": "acdc3a2d",
   "metadata": {},
   "outputs": [
    {
     "data": {
      "text/html": [
       "<div>\n",
       "<style scoped>\n",
       "    .dataframe tbody tr th:only-of-type {\n",
       "        vertical-align: middle;\n",
       "    }\n",
       "\n",
       "    .dataframe tbody tr th {\n",
       "        vertical-align: top;\n",
       "    }\n",
       "\n",
       "    .dataframe thead th {\n",
       "        text-align: right;\n",
       "    }\n",
       "</style>\n",
       "<table border=\"1\" class=\"dataframe\">\n",
       "  <thead>\n",
       "    <tr style=\"text-align: right;\">\n",
       "      <th></th>\n",
       "      <th>frequency</th>\n",
       "    </tr>\n",
       "    <tr>\n",
       "      <th>class</th>\n",
       "      <th></th>\n",
       "    </tr>\n",
       "  </thead>\n",
       "  <tbody>\n",
       "    <tr>\n",
       "      <th>0~10</th>\n",
       "      <td>0</td>\n",
       "    </tr>\n",
       "    <tr>\n",
       "      <th>10~20</th>\n",
       "      <td>0</td>\n",
       "    </tr>\n",
       "    <tr>\n",
       "      <th>20~30</th>\n",
       "      <td>0</td>\n",
       "    </tr>\n",
       "    <tr>\n",
       "      <th>30~40</th>\n",
       "      <td>2</td>\n",
       "    </tr>\n",
       "    <tr>\n",
       "      <th>40~50</th>\n",
       "      <td>8</td>\n",
       "    </tr>\n",
       "    <tr>\n",
       "      <th>50~60</th>\n",
       "      <td>16</td>\n",
       "    </tr>\n",
       "    <tr>\n",
       "      <th>60~70</th>\n",
       "      <td>18</td>\n",
       "    </tr>\n",
       "    <tr>\n",
       "      <th>70~80</th>\n",
       "      <td>6</td>\n",
       "    </tr>\n",
       "    <tr>\n",
       "      <th>80~90</th>\n",
       "      <td>0</td>\n",
       "    </tr>\n",
       "    <tr>\n",
       "      <th>90~100</th>\n",
       "      <td>0</td>\n",
       "    </tr>\n",
       "  </tbody>\n",
       "</table>\n",
       "</div>"
      ],
      "text/plain": [
       "        frequency\n",
       "class            \n",
       "0~10            0\n",
       "10~20           0\n",
       "20~30           0\n",
       "30~40           2\n",
       "40~50           8\n",
       "50~60          16\n",
       "60~70          18\n",
       "70~80           6\n",
       "80~90           0\n",
       "90~100          0"
      ]
     },
     "execution_count": 29,
     "metadata": {},
     "output_type": "execute_result"
    }
   ],
   "source": [
    "freq_class = [f'{i}~{i+10}' for i in range(0,100,10)]\n",
    "freq_dist_df = pd.DataFrame({'frequency':freq},\n",
    "                           index=pd.Index(freq_class, name='class'))\n",
    "freq_dist_df\n",
    "# 히스토그램 그린 걸 표로 바꾼 거나 마찬 가지임"
   ]
  },
  {
   "cell_type": "code",
   "execution_count": 30,
   "id": "85e06cbc",
   "metadata": {
    "scrolled": true
   },
   "outputs": [
    {
     "data": {
      "text/plain": [
       "[5, 15, 25, 35, 45, 55, 65, 75, 85, 95]"
      ]
     },
     "execution_count": 30,
     "metadata": {},
     "output_type": "execute_result"
    }
   ],
   "source": [
    "# 계급값: 각 계급을 대표하는 값으로 계급의 중앙값\n",
    "class_value = [(i+(i+10))//2 for i in range(0,100,10)]\n",
    "class_value\n",
    "# 각 계급(0~10, 10~20 등등)의 중앙값들을 구해보았다."
   ]
  },
  {
   "cell_type": "code",
   "execution_count": null,
   "id": "de13c071",
   "metadata": {},
   "outputs": [],
   "source": []
  },
  {
   "cell_type": "code",
   "execution_count": 31,
   "id": "33d012a5",
   "metadata": {},
   "outputs": [
    {
     "data": {
      "text/plain": [
       "array([0.  , 0.  , 0.  , 0.04, 0.16, 0.32, 0.36, 0.12, 0.  , 0.  ])"
      ]
     },
     "execution_count": 31,
     "metadata": {},
     "output_type": "execute_result"
    }
   ],
   "source": [
    "# 상대도수(relative frequency): 해당 계급의 데이터의 상대적인 비율\n",
    "# 도수는 즉 빈도수 라고 생각하자.\n",
    "rel_freq = freq/freq.sum()\n",
    "rel_freq\n",
    "# 빈도를 상대적인 수치화한 것임\n",
    "# 비율이기 때문에 총합은 1이다. 상대적인 비율임"
   ]
  },
  {
   "cell_type": "code",
   "execution_count": 32,
   "id": "6bfd23bf",
   "metadata": {},
   "outputs": [
    {
     "data": {
      "text/plain": [
       "array([0.  , 0.  , 0.  , 0.04, 0.2 , 0.52, 0.88, 1.  , 1.  , 1.  ])"
      ]
     },
     "execution_count": 32,
     "metadata": {},
     "output_type": "execute_result"
    }
   ],
   "source": [
    "# 누적상대도수: 해당 계급까지의 상대도수의 합을 누적한 것\n",
    "cum_rel_freq = np.cumsum(rel_freq)\n",
    "cum_rel_freq"
   ]
  },
  {
   "cell_type": "code",
   "execution_count": 33,
   "id": "3c85372b",
   "metadata": {},
   "outputs": [
    {
     "data": {
      "text/html": [
       "<div>\n",
       "<style scoped>\n",
       "    .dataframe tbody tr th:only-of-type {\n",
       "        vertical-align: middle;\n",
       "    }\n",
       "\n",
       "    .dataframe tbody tr th {\n",
       "        vertical-align: top;\n",
       "    }\n",
       "\n",
       "    .dataframe thead th {\n",
       "        text-align: right;\n",
       "    }\n",
       "</style>\n",
       "<table border=\"1\" class=\"dataframe\">\n",
       "  <thead>\n",
       "    <tr style=\"text-align: right;\">\n",
       "      <th></th>\n",
       "      <th>frequency</th>\n",
       "      <th>class value</th>\n",
       "      <th>relative frequency</th>\n",
       "      <th>cumulative relative frequency</th>\n",
       "    </tr>\n",
       "    <tr>\n",
       "      <th>class</th>\n",
       "      <th></th>\n",
       "      <th></th>\n",
       "      <th></th>\n",
       "      <th></th>\n",
       "    </tr>\n",
       "  </thead>\n",
       "  <tbody>\n",
       "    <tr>\n",
       "      <th>0~10</th>\n",
       "      <td>0</td>\n",
       "      <td>5</td>\n",
       "      <td>0.00</td>\n",
       "      <td>0.00</td>\n",
       "    </tr>\n",
       "    <tr>\n",
       "      <th>10~20</th>\n",
       "      <td>0</td>\n",
       "      <td>15</td>\n",
       "      <td>0.00</td>\n",
       "      <td>0.00</td>\n",
       "    </tr>\n",
       "    <tr>\n",
       "      <th>20~30</th>\n",
       "      <td>0</td>\n",
       "      <td>25</td>\n",
       "      <td>0.00</td>\n",
       "      <td>0.00</td>\n",
       "    </tr>\n",
       "    <tr>\n",
       "      <th>30~40</th>\n",
       "      <td>2</td>\n",
       "      <td>35</td>\n",
       "      <td>0.04</td>\n",
       "      <td>0.04</td>\n",
       "    </tr>\n",
       "    <tr>\n",
       "      <th>40~50</th>\n",
       "      <td>8</td>\n",
       "      <td>45</td>\n",
       "      <td>0.16</td>\n",
       "      <td>0.20</td>\n",
       "    </tr>\n",
       "    <tr>\n",
       "      <th>50~60</th>\n",
       "      <td>16</td>\n",
       "      <td>55</td>\n",
       "      <td>0.32</td>\n",
       "      <td>0.52</td>\n",
       "    </tr>\n",
       "    <tr>\n",
       "      <th>60~70</th>\n",
       "      <td>18</td>\n",
       "      <td>65</td>\n",
       "      <td>0.36</td>\n",
       "      <td>0.88</td>\n",
       "    </tr>\n",
       "    <tr>\n",
       "      <th>70~80</th>\n",
       "      <td>6</td>\n",
       "      <td>75</td>\n",
       "      <td>0.12</td>\n",
       "      <td>1.00</td>\n",
       "    </tr>\n",
       "    <tr>\n",
       "      <th>80~90</th>\n",
       "      <td>0</td>\n",
       "      <td>85</td>\n",
       "      <td>0.00</td>\n",
       "      <td>1.00</td>\n",
       "    </tr>\n",
       "    <tr>\n",
       "      <th>90~100</th>\n",
       "      <td>0</td>\n",
       "      <td>95</td>\n",
       "      <td>0.00</td>\n",
       "      <td>1.00</td>\n",
       "    </tr>\n",
       "  </tbody>\n",
       "</table>\n",
       "</div>"
      ],
      "text/plain": [
       "        frequency  class value  relative frequency  \\\n",
       "class                                                \n",
       "0~10            0            5                0.00   \n",
       "10~20           0           15                0.00   \n",
       "20~30           0           25                0.00   \n",
       "30~40           2           35                0.04   \n",
       "40~50           8           45                0.16   \n",
       "50~60          16           55                0.32   \n",
       "60~70          18           65                0.36   \n",
       "70~80           6           75                0.12   \n",
       "80~90           0           85                0.00   \n",
       "90~100          0           95                0.00   \n",
       "\n",
       "        cumulative relative frequency  \n",
       "class                                  \n",
       "0~10                             0.00  \n",
       "10~20                            0.00  \n",
       "20~30                            0.00  \n",
       "30~40                            0.04  \n",
       "40~50                            0.20  \n",
       "50~60                            0.52  \n",
       "60~70                            0.88  \n",
       "70~80                            1.00  \n",
       "80~90                            1.00  \n",
       "90~100                           1.00  "
      ]
     },
     "execution_count": 33,
     "metadata": {},
     "output_type": "execute_result"
    }
   ],
   "source": [
    "freq_dist_df['class value'] = class_value # 중앙값\n",
    "freq_dist_df['relative frequency'] = rel_freq # 상대도수\n",
    "freq_dist_df['cumulative relative frequency'] = cum_rel_freq # 누적상대도수\n",
    "freq_dist_df"
   ]
  },
  {
   "cell_type": "code",
   "execution_count": 34,
   "id": "6b465641",
   "metadata": {},
   "outputs": [
    {
     "data": {
      "text/plain": [
       "65"
      ]
     },
     "execution_count": 34,
     "metadata": {},
     "output_type": "execute_result"
    }
   ],
   "source": [
    "# 각 칼럼에서의 최빈값\n",
    "freq_dist_df.loc[freq_dist_df['frequency'].idxmax(),'class value']\n",
    "# idxmax, idxmin 함수는 칼럼 내에서 최댓값, 최솟값의 인덱스를 알려줌\n",
    "# 그러면 frequency의 값이 최대 또는 최소인 인덱스 값을 가지는 행의 값을\n",
    "# 열 조건 컬럼에 맞춰서 출력해주는 원리임"
   ]
  },
  {
   "cell_type": "code",
   "execution_count": 63,
   "id": "712689b3",
   "metadata": {},
   "outputs": [
    {
     "data": {
      "image/png": "[encoded data removed]",
      "text/plain": [
       "<Figure size 864x432 with 2 Axes>"
      ]
     },
     "metadata": {
      "needs_background": "light"
     },
     "output_type": "display_data"
    }
   ],
   "source": [
    "import matplotlib.pyplot as plt\n",
    "fig = plt.figure(figsize=(12,6))\n",
    "ax1 = fig.add_subplot(121) # 1,2,1이랑 같은 말임\n",
    "ax2 = fig.add_subplot(122)\n",
    "freq,_,_ = ax1.hist(eng_scores,bins=10,range=(0,100),\n",
    "                   color='cornflowerblue')\n",
    "freq,_,_ = ax2.hist(eng_scores,bins=50,range=(0,100),\n",
    "                   color='cornflowerblue')\n",
    "# 3가지 값이 나오는데 거기서 첫 번째 값만 freq에 저장해서 쓸 거임\n",
    "# 나머진 필요 없어서 변수 선언 안 함\n",
    "# 두 번째 값은 걍 1칸이 10인 배열이고 세 번째는 바 형태의 10개 짜리 무엇이란 뜻이라서\n",
    "# 별로 필요하진 않은 값이라 맨 앞의 것만 챙긴 거임\n",
    "ax1.set_xlabel('Score')\n",
    "ax1.set_ylabel('Person Number')\n",
    "ax1.set_xticks(np.linspace(0,100,10+1))\n",
    "ax1.set_yticks(np.arange(0,freq.max()+1))\n",
    "ax2.set_xlabel('Score')\n",
    "ax2.set_ylabel('Person Number')\n",
    "ax2.set_xticks(np.linspace(0,100,10+1))\n",
    "ax2.set_yticks(np.arange(0,freq.max()+1))\n",
    "plt.show()\n",
    "plt.close()\n",
    "\n",
    "# 계급은 가로축 각 1칸씩. 중앙값은 그 가운데\n",
    "# 상대도수는 person number(frequency)를 frequency의 총합으로 나눈 것\n",
    "# 범주화 할 때 범주의 크기도 중요함. bins 값에 변화를 줬을 때\n",
    "# 히스토그램 모양이 바뀐다.\n",
    "# 따라서 어떻게 했을 때 데이터가 가장 합리적인지 생각했을 때 그 근거가 있어야 함."
   ]
  },
  {
   "cell_type": "code",
   "execution_count": 36,
   "id": "d438f70e",
   "metadata": {},
   "outputs": [
    {
     "data": {
      "image/png": "[encoded data removed]",
      "text/plain": [
       "<Figure size 864x432 with 2 Axes>"
      ]
     },
     "metadata": {
      "needs_background": "light"
     },
     "output_type": "display_data"
    }
   ],
   "source": [
    "fig = plt.figure(figsize=(12,6))\n",
    "ax1 = fig.add_subplot(111) # 1,1,1이랑 같은 말임\n",
    "# y축의 스케일이 다른 그래프를 ax1과 동일한 영역에 생성해 보자.\n",
    "# 그러려면 y축을 2종류로 사용해야 함.\n",
    "ax2 = ax1.twinx()\n",
    "weights = np.ones_like(eng_scores)/len(eng_scores)\n",
    "# weight의 의미?\n",
    "# 상대도수의 히스토그램으로 만들기 위해서는\n",
    "# 도수를 데이터의 수로 나눠야 함\n",
    "rel_freq,_,_ = ax1.hist(eng_scores,bins=25,range=(0,100),\n",
    "                        weights=weights, color='cornflowerblue')\n",
    "cum_rel_freq = np.cumsum(rel_freq)\n",
    "class_value = [(i+(i+4))//2 for i in range(0,100,4)]\n",
    "# 클래스 밸류는 x열이며, 각 칸의 중앙값을 1칸으로 한다\n",
    "\n",
    "ax2.plot(class_value, cum_rel_freq, ls='--',marker='o',color='gray')\n",
    "ax2.grid(visible=True)\n",
    "\n",
    "ax1.set_xlabel('Score')\n",
    "ax1.set_ylabel('Person Number')\n",
    "ax1.set_xticks(np.linspace(0,100,25+1))\n",
    "\n",
    "plt.show()\n",
    "plt.close()"
   ]
  },
  {
   "cell_type": "code",
   "execution_count": 37,
   "id": "04d14deb",
   "metadata": {},
   "outputs": [
    {
     "data": {
      "image/png": "[encoded data removed]",
      "text/plain": [
       "<Figure size 360x432 with 1 Axes>"
      ]
     },
     "metadata": {
      "needs_background": "light"
     },
     "output_type": "display_data"
    }
   ],
   "source": [
    "# box plot(상자그림)\n",
    "fig = plt.figure(figsize=(5,6))\n",
    "ax = fig.add_subplot(111)\n",
    "ax.boxplot(eng_scores,labels=['English'])\n",
    "plt.show()\n",
    "plt.close()"
   ]
  },
  {
   "cell_type": "markdown",
   "id": "425a7a30",
   "metadata": {},
   "source": [
    "## 2차원 데이터\n"
   ]
  },
  {
   "cell_type": "code",
   "execution_count": 38,
   "id": "95263a34",
   "metadata": {},
   "outputs": [
    {
     "data": {
      "text/html": [
       "<div>\n",
       "<style scoped>\n",
       "    .dataframe tbody tr th:only-of-type {\n",
       "        vertical-align: middle;\n",
       "    }\n",
       "\n",
       "    .dataframe tbody tr th {\n",
       "        vertical-align: top;\n",
       "    }\n",
       "\n",
       "    .dataframe thead th {\n",
       "        text-align: right;\n",
       "    }\n",
       "</style>\n",
       "<table border=\"1\" class=\"dataframe\">\n",
       "  <thead>\n",
       "    <tr style=\"text-align: right;\">\n",
       "      <th></th>\n",
       "      <th>english</th>\n",
       "      <th>mathematics</th>\n",
       "    </tr>\n",
       "    <tr>\n",
       "      <th>student</th>\n",
       "      <th></th>\n",
       "      <th></th>\n",
       "    </tr>\n",
       "  </thead>\n",
       "  <tbody>\n",
       "    <tr>\n",
       "      <th>A</th>\n",
       "      <td>42</td>\n",
       "      <td>65</td>\n",
       "    </tr>\n",
       "    <tr>\n",
       "      <th>B</th>\n",
       "      <td>69</td>\n",
       "      <td>80</td>\n",
       "    </tr>\n",
       "    <tr>\n",
       "      <th>C</th>\n",
       "      <td>56</td>\n",
       "      <td>63</td>\n",
       "    </tr>\n",
       "    <tr>\n",
       "      <th>D</th>\n",
       "      <td>41</td>\n",
       "      <td>63</td>\n",
       "    </tr>\n",
       "    <tr>\n",
       "      <th>E</th>\n",
       "      <td>57</td>\n",
       "      <td>76</td>\n",
       "    </tr>\n",
       "    <tr>\n",
       "      <th>F</th>\n",
       "      <td>48</td>\n",
       "      <td>60</td>\n",
       "    </tr>\n",
       "    <tr>\n",
       "      <th>G</th>\n",
       "      <td>65</td>\n",
       "      <td>81</td>\n",
       "    </tr>\n",
       "    <tr>\n",
       "      <th>H</th>\n",
       "      <td>49</td>\n",
       "      <td>66</td>\n",
       "    </tr>\n",
       "    <tr>\n",
       "      <th>I</th>\n",
       "      <td>65</td>\n",
       "      <td>78</td>\n",
       "    </tr>\n",
       "    <tr>\n",
       "      <th>J</th>\n",
       "      <td>58</td>\n",
       "      <td>82</td>\n",
       "    </tr>\n",
       "  </tbody>\n",
       "</table>\n",
       "</div>"
      ],
      "text/plain": [
       "         english  mathematics\n",
       "student                      \n",
       "A             42           65\n",
       "B             69           80\n",
       "C             56           63\n",
       "D             41           63\n",
       "E             57           76\n",
       "F             48           60\n",
       "G             65           81\n",
       "H             49           66\n",
       "I             65           78\n",
       "J             58           82"
      ]
     },
     "execution_count": 38,
     "metadata": {},
     "output_type": "execute_result"
    }
   ],
   "source": [
    "df = pd.read_csv('./data/ch2_scores_em.csv',index_col='student number')\n",
    "\n",
    "en_scores = np.array(df.english)[:10]\n",
    "mt_scores = np.array(df.mathematics)[:10]\n",
    "sdf = pd.DataFrame({'english':en_scores,\n",
    "                   'mathematics':mt_scores},\n",
    "                  index = \n",
    "                        pd.Index(['A','B','C','D','E','F','G','H','I','J'],\n",
    "                       name = 'student'))\n",
    "sdf"
   ]
  },
  {
   "cell_type": "code",
   "execution_count": 39,
   "id": "7d5b8d3e",
   "metadata": {},
   "outputs": [
    {
     "data": {
      "text/html": [
       "<div>\n",
       "<style scoped>\n",
       "    .dataframe tbody tr th:only-of-type {\n",
       "        vertical-align: middle;\n",
       "    }\n",
       "\n",
       "    .dataframe tbody tr th {\n",
       "        vertical-align: top;\n",
       "    }\n",
       "\n",
       "    .dataframe thead th {\n",
       "        text-align: right;\n",
       "    }\n",
       "</style>\n",
       "<table border=\"1\" class=\"dataframe\">\n",
       "  <thead>\n",
       "    <tr style=\"text-align: right;\">\n",
       "      <th></th>\n",
       "      <th>english</th>\n",
       "      <th>mathematics</th>\n",
       "      <th>eng_deviation</th>\n",
       "      <th>math_deviation</th>\n",
       "      <th>product of deviation</th>\n",
       "    </tr>\n",
       "    <tr>\n",
       "      <th>student</th>\n",
       "      <th></th>\n",
       "      <th></th>\n",
       "      <th></th>\n",
       "      <th></th>\n",
       "      <th></th>\n",
       "    </tr>\n",
       "  </thead>\n",
       "  <tbody>\n",
       "    <tr>\n",
       "      <th>A</th>\n",
       "      <td>42</td>\n",
       "      <td>65</td>\n",
       "      <td>-13.0</td>\n",
       "      <td>-6.4</td>\n",
       "      <td>83.2</td>\n",
       "    </tr>\n",
       "    <tr>\n",
       "      <th>B</th>\n",
       "      <td>69</td>\n",
       "      <td>80</td>\n",
       "      <td>14.0</td>\n",
       "      <td>8.6</td>\n",
       "      <td>120.4</td>\n",
       "    </tr>\n",
       "    <tr>\n",
       "      <th>C</th>\n",
       "      <td>56</td>\n",
       "      <td>63</td>\n",
       "      <td>1.0</td>\n",
       "      <td>-8.4</td>\n",
       "      <td>-8.4</td>\n",
       "    </tr>\n",
       "    <tr>\n",
       "      <th>D</th>\n",
       "      <td>41</td>\n",
       "      <td>63</td>\n",
       "      <td>-14.0</td>\n",
       "      <td>-8.4</td>\n",
       "      <td>117.6</td>\n",
       "    </tr>\n",
       "    <tr>\n",
       "      <th>E</th>\n",
       "      <td>57</td>\n",
       "      <td>76</td>\n",
       "      <td>2.0</td>\n",
       "      <td>4.6</td>\n",
       "      <td>9.2</td>\n",
       "    </tr>\n",
       "    <tr>\n",
       "      <th>F</th>\n",
       "      <td>48</td>\n",
       "      <td>60</td>\n",
       "      <td>-7.0</td>\n",
       "      <td>-11.4</td>\n",
       "      <td>79.8</td>\n",
       "    </tr>\n",
       "    <tr>\n",
       "      <th>G</th>\n",
       "      <td>65</td>\n",
       "      <td>81</td>\n",
       "      <td>10.0</td>\n",
       "      <td>9.6</td>\n",
       "      <td>96.0</td>\n",
       "    </tr>\n",
       "    <tr>\n",
       "      <th>H</th>\n",
       "      <td>49</td>\n",
       "      <td>66</td>\n",
       "      <td>-6.0</td>\n",
       "      <td>-5.4</td>\n",
       "      <td>32.4</td>\n",
       "    </tr>\n",
       "    <tr>\n",
       "      <th>I</th>\n",
       "      <td>65</td>\n",
       "      <td>78</td>\n",
       "      <td>10.0</td>\n",
       "      <td>6.6</td>\n",
       "      <td>66.0</td>\n",
       "    </tr>\n",
       "    <tr>\n",
       "      <th>J</th>\n",
       "      <td>58</td>\n",
       "      <td>82</td>\n",
       "      <td>3.0</td>\n",
       "      <td>10.6</td>\n",
       "      <td>31.8</td>\n",
       "    </tr>\n",
       "  </tbody>\n",
       "</table>\n",
       "</div>"
      ],
      "text/plain": [
       "         english  mathematics  eng_deviation  math_deviation  \\\n",
       "student                                                        \n",
       "A             42           65          -13.0            -6.4   \n",
       "B             69           80           14.0             8.6   \n",
       "C             56           63            1.0            -8.4   \n",
       "D             41           63          -14.0            -8.4   \n",
       "E             57           76            2.0             4.6   \n",
       "F             48           60           -7.0           -11.4   \n",
       "G             65           81           10.0             9.6   \n",
       "H             49           66           -6.0            -5.4   \n",
       "I             65           78           10.0             6.6   \n",
       "J             58           82            3.0            10.6   \n",
       "\n",
       "         product of deviation  \n",
       "student                        \n",
       "A                        83.2  \n",
       "B                       120.4  \n",
       "C                        -8.4  \n",
       "D                       117.6  \n",
       "E                         9.2  \n",
       "F                        79.8  \n",
       "G                        96.0  \n",
       "H                        32.4  \n",
       "I                        66.0  \n",
       "J                        31.8  "
      ]
     },
     "execution_count": 39,
     "metadata": {},
     "output_type": "execute_result"
    }
   ],
   "source": [
    "# 공분산 - 두 개 이상의 집단에 대하여 의존성을 확인한다.\n",
    "dfc = sdf.copy()\n",
    "dfc['eng_deviation'] = dfc.english-dfc.english.mean()\n",
    "dfc['math_deviation'] = dfc.mathematics-dfc.mathematics.mean()\n",
    "dfc['product of deviation'] = dfc['eng_deviation']*dfc['math_deviation']\n",
    "dfc"
   ]
  },
  {
   "cell_type": "code",
   "execution_count": 40,
   "id": "fdd71ce2",
   "metadata": {
    "scrolled": true
   },
   "outputs": [
    {
     "data": {
      "text/plain": [
       "62.8"
      ]
     },
     "execution_count": 40,
     "metadata": {},
     "output_type": "execute_result"
    }
   ],
   "source": [
    "dfc['product of deviation'].mean() # 이게 공분산임\n",
    "# 편차 곱의 평균.\n",
    "# 두 개의 편차가 같은 경향을 가지는지 보는 것임\n",
    "# 두 개의 편차를 곱했을 때 양의 값이 나온다면 같은 방향,\n",
    "# 음의 방향이 나온다면 다른 방향"
   ]
  },
  {
   "cell_type": "code",
   "execution_count": 41,
   "id": "e517cea1",
   "metadata": {},
   "outputs": [
    {
     "data": {
      "text/plain": [
       "array([[86.  , 62.8 ],\n",
       "       [62.8 , 68.44]])"
      ]
     },
     "metadata": {},
     "output_type": "display_data"
    },
    {
     "data": {
      "text/plain": [
       "86.0"
      ]
     },
     "metadata": {},
     "output_type": "display_data"
    },
    {
     "data": {
      "text/plain": [
       "68.44"
      ]
     },
     "metadata": {},
     "output_type": "display_data"
    }
   ],
   "source": [
    "cov_mat = np.cov(en_scores,mt_scores,ddof=0) # 표본분산으로 계산해보자\n",
    "cov_mat\n",
    "# [0,1]과 [1,0] 부분의 값이 편차 곱의 평균과 같은 값이 나온다.\n",
    "# 왜냐면 [0,0]과 [1,1]은 같은 애들이니까\n",
    "a = (dfc.eng_deviation**2).mean() # 자기자신의 공분산\n",
    "b = round((dfc.math_deviation**2).mean(),2)\n",
    "display(cov_mat,a,b)"
   ]
  },
  {
   "cell_type": "markdown",
   "id": "6e3eacbb",
   "metadata": {},
   "source": [
    "np.cov 함수는 공분산 값을 리턴하는 게 아니라 공분산행렬을 반환한다.<br>\n",
    "1행 1열은 eng 자기 자신의 공분산 즉, eng 의 분산값을<br>\n",
    "2행 2열은 math 자기 자신의 공분산 즉, math의 분산값을 반환한다.<br>\n",
    "따라서 1행 2열 그리고 2행 1열만 두 변수의 공분산을 반환한다.<br>"
   ]
  },
  {
   "cell_type": "code",
   "execution_count": 42,
   "id": "181de673",
   "metadata": {
    "scrolled": true
   },
   "outputs": [
    {
     "data": {
      "text/plain": [
       "(86.0, 68.44)"
      ]
     },
     "execution_count": 42,
     "metadata": {},
     "output_type": "execute_result"
    }
   ],
   "source": [
    "np.var(en_scores, ddof=0), np.var(mt_scores,ddof=0).round(2)"
   ]
  },
  {
   "cell_type": "code",
   "execution_count": 43,
   "id": "1d1455c8",
   "metadata": {},
   "outputs": [
    {
     "data": {
      "text/plain": [
       "0.8185692341186713"
      ]
     },
     "execution_count": 43,
     "metadata": {},
     "output_type": "execute_result"
    }
   ],
   "source": [
    "# 상관계수\n",
    "cov = np.cov(en_scores, mt_scores,ddof=0)[0,1] # [1,0]도 됨~\n",
    "cov/(np.std(en_scores)*np.std(mt_scores))\n",
    "# 근데 저게 집단이 커지고 비교할 것도 많아지면 더 어려워지겠지?\n",
    "# 그래서 0과 1사이의 상관계수로 바꿔서 직관적으로 보자는 것임\n",
    "# 0이 제일 노상관, 1이 제일 상관"
   ]
  },
  {
   "cell_type": "code",
   "execution_count": 44,
   "id": "5da929f5",
   "metadata": {},
   "outputs": [
    {
     "data": {
      "text/plain": [
       "array([[1.        , 0.81856923],\n",
       "       [0.81856923, 1.        ]])"
      ]
     },
     "execution_count": 44,
     "metadata": {},
     "output_type": "execute_result"
    }
   ],
   "source": [
    "# 상관계수를 행렬식으로 나타내 보자\n",
    "# correlation, coefficient\n",
    "np.corrcoef(en_scores, mt_scores)"
   ]
  },
  {
   "cell_type": "code",
   "execution_count": 45,
   "id": "9577e9d8",
   "metadata": {},
   "outputs": [
    {
     "data": {
      "text/html": [
       "<div>\n",
       "<style scoped>\n",
       "    .dataframe tbody tr th:only-of-type {\n",
       "        vertical-align: middle;\n",
       "    }\n",
       "\n",
       "    .dataframe tbody tr th {\n",
       "        vertical-align: top;\n",
       "    }\n",
       "\n",
       "    .dataframe thead th {\n",
       "        text-align: right;\n",
       "    }\n",
       "</style>\n",
       "<table border=\"1\" class=\"dataframe\">\n",
       "  <thead>\n",
       "    <tr style=\"text-align: right;\">\n",
       "      <th></th>\n",
       "      <th>english</th>\n",
       "      <th>mathematics</th>\n",
       "    </tr>\n",
       "  </thead>\n",
       "  <tbody>\n",
       "    <tr>\n",
       "      <th>english</th>\n",
       "      <td>1.000000</td>\n",
       "      <td>0.818569</td>\n",
       "    </tr>\n",
       "    <tr>\n",
       "      <th>mathematics</th>\n",
       "      <td>0.818569</td>\n",
       "      <td>1.000000</td>\n",
       "    </tr>\n",
       "  </tbody>\n",
       "</table>\n",
       "</div>"
      ],
      "text/plain": [
       "              english  mathematics\n",
       "english      1.000000     0.818569\n",
       "mathematics  0.818569     1.000000"
      ]
     },
     "execution_count": 45,
     "metadata": {},
     "output_type": "execute_result"
    }
   ],
   "source": [
    "sdf.corr() # 숱하게 봐오던 바로 그것이다..."
   ]
  },
  {
   "cell_type": "code",
   "execution_count": 46,
   "id": "c0f3b75e",
   "metadata": {},
   "outputs": [
    {
     "data": {
      "image/png": "[encoded data removed]",
      "text/plain": [
       "<Figure size 360x360 with 1 Axes>"
      ]
     },
     "metadata": {
      "needs_background": "light"
     },
     "output_type": "display_data"
    }
   ],
   "source": [
    "# 산점도 봐볼까?\n",
    "fig = plt.figure(figsize=(5,5))\n",
    "ax = fig.add_subplot(111)\n",
    "ax.scatter(sdf.english, sdf.mathematics)\n",
    "ax.set_xlabel('english')\n",
    "ax.set_ylabel('mathematics')\n",
    "plt.show() # 이거 하면 윗줄에 머시기 문구 안 나옴.\n",
    "plt.close() # 이거 하면 메모리에서 지워져서 해주는 거임."
   ]
  },
  {
   "cell_type": "code",
   "execution_count": 60,
   "id": "845437b7",
   "metadata": {
    "scrolled": true
   },
   "outputs": [
    {
     "name": "stdout",
     "output_type": "stream",
     "text": [
      "[ 0.62142302 42.60132433]  \n",
      "0.6214 x + 42.6\n"
     ]
    },
    {
     "data": {
      "image/png": "[encoded data removed]",
      "text/plain": [
       "<Figure size 432x288 with 1 Axes>"
      ]
     },
     "metadata": {
      "needs_background": "light"
     },
     "output_type": "display_data"
    }
   ],
   "source": [
    "# 회귀직선\n",
    "eng_scores = np.array(df.english)\n",
    "math_scores = np.array(df.mathematics)\n",
    "\n",
    "# 계수 구하기 (회귀직선 y = ax+b)\n",
    "poly_fit = np.polyfit(eng_scores, math_scores, 1) # 직선이기 때문에 1차방정식\n",
    "poly_1d = np.poly1d(poly_fit)\n",
    "print(poly_fit, poly_1d)\n",
    "# 폴리핏의 0번째 인덱스가 기울기, 1번째 인덱스가 y절편\n",
    "# 폴리핏으로 구한 계수로 폴리1d 1차 방정식 완성\n",
    "\n",
    "# 구한 계수로 그래프 그리기\n",
    "xs = np.linspace(eng_scores.min(),eng_scores.max())\n",
    "ys = poly_1d(xs)\n",
    "plt.figure(figsize=(6,4))\n",
    "plt.scatter(eng_scores, math_scores)\n",
    "plt.plot(xs,ys)\n",
    "plt.xlabel('English')\n",
    "plt.ylabel('Mathematics')\n",
    "plt.show()\n",
    "plt.close()"
   ]
  },
  {
   "cell_type": "markdown",
   "id": "00718b90",
   "metadata": {},
   "source": [
    "1. ax. 해서 실행 되는 사람 -> 바로 위 산점도에서 ax를 선언함\n",
    "\t- plt.close()는 변수 선언과 무관.\n",
    "2. twinx()로 한 ax안에 plot 하면 가능\n",
    "3. 다른 grid에 그린 것은 각각 설정 해줘야 작동\n"
   ]
  },
  {
   "cell_type": "code",
   "execution_count": 97,
   "id": "394df723",
   "metadata": {},
   "outputs": [
    {
     "data": {
      "text/plain": [
       "<AxesSubplot:xlabel='english', ylabel='mathematics'>"
      ]
     },
     "execution_count": 97,
     "metadata": {},
     "output_type": "execute_result"
    },
    {
     "data": {
      "image/png": "[encoded data removed]",
      "text/plain": [
       "<Figure size 432x288 with 1 Axes>"
      ]
     },
     "metadata": {
      "needs_background": "light"
     },
     "output_type": "display_data"
    }
   ],
   "source": [
    "# seaborn을 이용한 회귀직선 그리기\n",
    "import seaborn as sns\n",
    "import warnings ; warnings.filterwarnings('ignore')\n",
    "sns.regplot(df.english,df.mathematics,df,fit_reg=True)\n",
    "# sns.regplot('english','mathematics',df,fit_reg=True) 이렇게도 됨"
   ]
  },
  {
   "cell_type": "code",
   "execution_count": 103,
   "id": "19c4204b",
   "metadata": {},
   "outputs": [
    {
     "data": {
      "image/png": "[encoded data removed]",
      "text/plain": [
       "<Figure size 1296x432 with 2 Axes>"
      ]
     },
     "metadata": {
      "needs_background": "light"
     },
     "output_type": "display_data"
    }
   ],
   "source": [
    "fig, axes = plt.subplots(1,2,figsize=(18,6), sharex=True)\n",
    "sns.regplot(ax=axes[0], x=df.english, y=df.mathematics,fit_reg=False)\n",
    "sns.regplot(ax=axes[1], x=df.english, y=df.mathematics)\n",
    "plt.show()\n",
    "plt.close()"
   ]
  },
  {
   "cell_type": "code",
   "execution_count": 110,
   "id": "047bf1d1",
   "metadata": {
    "scrolled": false
   },
   "outputs": [
    {
     "data": {
      "image/png": "[encoded data removed]",
      "text/plain": [
       "<Figure size 504x360 with 2 Axes>"
      ]
     },
     "metadata": {
      "needs_background": "light"
     },
     "output_type": "display_data"
    },
    {
     "data": {
      "text/plain": [
       "(array([[1., 0., 0., 1., 0., 0., 0., 0.],\n",
       "        [0., 1., 1., 0., 1., 0., 0., 0.],\n",
       "        [0., 1., 1., 1., 2., 0., 0., 0.],\n",
       "        [0., 0., 0., 1., 2., 1., 1., 0.],\n",
       "        [0., 1., 0., 0., 4., 6., 0., 0.],\n",
       "        [0., 0., 1., 0., 2., 4., 1., 0.],\n",
       "        [0., 0., 0., 0., 2., 3., 3., 2.],\n",
       "        [0., 0., 0., 0., 0., 2., 0., 2.],\n",
       "        [0., 0., 0., 0., 0., 0., 2., 0.]]),\n",
       " array([35., 40., 45., 50., 55., 60., 65., 70., 75., 80.]),\n",
       " array([55., 60., 65., 70., 75., 80., 85., 90., 95.]),\n",
       " <matplotlib.collections.QuadMesh at 0x21385888e80>)"
      ]
     },
     "metadata": {},
     "output_type": "display_data"
    }
   ],
   "source": [
    "# 히트맵 - hist2d 메소드로 히트맵 작성\n",
    "fig = plt.figure(figsize=(7,5))\n",
    "ax = fig.add_subplot(111)\n",
    "\n",
    "c = ax.hist2d(eng_scores, math_scores, # 2차원 히스토그램 = 히트맵?\n",
    "             bins=[9,8], range=[(35,80),(55,95)]) # bins가 계급의 개수\n",
    "ax.set_xlabel('English')\n",
    "ax.set_ylabel('Mathematics')\n",
    "ax.set_xticks(c[1])\n",
    "ax.set_yticks(c[2])\n",
    "fig.colorbar(c[3], ax=ax)\n",
    "plt.show()\n",
    "plt.close()\n",
    "display(c)"
   ]
  },
  {
   "cell_type": "code",
   "execution_count": 116,
   "id": "3ccf0d5f",
   "metadata": {},
   "outputs": [
    {
     "data": {
      "image/png": "[encoded data removed]",
      "text/plain": [
       "<Figure size 360x288 with 2 Axes>"
      ]
     },
     "metadata": {
      "needs_background": "light"
     },
     "output_type": "display_data"
    }
   ],
   "source": [
    "# [연습문제] english와 mathematics 두 변수의 상관관계를 히트맵으로 표현하세요.\n",
    "plt.figure(figsize=(5,4))\n",
    "sns.heatmap(df.corr(),annot=True) # annot은 각 셀의 셀값 표시 여부\n",
    "plt.show()\n",
    "plt.close()"
   ]
  },
  {
   "cell_type": "markdown",
   "id": "1958b586",
   "metadata": {},
   "source": [
    "## 다항곡선 회귀분석\n",
    "https://qlsenddl-lab.tistory.com/48\n"
   ]
  },
  {
   "cell_type": "code",
   "execution_count": 120,
   "id": "172a7926",
   "metadata": {},
   "outputs": [
    {
     "data": {
      "text/plain": [
       "array([[10.  ,  8.04],\n",
       "       [ 8.  ,  6.95],\n",
       "       [13.  ,  7.58],\n",
       "       [ 9.  ,  8.81],\n",
       "       [11.  ,  8.33],\n",
       "       [14.  ,  9.96],\n",
       "       [ 6.  ,  7.24],\n",
       "       [ 4.  ,  4.26],\n",
       "       [12.  , 10.84],\n",
       "       [ 7.  ,  4.82],\n",
       "       [ 5.  ,  5.68]])"
      ]
     },
     "execution_count": 120,
     "metadata": {},
     "output_type": "execute_result"
    }
   ],
   "source": [
    "anscombe_data = np.load('./data/ch3_anscombe.npy')\n",
    "anscombe_data.shape # 11행 2열짜리 배열이 4겹\n",
    "anscombe_data[0] # 인덱스가 0일 적의 첫 번째 장"
   ]
  },
  {
   "cell_type": "code",
   "execution_count": 125,
   "id": "82007df2",
   "metadata": {
    "scrolled": true
   },
   "outputs": [
    {
     "data": {
      "text/html": [
       "<div>\n",
       "<style scoped>\n",
       "    .dataframe tbody tr th:only-of-type {\n",
       "        vertical-align: middle;\n",
       "    }\n",
       "\n",
       "    .dataframe tbody tr th {\n",
       "        vertical-align: top;\n",
       "    }\n",
       "\n",
       "    .dataframe thead th {\n",
       "        text-align: right;\n",
       "    }\n",
       "</style>\n",
       "<table border=\"1\" class=\"dataframe\">\n",
       "  <thead>\n",
       "    <tr style=\"text-align: right;\">\n",
       "      <th></th>\n",
       "      <th>data 1</th>\n",
       "      <th>data 2</th>\n",
       "      <th>data 3</th>\n",
       "      <th>data 4</th>\n",
       "    </tr>\n",
       "  </thead>\n",
       "  <tbody>\n",
       "    <tr>\n",
       "      <th>X_mean</th>\n",
       "      <td>9.00</td>\n",
       "      <td>9.00</td>\n",
       "      <td>9.00</td>\n",
       "      <td>9.00</td>\n",
       "    </tr>\n",
       "    <tr>\n",
       "      <th>X_variance</th>\n",
       "      <td>10.00</td>\n",
       "      <td>10.00</td>\n",
       "      <td>10.00</td>\n",
       "      <td>10.00</td>\n",
       "    </tr>\n",
       "    <tr>\n",
       "      <th>Y_mean</th>\n",
       "      <td>7.50</td>\n",
       "      <td>7.50</td>\n",
       "      <td>7.50</td>\n",
       "      <td>7.50</td>\n",
       "    </tr>\n",
       "    <tr>\n",
       "      <th>Y_variance</th>\n",
       "      <td>3.75</td>\n",
       "      <td>3.75</td>\n",
       "      <td>3.75</td>\n",
       "      <td>3.75</td>\n",
       "    </tr>\n",
       "    <tr>\n",
       "      <th>X&amp;Y_correlation</th>\n",
       "      <td>0.82</td>\n",
       "      <td>0.82</td>\n",
       "      <td>0.82</td>\n",
       "      <td>0.82</td>\n",
       "    </tr>\n",
       "    <tr>\n",
       "      <th>X&amp;Y_regression line</th>\n",
       "      <td>3.00+0.50x</td>\n",
       "      <td>3.00+0.50x</td>\n",
       "      <td>3.00+0.50x</td>\n",
       "      <td>3.00+0.50x</td>\n",
       "    </tr>\n",
       "  </tbody>\n",
       "</table>\n",
       "</div>"
      ],
      "text/plain": [
       "                         data 1      data 2      data 3      data 4\n",
       "X_mean                     9.00        9.00        9.00        9.00\n",
       "X_variance                10.00       10.00       10.00       10.00\n",
       "Y_mean                     7.50        7.50        7.50        7.50\n",
       "Y_variance                 3.75        3.75        3.75        3.75\n",
       "X&Y_correlation            0.82        0.82        0.82        0.82\n",
       "X&Y_regression line  3.00+0.50x  3.00+0.50x  3.00+0.50x  3.00+0.50x"
      ]
     },
     "execution_count": 125,
     "metadata": {},
     "output_type": "execute_result"
    }
   ],
   "source": [
    "# 아래 인덱스 항목을 지니는 데이터 프레임을 만들어 보자.\n",
    "\n",
    "stats_df = pd.DataFrame(index = ['X_mean','X_variance','Y_mean','Y_variance',\n",
    "                                 'X&Y_correlation','X&Y_regression line'])\n",
    "for i, data in enumerate(anscombe_data):\n",
    "    dataX = data[:,0] # i번째 장의 첫째 열\n",
    "    dataY = data[:,1] # i번째 장의 둘째 열\n",
    "    poly_fit = np.polyfit(dataX,dataY,1)\n",
    "    stats_df[f'data {i+1}'] = [f'{np.mean(dataX):.2f}',\n",
    "                             f'{np.var(dataX):.2f}',\n",
    "                             f'{np.mean(dataY):.2f}',\n",
    "                             f'{np.var(dataY):.2f}',\n",
    "                             f'{np.corrcoef(dataX,dataY)[0,1]:.2f}',\n",
    "                             f'{poly_fit[1]:.2f}+{poly_fit[0]:.2f}x']\n",
    "stats_df"
   ]
  },
  {
   "cell_type": "code",
   "execution_count": 130,
   "id": "b9a20be8",
   "metadata": {},
   "outputs": [
    {
     "data": {
      "image/png": "[encoded data removed]",
      "text/plain": [
       "<Figure size 576x576 with 4 Axes>"
      ]
     },
     "metadata": {
      "needs_background": "light"
     },
     "output_type": "display_data"
    }
   ],
   "source": [
    "# 그걸로 그래프도 그려보자.\n",
    "fig, axes = plt.subplots(nrows=2, ncols=2, figsize=(8,8),\n",
    "                        sharex=True, sharey=True) # x축, y축 모두 share 하겠다\n",
    "xs = np.linspace(0,30,100)\n",
    "for i, data in enumerate(anscombe_data):\n",
    "    poly_fit = np.polyfit(data[:,0],data[:,1],1)\n",
    "    poly_1d = np.poly1d(poly_fit)\n",
    "    ys = poly_1d(xs)\n",
    "    ax = axes[i//2, i%2] # 인덱스 위치를 수식으로 나타낸 것임.i는 0, 1, 2, 3까지만 있음.\n",
    "    ax.set_xlim([4,20])\n",
    "    ax.set_ylim([3,13])\n",
    "    ax.set_title(f'data {i+1}')\n",
    "    ax.scatter(data[:,0], data[:,1])\n",
    "    ax.plot(xs,ys)\n",
    "\n",
    "# 간격 좁히기\n",
    "plt.tight_layout()\n",
    "plt.show()\n",
    "plt.close()"
   ]
  },
  {
   "cell_type": "markdown",
   "id": "768b2401",
   "metadata": {},
   "source": [
    "데이터 해석<br>\n",
    "현재 앤스컴 배열의 1겹 1겹을 그림으로 그려본 것임.<br>\n",
    "이 4장의 11행 2열 데이터의 기술통계량의 수치는 모두 동일함.<br>\n",
    "상관계수와 회귀직선이 똑같은 4개의 데이터인데도 데이터의 분포 모양이 다 다르다.<br>\n",
    "제일 이상적인 모양은 사실 1번째임.<br>\n",
    "3번째가 왜 아니냐 하면, 범주가 너무 다른 이상치가 존재하기 때문임.<br>"
   ]
  },
  {
   "cell_type": "code",
   "execution_count": null,
   "id": "d595ddc2",
   "metadata": {},
   "outputs": [],
   "source": []
  },
  {
   "cell_type": "code",
   "execution_count": 131,
   "id": "f6147d00",
   "metadata": {},
   "outputs": [
    {
     "data": {
      "text/html": [
       "<div>\n",
       "<style scoped>\n",
       "    .dataframe tbody tr th:only-of-type {\n",
       "        vertical-align: middle;\n",
       "    }\n",
       "\n",
       "    .dataframe tbody tr th {\n",
       "        vertical-align: top;\n",
       "    }\n",
       "\n",
       "    .dataframe thead tr th {\n",
       "        text-align: left;\n",
       "    }\n",
       "\n",
       "    .dataframe thead tr:last-of-type th {\n",
       "        text-align: right;\n",
       "    }\n",
       "</style>\n",
       "<table border=\"1\" class=\"dataframe\">\n",
       "  <thead>\n",
       "    <tr>\n",
       "      <th></th>\n",
       "      <th colspan=\"8\" halign=\"left\">length</th>\n",
       "    </tr>\n",
       "    <tr>\n",
       "      <th></th>\n",
       "      <th>count</th>\n",
       "      <th>mean</th>\n",
       "      <th>std</th>\n",
       "      <th>min</th>\n",
       "      <th>25%</th>\n",
       "      <th>50%</th>\n",
       "      <th>75%</th>\n",
       "      <th>max</th>\n",
       "    </tr>\n",
       "    <tr>\n",
       "      <th>species</th>\n",
       "      <th></th>\n",
       "      <th></th>\n",
       "      <th></th>\n",
       "      <th></th>\n",
       "      <th></th>\n",
       "      <th></th>\n",
       "      <th></th>\n",
       "      <th></th>\n",
       "    </tr>\n",
       "  </thead>\n",
       "  <tbody>\n",
       "    <tr>\n",
       "      <th>A</th>\n",
       "      <td>3.0</td>\n",
       "      <td>3.0</td>\n",
       "      <td>1.0</td>\n",
       "      <td>2.0</td>\n",
       "      <td>2.5</td>\n",
       "      <td>3.0</td>\n",
       "      <td>3.5</td>\n",
       "      <td>4.0</td>\n",
       "    </tr>\n",
       "    <tr>\n",
       "      <th>B</th>\n",
       "      <td>3.0</td>\n",
       "      <td>8.0</td>\n",
       "      <td>2.0</td>\n",
       "      <td>6.0</td>\n",
       "      <td>7.0</td>\n",
       "      <td>8.0</td>\n",
       "      <td>9.0</td>\n",
       "      <td>10.0</td>\n",
       "    </tr>\n",
       "  </tbody>\n",
       "</table>\n",
       "</div>"
      ],
      "text/plain": [
       "        length                                    \n",
       "         count mean  std  min  25%  50%  75%   max\n",
       "species                                           \n",
       "A          3.0  3.0  1.0  2.0  2.5  3.0  3.5   4.0\n",
       "B          3.0  8.0  2.0  6.0  7.0  8.0  9.0  10.0"
      ]
     },
     "execution_count": 131,
     "metadata": {},
     "output_type": "execute_result"
    }
   ],
   "source": [
    "# [연습문제] species 그룹별 통계량을 구하세요.\n",
    "fdf = pd.read_csv('./data/5_2_fm.csv')\n",
    "fdf.groupby('species').describe()\n"
   ]
  },
  {
   "cell_type": "code",
   "execution_count": 87,
   "id": "160acf1e",
   "metadata": {
    "scrolled": true
   },
   "outputs": [
    {
     "data": {
      "text/html": [
       "<div>\n",
       "<style scoped>\n",
       "    .dataframe tbody tr th:only-of-type {\n",
       "        vertical-align: middle;\n",
       "    }\n",
       "\n",
       "    .dataframe tbody tr th {\n",
       "        vertical-align: top;\n",
       "    }\n",
       "\n",
       "    .dataframe thead th {\n",
       "        text-align: right;\n",
       "    }\n",
       "</style>\n",
       "<table border=\"1\" class=\"dataframe\">\n",
       "  <thead>\n",
       "    <tr style=\"text-align: right;\">\n",
       "      <th>color</th>\n",
       "      <th>blue</th>\n",
       "      <th>red</th>\n",
       "    </tr>\n",
       "    <tr>\n",
       "      <th>store</th>\n",
       "      <th></th>\n",
       "      <th></th>\n",
       "    </tr>\n",
       "  </thead>\n",
       "  <tbody>\n",
       "    <tr>\n",
       "      <th>osaka</th>\n",
       "      <td>13</td>\n",
       "      <td>9</td>\n",
       "    </tr>\n",
       "    <tr>\n",
       "      <th>tokyo</th>\n",
       "      <td>10</td>\n",
       "      <td>15</td>\n",
       "    </tr>\n",
       "  </tbody>\n",
       "</table>\n",
       "</div>"
      ],
      "text/plain": [
       "color  blue  red\n",
       "store           \n",
       "osaka    13    9\n",
       "tokyo    10   15"
      ]
     },
     "execution_count": 87,
     "metadata": {},
     "output_type": "execute_result"
    }
   ],
   "source": [
    "# [연습문제] 각 store의 컬러별 판매량을 파악할 수 있는 피벗 테이블을 작성하세요.\n",
    "sdf = pd.read_csv('./data/5_2_shoes.csv')\n",
    "sdf.pivot('store','color','sales')"
   ]
  },
  {
   "cell_type": "code",
   "execution_count": 134,
   "id": "3dca8e6a",
   "metadata": {
    "scrolled": true
   },
   "outputs": [
    {
     "data": {
      "text/html": [
       "<div>\n",
       "<style scoped>\n",
       "    .dataframe tbody tr th:only-of-type {\n",
       "        vertical-align: middle;\n",
       "    }\n",
       "\n",
       "    .dataframe tbody tr th {\n",
       "        vertical-align: top;\n",
       "    }\n",
       "\n",
       "    .dataframe thead th {\n",
       "        text-align: right;\n",
       "    }\n",
       "</style>\n",
       "<table border=\"1\" class=\"dataframe\">\n",
       "  <thead>\n",
       "    <tr style=\"text-align: right;\">\n",
       "      <th>color</th>\n",
       "      <th>blue</th>\n",
       "      <th>red</th>\n",
       "    </tr>\n",
       "    <tr>\n",
       "      <th>store</th>\n",
       "      <th></th>\n",
       "      <th></th>\n",
       "    </tr>\n",
       "  </thead>\n",
       "  <tbody>\n",
       "    <tr>\n",
       "      <th>osaka</th>\n",
       "      <td>13</td>\n",
       "      <td>9</td>\n",
       "    </tr>\n",
       "    <tr>\n",
       "      <th>tokyo</th>\n",
       "      <td>10</td>\n",
       "      <td>15</td>\n",
       "    </tr>\n",
       "  </tbody>\n",
       "</table>\n",
       "</div>"
      ],
      "text/plain": [
       "color  blue  red\n",
       "store           \n",
       "osaka    13    9\n",
       "tokyo    10   15"
      ]
     },
     "execution_count": 134,
     "metadata": {},
     "output_type": "execute_result"
    }
   ],
   "source": [
    "sdf1 = pd.pivot_table(sdf,\n",
    "                     index = 'store', # 행 위치에 들어갈 열\n",
    "                     columns = 'color', # 열 위치에들어갈 열\n",
    "                     values = 'sales', # 데이터로 사용 할 열\n",
    "                     aggfunc = 'sum') # 데이터 집계 함수. 여기선 빼도 동작함\n",
    "sdf1"
   ]
  },
  {
   "cell_type": "code",
   "execution_count": 137,
   "id": "d7206531",
   "metadata": {},
   "outputs": [
    {
     "data": {
      "text/html": [
       "<div>\n",
       "<style scoped>\n",
       "    .dataframe tbody tr th:only-of-type {\n",
       "        vertical-align: middle;\n",
       "    }\n",
       "\n",
       "    .dataframe tbody tr th {\n",
       "        vertical-align: top;\n",
       "    }\n",
       "\n",
       "    .dataframe thead th {\n",
       "        text-align: right;\n",
       "    }\n",
       "</style>\n",
       "<table border=\"1\" class=\"dataframe\">\n",
       "  <thead>\n",
       "    <tr style=\"text-align: right;\">\n",
       "      <th></th>\n",
       "      <th></th>\n",
       "      <th>sales</th>\n",
       "    </tr>\n",
       "    <tr>\n",
       "      <th>store</th>\n",
       "      <th>color</th>\n",
       "      <th></th>\n",
       "    </tr>\n",
       "  </thead>\n",
       "  <tbody>\n",
       "    <tr>\n",
       "      <th rowspan=\"2\" valign=\"top\">osaka</th>\n",
       "      <th>blue</th>\n",
       "      <td>13</td>\n",
       "    </tr>\n",
       "    <tr>\n",
       "      <th>red</th>\n",
       "      <td>9</td>\n",
       "    </tr>\n",
       "    <tr>\n",
       "      <th rowspan=\"2\" valign=\"top\">tokyo</th>\n",
       "      <th>blue</th>\n",
       "      <td>10</td>\n",
       "    </tr>\n",
       "    <tr>\n",
       "      <th>red</th>\n",
       "      <td>15</td>\n",
       "    </tr>\n",
       "  </tbody>\n",
       "</table>\n",
       "</div>"
      ],
      "text/plain": [
       "             sales\n",
       "store color       \n",
       "osaka blue      13\n",
       "      red        9\n",
       "tokyo blue      10\n",
       "      red       15"
      ]
     },
     "execution_count": 137,
     "metadata": {},
     "output_type": "execute_result"
    }
   ],
   "source": [
    "sdf.pivot_table(index=['store','color'],values='sales',aggfunc='sum')"
   ]
  },
  {
   "cell_type": "code",
   "execution_count": 139,
   "id": "154df353",
   "metadata": {
    "scrolled": true
   },
   "outputs": [
    {
     "data": {
      "text/plain": [
       "7.67"
      ]
     },
     "metadata": {},
     "output_type": "display_data"
    },
    {
     "data": {
      "text/html": [
       "<div>\n",
       "<style scoped>\n",
       "    .dataframe tbody tr th:only-of-type {\n",
       "        vertical-align: middle;\n",
       "    }\n",
       "\n",
       "    .dataframe tbody tr th {\n",
       "        vertical-align: top;\n",
       "    }\n",
       "\n",
       "    .dataframe thead th {\n",
       "        text-align: right;\n",
       "    }\n",
       "</style>\n",
       "<table border=\"1\" class=\"dataframe\">\n",
       "  <thead>\n",
       "    <tr style=\"text-align: right;\">\n",
       "      <th></th>\n",
       "      <th>x</th>\n",
       "      <th>y</th>\n",
       "    </tr>\n",
       "  </thead>\n",
       "  <tbody>\n",
       "    <tr>\n",
       "      <th>x</th>\n",
       "      <td>1.00</td>\n",
       "      <td>0.76</td>\n",
       "    </tr>\n",
       "    <tr>\n",
       "      <th>y</th>\n",
       "      <td>0.76</td>\n",
       "      <td>1.00</td>\n",
       "    </tr>\n",
       "  </tbody>\n",
       "</table>\n",
       "</div>"
      ],
      "text/plain": [
       "      x     y\n",
       "x  1.00  0.76\n",
       "y  0.76  1.00"
      ]
     },
     "metadata": {},
     "output_type": "display_data"
    }
   ],
   "source": [
    "# [연습문제] x, y의 공분산과 상관행렬을 구하세요.\n",
    "cdf = pd.read_csv('./data/4_cov.csv')\n",
    "display(cdf.cov().iloc[0,1].round(2), cdf.corr().round(2))"
   ]
  },
  {
   "cell_type": "code",
   "execution_count": null,
   "id": "d76e14b5",
   "metadata": {},
   "outputs": [],
   "source": []
  },
  {
   "cell_type": "code",
   "execution_count": null,
   "id": "eb265f0d",
   "metadata": {
    "scrolled": true
   },
   "outputs": [],
   "source": [
    "# [과제] 1변량(1차원) 데이터 data에 대하여 기술하여라\n",
    "# 평균, 분산(표본분산, 불편분산), 표준편차, 최댓값, 최솟값, 4분위수,\n",
    "# 중앙값 을 구하여 출력하기.\n",
    "# 단, 함수를 사용하는 경우와 사용하지 않는 경우로 나누어 표기할 것\n",
    "# 계산식을 알아야 하니까~\n",
    "\n",
    "data = np.array([2, 3, 3, 4, 4, 4, 4, 5, 5, 6])\n",
    "# ===== 함수를 사용하지 않고 =====\n",
    "# 평균\n",
    "a = sum(data)/len(data)\n",
    "print(f'평균: {a}')\n",
    "# 표본분산, 불편분산\n",
    "b1 = sum((data-a)**2)/len(data)\n",
    "b2 = (sum((data-a)**2)/(len(data)-1)).round(2)\n",
    "print(f'''표본분산: {b1}\n",
    "불편분산: {b2}''')\n",
    "# 표준편차\n",
    "print(f'''표본분산을 이용한 표준편차: {round(b1**0.5,2)}\n",
    "불편분산을 이용한 표준편차: {round(b2**0.5,2)}''')\n",
    "# 최댓값, 최솟값\n",
    "print(f'''최댓값: {sorted(data)[-1]}\n",
    "최솟값: {sorted(data)[0]}''')\n",
    "# 4분위수와 IQR\n",
    "print(f'''1분위수: {np.percentile(data,25)}\n",
    "2분위수: {np.percentile(data,50)}\n",
    "3분위수: {np.percentile(data,75)}\n",
    "IQR: {np.percentile(data,75)-np.percentile(data,25)}''')\n",
    "# 이거 퀀타일 안 쓰고 구할 수는 있는 거셈..?\n",
    "# 나는 모르겠다......................\n",
    "# 생산성이 없어서 스킵함 ㅋㅋㅋ 개념만 이해하고\n",
    "\n",
    "# 중앙값\n",
    "srt = sorted(data)\n",
    "if len(srt)%2 ==0:\n",
    "    n1 = srt[len(srt)//2]\n",
    "    n2 = srt[len(srt)//2-1]\n",
    "    n = (n1+n2)/2\n",
    "else: n=srt[len(srt)//2]\n",
    "print(f'중앙값: {n}')\n",
    "\n",
    "print()\n",
    "# ===== 함수를 사용하고 =====\n",
    "# 평균\n",
    "print(f'평균: {data.mean()}')\n",
    "# 표본분산, 불편분산\n",
    "print(f'''표본분산: {np.var(data)}\n",
    "불편분산: {np.var(data, ddof=1).round(2)}''')\n",
    "# 표준편차\n",
    "print(f'''표본분산을 이용한 표준편차: {np.sqrt(np.var(data)).round(2)}\n",
    "불편분산을 이용한 표준편차: {np.sqrt(np.var(data,ddof=1)).round(2)}''')\n",
    "# 최댓값, 최솟값\n",
    "print(f'''최댓값: {data.max()}\n",
    "최솟값: {data.min()}''')\n",
    "# 4분위수와 IQR\n",
    "print(f'''1분위수: {np.quantile(data,0.25)}\n",
    "2분위수: {np.quantile(data,0.5)}\n",
    "3분위수: {np.quantile(data,0.75)}\n",
    "IQR: {np.quantile(data,0.75)-np.quantile(data,0.25)}''')\n",
    "# 중앙값\n",
    "print(f'중앙값: {np.median(data)}')"
   ]
  },
  {
   "cell_type": "code",
   "execution_count": 74,
   "id": "977c2e2e",
   "metadata": {},
   "outputs": [
    {
     "data": {
      "text/plain": [
       "array([[13, 16],\n",
       "       [22,  1],\n",
       "       [ 4, 28],\n",
       "       [ 4,  8],\n",
       "       [10, 20],\n",
       "       [22, 19],\n",
       "       [ 5, 24],\n",
       "       [ 7, 25],\n",
       "       [25, 13],\n",
       "       [27,  2]])"
      ]
     },
     "metadata": {},
     "output_type": "display_data"
    },
    {
     "data": {
      "text/plain": [
       "-55.82"
      ]
     },
     "metadata": {},
     "output_type": "display_data"
    },
    {
     "data": {
      "text/plain": [
       "-0.64"
      ]
     },
     "metadata": {},
     "output_type": "display_data"
    },
    {
     "data": {
      "text/plain": [
       "-55.82"
      ]
     },
     "metadata": {},
     "output_type": "display_data"
    },
    {
     "data": {
      "text/plain": [
       "-0.64"
      ]
     },
     "metadata": {},
     "output_type": "display_data"
    },
    {
     "data": {
      "text/plain": [
       "-55.82"
      ]
     },
     "metadata": {},
     "output_type": "display_data"
    },
    {
     "data": {
      "text/plain": [
       "-0.64"
      ]
     },
     "metadata": {},
     "output_type": "display_data"
    }
   ],
   "source": [
    "# [과제] 10행 2열 2차원 배열을 생성하고\n",
    "# 두 열 간의 공분산 및 상관계수를 구하여라.\n",
    "# 단, Numpy, Pandas 두 가지 방식 모두 수행\n",
    "\n",
    "ary = np.random.randint(1,30,20).reshape(10,2)\n",
    "np.random.seed(0)\n",
    "display(ary)\n",
    "# numpy 방식\n",
    "a1 = ary[:,0]\n",
    "a2 = ary[:,1]\n",
    "co1 = np.cov(a1,a2).round(2)[0,1]\n",
    "display(co1,\n",
    "        np.corrcoef(a1,a2)[0,1].round(2))\n",
    "\n",
    "# pandas 방식\n",
    "ad = pd.DataFrame(ary)\n",
    "display(ad.cov()[0][1].round(2),ad.corr()[0][1].round(2))\n",
    "\n",
    "# 함수를 쓰지 않고서도 해보자\n",
    "co2 = round(((a1-a1.mean())*((a2-a2.mean()))).sum()/(len(a1)-1),2)\n",
    "coef2 = round(co2/(np.std(a1,ddof=1)*np.std(a2,ddof=1)),2)\n",
    "display(co2, coef2)\n",
    "# ddof 값 안 넣으면 표본분산으로 계산해서\n",
    "# pandas 불편분산 쪽 값과는 다르게 나올 것임\n",
    "\n",
    "# 공분산의 경우 자유도 기입이 별도로 없으면 불편분산으로 계산하기 때문에\n",
    "# 만약 수작업으로 계산한다면 편차제곱 평균 구할 때 n이 아니라 n-1로 나눠야 함\n",
    "\n",
    "# pandas corr 함수는 표본분산 계산이 없음. 불편분산으로만 계산함.\n",
    "# 그래서 여기선 죄다 불편분산으로 계산했는데,\n",
    "# 표본분산으로 계산하려면 pandas 쪽 corr 함수는 못 씀. 자유도 기입 없음.\n",
    "\n",
    "# 상관계수는 자유도를 안 취하나 봐. 죄다 불편분산으로 계산되었음(함수 없이 계산 참조)"
   ]
  },
  {
   "cell_type": "code",
   "execution_count": 76,
   "id": "ace8e55a",
   "metadata": {},
   "outputs": [
    {
     "data": {
      "text/plain": [
       "-55.822222222222216"
      ]
     },
     "execution_count": 76,
     "metadata": {},
     "output_type": "execute_result"
    }
   ],
   "source": [
    "ad.cov().loc[0,1]"
   ]
  }
 ],
 "metadata": {
  "kernelspec": {
   "display_name": "Python 3 (ipykernel)",
   "language": "python",
   "name": "python3"
  },
  "language_info": {
   "codemirror_mode": {
    "name": "ipython",
    "version": 3
   },
   "file_extension": ".py",
   "mimetype": "text/x-python",
   "name": "python",
   "nbconvert_exporter": "python",
   "pygments_lexer": "ipython3",
   "version": "3.8.12"
  }
 },
 "nbformat": 4,
 "nbformat_minor": 5
}
