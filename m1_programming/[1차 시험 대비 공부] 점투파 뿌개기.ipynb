{
 "cells": [
  {
   "cell_type": "code",
   "execution_count": 6,
   "id": "4a1282f5",
   "metadata": {},
   "outputs": [
    {
     "data": {
      "text/plain": [
       "(4, 2)"
      ]
     },
     "execution_count": 6,
     "metadata": {},
     "output_type": "execute_result"
    }
   ],
   "source": [
    "divmod(14,3)"
   ]
  },
  {
   "cell_type": "code",
   "execution_count": 7,
   "id": "9015a373",
   "metadata": {
    "scrolled": true
   },
   "outputs": [
    {
     "data": {
      "text/plain": [
       "15"
      ]
     },
     "execution_count": 7,
     "metadata": {},
     "output_type": "execute_result"
    }
   ],
   "source": [
    "len('You need python')"
   ]
  },
  {
   "cell_type": "code",
   "execution_count": 10,
   "id": "71eb8e2f",
   "metadata": {},
   "outputs": [
    {
     "data": {
      "text/plain": [
       "[2, 3]"
      ]
     },
     "execution_count": 10,
     "metadata": {},
     "output_type": "execute_result"
    }
   ],
   "source": [
    "A = [1,2,3,4,5]\n",
    "A[1:3]"
   ]
  },
  {
   "cell_type": "code",
   "execution_count": 14,
   "id": "49b7183b",
   "metadata": {},
   "outputs": [
    {
     "name": "stdout",
     "output_type": "stream",
     "text": [
      "0\n",
      "5\n"
     ]
    }
   ],
   "source": [
    "a = [2,'r',5,'w',7,4]\n",
    "print(a.index(2)) # a에 있는 2의 위치값\n",
    "print(a[2]) # a에서 세번째 자리에 있는 요소"
   ]
  },
  {
   "cell_type": "code",
   "execution_count": 18,
   "id": "48a14273",
   "metadata": {},
   "outputs": [
    {
     "name": "stdout",
     "output_type": "stream",
     "text": [
      "(1, 2, 3, 4)\n"
     ]
    }
   ],
   "source": [
    "t = (1,2,3)\n",
    "print(t+(4,))\n",
    "# 튜플이 한 개의 요소만 가질 때에는 반드시 뒤에 콤마를 붙여라!\n",
    "# 안 그러면 단순 정수 취급"
   ]
  },
  {
   "cell_type": "code",
   "execution_count": 20,
   "id": "06bdbb52",
   "metadata": {},
   "outputs": [
    {
     "data": {
      "text/plain": [
       "{'name': '홍길동', 'birth': '1128', 'age': 30}"
      ]
     },
     "execution_count": 20,
     "metadata": {},
     "output_type": "execute_result"
    }
   ],
   "source": [
    "{'name':'홍길동','birth':'1128','age':30}"
   ]
  },
  {
   "cell_type": "code",
   "execution_count": 25,
   "id": "7ecc0432",
   "metadata": {},
   "outputs": [
    {
     "data": {
      "text/plain": [
       "70.0"
      ]
     },
     "execution_count": 25,
     "metadata": {},
     "output_type": "execute_result"
    }
   ],
   "source": [
    "a = {'국어':80,'영어':75,'수학':55}\n",
    "ave = (a['국어']+a['영어']+a['수학'])/len(a.keys())\n",
    "ave"
   ]
  },
  {
   "cell_type": "code",
   "execution_count": 27,
   "id": "b54b7dfd",
   "metadata": {},
   "outputs": [
    {
     "data": {
      "text/plain": [
       "False"
      ]
     },
     "execution_count": 27,
     "metadata": {},
     "output_type": "execute_result"
    }
   ],
   "source": [
    "13//2 == 0"
   ]
  },
  {
   "cell_type": "code",
   "execution_count": 32,
   "id": "bf55909e",
   "metadata": {
    "scrolled": true
   },
   "outputs": [
    {
     "name": "stdout",
     "output_type": "stream",
     "text": [
      "881120\n",
      "1068234\n",
      "1\n"
     ]
    }
   ],
   "source": [
    "pin = \"881120-1068234\"\n",
    "yyyymmdd = pin[:6] \n",
    "num = pin[7:]\n",
    "print(yyyymmdd)\n",
    "print(num)\n",
    "print(pin[7])"
   ]
  },
  {
   "cell_type": "code",
   "execution_count": 33,
   "id": "d3b8768c",
   "metadata": {
    "scrolled": true
   },
   "outputs": [
    {
     "name": "stdout",
     "output_type": "stream",
     "text": [
      "a#b#c#d\n"
     ]
    }
   ],
   "source": [
    "a = 'a:b:c:d'\n",
    "print(a.replace(':','#'))"
   ]
  },
  {
   "cell_type": "code",
   "execution_count": 35,
   "id": "852d82bc",
   "metadata": {},
   "outputs": [
    {
     "name": "stdout",
     "output_type": "stream",
     "text": [
      "[5, 4, 3, 2, 1]\n"
     ]
    }
   ],
   "source": [
    "a = [1,3,5,4,2]\n",
    "a.sort(reverse=1)\n",
    "print(a)"
   ]
  },
  {
   "cell_type": "code",
   "execution_count": 36,
   "id": "19fa1308",
   "metadata": {
    "scrolled": true
   },
   "outputs": [
    {
     "name": "stdout",
     "output_type": "stream",
     "text": [
      "Life is too short\n"
     ]
    }
   ],
   "source": [
    "a = ['Life','is','too','short']\n",
    "print(' '.join(a))"
   ]
  },
  {
   "cell_type": "code",
   "execution_count": 38,
   "id": "890932e3",
   "metadata": {
    "scrolled": true
   },
   "outputs": [
    {
     "name": "stdout",
     "output_type": "stream",
     "text": [
      "(1, 2, 3, 4)\n"
     ]
    }
   ],
   "source": [
    "a = (1,2,3)\n",
    "print(a+(4,))"
   ]
  },
  {
   "cell_type": "code",
   "execution_count": 41,
   "id": "2c87d0ad",
   "metadata": {
    "scrolled": true
   },
   "outputs": [
    {
     "name": "stdout",
     "output_type": "stream",
     "text": [
      "80\n",
      "{'A': 90, 'C': 70}\n"
     ]
    }
   ],
   "source": [
    "a = {'A':90, 'B':80,'C':70}\n",
    "print(a.pop('B'))\n",
    "print(a)"
   ]
  },
  {
   "cell_type": "code",
   "execution_count": 43,
   "id": "ca168ca9",
   "metadata": {},
   "outputs": [
    {
     "data": {
      "text/plain": [
       "[1, 2, 3, 4, 5]"
      ]
     },
     "execution_count": 43,
     "metadata": {},
     "output_type": "execute_result"
    }
   ],
   "source": [
    "a = [1,1,1,2,2,3,3,3,4,4,5]\n",
    "sorted(set(a))"
   ]
  },
  {
   "cell_type": "code",
   "execution_count": 44,
   "id": "3440d229",
   "metadata": {
    "scrolled": false
   },
   "outputs": [
    {
     "name": "stdout",
     "output_type": "stream",
     "text": [
      "버스 타고 가라.\n"
     ]
    }
   ],
   "source": [
    "p = ['card']\n",
    "if 'card' in p: print('버스 타고 가라.')\n",
    "else: print('걸어가라.')"
   ]
  },
  {
   "cell_type": "code",
   "execution_count": 48,
   "id": "052a91e4",
   "metadata": {
    "scrolled": true
   },
   "outputs": [
    {
     "name": "stdout",
     "output_type": "stream",
     "text": [
      "[1, 2, 4, 5, 7, 8, 10]\n"
     ]
    }
   ],
   "source": [
    "li = []\n",
    "for i in range(1,11):\n",
    "    if i%3==0:\n",
    "        pass\n",
    "    else: li.append(i)\n",
    "print(li)"
   ]
  },
  {
   "cell_type": "code",
   "execution_count": 50,
   "id": "f6a1bfcc",
   "metadata": {
    "scrolled": true
   },
   "outputs": [
    {
     "name": "stdout",
     "output_type": "stream",
     "text": [
      "1 2 4 5 7 8 10 "
     ]
    }
   ],
   "source": [
    "for i in range(1,11):\n",
    "    if i%3 ==0: pass\n",
    "    else: print(i,end=\" \")"
   ]
  },
  {
   "cell_type": "code",
   "execution_count": 56,
   "id": "eb4621ff",
   "metadata": {
    "scrolled": true
   },
   "outputs": [
    {
     "name": "stdout",
     "output_type": "stream",
     "text": [
      "1번째 학생은 합격입니다.\n",
      "3번째 학생은 합격입니다.\n",
      "5번째 학생은 합격입니다.\n"
     ]
    }
   ],
   "source": [
    "marks = [90,25,67,45,80]\n",
    "for i in marks:\n",
    "    if i>=60:\n",
    "        print(f'{marks.index(i)+1}번째 학생은 합격입니다.')"
   ]
  },
  {
   "cell_type": "code",
   "execution_count": 61,
   "id": "ddfc55f9",
   "metadata": {
    "scrolled": true
   },
   "outputs": [
    {
     "name": "stdout",
     "output_type": "stream",
     "text": [
      "5050\n"
     ]
    }
   ],
   "source": [
    "s = 0\n",
    "for i in range(1,101):\n",
    "    if i <=100:\n",
    "        s+=i\n",
    "print(s)"
   ]
  },
  {
   "cell_type": "code",
   "execution_count": 69,
   "id": "39f38631",
   "metadata": {
    "scrolled": true
   },
   "outputs": [
    {
     "name": "stdout",
     "output_type": "stream",
     "text": [
      "0\n"
     ]
    }
   ],
   "source": [
    "tot = 1\n",
    "s = 0\n",
    "while t<1001:\n",
    "    if t%3==0:\n",
    "        s+=tot\n",
    "    t+=1\n",
    "print(s)"
   ]
  },
  {
   "cell_type": "code",
   "execution_count": 68,
   "id": "ce083d0e",
   "metadata": {
    "scrolled": false
   },
   "outputs": [
    {
     "name": "stdout",
     "output_type": "stream",
     "text": [
      "*\n",
      "**\n",
      "***\n",
      "****\n",
      "*****\n"
     ]
    }
   ],
   "source": [
    "i = 1\n",
    "while i<=5:\n",
    "    print('*'*i)\n",
    "    i+=1"
   ]
  },
  {
   "cell_type": "code",
   "execution_count": 71,
   "id": "20b0df0b",
   "metadata": {
    "scrolled": true
   },
   "outputs": [
    {
     "name": "stdout",
     "output_type": "stream",
     "text": [
      "79.0\n"
     ]
    }
   ],
   "source": [
    "A = [70,60,55,75,95,90,80,80,85,100]\n",
    "tot = 0\n",
    "\n",
    "for i in A:\n",
    "    tot+=i\n",
    "print(tot/len(A))"
   ]
  },
  {
   "cell_type": "code",
   "execution_count": 72,
   "id": "e72e682a",
   "metadata": {
    "scrolled": true
   },
   "outputs": [
    {
     "name": "stdout",
     "output_type": "stream",
     "text": [
      "[2, 6, 10]\n"
     ]
    }
   ],
   "source": [
    "numbers = [1,2,3,4,5]\n",
    "li = []\n",
    "for i in numbers:\n",
    "    if i%2==1:\n",
    "        li.append(i*2)\n",
    "print(li)"
   ]
  },
  {
   "cell_type": "code",
   "execution_count": 4,
   "id": "192a1099",
   "metadata": {
    "scrolled": true
   },
   "outputs": [
    {
     "name": "stdout",
     "output_type": "stream",
     "text": [
      "정수 >> 55\n",
      "홀\n"
     ]
    }
   ],
   "source": [
    "def is_odd(n):\n",
    "    if n!=0 and n%2==0:\n",
    "        print('짝')\n",
    "    elif n!=0 and n%2==1:\n",
    "        print('홀')\n",
    "    else:print('0 입력')\n",
    "is_odd(int(input('정수 >> ')))"
   ]
  },
  {
   "cell_type": "code",
   "execution_count": 5,
   "id": "e52ec085",
   "metadata": {
    "scrolled": true
   },
   "outputs": [
    {
     "name": "stdout",
     "output_type": "stream",
     "text": [
      "3.0\n"
     ]
    }
   ],
   "source": [
    "def ave(*args):\n",
    "    s = 0\n",
    "    for i in args:\n",
    "        s +=i\n",
    "    print(s/len(args))\n",
    "ave(1,2,3,4,5)"
   ]
  },
  {
   "cell_type": "code",
   "execution_count": 7,
   "id": "8c8cf403",
   "metadata": {
    "scrolled": true
   },
   "outputs": [
    {
     "name": "stdout",
     "output_type": "stream",
     "text": [
      "You are too Young to die, too old to drink.\n"
     ]
    }
   ],
   "source": [
    "a = 'you are too young to die, too old to drink.'\n",
    "b = a.replace('y','Y')\n",
    "print(b)"
   ]
  },
  {
   "cell_type": "code",
   "execution_count": 27,
   "id": "8bf43724",
   "metadata": {
    "scrolled": true
   },
   "outputs": [
    {
     "name": "stdout",
     "output_type": "stream",
     "text": [
      "3.43\n",
      "ZERO DIVISION ERROR\n",
      "12\n",
      "2\n"
     ]
    }
   ],
   "source": [
    "class Cal4: # 이렇게 하면 객체 생성할 때 초기값 입력해서 진행. 나머지 함수에 일일이 입력 필요 X\n",
    "    def __init__(self,a,b):\n",
    "        self.a = a # 객체에서 지정. 객체 쪽 변수 값을 변동하지 않으면 그대로 사용\n",
    "        self.b = b\n",
    "    def plus(self):\n",
    "        return self.a+self.b\n",
    "    def minus(self):\n",
    "        return self.a-self.b\n",
    "    def multi(self):\n",
    "        return self.a*self.b\n",
    "    def div(self):\n",
    "        if self.b!=0:\n",
    "            return round(self.a/self.b,2)\n",
    "        else: return 'ZERO DIVISION'\n",
    "            \n",
    "계산기 = Cal4(12,3.5)\n",
    "print(계산기.div())\n",
    "\n",
    "class AddCal4(Cal4):\n",
    "    def div(self):\n",
    "        if self.b!=0:\n",
    "            return round(self.a/self.b,2)\n",
    "        else: return 'ZERO DIVISION ERROR'\n",
    "\n",
    "계산1 = AddCal4(2,0)\n",
    "print(계산1.div())\n",
    "print(계산기.a)\n",
    "print(계산1.a)"
   ]
  },
  {
   "cell_type": "code",
   "execution_count": 23,
   "id": "efa334f1",
   "metadata": {
    "scrolled": true
   },
   "outputs": [
    {
     "name": "stdout",
     "output_type": "stream",
     "text": [
      "you are too 123 young to die, too old 456 to drink.you are too young to die too old to drink\n"
     ]
    }
   ],
   "source": [
    "import re\n",
    "a = 'you are too 123 young to die, too old 456 to drink.'\n",
    "\n",
    "for i in a:\n",
    "    print(i, end='')\n",
    "    \n",
    "b = re.compile('[A-Z]+',re.I)\n",
    "print(' '.join(b.findall(a)))"
   ]
  },
  {
   "cell_type": "code",
   "execution_count": 29,
   "id": "75fb2bbe",
   "metadata": {
    "scrolled": true
   },
   "outputs": [
    {
     "name": "stdout",
     "output_type": "stream",
     "text": [
      "3\n"
     ]
    }
   ],
   "source": [
    "class Cal:\n",
    "    def __init__(self):\n",
    "        self.value = 0\n",
    "    def add(self,val):\n",
    "        self.value+=val\n",
    "        \n",
    "class UpCal(Cal):\n",
    "    def minus(self,val):\n",
    "        self.value-=val\n",
    "        \n",
    "cal = UpCal()\n",
    "cal.add(10) # 0+10\n",
    "cal.minus(7) # 10-7\n",
    "print(cal.value)"
   ]
  },
  {
   "cell_type": "code",
   "execution_count": 43,
   "id": "240d4033",
   "metadata": {
    "scrolled": true
   },
   "outputs": [
    {
     "name": "stdout",
     "output_type": "stream",
     "text": [
      "50\n",
      "80\n",
      "80\n"
     ]
    }
   ],
   "source": [
    "class MaxLimit:\n",
    "    val = 0\n",
    "    def add(self,v):\n",
    "        MaxLimit.val+=v\n",
    "        if MaxLimit.val>100:\n",
    "            MaxLimit.val = 100\n",
    "            return MaxLimit.val\n",
    "        else: return MaxLimit.val\n",
    "\n",
    "a = MaxLimit()\n",
    "print(a.add(50))\n",
    "print(a.add(30))\n",
    "print(a.val)\n",
    "        "
   ]
  },
  {
   "cell_type": "code",
   "execution_count": 51,
   "id": "9fdc8d2c",
   "metadata": {
    "scrolled": true
   },
   "outputs": [
    {
     "name": "stdout",
     "output_type": "stream",
     "text": [
      "[1, 3, 8, 0]\n"
     ]
    }
   ],
   "source": [
    "a = [1,-2,3,-5,8,-3,0]\n",
    "print(list(filter((lambda x:x>=0),a)))\n"
   ]
  },
  {
   "cell_type": "code",
   "execution_count": 52,
   "id": "e1b26d33",
   "metadata": {
    "scrolled": true
   },
   "outputs": [
    {
     "name": "stdout",
     "output_type": "stream",
     "text": [
      "[3, 6, 9, 12]\n"
     ]
    }
   ],
   "source": [
    "a = [1,2,3,4]\n",
    "print(list(map(lambda x:x*3,a)))"
   ]
  },
  {
   "cell_type": "code",
   "execution_count": 53,
   "id": "78d810f0",
   "metadata": {
    "scrolled": false
   },
   "outputs": [
    {
     "name": "stdout",
     "output_type": "stream",
     "text": [
      "-1\n"
     ]
    }
   ],
   "source": [
    "a = [-8,2,7,5,-3,5,0,1]\n",
    "print(max(a)+min(a))"
   ]
  },
  {
   "cell_type": "code",
   "execution_count": 56,
   "id": "161a3480",
   "metadata": {
    "scrolled": true
   },
   "outputs": [
    {
     "data": {
      "text/plain": [
       "['C:\\\\cakd5\\\\workspace\\\\m1_programming\\\\mod1.py',\n",
       " 'C:\\\\cakd5\\\\workspace\\\\m1_programming\\\\mod2.py']"
      ]
     },
     "execution_count": 56,
     "metadata": {},
     "output_type": "execute_result"
    }
   ],
   "source": [
    "import glob\n",
    "glob.glob('C:\\cakd5\\workspace\\m1_programming\\*.py')"
   ]
  },
  {
   "cell_type": "code",
   "execution_count": 58,
   "id": "50b3896b",
   "metadata": {
    "scrolled": true
   },
   "outputs": [
    {
     "name": "stdout",
     "output_type": "stream",
     "text": [
      "a#b#c#d\n"
     ]
    }
   ],
   "source": [
    "a = 'a:b:c:d'\n",
    "print('#'.join(a.split(':')))"
   ]
  },
  {
   "cell_type": "code",
   "execution_count": 62,
   "id": "2f7f4f6a",
   "metadata": {},
   "outputs": [
    {
     "name": "stdout",
     "output_type": "stream",
     "text": [
      "{'A': 90, 'B': 80, 'C': 70}\n"
     ]
    }
   ],
   "source": [
    "a = {'A':90, 'B':80}\n",
    "a['C'] = 70\n",
    "print(a)"
   ]
  },
  {
   "cell_type": "code",
   "execution_count": 63,
   "id": "d2a40731",
   "metadata": {
    "scrolled": true
   },
   "outputs": [
    {
     "name": "stdout",
     "output_type": "stream",
     "text": [
      "481\n"
     ]
    }
   ],
   "source": [
    "a = [20,55,67,82,45,33,90,87,100,25]\n",
    "s = 0\n",
    "for i in a:\n",
    "    if i>=50:\n",
    "        s+=i\n",
    "print(s)"
   ]
  },
  {
   "cell_type": "code",
   "execution_count": 66,
   "id": "5349c488",
   "metadata": {
    "scrolled": true
   },
   "outputs": [
    {
     "name": "stdout",
     "output_type": "stream",
     "text": [
      "정수 입력 >> 10\n",
      "0 1 1 2 3 5 8 13 21 34 "
     ]
    }
   ],
   "source": [
    "n = int(input('정수 입력 >> '))\n",
    "\n",
    "def fiv(a):\n",
    "    if a==0:\n",
    "        return 0\n",
    "    if a==1:\n",
    "        return 1\n",
    "    return fiv(a-2)+fiv(a-1)\n",
    "\n",
    "for i in range(n):\n",
    "    print(fiv(i),end=' ')"
   ]
  },
  {
   "cell_type": "code",
   "execution_count": 71,
   "id": "40894eb1",
   "metadata": {},
   "outputs": [
    {
     "name": "stdout",
     "output_type": "stream",
     "text": [
      "숫자 입력 >> 12,24,36\n",
      "24.0\n"
     ]
    }
   ],
   "source": [
    "a = input('숫자 입력 >> ')\n",
    "b = (a.split(','))\n",
    "s = 0\n",
    "for i in range(len(b)):\n",
    "    s = s+int(b[i])\n",
    "print(s/len(b))"
   ]
  },
  {
   "cell_type": "code",
   "execution_count": 73,
   "id": "8bf54a9f",
   "metadata": {
    "scrolled": true
   },
   "outputs": [
    {
     "name": "stdout",
     "output_type": "stream",
     "text": [
      "단 수 입력 >> 4\n",
      "4 8 12 16 20 24 28 32 36 "
     ]
    }
   ],
   "source": [
    "a = int(input('단 수 입력 >> '))\n",
    "for i in range(1,10):\n",
    "    print(a*i, end=\" \")"
   ]
  },
  {
   "cell_type": "code",
   "execution_count": 87,
   "id": "0e607338",
   "metadata": {
    "scrolled": false
   },
   "outputs": [
    {
     "name": "stdout",
     "output_type": "stream",
     "text": [
      "['EEE', 'DDD\\n', 'CCC\\n', 'BBB\\n', 'AAA\\n']\n",
      "EEE\n",
      "DDD\n",
      "CCC\n",
      "BBB\n",
      "AAA\n",
      "\n"
     ]
    }
   ],
   "source": [
    "with open('data/fortest.txt','w') as f:\n",
    "    f.write('''AAA\n",
    "BBB\n",
    "CCC\n",
    "DDD\n",
    "EEE''')\n",
    "\n",
    "with open('data/fortest.txt','r') as f:\n",
    "    line = f.readlines()\n",
    "    line.reverse()\n",
    "    print(line)\n",
    "\n",
    "with open('data/fortest.txt','w') as f:\n",
    "    for i in line:\n",
    "        i = i.strip()\n",
    "        f.write(i)\n",
    "        f.write('\\n')\n",
    "        \n",
    "with open('data/fortest.txt','r') as f:\n",
    "    print(f.read())"
   ]
  },
  {
   "cell_type": "code",
   "execution_count": 101,
   "id": "e56f2825",
   "metadata": {
    "scrolled": true
   },
   "outputs": [
    {
     "name": "stdout",
     "output_type": "stream",
     "text": [
      "['70\\n', '60\\n', '55\\n', '75\\n', '95\\n', '90\\n', '80\\n', '80\\n', '85\\n', '100']\n",
      "0\n",
      "0\n"
     ]
    }
   ],
   "source": [
    "with open('data/sample.txt', 'r') as f:\n",
    "    print(f.readlines())\n",
    "    line = f.readlines()\n",
    "print(len(line))\n",
    "s = 0\n",
    "for i in line:\n",
    "    score = int(i)\n",
    "    s +=score\n",
    "print(s)"
   ]
  },
  {
   "cell_type": "code",
   "execution_count": 110,
   "id": "9a6e829d",
   "metadata": {
    "scrolled": true
   },
   "outputs": [
    {
     "name": "stdout",
     "output_type": "stream",
     "text": [
      "숫자열 입력 112345\n",
      "[1, 1, 2, 3, 4, 5]\n",
      "1-12345\n"
     ]
    }
   ],
   "source": [
    "\n",
    "data = input('숫자열 입력 ')\n",
    "\n",
    "num = list(map(int,data))\n",
    "print(num)\n",
    "li = []\n",
    "for i,j in enumerate(num):\n",
    "    li.append(str(j))\n",
    "    if i < len(num)-1:\n",
    "        odd1 = j%2 ==1\n",
    "        odd2 = num[i+1]%2==1\n",
    "\n",
    "        if odd1 and odd2 :\n",
    "            li.append('-')\n",
    "        elif not odd1 and not odd2:\n",
    "            li.append('*')\n",
    "print(''.join(li))"
   ]
  },
  {
   "cell_type": "code",
   "execution_count": null,
   "id": "553fa202",
   "metadata": {},
   "outputs": [],
   "source": []
  }
 ],
 "metadata": {
  "kernelspec": {
   "display_name": "Python 3 (ipykernel)",
   "language": "python",
   "name": "python3"
  },
  "language_info": {
   "codemirror_mode": {
    "name": "ipython",
    "version": 3
   },
   "file_extension": ".py",
   "mimetype": "text/x-python",
   "name": "python",
   "nbconvert_exporter": "python",
   "pygments_lexer": "ipython3",
   "version": "3.8.12"
  }
 },
 "nbformat": 4,
 "nbformat_minor": 5
}
