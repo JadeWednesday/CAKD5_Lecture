{
 "cells": [
  {
   "cell_type": "markdown",
   "id": "392b8ba9",
   "metadata": {},
   "source": [
    "### 클래스\n",
    "- 클래스(class)란 똑같은 무엇인가를 계속해서 만들어 낼 수 있는 설계 도면이고(과자 틀), 객체(object)란 클래스로 만든 피조물(과자 틀을 사용해 만든 과자)을 뜻한다.<br>\n",
    "과자 틀 → 클래스 (class)<br>\n",
    "과자 틀에 의해서 만들어진 과자 → 객체 (object)<br>\n",
    "<br>\n",
    "- class : 함수 + 변수 모아놓은 것\n",
    "- 오브젝트(object) : 클래스를 써서 만든 것\n",
    "- 오브젝트(object) == 인스턴스(instance)\n",
    "- 클래스를 정의한 후, 그 클래스를 사용해서 데이터 객체(인스턴스)를 만들 수 있다.\n",
    "- 동일한 클래스에 의해 만들어진 각 객체들은 유사한 특징을 공유한다.\n",
    "- 모든 인스턴스에서 메소드(=코드)는 동일하지만, 속성(데이터)는 다르다.\n",
    " * 메소드 : 코드\n",
    " * 속성 : 데이터\n",
    " * 인스턴스 : 클래스에 의해 만들어진 데이터 객체\n",
    " * a = 클래스() 이렇게 만든 a는 객체이다. 그리고 a 객체는 클래스의 인스턴스이다. 즉 인스턴스라는 말은 특정 객체(a)가 어떤 클래스의 객체인지를 관계 위주로 설명할 때 사용\n",
    " \n",
    "예를 들어~<br>calculate라는 클래스를 만들고 그 안에 사칙연산을 넣어놨을 때 cal이라는 객체를 만들면<br>cal = calculate() 이렇게 나오겠지?<br>이때 cal를 인스턴스라고 부르는 거야.<br>피연산자들을 넣고 그걸로 사칙연산을 하는 클래스를 만들고, 그걸로 객체를 만드는 것임.<br><br>모듈은 임포트해서 쓰지만 클래스는 객체를 만든다!<br>물론 클래스보단 모듈이 상위 개념임.\n",
    "\n",
    "### ※ 클래스의 첫 글자는 대문자로 써야 함!!!"
   ]
  },
  {
   "cell_type": "code",
   "execution_count": 2,
   "id": "4479c526",
   "metadata": {},
   "outputs": [
    {
     "name": "stdout",
     "output_type": "stream",
     "text": [
      "김첨지은/는 24세이며, 뚝배기 전공이다.\n",
      "김첨지\n",
      "24\n",
      "뚝배기\n"
     ]
    }
   ],
   "source": [
    "# 클래스 생성자 - 초기값 정의\n",
    "\n",
    "# 인자가 있는 경우\n",
    "\n",
    "class Cakd:\n",
    "    def __init__(self,name,age,major): # self는 객체 본인을 의미\n",
    "        self.name = name    # 객체.인자\n",
    "        self.age = age\n",
    "        self.major = major\n",
    "        print(f'{self.name}은/는 {self.age}세이며, {self.major} 전공이다.')\n",
    "        \n",
    "객체 = Cakd('김첨지',24,'뚝배기')\n",
    "print(객체.name)\n",
    "print(객체.age)\n",
    "print(객체.major)\n",
    "\n",
    "# '객체' 라는 객체를 만들었으며, 그 안에 이런저런 정보가 다 담겨 있다. (자원 사용 가능~)"
   ]
  },
  {
   "cell_type": "code",
   "execution_count": 12,
   "id": "3bc4e341",
   "metadata": {},
   "outputs": [
    {
     "name": "stdout",
     "output_type": "stream",
     "text": [
      "Cakd 인스턴스 객체가 메모리에서 제거되었습니다.\n"
     ]
    }
   ],
   "source": [
    "# 클래스 소멸자\n",
    "# 클래스 인스턴스 객체가 메모리에서 제거될 때 자동으로 호출되는 클래스 메소드\n",
    "\n",
    "class Cakd:\n",
    "    def __del__(self):\n",
    "        print('Cakd 인스턴스 객체가 메모리에서 제거되었습니다.')\n",
    "\n",
    "obj = Cakd()\n",
    "del obj"
   ]
  },
  {
   "cell_type": "markdown",
   "id": "24e29cd7",
   "metadata": {},
   "source": [
    "## 클래스 멤버, 클래스 메소드\n",
    "- 클래스를 구성하는 주요 요소는 클래스 멤버(변수)와 클래스 메소드(함수)로, 클래스 공간 내에서 정의한다.\n",
    "- 클래스 멤버는 클래스 메소드 내에서 정의되는 지역변수나 인스턴스 멤버와는 다르다.\n",
    "- 클레스 메소드는 첫 번째 인자가 반드시 self로 시작해야 한다.\n",
    "- self는 이 클래스의 인스턴스 객체를 가리키는 참조자이다.\n",
    "- 인스턴스 객체에서 클래스 메소드를 호출 시 첫 번째 인자인 self를 생략한다.\n",
    "\n",
    "(위쪽 예제 참고하면 됨)"
   ]
  },
  {
   "cell_type": "code",
   "execution_count": 20,
   "id": "2c036c15",
   "metadata": {},
   "outputs": [
    {
     "name": "stdout",
     "output_type": "stream",
     "text": [
      "안녕방가리\n",
      "안녕방가리\n"
     ]
    }
   ],
   "source": [
    "class MyClass:\n",
    "    var = '안녕방가리' # 클래스 멤버(변수)\n",
    "    def sayHello(self): # 클래스 메소드(함수)\n",
    "        return self.var # 리턴했으므로 self.var는 안녕방가리가 된다\n",
    "\n",
    "하이 = MyClass()\n",
    "print(하이.var)\n",
    "print(하이.sayHello())\n",
    "\n",
    "# 함수를 쓰더라도 그 함수 내용은 결국 self.var를 리턴하는 것이므로 이 과정에서 결과값은 같다."
   ]
  },
  {
   "cell_type": "code",
   "execution_count": 33,
   "id": "c8066465",
   "metadata": {
    "scrolled": true
   },
   "outputs": [
    {
     "name": "stdout",
     "output_type": "stream",
     "text": [
      "안녕방가리\n",
      "안녕\n",
      "안녕방가리\n"
     ]
    }
   ],
   "source": [
    "# 클래스 멤버와 인스턴스 멤버의 구분\n",
    "# 클래스 멤버는 클래스 메소드 바깥에서 선언 (함수 밖에서 선언되는 변수)\n",
    "# 인스턴스 멤버는 클래스 메소드 안에서 self와 함께 선언 (함수 안에서 self.ㅇㅇㅇ 형태로 선언되는 변수)\n",
    "\n",
    "a = 1  # 전역변수\n",
    "\n",
    "class MyClass:\n",
    "    var =  '안녕방가리'  # 클래스 멤버\n",
    "    def sayHello(self):  # 클래스 메소드\n",
    "        hi1 = '안녕'  # 지역변수\n",
    "        self.hi2 = '방가리'  # 인스턴스 멤버\n",
    "        print(hi1) # 결과는 '안녕'\n",
    "#        print(self.hi2)  <- 결과는 '방가리'\n",
    "        print(self.var)  # 결과는 '안녕방가리'\n",
    "        \n",
    "방가 = MyClass()\n",
    "\n",
    "print(방가.var)\n",
    "방가.sayHello()"
   ]
  },
  {
   "cell_type": "code",
   "execution_count": 3,
   "id": "faa437a0",
   "metadata": {
    "scrolled": true
   },
   "outputs": [
    {
     "name": "stdout",
     "output_type": "stream",
     "text": [
      "안녕갑세요\n",
      "점순이! 내일 다시 만나!\n"
     ]
    }
   ],
   "source": [
    "# 클래스 메소드\n",
    "# 클래스 내에서 정의되는 클래스 메소드는 첫 번째 인자가 반드시 self여야 한다.\n",
    "\n",
    "class MyClass:\n",
    "    def sayHello(self):\n",
    "        print('안녕갑세요')\n",
    "    def sayBye(self,name):\n",
    "        print(f'{name}! 내일 다시 만나!')\n",
    "        \n",
    "인사 =  MyClass()\n",
    "\n",
    "인사.sayHello()\n",
    "인사.sayBye('점순이')\n",
    "\n",
    "# return 값이 없으면 print 쓰지 말고 그냥 출력하기"
   ]
  },
  {
   "cell_type": "markdown",
   "id": "65fbfbb1",
   "metadata": {},
   "source": [
    "## 객체 지향 프로그래밍 (Object-Oriented Programming)\n",
    "- 클래스 인스턴스는 객체(Object)라고도 하며<br>이렇게 클래스를 정의하고 객체를 만드는 패턴을 객체 지향 프로그래밍(OOP)이라고 함\n",
    "- 인스턴스를 불러온다는 것은 클래스를 가져와 객체로 바꿔 준다는 것인데,<br>type() 함수를 사용하는 것은 그 반대(객체를 불러와 클래스를 파악 가능)\n",
    "- 객체의 type을 확인해 보면 해당 객체가 어떤 클래스의 인스턴스인지 확인 가능\n",
    "- 파이썬에서 main은 '현재 실행 중인 파일'을 의미"
   ]
  },
  {
   "cell_type": "code",
   "execution_count": 35,
   "id": "fb341e99",
   "metadata": {},
   "outputs": [
    {
     "data": {
      "text/plain": [
       "__main__.Test"
      ]
     },
     "execution_count": 35,
     "metadata": {},
     "output_type": "execute_result"
    }
   ],
   "source": [
    "# 임의의 클래스를 작성한 후 인스턴스를 생성하고 그 타입을 확인해 보자.\n",
    "\n",
    "class Test:\n",
    "    pass\n",
    "\n",
    "test  = Test() # 여기선 test가 인스턴스\n",
    "type(test) # 현재 실행중인 'Test' 클래스 라는 뜻"
   ]
  },
  {
   "cell_type": "markdown",
   "id": "e8d08263",
   "metadata": {},
   "source": [
    "## 클래스 상속\n",
    "- 어떤 클래스가 가지고 있는 모든 멤버나 메소드를, 상속받는 클래스가 모두 사용할 수 있도록 해주는 것\n",
    "- 상속을 해주는 클래스가 부모 클래스(super, 수퍼)<br>상속을 받는 클래스가 자식 클래스(sub, 서브)<br>class 자식클래스명(부모클래스명)\n",
    "- 자식 클래스는 여러 부모 클래스로부터 상속받을 수 있으며, 이를 '다중 상속'이라 한다.<br>class 자식클래스명(부모클래스1, 부모클래스2, ...)"
   ]
  },
  {
   "cell_type": "code",
   "execution_count": 39,
   "id": "26a7355a",
   "metadata": {
    "scrolled": true
   },
   "outputs": [
    {
     "name": "stdout",
     "output_type": "stream",
     "text": [
      "3\n",
      "2\n",
      "-1\n"
     ]
    }
   ],
   "source": [
    "# 계산식을 클래스로 만들어 보자\n",
    "\n",
    "class Sum:\n",
    "    def sum(self,n1,n2):\n",
    "        return n1+n2\n",
    "    \n",
    "class Mul:\n",
    "    def mul(self,n1,n2):\n",
    "        return n1*n2\n",
    "    \n",
    "class Cal(Sum,Mul):\n",
    "    def sub(self,n1,n2):\n",
    "        return n1-n2\n",
    "    \n",
    "사칙 = Cal()\n",
    "print(사칙.sum(1,2))\n",
    "print(사칙.mul(1,2))\n",
    "print(사칙.sub(1,2))\n",
    "\n",
    "# 부모 클래스의 함수도 모두 쓸 수 있는 것을 확인 가능"
   ]
  },
  {
   "cell_type": "code",
   "execution_count": 44,
   "id": "72d08e15",
   "metadata": {
    "scrolled": true
   },
   "outputs": [
    {
     "name": "stdout",
     "output_type": "stream",
     "text": [
      "Jade, 안녕하세요.\n",
      "Jade, 내일 봐요.\n",
      "Jade, 안녕하세요.\n",
      "Jade, 내일 봐요.\n",
      "Jade\n"
     ]
    }
   ],
   "source": [
    "# [연습문제] 클래스 MyClass를 작성하고 객체를 생성하여 아래와 같이 출력하세요.\n",
    "# (생성자 사용 필수)\n",
    "\n",
    "# Jade, 안녕하세요.\n",
    "# Jade, 내일 봐요.\n",
    "\n",
    "class MyClass:\n",
    "    def hello(self,name):\n",
    "        print(f'{name}, 안녕하세요.')\n",
    "    def bye(self,name):\n",
    "        print(f'{name}, 내일 봐요.')\n",
    "        \n",
    "class Hibye:  # 생성자 사용\n",
    "    def __init__(self,name):\n",
    "        self.name = name\n",
    "        print(f'{name}, 안녕하세요.')\n",
    "        print(f'{name}, 내일 봐요.')\n",
    "        \n",
    "인사 = MyClass()\n",
    "인사.hello('Jade')\n",
    "인사.bye('Jade')\n",
    "\n",
    "안녕 = Hibye('Jade')\n",
    "print(안녕.name)\n",
    "        "
   ]
  },
  {
   "cell_type": "markdown",
   "id": "de3ac938",
   "metadata": {},
   "source": [
    "## [과제] 클래스의 정의 및 사용 방법을 설명\n",
    "- 클래스가 도대체 무슨 용어인지 스스로 설명할 수 있을 정도로 이해하고 습득해 오기\n",
    "\n",
    "### 내 답변\n",
    "- 클래스란 함수와 변수를 꾸러미처럼 묶은 것으로, 한 번 선언하면 일일이 함수 내용을 입력하지 않아도 객체를 이용해 파일 내에서 반복해서 쓸 수 있다.\n",
    "- 클래스의 구성 요소는 클래스 내의 변수인 클래스 멤버, 클래스 내에서 쓰이는 함수인 클래스 메소드, 클래스 메소드 내에서 선언된 변수인 인스턴스 멤버이다.\n",
    "- 인스턴스란 클래스를 이용해 만든 데이터 객체이며, 하나의 클래스가 여러 개의 인스턴스를 가질 수 있다. 같은 클래스로 만든 인스턴스에 통용되는 메소드는 같지만, 결과값은 변수에 따라 달라진다."
   ]
  },
  {
   "cell_type": "code",
   "execution_count": 2,
   "id": "2ae88042",
   "metadata": {
    "scrolled": true
   },
   "outputs": [
    {
     "name": "stdout",
     "output_type": "stream",
     "text": [
      "2500\n",
      "3500\n"
     ]
    }
   ],
   "source": [
    "# [과제] 사용자 함수를 작성하여 기본가격 1000에 입력받은 값을 추가한 가격을 산출하세요.\n",
    "# 지역변수, 전역변수 2가지 방법으로 제출\n",
    "\n",
    "# ==== 전역변수 사용\n",
    "money = 1000  # 메소드 밖에만 있으면 되는 거라 class와 def 사이에 넣어도 됨\n",
    "class Calmoney:\n",
    "    def cal(self,give):\n",
    "        global money\n",
    "        money = money+give\n",
    "    \n",
    "돈계산 = Calmoney()\n",
    "돈계산.cal(1500)\n",
    "print(money)\n",
    "\n",
    "# ==== 지역변수 사용\n",
    "class Calmoney2:\n",
    "    def cal2(self,give):\n",
    "        money = 1000\n",
    "        return money+give\n",
    "\n",
    "돈계산2 = Calmoney2()\n",
    "print(돈계산2.cal2(2500))"
   ]
  },
  {
   "cell_type": "code",
   "execution_count": 76,
   "id": "d7fdf868",
   "metadata": {
    "scrolled": true
   },
   "outputs": [
    {
     "name": "stdout",
     "output_type": "stream",
     "text": [
      "추가 가격 입력 >> 1200\n",
      "2200\n",
      "추가 가격 입력 >> 3500\n",
      "4500\n"
     ]
    }
   ],
   "source": [
    "# 선생님 풀이 + 내 자체적 해석\n",
    "\n",
    "# 전역변수\n",
    "class Calmoney:\n",
    "    def __init__(self):\n",
    "        self.money = 1000 # 이거 클래스 밖으로 빼도 작동함\n",
    "    \n",
    "    def cal(self):\n",
    "        fee = int(input('추가 가격 입력 >> '))\n",
    "        price = self.money + fee\n",
    "        return price\n",
    "\n",
    "돈 = Calmoney()\n",
    "print(돈.cal())\n",
    "\n",
    "# 이거 계속 money에 돈이 저장돼서 money 값이 불어나는데...?\n",
    "# 리턴을 안 하니까 저장이 안 되네\n",
    "# 그럼 init으로 초기값 설정하고서 그걸 쓰면? 그리고 리턴도 같이 쓰면? 된다!\n",
    "\n",
    "#### 리턴 값을 머니로 안 하면 됨. 제3의 변수를 써서 그걸 리턴하면 됨.\n",
    "\n",
    "\n",
    "# 지역 변수를 쓰면 생성자를 안 써도 된다는 설명을 하시는데...\n",
    "\n",
    "class Calmoney2:\n",
    "    def cal2(self):\n",
    "        money = 1000\n",
    "        fee = int(input('추가 가격 입력 >> '))\n",
    "        price = money + fee\n",
    "        return price\n",
    "돈2 = Calmoney2()\n",
    "print(돈2.cal2())"
   ]
  },
  {
   "cell_type": "code",
   "execution_count": 71,
   "id": "97730fb0",
   "metadata": {
    "scrolled": false
   },
   "outputs": [
    {
     "name": "stdout",
     "output_type": "stream",
     "text": [
      "첫 번째 정수 입력 >> 12\n",
      "두 번째 정수 입력 >> 0\n",
      "두 번째 인자는 0이 될 수 없습니다. 다시 입력해 주세요.\n",
      "첫 번째 정수 입력 >> 12\n",
      "두 번째 정수 입력 >> 3\n",
      "덧셈: 15\n",
      "뺄셈: 9\n",
      "곱셈: 36\n",
      "나눗셈: 4.0\n",
      "계산완료\n"
     ]
    }
   ],
   "source": [
    "# [과제] 사칙연산 기능을 포함한 Cal4 클래스(생성자 이용)을 작성하고\n",
    "# 이 클래스를 이용하여 Cal 계산기 객체를 만든 후\n",
    "# 적절한 수를 적용하여 사칙연산을 수행하시오.\n",
    "\n",
    "    \n",
    "class Cal4():\n",
    "    def __init__(self,a,b):\n",
    "        self.a = a\n",
    "        self.b = b\n",
    "    def plus(self):\n",
    "        return self.a+self.b\n",
    "    def minus(self):\n",
    "        return self.a-self.b    \n",
    "    def multi(self):\n",
    "        return self.a*self.b    \n",
    "    def div(self):\n",
    "        try:\n",
    "            self.a/self.b\n",
    "            return round(self.a/self.b,2)\n",
    "        except:\n",
    "            print('0으로 나눌 수 없습니다.')\n",
    "    \n",
    "while 1:\n",
    "    try:\n",
    "        a = int(input('첫 번째 정수 입력 >> '))\n",
    "        b = int(input('두 번째 정수 입력 >> '))\n",
    "        계산기 = Cal4(a,b)\n",
    "        \n",
    "        if b == 0:\n",
    "            print('두 번째 인자는 0이 될 수 없습니다. 다시 입력해 주세요.')\n",
    "            continue\n",
    "    except:\n",
    "        print('알맞은 정수를 입력해 주세요.')\n",
    "    else:\n",
    "        print(f'''덧셈: {계산기.plus()}\n",
    "뺄셈: {계산기.minus()}\n",
    "곱셈: {계산기.multi()}\n",
    "나눗셈: {계산기.div()}''')\n",
    "        print('계산완료')\n",
    "        break\n"
   ]
  },
  {
   "cell_type": "code",
   "execution_count": 31,
   "id": "bce89fd2",
   "metadata": {
    "scrolled": true
   },
   "outputs": [
    {
     "name": "stdout",
     "output_type": "stream",
     "text": [
      "첫 번째 숫자 입력: 123\n",
      "두 번째 숫자 입력: 0\n",
      "\n",
      "123 + 0 = 123\n",
      "123 - 0 = 123\n",
      "123 * 0 = 0\n",
      "123 / 0 계산 불가!\n"
     ]
    }
   ],
   "source": [
    "# 누군가의 풀이\n",
    "\n",
    "class Cal():\n",
    "    def __init__(cal, x, y):\n",
    "        cal.x=x\n",
    "        cal.y=y\n",
    "        \n",
    "    def getSum(cal):\n",
    "        print(f'{cal.x} + {cal.y} = {cal.x+cal.y}')\n",
    "    def getSub(cal):\n",
    "        print(f'{cal.x} - {cal.y} = {cal.x-cal.y}')\n",
    "    def getMul(cal):\n",
    "        print(f'{cal.x} * {cal.y} = {cal.x*cal.y}')\n",
    "    def getDiv(cal):\n",
    "        print(f'{cal.x} / {cal.y} = {cal.x/cal.y}')\n",
    "            \n",
    "    def getAll(cal):\n",
    "        cal.getSum()\n",
    "        cal.getSub()\n",
    "        cal.getMul()\n",
    "        cal.getDiv()       \n",
    "\n",
    "while 1:\n",
    "    try:         \n",
    "        x=int(input(\"첫 번째 숫자 입력: \"))\n",
    "        y=int(input(\"두 번째 숫자 입력: \"))\n",
    "        if y==0:\n",
    "            print(\"약수로 0을 사용할 순 없습니다. 다시 입력해주세요.\")\n",
    "            print()\n",
    "            continue\n",
    "    except ValueError:\n",
    "        print(\"숫자를 입력해주세요.\")\n",
    "        print()\n",
    "    else:\n",
    "        print()\n",
    "        cal=Cal(x, y)\n",
    "        cal.getAll()\n",
    "        break"
   ]
  },
  {
   "cell_type": "code",
   "execution_count": 57,
   "id": "aa6a4da1",
   "metadata": {
    "scrolled": true
   },
   "outputs": [
    {
     "name": "stdout",
     "output_type": "stream",
     "text": [
      "2000\n",
      "2500\n",
      "3000\n",
      "주문 상품의 총 가격은 12000입니다.\n"
     ]
    }
   ],
   "source": [
    "# [연습문제] 기본가격 1000원인 3개의 상품에 대하여\n",
    "# 임의의 추가 가격을 인수로 대입 시 더한 가격을 산출하세요. (클래스 이용)\n",
    "\n",
    "class Order():\n",
    "    def __init__(self):\n",
    "        self.p = 1000\n",
    "    def order(self,price):\n",
    "        self.p += price\n",
    "        return self.p\n",
    "    \n",
    "p1 = Order()\n",
    "p2 = Order()\n",
    "p3 = Order()\n",
    "\n",
    "print(p1.order(1000))\n",
    "print(p2.order(1500))\n",
    "print(p3.order(2000))\n",
    "\n",
    "print(f'주문 상품의 총 가격은 %d입니다.' %(p1.order(1000)+p2.order(1500)+p3.order(2000)))"
   ]
  },
  {
   "cell_type": "code",
   "execution_count": 64,
   "id": "358caa9a",
   "metadata": {},
   "outputs": [
    {
     "name": "stdout",
     "output_type": "stream",
     "text": [
      "물건 1의 총 가격은2000원, 할인가는 2700원이며\n",
      "물건 2의 총 가격은2500원, 할인가는 3600원입니다.\n"
     ]
    }
   ],
   "source": [
    "# [연습문제] 기본 가격 1000원인 2개의 상품에 대하여, 클래스를 이용하여\n",
    "# 아래 두 가지 방식으로 산출하세요.\n",
    "\n",
    "# price1 : 기본가격 + 추가가격\n",
    "# price2 : (기본가격 + 추가가격)*90%\n",
    "\n",
    "class Order:\n",
    "    def __init__(self):\n",
    "        self.base = 1000\n",
    "    def basic(self,price):\n",
    "        self.base+= price\n",
    "        return self.base\n",
    "    def dis(self,price):\n",
    "        self.base+= price\n",
    "        return round(self.base*0.9)\n",
    "    \n",
    "b1 = Order()\n",
    "b2 = Order()\n",
    "\n",
    "print(f'물건 1의 총 가격은{b1.basic(1000)}원, 할인가는 {b1.dis(1000)}원이며\\n물건 2의 총 가격은{b2.basic(1500)}원, 할인가는 {b2.dis(1500)}원입니다.')"
   ]
  },
  {
   "cell_type": "code",
   "execution_count": 83,
   "id": "bb0b5413",
   "metadata": {
    "scrolled": true
   },
   "outputs": [
    {
     "name": "stdout",
     "output_type": "stream",
     "text": [
      "2500\n",
      "2500원\n"
     ]
    }
   ],
   "source": [
    "# 오버라이딩 - 덮어쓰기\n",
    "# 상속받은 부모 클래스의 함수를 그대로 쓰는 게 아니라, 적절히 수정할 수 있다는 뜻\n",
    "# Order 클래스를 상속받아 ExtraOrder 클래스에서 메소드 오버라이딩하여\n",
    "# 출력 가격에 원이 추가되도록 출력하세요.\n",
    "\n",
    "class Order():\n",
    "    def __init__(self,name):\n",
    "        self.costomer = 0  # 입력받는 건 아니지만 초기 변수 하나 만들어두자\n",
    "        self.name = name\n",
    "    def order(self,price):\n",
    "        self.costomer += price\n",
    "        return self.costomer\n",
    "\n",
    "class ExtraOrder(Order):\n",
    "    def order(self,price):\n",
    "        self.costomer += price\n",
    "        return str(self.costomer)+'원'\n",
    "    \n",
    "가격 = Order('Jade')\n",
    "print(가격.order(2500))\n",
    "가격원 = ExtraOrder('Jade')\n",
    "print(가격원.order(2500))\n",
    "        "
   ]
  },
  {
   "cell_type": "code",
   "execution_count": 86,
   "id": "273412c3",
   "metadata": {
    "scrolled": true
   },
   "outputs": [
    {
     "data": {
      "text/plain": [
       "2"
      ]
     },
     "execution_count": 86,
     "metadata": {},
     "output_type": "execute_result"
    }
   ],
   "source": [
    "# 인터프리터에서 마지막 실행결과 값을 가지는 변수\n",
    "\n",
    "1+1\n",
    "_ # 마지막 실행 결과값이기 때문에 다른 작업하고 나면 값은 계속 갱신된다"
   ]
  },
  {
   "cell_type": "code",
   "execution_count": 88,
   "id": "7dcf5368",
   "metadata": {
    "scrolled": false
   },
   "outputs": [
    {
     "name": "stdout",
     "output_type": "stream",
     "text": [
      "어서오시개\n",
      "어서오시개\n",
      "어서오시개\n",
      "\n",
      "0\n",
      "1\n",
      "2\n",
      "\n",
      "1 2\n"
     ]
    }
   ],
   "source": [
    "# 변수 값을 굳이 사용할 필요가 없는 경우\n",
    "\n",
    "for _ in range(3):\n",
    "    print('어서오시개')\n",
    "    \n",
    "print()\n",
    "for _ in range(3):\n",
    "    print(_)\n",
    "print()\n",
    "def values():\n",
    "    return (1,2,3,4) # 튜플을 반환\n",
    "\n",
    "a, b, _, _ = values() # 반환된 튜플 값 중 2개만 필요\n",
    "print(a,b)"
   ]
  },
  {
   "cell_type": "code",
   "execution_count": 92,
   "id": "1d9876dc",
   "metadata": {
    "scrolled": true
   },
   "outputs": [
    {
     "name": "stdout",
     "output_type": "stream",
     "text": [
      "<class '__main__.Order'>\n"
     ]
    }
   ],
   "source": [
    "# 예약어를 변수명으로 사용할 수 없는 경우\n",
    "class Order:\n",
    "    def __init__(self):\n",
    "        self.coffee = 'Americano'\n",
    "        self.price = 3000\n",
    "        \n",
    "def printClassName(class_): # 별도의 사용자 함수\n",
    "    print(class_)\n",
    "        \n",
    "order = Order()\n",
    "printClassName(order.__class__)"
   ]
  },
  {
   "cell_type": "markdown",
   "id": "f2b0b84f",
   "metadata": {},
   "source": [
    "https://ebbnflow.tistory.com/255"
   ]
  },
  {
   "cell_type": "code",
   "execution_count": 94,
   "id": "0cb39020",
   "metadata": {},
   "outputs": [
    {
     "name": "stdout",
     "output_type": "stream",
     "text": [
      "abc\n"
     ]
    }
   ],
   "source": [
    "# 클래스 변수: 인스턴스 변수와 달리 모든 인스턴스 사이에 공유된 값을 가진 변수\n",
    "\n",
    "class MyClass:\n",
    "    value = 'abc' # 클래스 변수를 선언\n",
    "    \n",
    "if __name__ == '__main__': # name이 본인 그 자체라면\n",
    "    print(MyClass.value)\n",
    "    \n",
    "# 만약 임포트 했다면 여기서 네임은 임포트 한 것 이름이 되므로 실행이 안 된다\n",
    "# 라는데 뭔 소린지 모르겠으니 책 보자\n",
    "\n",
    "# 임포트 한 게 아니라 해당 인터프리터 내에서 직접 실행된 경우에만 수행하라는 뜻임."
   ]
  },
  {
   "cell_type": "code",
   "execution_count": 105,
   "id": "d7803f6e",
   "metadata": {},
   "outputs": [
    {
     "name": "stdout",
     "output_type": "stream",
     "text": [
      "1\n",
      "2\n",
      "3\n"
     ]
    }
   ],
   "source": [
    "# 인스턴스를 생성할 때마다 클래스 변수 value에 1을 더하는 내용의 클래스\n",
    "\n",
    "class MyClass:\n",
    "    value = 0\n",
    "    def __init__(self):\n",
    "        MyClass.value += 1\n",
    "        # 객체를 생성할 때마다 초기값에 1씩 더해진다\n",
    "\n",
    "if __name__ == '__main__':\n",
    "    a = MyClass() # 인스턴스 a 생성. 이 단계에서 +1\n",
    "    print(MyClass.value)\n",
    "    b = MyClass() # 인스턴스 b 생성. 이 때에도 +1\n",
    "    print(MyClass.value)\n",
    "    c = MyClass() # 인스턴스 c 생성. 여기서도 +1\n",
    "    print(MyClass.value)"
   ]
  },
  {
   "cell_type": "code",
   "execution_count": 127,
   "id": "194bbbf0",
   "metadata": {
    "scrolled": true
   },
   "outputs": [
    {
     "name": "stdout",
     "output_type": "stream",
     "text": [
      "1 Jade\n",
      "2 Wednesday\n"
     ]
    }
   ],
   "source": [
    "# 인스턴스 변수\n",
    "class User:\n",
    "    num_users = 0 # 클래스 변수. 클래스 전체에서 공유됨.\n",
    "    def __init__(self,name):\n",
    "        self.name = name # 인스턴스 변수. 메소드 내에서만 공유됨. 이거 안 해주면 오류남. 인풋 변수 있으면 무조건 여기서 선언\n",
    "        User.num_users += 1 # User 클래스의 클래스 변수 num_users 변수를 사용함\n",
    "        \n",
    "u = User('Jade')\n",
    "print(User.num_users, u.name) # u.name은 인스턴스 변수임\n",
    "# 여기서 프린트 한 건 (클래스 변수, 인스턴스 변수)를 가져온 셈\n",
    "u1 = User('Wednesday')\n",
    "print(User.num_users, u1.name)"
   ]
  },
  {
   "cell_type": "code",
   "execution_count": 120,
   "id": "0f685f89",
   "metadata": {
    "scrolled": true
   },
   "outputs": [
    {
     "name": "stdout",
     "output_type": "stream",
     "text": [
      "I am a Rockstar.\n"
     ]
    }
   ],
   "source": [
    "# 메소드: 클래스 안에서 정의된 함수\n",
    "# 첫 번째 인수를 항상 self로 지정한다. (뭐 다른 거 써도 되는데 어쨌든 통일해야 함)\n",
    "\n",
    "class Musician:\n",
    "    title = 'Rockstar' # 클래스 변수\n",
    "    def explanation(self):\n",
    "        print(f'I am a {self.title}.') # 클래스 변수를 받아서 출력만 하는 단순 메소드\n",
    "\n",
    "뮤지션 = Musician()\n",
    "뮤지션.explanation()\n"
   ]
  },
  {
   "cell_type": "code",
   "execution_count": 126,
   "id": "e5b39a2f",
   "metadata": {
    "scrolled": true
   },
   "outputs": [
    {
     "name": "stdout",
     "output_type": "stream",
     "text": [
      "113.04\n",
      "2826.0\n"
     ]
    }
   ],
   "source": [
    "# 만약 다른 인수가 있는 메소드라면?\n",
    "\n",
    "class Circle:\n",
    "    pi = 3.14\n",
    "    def area(self,radius):\n",
    "        self.radius = radius # 이걸 생략하고\n",
    "        return Circle.pi*(self.radius**2) # self.pi랑 그냥 radius를 써도 작동함\n",
    "    \n",
    "원넓이 = Circle()\n",
    "pizza_area = 원넓이.area(6)\n",
    "\n",
    "넓이 = Circle()\n",
    "face_area = 넓이.area(30)\n",
    "\n",
    "print(pizza_area)\n",
    "print(face_area)"
   ]
  },
  {
   "cell_type": "code",
   "execution_count": 129,
   "id": "a29a508f",
   "metadata": {},
   "outputs": [
    {
     "name": "stdout",
     "output_type": "stream",
     "text": [
      "안녕하쇼!!!\n",
      "안녕하쇼!!!\n"
     ]
    },
    {
     "data": {
      "text/plain": [
       "<__main__.Shouter at 0x1a6b7d38670>"
      ]
     },
     "execution_count": 129,
     "metadata": {},
     "output_type": "execute_result"
    }
   ],
   "source": [
    "# 생성자(constructor)\n",
    "# 클래스를 호출할 때 자동으로 어떤 함수를 실행하거나 값을 호출하고 싶은 경우\n",
    "# __init__을 사용한다.\n",
    "\n",
    "# Shouter라는 클래스를 객체로 불러올 때마다 \"안녕하쇼!!!\"라는 문자열을 출력\n",
    "\n",
    "class Shouter:\n",
    "    def __init__(self):\n",
    "        print('안녕하쇼!!!')\n",
    "        \n",
    "안 = Shouter()\n",
    "녕 = Shouter()\n",
    "\n",
    "안"
   ]
  },
  {
   "cell_type": "code",
   "execution_count": null,
   "id": "524845cb",
   "metadata": {},
   "outputs": [],
   "source": [
    "# [도전과제] 관심 주제에 대하여 100~200라인 정도의 프로그램을 구조 지향적으로 작성한 후\n",
    "# 클래스를 이용한 객체 지향 프로그래밍으로 수정하세요. (필요 시 상속 이용)"
   ]
  },
  {
   "cell_type": "markdown",
   "id": "6fa3e45a",
   "metadata": {},
   "source": [
    "미니언의 포탑 밀기\n",
    "\n",
    "1. 포탑 때리는 미니언\n",
    "2. 챔피언 때리는 미니언\n",
    "3. 상대 미니언 때리는 미니언\n",
    "\n",
    "1번은 포탑의 피가 150에서 0이 될 때까지 행위 반복(타 당 10)\n",
    "2번은 챔피언의 피가 100에서 0이 될 때까지 행위 반복(타 당 10)\n",
    "3번은 미니언의 피가 30에서 0이 될 때까지 행위 반복(타 당 10)\n",
    "처음 변수를\n",
    "tower = 150\n",
    "champ = 100\n",
    "ememy = 30\n",
    "으로 선언해서\n",
    "미니언이 와일문 내에서 포탑, 챔피언, 상대 미니언의 체력을 전부 0으로 만들면 프로그램 종료\n",
    "\n",
    "\n",
    "미니언이라는 객체에\n",
    "포탑도 때리고, 챔피언도 때리고, 상대 미니언도 때리는 기능 넣기\n",
    "상속해서 class MinionAi 라고 명명\n",
    "\n",
    "최초 선언된 변수값에서\n",
    "함수를 이용해 쫙 처리해보자."
   ]
  },
  {
   "cell_type": "code",
   "execution_count": 68,
   "id": "dbf7ee45",
   "metadata": {},
   "outputs": [
    {
     "name": "stdout",
     "output_type": "stream",
     "text": [
      "미니언이 포탑을 때립니다. 현재 포탑의 체력: 150\n",
      "미니언이 포탑을 때립니다. 현재 포탑의 체력: 140\n",
      "미니언이 포탑을 때립니다. 현재 포탑의 체력: 130\n",
      "미니언이 포탑을 때립니다. 현재 포탑의 체력: 120\n",
      "미니언이 포탑을 때립니다. 현재 포탑의 체력: 110\n",
      "미니언이 포탑을 때립니다. 현재 포탑의 체력: 100\n",
      "미니언이 포탑을 때립니다. 현재 포탑의 체력: 90\n",
      "미니언이 포탑을 때립니다. 현재 포탑의 체력: 80\n",
      "미니언이 포탑을 때립니다. 현재 포탑의 체력: 70\n",
      "미니언이 포탑을 때립니다. 현재 포탑의 체력: 60\n",
      "미니언이 포탑을 때립니다. 현재 포탑의 체력: 50\n",
      "미니언이 포탑을 때립니다. 현재 포탑의 체력: 40\n",
      "미니언이 포탑을 때립니다. 현재 포탑의 체력: 30\n",
      "미니언이 포탑을 때립니다. 현재 포탑의 체력: 20\n",
      "미니언이 포탑을 때립니다. 현재 포탑의 체력: 10\n",
      "미니언이 챔피언을 때립니다. 현재 챔피언의 체력: 100\n",
      "미니언이 챔피언을 때립니다. 현재 챔피언의 체력: 90\n",
      "미니언이 챔피언을 때립니다. 현재 챔피언의 체력: 80\n",
      "미니언이 챔피언을 때립니다. 현재 챔피언의 체력: 70\n",
      "미니언이 챔피언을 때립니다. 현재 챔피언의 체력: 60\n",
      "미니언이 챔피언을 때립니다. 현재 챔피언의 체력: 50\n",
      "미니언이 챔피언을 때립니다. 현재 챔피언의 체력: 40\n",
      "미니언이 챔피언을 때립니다. 현재 챔피언의 체력: 30\n",
      "미니언이 챔피언을 때립니다. 현재 챔피언의 체력: 20\n",
      "미니언이 챔피언을 때립니다. 현재 챔피언의 체력: 10\n",
      "미니언이 상대 미니언을 때립니다. 현재 상대 미니언의 체력: 30\n",
      "미니언이 상대 미니언을 때립니다. 현재 상대 미니언의 체력: 20\n",
      "미니언이 상대 미니언을 때립니다. 현재 상대 미니언의 체력: 10\n",
      "모든 적대적 요소를 파괴했다! 수고했어, 미니언!\n"
     ]
    }
   ],
   "source": [
    "# 절차지향적 미니언의 모험\n",
    "\n",
    "tower = 150\n",
    "champ = 100\n",
    "enemy = 30\n",
    "\n",
    "while 1:\n",
    "\n",
    "    if not tower ==0:\n",
    "        print(f'미니언이 포탑을 때립니다. 현재 포탑의 체력: {tower}')\n",
    "        tower-=10\n",
    "        continue    \n",
    "    elif champ !=0:\n",
    "        print(f'미니언이 챔피언을 때립니다. 현재 챔피언의 체력: {champ}')\n",
    "        champ-=10\n",
    "        continue\n",
    "    elif enemy !=0:\n",
    "        print(f'미니언이 상대 미니언을 때립니다. 현재 상대 미니언의 체력: {enemy}')\n",
    "        enemy-=10\n",
    "        continue\n",
    "    else:\n",
    "        print('모든 적대적 요소를 파괴했다! 수고했어, 미니언!')\n",
    "        break"
   ]
  },
  {
   "cell_type": "code",
   "execution_count": null,
   "id": "16d61767",
   "metadata": {},
   "outputs": [],
   "source": [
    "# 객체 지향적 미니언의 모험\n",
    "\n",
    "class AttackTower():\n",
    "    tower = 150\n",
    "    def atkT(self):\n",
    "        while 1:\n",
    "            if tower != 0:\n",
    "#                print(f'미니언이 포탑을 때립니다. 현재 포탑의 체력: {tower}')\n",
    "                tower-=10\n",
    "            else:\n",
    "            print(self.tower)\n",
    "            break\n",
    "\n",
    "    \n",
    "class AttackChamp():\n",
    "    def atkC(self):\n",
    "        champ = 100\n",
    "        while 1:\n",
    "            if champ != 0:\n",
    "                print(f'미니언이 챔피언을 때립니다. 현재 챔피언의 체력: {champ}')\n",
    "                champ-=10\n",
    "    \n",
    "class MinionAi(AttackTower,AttackChamp):\n",
    "    def atkE(self):\n",
    "        enemy = 30\n",
    "        while 1:\n",
    "            if enemy != 0:\n",
    "                print(f'미니언이 상대 미니언을 때립니다. 현재 미니언의 체력: {enemy}')\n",
    "                enemy-=10\n",
    "\n",
    "객체미니언 = AttackTower()\n",
    "#객체미니언.atkT()\n",
    "#객체미니언.atkC()\n",
    "#객체미니언.atkE()\n",
    "\n",
    "객체미니언.atkT()"
   ]
  },
  {
   "cell_type": "code",
   "execution_count": null,
   "id": "93203783",
   "metadata": {},
   "outputs": [],
   "source": [
    "# [과제] 업무 미팅이 2시임을 알려주는 자동 이메일을 AutoEmail 클래스를 작성하여 아래와 같이 출력하세요.\n",
    "# 안녕하세요, Jade님. 업무 미팅은 2시입니다."
   ]
  }
 ],
 "metadata": {
  "kernelspec": {
   "display_name": "Python 3 (ipykernel)",
   "language": "python",
   "name": "python3"
  },
  "language_info": {
   "codemirror_mode": {
    "name": "ipython",
    "version": 3
   },
   "file_extension": ".py",
   "mimetype": "text/x-python",
   "name": "python",
   "nbconvert_exporter": "python",
   "pygments_lexer": "ipython3",
   "version": "3.8.12"
  }
 },
 "nbformat": 4,
 "nbformat_minor": 5
}
