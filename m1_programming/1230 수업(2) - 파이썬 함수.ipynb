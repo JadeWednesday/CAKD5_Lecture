{
 "cells": [
  {
   "cell_type": "markdown",
   "id": "36280cc7",
   "metadata": {},
   "source": [
    "https://codedrive.tistory.com/91 <br>\n",
    "내장함수는 임포트 필요 없음. 바로 쓰면 됨<br>\n",
    "외장함수는 임포트 해서 쓸 수 있고, 별도의 라이브러리나 프로그램은 설치 후 임포트 해야 함<br>"
   ]
  },
  {
   "cell_type": "code",
   "execution_count": 6,
   "id": "53190a95",
   "metadata": {},
   "outputs": [
    {
     "data": {
      "text/plain": [
       "'안녕방갑소'"
      ]
     },
     "execution_count": 6,
     "metadata": {},
     "output_type": "execute_result"
    }
   ],
   "source": [
    "# 입력값이 없고 결과값만 있는 함수\n",
    "# 함수 그 자체로 어떤 기능인데, 이걸 인풋 없이 진행할 수 있게 만들 수 있니?\n",
    "\n",
    "def say():\n",
    "    return '안녕방갑소'\n",
    "\n",
    "say()"
   ]
  },
  {
   "cell_type": "code",
   "execution_count": 35,
   "id": "bdd5025c",
   "metadata": {},
   "outputs": [
    {
     "name": "stdout",
     "output_type": "stream",
     "text": [
      "1, 2의 합은 3입니다.\n",
      "None\n",
      "1, 2의 합은 3입니다.\n"
     ]
    }
   ],
   "source": [
    "# 입력값은 있으나 결과값이 없는 함수\n",
    "# 반환값이 없으으로 return이 필요 없지\n",
    "# 결과값은 오직 return 명령어로만 돌려받을 수 있다\n",
    "# 그래서 이 함수의 결과는 보이기엔 숫자처럼 보이는 경우에도 수식에는 쓸 수 없음\n",
    "\n",
    "def add(a,b):\n",
    "    print('%d, %d의 합은 %d입니다.' %(a,b,(a+b)))\n",
    "    \n",
    "print(add(1,2))\n",
    "add(1,2)"
   ]
  },
  {
   "cell_type": "code",
   "execution_count": 9,
   "id": "13163925",
   "metadata": {
    "scrolled": true
   },
   "outputs": [
    {
     "name": "stdout",
     "output_type": "stream",
     "text": [
      "안녕갑쎄요\n"
     ]
    }
   ],
   "source": [
    "# 입력값도 결과값도 없는 함수\n",
    "# 결과가 있는 것처럼 보이지만 걍 의미 없는 문구를 프린트했을 뿐임\n",
    "\n",
    "def hi():\n",
    "    print('안녕갑쎄요')\n",
    "\n",
    "hi()"
   ]
  },
  {
   "cell_type": "code",
   "execution_count": 34,
   "id": "a1ac6844",
   "metadata": {},
   "outputs": [
    {
     "data": {
      "text/plain": [
       "int"
      ]
     },
     "execution_count": 34,
     "metadata": {},
     "output_type": "execute_result"
    }
   ],
   "source": [
    "# 입력값, 결과값이 모두 있는 함수\n",
    "\n",
    "def cal(a,b,c):\n",
    "    return a*b+c\n",
    "\n",
    "type(cal(23,5,7))\n"
   ]
  },
  {
   "cell_type": "code",
   "execution_count": 1,
   "id": "c174ae67",
   "metadata": {},
   "outputs": [
    {
     "data": {
      "text/plain": [
       "20"
      ]
     },
     "execution_count": 1,
     "metadata": {},
     "output_type": "execute_result"
    }
   ],
   "source": [
    "# 여러 개의 입력값을 받는 함수 만들기\n",
    "# *args처럼 입력 변수명 앞에 *를 붙이면 입력값들을 전부 모아서 튜플화 해줌\n",
    "\n",
    "def add_many(*args):\n",
    "    sum = 0\n",
    "    for i in args:\n",
    "        sum+=i\n",
    "    return sum\n",
    "\n",
    "add_many(1,3,7,9)"
   ]
  },
  {
   "cell_type": "code",
   "execution_count": 48,
   "id": "d449d5e8",
   "metadata": {},
   "outputs": [
    {
     "name": "stdout",
     "output_type": "stream",
     "text": [
      "(6, 8)\n"
     ]
    },
    {
     "data": {
      "text/plain": [
       "tuple"
      ]
     },
     "execution_count": 48,
     "metadata": {},
     "output_type": "execute_result"
    }
   ],
   "source": [
    "# 함수의 반환값은 언제나 하나여야 한다 - 결과 값으로 튜플 하나를 갖게 됨\n",
    "# return을 두 번 세 번씩 쓰더라도 결과값으로는 튜플 하나로 묶여서 나온다 이 말이야!\n",
    "\n",
    "def add_mul(a,b):\n",
    "    return a+b, a*b\n",
    "\n",
    "print(add_mul(2,4))\n",
    "type(add_mul(2,4))"
   ]
  },
  {
   "cell_type": "code",
   "execution_count": 87,
   "id": "28d40d95",
   "metadata": {
    "scrolled": true
   },
   "outputs": [
    {
     "name": "stdout",
     "output_type": "stream",
     "text": [
      "120\n"
     ]
    },
    {
     "data": {
      "text/plain": [
       "15"
      ]
     },
     "execution_count": 87,
     "metadata": {},
     "output_type": "execute_result"
    }
   ],
   "source": [
    "# [연습문제] add_mul() 함수를 정의하여\n",
    "# 1,2,3,4,5를 입력값으로 적용하여 덧셈, 곱셈 연산을 수행하세요.\n",
    "\n",
    "def add_mul(choice, *args):\n",
    "\n",
    "    if choice =='+':\n",
    "        add = 0\n",
    "        for i in args:\n",
    "            add+=i\n",
    "        return add\n",
    "    elif choice =='*':\n",
    "        mul = 1\n",
    "        for i in args:\n",
    "            mul*=i\n",
    "        return mul\n",
    "    else:\n",
    "        print('잘못된 접근입니다.')\n",
    "\n",
    "print(add_mul('*',1,2,3,4,5))\n",
    "add_mul('+',1,2,3,4,5)"
   ]
  },
  {
   "cell_type": "code",
   "execution_count": 17,
   "id": "1b732542",
   "metadata": {},
   "outputs": [
    {
     "name": "stdout",
     "output_type": "stream",
     "text": [
      "-30\n"
     ]
    },
    {
     "data": {
      "text/plain": [
       "0.00026041666666666666"
      ]
     },
     "execution_count": 17,
     "metadata": {},
     "output_type": "execute_result"
    }
   ],
   "source": [
    "# [과제] 뺄셈, 나눗셈 멀티 계산 함수를 작성\n",
    "# ('sub',2,4,6,8,10)\n",
    "# ('div', 2,4,6,8,10)\n",
    "# 나눗셈에 0을 인자로 받을 수 없는 조건을 걸어야 함\n",
    "\n",
    "\n",
    "def sub_div(choice, *args):\n",
    "\n",
    "    if choice =='-':\n",
    "        sub = 0\n",
    "        for i in args:\n",
    "            sub-=i\n",
    "        return sub\n",
    "    elif choice =='/':\n",
    "        if 0 in args:\n",
    "            print('잘못된 접근입니다.')\n",
    "        else:    \n",
    "            div = 1\n",
    "            for i in args:\n",
    "                div/=i\n",
    "            return div\n",
    "\n",
    "print(sub_div('-',2,4,6,8,10))\n",
    "sub_div('/',2,4,6,8,10)"
   ]
  }
 ],
 "metadata": {
  "kernelspec": {
   "display_name": "Python 3 (ipykernel)",
   "language": "python",
   "name": "python3"
  },
  "language_info": {
   "codemirror_mode": {
    "name": "ipython",
    "version": 3
   },
   "file_extension": ".py",
   "mimetype": "text/x-python",
   "name": "python",
   "nbconvert_exporter": "python",
   "pygments_lexer": "ipython3",
   "version": "3.8.12"
  }
 },
 "nbformat": 4,
 "nbformat_minor": 5
}
