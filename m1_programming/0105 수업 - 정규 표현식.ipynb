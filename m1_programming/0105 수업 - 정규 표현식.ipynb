{
 "cells": [
  {
   "cell_type": "markdown",
   "id": "842cf1ea",
   "metadata": {},
   "source": [
    "#### 점프 투 파이썬 정규 표현식 꼭 복습하기 (중급 내용으로 급 건너뛴다)\n"
   ]
  },
  {
   "cell_type": "markdown",
   "id": "75dabad3",
   "metadata": {},
   "source": [
    "## 정규표현식의 기초, 메타문자\n",
    "\n",
    "- . ^ $ * + ? {} [] \\ | () 등\n",
    "\n",
    "\n",
    "- []: 문자 클래스\n",
    "    - \\d 숫자와 매치, [0-9]와 동일한 표현식\n",
    "    - \\D 숫자가 아닌 것과 매치, [^0-9]와 동일한 표현식<br>// ^가 [] 안에서 쓰일 땐 '반대'의 의미지만 또 다르게 쓰일 수도 있으므로 헷갈리지 마!\n",
    "    - \\s whitespace(공백) 문자와 매치, [ \\t(탭)\\n(개행)\\r\\f\\v]와 동일한 표현식<br>// 맨 앞에 ' ' 있다~\n",
    "    - \\S whitespace 문자가 아닌 것과 매치, [^ \\t\\n\\r\\f\\v]와 동일한 표현식\n",
    "    - \\w 문자+숫자와 매치, [a-zA-Z0-9_]와 동일한 표현식\n",
    "    - \\W 문자+숫자가 아닌 문자와 매치, [^a-zA-Z0-9_]와 동일한 표현식\n",
    "\n",
    "\n",
    "- whitespace\n",
    "    - 스페이스 바 (아스키 코드 32)\n",
    "    - \\b 뒤로 한 칸 이동(Backspace) (아스키 코드 8)\n",
    "    - \\t 수평 탭 간격 띄우기 (아스키 코드 9)\n",
    "    - \\n 줄 바꿈(개행) (아스키 코드 10)\n",
    "    - \\v 수직 탭 간격 띄우기 (아스키 코드 11)\n",
    "    - \\f 출력 용지를 한 페이지 넘김 (아스키 코드 12)\n",
    "    - \\r 동일한 줄의 맨 앞으로 커서 이동 (아스키 코드 13)\n",
    "\n",
    "\n",
    "- Dot(.): 줄 바꿈 문자인 \\n를 제외한 모든 문자와 매치(숫자 포함)\n",
    "\n",
    "\n",
    "- \\*: 0부터 무한대로 반복<br>(예: Ja\\*de -> Jde, Jaade, Jaaaade 등등 다 매치. a가 0번이어도 매치)<br>{0,}과 동일\n",
    "\n",
    "\n",
    "- +: 최소 1번 이상 반복<br>(예: Ja+de -> Jade, Jaaade 등등과 매치. Jde는 매치 불가)<br>{1,}과 동일\n",
    "\n",
    "\n",
    "- {m}: 반복 횟수가 m인 것을 매치<br>(예: j{1}ade -> jade와 매치)\n",
    "\n",
    "\n",
    "- {m,n}: 반복 횟수가 m부터 n까지인 것을 매치<br>(예: j{1,3}ade -> jade, jjade, jjjade와 매치)<br>{,n}이면 반복 횟수가 n 이하인 것을 매치\n",
    "\n",
    "\n",
    "- ?: ? 앞의 문자가 0~1번 사용되면 매치<br>(예: 몰?루 -> 루, 몰루와 매치. 몰몰루와는 매치 불가)<br>{0,1}과 동일한 의미\n",
    "\n",
    "<br>\n",
    "\n",
    "#### re 모듈\n",
    "- 파이썬은 정규 표현식을 지원하기 위해 기본으로 제공(import만 하면 됨)\n",
    "- re.compile의 결과로 리턴되는 객체를 이용하여 그 이후 작업 수행\n",
    "\n",
    "<br>\n",
    "\n",
    "#### 정규식을 이용한 문자열 검색\n",
    "- match(): 문자열의 처음부터 정규식과 매치되는지를 조사<br>문자열의 중간에 매칭이 있으면 none 반환\n",
    "- search(): 문자열의 전체를 검색하여 정규식과 매치되는지를 조사<br>문자열의 중간에 있어도 매치가 된다면 매치된 것으로 출력\n",
    "- findall(): 정규식과 매치되는 모든 문자열을 리스트로 리턴\n",
    "- finditer(): 정규식과 매치되는 모든 문자열을 반복 가능한 객체로 리턴"
   ]
  },
  {
   "cell_type": "code",
   "execution_count": 1,
   "id": "039dfb79",
   "metadata": {},
   "outputs": [
    {
     "name": "stdout",
     "output_type": "stream",
     "text": [
      "<re.Match object; span=(0, 7), match='python '>\n"
     ]
    }
   ],
   "source": [
    "import re\n",
    "\n",
    "p = re.compile('[a-z]+\\s')\n",
    "# 모든 소문자 알파벳 문자가([a-z]) 1번 이상 나오고(+) 그 다음에 공백 문자가 있는(\\s) 문자열과 매치\n",
    "\n",
    "m = p.match('python python')\n",
    "print(m)"
   ]
  },
  {
   "cell_type": "code",
   "execution_count": 2,
   "id": "dae10d58",
   "metadata": {},
   "outputs": [
    {
     "data": {
      "text/plain": [
       "<re.Match object; span=(0, 7), match='python '>"
      ]
     },
     "execution_count": 2,
     "metadata": {},
     "output_type": "execute_result"
    }
   ],
   "source": [
    "re.match('[a-z]+\\s','python python')"
   ]
  },
  {
   "cell_type": "code",
   "execution_count": 3,
   "id": "5afb6c5e",
   "metadata": {
    "scrolled": true
   },
   "outputs": [
    {
     "data": {
      "text/plain": [
       "['python ']"
      ]
     },
     "execution_count": 3,
     "metadata": {},
     "output_type": "execute_result"
    }
   ],
   "source": [
    "p.findall('python python')"
   ]
  },
  {
   "cell_type": "code",
   "execution_count": 4,
   "id": "b3623eaf",
   "metadata": {
    "scrolled": true
   },
   "outputs": [
    {
     "data": {
      "text/plain": [
       "['python ', 'python ']"
      ]
     },
     "execution_count": 4,
     "metadata": {},
     "output_type": "execute_result"
    }
   ],
   "source": [
    "p.findall('python python ')"
   ]
  },
  {
   "cell_type": "code",
   "execution_count": 5,
   "id": "205ad6c3",
   "metadata": {
    "scrolled": true
   },
   "outputs": [
    {
     "name": "stdout",
     "output_type": "stream",
     "text": [
      "None\n"
     ]
    }
   ],
   "source": [
    "m = p.match('3python ') # 이 문자열의 처음부터 보기 때문에 3이 나와서 매칭 불가\n",
    "print(m)"
   ]
  },
  {
   "cell_type": "code",
   "execution_count": 6,
   "id": "2babaaf8",
   "metadata": {},
   "outputs": [
    {
     "name": "stdout",
     "output_type": "stream",
     "text": [
      "<re.Match object; span=(1, 8), match='python '>\n"
     ]
    }
   ],
   "source": [
    "m = p.search('3python ') # 이 문자열의 전체를 보고 매칭\n",
    "print(m)"
   ]
  },
  {
   "cell_type": "code",
   "execution_count": 7,
   "id": "572e1600",
   "metadata": {
    "scrolled": true
   },
   "outputs": [
    {
     "name": "stdout",
     "output_type": "stream",
     "text": [
      "<re.Match object; span=(1, 4), match='ade'>\n",
      "<re.Match object; span=(0, 9), match='wednesday'>\n"
     ]
    }
   ],
   "source": [
    "# 문자 클래스 []\n",
    "\n",
    "pattern = re.compile('[a-z]+') # 알파벳 소문자가 하나 이상\n",
    "p1 = pattern.search('Jade')\n",
    "p2 = pattern.search('wednesday')\n",
    "\n",
    "print(p1)\n",
    "print(p2)"
   ]
  },
  {
   "cell_type": "code",
   "execution_count": 8,
   "id": "dc194786",
   "metadata": {
    "scrolled": true
   },
   "outputs": [
    {
     "data": {
      "text/plain": [
       "'a'"
      ]
     },
     "execution_count": 8,
     "metadata": {},
     "output_type": "execute_result"
    }
   ],
   "source": [
    "# [연습문제] '12345abc'에서 'a'만 출력하세요\n",
    "import re\n",
    "quiz = re.compile('[a]') # 문자열 a와 같은 것이 있는지 탐색\n",
    "q = quiz.search('12345abc')\n",
    "q.group()"
   ]
  },
  {
   "cell_type": "code",
   "execution_count": 9,
   "id": "54ce9315",
   "metadata": {
    "scrolled": true
   },
   "outputs": [
    {
     "data": {
      "text/plain": [
       "'A'"
      ]
     },
     "execution_count": 9,
     "metadata": {},
     "output_type": "execute_result"
    }
   ],
   "source": [
    "# [연습문제] '12345Abc'에서 'A'만 출력하세요\n",
    "import re\n",
    "quiz = re.compile('[A-Z]') # 대문자와 같은 것이 있는지 탐색\n",
    "q = quiz.search('12345Abc')\n",
    "q.group()"
   ]
  },
  {
   "cell_type": "code",
   "execution_count": 10,
   "id": "0688c000",
   "metadata": {},
   "outputs": [
    {
     "data": {
      "text/plain": [
       "'122333c'"
      ]
     },
     "execution_count": 10,
     "metadata": {},
     "output_type": "execute_result"
    }
   ],
   "source": [
    "# [연습문제] '122333c'를 모두 출력하세요.\n",
    "import re\n",
    "quiz = re.compile('12{2}3{3}c') # 1 (2 2번 반복) (3 3번 반복) c\n",
    "q = quiz.search('122333c')\n",
    "q.group()"
   ]
  },
  {
   "cell_type": "code",
   "execution_count": 11,
   "id": "ac34e223",
   "metadata": {},
   "outputs": [
    {
     "name": "stdout",
     "output_type": "stream",
     "text": [
      "['ife', 'is', 'too', 'short']\n",
      "None\n",
      "<re.Match object; span=(1, 4), match='ife'>\n"
     ]
    }
   ],
   "source": [
    "p = re.compile('[a-z]+')\n",
    "result = p.findall('Life is too short')\n",
    "print(result)\n",
    "# 가능한 모든 것을 챙기기 때문에 ife도 출력됨\n",
    "\n",
    "print(p.match('Life is too short'))\n",
    "print(p.search('Life is too short'))\n",
    "# 중간에 공백이 들어갔기 때문에 맨 앞 친구만 매칭"
   ]
  },
  {
   "cell_type": "code",
   "execution_count": 12,
   "id": "97310ff1",
   "metadata": {},
   "outputs": [
    {
     "name": "stdout",
     "output_type": "stream",
     "text": [
      "ife\n",
      "is\n",
      "too\n",
      "short\n"
     ]
    }
   ],
   "source": [
    "# finditer는 findall과 작동 원리는 동일하지만 그 결과로 반복 가능한 객체를 리턴\n",
    "# iterable object를 돌려준다는 것\n",
    "\n",
    "result = p.finditer('Life is too short')\n",
    "# 이것만 출력하면 객체가 나옴\n",
    "# list(result)\n",
    "for r in result: print(r.group()) # 반복 가능한 객체이므로 for문 사용 가능"
   ]
  },
  {
   "cell_type": "code",
   "execution_count": 13,
   "id": "c4e5d1fd",
   "metadata": {},
   "outputs": [
    {
     "name": "stdout",
     "output_type": "stream",
     "text": [
      "['1', '2', '3', '4']\n"
     ]
    }
   ],
   "source": [
    "# [연습문제] '1234a1234'에서 '1','2','3','4'를 모두 출력하세요. (중복 없이 하면 이렇게)\n",
    "import re\n",
    "text = '1234a1234'\n",
    "t = re.compile('[0-9]') # '\\d'도 된다네\n",
    "tx = t.findall(text)\n",
    "print(sorted(set(tx)))"
   ]
  },
  {
   "cell_type": "code",
   "execution_count": 14,
   "id": "4cfed6e6",
   "metadata": {},
   "outputs": [
    {
     "name": "stdout",
     "output_type": "stream",
     "text": [
      "['1', '2', '3', '4', '1', '2', '3', '4']\n"
     ]
    }
   ],
   "source": [
    "# [연습문제] '1234a1234'에서 '1','2','3','4'를 모두 출력하세요.\n",
    "import re\n",
    "text = '1234a1234'\n",
    "t = re.compile('[1234]')\n",
    "tx = t.findall(text)\n",
    "print(tx)"
   ]
  },
  {
   "cell_type": "code",
   "execution_count": 15,
   "id": "2a68787d",
   "metadata": {
    "scrolled": true
   },
   "outputs": [
    {
     "name": "stdout",
     "output_type": "stream",
     "text": [
      "['Python', 'is', 'very', 'good', 'programming', 'language']\n"
     ]
    }
   ],
   "source": [
    "# [연습문제] ' Python3 is very good programming language!'에서\n",
    "# ['python', 'is', 'very', 'good', 'programming', 'language']를 모두 출력하세요.\n",
    "import re\n",
    "txt = ' Python3 is very good programming language!'\n",
    "t = re.compile('[A-Za-z]+')\n",
    "tx = t.findall(txt)\n",
    "print(tx)"
   ]
  },
  {
   "cell_type": "code",
   "execution_count": 16,
   "id": "9fa7d5d2",
   "metadata": {},
   "outputs": [
    {
     "name": "stdout",
     "output_type": "stream",
     "text": [
      "python\n",
      "0\n",
      "6\n",
      "(0, 6)\n"
     ]
    }
   ],
   "source": [
    "# match 객체의 메소드\n",
    "import re\n",
    "p = re.compile('[a-z]+')\n",
    "m = p.match('python123')\n",
    "print(m.group())\n",
    "print(m.start()) # 시작점의 인덱스\n",
    "print(m.end()) # 끝점의 인덱스\n",
    "print(m.span()) # 매칭의 범위"
   ]
  },
  {
   "cell_type": "code",
   "execution_count": 17,
   "id": "ae6cd061",
   "metadata": {},
   "outputs": [
    {
     "name": "stdout",
     "output_type": "stream",
     "text": [
      "python\n",
      "2\n",
      "8\n",
      "(2, 8)\n"
     ]
    }
   ],
   "source": [
    "# search 객체의 메소드\n",
    "import re\n",
    "p = re.compile('[a-z]+')\n",
    "m = p.search('3 python123')\n",
    "print(m.group())\n",
    "print(m.start()) # 시작점의 인덱스\n",
    "print(m.end()) # 끝점의 인덱스\n",
    "print(m.span()) # 매칭의 범위"
   ]
  },
  {
   "cell_type": "code",
   "execution_count": 18,
   "id": "93cd9204",
   "metadata": {},
   "outputs": [
    {
     "data": {
      "text/plain": [
       "'dsajk'"
      ]
     },
     "execution_count": 18,
     "metadata": {},
     "output_type": "execute_result"
    }
   ],
   "source": [
    "# 모듈 단위로 수행하기\n",
    "import re\n",
    "\n",
    "p = re.match('[a-z]+','dsajk21nw')\n",
    "p.group()"
   ]
  },
  {
   "cell_type": "code",
   "execution_count": 19,
   "id": "2bb49b6e",
   "metadata": {
    "scrolled": true
   },
   "outputs": [
    {
     "name": "stdout",
     "output_type": "stream",
     "text": [
      "<re.Match object; span=(0, 12), match='a893hhbasu/b'>\n",
      "<re.Match object; span=(0, 9), match='a2 fs88vb'>\n",
      "None\n",
      "None\n"
     ]
    }
   ],
   "source": [
    "# Dot(.) 메타 문자 - \\n 제외한 모든 문자 요소 반환(숫자 포함)\n",
    "import re\n",
    "p = re.compile('a.+b') # 모든 문자가 a와 b 사이에 1개 이상은 들어 있어야 하므로 ab는 매칭 불가\n",
    "txt1 = 'a893hhbasu/b'\n",
    "txt2 = 'a2 fs88vbwe'\n",
    "txt3 = 'a23 \\ndkwbds'\n",
    "txt4 = 'ab'\n",
    "print(p.match(txt1))\n",
    "print(p.match(txt2))\n",
    "print(p.match(txt3))\n",
    "print(p.match(txt4))"
   ]
  },
  {
   "cell_type": "code",
   "execution_count": 20,
   "id": "112da14a",
   "metadata": {},
   "outputs": [
    {
     "name": "stdout",
     "output_type": "stream",
     "text": [
      "None\n"
     ]
    },
    {
     "data": {
      "text/plain": [
       "'a\\nb'"
      ]
     },
     "execution_count": 20,
     "metadata": {},
     "output_type": "execute_result"
    }
   ],
   "source": [
    "import re\n",
    "p = re.compile('a.b', re.DOTALL)  # \\n까지 포함해 모든 문자가 매칭. 개수는 1개\n",
    "m = p.match('a\\nb')\n",
    "m1 = p.match('a\\n1234b') # a와 b 사이에 문자 1개만 있어야 하므로 리턴 값 없음\n",
    "print(m1)\n",
    "m.group()"
   ]
  },
  {
   "cell_type": "code",
   "execution_count": 21,
   "id": "e3808952",
   "metadata": {},
   "outputs": [
    {
     "name": "stdout",
     "output_type": "stream",
     "text": [
      "<re.Match object; span=(0, 13), match='JADEisthebest'>\n"
     ]
    }
   ],
   "source": [
    "# re.IGNORANCE 또는 re.I 옵션은 대소문자 구분 없이 매치 수행 시 사용\n",
    "import re\n",
    "p = re.compile('[a-z]+',re.I) # 앞쪽 컴파일 요소에 소문자만 넣었지만 결과는 대소문자 모두 리턴\n",
    "print(p.match('JADEisthebest personIntheworld'))"
   ]
  },
  {
   "cell_type": "code",
   "execution_count": 22,
   "id": "639fc69e",
   "metadata": {
    "scrolled": true
   },
   "outputs": [
    {
     "name": "stdout",
     "output_type": "stream",
     "text": [
      "<re.Match object; span=(4, 17), match='JADEisthebest'>\n"
     ]
    }
   ],
   "source": [
    "import re\n",
    "p = re.compile('[a-z]+',re.I) # 앞쪽 컴파일 요소에 소문자만 넣었지만 결과는 대소문자 모두 리턴\n",
    "print(p.search('1234JADEisthebest personIntheworld'))"
   ]
  },
  {
   "cell_type": "code",
   "execution_count": 23,
   "id": "8f221a65",
   "metadata": {
    "scrolled": true
   },
   "outputs": [
    {
     "name": "stdout",
     "output_type": "stream",
     "text": [
      "['python one']\n"
     ]
    }
   ],
   "source": [
    "# ^: 문자열의 맨 처음과 매치\n",
    "import re\n",
    "p = re.compile('^python\\s\\w+')\n",
    "# ^기 []안이 아니라 문자열의 처음에 왔기 때문에 처음이 python으로 시작하고\n",
    "# 그 다음이 공백, 그 다음이 문자나 숫자인 것과 매치\n",
    "\n",
    "data = '''python one\n",
    "too young to die\n",
    "python two\n",
    "you can run but you cannot hide\n",
    "python three'''\n",
    "\n",
    "print(p.findall(data))\n",
    "\n",
    "# 왜 python one만 출력되느냐 하면, 처음 시작하는 부분에서 보는 것이기 때문에\n",
    "# 맨 처음 python one 앞에 아무 글자가 더 첨부하면 반환값은 none이 됨"
   ]
  },
  {
   "cell_type": "code",
   "execution_count": 24,
   "id": "7ad218ac",
   "metadata": {
    "scrolled": true
   },
   "outputs": [
    {
     "name": "stdout",
     "output_type": "stream",
     "text": [
      "['python three']\n"
     ]
    }
   ],
   "source": [
    "# $: 문자열의 맨 마지막과 매치\n",
    "import re\n",
    "p = re.compile('python\\s\\w+$')\n",
    "# 제일 끝의 형태가 python으로 시작하고\n",
    "# 그 다음이 공백, 그 다음이 문자나 숫자인 것과 매치\n",
    "# 만약 python three의 뒤에 기호나 공백을 붙이면 none을 리턴\n",
    "\n",
    "data = '''python one\n",
    "too young to die\n",
    "python two\n",
    "you can run but you cannot hide\n",
    "python three'''\n",
    "\n",
    "print(p.findall(data))"
   ]
  },
  {
   "cell_type": "code",
   "execution_count": 25,
   "id": "4194ec0c",
   "metadata": {},
   "outputs": [
    {
     "data": {
      "text/plain": [
       "['respect', 'Money']"
      ]
     },
     "execution_count": 25,
     "metadata": {},
     "output_type": "execute_result"
    }
   ],
   "source": [
    "# |: or와 동일한 의미\n",
    "\n",
    "p = re.compile('Respect|money',re.I) # 대소문자 구분 없이 매칭해 보자\n",
    "p.findall('respectMyMoney')"
   ]
  },
  {
   "cell_type": "code",
   "execution_count": 26,
   "id": "8ad071a4",
   "metadata": {},
   "outputs": [
    {
     "data": {
      "text/plain": [
       "'home'"
      ]
     },
     "execution_count": 26,
     "metadata": {},
     "output_type": "execute_result"
    }
   ],
   "source": [
    "# [연습문제] 'we are going home'에서 home만 출력하세요.\n",
    "import re\n",
    "txt = 'we are going home'\n",
    "p = re.search('\\w+$', txt) # 끝에서 문자나 숫자인 것을 출력. ''\n",
    "p.group()"
   ]
  },
  {
   "cell_type": "code",
   "execution_count": 27,
   "id": "2a478e90",
   "metadata": {},
   "outputs": [
    {
     "name": "stdout",
     "output_type": "stream",
     "text": [
      "<re.Match object; span=(4, 13), match='\\\\\\\\section'>\n"
     ]
    }
   ],
   "source": [
    "# Raw String 규칙\n",
    "import re\n",
    "p = re.compile('\\\\\\\\section') # 이러면 \\\\section\n",
    "# \\s 때문에 문제될 것 같으면 문제될 글자 앞에 \\를 붙여서 속성 지워주기\n",
    "# 근데 문제는 \\를 많이 써야 한다면? \\의 개수가 두 배로 늘어나는 것임\n",
    "# 그것을 막기 위해 로우 스트링을 쓰자~\n",
    "p = re.compile(r'\\\\\\\\section') # 이러면 \\\\\\\\section\n",
    "\n",
    "print(p.search('123\\\\\\\\\\\\section123456'))\n"
   ]
  },
  {
   "cell_type": "code",
   "execution_count": 28,
   "id": "4b8b5be6",
   "metadata": {},
   "outputs": [
    {
     "name": "stdout",
     "output_type": "stream",
     "text": [
      "[('ABCDEF', 'AB', '', 'CD', 'EF')]\n",
      "ABCDEF\n",
      "ABCDEF\n",
      "AB\n",
      "\n",
      "CD\n",
      "EF\n"
     ]
    }
   ],
   "source": [
    "# grouping, 그룹핑: 매치된 문자열 중에서 특정 부분의 문자열만 뽑아내는 경우 ()으로 묶어준다.\n",
    "# group(0) - 매치된 전체 문제열을 출력, (n)이면 n번째 그룹을 출력\n",
    "import re\n",
    "p = re.compile('((AB)()(CD)(EF))') # 괄호로 묶은 것만 출력 가능\n",
    "txt = 'DABSCDABCDEFWEFADWEFASDWA'\n",
    "print(p.findall(txt))\n",
    "m = p.search(txt)\n",
    "print(m.group(0)) # 그룹과 상관 없이 전체 문자열인 ABCDEF를 출력. 매칭 요소가 아니어도 출력.\n",
    "print(m.group(1))\n",
    "print(m.group(2))\n",
    "print(m.group(3))\n",
    "print(m.group(4))\n",
    "print(m.group(5))"
   ]
  },
  {
   "cell_type": "code",
   "execution_count": null,
   "id": "3d4a9022",
   "metadata": {},
   "outputs": [],
   "source": []
  },
  {
   "cell_type": "code",
   "execution_count": 29,
   "id": "5ba91bf3",
   "metadata": {
    "scrolled": false
   },
   "outputs": [
    {
     "data": {
      "text/plain": [
       "'대'"
      ]
     },
     "execution_count": 29,
     "metadata": {},
     "output_type": "execute_result"
    }
   ],
   "source": [
    "# [과제] 'KOREA 대한민국'에서 '대'만 출력하세요.\n",
    "import re\n",
    "quiz = re.compile('[대]')\n",
    "q = quiz.search('KOREA 대한민국')\n",
    "q.group()"
   ]
  },
  {
   "cell_type": "code",
   "execution_count": 30,
   "id": "b9e1129f",
   "metadata": {
    "scrolled": true
   },
   "outputs": [
    {
     "data": {
      "text/plain": [
       "'122333c'"
      ]
     },
     "execution_count": 30,
     "metadata": {},
     "output_type": "execute_result"
    }
   ],
   "source": [
    "# [과제] '122333c'를 모두 출력하세요.\n",
    "import re\n",
    "quiz = re.compile('[a-z0-9]+')\n",
    "q = quiz.search('122333c')\n",
    "q.group()"
   ]
  },
  {
   "cell_type": "code",
   "execution_count": 31,
   "id": "5829080d",
   "metadata": {},
   "outputs": [
    {
     "name": "stdout",
     "output_type": "stream",
     "text": [
      "aaaaBBBcccDDDeee\n",
      "aaaaBBBcccDDDeee\n"
     ]
    }
   ],
   "source": [
    "# [과제] 'aaaaBBBcccDDDeee'를 모두 출력하세요.\n",
    "import re\n",
    "quiz = re.compile('[A-Za-z]+')\n",
    "quiz1 = re.compile('a{4}B{3}c{3}D{3}e{3}')\n",
    "q = quiz.search('aaaaBBBcccDDDeee')\n",
    "q1 = quiz1.search('aaaaBBBcccDDDeee')\n",
    "print(q.group())\n",
    "print(q1.group())"
   ]
  },
  {
   "cell_type": "code",
   "execution_count": 32,
   "id": "f450c119",
   "metadata": {
    "scrolled": true
   },
   "outputs": [
    {
     "name": "stdout",
     "output_type": "stream",
     "text": [
      "<re.Match object; span=(1, 2), match='C'>\n",
      "<re.Match object; span=(1, 2), match='C'>\n",
      "<re.Match object; span=(2, 3), match='C'>\n"
     ]
    }
   ],
   "source": [
    "# [과제] BC, CC, ABC 모두 C가 출력되는 정규 표현식을 ()에 작성하세요.\n",
    "import re\n",
    "pattern = re.compile('C$') # 혹은 '[C]'\n",
    "text1 = 'BC'\n",
    "text2 = 'CC'\n",
    "text3 = 'ABC'\n",
    "print(pattern.search(text1))\n",
    "print(pattern.search(text2))\n",
    "print(pattern.search(text3))"
   ]
  },
  {
   "cell_type": "code",
   "execution_count": 33,
   "id": "4c8d9e9f",
   "metadata": {
    "scrolled": false
   },
   "outputs": [
    {
     "name": "stdout",
     "output_type": "stream",
     "text": [
      "032-232-3245\n"
     ]
    }
   ],
   "source": [
    "# [과제] 정규 표현식을 사용하여 text에서 전화번호만 출력하세요.\n",
    "import re\n",
    "text = '문의사항이 있으면 032-232-3245로 연락주시기 바랍니다.'\n",
    "ans = re.compile('[0-9]+')\n",
    "a = ans.findall(text)\n",
    "print('-'.join(a))"
   ]
  },
  {
   "cell_type": "code",
   "execution_count": 34,
   "id": "bf96ab08",
   "metadata": {},
   "outputs": [
    {
     "name": "stdout",
     "output_type": "stream",
     "text": [
      "<re.Match object; span=(0, 4), match='home'>\n",
      "<re.Match object; span=(0, 4), match='home'>\n"
     ]
    },
    {
     "data": {
      "text/plain": [
       "['home']"
      ]
     },
     "execution_count": 34,
     "metadata": {},
     "output_type": "execute_result"
    }
   ],
   "source": [
    "# [과제] 'home sweet'에서 home만 출력하세요.\n",
    "import re\n",
    "txt = 'home sweet home'\n",
    "print(re.match('[a-z]+',txt))\n",
    "print(re.search('^home',txt))\n",
    "re.findall('^home',txt)"
   ]
  },
  {
   "cell_type": "code",
   "execution_count": 35,
   "id": "4ecdab37",
   "metadata": {},
   "outputs": [
    {
     "name": "stdout",
     "output_type": "stream",
     "text": [
      "<re.Match object; span=(0, 6), match='199305'>\n",
      "<re.Match object; span=(0, 6), match='199305'>\n"
     ]
    },
    {
     "data": {
      "text/plain": [
       "['199305']"
      ]
     },
     "execution_count": 35,
     "metadata": {},
     "output_type": "execute_result"
    }
   ],
   "source": [
    "# [과제] '199305, 1923A, a93247'에서 199305만 출력하세요.\n",
    "import re\n",
    "txt = '199305, 1923A, a93247, 819930524'\n",
    "print(re.match('[0-9]+',txt))\n",
    "print(re.search('^199305',txt))\n",
    "re.findall('^199305',txt)"
   ]
  },
  {
   "cell_type": "code",
   "execution_count": 36,
   "id": "9107fa33",
   "metadata": {},
   "outputs": [
    {
     "name": "stdout",
     "output_type": "stream",
     "text": [
      "abcdefghij\n",
      "e\n"
     ]
    }
   ],
   "source": [
    "# [과제] 'abcdefghij'에 대하여 중첩을 적용한 서브 그룹 5개를 컴파일하고\n",
    "# group() 함수를 이용하여 'abcdefghij'와 'e'를 출력하세요.\n",
    "\n",
    "text = 'abcdefghij'\n",
    "p = re.compile('(abcd(e))f((g)(hij))')\n",
    "m = p.search(text)\n",
    "print(m.group(0))\n",
    "print(m.group(2))\n"
   ]
  }
 ],
 "metadata": {
  "kernelspec": {
   "display_name": "Python 3 (ipykernel)",
   "language": "python",
   "name": "python3"
  },
  "language_info": {
   "codemirror_mode": {
    "name": "ipython",
    "version": 3
   },
   "file_extension": ".py",
   "mimetype": "text/x-python",
   "name": "python",
   "nbconvert_exporter": "python",
   "pygments_lexer": "ipython3",
   "version": "3.8.12"
  }
 },
 "nbformat": 4,
 "nbformat_minor": 5
}
