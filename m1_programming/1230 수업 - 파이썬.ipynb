{
 "cells": [
  {
   "cell_type": "markdown",
   "id": "cc90f3b1",
   "metadata": {},
   "source": [
    "https://codedrive.tistory.com/91 <br>\n",
    "내장함수는 임포트 필요 없음. 바로 쓰면 됨<br>\n",
    "외장함수는 임포트 해서 쓸 수 있고, 별도의 프로그램이나 라이브러리는 설치 후 임포트 해야 함<br>"
   ]
  },
  {
   "cell_type": "code",
   "execution_count": 6,
   "id": "0d87ffcb",
   "metadata": {},
   "outputs": [
    {
     "data": {
      "text/plain": [
       "1"
      ]
     },
     "execution_count": 6,
     "metadata": {},
     "output_type": "execute_result"
    }
   ],
   "source": [
    "# 2와 5를 더한 후 3으로 나눈 나머지 값을 사용자 함수를 이용하여 구하세요.\n",
    "# definition으로 함수를 선언, 변수가 몇 개 들어가는지도 언급해 주기\n",
    "# 주어진 기능을 수행 후 결과를 리턴해 주는 기능도 반드시 넣어야 함\n",
    "\n",
    "def cal_abc(a,b,c):\n",
    "    return(a+b)%c\n",
    "\n",
    "cal_abc(2,5,3)"
   ]
  },
  {
   "cell_type": "code",
   "execution_count": 13,
   "id": "8a75181e",
   "metadata": {},
   "outputs": [
    {
     "name": "stdout",
     "output_type": "stream",
     "text": [
      "It is true\n",
      "'Python is fit for data analysis'\n"
     ]
    }
   ],
   "source": [
    "# strip 스트립\n",
    "# 문자열 앞뒤의 공백을 제거하고 아래와 같이 출력하세요.\n",
    "# 깨끗하게 다듬는다는 뜻임\n",
    "\n",
    "input_a = \"\"\"\n",
    "                       It is true\n",
    "'Python is fit for data analysis'                       \n",
    "                      \"\"\"\n",
    "\n",
    "print(input_a.strip())"
   ]
  },
  {
   "cell_type": "code",
   "execution_count": 9,
   "id": "5096b4da",
   "metadata": {},
   "outputs": [
    {
     "data": {
      "text/plain": [
       "['10', '20', '30', '40', '50']"
      ]
     },
     "execution_count": 9,
     "metadata": {},
     "output_type": "execute_result"
    }
   ],
   "source": [
    "# split 스플릿\n",
    "# \"10/20/30/40/50\"을 '/'을 기준으로 자르세요.\n",
    "# 조건을 기준으로 나눈 후 리스트화\n",
    "\n",
    "a = '10/20/30/40/50'\n",
    "a.split('/')"
   ]
  },
  {
   "cell_type": "markdown",
   "id": "6b176217",
   "metadata": {},
   "source": [
    "Python random 모듈\n",
    "\n",
    "https://nittaku.tistory.com/443"
   ]
  },
  {
   "cell_type": "code",
   "execution_count": 2,
   "id": "17357736",
   "metadata": {},
   "outputs": [
    {
     "data": {
      "text/plain": [
       "array([4, 0, 3, 3, 3, 1, 3, 2, 4, 0])"
      ]
     },
     "execution_count": 2,
     "metadata": {},
     "output_type": "execute_result"
    }
   ],
   "source": [
    "import numpy as np\n",
    "np.random.seed(0) # 이렇게 seed를 넣으면 결과가 고정됨\n",
    "num = np.random.randint(5,size=10) # 10개의 숫자를 5 안의 범위 내에서 뽑는다는 말\n",
    "num"
   ]
  },
  {
   "cell_type": "code",
   "execution_count": 1,
   "id": "1a4145dd",
   "metadata": {},
   "outputs": [
    {
     "name": "stdout",
     "output_type": "stream",
     "text": [
      "첫 번째 숫자를 입력해 주세요. 1\n",
      "두 번째 숫자를 입력해 주세요. 3\n",
      "4\n"
     ]
    }
   ],
   "source": [
    "# 짝수와 짝수를 입력하면 곱한 값을 출력하고 홀수와 홀수를 입력하면 덧셈 값을 출력\n",
    "# 그 외에는 다시 입력하는 메시지를 내보내는 프로그램\n",
    "\n",
    "def even(a,b):\n",
    "    return(a*b)\n",
    "\n",
    "def odd(a,b):\n",
    "    return(a+b)\n",
    "\n",
    "while 1:\n",
    "    \n",
    "    n1 = int(input('첫 번째 숫자를 입력해 주세요. '))\n",
    "    n2 = int(input('두 번째 숫자를 입력해 주세요. '))\n",
    "\n",
    "    if n1==0 or n2==0:\n",
    "        print('다른 숫자를 입력해 주세요.')\n",
    "    elif n1%2==0 and n2%2==0:\n",
    "        print(even(n1,n2))\n",
    "        break\n",
    "    elif n1%2==1 and n2%2==1:\n",
    "        print(odd(n1,n2))\n",
    "        break\n",
    "    else: print('다른 숫자를 입력해 주세요.')"
   ]
  },
  {
   "cell_type": "code",
   "execution_count": 77,
   "id": "64b17e4e",
   "metadata": {
    "scrolled": true
   },
   "outputs": [
    {
     "name": "stdout",
     "output_type": "stream",
     "text": [
      "2500\n"
     ]
    }
   ],
   "source": [
    "# [과제] 1부터 100까지 아래와 같이 2개의 수를 곱해서 가장 큰 수를 구하세요.\n",
    "# 1*99, 2*98,..., 99*1\n",
    "\n",
    "Max = 0\n",
    "for i in range(1,100):\n",
    "    a = i*(100-i)\n",
    "    if a > Max:\n",
    "        Max=a\n",
    "print(Max)\n"
   ]
  },
  {
   "cell_type": "code",
   "execution_count": 3,
   "id": "83293ddd",
   "metadata": {
    "scrolled": true
   },
   "outputs": [
    {
     "name": "stdout",
     "output_type": "stream",
     "text": [
      "2500\n"
     ]
    }
   ],
   "source": [
    "maximum = 0\n",
    "\n",
    "for i in range(1,100):\n",
    "    if i*(100-i)>maximum:\n",
    "        maximum=i*(100-i)\n",
    "        \n",
    "print(maximum)\n",
    "\n",
    "# 이게 내가 한 거임"
   ]
  },
  {
   "cell_type": "code",
   "execution_count": 6,
   "id": "97206b39",
   "metadata": {
    "scrolled": true
   },
   "outputs": [
    {
     "name": "stdout",
     "output_type": "stream",
     "text": [
      "2500\n"
     ]
    }
   ],
   "source": [
    "# 이건 while문을 사용한 누군가의 풀이\n",
    "\n",
    "n = 1\n",
    "result = 0\n",
    "while n<100:\n",
    "    a = n*(100-n)\n",
    "    if a>result:\n",
    "        result = a\n",
    "        n+=1\n",
    "    else:\n",
    "        n+=1\n",
    "        continue\n",
    "print(result)"
   ]
  },
  {
   "cell_type": "code",
   "execution_count": 8,
   "id": "3e22e0a9",
   "metadata": {},
   "outputs": [
    {
     "name": "stdout",
     "output_type": "stream",
     "text": [
      "2500\n"
     ]
    }
   ],
   "source": [
    "# 이건 zip 함수를 사용한 누군가의 풀이\n",
    "\n",
    "def findBiggestOne():\n",
    "    biggestNum = 0\n",
    "    for i,j in zip(range(1,100), range(99,0,-1)):\n",
    "        if i*j >biggestNum:\n",
    "            biggestNum = i*j\n",
    "    return biggestNum\n",
    "print(findBiggestOne())\n",
    "\n",
    "# zip 함수에서 지금 앞쪽은 1~100으로 오름차순 집합, 뒤쪽은 99~0까지 내림차순 집합\n"
   ]
  },
  {
   "cell_type": "code",
   "execution_count": 1,
   "id": "6d6ec43f",
   "metadata": {},
   "outputs": [
    {
     "name": "stdout",
     "output_type": "stream",
     "text": [
      "[[1, 4, 7], [2, 5, 8], [3, 6, 9]]\n"
     ]
    }
   ],
   "source": [
    "# [과제] [    ]을 채워서 아래의 출력과 같이 출력하세요\n",
    "# 출력:\n",
    "# [[1,4,6],[2,5,8],[3,6,9]]\n",
    "\n",
    "numbers = [1,2,3,4,5,6,7,8,9]\n",
    "output = [[],[],[]]\n",
    "\n",
    "for number in numbers:\n",
    "    output[number%3-1].append(number) # 여기서 알고자 하는 건 리스트의 인덱스 안에 수식을 집어넣을 수 있다는 것\n",
    "print(output)\n",
    "\n",
    "#print(numbers[::3], numbers[1::3], numbers[2::3]) 이건 걍 모양새 보려는 코드\n",
    "\n",
    "# (3으로 나눴을 때의 나머지 -1)이 인덱스 넘버이고, 인덱스 넘버는 0부터 시작하거든\n",
    "# 1, 4, 7을 0번째 인덱스에 넣으려면 해당 숫자를 3으로 나눴을 때 0이 나오는 수식이 좋겠지?\n",
    "# 같은 방식으로 2, 5, 8이 1번째 인덱스에 들어가야 하니 나머지에서 1을 빼주는 거야. 나머지는 2이니까."
   ]
  },
  {
   "cell_type": "code",
   "execution_count": 10,
   "id": "9e82a956",
   "metadata": {
    "scrolled": false
   },
   "outputs": [
    {
     "name": "stdout",
     "output_type": "stream",
     "text": [
      "이번엔 뜬다! 로또머신을 몇 회 가동할까요? >>> 3\n",
      "[11 14 15 21 31 36]\n",
      "[11 16 24 29 37 39]\n",
      "[ 3 23 24 28 34 35]\n"
     ]
    },
    {
     "data": {
      "text/plain": [
       "[1, 2, 20, 24, 28, 31]"
      ]
     },
     "metadata": {},
     "output_type": "display_data"
    }
   ],
   "source": [
    "# [과제] 사용자가 입력한 게임 회수만큼 로또 번호를 출력하는 프로그램을 작성하세요.\n",
    "# 입력받은 횟수 만큼 중복 없는 난수 생성, 그런데 회차 내에서만 중복 없게끔\n",
    "# 중복이 없는 건 세트지? 근데 총 숫자는 6개가 나와야 해.\n",
    "# 세트로는 못 하겠어서 np 중에 중복 없애는 걸로 사용했음\n",
    "\n",
    "import numpy as np\n",
    "\n",
    "charge = int(input('이번엔 뜬다! 로또머신을 몇 회 가동할까요? >>> '))\n",
    "for i in range(charge):\n",
    "    while 1:\n",
    "        num = np.random.randint(1,45,size=6)\n",
    "        if len(np.unique(num)) <= 5:\n",
    "            continue\n",
    "        else:\n",
    "            print(np.sort(num))\n",
    "            break\n",
    "            \n",
    "# 세트 넣으면 중복 뜰 때 숫자가 없어져버림 ㅋㅋ 그렇다고 중복을 어케 빼는가.,.\n",
    "# for 문으로 지정된 회차만큼, while문을 이용해 중복은 새로 돌리는 식으로 해결함\n",
    "\n",
    "\n",
    "# 현재 m3 하는 중인데\n",
    "# 이제야 하는 말이지만 np.random.choice 이용해서\n",
    "# 1,45까지의 배열에서 6개 비복원으로 뽑기만 하면 되는 거였음\n",
    "# 아는 만큼 보인다는 건 이런 거겠죠...?\n",
    "a = np.arange(1,46)\n",
    "display(sorted(np.random.choice(a,6)))"
   ]
  },
  {
   "cell_type": "code",
   "execution_count": 1,
   "id": "540a29cd",
   "metadata": {
    "scrolled": true
   },
   "outputs": [
    {
     "name": "stdout",
     "output_type": "stream",
     "text": [
      "발표할 인원 수를 입력하세요. >> 3\n",
      "['야스오', '룰루', '가렌']\n"
     ]
    }
   ],
   "source": [
    "#[연습문제] 발표할 인원을 입력하면 랜덤으로 발표자를 리스트로 출력해 주는 프로그램을 작성하세요.\n",
    "# (중복 허용 X)\n",
    "\n",
    "import random\n",
    "\n",
    "name = ['야스오','가렌','진','녹턴','샤코','소라카','룰루',\n",
    "        '제드','쉔','티모','마스터이','릴리아','니코','리 신','피오라']\n",
    "while 1:\n",
    "    try:\n",
    "        num = int(input('발표할 인원 수를 입력하세요. >> '))\n",
    "        if num>15 or num<1:\n",
    "            raise ArithmeticError\n",
    "    except ValueError:\n",
    "        print('※ 숫자 형태의 번호만 입력 가능합니다.')\n",
    "    except:\n",
    "        print('※ 1에서 15 사이의 번호를 입력해 주세요.')\n",
    "    else:\n",
    "        print(random.sample(name,num))\n",
    "        break"
   ]
  },
  {
   "cell_type": "code",
   "execution_count": 6,
   "id": "38b65fa8",
   "metadata": {},
   "outputs": [
    {
     "name": "stdout",
     "output_type": "stream",
     "text": [
      "발표인원 입력 >> 3\n"
     ]
    },
    {
     "data": {
      "text/plain": [
       "['룰루', '리 신', '마스터이']"
      ]
     },
     "execution_count": 6,
     "metadata": {},
     "output_type": "execute_result"
    }
   ],
   "source": [
    "# 선생님 풀이\n",
    "\n",
    "name = ['야스오','가렌','진','녹턴','샤코','소라카','룰루',\n",
    "        '제드','쉔','티모','마스터이','릴리아','니코','리 신','피오라']\n",
    "\n",
    "li=[]\n",
    "num = int(input('발표인원 입력 >> '))\n",
    "\n",
    "for _ in range(num):\n",
    "    p = random.randint(0,16)\n",
    "    while p in li:\n",
    "        p = random.randint(0,16) # 이미 리스트에 있다면 다시 돌리기. 근데 여러번 다시 돌리게 되긴 함\n",
    "    li.append(name[p])\n",
    "li"
   ]
  },
  {
   "cell_type": "code",
   "execution_count": 15,
   "id": "6ef5b651",
   "metadata": {},
   "outputs": [
    {
     "name": "stdout",
     "output_type": "stream",
     "text": [
      "로또 횟수를 입력하세요. >>> 3\n",
      "로또 번호 1: [3, 17, 22, 24, 32, 36]\n",
      "로또 번호 2: [5, 7, 13, 24, 26, 27]\n",
      "로또 번호 3: [2, 5, 27, 29, 31, 42]\n"
     ]
    }
   ],
   "source": [
    "# 선생님 풀이 (중복을 피하는 방법)\n",
    "\n",
    "from random import shuffle\n",
    "from time import sleep\n",
    "\n",
    "gnum = int(input('로또 횟수를 입력하세요. >>> '))\n",
    "\n",
    "for i in range(gnum):\n",
    "    li = [x+1 for x in range(45)] # x는 0~44니까 결과값(x+1)은 1~45가 나오지\n",
    "    ret = []\n",
    "    for j in range(6):\n",
    "        shuffle(li)\n",
    "        num = li.pop() # pop 함수는 뽑고나면 그 요소는 리스트에서 없어짐\n",
    "        ret.append(num) # pop 함수에서 뽑은 요소를 저 빈 ret 리스트에 채우기\n",
    "        ret.sort()\n",
    "    print('로또 번호 %d: ' %(i+1), end=\"\")\n",
    "    print(ret)\n",
    "    sleep(0.7) # 이건 걍 긴장감 증대를 위한 지연 입력"
   ]
  },
  {
   "cell_type": "code",
   "execution_count": 16,
   "id": "2e3a8554",
   "metadata": {
    "scrolled": false
   },
   "outputs": [
    {
     "name": "stdout",
     "output_type": "stream",
     "text": [
      "1번째 짝: 박남과 박녀\n",
      "2번째 짝: 김남과 김녀\n",
      "3번째 짝: 이남과 이녀\n",
      "4번째 짝: 최남과 정녀\n",
      "5번째 짝: 정남과 최녀\n"
     ]
    }
   ],
   "source": [
    "# [과제] 남녀 파트너 정해주기 프로그램을 작성하세요 (5개 커플)\n",
    "\n",
    "import random\n",
    "\n",
    "male = ['김남','이남','박남','최남','정남']\n",
    "female = ['김녀','이녀','박녀','최녀','정녀']\n",
    "\n",
    "random.shuffle(male)\n",
    "random.shuffle(female)\n",
    "couple = zip(male,female)\n",
    "\n",
    "for i, couple in enumerate(couple):\n",
    "    print(f'{i+1}번째 짝: {couple[0]}과 {couple[1]}')"
   ]
  },
  {
   "cell_type": "code",
   "execution_count": 16,
   "id": "d7697a49",
   "metadata": {
    "scrolled": true
   },
   "outputs": [
    {
     "name": "stdout",
     "output_type": "stream",
     "text": [
      "[['남자2호', '여자5호'], ['남자4호', '여자3호'], ['남자3호', '여자1호'], ['남자1호', '여자2호'], ['남자5호', '여자4호']]\n"
     ]
    }
   ],
   "source": [
    "# for문을 사용해 셔플 돌린 집합에서 첫 번째 요소를 빼내오는 식으로 구성한 풀이\n",
    "\n",
    "import random\n",
    "male=['남자1호','남자2호','남자3호','남자4호','남자5호']\n",
    "female=['여자1호','여자2호','여자3호','여자4호','여자5호']\n",
    "couple=[]\n",
    "for i in range(5):\n",
    "    random.shuffle(male)\n",
    "    random.shuffle(female)\n",
    "    c=[male[0],female[0]]\n",
    "    couple.append(c)\n",
    "    del male[0]\n",
    "    del female[0]\n",
    "print((couple))\n"
   ]
  },
  {
   "cell_type": "code",
   "execution_count": 17,
   "id": "af830ea8",
   "metadata": {
    "scrolled": true
   },
   "outputs": [
    {
     "name": "stdout",
     "output_type": "stream",
     "text": [
      "커플1: 원 빈 ♥️ 신민아\n",
      "커플2: 정우성 ♥️ 한예슬\n",
      "커플3: 조인성 ♥️ 천우희\n",
      "커플4: 강동원 ♥️ 김혜수\n",
      "커플5: 이광수 ♥️ 이나영\n"
     ]
    }
   ],
   "source": [
    "# 랜덤 셔플을 사용하되 결과를 순서대로 짝지어 출력하는 풀이\n",
    "\n",
    "from random import shuffle\n",
    "\n",
    "male = ['정우성', '원 빈', '강동원', '조인성', '이광수']\n",
    "female = ['김혜수', '신민아', '이나영', '천우희', '한예슬']\n",
    "\n",
    "random.shuffle(male)\n",
    "random.shuffle(female)\n",
    "\n",
    "for i in range(0, 5):\n",
    "    print(f'커플{i+1}: {male[i]} ♥️ {female[i]}')\n"
   ]
  },
  {
   "cell_type": "code",
   "execution_count": 22,
   "id": "4169b1aa",
   "metadata": {},
   "outputs": [
    {
     "name": "stdout",
     "output_type": "stream",
     "text": [
      "커플 1: 3와 b\n",
      "커플 2: 1와 c\n",
      "커플 3: 4와 e\n",
      "커플 4: 5와 d\n",
      "커플 5: 2와 a\n"
     ]
    }
   ],
   "source": [
    "# 선생님 풀이 (zip 함수 사용)\n",
    "\n",
    "import random\n",
    "m = list('12345')\n",
    "f = list('abced')\n",
    "random.shuffle(m)\n",
    "random.shuffle(f)\n",
    "couples = zip(m,f)\n",
    "\n",
    "for i, j in enumerate(couples): # enumerate는 인덱스와 요소를 같이 출력\n",
    "    print('커플 %d: %s와 %s' %(i+1, j[0], j[1]))\n",
    "    "
   ]
  },
  {
   "cell_type": "code",
   "execution_count": 122,
   "id": "ef2e93bb",
   "metadata": {
    "scrolled": true
   },
   "outputs": [
    {
     "name": "stdout",
     "output_type": "stream",
     "text": [
      "문자열을 입력해 주세요. ㅇㅁㄴㅇㄴㅁㅇㅁㄴㅇㄴㅁ\n",
      "ㅁㄴㅇㄴㅁㅇㅁㄴㅇㄴㅁㅇ\n"
     ]
    }
   ],
   "source": [
    "#[과제] 입력받은 문자열의 각 문자를 그 다음 문자로 변경하여 출력하세요.\n",
    "# abcde -> bcdea\n",
    "\n",
    "word = list(input('문자열을 입력해 주세요. '))\n",
    "word.append(word[0])\n",
    "del word[0]\n",
    "print(''.join(word))"
   ]
  },
  {
   "cell_type": "code",
   "execution_count": 123,
   "id": "2510f326",
   "metadata": {
    "scrolled": true
   },
   "outputs": [
    {
     "name": "stdout",
     "output_type": "stream",
     "text": [
      "입력 : 또라이\n",
      "라이또\n"
     ]
    }
   ],
   "source": [
    "a=list(input(\"입력 : \"))\n",
    "\n",
    "for i in range(len(a)-1):\n",
    "    print(a[i+1],end='')\n",
    "print(a[0])\n",
    "\n",
    "# 다음 글자의 값을 순서대로 붙여서 가로로 표현했다는 것"
   ]
  },
  {
   "cell_type": "code",
   "execution_count": 125,
   "id": "8750351a",
   "metadata": {
    "scrolled": false
   },
   "outputs": [
    {
     "name": "stdout",
     "output_type": "stream",
     "text": [
      "ㅇㅁㄴㅇㅁㄴㅇㅁㄴㅇㄴㅁㅇ\n",
      "ㅁㄴㅇㅁㄴㅇㅁㄴㅇㄴㅁㅇㅇ\n"
     ]
    }
   ],
   "source": [
    "sen = input()\n",
    "print(sen[1:] + sen[0])\n"
   ]
  },
  {
   "cell_type": "code",
   "execution_count": 126,
   "id": "ca219651",
   "metadata": {
    "scrolled": true
   },
   "outputs": [
    {
     "name": "stdout",
     "output_type": "stream",
     "text": [
      "문장을 입력하세요 >> 내가 널 얼마나 좋아하면 달에 네 목소리가 보여\n",
      "가 널 얼마나 좋아하면 달에 네 목소리가 보여내\n"
     ]
    }
   ],
   "source": [
    "# 선생님 풀이\n",
    "\n",
    "text = input('문장을 입력하세요 >> ')\n",
    "ret = ''\n",
    "for i in range(len(text)):\n",
    "    if i != len(text)-1: # 글자가 문장 끝에 도달하지 못했다면\n",
    "        ret+=text[i+1] # 그 다음 글자를 표기하라\n",
    "\n",
    "    else: # 글자가 문장의 끝 단어라면\n",
    "        ret+=text[0] # 제일 첫 번째 글자를 표기하라\n",
    "print(ret)"
   ]
  },
  {
   "cell_type": "code",
   "execution_count": 129,
   "id": "411a8bf9",
   "metadata": {
    "scrolled": true
   },
   "outputs": [
    {
     "name": "stdout",
     "output_type": "stream",
     "text": [
      "\n",
      "오늘도 큰솥 도시락을 찾아주셔서 감사합니다.\n",
      "\n",
      "    치킨마요 \\ 3500\n",
      "    참치마요 \\ 3000\n",
      "포테이토마요 \\ 3300\n",
      "\n",
      "※ 토핑 추가 \\ 500\n",
      "\n",
      "어떤 메뉴를 고르시겠어요? 참치마요\n",
      "참치마요의 가격은 3000원입니다.\n",
      "토핑을 추가하시겠어요? [네/아니오] 아니오\n",
      "주문하신 메뉴의 총 가격은 3000원입니다.\n",
      "맛있게 드세요.\n"
     ]
    }
   ],
   "source": [
    "# [과제] 음식점의 음식 주문 가격 산출 프로그램을 자유롭게 작성하세요\n",
    "# 딕셔너리 쓰면 될 듯? 음식 리스트 items으로 뽑아서 보여주고 values로 값을 반환하는?\n",
    "\n",
    "menu = {'치킨마요':3500, '참치마요':3000, '포테이토마요':3300, '토핑':500}\n",
    "\n",
    "print(f'''\n",
    "오늘도 큰솥 도시락을 찾아주셔서 감사합니다.\n",
    "\n",
    "    치킨마요 \\ {menu['치킨마요']}\n",
    "    참치마요 \\ {menu['참치마요']}\n",
    "포테이토마요 \\ {menu['포테이토마요']}\n",
    "\n",
    "※ 토핑 추가 \\ {menu['토핑']}\n",
    "''')\n",
    "while 1:\n",
    "    food = input('어떤 메뉴를 고르시겠어요? ')\n",
    "\n",
    "    if food in menu:\n",
    "        print(f'{food}의 가격은 {menu[food]}원입니다.')\n",
    "        top = input('토핑을 추가하시겠어요? [네/아니오] ')\n",
    "        if top=='네':\n",
    "            print('주문하신 메뉴의 총 가격은 %d원입니다.\\n맛있게 드세요.' %(int(menu[food])+int(menu['토핑'])))\n",
    "            break\n",
    "        elif top=='아니오':\n",
    "            print(f'주문하신 메뉴의 총 가격은 {menu[food]}원입니다.\\n맛있게 드세요.')\n",
    "            break\n",
    "        else: print('주문 오류입니다. 다시 주문해 주세요.')\n",
    "    \n",
    "    else: print('주문하신 메뉴는 없는 메뉴입니다.')\n"
   ]
  },
  {
   "cell_type": "markdown",
   "id": "1950dfc0",
   "metadata": {},
   "source": [
    "<img src = \"식당.png\"> <br> 이건 선생님이 들어주신 예시"
   ]
  },
  {
   "cell_type": "code",
   "execution_count": 39,
   "id": "a0ad489e",
   "metadata": {
    "scrolled": true
   },
   "outputs": [
    {
     "name": "stdout",
     "output_type": "stream",
     "text": [
      "게임을 시작하지. 가위 바위 보!\n",
      "중간에 그만두고 싶으면 x를 눌러 joy를 표해 주세요.\n",
      "무엇을 낼까? >>> 보\n",
      "남은 승리 횟수: 3회\n",
      "\n",
      "무엇을 낼까? >>> 보\n",
      "컴퓨터의 선택: 바위\n",
      "큭... 패배를 킹정하는 바...\n",
      "\n",
      "무엇을 낼까? >>> 보\n",
      "컴퓨터의 선택: 가위\n",
      "졌쥬? 열받쥬? 크크루삥뽕\n",
      "\n",
      "무엇을 낼까? >>> 보\n",
      "남은 승리 횟수: 2회\n",
      "\n",
      "무엇을 낼까? >>> 버\n",
      "가위바위보도 할 줄 모르쥬? 처음부터 다시 하쥬?\n",
      "게임이 종료되었다! 하지만 기분이 썩 좋지 않은 것은 왜일까?\n"
     ]
    }
   ],
   "source": [
    "# 수정해보자\n",
    "\n",
    "# [과제] Player가 3승할 때까지 계속 진행되는 가위바위보 게임 프로그램을 작성하세요.\n",
    "# 게임은 Player와 컴퓨터가 진행\n",
    "\n",
    "# 가위바위보 작동 원리 넣기\n",
    "# 누적 승리 횟수 체크\n",
    "# 컴퓨터가 내는 가위바위보는 랜덤 결정 (리스트에서 고르는?)\n",
    "\n",
    "import random\n",
    "\n",
    "com = ['가위','바위','보']\n",
    "victory = 0\n",
    "\n",
    "print('게임을 시작하지. 가위 바위 보!')\n",
    "print('중간에 그만두고 싶으면 x를 눌러 joy를 표해 주세요.')\n",
    "while victory < 3:\n",
    "    random.shuffle(com)\n",
    "    hand = input('무엇을 낼까? >>> ')\n",
    "    if hand == 'x':\n",
    "        print('저기 겁쟁이가 도망간다!')\n",
    "        break\n",
    "    elif hand=='가위':\n",
    "        if com[0]=='바위':\n",
    "            print(f'컴퓨터의 선택: {com[0]}')\n",
    "            print('졌쥬? 열받쥬? 크크루삥뽕\\n')\n",
    "            continue\n",
    "        elif com[0]=='보':\n",
    "            print(f'컴퓨터의 선택: {com[0]}')\n",
    "            print('큭... 패배를 킹정하는 바...\\n')\n",
    "            victory+=1\n",
    "            continue\n",
    "    elif hand=='보':\n",
    "        if com[0]=='가위':\n",
    "            print(f'컴퓨터의 선택: {com[0]}')\n",
    "            print('졌쥬? 열받쥬? 크크루삥뽕\\n')\n",
    "            continue\n",
    "        elif com[0]=='바위':\n",
    "            print(f'컴퓨터의 선택: {com[0]}')\n",
    "            print('큭... 패배를 킹정하는 바...\\n')\n",
    "            victory+=1\n",
    "            continue\n",
    "    elif hand=='바위':\n",
    "        if com[0]=='보':\n",
    "            print(f'컴퓨터의 선택: {com[0]}')\n",
    "            print('졌쥬? 열받쥬? 크크루삥뽕\\n')\n",
    "            continue\n",
    "        elif com[0]=='가위':\n",
    "            print(f'컴퓨터의 선택: {com[0]}')\n",
    "            print('큭... 패배를 킹정하는 바...\\n')\n",
    "            victory+=1\n",
    "            continue\n",
    "    elif hand==com[0]:\n",
    "        print(f'컴퓨터의 선택: {com[0]}')\n",
    "        print('비겼쥬? 못 이기쥬?\\n')\n",
    "        continue\n",
    "    else:\n",
    "        print('가위바위보도 할 줄 모르쥬? 처음부터 다시 하쥬?')\n",
    "        break\n",
    "    print(f'남은 승리 횟수: {3-victory}회\\n')\n",
    "print('게임이 종료되었다! 하지만 기분이 썩 좋지 않은 것은 왜일까?')"
   ]
  },
  {
   "cell_type": "code",
   "execution_count": 25,
   "id": "02ce9abd",
   "metadata": {
    "scrolled": false
   },
   "outputs": [
    {
     "name": "stdout",
     "output_type": "stream",
     "text": [
      "가위 바위 보 게임입니다. 3승할 때까지 계속 진행됩니다!\n",
      "그 전에 게임을 종료하고 싶다면 E를 입력해주세요.\n",
      "\n",
      "무엇을 낼까요? (가위/바위/보) > ㅇ\n",
      "[가위] [바위] [보] 중 하나를 내주세요!\n",
      "\n",
      "무엇을 낼까요? (가위/바위/보) > e\n",
      "[가위] [바위] [보] 중 하나를 내주세요!\n",
      "\n",
      "무엇을 낼까요? (가위/바위/보) > E\n",
      "게임을 종료합니다. 수고하셨습니다.\n"
     ]
    }
   ],
   "source": [
    "import numpy as np\n",
    "\n",
    "cnt = 0\n",
    "rsp = ['가위', '바위', '보']\n",
    "\n",
    "print(\"가위 바위 보 게임입니다. 3승할 때까지 계속 진행됩니다!\")\n",
    "print(\"그 전에 게임을 종료하고 싶다면 E를 입력해주세요.\")\n",
    "\n",
    "while cnt < 3:\n",
    "    print()\n",
    "    pl = input(\"무엇을 낼까요? (가위/바위/보) > \")\n",
    "    if(pl=='E'): break\n",
    "    elif(pl not in rsp):\n",
    "        print(\"[가위] [바위] [보] 중 하나를 내주세요!\")\n",
    "        continue\n",
    "    pc = rsp[np.random.randint(3)]\n",
    "    print(f'컴퓨터 > {pc}')\n",
    "    \n",
    "    if(pl=='가위'):\n",
    "        if(pc=='바위'):\n",
    "            print(\"졌습니다. 다시 한 번 게임을 시작합니다!\")\n",
    "            continue\n",
    "        elif(pc=='보'):\n",
    "            print(\"게임에서 이겼습니다. 축하합니다!\")\n",
    "            cnt+=1\n",
    "            continue\n",
    "            \n",
    "    elif(pl=='바위'):\n",
    "        if(pc=='보'):\n",
    "            print(\"졌습니다. 다시 한 번 게임을 시작합니다!\")\n",
    "            continue\n",
    "        elif(pc=='가위'):\n",
    "            print(\"게임에서 이겼습니다. 축하합니다!\")\n",
    "            cnt+=1\n",
    "            continue\n",
    "            \n",
    "    elif(pl=='보'):\n",
    "        if(pc=='가위'):\n",
    "            print(\"졌습니다. 다시 한 번 게임을 시작합니다!\")\n",
    "            continue\n",
    "        elif(pc=='바위'):\n",
    "            print(\"게임에서 이겼습니다. 축하합니다!\")\n",
    "            cnt+=1\n",
    "            continue\n",
    "            \n",
    "    print(\"비겼습니다. 다시 한 번 게임을 시작합니다!\")\n",
    "    \n",
    "print(\"게임을 종료합니다. 수고하셨습니다.\")"
   ]
  },
  {
   "cell_type": "code",
   "execution_count": null,
   "id": "4c91a26f",
   "metadata": {},
   "outputs": [],
   "source": [
    "import random\n",
    "\n",
    "com = ['가위','바위','보']\n",
    "victory = 0\n",
    "\n",
    "print('게임을 시작하지. 가위 바위 보!')\n",
    "while victory < 3:\n",
    "    random.shuffle(com)\n",
    "    hand = input('무엇을 낼까? >>> ')\n",
    "    if com[0] == '가위'and hand=='가위':\n",
    "        print(f'컴퓨터의 선택: {com[0]}')\n",
    "        print('비겼쥬? 못 이기쥬?\\n')\n",
    "        continue\n",
    "    elif com[0] == '가위'and hand=='보':\n",
    "        print(f'컴퓨터의 선택: {com[0]}')\n",
    "        print('졌쥬? 열받쥬? 크크루삥뽕\\n')\n",
    "        continue\n",
    "    elif com[0] == '가위'and hand=='바위':\n",
    "        print(f'컴퓨터의 선택: {com[0]}')\n",
    "        print('큭... 패배를 킹정하는 바...\\n')\n",
    "        victory+=1\n",
    "    elif com[0] == '바위'and hand=='가위':\n",
    "        print(f'컴퓨터의 선택: {com[0]}')\n",
    "        print('졌쥬? 열받쥬? 크크루삥뽕\\n')\n",
    "        continue\n",
    "    elif com[0] == '바위'and hand=='바위':\n",
    "        print(f'컴퓨터의 선택: {com[0]}')\n",
    "        print('비겼쥬? 못 이기쥬?\\n')\n",
    "        continue\n",
    "    elif com[0] == '바위'and hand=='보':\n",
    "        print(f'컴퓨터의 선택: {com[0]}')\n",
    "        print('큭... 패배를 킹정하는 바...\\n')\n",
    "        victory+=1\n",
    "    elif com[0] == '보'and hand=='가위':\n",
    "        print(f'컴퓨터의 선택: {com[0]}')\n",
    "        print('큭... 패배를 킹정하는 바...\\n')\n",
    "        victory+=1\n",
    "    elif com[0] == '보'and hand=='바위':\n",
    "        print(f'컴퓨터의 선택: {com[0]}')\n",
    "        print('졌쥬? 열받쥬? 크크루삥뽕\\n')\n",
    "        continue\n",
    "    elif com[0] == '보'and hand=='보':\n",
    "        print(f'컴퓨터의 선택: {com[0]}')\n",
    "        print('비겼쥬? 못 이기쥬?\\n')\n",
    "        continue\n",
    "    else:\n",
    "        print('가위바위보도 할 줄 모르쥬? 처음부터 다시 하쥬?')\n",
    "        break\n",
    "    print(f'남은 승리 횟수: {3-victory}회\\n')\n",
    "print('게임에서 승리했다! 하지만 기분이 썩 좋지 않은 것은 왜일까?')"
   ]
  },
  {
   "cell_type": "code",
   "execution_count": 15,
   "id": "ee97566d",
   "metadata": {},
   "outputs": [
    {
     "name": "stdout",
     "output_type": "stream",
     "text": [
      "지금 내가 생각하고 있는 숫자 맞춰 볼래?\n",
      "1에서 10까지 골라봐~ >>> 5\n",
      "앗, 아쉽네~ 조금만 더 높여 봐!\n",
      "1에서 10까지 골라봐~ >>> 7\n",
      "앗, 아쉽네~ 조금만 더 높여 봐!\n",
      "1에서 10까지 골라봐~ >>> 9\n",
      "축하해! 정답이야!\n"
     ]
    }
   ],
   "source": [
    "# [과제] 컴퓨터가 랜덤하게 생성하는 숫자 맞추기 프로그램을 작성하세요.\n",
    "\n",
    "# 1~10까지로 할까?\n",
    "# 지금 컴퓨터가 무슨 숫자를 생각하고 있을지 입력하세요... 해서 ==로 매칭되면 축하\n",
    "# 아니면 큰 수인지 작은 수인지 힌트를 주고\n",
    "# 그런데 우리가 만드는 분기는 틀렸을 때에 있는 거니까 !=를 사용해야지\n",
    "\n",
    "import numpy as np\n",
    "\n",
    "num = np.random.randint(1,10)\n",
    "print('지금 내가 생각하고 있는 숫자 맞춰 볼래?')\n",
    "\n",
    "for i in range(charge):\n",
    "    while guess != num :\n",
    "        guess = int(input('1에서 10까지 골라봐~ >>> '))\n",
    "        if guess>num:\n",
    "            print('음... 조금만 더 낮춰 볼래?')\n",
    "            continue\n",
    "        elif guess<num:\n",
    "            print('앗, 아쉽네~ 조금만 더 높여 봐!')\n",
    "            continue\n",
    "        else:\n",
    "            print('축하해! 정답이야!')\n",
    "            break\n"
   ]
  },
  {
   "cell_type": "code",
   "execution_count": 131,
   "id": "05573684",
   "metadata": {},
   "outputs": [
    {
     "name": "stdout",
     "output_type": "stream",
     "text": [
      "게임을 하시겠습니까?[y/n]: y\n",
      "숫자를 입력하세요(0~10): 2\n",
      "범위 안의 숫자를 입력해주세요.\n",
      "정답입니다.\n",
      "게임을 하시겠습니까?[y/n]: y\n",
      "숫자를 입력하세요(0~10): 4\n",
      "up\n",
      "숫자를 입력하세요(0~10): 6\n",
      "up\n",
      "숫자를 입력하세요(0~10): 7\n",
      "up\n",
      "숫자를 입력하세요(0~10): 8\n",
      "범위 안의 숫자를 입력해주세요.\n",
      "정답입니다.\n",
      "게임을 하시겠습니까?[y/n]: n\n",
      "게임을 종료합니다.\n"
     ]
    }
   ],
   "source": [
    "import numpy as np\n",
    "while(1):\n",
    "    s_e=input(\"게임을 하시겠습니까?[y/n]: \")\n",
    "\n",
    "    if(s_e==\"y\"):\n",
    "        anser= np.random.randint(0,10)\n",
    "        while(a != anser):\n",
    "            a=int(input(\"숫자를 입력하세요(0~10): \"))\n",
    "            if(a>anser):\n",
    "                print(\"down\")\n",
    "            elif(a<anser):\n",
    "                print(\"up\")\n",
    "            else:\n",
    "                print(\"범위 안의 숫자를 입력해주세요.\")\n",
    "        print(\"정답입니다.\")\n",
    "    else:\n",
    "        print(\"게임을 종료합니다.\")\n",
    "        break\n"
   ]
  }
 ],
 "metadata": {
  "kernelspec": {
   "display_name": "Python 3 (ipykernel)",
   "language": "python",
   "name": "python3"
  },
  "language_info": {
   "codemirror_mode": {
    "name": "ipython",
    "version": 3
   },
   "file_extension": ".py",
   "mimetype": "text/x-python",
   "name": "python",
   "nbconvert_exporter": "python",
   "pygments_lexer": "ipython3",
   "version": "3.8.12"
  }
 },
 "nbformat": 4,
 "nbformat_minor": 5
}
