{
 "cells": [
  {
   "cell_type": "markdown",
   "id": "c9532988",
   "metadata": {},
   "source": [
    "### 모듈\n",
    "- 특정 기능들(함수, 변수, 클래스 등)이 구현되어 있는 파이썬 파일(.py의 확장자를 가짐)\n",
    "\n",
    "### 패키지\n",
    "- 특정 기능과 관련된 여러 모듈을 하나의 상위 폴더에 넣어 놓은 것을 의미\n",
    "- 패키지 안에 여러 가지 폴더가 존재 가능함\n",
    "- 패키지를 표현해 주기 위해 \\_init_.py가 존재 (어느 시점부터는 그리 중요해지지 않아짐)\n",
    "\n",
    "### 라이브러리\n",
    "- 여러 모듈과 패키지를 묶어 라이브러리라고 부름\n",
    "- 파이썬 설치 시 기본적으로 설치되는 라이브러리를 '표준 라이브러리'라고 함\n",
    "- 외부(3rd party)에서 개발한 모듈과 패키지를 묶어 '외부 라이브러리'라고 함"
   ]
  },
  {
   "cell_type": "code",
   "execution_count": 15,
   "id": "5832fc7a",
   "metadata": {},
   "outputs": [],
   "source": [
    "# 모듈 mod1 만들기\n",
    "\n",
    "with open('mod1.py', 'w') as f:\n",
    "    f.write('''def add(x,y):\n",
    "    return x+y\n",
    "print(add(3,4))''')"
   ]
  },
  {
   "cell_type": "code",
   "execution_count": 16,
   "id": "3ccee24e",
   "metadata": {
    "scrolled": true
   },
   "outputs": [
    {
     "name": "stdout",
     "output_type": "stream",
     "text": [
      "def add(x,y):\n",
      "    return x+y\n",
      "print(add(3,4))\n"
     ]
    }
   ],
   "source": [
    "with open('mod1.py', 'r') as f:\n",
    "    data = f.read()\n",
    "    print(data)"
   ]
  },
  {
   "cell_type": "code",
   "execution_count": 18,
   "id": "62f16a1a",
   "metadata": {
    "scrolled": false
   },
   "outputs": [
    {
     "name": "stdout",
     "output_type": "stream",
     "text": [
      "7\n"
     ]
    }
   ],
   "source": [
    "!python mod1.py"
   ]
  },
  {
   "cell_type": "code",
   "execution_count": 1,
   "id": "e579b642",
   "metadata": {
    "scrolled": true
   },
   "outputs": [
    {
     "name": "stdout",
     "output_type": "stream",
     "text": [
      "7\n"
     ]
    }
   ],
   "source": [
    "import mod1"
   ]
  },
  {
   "cell_type": "code",
   "execution_count": 14,
   "id": "91434799",
   "metadata": {},
   "outputs": [],
   "source": [
    "# 모듈 mod2 만들기\n",
    "# 뭔 말인지 정확힌 모르겠지만... name에 모듈 이름이 어쩌구\n",
    "# 모듈만 자체적으로 돌릴 땐 3,4 add 값이 나오고,\n",
    "# 임포트만 하게 되면 네임이 메인이 아니라 함수를 사용할 수 있게 된다고...\n",
    "# 걍 그렇게 이해할까...?\n",
    "\n",
    "with open('mod2.py', 'w') as f:\n",
    "    f.write('''def add(x,y):\n",
    "    return x+y\n",
    "if __name__=='__main__':\n",
    "    print(add(3,4))''')"
   ]
  },
  {
   "cell_type": "code",
   "execution_count": 10,
   "id": "aac32524",
   "metadata": {
    "scrolled": true
   },
   "outputs": [
    {
     "name": "stdout",
     "output_type": "stream",
     "text": [
      "def add(x,y):\n",
      "    return x+y\n",
      "if __name__=='__main__':\n",
      "    print(add(3,4))\n"
     ]
    }
   ],
   "source": [
    "with open('mod2.py','r') as f:\n",
    "    data = f.read()\n",
    "    print(data)"
   ]
  },
  {
   "cell_type": "code",
   "execution_count": 11,
   "id": "70793d9e",
   "metadata": {},
   "outputs": [
    {
     "name": "stdout",
     "output_type": "stream",
     "text": [
      "7\n"
     ]
    }
   ],
   "source": [
    "!python mod2.py # 임포트 한 게 아니라 파이썬 내에서 모듈 자체 실행"
   ]
  },
  {
   "cell_type": "code",
   "execution_count": 12,
   "id": "8a0fb094",
   "metadata": {},
   "outputs": [],
   "source": [
    "import mod2 # __name__이 mod2가 됨 -> add 함수 사용 가능"
   ]
  },
  {
   "cell_type": "code",
   "execution_count": 13,
   "id": "6e8c17dc",
   "metadata": {
    "scrolled": true
   },
   "outputs": [
    {
     "data": {
      "text/plain": [
       "5"
      ]
     },
     "execution_count": 13,
     "metadata": {},
     "output_type": "execute_result"
    }
   ],
   "source": [
    "mod2.add(2,3)"
   ]
  },
  {
   "cell_type": "markdown",
   "id": "88088449",
   "metadata": {},
   "source": [
    "후에 colab으로 가면 그건 윈도우 기반이 아니라 리눅스 기반이라\n",
    "!dir 말고 !ls 써도 먹힘"
   ]
  },
  {
   "cell_type": "code",
   "execution_count": 15,
   "id": "dd43a703",
   "metadata": {
    "scrolled": true
   },
   "outputs": [
    {
     "name": "stdout",
     "output_type": "stream",
     "text": [
      " C 드라이브의 볼륨에는 이름이 없습니다.\n",
      " 볼륨 일련 번호: EED9-4D87\n",
      "\n",
      " C:\\cakd5\\workspace\\m1_programming 디렉터리\n",
      "\n",
      "2022-01-04  오전 10:45    <DIR>          .\n",
      "2022-01-04  오전 10:45    <DIR>          ..\n",
      "2022-01-04  오전 10:12    <DIR>          .ipynb_checkpoints\n",
      "2022-01-04  오전 10:12           160,986 0103 수업 - 함수 응용, 예외 처리, 모듈, class.ipynb\n",
      "2022-01-04  오전 10:45             5,174 0104 수업 - 모듈.ipynb\n",
      "2021-12-31  오전 09:11            65,689 1229 수업 - 파이썬 기초.ipynb\n",
      "2021-12-29  오후 02:22             5,688 1229과제.PNG\n",
      "2021-12-31  오후 12:22             6,864 1230 수업 (2) - 파이썬 함수.ipynb\n",
      "2021-12-31  오후 12:39            32,077 1230 수업 - 파이썬.ipynb\n",
      "2022-01-03  오전 10:30            37,401 1231 수업 - 파이썬 함수 심화.ipynb\n",
      "2022-01-04  오전 09:33               133 bmi.txt\n",
      "2022-01-04  오전 09:34    <DIR>          data\n",
      "2021-12-31  오전 11:40                60 gogogo.txt\n",
      "2022-01-03  오후 02:34               156 info.txt\n",
      "2021-12-28  오후 04:47             2,879 Jupyter Notebook 사용법.ipynb\n",
      "2022-01-04  오전 10:29                46 mod1.py\n",
      "2022-01-04  오전 10:36                76 mod2.py\n",
      "2022-01-03  오전 09:05    <DIR>          programming 기획\n",
      "2021-12-31  오전 11:31               261 test.txt\n",
      "2021-12-31  오후 02:22                40 testb.txt\n",
      "2021-12-31  오전 11:12                14 test_new.txt\n",
      "2021-12-31  오전 11:30                17 with.txt\n",
      "2022-01-04  오전 10:32    <DIR>          __pycache__\n",
      "2021-12-29  오후 03:49            23,667 계절구분.PNG\n",
      "2021-12-28  오후 03:48             1,117 기초.ipynb\n",
      "2021-12-28  오후 03:48             1,117 기초1.ipynb\n",
      "2021-12-28  오후 04:18            94,995 매직명령어.jpg\n",
      "2021-12-31  오전 08:49    <DIR>          선생님 강의 자료\n",
      "2021-12-30  오전 11:53            31,627 식당.PNG\n",
      "2021-12-29  오전 09:34            10,248 원모양.JPG\n",
      "2021-12-29  오후 04:03            50,457 커피자판기.PNG\n",
      "              24개 파일             530,789 바이트\n",
      "               7개 디렉터리  906,352,386,048 바이트 남음\n",
      "\n"
     ]
    }
   ],
   "source": [
    "# 시스템 명령어의 결과값 리턴 받기\n",
    "# !dir 해도 되지마는...\n",
    "\n",
    "import os # 임포트 했기 때문에 외장함수다~\n",
    "f = os.popen('dir')\n",
    "print(f.read())"
   ]
  },
  {
   "cell_type": "code",
   "execution_count": 16,
   "id": "86f50f9e",
   "metadata": {
    "scrolled": false
   },
   "outputs": [
    {
     "data": {
      "text/plain": [
       "'testa.txt'"
      ]
     },
     "execution_count": 16,
     "metadata": {},
     "output_type": "execute_result"
    }
   ],
   "source": [
    "# 파일 복사하기\n",
    "\n",
    "import shutil\n",
    "shutil.copy('test.txt', 'testa.txt')"
   ]
  },
  {
   "cell_type": "code",
   "execution_count": 17,
   "id": "7a7eb4bb",
   "metadata": {
    "scrolled": false
   },
   "outputs": [
    {
     "name": "stdout",
     "output_type": "stream",
     "text": [
      " C 드라이브의 볼륨에는 이름이 없습니다.\n",
      " 볼륨 일련 번호: EED9-4D87\n",
      "\n",
      " C:\\cakd5\\workspace\\m1_programming 디렉터리\n",
      "\n",
      "2022-01-04  오전 10:47    <DIR>          .\n",
      "2022-01-04  오전 10:47    <DIR>          ..\n",
      "2022-01-04  오전 10:12    <DIR>          .ipynb_checkpoints\n",
      "2022-01-04  오전 10:12           160,986 0103 수업 - 함수 응용, 예외 처리, 모듈, class.ipynb\n",
      "2022-01-04  오전 10:45             5,174 0104 수업 - 모듈.ipynb\n",
      "2021-12-31  오전 09:11            65,689 1229 수업 - 파이썬 기초.ipynb\n",
      "2021-12-29  오후 02:22             5,688 1229과제.PNG\n",
      "2021-12-31  오후 12:22             6,864 1230 수업 (2) - 파이썬 함수.ipynb\n",
      "2021-12-31  오후 12:39            32,077 1230 수업 - 파이썬.ipynb\n",
      "2022-01-03  오전 10:30            37,401 1231 수업 - 파이썬 함수 심화.ipynb\n",
      "2022-01-04  오전 09:33               133 bmi.txt\n",
      "2022-01-04  오전 09:34    <DIR>          data\n",
      "2021-12-31  오전 11:40                60 gogogo.txt\n",
      "2022-01-03  오후 02:34               156 info.txt\n",
      "2021-12-28  오후 04:47             2,879 Jupyter Notebook 사용법.ipynb\n",
      "2022-01-04  오전 10:29                46 mod1.py\n",
      "2022-01-04  오전 10:36                76 mod2.py\n",
      "2022-01-03  오전 09:05    <DIR>          programming 기획\n",
      "2021-12-31  오전 11:31               261 test.txt\n",
      "2022-01-04  오전 10:47               261 testa.txt\n",
      "2021-12-31  오후 02:22                40 testb.txt\n",
      "2021-12-31  오전 11:12                14 test_new.txt\n",
      "2021-12-31  오전 11:30                17 with.txt\n",
      "2022-01-04  오전 10:32    <DIR>          __pycache__\n",
      "2021-12-29  오후 03:49            23,667 계절구분.PNG\n",
      "2021-12-28  오후 03:48             1,117 기초.ipynb\n",
      "2021-12-28  오후 03:48             1,117 기초1.ipynb\n",
      "2021-12-28  오후 04:18            94,995 매직명령어.jpg\n",
      "2021-12-31  오전 08:49    <DIR>          선생님 강의 자료\n",
      "2021-12-30  오전 11:53            31,627 식당.PNG\n",
      "2021-12-29  오전 09:34            10,248 원모양.JPG\n",
      "2021-12-29  오후 04:03            50,457 커피자판기.PNG\n",
      "              25개 파일             531,050 바이트\n",
      "               7개 디렉터리  906,351,984,640 바이트 남음\n"
     ]
    }
   ],
   "source": [
    "!dir"
   ]
  },
  {
   "cell_type": "code",
   "execution_count": 21,
   "id": "548e4c4b",
   "metadata": {
    "scrolled": true
   },
   "outputs": [
    {
     "name": "stdout",
     "output_type": "stream",
     "text": [
      "시작!\n",
      "5초 남았습니다.\n",
      "4초 남았습니다.\n",
      "3초 남았습니다.\n",
      "2초 남았습니다.\n",
      "1초 남았습니다.\n",
      "None\n",
      "끝!\n"
     ]
    }
   ],
   "source": [
    "import time\n",
    "\n",
    "def long_task(): # 5초의 시간이 걸리는 함수(5초 지연)\n",
    "    for i in range(5):\n",
    "        time.sleep(1) # 1초 지연을 5번 반복\n",
    "        print(f'{5-i}초 남았습니다.')\n",
    "        \n",
    "print('시작!')\n",
    "print(long_task())\n",
    "print('끝!')"
   ]
  },
  {
   "cell_type": "code",
   "execution_count": 27,
   "id": "e31c2aed",
   "metadata": {},
   "outputs": [
    {
     "name": "stdout",
     "output_type": "stream",
     "text": [
      "시작!\n",
      "5초 남았습니다. 5초 남았습니다. 5초 남았습니다. \n",
      "\n",
      "\n",
      "5초 남았습니다. \n",
      "5초 남았습니다. \n",
      "4초 남았습니다. \n",
      "4초 남았습니다. \n",
      "4초 남았습니다. 4초 남았습니다. 4초 남았습니다. \n",
      "\n",
      "\n",
      "3초 남았습니다. \n",
      "3초 남았습니다. \n",
      "3초 남았습니다. 3초 남았습니다. 3초 남았습니다. \n",
      "\n",
      "\n",
      "2초 남았습니다. \n",
      "2초 남았습니다. \n",
      "2초 남았습니다. 2초 남았습니다. 2초 남았습니다. \n",
      "\n",
      "\n",
      "1초 남았습니다. \n",
      "1초 남았습니다. \n",
      "1초 남았습니다. 1초 남았습니다. 1초 남았습니다. \n",
      "\n",
      "\n",
      "끝!\n"
     ]
    }
   ],
   "source": [
    "import time, threading\n",
    "\n",
    "# 한 놈이서 1초 반복 5번을 5세트 돌리는 것보다\n",
    "# 다섯 놈이서 1초 반복 5번을 1세트씩 돌리는 게 시간적으로 효율적이다\n",
    "\n",
    "def long_task():\n",
    "    for i in range(5):\n",
    "        time.sleep(1) # 1초 지연을 5번 반복\n",
    "        print(f'{5-i}초 남았습니다. ')\n",
    "        \n",
    "print('시작!')\n",
    "threads =[]\n",
    "for i in range(5): # 일꾼 5놈 만들기\n",
    "    t = threading.Thread(target = long_task)\n",
    "    threads.append(t)\n",
    "\n",
    "for t in threads:\n",
    "    t.start() # 순서대로 시작\n",
    "    \n",
    "for t in threads:\n",
    "    t.join() # 쓰레드가 종료될 때까지 기다린다. 이거 안 하면 먼저 완료된 놈부터 끝! 외치고 나가리됨\n",
    "    \n",
    "print('끝!')"
   ]
  }
 ],
 "metadata": {
  "kernelspec": {
   "display_name": "Python 3 (ipykernel)",
   "language": "python",
   "name": "python3"
  },
  "language_info": {
   "codemirror_mode": {
    "name": "ipython",
    "version": 3
   },
   "file_extension": ".py",
   "mimetype": "text/x-python",
   "name": "python",
   "nbconvert_exporter": "python",
   "pygments_lexer": "ipython3",
   "version": "3.8.12"
  }
 },
 "nbformat": 4,
 "nbformat_minor": 5
}
