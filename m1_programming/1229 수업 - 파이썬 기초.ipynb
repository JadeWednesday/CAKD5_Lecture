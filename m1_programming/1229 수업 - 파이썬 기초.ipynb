{
 "cells": [
  {
   "cell_type": "markdown",
   "id": "1412c806",
   "metadata": {},
   "source": [
    "#### 파이썬 이란\n",
    "- 1990년 암스테르담의 귀도 반 로섬(Guido Van Rossum)이 개발한 인터프리터 언어\n",
    "- 컴퓨터 프로그래밍 교육을 위해 많이 사용하지만, 기업의 실무를 위해서도 많이 사용하는 언어. 구글에서 만든 소프트웨어의 50%이상이 파이썬으로 작성\n",
    "\n",
    "#### 파이썬의 특징\n",
    "- 파이썬은 인간다운 언어이다\n",
    "- 파이썬은 문법이 쉬워 빠르게 배울 수 있다\n",
    "- 파이썬은 무료이지만 강력하다\n",
    "- 파이썬은 간결하다\n",
    "- 파이썬은 프로그래밍을 즐기게 해준다\n",
    "- 파이썬은 개발 속도가 빠르다\n",
    "\n",
    "#### 파이썬으로 할 수 있는 일\n",
    "- 시스템 유틸리티 제작\n",
    "- GUI 프로그래밍\n",
    "- C/C++와의 결합\n",
    "- 웹 프로그래밍\n",
    "- 수치 연산 프로그래밍\n",
    "- 데이터베이스 프로그래밍\n",
    "- 데이터 분석, 사물 인터넷\n",
    "\n",
    "#### 참조\n",
    "- 표현식: 어떠한 값을 만들어 내는 간단한 코드. 273, 10 + 20 + 30, \"Python Programming\"\n",
    "- 문장: 표현식이 하나 이상 모이면 문장. print(\"Hello\")\n",
    "- 프로그램: 문장이 모여서 프로그램\n",
    "- 식별자: 프로그램밍 언어에서 이름을 붙일 때 사용하는 단어. 주로 변수 또는 함수 이름 등으로 사용\n",
    "- 주석: 프로그램을 설명하기 위해 사용. # 기호로 주석 처리\n",
    "- 연산자: 스스로 값이 되는 것이 아니고 값과 값 사이에 무언가 기능을 적용할 때 사용\n",
    "- 자료: 리터럴이라고 하는데 숫자이든 문자이든 어떠한 값 자체를 의미. 1, 10, \"Hello\"\n",
    "- 키워드: 파이썬이 만들어질 때 이미 사용하겠다고 예약해 놓는 것. False, None, True, ...\n",
    "- 프로그래밍 언어에서 사용자가 이름을 정할 때 키워드는 사용할 수 없음\n",
    "\n",
    "이거 깃허브에 올려놓으신다고 하셨으니 깃허브 가서 걍 긁어오면 됨\n",
    "\n",
    "전세계적으로 가장 많이 쓰이는 컴퓨터 언어는 자바.<br>\n",
    "허나 자바에는 한계점이 있었다...<br>\n",
    "자바의 난이도에 비하면 파이썬은 정말 쉽다. 배우기에도, 사용하기에도. 투자에 비해 사용성이 좋으니 굉장히 경제적이라는 것.<br>"
   ]
  },
  {
   "cell_type": "code",
   "execution_count": 4,
   "id": "9e32d12c",
   "metadata": {},
   "outputs": [
    {
     "name": "stdout",
     "output_type": "stream",
     "text": [
      "Python 3.8.12\n"
     ]
    }
   ],
   "source": [
    "!python -V # 작동 안 하면 커널(Kernel) 눌러서 리스타트 하면 되더라"
   ]
  },
  {
   "cell_type": "markdown",
   "id": "124cce40",
   "metadata": {},
   "source": [
    "우측 상단 원 모양이 까맣게 채워져 있으면 작동중이기 때문에 기다렸다 실행하기\n",
    "<img src = \"원모양.jpg\">"
   ]
  },
  {
   "cell_type": "code",
   "execution_count": 8,
   "id": "892eb81c",
   "metadata": {},
   "outputs": [
    {
     "name": "stdout",
     "output_type": "stream",
     "text": [
      "273\n"
     ]
    },
    {
     "data": {
      "text/plain": [
       "60"
      ]
     },
     "execution_count": 8,
     "metadata": {},
     "output_type": "execute_result"
    }
   ],
   "source": [
    "# 표현식\n",
    "print(273) # 두 줄 이상 표현하고 싶으면 윗줄을 print() 함수로 묶어줘야 함\n",
    "10+20+30"
   ]
  },
  {
   "cell_type": "code",
   "execution_count": 9,
   "id": "28ad6d34",
   "metadata": {},
   "outputs": [
    {
     "name": "stdout",
     "output_type": "stream",
     "text": [
      "Hello Python\n",
      "52 Hello Python 8\n"
     ]
    }
   ],
   "source": [
    "# 표현식이 하나 이상 모이면 문장\n",
    "print(\"Hello Python\")\n",
    "print(52, \"Hello Python\", 5+3)"
   ]
  },
  {
   "cell_type": "code",
   "execution_count": 12,
   "id": "a94ef67f",
   "metadata": {},
   "outputs": [
    {
     "name": "stdout",
     "output_type": "stream",
     "text": [
      "6\n"
     ]
    }
   ],
   "source": [
    "# 문장이 모여서 프로그램\n",
    "a = 1 # 여기서 a는 '변수'라고 칭한다\n",
    "b = 2; c = 3 # 변수 선언을 한 줄에 하고 싶을 땐 ;로 구분\n",
    "d = a+b+c\n",
    "print(d)"
   ]
  },
  {
   "cell_type": "code",
   "execution_count": 16,
   "id": "582cceee",
   "metadata": {},
   "outputs": [
    {
     "name": "stdout",
     "output_type": "stream",
     "text": [
      "['False', 'None', 'True', 'and', 'as', 'assert', 'async', 'await', 'break', 'class', 'continue', 'def', 'del', 'elif', 'else', 'except', 'finally', 'for', 'from', 'global', 'if', 'import', 'in', 'is', 'lambda', 'nonlocal', 'not', 'or', 'pass', 'raise', 'return', 'try', 'while', 'with', 'yield']\n",
      "\n",
      "35\n"
     ]
    }
   ],
   "source": [
    "# Python Keyword\n",
    "import keyword\n",
    "print(keyword.kwlist) # keyword 모듈을 불러오고, 모듈 내 kwlist 함수를 사용한다는 뜻\n",
    "print() # 이스케이프 해도 됨 print(함수 내용, '\\n')\n",
    "print(len(keyword.kwlist)) # len 함수는 갯수 헤어려 주는 것"
   ]
  },
  {
   "cell_type": "markdown",
   "id": "1a48ac9f",
   "metadata": {},
   "source": [
    "식별자 기본 규칙\n",
    "- 키워드를 사용하면 안 된다. (키워드 궁금하면 키워드 모듈+함수 이용!)\n",
    "- 특수문자는 언더바(_)만 사용한다.\n",
    "- 숫자로 시작할 수 없다.\n",
    "- 공백을 포함할 수 없다."
   ]
  },
  {
   "cell_type": "markdown",
   "id": "66aae65e",
   "metadata": {},
   "source": [
    "alpha<br>\n",
    "break # 키워드. 벌써 글자 색부터 다름<br>\n",
    "alpha10<br>\n",
    "_alpha<br>\n",
    "273alpha # 숫자로 시작해서 안 됨<br>\n",
    "AlpHa # 파이썬은 대소문자 구분함. 소문자 alpha와 별개의 변수<br>\n",
    "ALPHA<br>\n",
    "has space # 공백 있어서 안 됨<br>\n",
    "\n",
    "이거 일단 마크다운으로 바꿔놨음. 실행하면 신택스 에러 나서."
   ]
  },
  {
   "cell_type": "markdown",
   "id": "a7332fef",
   "metadata": {},
   "source": [
    "https://bibi6666667.tistory.com/277 <br>\n",
    "파이썬은 snake_case와 CamelCase를 모두 사용<br>\n",
    "저기 블로그 설명에는 카멜 케이스를 첫 글자는 소문자 쓴다고 하는데 선생님 예시는 그냥 단어 첫 글자를 전부 대문자로 해놔서 걍 그거 따라가는 게 속 편할 듯"
   ]
  },
  {
   "cell_type": "code",
   "execution_count": 38,
   "id": "9d98ac16",
   "metadata": {},
   "outputs": [
    {
     "name": "stdout",
     "output_type": "stream",
     "text": [
      "3이 있습니다.\n",
      "5가 없습니다.\n",
      "너무 작습니다.\n",
      "너무 작습니다.\n",
      "너무 작습니다.\n",
      "너무 작습니다.\n",
      "5 가 되었습니다.\n"
     ]
    }
   ],
   "source": [
    "# 사람이 생각하는 방식을 그대로 표현할 수 있는 언어\n",
    "# 3이 있으면 '3이 있습니다.' 를 출력해 보자.\n",
    "if 3 in [1,2,3,4]: # 조건일 땐 : 콜론 찍기\n",
    "    print('3이 있습니다.')\n",
    "    \n",
    "if 5 in [1,2,3,4]:\n",
    "    print('5가 있습니다.')\n",
    "else:\n",
    "    print('5가 없습니다.')\n",
    "\n",
    "\n",
    "a = 1\n",
    "while a<5:\n",
    "    print('너무 작습니다.')\n",
    "    a = a+1\n",
    "if a==5:\n",
    "    print(a,'가 되었습니다.')\n",
    "\n",
    "    "
   ]
  },
  {
   "cell_type": "code",
   "execution_count": 42,
   "id": "d6318cd7",
   "metadata": {},
   "outputs": [
    {
     "name": "stdout",
     "output_type": "stream",
     "text": [
      "123\n",
      "-123\n",
      "0\n",
      "1.23\n",
      "127\n",
      "2748\n",
      "42\n"
     ]
    }
   ],
   "source": [
    "# 파이썬 자료형 - 숫자형(정수, 실수, 8진수, 16진수)\n",
    "a = 123 # 같다는 뜻으로 사용하려면 '=='를 써야 함. 여기서의 '='는 대입, 선언의 의미\n",
    "b = -123\n",
    "c = 0\n",
    "d = 1.23\n",
    "e = 0o177 # 8진수 0o으로 시작\n",
    "f = 0xABC # 16진수 0x로 시작\n",
    "g = 0b101010 # 0으로 시작\n",
    "print(a)\n",
    "print(b)\n",
    "print(c)\n",
    "print(d)\n",
    "print(e)\n",
    "print(f)\n",
    "print(g)"
   ]
  },
  {
   "cell_type": "code",
   "execution_count": 40,
   "id": "41332629",
   "metadata": {},
   "outputs": [
    {
     "name": "stdout",
     "output_type": "stream",
     "text": [
      "10\n",
      "2\n",
      "12\n",
      "20\n",
      "5.0\n",
      "0\n",
      "5\n",
      "100\n"
     ]
    }
   ],
   "source": [
    "# 사칙연산\n",
    "a = 10\n",
    "b = 2\n",
    "c = a+b\n",
    "d = a*b\n",
    "e = a/b\n",
    "f = a%b # 나머지\n",
    "g = a//b # 몫\n",
    "h = a**b # 제곱(위첨자처럼 쓰임)\n",
    "print(a)\n",
    "print(b)\n",
    "print(c)\n",
    "print(d)\n",
    "print(e)\n",
    "print(f)\n",
    "print(g)\n",
    "print(h)"
   ]
  },
  {
   "cell_type": "code",
   "execution_count": 50,
   "id": "1a979a7b",
   "metadata": {},
   "outputs": [
    {
     "ename": "TypeError",
     "evalue": "can only concatenate str (not \"int\") to str",
     "output_type": "error",
     "traceback": [
      "\u001b[1;31m---------------------------------------------------------------------------\u001b[0m",
      "\u001b[1;31mTypeError\u001b[0m                                 Traceback (most recent call last)",
      "\u001b[1;32m~\\AppData\\Local\\Temp/ipykernel_7180/1303505445.py\u001b[0m in \u001b[0;36m<module>\u001b[1;34m\u001b[0m\n\u001b[0;32m      2\u001b[0m \u001b[0mstring\u001b[0m \u001b[1;33m=\u001b[0m \u001b[1;34m\"문자열\"\u001b[0m\u001b[1;33m\u001b[0m\u001b[1;33m\u001b[0m\u001b[0m\n\u001b[0;32m      3\u001b[0m \u001b[0mnumber\u001b[0m \u001b[1;33m=\u001b[0m \u001b[1;36m273\u001b[0m\u001b[1;33m\u001b[0m\u001b[1;33m\u001b[0m\u001b[0m\n\u001b[1;32m----> 4\u001b[1;33m \u001b[0mstring\u001b[0m \u001b[1;33m+\u001b[0m \u001b[0mnumber\u001b[0m \u001b[1;31m# str는 string, 즉 문자열. int는 정수. float는 실수(소숫점)\u001b[0m\u001b[1;33m\u001b[0m\u001b[1;33m\u001b[0m\u001b[0m\n\u001b[0m",
      "\u001b[1;31mTypeError\u001b[0m: can only concatenate str (not \"int\") to str"
     ]
    }
   ],
   "source": [
    "# 다른 타입간 연산은 불가능\n",
    "string = \"문자열\"\n",
    "number = 273\n",
    "string + number # str는 string, 즉 문자열. int는 정수. float는 실수(소숫점)"
   ]
  },
  {
   "cell_type": "code",
   "execution_count": 57,
   "id": "2285bcea",
   "metadata": {},
   "outputs": [
    {
     "name": "stdout",
     "output_type": "stream",
     "text": [
      "<class 'int'>\n"
     ]
    },
    {
     "data": {
      "text/plain": [
       "str"
      ]
     },
     "execution_count": 57,
     "metadata": {},
     "output_type": "execute_result"
    }
   ],
   "source": [
    "a = 10\n",
    "a = '문자'\n",
    "a = 100\n",
    "print(type(a)) # 변수 이름이 같다면 제일 마지막에 선언한 타입을 따라감\n",
    "\n",
    "a = '글자'\n",
    "type(a)"
   ]
  },
  {
   "cell_type": "code",
   "execution_count": 5,
   "id": "b1e75aba",
   "metadata": {},
   "outputs": [
    {
     "data": {
      "text/plain": [
       "200"
      ]
     },
     "execution_count": 5,
     "metadata": {},
     "output_type": "execute_result"
    }
   ],
   "source": [
    "# 복합 대입 연산자\n",
    "num = 10\n",
    "num += 10 # num은 10+10= 20이 된다 (num = num + 10)\n",
    "num *= 10 # num은 20*10= 200이 된다 (num = num * 10)\n",
    "num"
   ]
  },
  {
   "cell_type": "code",
   "execution_count": 56,
   "id": "272e994c",
   "metadata": {},
   "outputs": [
    {
     "name": "stdout",
     "output_type": "stream",
     "text": [
      "10.0\n"
     ]
    },
    {
     "data": {
      "text/plain": [
       "float"
      ]
     },
     "execution_count": 56,
     "metadata": {},
     "output_type": "execute_result"
    }
   ],
   "source": [
    "num = 100\n",
    "num -= 20 # num은 80이 된다\n",
    "num /= 8 # num은 10이 된다\n",
    "print(num)\n",
    "type(num)"
   ]
  },
  {
   "cell_type": "code",
   "execution_count": 51,
   "id": "fae2d90f",
   "metadata": {},
   "outputs": [
    {
     "name": "stdout",
     "output_type": "stream",
     "text": [
      "인사말을 입력하세요.:안녕방가리\n"
     ]
    },
    {
     "data": {
      "text/plain": [
       "'안녕방가리'"
      ]
     },
     "execution_count": 51,
     "metadata": {},
     "output_type": "execute_result"
    }
   ],
   "source": [
    "# 사용자 입력\n",
    "input('인사말을 입력하세요.:')"
   ]
  },
  {
   "cell_type": "code",
   "execution_count": 58,
   "id": "b32bd818",
   "metadata": {},
   "outputs": [
    {
     "name": "stdout",
     "output_type": "stream",
     "text": [
      "숫자를 입력하세요.:4\n",
      "4\n"
     ]
    },
    {
     "data": {
      "text/plain": [
       "str"
      ]
     },
     "execution_count": 58,
     "metadata": {},
     "output_type": "execute_result"
    }
   ],
   "source": [
    "num = input('숫자를 입력하세요.:')\n",
    "print(num)\n",
    "type(num) # input 함수는 뭘 입력하든 타입 값은 string임"
   ]
  },
  {
   "cell_type": "code",
   "execution_count": 59,
   "id": "75abe722",
   "metadata": {},
   "outputs": [
    {
     "name": "stdout",
     "output_type": "stream",
     "text": [
      "첫 번째 숫자를 입력하세요.:2\n",
      "두 번째 숫자를 입력하세요.:8\n",
      "10\n"
     ]
    }
   ],
   "source": [
    "# input() 함수를 사용하면 숫자도 문자로 인식되므로 숫자 연산하려면 별도로 변환 필요\n",
    "num1 = input('첫 번째 숫자를 입력하세요.:')\n",
    "num1_n = int(num1)\n",
    "num2 = input('두 번째 숫자를 입력하세요.:')\n",
    "num2_n = int(num2)\n",
    "print(num1_n + num2_n)"
   ]
  },
  {
   "cell_type": "code",
   "execution_count": 62,
   "id": "d81b0f0d",
   "metadata": {},
   "outputs": [
    {
     "name": "stdout",
     "output_type": "stream",
     "text": [
      "3을 입력해 주세요.:3\n",
      "3.3을 입력해 주세요.:3.3\n",
      "6.3\n"
     ]
    }
   ],
   "source": [
    "# Q. 3과 3.3을 입력하고 숫자 연산을 수행하여 6.3을 출력하세요.\n",
    "\n",
    "n1 = input('3을 입력해 주세요.:')\n",
    "n1n = int(n1)\n",
    "n2 = input('3.3을 입력해 주세요.:')\n",
    "n2n = float(n2)\n",
    "print(n1n + n2n)"
   ]
  },
  {
   "cell_type": "code",
   "execution_count": 63,
   "id": "01022ab6",
   "metadata": {},
   "outputs": [
    {
     "name": "stdout",
     "output_type": "stream",
     "text": [
      "3을 입력해 주세요.:3\n",
      "3.3을 입력해 주세요.:3.3\n",
      "6.3\n"
     ]
    }
   ],
   "source": [
    "# 근데 이거 최초 입력 받을때 걍 처음부터 int(), float()로 인풋 함수 감싸도 됨\n",
    "n1 = int(input('3을 입력해 주세요.:'))\n",
    "n2 = float(input('3.3을 입력해 주세요.:'))\n",
    "print(n1 + n2)\n",
    "# 라잌 디스!"
   ]
  },
  {
   "cell_type": "code",
   "execution_count": 64,
   "id": "cc9c3deb",
   "metadata": {},
   "outputs": [
    {
     "name": "stdout",
     "output_type": "stream",
     "text": [
      "5252.273\n"
     ]
    }
   ],
   "source": [
    "# Q. a = 52, b = 52.273일 때 a+b는 5252.273으로 출력되도록\n",
    "# a와 b를 문자열 자료형으로 변환\n",
    "\n",
    "a = 52\n",
    "b = 52.273\n",
    "print(str(a)+str(b))"
   ]
  },
  {
   "cell_type": "code",
   "execution_count": 269,
   "id": "73fba621",
   "metadata": {},
   "outputs": [
    {
     "name": "stdout",
     "output_type": "stream",
     "text": [
      "지긋지긋한 헬로 월드\n",
      "지긋지긋한 '헬로 월드'\n",
      "\"지긋지긋한 '헬로 월드'\"\n"
     ]
    }
   ],
   "source": [
    "# 문자열: \"\", '', \"\"\"\"\"\", ''''''\n",
    "print('지긋지긋한 헬로 월드')\n",
    "print(\"지긋지긋한 '헬로 월드'\")\n",
    "print(\"\\\"지긋지긋한 '헬로 월드'\\\"\") # \\는 그 다음 한 글자의 문법적 역할을 없애고 단순 문자 취급한다고 보면 됨"
   ]
  },
  {
   "cell_type": "code",
   "execution_count": 68,
   "id": "0ac5bf5b",
   "metadata": {},
   "outputs": [
    {
     "name": "stdout",
     "output_type": "stream",
     "text": [
      "내부에서 줄바꿈을 원한다면\n",
      "이 기능을 사용하세요.\n",
      "혹은 이런 방법도 있죠.\n",
      "구문 전체를 문자열 취급하기.\n",
      "어때요.\n",
      "참 쉽죠?\n"
     ]
    }
   ],
   "source": [
    "print('내부에서 줄바꿈을 원한다면\\n이 기능을 사용하세요.') # 개행, Escape!\n",
    "print(\"\"\"혹은 이런 방법도 있죠.\n",
    "구문 전체를 문자열 취급하기.\"\"\")\n",
    "print('''어때요.\n",
    "참 쉽죠?''')"
   ]
  },
  {
   "cell_type": "code",
   "execution_count": 71,
   "id": "c9bad98e",
   "metadata": {},
   "outputs": [
    {
     "name": "stdout",
     "output_type": "stream",
     "text": [
      "정말 배고파요\n",
      "정말 정말 정말 배고파요\n",
      "배고파요~~~~~~~~~~\n"
     ]
    }
   ],
   "source": [
    "# 문자열 연산\n",
    "a1 = '정말 '\n",
    "a2 = '배고파요'\n",
    "print(a1+a2)\n",
    "print(a1*3+a2)\n",
    "print(a2+\"~\"*10)"
   ]
  },
  {
   "cell_type": "code",
   "execution_count": 77,
   "id": "989ae0ec",
   "metadata": {},
   "outputs": [
    {
     "name": "stdout",
     "output_type": "stream",
     "text": [
      " \"이렇게는 못 삽니다. 사람이 밥은 먹고 살아야죠!\"\n",
      " 그렇게 말하고 그 사람은 도망쳤다.\n",
      " 여길 떠나서 밥 한 술이나 제대로 먹을 수 있으리라 생각하는 것 자체가 우스웠지만,\n",
      "그런 생각하면 배고파지니까 나는 곧 생각을 그만두었다.\n"
     ]
    }
   ],
   "source": [
    "print(\" \\\"이렇게는 못 삽니다. 사람이 밥은 먹고 살아야죠!\\\"\\n 그렇게 말하고 그 사람은 도망쳤다.\")\n",
    "print(''' 여길 떠나서 밥 한 술이나 제대로 먹을 수 있으리라 생각하는 것 자체가 우스웠지만,\n",
    "그런 생각하면 배고파지니까 나는 곧 생각을 그만두었다.''')"
   ]
  },
  {
   "cell_type": "code",
   "execution_count": 2,
   "id": "cd5e7169",
   "metadata": {},
   "outputs": [
    {
     "name": "stdout",
     "output_type": "stream",
     "text": [
      "['김첨지', 123, [1, 2, 3, 4, 5], ['a', 'b', 'c']]\n"
     ]
    }
   ],
   "source": [
    "# 자료형 List\n",
    "# List는 []로 표시하며 [] 안의 요소를 콤마로 구분하여 순서 있게 나열\n",
    "list1 = [1,2,3,4,5]\n",
    "list2 = ['a','b','c']\n",
    "list3 = ['김첨지', 123, list1, list2]\n",
    "print(list3)"
   ]
  },
  {
   "cell_type": "code",
   "execution_count": 4,
   "id": "eac1ea5f",
   "metadata": {},
   "outputs": [
    {
     "name": "stdout",
     "output_type": "stream",
     "text": [
      "[1, 2, 3, 4, 5]\n",
      "3\n",
      "3\n",
      "[1, 2]\n",
      "김첨지\n",
      "5\n"
     ]
    }
   ],
   "source": [
    "# 인덱싱\n",
    "list1 = [1,2,3,4,5]\n",
    "print(list1[:])\n",
    "print(list1[2])\n",
    "print(list1[-3])\n",
    "print(list1[0:2])\n",
    "print(list3[0]) # 새로 변수 지정한 게 없으니 이전 단락 변수를 사용. 근데 이거 이전단락 실행안하면 먹통\n",
    "print(list3[2][4])"
   ]
  },
  {
   "cell_type": "code",
   "execution_count": 138,
   "id": "838f0146",
   "metadata": {},
   "outputs": [
    {
     "name": "stdout",
     "output_type": "stream",
     "text": [
      "[1, 1, 2, 3, 4, 5, 6, 7, 8, 9]\n",
      "['a', 'a', 'c']\n",
      "['a', 'c']\n"
     ]
    }
   ],
   "source": [
    "# 리스트 수정 및 삭제\n",
    "a = [0,1,2,3,4,5,6,7,8,9]\n",
    "b = ['a','b','c']\n",
    "\n",
    "a[0] = 1\n",
    "b[1] = 'a'\n",
    "print(a)\n",
    "print(b)\n",
    "del b[0] # b의 0번째 요소를 없앤다는 명령이므로 프린트 안에 넣을 수 없음\n",
    "print(b)"
   ]
  },
  {
   "cell_type": "code",
   "execution_count": 5,
   "id": "4ee85cdf",
   "metadata": {},
   "outputs": [
    {
     "name": "stdout",
     "output_type": "stream",
     "text": [
      "[0, 1, 2, 3, 4, 5, 6, 7, 8, 9, 'a', 'b', 'c']\n",
      "c\n",
      "[0, 1, 2, 3, 4, 5, 6, 7, 8, 9, 'a', 'b', '뿌에엥']\n"
     ]
    }
   ],
   "source": [
    "a = [0,1,2,3,4,5,6,7,8,9]\n",
    "b = ['a','b','c']\n",
    "c = a+b\n",
    "print(c)\n",
    "\n",
    "print(c[-1]) # 좌측은 0에서, 우측은 -1에서 시작\n",
    "c[-1] = '뿌에엥'\n",
    "print(c)"
   ]
  },
  {
   "cell_type": "code",
   "execution_count": 109,
   "id": "6eca364f",
   "metadata": {},
   "outputs": [
    {
     "name": "stdout",
     "output_type": "stream",
     "text": [
      "[1, 2, 3, 4, 5]\n",
      "[5, 4, 3, 2, 1]\n",
      "[5, 4, 3, 2, 1]\n"
     ]
    }
   ],
   "source": [
    "# 오름차순 정렬\n",
    "b = [2,4,1,5,3]\n",
    "b.sort()\n",
    "print(b)\n",
    "\n",
    "# 내림차순 정렬\n",
    "br = sorted(b, reverse=True)\n",
    "print(br)\n",
    "b.reverse()\n",
    "print(b)"
   ]
  },
  {
   "cell_type": "code",
   "execution_count": 118,
   "id": "96ebed65",
   "metadata": {},
   "outputs": [
    {
     "name": "stdout",
     "output_type": "stream",
     "text": [
      "[1, 1, 1, 2, 2, 3, 4, 5, 6, 7, 8, 9]\n",
      "[9, 8, 7, 6, 5, 4, 3, 2, 2, 1, 1, 1]\n",
      "[9, 8, 7, 6, 5, 4, 3, 2, 2, 1, 1, 1]\n",
      "[1, 1, 1, 2, 2, 3, 4, 5, 6, 7, 8, 9]\n"
     ]
    }
   ],
   "source": [
    "s = [1,1,2,3,4,5,6,7,8,9,2,1]\n",
    "s.sort()\n",
    "print(s)\n",
    "sr = sorted(s, reverse=True)\n",
    "print(sr)\n",
    "s.reverse()\n",
    "print(s)\n",
    "s.reverse() # s 자체를 뒤집었다가 다시 뒤집은 셈\n",
    "print(s)"
   ]
  },
  {
   "cell_type": "code",
   "execution_count": 120,
   "id": "6eebea8f",
   "metadata": {},
   "outputs": [
    {
     "name": "stdout",
     "output_type": "stream",
     "text": [
      "2\n"
     ]
    }
   ],
   "source": [
    "# 인덱스 위치 반환\n",
    "c = [1,2,3,1,5]\n",
    "print(c.index(3)) # 3의 위치는 어디야? 0, 1, 2! 2번째야."
   ]
  },
  {
   "cell_type": "code",
   "execution_count": 123,
   "id": "8ca2352a",
   "metadata": {},
   "outputs": [
    {
     "name": "stdout",
     "output_type": "stream",
     "text": [
      "[70, 48, 59, 22, 77, 38, 76, 78, 10, 3, 3, 6, 77, 74, 67, 12, 26, 28, 36, 61, 33, 50, 29, 72, 89, 18, 98, 70, 95, 94, 8, 56, 93, 19, 17, 62, 57, 76, 41, 81, 70, 96, 63, 29, 72, 27, 11, 27, 68, 73, 59, 26, 99, 70, 76, 75, 97, 69, 89, 11, 14, 2, 35, 5, 91, 54, 7, 78, 16, 69, 98, 37, 76, 67, 4, 36, 99, 31, 97, 4, 61, 54, 49, 89, 64, 84, 25, 52, 18, 48, 34, 66, 36, 68, 34, 23, 98, 6, 17, 37]\n"
     ]
    },
    {
     "data": {
      "text/plain": [
       "61"
      ]
     },
     "execution_count": 123,
     "metadata": {},
     "output_type": "execute_result"
    }
   ],
   "source": [
    "import numpy as n # as 다음에 오는 건 걍 축약형으로 쓴 거라 다른 단어 써도 됨\n",
    "c = n.random.randint(100, size=100).tolist() # 랜덤하게 뽑은 100개의 정수를 리스트화\n",
    "print(c)\n",
    "c.index(2)"
   ]
  },
  {
   "cell_type": "code",
   "execution_count": 127,
   "id": "0f282082",
   "metadata": {},
   "outputs": [
    {
     "name": "stdout",
     "output_type": "stream",
     "text": [
      "4\n"
     ]
    }
   ],
   "source": [
    "# 개수 반환\n",
    "c = [1,1,2,2,3,3,3,3,4,5,5,5]\n",
    "print(c.count(3))"
   ]
  },
  {
   "cell_type": "code",
   "execution_count": 132,
   "id": "66ef505a",
   "metadata": {},
   "outputs": [
    {
     "name": "stdout",
     "output_type": "stream",
     "text": [
      "[1, 2, 3, 4, 5, 6]\n",
      "[1, 2, 3, 4, 5, 6, 7]\n",
      "[1, 2, 3, 4, 5, 6, 7, 8]\n"
     ]
    }
   ],
   "source": [
    "# 리스트 확장\n",
    "h = [1,2,3]\n",
    "h.extend([4,5,6])\n",
    "print(h)\n",
    "\n",
    "# 마지막에 1개만 추가\n",
    "h.append(7)\n",
    "print(h)\n",
    "\n",
    "# n번째 위치에 삽입\n",
    "h.insert(7,8) # -1 위치 지정하면 마지막 자리에 있던 숫자를 밀고 그 자리에 들어감\n",
    "print(h)"
   ]
  },
  {
   "cell_type": "code",
   "execution_count": 1,
   "id": "c4bacd65",
   "metadata": {},
   "outputs": [
    {
     "name": "stdout",
     "output_type": "stream",
     "text": [
      "(1, 2, 3, 4, 5)\n",
      "4\n",
      "첨\n"
     ]
    }
   ],
   "source": [
    "# 튜플 - 리스트와 비슷하지만 소괄호로 묶여 있다.\n",
    "# 또한 튜플의 요소값은 리스트와 다르게 변경 불가 - 값이 항상 변하지 않아야 할 때 사용\n",
    "# 그래도 순서는 있기 때문에 인덱싱(위치 확인) 기능은 가능\n",
    "tuple1 = (1,2,3,4,5)\n",
    "tuple2 = ('김','첨','지')\n",
    "tuple3 = (1,'a',tuple1,tuple2,'으악')\n",
    "\n",
    "print(tuple1[:])\n",
    "print(tuple3[2][3])\n",
    "print(tuple3[3][1])"
   ]
  },
  {
   "cell_type": "code",
   "execution_count": 137,
   "id": "49c6e031",
   "metadata": {},
   "outputs": [
    {
     "name": "stdout",
     "output_type": "stream",
     "text": [
      "(1,)\n",
      "(1, 2, 3)\n",
      "(1, 2, 3, 1, 2, 3, 1, 2, 3)\n",
      "(1, 1, 2, 3)\n",
      "1\n"
     ]
    },
    {
     "data": {
      "text/plain": [
       "int"
      ]
     },
     "execution_count": 137,
     "metadata": {},
     "output_type": "execute_result"
    }
   ],
   "source": [
    "# 튜플이 1개의 요소만 가질 때에는 요소 뒤에 반드시 콤마를 붙여야 함\n",
    "t1 = (1,)\n",
    "print(t1)\n",
    "t2 = 1,2,3\n",
    "print(t2)\n",
    "print(t2*3)\n",
    "t3 = t1+t2\n",
    "print(t3)\n",
    "t4 = (1)\n",
    "print(t4) # 튜플이 아닌 단순 정수로 취급되는 모습\n",
    "type(t4)"
   ]
  },
  {
   "cell_type": "code",
   "execution_count": 1,
   "id": "0d40387d",
   "metadata": {},
   "outputs": [
    {
     "name": "stdout",
     "output_type": "stream",
     "text": [
      "1\n",
      "{'a': 1, 'b': 5, 'c': 3}\n",
      "9000 만 원\n"
     ]
    }
   ],
   "source": [
    "# 자료형 - 사전(키와 값을 하나의 요소로 하는, 순서가 없는 집합) 순서 없으니 인덱싱 X\n",
    "d1 = {'a':1, 'b':2, 'c':3}\n",
    "print(d1['a'])\n",
    "d1['b'] = 5\n",
    "print(d1)\n",
    "\n",
    "# 해당 키의 값을 :로 지정해 주는 것임. 복습해 볼까?\n",
    "\n",
    "e1 = {'도지':9000, '에이다':6000, '비트':2.5}\n",
    "print(e1['도지'],'만 원')"
   ]
  },
  {
   "cell_type": "code",
   "execution_count": 142,
   "id": "e103d79b",
   "metadata": {},
   "outputs": [
    {
     "name": "stdout",
     "output_type": "stream",
     "text": [
      "dict_keys(['a', 'b', 'c'])\n",
      "dict_values([1, 5, 3])\n",
      "dict_items([('a', 1), ('b', 5), ('c', 3)])\n"
     ]
    }
   ],
   "source": [
    "print(d1.keys())\n",
    "print(d1.values())\n",
    "print(d1.items())"
   ]
  },
  {
   "cell_type": "code",
   "execution_count": 255,
   "id": "2bd28ee2",
   "metadata": {},
   "outputs": [
    {
     "name": "stdout",
     "output_type": "stream",
     "text": [
      "dict_keys(['삼각김밥', '컵라면', '감동란'])\n",
      "dict_values([700, 1500, 2500])\n",
      "dict_items([('삼각김밥', 700), ('컵라면', 1500), ('감동란', 2500)])\n",
      "dict_items([('삼각김밥', 1000), ('컵라면', 1500), ('감동란', 2500)])\n",
      "1500\n",
      "어떤 제품의 가격이 궁금하신가요? 삼각김밥\n",
      "삼각김밥의 가격은 1000원입니다.\n"
     ]
    }
   ],
   "source": [
    "c1 = {'삼각김밥':700, '컵라면':1500, '감동란':2500}\n",
    "print(c1.keys())\n",
    "print(c1.values())\n",
    "print(c1.items())\n",
    "c1['삼각김밥'] = 1000 # 키 놔두고 값만 바꾸기\n",
    "print(c1.items())\n",
    "print(c1['컵라면'])\n",
    "\n",
    "\n",
    "prod = input('어떤 제품의 가격이 궁금하신가요? ')\n",
    "print(prod +'의 가격은 '+str(c1[prod])+'원입니다.' )"
   ]
  },
  {
   "cell_type": "code",
   "execution_count": 6,
   "id": "46b856dd",
   "metadata": {},
   "outputs": [
    {
     "name": "stdout",
     "output_type": "stream",
     "text": [
      "{1, 2, 3, 4, 5}\n",
      "{'h', 'o', 'l', 'e'}\n"
     ]
    }
   ],
   "source": [
    "# 자료향 - 집합, set(중복을 허용하지 않으며, 순서가 없다.)\n",
    "s1 = set([1,2,5,4,3]) # 출력은 오름차순인데 딱히 순서 있는 거 아님. 순서 인식 X sort는 먹힘\n",
    "s2 = set('hello') # l이 중복이므로 1개만 취급\n",
    "print(s1)\n",
    "print(s2)"
   ]
  },
  {
   "cell_type": "code",
   "execution_count": 149,
   "id": "b78a606a",
   "metadata": {},
   "outputs": [
    {
     "name": "stdout",
     "output_type": "stream",
     "text": [
      "2\n",
      "e\n"
     ]
    }
   ],
   "source": [
    "# 집합은 순서가 없어 인덱싱으로 값을 얻을 수 없음\n",
    "# 필요할 시 리스트나 튜플로 변환 후 인덱싱\n",
    "l1 = list(s1)\n",
    "l2 = list(s2)\n",
    "print(l1[1])\n",
    "print(l2[3])"
   ]
  },
  {
   "cell_type": "code",
   "execution_count": 153,
   "id": "aa142304",
   "metadata": {},
   "outputs": [
    {
     "name": "stdout",
     "output_type": "stream",
     "text": [
      "[1, 2, 3, 4, 5, 6, 7, 8, 9]\n",
      "[4, 5, 6]\n",
      "(1, 2, 3, 4, 5, 6, 7, 8, 9)\n",
      "(4, 5, 6)\n"
     ]
    }
   ],
   "source": [
    "# Q. s1, s2의 하집합과 교집합을 각각 리스트와 튜플로 출력하세요.\n",
    "# 합집합(s1|s2), 교집합(s1&s2)\n",
    "s1 = set([1,2,3,4,5,6])\n",
    "s2 = set([4,5,6,7,8,9])\n",
    "\n",
    "print(list(s1|s2))\n",
    "print(list(s1&s2))\n",
    "print(tuple(s1|s2))\n",
    "print(tuple(s1&s2))\n",
    "\n",
    "# 튜플은 요소 변경 불가능! 잊지 말기!"
   ]
  },
  {
   "cell_type": "code",
   "execution_count": 155,
   "id": "1fbabb67",
   "metadata": {},
   "outputs": [
    {
     "name": "stdout",
     "output_type": "stream",
     "text": [
      "[1, 1, 2, 3, 5, 32]\n",
      "3\n",
      "[1, 1, 2, 3, 5, 27]\n"
     ]
    }
   ],
   "source": [
    "# 리스트 연습\n",
    "\n",
    "a = [1,2,32,5,3,1]\n",
    "a.sort()\n",
    "print(a)\n",
    "print(a.index(3))\n",
    "a[5] = 27\n",
    "print(a)"
   ]
  },
  {
   "cell_type": "code",
   "execution_count": 158,
   "id": "35596fca",
   "metadata": {},
   "outputs": [
    {
     "name": "stdout",
     "output_type": "stream",
     "text": [
      "(1, 2, 3, 4, 5)\n"
     ]
    }
   ],
   "source": [
    "# 튜플 연습\n",
    "\n",
    "a = (1,)\n",
    "b = (2,3,4,5)\n",
    "print(a+b)"
   ]
  },
  {
   "cell_type": "code",
   "execution_count": 2,
   "id": "834e15f1",
   "metadata": {},
   "outputs": [
    {
     "name": "stdout",
     "output_type": "stream",
     "text": [
      "dict_keys(['벚꽃', '커스타드', '나뭇가지'])\n",
      "dict_values([100, 50, 3])\n",
      "dict_items([('벚꽃', 100), ('커스타드', 50), ('나뭇가지', 3)])\n",
      "{'벚꽃': 365, '커스타드': 50, '나뭇가지': 3, '벅꽇': 0}\n",
      "{'커스타드': 50, '나뭇가지': 3, '벅꽇': 0}\n"
     ]
    }
   ],
   "source": [
    "# 딕셔너리 연습 - 인덱싱 안 됨!\n",
    "a = {'벚꽃':100, '커스타드':50, '나뭇가지':3}\n",
    "print(a.keys())\n",
    "print(a.values())\n",
    "print(a.items())\n",
    "a['벅꽇'] = 0 # 이렇게 하면 딕셔너리에 추가됨\n",
    "a['벚꽃'] = 365 # 이렇게 하면 기존 값이 바뀜\n",
    "print(a)\n",
    "del a['벚꽃'] # 이렇게 하면 키와 값이 같이 삭제됨\n",
    "print(a)\n",
    "\n",
    "# 딕셔너리는 키를 수정할 수는 없음. 삭제 후 추가해 주는 식으로 활용하자."
   ]
  },
  {
   "cell_type": "code",
   "execution_count": 220,
   "id": "5149b786",
   "metadata": {},
   "outputs": [
    {
     "name": "stdout",
     "output_type": "stream",
     "text": [
      "{'팀', '트', '빅', '맥', '우', '세', '리'}\n"
     ]
    }
   ],
   "source": [
    "# 세트 연습\n",
    "s1=set('우리팀세트빅맥세트')\n",
    "print(s1)"
   ]
  },
  {
   "cell_type": "code",
   "execution_count": 167,
   "id": "1f9f967f",
   "metadata": {},
   "outputs": [
    {
     "name": "stdout",
     "output_type": "stream",
     "text": [
      "a가 목록에 있습니다.\n"
     ]
    }
   ],
   "source": [
    "# 들여쓰기\n",
    "li = ['a','b','c']\n",
    "if 'a' in li:\n",
    "    print('a가 목록에 있습니다.')\n",
    "else:\n",
    "    print('a가 목록에 없습니다.')"
   ]
  },
  {
   "cell_type": "code",
   "execution_count": 168,
   "id": "c2cef606",
   "metadata": {},
   "outputs": [
    {
     "data": {
      "text/plain": [
       "'나의 이름은 김첨지입니다. 나이는 올해 45세입니다.'"
      ]
     },
     "execution_count": 168,
     "metadata": {},
     "output_type": "execute_result"
    }
   ],
   "source": [
    "# 문자열 포맷\n",
    "name = '김첨지'\n",
    "age = 45\n",
    "f'나의 이름은 {name}입니다. 나이는 올해 {age}세입니다.'\n",
    "\n",
    "# 포맷을 사용하면 같은 항목을 공유하는 부분을 동시에 수정 가능"
   ]
  },
  {
   "cell_type": "code",
   "execution_count": 175,
   "id": "57750015",
   "metadata": {},
   "outputs": [
    {
     "data": {
      "text/plain": [
       "'내 이름은 김첨지이며, 가장 좋아하는 음식은 설렁탕입니다.'"
      ]
     },
     "execution_count": 175,
     "metadata": {},
     "output_type": "execute_result"
    }
   ],
   "source": [
    "d = {'name':'김첨지','food':'설렁탕'}\n",
    "f'내 이름은 {d[\"name\"]}이며, 가장 좋아하는 음식은 {d[\"food\"]}입니다.'\n",
    "# 안쪽은 왜 '를 안 쓰고 \"를 썼느냐 하면, 따옴표 안에 묶여야 해서 여러 번 못 쓴 거임"
   ]
  },
  {
   "cell_type": "code",
   "execution_count": 216,
   "id": "d40027c2",
   "metadata": {},
   "outputs": [
    {
     "name": "stdout",
     "output_type": "stream",
     "text": [
      "2.718\n"
     ]
    },
    {
     "data": {
      "text/plain": [
       "'  2.718282'"
      ]
     },
     "execution_count": 216,
     "metadata": {},
     "output_type": "execute_result"
    }
   ],
   "source": [
    "e = 2.71828182845904\n",
    "print(f'{e:0.3f}') # 소수점 3자리까지만 표현\n",
    "f'{e:10.6f}' # 소수점 6자리까지 표현하고, 자리수를 10으로 맞춤(소수점 포함)"
   ]
  },
  {
   "cell_type": "code",
   "execution_count": 7,
   "id": "2d97ae94",
   "metadata": {},
   "outputs": [
    {
     "name": "stdout",
     "output_type": "stream",
     "text": [
      "김연아 선수가 1등입니다.\n",
      "페이커 선수가 1등입니다.\n",
      "치킨마요 메뉴가 1등으로 잘 팔립니다.\n"
     ]
    }
   ],
   "source": [
    "# 포맷함수\n",
    "f1 = \"{} 선수가 {}등입니다.\".format('김연아',1)\n",
    "print(f1)\n",
    "\n",
    "f1 = \"{1} 선수가 {0}등입니다.\".format(1,'페이커')\n",
    "print(f1)\n",
    "\n",
    "print(\"%s 메뉴가 %s등으로 잘 팔립니다.\" %(\"치킨마요\",1))\n",
    "\n",
    "# %s는 문자열, %d는 숫자\n",
    "# 인데 사실 %s에 암거나 다 넣어도 됨 ㅋㅋ"
   ]
  },
  {
   "cell_type": "code",
   "execution_count": 181,
   "id": "6ec800d1",
   "metadata": {},
   "outputs": [
    {
     "name": "stdout",
     "output_type": "stream",
     "text": [
      "파이썬이 자바보다 2배 쉽습니다.\n"
     ]
    }
   ],
   "source": [
    "f1 = \"{3}이 {2}보다 {0}배 쉽습니다.\".format(2,'C++','자바','파이썬')\n",
    "print(f1)"
   ]
  },
  {
   "cell_type": "code",
   "execution_count": 256,
   "id": "47ea1fe7",
   "metadata": {},
   "outputs": [
    {
     "name": "stdout",
     "output_type": "stream",
     "text": [
      "저축 증가\n"
     ]
    }
   ],
   "source": [
    "# 제어문 - if~elif~else\n",
    "# [수입과 지출을 비교해 수입이 많으면 저축 증가, 반대이면 부채 증가,]\n",
    "# [같으면 현상유지]\n",
    "\n",
    "i = 5,000,000\n",
    "e = 3,000,000\n",
    "\n",
    "if i>e:\n",
    "    print('저축 증가')\n",
    "elif i<e:\n",
    "    print('부채 증가')\n",
    "else:\n",
    "    print('현상유지')"
   ]
  },
  {
   "cell_type": "code",
   "execution_count": 230,
   "id": "d31784f3",
   "metadata": {},
   "outputs": [
    {
     "name": "stdout",
     "output_type": "stream",
     "text": [
      "2 6 532 4312 645 43 4 "
     ]
    }
   ],
   "source": [
    "# for 반복문\n",
    "numbers = [2,6,532,4312,645,43,4]\n",
    "for number in numbers:\n",
    "    print(number,end=' ')"
   ]
  },
  {
   "cell_type": "code",
   "execution_count": 7,
   "id": "92aa0c28",
   "metadata": {
    "scrolled": true
   },
   "outputs": [
    {
     "name": "stdout",
     "output_type": "stream",
     "text": [
      "1\n",
      "2\n",
      "3\n",
      "4\n",
      "5\n",
      "1 2 3 4 5 "
     ]
    }
   ],
   "source": [
    "# for~continue~break\n",
    "# 1~10 범위의 정수에서 1~5까지만 출력하세요.\n",
    "\n",
    "for i in range(1,11): # range 함수에서 뒤에 오는 숫자는 미포함이니 항상 1 크게 쓰자.\n",
    "    if i<6:\n",
    "        print (i)\n",
    "    else:\n",
    "        break;\n",
    "        \n",
    "for i in range(1,11): # 반복 작업할 걸 위로 빼고 분기만 밑에 넣어야 코드가 깔끔해짐\n",
    "    print(i, end=\" \")\n",
    "    if i<5:\n",
    "        continue\n",
    "    else:\n",
    "        break"
   ]
  },
  {
   "cell_type": "code",
   "execution_count": 328,
   "id": "9a31d177",
   "metadata": {},
   "outputs": [
    {
     "name": "stdout",
     "output_type": "stream",
     "text": [
      "n값은 45, 합은 1035\n"
     ]
    }
   ],
   "source": [
    "# while문. 조건을 만족하는 한 무한반복\n",
    "\n",
    "# 정수 1부터 n까지 더할 때 그 합이 1000보다 커지게 되는 n과 합을 구하시오.\n",
    "\n",
    "a = 1\n",
    "sum = 0\n",
    "while 1:\n",
    "    sum = sum + a\n",
    "    if sum > 1000:\n",
    "        print(\"n값은 %d, 합은 %d\" %(a,sum))\n",
    "        break\n",
    "    else: a = a + 1"
   ]
  },
  {
   "cell_type": "code",
   "execution_count": 322,
   "id": "699daba4",
   "metadata": {
    "scrolled": true
   },
   "outputs": [
    {
     "name": "stdout",
     "output_type": "stream",
     "text": [
      "15 20 25 "
     ]
    }
   ],
   "source": [
    "# numbers 리스트에서 15, 20, 25를 출력하세요. (for문과 if문 사용 필수)\n",
    "\n",
    "numbers = [5,15,6,20,7,25]\n",
    "\n",
    "for num in numbers:\n",
    "\n",
    "    if num>10:\n",
    "        print(num, end=\" \")"
   ]
  },
  {
   "cell_type": "code",
   "execution_count": 343,
   "id": "0c660c2a",
   "metadata": {},
   "outputs": [
    {
     "name": "stdout",
     "output_type": "stream",
     "text": [
      "합은 166833\n",
      "166833\n"
     ]
    }
   ],
   "source": [
    "# while 문을 사용해 1부터 1000까지의 정수 중 3의 배수의 합을 구해 보세요.\n",
    "\n",
    "a = 3\n",
    "sum = 0\n",
    "while 1:\n",
    "    sum = sum + a\n",
    "    if a > 998:\n",
    "        print(\"합은 %d\" %sum)\n",
    "        break\n",
    "    else: a = a+3\n",
    "        \n",
    "# 혹은\n",
    "i=0\n",
    "sum=0\n",
    "\n",
    "while i<1000:\n",
    "    i+=1\n",
    "    if i%3==0:\n",
    "        sum =sum+i\n",
    "\n",
    "print(sum)\n"
   ]
  },
  {
   "cell_type": "code",
   "execution_count": 3,
   "id": "0d55f974",
   "metadata": {},
   "outputs": [
    {
     "name": "stdout",
     "output_type": "stream",
     "text": [
      "닷지 좀 해주세요.\n",
      "둘 중에 누가 원딜임?\n"
     ]
    }
   ],
   "source": [
    "# for 반복문 연습\n",
    "blue = ['티모','마스터이','야스오','이즈리얼','블리츠크랭크']\n",
    "red = ['베인','그레이브즈','르블랑','루시안','나미']\n",
    "a = '티모'\n",
    "b = '베인'\n",
    "\n",
    "for a in blue:\n",
    "    print('닷지 좀 해주세요.')\n",
    "    break\n",
    "for b in red:\n",
    "    print('둘 중에 누가 원딜임?')\n",
    "    break"
   ]
  },
  {
   "cell_type": "code",
   "execution_count": 261,
   "id": "54d1dd52",
   "metadata": {},
   "outputs": [
    {
     "name": "stdout",
     "output_type": "stream",
     "text": [
      "2\n"
     ]
    },
    {
     "data": {
      "text/plain": [
       "1"
      ]
     },
     "execution_count": 261,
     "metadata": {},
     "output_type": "execute_result"
    }
   ],
   "source": [
    "# 5를 2로 나누었을 때의 몫과 나머지를 구하세요.\n",
    "print(5//2)\n",
    "5%2"
   ]
  },
  {
   "cell_type": "code",
   "execution_count": 258,
   "id": "32629f19",
   "metadata": {},
   "outputs": [
    {
     "data": {
      "text/plain": [
       "1030301"
      ]
     },
     "execution_count": 258,
     "metadata": {},
     "output_type": "execute_result"
    }
   ],
   "source": [
    "# 101의 3승을 구하세요.\n",
    "101**3"
   ]
  },
  {
   "cell_type": "code",
   "execution_count": 263,
   "id": "caf1c85c",
   "metadata": {},
   "outputs": [
    {
     "data": {
      "text/plain": [
       "'Python 3.8.3'"
      ]
     },
     "execution_count": 263,
     "metadata": {},
     "output_type": "execute_result"
    }
   ],
   "source": [
    "# Python과 3.8.3을 합쳐 Python 3.8.3으로 출력하세요\n",
    "'Python'+' '+'3.8.3'"
   ]
  },
  {
   "cell_type": "code",
   "execution_count": 268,
   "id": "c71e699d",
   "metadata": {},
   "outputs": [
    {
     "data": {
      "text/plain": [
       "int"
      ]
     },
     "execution_count": 268,
     "metadata": {},
     "output_type": "execute_result"
    }
   ],
   "source": [
    "# a = 5, a = '10', a = 15일때 a의 자료형은 무엇인가?\n",
    "a = 5; a = '10' ; a = 15\n",
    "type(a)"
   ]
  },
  {
   "cell_type": "code",
   "execution_count": 281,
   "id": "96ad71b6",
   "metadata": {},
   "outputs": [
    {
     "name": "stdout",
     "output_type": "stream",
     "text": [
      "2\n",
      "2\n"
     ]
    }
   ],
   "source": [
    "# 5의 3승을 3으로 나누었을 때의 나머지를 복합대입연산자를 이용해서 구하세요.\n",
    "print((5**3)%3)\n",
    "\n",
    "a = 5**3\n",
    "a%=3 # 연산 후 연산된 값으로 a를 재선언\n",
    "print(a)"
   ]
  },
  {
   "cell_type": "code",
   "execution_count": 274,
   "id": "da68738e",
   "metadata": {},
   "outputs": [
    {
     "name": "stdout",
     "output_type": "stream",
     "text": [
      "이름이 무엇인가요? 김첨지\n",
      "제 이름은 김첨지입니다.\n"
     ]
    }
   ],
   "source": [
    "# 이름을 물어보고 답하는 내용을 출력하세요.\n",
    "\n",
    "name = input('이름이 무엇인가요? ')\n",
    "print('제 이름은 '+name+'입니다.')\n",
    "\n",
    "# 혹은\n",
    "# f'{name}입니다.'"
   ]
  },
  {
   "cell_type": "code",
   "execution_count": 285,
   "id": "245c8202",
   "metadata": {},
   "outputs": [
    {
     "name": "stdout",
     "output_type": "stream",
     "text": [
      "첫 번째 숫자를 입력해 주세요. 2\n",
      "두 번째 숫자를 입력해 주세요. 3\n",
      "세 번째 숫자를 입력해 주세요. 3\n",
      "2\n",
      "2 ^ 3 // 3 = 2\n"
     ]
    }
   ],
   "source": [
    "# 숫자 3개를 입력해 첫 번째 숫자를 두 번째 숫자 승한 뒤에 세 번째 숫자로 나눈 몫\n",
    "\n",
    "a = int(input('첫 번째 숫자를 입력해 주세요. '))\n",
    "b = int(input('두 번째 숫자를 입력해 주세요. '))\n",
    "c = int(input('세 번째 숫자를 입력해 주세요. '))\n",
    "d = (a**b)//c\n",
    "\n",
    "print(d)\n",
    "\n",
    "# 또는 포맷을 이용해서\n",
    "print(\"%d ^ %d // %d = %d\" %(a,b,c,((a**b)//c)))"
   ]
  },
  {
   "cell_type": "markdown",
   "id": "88bb073c",
   "metadata": {},
   "source": [
    "아래는 과제\n",
    "\n",
    "<img src = \"1229과제.png\" style=\"float:left;\">"
   ]
  },
  {
   "cell_type": "code",
   "execution_count": 244,
   "id": "76c1accc",
   "metadata": {},
   "outputs": [
    {
     "name": "stdout",
     "output_type": "stream",
     "text": [
      "12345\n",
      "     12345\n",
      "12.345679\n",
      "          12.346\n"
     ]
    }
   ],
   "source": [
    "# [과제] 아래와 같이 출력해 보세요.\n",
    "\n",
    "a = 123456789\n",
    "b = int(a*0.0001)\n",
    "print(b)\n",
    "print(f'{b:10.0f}')\n",
    "print(f'{a*0.0000001:9.6f}')\n",
    "print(f'{a*0.0000001:16.3f}')\n"
   ]
  },
  {
   "cell_type": "code",
   "execution_count": 9,
   "id": "0df148b1",
   "metadata": {},
   "outputs": [
    {
     "name": "stdout",
     "output_type": "stream",
     "text": [
      "33165\n"
     ]
    }
   ],
   "source": [
    "# [과제] while문을 사용해 1부터 1000까지의 정수 중 3과 5의 공배수의 합을 구하여라.\n",
    "# a//15==0\n",
    "\n",
    "a = 0\n",
    "sum = 0\n",
    "while a<1000:\n",
    "    a+=1\n",
    "    if a%15==0:\n",
    "        sum+=a\n",
    "print(sum)"
   ]
  },
  {
   "cell_type": "code",
   "execution_count": 8,
   "id": "e70fb92c",
   "metadata": {},
   "outputs": [
    {
     "name": "stdout",
     "output_type": "stream",
     "text": [
      "4550\n"
     ]
    }
   ],
   "source": [
    "# [과제] 1부터 100까지의 정수 중 5에서 95까지의 합을 구하세요.\n",
    "\n",
    "a = 4\n",
    "sum = 0\n",
    "while a<100:\n",
    "    a+=1\n",
    "    if a<96:\n",
    "        sum += a\n",
    "print(sum)\n",
    "\n",
    "# 두 가지 조건 같이 써 줄 땐 and 써서 기술하면 됨\n"
   ]
  },
  {
   "cell_type": "code",
   "execution_count": 348,
   "id": "d9a8a834",
   "metadata": {},
   "outputs": [
    {
     "name": "stdout",
     "output_type": "stream",
     "text": [
      "1 입력 1\n",
      "2 입력 2\n",
      "3 입력 3\n",
      "4 입력 4\n",
      "5 입력 5\n",
      "12345\n"
     ]
    }
   ],
   "source": [
    "# [과제] 1부터 5까지 입력해서 12345를 출력하세요.\n",
    "\n",
    "a=input(\"1 입력 \")\n",
    "b=input(\"2 입력 \")\n",
    "c=input(\"3 입력 \")\n",
    "d=input(\"4 입력 \")\n",
    "e=input(\"5 입력 \")\n",
    "print(a+b+c+d+e)"
   ]
  },
  {
   "cell_type": "code",
   "execution_count": 16,
   "id": "c9f07d1e",
   "metadata": {},
   "outputs": [
    {
     "name": "stdout",
     "output_type": "stream",
     "text": [
      "[0, 1, 2, 3, 4, 5, 6, 7, 8, 'b', 'c']\n"
     ]
    }
   ],
   "source": [
    "# [과제] [0,1,2,3,4,5,6,7,8,9,'a','b','c']에서 9와 'a'를 삭제 후 list로 출력하세요\n",
    "a = [0,1,2,3,4,5,6,7,8,9,'a','b','c']\n",
    "del a[9]\n",
    "del a[-3]\n",
    "print(a)"
   ]
  },
  {
   "cell_type": "code",
   "execution_count": 17,
   "id": "d9449d0e",
   "metadata": {},
   "outputs": [
    {
     "name": "stdout",
     "output_type": "stream",
     "text": [
      "[0, 1, 2, 3, 4, 5, 6, 7, 8, 'b']\n",
      "0 1 2 3 4 5 6 7 8 b "
     ]
    }
   ],
   "source": [
    "# [과제] [0,1,2,3,4,5,6,7,8,'b','c']에서 'c'를 삭제 후 출력하세요.\n",
    "a = [0,1,2,3,4,5,6,7,8,'b','c']\n",
    "del a[-1]\n",
    "print(a)\n",
    "\n",
    "# 리스트로 안 하려면\n",
    "for i in a:\n",
    "    print(i, end=\" \")"
   ]
  },
  {
   "cell_type": "code",
   "execution_count": 22,
   "id": "61b0ec4c",
   "metadata": {},
   "outputs": [
    {
     "name": "stdout",
     "output_type": "stream",
     "text": [
      "[9, 9, 8, 8, 5, 4, 4, 4, 3, 1]\n",
      "[9, 9, 8, 8, 5, 4, 4, 4, 3, 1]\n"
     ]
    }
   ],
   "source": [
    "# [과제] [4,8,5,4,8,4,3,9,1,9]를 내림차순으로 정렬하세요.\n",
    "a = [4,8,5,4,8,4,3,9,1,9]\n",
    "a.sort()\n",
    "a.reverse()\n",
    "print(a)\n",
    "\n",
    "# 또는\n",
    "a = [4,8,5,4,8,4,3,9,1,9]\n",
    "a = sorted(a, reverse=True)\n",
    "print(a)"
   ]
  },
  {
   "cell_type": "code",
   "execution_count": 4,
   "id": "f0dccce3",
   "metadata": {},
   "outputs": [
    {
     "name": "stdout",
     "output_type": "stream",
     "text": [
      "현재 시각은 2021년 12월 31일 9시 11분 14초입니다.\n"
     ]
    }
   ],
   "source": [
    "# [과제] format 함수를 이용해서 다음과 같은 형식으로 현재 날짜/시간을 출력하세요.\n",
    "# 예시: 2021년 12월 29일 15시 47분 30초\n",
    "\n",
    "import datetime\n",
    "t = datetime.datetime.now()\n",
    "print(\"현재 시각은 %d년 %d월 %d일 %d시 %d분 %d초입니다.\" %(t.year,t.month,t.day,t.hour, t.minute, t.second))"
   ]
  },
  {
   "cell_type": "code",
   "execution_count": 3,
   "id": "35f782ee",
   "metadata": {},
   "outputs": [
    {
     "name": "stdout",
     "output_type": "stream",
     "text": [
      "현재 시간이 오전인지 오후인지 알려드릴게요.\n",
      "현재 시간은 오전입니다.\n"
     ]
    }
   ],
   "source": [
    "# [과제] 현재 시각을 오전과 오후로 구분하는 프로그램을 작성하세요.\n",
    "\n",
    "import datetime\n",
    "t = datetime.datetime.now()\n",
    "\n",
    "print('현재 시간이 오전인지 오후인지 알려드릴게요.')\n",
    "if t.hour<=11:\n",
    "    print('현재 시간은 오전입니다.')\n",
    "else: print('현재 시간은 오후입니다.')"
   ]
  },
  {
   "cell_type": "code",
   "execution_count": 383,
   "id": "a914c5ac",
   "metadata": {},
   "outputs": [
    {
     "name": "stdout",
     "output_type": "stream",
     "text": [
      "정수를 입력해 주세요. 0\n",
      "0입니다.\n"
     ]
    }
   ],
   "source": [
    "# [과제] 정수를 입력하면 홀수, 짝수를 판별하는 프로그램을 작성하세요.\n",
    "\n",
    "a = int(input('정수를 입력해 주세요. '))\n",
    "if a==0:\n",
    "    print('0입니다.')\n",
    "elif a%2==0:\n",
    "    print('짝수입니다.')\n",
    "else: print('홀수입니다.')"
   ]
  },
  {
   "cell_type": "markdown",
   "id": "169632c1",
   "metadata": {},
   "source": [
    "[과제] 태어난 연도를 입력받아 띠를 출력하는 프로그램을 작성하세요.\n",
    "원숭이, 닭, 개, 돼지, 쥐, 소, 범, 토끼, 용, 뱀, 말, 양\n",
    "<img src = \"계절구분.png\">"
   ]
  },
  {
   "cell_type": "code",
   "execution_count": 4,
   "id": "b1a76d46",
   "metadata": {},
   "outputs": [
    {
     "name": "stdout",
     "output_type": "stream",
     "text": [
      "지금 우리가 지내는 계절은 어디쯤에 있나요?\n",
      "살고 싶으면 장롱에 있던 히트텍 꺼내라 ㅋㅋ\n"
     ]
    }
   ],
   "source": [
    "import datetime\n",
    "t = datetime.datetime.now()\n",
    "\n",
    "# datetime 외장함수에는 datetime 클래스가 또 있고 그 안의 now 함수를 사용한다는 것임\n",
    "\n",
    "print('지금 우리가 지내는 계절은 어디쯤에 있나요?')\n",
    "if t.month<12 and t.month>=9:\n",
    "    print('단풍이 지천을 물들이는 계절, 가을입니다.')\n",
    "elif t.month<9 and t.month>=6:\n",
    "    print('작열하는 태양과 신록이 공존하는 계절, 여름입니다.')\n",
    "elif t.month<6 and t.month>=3:\n",
    "    print('벚꽃의 꽃말은 중간고사, 봄입니다.')\n",
    "else: print('살고 싶으면 장롱에 있던 히트텍 꺼내라 ㅋㅋ')"
   ]
  },
  {
   "cell_type": "code",
   "execution_count": 405,
   "id": "dd827c7b",
   "metadata": {
    "scrolled": false
   },
   "outputs": [
    {
     "name": "stdout",
     "output_type": "stream",
     "text": [
      "태어난 년도를 4자리 수에 맞게 입력해 주세요. 1991\n",
      "양띠입니다.\n"
     ]
    }
   ],
   "source": [
    "# [과제] 태어난 연도를 입력받아 띠를 출력하는 프로그램을 작성하세요.\n",
    "# 원숭이, 닭, 개, 돼지, 쥐, 소, 범, 토끼, 용, 뱀, 말, 양\n",
    "a = int(input('태어난 년도를 4자리 수에 맞게 입력해 주세요. '))-4\n",
    "if a%12==0:\n",
    "    print('쥐띠입니다.')\n",
    "elif a%12==1:\n",
    "    print('소띠입니다.')\n",
    "elif a%12==2:\n",
    "    print('호랑이띠입니다.')\n",
    "elif a%12==3:\n",
    "    print('토끼띠입니다.')\n",
    "elif a%12==4:\n",
    "    print('용띠입니다.')\n",
    "elif a%12==5:\n",
    "    print('뱀띠입니다.')\n",
    "elif a%12==6:\n",
    "    print('말띠입니다.')\n",
    "elif a%12==7:\n",
    "    print('양띠입니다.')\n",
    "elif a%12==8:\n",
    "    print('원숭이띠입니다.')\n",
    "elif a%12==9:\n",
    "    print('닭띠입니다.')\n",
    "elif a%12==10:\n",
    "    print('개띠입니다.')\n",
    "elif a%12==11:\n",
    "    print('돼지띠입니다.')"
   ]
  },
  {
   "cell_type": "code",
   "execution_count": 1,
   "id": "56355ed5",
   "metadata": {},
   "outputs": [
    {
     "name": "stdout",
     "output_type": "stream",
     "text": [
      "당신이 태어난 연도 : 1991\n",
      "양띠입니다.\n"
     ]
    }
   ],
   "source": [
    "x = int(input(\"당신이 태어난 연도 : \"))\n",
    "y = ['원숭이', '닭', '개', '돼지', '쥐', '소', '범', '토끼', '용', '뱀', '말', '양']\n",
    "print(y[x%12] + '띠입니다.')\n",
    "#인덱싱 기능을 이용, 연도-4 해줄 필요 없이 목록을 4칸 땡겨서 불러오면 되지롱"
   ]
  },
  {
   "cell_type": "code",
   "execution_count": 435,
   "id": "074d29d2",
   "metadata": {},
   "outputs": [
    {
     "name": "stdout",
     "output_type": "stream",
     "text": [
      "32\n",
      "25\n"
     ]
    }
   ],
   "source": [
    "# [과제] 람다 함수를 이용해서 a의 b제곱을 구하는 식을 만들고\n",
    "# a, b가 아래와 같이 주어졌을 때 각각의 값을 구하세요.\n",
    "a = 2; b = 5\n",
    "print((lambda x,y:x**y)(a,b))\n",
    "\n",
    "a= 5; b = 2\n",
    "print((lambda x,y:x**y)(a,b))"
   ]
  },
  {
   "cell_type": "markdown",
   "id": "d982042e",
   "metadata": {},
   "source": [
    "<img src = \"커피자판기.png\">"
   ]
  },
  {
   "cell_type": "code",
   "execution_count": 578,
   "id": "997e0bc1",
   "metadata": {},
   "outputs": [
    {
     "name": "stdout",
     "output_type": "stream",
     "text": [
      "300원으로 누리는 행복한 한 잔의 여유,\n",
      "자판기 서비스를 이용해 주셔서 감사합니다.\n",
      "얼마를 투입하시겠어요? 1200\n",
      "\n",
      "커피 4잔과 거스름돈 0원 반환해 드리겠습니다.\n",
      "즐거운 하루 보내세요.\n",
      "\n",
      "더 드시려면 금액을 투입해 주세요. 700\n",
      "\n",
      "커피 1잔과 거스름돈 400원 반환해 드리겠습니다.\n",
      "모든 재고가 소진되었습니다.\n"
     ]
    }
   ],
   "source": [
    "a=int(input('''300원으로 누리는 행복한 한 잔의 여유,\n",
    "자판기 서비스를 이용해 주셔서 감사합니다.\n",
    "얼마를 투입하시겠어요? '''))\n",
    "\n",
    "# 돈을 입력 받고\n",
    "# 재고 이상의 돈이 들어오면 전량 뽑아주고 감사인사.\n",
    "# 돈의 액수만큼 커피를 뽑아주고 재고를 차감\n",
    "# 재고가 없으면 돈을 반환\n",
    "\n",
    "\n",
    "c = 5\n",
    "if a>1500:\n",
    "    print('\\n커피 %d잔과 거스름돈 %d원 반환해 드리겠습니다.\\n모든 재고가 소진되었습니다.' %(c,(a-1500)))\n",
    "elif a<300:\n",
    "    print('\\n금액이 모자랍니다. 300원 이상의 금액을 넣어 주세요.')\n",
    "elif a==1500:\n",
    "    print('\\n커피 %d잔 드리겠습니다.\\n모든 재고가 소진되었습니다.' %c)\n",
    "elif a<1500:\n",
    "    while c>=1:\n",
    "        s = a//300 #잔\n",
    "        n = a%300 #거스름\n",
    "        if s<=c:\n",
    "            print('\\n커피 %d잔과 거스름돈 %d원 반환해 드리겠습니다.\\n즐거운 하루 보내세요.' %(s,n))\n",
    "            c-=s\n",
    "            b = int(input('\\n더 드시려면 금액을 투입해 주세요. '))\n",
    "            if b<300:\n",
    "                print('\\n금액이 모자랍니다. 300원 이상의 금액을 넣어 주세요')\n",
    "                break\n",
    "            elif (b//300)<c:\n",
    "                print('\\n커피 %d잔과 거스름돈 %d원 반환해 드리겠습니다.'%((b//300,b%300)))\n",
    "                c-=(b//300)\n",
    "                d = int(input('더 드시려면 금액을 투입해 주세요. '))\n",
    "                if (d//300)>=c:\n",
    "                    print('\\n커피 %d잔과 거스름돈 %d원 반환해 드리겠습니다.\\n모든 재고가 소진되었습니다.' %(c,(d-c*300)))\n",
    "                    break\n",
    "                elif d<300:\n",
    "                    print('\\n금액이 모자랍니다. 300원 이상의 금액을 넣어 주세요')\n",
    "                    break\n",
    "            elif (b//300)>=c:\n",
    "                print('\\n커피 %d잔과 거스름돈 %d원 반환해 드리겠습니다.\\n모든 재고가 소진되었습니다.' %(c,(b-300*c)))\n",
    "                break\n",
    "        else: break\n"
   ]
  },
  {
   "cell_type": "code",
   "execution_count": 21,
   "id": "3a1d65ae",
   "metadata": {},
   "outputs": [
    {
     "name": "stdout",
     "output_type": "stream",
     "text": [
      "300원으로 누리는 행복한 한 잔의 여유,\n",
      "자판기 서비스를 이용해 주셔서 감사합니다.\n",
      "얼마를 투입하시겠어요? 1500\n",
      "\n",
      "커피 5잔 드리겠습니다.\n",
      "(남은 커피 잔수: 0)\n",
      "모든 재고가 소진되었습니다.\n"
     ]
    }
   ],
   "source": [
    "coffee = 5 #재고\n",
    "\n",
    "money = int(input('''300원으로 누리는 행복한 한 잔의 여유,\n",
    "자판기 서비스를 이용해 주셔서 감사합니다.\n",
    "얼마를 투입하시겠어요? '''))\n",
    "\n",
    "while 1:  # 아묻따 무조건 돌리고! 넣은돈으로 아무것도 살 수 없을때 빠져나가기만 하면됨\n",
    "\n",
    "    quotient = money//300 # 넣은 돈으로 (이론적으로) 살 수 있는 잔\n",
    "    remainder = money-(300*quotient) # 거스름돈\n",
    "    #print('    quotient: %d' %(quotient))\n",
    "    #print('    remainder: %d' %(remainder))\n",
    "\n",
    "    if money<300:\n",
    "        print('\\n금액이 모자랍니다. 300원 이상의 금액을 넣어 주세요.')\n",
    "    elif quotient<=coffee: # 커피를 살 수 있게 되었다.\n",
    "        if remainder==0:\n",
    "            print('\\n커피 %d잔 드리겠습니다.' %quotient)\n",
    "            coffee-=quotient\n",
    "            print('(남은 커피 잔수: %d)' %coffee)\n",
    "        else:\n",
    "            print('\\n커피 %d잔과 거스름돈 %d원 반환해 드리겠습니다.' %(quotient,remainder))\n",
    "            coffee-=quotient\n",
    "            print('(남은 커피 잔수: %d)' %coffee)\n",
    "    else:\n",
    "        print('\\n커피 %d잔과 거스름돈 %d원 반환해 드리겠습니다.' %(coffee, money-300*coffee))\n",
    "        coffee=0\n",
    "\n",
    "    #print('여기는 오나요')\n",
    "    if coffee>=1: # 위의 과정(=돈받고 커피주기 1스텝)을 다하고도 계속 다음 스텝이 진행되어야 하므로 while을 탈출하지 않음과 동시에 금액 재설정\n",
    "        #print('여기는 ^^')\n",
    "        money = int(input('더 드시려면 금액을 투입해 주세요. ' ))\n",
    "    else : # 커피가 남지 않아 더는 작동할 수 없으므로 이 경우에는 긴말 말고 무한루프 탈출.\n",
    "        print('모든 재고가 소진되었습니다.')\n",
    "        break"
   ]
  },
  {
   "cell_type": "code",
   "execution_count": 36,
   "id": "1dadb781",
   "metadata": {},
   "outputs": [
    {
     "name": "stdout",
     "output_type": "stream",
     "text": [
      "300원으로 누리는 행복한 한 잔의 여유,\n",
      "자판기 서비스를 이용해 주셔서 감사합니다.\n",
      "얼마를 투입하시겠어요? 1500\n",
      "\n",
      "커피 5잔 드리겠습니다. \n",
      "즐거운 하루 보내세요.\n",
      "커피 재고: 0잔\n",
      "\n",
      "모든 재고가 소진되었습니다. 안녕히 가세요.\n"
     ]
    }
   ],
   "source": [
    "coffee = 5\n",
    "money = int(input('''300원으로 누리는 행복한 한 잔의 여유,\n",
    "자판기 서비스를 이용해 주셔서 감사합니다.\n",
    "얼마를 투입하시겠어요? '''))\n",
    "\n",
    "\n",
    "while 1: # while 1(True)이면 일단 계속 반복 돌린다는 뜻\n",
    "    \n",
    "    get = money//300 # 돈으로 얻을 수 있는 커피의 수\n",
    "    remain = money - get*300 # 거스름돈\n",
    "    \n",
    "    if money<300: # 커피를 살 수 없는 돈을 투입\n",
    "        print('\\n금액이 모자랍니다. 300원 이상의 금액을 넣어 주세요.')\n",
    "    elif get<=coffee: # 이미 위에서 300원보다 적은 경우를 제꼈기 때문에 굳이 말 안 해도 이 밑으로는 커피 살 수 있음. 돈 얘기 안 해도 됨\n",
    "        if remain==0: # 잔돈 안 남을 때(1500원 투입 경우 포함)\n",
    "            print('\\n커피 %d잔 드리겠습니다. \\n즐거운 하루 보내세요.' %get)\n",
    "            coffee-=get\n",
    "            print('커피 재고: %d잔' %coffee)\n",
    "        else: #잔돈이 남음\n",
    "            print('\\n커피 %d잔과 거스름돈 %d원 반환해 드리겠습니다.\\n즐거운 하루 보내세요.' %(get, remain))\n",
    "            coffee-=get\n",
    "            print('커피 재고: %d잔' %coffee)\n",
    "    else: # 돈으로 커피 다 살 수 있을 때\n",
    "        print('\\n커피 %d잔과 거스름돈 %d원 반환해 드리겠습니다.\\n즐거운 하루 보내세요.' %(coffee, (money-coffee*300)))\n",
    "        coffee = 0\n",
    "        print('커피 재고: %d잔' %coffee)\n",
    "    \n",
    "    # 아직 while은 안 끝났다. 계속 돌리기 전에 우리는 왜 이 루프를 돌리는지 고민해야 함\n",
    "    if coffee>=1: # 아직 커피를 더 팔 수 있다면 루프를 돌리고\n",
    "        money = int(input('추가 구매를 원하시면 금액을 투입해 주세요. '))\n",
    "    else: # 팔 커피가 없다면 즉시 루프 탈출\n",
    "        print('\\n모든 재고가 소진되었습니다. 안녕히 가세요.')\n",
    "        break\n",
    "        "
   ]
  },
  {
   "cell_type": "code",
   "execution_count": 38,
   "id": "554ac847",
   "metadata": {},
   "outputs": [
    {
     "name": "stdout",
     "output_type": "stream",
     "text": [
      "돈 넣어주셈 커삼임ㅋㅋ 600\n",
      "커삼 드려용 잔돈 300 받으셈용\n",
      "돈 넣어주셈 커삼임ㅋㅋ 800\n",
      "커삼 드려용 잔돈 500 받으셈용\n",
      "돈 넣어주셈 커삼임ㅋㅋ 700\n",
      "커삼 드려용 잔돈 400 받으셈용\n",
      "돈 넣어주셈 커삼임ㅋㅋ 200\n",
      "커삼이라고요 커삼 커피 300원 --\n",
      "돈 넣어주셈 커삼임ㅋㅋ 400\n",
      "커삼 드려용 잔돈 100 받으셈용\n",
      "돈 넣어주셈 커삼임ㅋㅋ 300\n",
      "커피 드세용~\n",
      "앗 다 팔렸어용 바이용~\n"
     ]
    }
   ],
   "source": [
    "# 선생님 풀이\n",
    "\n",
    "coffee = 5\n",
    "price = 300\n",
    "\n",
    "while True:\n",
    "    money = int(input('돈 넣어주셈 커삼임ㅋㅋ '))\n",
    "    if money == 300:\n",
    "        print('커피 드세용~')\n",
    "        coffee-=1\n",
    "    elif 300<money:\n",
    "        change = money - price\n",
    "        print(f'커삼 드려용 잔돈 {change} 받으셈용')\n",
    "        coffee-=1\n",
    "    else:\n",
    "        print(f'커삼이라고요 커삼 커피 {price}원 --')\n",
    "    \n",
    "    if coffee==0:\n",
    "        print('앗 다 팔렸어용 바이용~')\n",
    "        break"
   ]
  }
 ],
 "metadata": {
  "kernelspec": {
   "display_name": "Python 3 (ipykernel)",
   "language": "python",
   "name": "python3"
  },
  "language_info": {
   "codemirror_mode": {
    "name": "ipython",
    "version": 3
   },
   "file_extension": ".py",
   "mimetype": "text/x-python",
   "name": "python",
   "nbconvert_exporter": "python",
   "pygments_lexer": "ipython3",
   "version": "3.8.12"
  }
 },
 "nbformat": 4,
 "nbformat_minor": 5
}
