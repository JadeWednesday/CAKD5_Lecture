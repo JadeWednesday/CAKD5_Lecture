{
 "cells": [
  {
   "cell_type": "code",
   "execution_count": 1,
   "id": "922d3044",
   "metadata": {},
   "outputs": [
    {
     "name": "stdout",
     "output_type": "stream",
     "text": [
      "None\n",
      "1\n"
     ]
    }
   ],
   "source": [
    "# 함수 안에서 선언된 변수의 효력 범위\n",
    "\n",
    "a = 1\n",
    "def vartest(a):\n",
    "#    a = 1\n",
    "    a = a+1\n",
    "    \n",
    "print(vartest(a))\n",
    "print(a)\n",
    "\n",
    "# 함수 안에서 선언한 변수는 함수 안에서만 유효\n",
    "# 함수 밖에서 선언한 변수는 별개로 값을 지님"
   ]
  },
  {
   "cell_type": "code",
   "execution_count": 2,
   "id": "477e8fe2",
   "metadata": {},
   "outputs": [
    {
     "name": "stdout",
     "output_type": "stream",
     "text": [
      "2\n",
      "1\n"
     ]
    }
   ],
   "source": [
    "# 함수 안에서 함수 밖의 변수를 변경하는 방법 - return 사용\n",
    "# 입력값과 결과값이 둘 다 있음\n",
    "\n",
    "a = 1\n",
    "def vartest(a):\n",
    "    a = a+1\n",
    "    return a\n",
    "    \n",
    "print(vartest(a))\n",
    "print(a) # 여기서 함수 밖 a의 값도 바꾸고 싶다면 이 위에 a = vartest(a)로 바꿔주면 됨"
   ]
  },
  {
   "cell_type": "code",
   "execution_count": 3,
   "id": "832a32e0",
   "metadata": {},
   "outputs": [
    {
     "name": "stdout",
     "output_type": "stream",
     "text": [
      "2\n"
     ]
    }
   ],
   "source": [
    "# global 명령을 이용하는 방법\n",
    "# 전역변수 global, 지역변수 local\n",
    "# global 함수를 이용하면 전역변수를 지역변수로 끌어와 사용 가능\n",
    "# 입력값과 결과값이 둘 다 없음. 함수 자체를 실행만 하면 됨\n",
    "\n",
    "a = 1\n",
    "def vartest():\n",
    "    global a\n",
    "    a = a+1\n",
    "    \n",
    "vartest()\n",
    "print(a)"
   ]
  },
  {
   "cell_type": "code",
   "execution_count": 5,
   "id": "0ac0e6d4",
   "metadata": {},
   "outputs": [],
   "source": [
    "# 파일 읽고 쓰기\n",
    "# test.txt 파일을 생성(write)하는 코드 - 1~10번째 줄입니다. 라는 문구를 출력\n",
    "# 추가할 땐 add의 'a' 사용\n",
    "\n",
    "f = open('test.txt', 'w')\n",
    "for i in range(1,11):\n",
    "    data = f'{i}번째 줄입니다.\\n'\n",
    "#    data = '%d번째 줄입니다.\\n' %i\n",
    "    f.write(data)\n",
    "f.close()"
   ]
  },
  {
   "cell_type": "code",
   "execution_count": 11,
   "id": "e58e52bd",
   "metadata": {},
   "outputs": [],
   "source": [
    "f = open('test1.txt', 'w')\n",
    "\n",
    "f.write('띠요오오오오옹')\n",
    "\n",
    "f.close()"
   ]
  },
  {
   "cell_type": "code",
   "execution_count": 12,
   "id": "5ef64631",
   "metadata": {},
   "outputs": [
    {
     "name": "stdout",
     "output_type": "stream",
     "text": [
      " C 드라이브의 볼륨에는 이름이 없습니다.\n",
      " 볼륨 일련 번호: EED9-4D87\n",
      "\n",
      " C:\\cakd5\\workspace\\m1_programming 디렉터리\n",
      "\n",
      "2021-12-31  오전 11:13    <DIR>          .\n",
      "2021-12-31  오전 11:13    <DIR>          ..\n",
      "2021-12-31  오전 09:01    <DIR>          .ipynb_checkpoints\n",
      "2021-12-31  오전 09:11            65,689 1229 수업 - 파이썬 기초.ipynb\n",
      "2021-12-29  오후 02:22             5,688 1229과제.PNG\n",
      "2021-12-31  오전 11:10             6,838 1230 수업 (2) - 파이썬 함수.ipynb\n",
      "2021-12-31  오전 11:03            32,048 1230 수업 - 파이썬.ipynb\n",
      "2021-12-31  오전 11:13             3,803 1231 수업 - 파이썬.ipynb\n",
      "2021-12-28  오후 04:47             2,879 Jupyter Notebook 사용법.ipynb\n",
      "2021-12-31  오전 11:10               171 test.txt\n",
      "2021-12-31  오전 11:12                14 test1.txt\n",
      "2021-12-29  오후 03:49            23,667 계절구분.PNG\n",
      "2021-12-28  오후 03:48             1,117 기초.ipynb\n",
      "2021-12-28  오후 03:48             1,117 기초1.ipynb\n",
      "2021-12-28  오후 04:18            94,995 매직명령어.jpg\n",
      "2021-12-31  오전 08:49    <DIR>          선생님 강의 자료\n",
      "2021-12-30  오전 11:53            31,627 식당.PNG\n",
      "2021-12-29  오전 09:34            10,248 원모양.JPG\n",
      "2021-12-29  오후 04:03            50,457 커피자판기.PNG\n",
      "              15개 파일             330,358 바이트\n",
      "               4개 디렉터리  900,079,943,680 바이트 남음\n"
     ]
    }
   ],
   "source": [
    "!dir"
   ]
  },
  {
   "cell_type": "code",
   "execution_count": 25,
   "id": "25771017",
   "metadata": {
    "scrolled": true
   },
   "outputs": [
    {
     "name": "stdout",
     "output_type": "stream",
     "text": [
      "1번째 줄입니다.\n",
      "\n",
      "2번째 줄입니다.\n",
      "\n",
      "3번째 줄입니다.\n",
      "\n",
      "4번째 줄입니다.\n",
      "\n",
      "5번째 줄입니다.\n",
      "\n",
      "6번째 줄입니다.\n",
      "\n",
      "7번째 줄입니다.\n",
      "\n",
      "8번째 줄입니다.\n",
      "\n",
      "9번째 줄입니다.\n",
      "\n",
      "10번째 줄입니다.\n",
      "\n"
     ]
    }
   ],
   "source": [
    "# 위에서 생성한 test.txt 파일을 읽어(read)내는 코드\n",
    "# readline()에서 괄호 안에 숫자 넣으면 그 개수만큼 글자 읽어냄. 안 적으면 다 읽어줌.\n",
    "# 근데 print(line)하면 1줄밖에 못 읽거든...\n",
    "# 내가 이 파일의 줄 수를 모를 때, for문 말고 다른 방식으로 출력해보자.\n",
    "\n",
    "f = open('test.txt', 'r')\n",
    "while 1:\n",
    "    line = f.readline()\n",
    "    if not line:\n",
    "        break\n",
    "    print(line)\n",
    "f.close()"
   ]
  },
  {
   "cell_type": "code",
   "execution_count": 26,
   "id": "9235f460",
   "metadata": {
    "scrolled": true
   },
   "outputs": [
    {
     "name": "stdout",
     "output_type": "stream",
     "text": [
      "1번째 줄입니다.\n",
      "2번째 줄입니다.\n",
      "3번째 줄입니다.\n",
      "4번째 줄입니다.\n",
      "5번째 줄입니다.\n",
      "6번째 줄입니다.\n",
      "7번째 줄입니다.\n",
      "8번째 줄입니다.\n",
      "9번째 줄입니다.\n",
      "10번째 줄입니다.\n",
      "\n"
     ]
    }
   ],
   "source": [
    "# 한 줄씩 말고 아예 전체를 읽는 법은 없을까?\n",
    "# 왜 없어, 코딩은 전설이고 파이썬은 신인걸\n",
    "\n",
    "f=open('test.txt', 'r')\n",
    "data = f.read()\n",
    "print(data)\n",
    "f.close()"
   ]
  },
  {
   "cell_type": "code",
   "execution_count": 38,
   "id": "f6a45810",
   "metadata": {
    "scrolled": true
   },
   "outputs": [
    {
     "name": "stdout",
     "output_type": "stream",
     "text": [
      "1번째 줄입니다.\n",
      "2번째 줄입니다.\n",
      "3번째 줄입니다.\n",
      "4번째 줄입니다.\n",
      "5번째 줄입니다.\n",
      "6번째 줄입니다.\n",
      "7번째 줄입니다.\n",
      "8번째 줄입니다.\n",
      "9번째 줄입니다.\n",
      "10번째 줄입니다.\n",
      "11번째 줄이에용.\n",
      "12번째 줄이에용.\n",
      "13번째 줄이에용.\n",
      "14번째 줄이에용.\n",
      "15번째 줄이에용.\n",
      "\n"
     ]
    }
   ],
   "source": [
    "# 기존에 있는 걸 덮어쓰지 말고 추가할 순 없나요?\n",
    "# 왜 없어(2) add 쓰면 되지~\n",
    "\n",
    "f = open('test.txt', 'a')\n",
    "for i in range(11,16):\n",
    "    data = '%d번째 줄이에용.\\n' %i\n",
    "    f.write(data)\n",
    "f.close()\n",
    "\n",
    "f = open('test.txt', 'r')\n",
    "print(f.read())\n",
    "f.close()\n",
    "\n",
    "# 주의점... 이 항목 실행할 때마다 계속 11~15번째 줄 내용 추가되니까 재실행 하지 마셈"
   ]
  },
  {
   "cell_type": "code",
   "execution_count": 32,
   "id": "85e254d0",
   "metadata": {},
   "outputs": [],
   "source": [
    "# with 문과 함께 사용\n",
    "\n",
    "with open('with.txt','w') as f:\n",
    "    f.write('파이썬을 배웁시다')\n",
    "\n",
    "# with문은 클로즈 안 해도 됨"
   ]
  },
  {
   "cell_type": "code",
   "execution_count": 34,
   "id": "7a2ece1b",
   "metadata": {},
   "outputs": [
    {
     "name": "stdout",
     "output_type": "stream",
     "text": [
      "파이썬을 배웁시다\n"
     ]
    }
   ],
   "source": [
    "with open('with.txt','r') as f:\n",
    "    print(f.read())"
   ]
  },
  {
   "cell_type": "code",
   "execution_count": 53,
   "id": "2d009326",
   "metadata": {
    "scrolled": true
   },
   "outputs": [
    {
     "name": "stdout",
     "output_type": "stream",
     "text": [
      "1번째 줄\n",
      "2번째 줄\n",
      "3번째 줄\n",
      "4번째 줄\n",
      "5번째 줄\n",
      "이제 그만~\n"
     ]
    }
   ],
   "source": [
    "with open('gogogo.txt', 'w') as g:\n",
    "    for i in range(1,6):\n",
    "        go = '%d번째 줄\\n' %i\n",
    "        g.write(go)\n",
    "    \n",
    "with open('gogogo.txt', 'a') as g:\n",
    "    g.write('이제 그만~')\n",
    "    \n",
    "with open('gogogo.txt', 'r') as g:\n",
    "    print(g.read())"
   ]
  },
  {
   "cell_type": "code",
   "execution_count": 5,
   "id": "ee0a6111",
   "metadata": {},
   "outputs": [
    {
     "name": "stdout",
     "output_type": "stream",
     "text": [
      "3\n",
      "False\n",
      "True\n",
      "A\n"
     ]
    }
   ],
   "source": [
    "# 내장합수 - 절댓값(absolute)\n",
    "print(abs(-3))\n",
    "print(all([1,2,3,0])) # x가 모두 참이면 True, 거짓이 하나라도 있으면 False\n",
    "# 숫자에서 0은 False 임. while문에서 숫자 1을 쓰는 것도 이러한 이유에서야.\n",
    "print(any([1,2,3,0])) # x가 하나라도 참이면 True, 모두 거짓이어야 False\n",
    "print(chr(65)) # 아스키코드"
   ]
  },
  {
   "cell_type": "code",
   "execution_count": 54,
   "id": "26e8cbc1",
   "metadata": {},
   "outputs": [
    {
     "data": {
      "text/plain": [
       "7"
      ]
     },
     "execution_count": 54,
     "metadata": {},
     "output_type": "execute_result"
    }
   ],
   "source": [
    "# 람다 함수도 사용자 함수의 간단한 형태라고 생각하면 됨\n",
    "# lambda 요소,요소:연산\n",
    "sum = lambda a,b:a+b\n",
    "sum(3,4)"
   ]
  },
  {
   "cell_type": "code",
   "execution_count": 60,
   "id": "fe3700c9",
   "metadata": {},
   "outputs": [
    {
     "name": "stdout",
     "output_type": "stream",
     "text": [
      "7\n",
      "10\n"
     ]
    }
   ],
   "source": [
    "myList = [lambda a,b:a+b, lambda a,b:a*b]\n",
    "print(myList[0](3,4))\n",
    "print(myList[1](2,5))\n",
    "\n",
    "# 인덱스 넘버로 어떤 함수를 고를지 정하고, 요소를 넣어주는 것임"
   ]
  },
  {
   "cell_type": "code",
   "execution_count": 62,
   "id": "1f1ec238",
   "metadata": {
    "scrolled": true
   },
   "outputs": [
    {
     "name": "stdout",
     "output_type": "stream",
     "text": [
      "6\n",
      "3\n"
     ]
    }
   ],
   "source": [
    "print(len('python'))\n",
    "print(len([1,2,3]))"
   ]
  },
  {
   "cell_type": "code",
   "execution_count": 70,
   "id": "b65b6f45",
   "metadata": {},
   "outputs": [
    {
     "name": "stdout",
     "output_type": "stream",
     "text": [
      "[0, 1, 2, 3, 4]\n",
      "[1, 2, 3, 4, 5]\n",
      "[1, 3, 5, 7, 9]\n",
      "[10, 9, 8, 7, 6, 5, 4, 3, 2, 1]\n"
     ]
    }
   ],
   "source": [
    "print(list(range(5)))\n",
    "print(list(range(1,6)))\n",
    "print(list(range(1,11,2))) # 범위 요소 이후의 요소는 간격\n",
    "print(list(range(10,0,-1)))"
   ]
  },
  {
   "cell_type": "code",
   "execution_count": 71,
   "id": "7262acfa",
   "metadata": {},
   "outputs": [
    {
     "name": "stdout",
     "output_type": "stream",
     "text": [
      "(2, 1)\n"
     ]
    }
   ],
   "source": [
    "print(divmod(7,3))"
   ]
  },
  {
   "cell_type": "code",
   "execution_count": 1,
   "id": "11111081",
   "metadata": {
    "scrolled": true
   },
   "outputs": [
    {
     "name": "stdout",
     "output_type": "stream",
     "text": [
      "0 Jade\n",
      "1 Wednesday\n",
      "2 김첨지\n"
     ]
    }
   ],
   "source": [
    "# 인덱스 넘버와 요소를 함께 출력해 주기 때문에 상당히 유용할 것입니다.\n",
    "# 순서가 있는 자료형을 입력으로 받아 인덱스 값을 포함한 enmerate 객체를 리턴\n",
    "\n",
    "for i, name in enumerate(['Jade', 'Wednesday', '김첨지']):\n",
    "    print(i, name)"
   ]
  },
  {
   "cell_type": "code",
   "execution_count": 81,
   "id": "8e5459bc",
   "metadata": {},
   "outputs": [
    {
     "name": "stdout",
     "output_type": "stream",
     "text": [
      "3\n",
      "123\n"
     ]
    }
   ],
   "source": [
    "# 입력한 문자열이 실행 가능한 수식이라면 그것을 계산해 줍니다.\n",
    "# 실행 가능한 문자열 입력을 받아 실행한 결과값을 리턴\n",
    "\n",
    "print(eval('1+2'))\n",
    "print(eval('123'))\n"
   ]
  },
  {
   "cell_type": "code",
   "execution_count": 83,
   "id": "30e8a089",
   "metadata": {
    "scrolled": true
   },
   "outputs": [
    {
     "data": {
      "text/plain": [
       "[5, 4, 3, 2, 1, 0]"
      ]
     },
     "execution_count": 83,
     "metadata": {},
     "output_type": "execute_result"
    }
   ],
   "source": [
    "li = [0,1,2,3,5,4]\n",
    "li.sort(reverse=1) # 1 써도 되고 True 써도 되고요~\n",
    "li"
   ]
  },
  {
   "cell_type": "code",
   "execution_count": 89,
   "id": "6187f7e5",
   "metadata": {
    "scrolled": true
   },
   "outputs": [
    {
     "data": {
      "text/plain": [
       "[0, 2, 1, 5, 4]"
      ]
     },
     "execution_count": 89,
     "metadata": {},
     "output_type": "execute_result"
    }
   ],
   "source": [
    "# 정렬된 결과를 반환하는 함수는 본체는 변형하지 않고 별개로 생성\n",
    "\n",
    "li = [0,2,1,5,4]\n",
    "sorted(li) # 또는 li.sort()\n",
    "li # li는 그대로죠?"
   ]
  },
  {
   "cell_type": "code",
   "execution_count": 93,
   "id": "85519d65",
   "metadata": {
    "scrolled": false
   },
   "outputs": [
    {
     "name": "stdout",
     "output_type": "stream",
     "text": [
      "{1: 'Python', 2: 'You need'}\n"
     ]
    }
   ],
   "source": [
    "# 외장함수: 전 세계 파이썬 사용자들이 만든 유용한 프로그램을 모아놓은 파이썬 라이브러리\n",
    "# 파이썬 설치할 때 자동으로 같이 깔리기 때문에 별도 설치 필요 없음. 임포트만 하면 됨.\n",
    "\n",
    "# pickle은 객체의 형태를 유지하면서 파일에 저장하고 불러올 수 있게 하는 모듈\n",
    "\n",
    "import pickle # binery 파일임. 2진법. 메모리를 적게 사용하지만 우리가 읽진 못함.\n",
    "\n",
    "f = open('testb.txt', 'wb') # 바이너리 타입이라 wb\n",
    "data = {1:'Python', 2:'You need'}\n",
    "pickle.dump(data,f)\n",
    "f.close()\n",
    "\n",
    "f = open('testb.txt', 'rb')\n",
    "data = pickle.load(f)\n",
    "print(data)\n",
    "f.close()"
   ]
  },
  {
   "cell_type": "code",
   "execution_count": 94,
   "id": "685b609e",
   "metadata": {
    "scrolled": true
   },
   "outputs": [
    {
     "data": {
      "text/plain": [
       "'C:\\\\cakd5\\\\sw\\\\anaconda3\\\\envs\\\\cakd5;C:\\\\cakd5\\\\sw\\\\anaconda3\\\\envs\\\\cakd5\\\\Library\\\\mingw-w64\\\\bin;C:\\\\cakd5\\\\sw\\\\anaconda3\\\\envs\\\\cakd5\\\\Library\\\\usr\\\\bin;C:\\\\cakd5\\\\sw\\\\anaconda3\\\\envs\\\\cakd5\\\\Library\\\\bin;C:\\\\cakd5\\\\sw\\\\anaconda3\\\\envs\\\\cakd5\\\\Scripts;C:\\\\Windows\\\\system32;C:\\\\Windows;C:\\\\Windows\\\\System32\\\\Wbem;C:\\\\Windows\\\\System32\\\\WindowsPowerShell\\\\v1.0\\\\;C:\\\\Windows\\\\System32\\\\OpenSSH\\\\;C:\\\\Program Files (x86)\\\\NVIDIA Corporation\\\\PhysX\\\\Common;C:\\\\Program Files\\\\NVIDIA Corporation\\\\NVIDIA NvDLISR;C:\\\\cakd5\\\\sw\\\\anaconda3;C:\\\\cakd5\\\\sw\\\\anaconda3\\\\Scripts;C:\\\\cakd5\\\\sw\\\\anaconda3\\\\Library\\\\bin;C:\\\\cakd5\\\\sw\\\\anaconda3\\\\Library\\\\mingw-w64\\\\bin;C:\\\\Python\\\\Python310\\\\Scripts\\\\;C:\\\\Python\\\\Python310\\\\;D:\\\\Python\\\\Python310\\\\Scripts\\\\;D:\\\\Python\\\\Python310\\\\;C:\\\\Users\\\\user\\\\AppData\\\\Local\\\\Microsoft\\\\WindowsApps;C:\\\\Program Files\\\\Bandizip\\\\;C:\\\\Users\\\\user\\\\AppData\\\\Local\\\\atom\\\\bin'"
      ]
     },
     "execution_count": 94,
     "metadata": {},
     "output_type": "execute_result"
    }
   ],
   "source": [
    "import os # 환경변수 관련\n",
    "os. environ['PATH']"
   ]
  },
  {
   "cell_type": "code",
   "execution_count": 95,
   "id": "11a57aed",
   "metadata": {},
   "outputs": [
    {
     "data": {
      "text/plain": [
       "'C:\\\\cakd5\\\\workspace\\\\m1_programming'"
      ]
     },
     "execution_count": 95,
     "metadata": {},
     "output_type": "execute_result"
    }
   ],
   "source": [
    "%pwd"
   ]
  },
  {
   "cell_type": "code",
   "execution_count": 97,
   "id": "156e3001",
   "metadata": {},
   "outputs": [
    {
     "data": {
      "text/plain": [
       "'C:\\\\cakd5\\\\workspace\\\\m1_programming'"
      ]
     },
     "execution_count": 97,
     "metadata": {},
     "output_type": "execute_result"
    }
   ],
   "source": [
    "# 디렉토리 변경(change directory)\n",
    "os.chdir('C:\\cakd5\\workspace\\m1_programming')\n",
    "%pwd\n",
    "\n",
    "# 디렉토리 바꾸면 안 돼서 되돌려놓긴 했는데 여튼 이렇게 바꾸면 됨"
   ]
  },
  {
   "cell_type": "code",
   "execution_count": 98,
   "id": "cc6c2cb4",
   "metadata": {
    "scrolled": true
   },
   "outputs": [
    {
     "data": {
      "text/plain": [
       "'C:\\\\cakd5\\\\workspace\\\\m1_programming'"
      ]
     },
     "execution_count": 98,
     "metadata": {},
     "output_type": "execute_result"
    }
   ],
   "source": [
    "os.getcwd()"
   ]
  },
  {
   "cell_type": "code",
   "execution_count": 101,
   "id": "52a92360",
   "metadata": {
    "scrolled": false
   },
   "outputs": [
    {
     "name": "stdout",
     "output_type": "stream",
     "text": [
      " C 드라이브의 볼륨에는 이름이 없습니다.\n",
      " 볼륨 일련 번호: EED9-4D87\n",
      "\n",
      " C:\\cakd5\\workspace\\m1_programming 디렉터리\n",
      "\n",
      "2021-12-31  오후 12:23    <DIR>          .\n",
      "2021-12-31  오후 12:23    <DIR>          ..\n",
      "2021-12-31  오전 11:51    <DIR>          .ipynb_checkpoints\n",
      "2021-12-31  오전 09:11            65,689 1229 수업 - 파이썬 기초.ipynb\n",
      "2021-12-29  오후 02:22             5,688 1229과제.PNG\n",
      "2021-12-31  오후 12:22             6,864 1230 수업 (2) - 파이썬 함수.ipynb\n",
      "2021-12-31  오후 12:23            32,077 1230 수업 - 파이썬.ipynb\n",
      "2021-12-31  오후 12:23            21,054 1231 수업 - 파이썬 함수 심화.ipynb\n",
      "2021-12-31  오전 11:40                60 gogogo.txt\n",
      "2021-12-28  오후 04:47             2,879 Jupyter Notebook 사용법.ipynb\n",
      "2021-12-31  오전 11:31               261 test.txt\n",
      "2021-12-31  오후 12:17                40 testb.txt\n",
      "2021-12-31  오전 11:12                14 test_new.txt\n",
      "2021-12-31  오전 11:30                17 with.txt\n",
      "2021-12-29  오후 03:49            23,667 계절구분.PNG\n",
      "2021-12-28  오후 03:48             1,117 기초.ipynb\n",
      "2021-12-28  오후 03:48             1,117 기초1.ipynb\n",
      "2021-12-28  오후 04:18            94,995 매직명령어.jpg\n",
      "2021-12-31  오전 08:49    <DIR>          선생님 강의 자료\n",
      "2021-12-30  오전 11:53            31,627 식당.PNG\n",
      "2021-12-29  오전 09:34            10,248 원모양.JPG\n",
      "2021-12-29  오후 04:03            50,457 커피자판기.PNG\n",
      "              18개 파일             347,871 바이트\n",
      "               4개 디렉터리  900,065,538,048 바이트 남음\n"
     ]
    }
   ],
   "source": [
    "!dir"
   ]
  },
  {
   "cell_type": "code",
   "execution_count": 100,
   "id": "67e87277",
   "metadata": {},
   "outputs": [],
   "source": [
    "os.rename('test1.txt', 'test_new.txt')"
   ]
  },
  {
   "cell_type": "code",
   "execution_count": 106,
   "id": "a5b6d68e",
   "metadata": {
    "scrolled": true
   },
   "outputs": [
    {
     "data": {
      "text/plain": [
       "['C:\\\\cakd5\\\\workspace\\\\m1_programming\\\\1229과제.PNG',\n",
       " 'C:\\\\cakd5\\\\workspace\\\\m1_programming\\\\계절구분.PNG',\n",
       " 'C:\\\\cakd5\\\\workspace\\\\m1_programming\\\\식당.PNG',\n",
       " 'C:\\\\cakd5\\\\workspace\\\\m1_programming\\\\커피자판기.PNG']"
      ]
     },
     "execution_count": 106,
     "metadata": {},
     "output_type": "execute_result"
    }
   ],
   "source": [
    "# glob() 함수는 인자로 받은 패턴과 이름이 일치하는 모든 파일과 디렉토리의 리스트를 반환\n",
    "\n",
    "import glob\n",
    "glob.glob('C:\\cakd5\\workspace\\m1_programming/test.*')\n",
    "glob.glob('C:\\cakd5\\workspace\\m1_programming/*.png')"
   ]
  },
  {
   "cell_type": "code",
   "execution_count": 109,
   "id": "26b25b20",
   "metadata": {},
   "outputs": [
    {
     "data": {
      "text/plain": [
       "1640921443.9239028"
      ]
     },
     "execution_count": 109,
     "metadata": {},
     "output_type": "execute_result"
    }
   ],
   "source": [
    "import time\n",
    "# 1970년 1월 1일부터 현재시점까지 초로 계산\n",
    "time.time()"
   ]
  },
  {
   "cell_type": "code",
   "execution_count": 110,
   "id": "164a559c",
   "metadata": {
    "scrolled": true
   },
   "outputs": [
    {
     "data": {
      "text/plain": [
       "time.struct_time(tm_year=2021, tm_mon=12, tm_mday=31, tm_hour=12, tm_min=31, tm_sec=39, tm_wday=4, tm_yday=365, tm_isdst=0)"
      ]
     },
     "execution_count": 110,
     "metadata": {},
     "output_type": "execute_result"
    }
   ],
   "source": [
    "time.localtime()"
   ]
  },
  {
   "cell_type": "code",
   "execution_count": 111,
   "id": "7a573614",
   "metadata": {
    "scrolled": true
   },
   "outputs": [
    {
     "data": {
      "text/plain": [
       "time.struct_time(tm_year=2021, tm_mon=12, tm_mday=31, tm_hour=12, tm_min=32, tm_sec=0, tm_wday=4, tm_yday=365, tm_isdst=0)"
      ]
     },
     "execution_count": 111,
     "metadata": {},
     "output_type": "execute_result"
    }
   ],
   "source": [
    "time.localtime(time.time())"
   ]
  },
  {
   "cell_type": "code",
   "execution_count": 114,
   "id": "78572ff0",
   "metadata": {
    "scrolled": true
   },
   "outputs": [
    {
     "data": {
      "text/plain": [
       "'Fri Dec 31 12:33:00 2021'"
      ]
     },
     "execution_count": 114,
     "metadata": {},
     "output_type": "execute_result"
    }
   ],
   "source": [
    "time.asctime()"
   ]
  },
  {
   "cell_type": "code",
   "execution_count": 116,
   "id": "861550c0",
   "metadata": {
    "scrolled": true
   },
   "outputs": [
    {
     "name": "stdout",
     "output_type": "stream",
     "text": [
      "1\n",
      "2\n",
      "3\n",
      "4\n",
      "5\n"
     ]
    }
   ],
   "source": [
    "# time.sleep(): 일정한 시간 간격을 두고 루프를 실행할 수 있음\n",
    "\n",
    "import time\n",
    "for i in range(1,6):\n",
    "    print(i)\n",
    "    time.sleep(0.7)"
   ]
  },
  {
   "cell_type": "code",
   "execution_count": 118,
   "id": "4f72a950",
   "metadata": {
    "scrolled": true
   },
   "outputs": [
    {
     "name": "stdout",
     "output_type": "stream",
     "text": [
      "   December 2021\n",
      "Mo Tu We Th Fr Sa Su\n",
      "       1  2  3  4  5\n",
      " 6  7  8  9 10 11 12\n",
      "13 14 15 16 17 18 19\n",
      "20 21 22 23 24 25 26\n",
      "27 28 29 30 31\n",
      "None\n"
     ]
    }
   ],
   "source": [
    "import calendar\n",
    "print(calendar.prmonth(2021,12))"
   ]
  },
  {
   "cell_type": "code",
   "execution_count": 119,
   "id": "3c7d6f41",
   "metadata": {
    "scrolled": true
   },
   "outputs": [
    {
     "name": "stdout",
     "output_type": "stream",
     "text": [
      "4\n"
     ]
    }
   ],
   "source": [
    "# 요일(0 = 월요일, ..., 6 = 일요일)\n",
    "\n",
    "print(calendar.weekday(2021,12,31))"
   ]
  },
  {
   "cell_type": "code",
   "execution_count": 121,
   "id": "60d23c1e",
   "metadata": {
    "scrolled": true
   },
   "outputs": [
    {
     "data": {
      "text/plain": [
       "(5, 31)"
      ]
     },
     "execution_count": 121,
     "metadata": {},
     "output_type": "execute_result"
    }
   ],
   "source": [
    "# 입력한 달의 1일의 요일과 그 달의 날짜 수를 알 수 있다!\n",
    "\n",
    "calendar.monthrange(2022,1)"
   ]
  },
  {
   "cell_type": "code",
   "execution_count": 1,
   "id": "8bc64063",
   "metadata": {
    "scrolled": false
   },
   "outputs": [
    {
     "name": "stdout",
     "output_type": "stream",
     "text": [
      "기분이 어때? (우울한, 차분한, 신나는) 맛있는\n",
      "2초 후 마법을 보여주지.\n"
     ]
    },
    {
     "data": {
      "text/plain": [
       "True"
      ]
     },
     "execution_count": 1,
     "metadata": {},
     "output_type": "execute_result"
    }
   ],
   "source": [
    "import webbrowser\n",
    "import time\n",
    "\n",
    "kw123 = input('기분이 어때? (우울한, 차분한, 신나는) ')\n",
    "print('검색 고양이가 결과 페이지를 가져오고 있어요!\\n2초만 기다려 달라옹~ =^ㅅ^=')\n",
    "time.sleep(2)\n",
    "webbrowser.open('https://search.naver.com/search.naver?sm=tab_hty.top&where=nexearch&query='+kw123+' 고양이 사료 추천')"
   ]
  },
  {
   "cell_type": "code",
   "execution_count": 193,
   "id": "2eb0a50e",
   "metadata": {
    "scrolled": false
   },
   "outputs": [
    {
     "data": {
      "text/plain": [
       "[0, 1, 3, 4, 5, 6]"
      ]
     },
     "execution_count": 193,
     "metadata": {},
     "output_type": "execute_result"
    }
   ],
   "source": [
    "# [연습문제] 내장함수를 이용해서 list = [0,1,2,3,4,5,6]에서 2를 삭제 후 출력하세요.\n",
    "\n",
    "li = [0,1,2,3,4,5,6]\n",
    "del li[2] # pop를 써도 되고~\n",
    "li"
   ]
  },
  {
   "cell_type": "code",
   "execution_count": 2,
   "id": "1428880b",
   "metadata": {},
   "outputs": [
    {
     "data": {
      "text/plain": [
       "[0, 1, 3, 4, 5, 6]"
      ]
     },
     "execution_count": 2,
     "metadata": {},
     "output_type": "execute_result"
    }
   ],
   "source": [
    "# 선생님 풀이\n",
    "li = [0,1,2,3,4,5,6]\n",
    "li.remove(2)\n",
    "li"
   ]
  },
  {
   "cell_type": "code",
   "execution_count": 194,
   "id": "e9510bad",
   "metadata": {
    "scrolled": true
   },
   "outputs": [
    {
     "data": {
      "text/plain": [
       "[]"
      ]
     },
     "execution_count": 194,
     "metadata": {},
     "output_type": "execute_result"
    }
   ],
   "source": [
    "# [연습문제] 내장함수를 이용해서 list = [0,1,2,3,4,5,6]에서 모든 원소를 삭제 후 출력하세요.\n",
    "\n",
    "li = [0,1,2,3,4,5,6]\n",
    "del li[:]\n",
    "li"
   ]
  },
  {
   "cell_type": "code",
   "execution_count": 8,
   "id": "15a5f5b8",
   "metadata": {},
   "outputs": [
    {
     "name": "stdout",
     "output_type": "stream",
     "text": [
      "[1, 4, 9, 16, 25]\n",
      "[1, 2]\n"
     ]
    }
   ],
   "source": [
    "# [연습문제] 람다함수와 적합한 내장함수를 사용하여 아래와 같이 출력하세요\n",
    "# [1,2,3,4,5] -> [1,4,9,16,25]\n",
    "# [1,2,3,4,5] -> [1,2]\n",
    "\n",
    "li = [1,2,3,4,5]\n",
    "blank = [[],[],[],[],[]]\n",
    "\n",
    "exp = lambda a:(li[a]**2)\n",
    "for i in range(5):\n",
    "    blank[i]= exp(i)\n",
    "print(blank)\n",
    "\n",
    "print(list(filter(lambda x: x <3 , li)))\n"
   ]
  },
  {
   "cell_type": "code",
   "execution_count": 9,
   "id": "02111279",
   "metadata": {},
   "outputs": [
    {
     "name": "stdout",
     "output_type": "stream",
     "text": [
      "[1, 2, 6]\n"
     ]
    },
    {
     "data": {
      "text/plain": [
       "[1, 2, 6]"
      ]
     },
     "execution_count": 9,
     "metadata": {},
     "output_type": "execute_result"
    }
   ],
   "source": [
    "# [1,-3,2,0,5,6] 에서 양수만 필터링해서 출력하세요. (내장함수와 사용자함수 각각 이용)\n",
    "\n",
    "# 내장함수\n",
    "li = [1,-3,2,0,-5,6]\n",
    "print(list(filter(lambda x: x > 0 , li)))\n",
    "\n",
    "\n",
    "li = [1,-3,2,0,-5,6]\n",
    "    \n",
    "def posi(a):\n",
    "    return a>0\n",
    "\n",
    "list(filter(posi,li))\n"
   ]
  },
  {
   "cell_type": "code",
   "execution_count": null,
   "id": "262235a6",
   "metadata": {},
   "outputs": [],
   "source": [
    "# [연습문제] 내장함수를 이용하여 동일한 개수로 이루어진 자료형을 화살표 좌측에서 우측으로 변환하세요.\n",
    "# [1,2,3], [4,5,6] -> [(1,4),(2,5),(3,6)]\n",
    "# [1,2,3], [4,5,6], [7,8,9] -> [(1,4,7),(2,5,8),(3,6,9)]\n",
    "# ('abc', 'def') -> [('a','d'),('b','e'),('c','f')]"
   ]
  },
  {
   "cell_type": "code",
   "execution_count": 17,
   "id": "404a6552",
   "metadata": {
    "scrolled": true
   },
   "outputs": [
    {
     "name": "stdout",
     "output_type": "stream",
     "text": [
      "[(1, 4), (2, 5), (3, 6)]\n",
      "[(1, 4, 7), (2, 5, 8), (3, 6, 9)]\n",
      "[('a', 'd'), ('b', 'e'), ('c', 'f')]\n"
     ]
    }
   ],
   "source": [
    "# 다른 누군가의 풀이\n",
    "\n",
    "a = [1, 2, 3]\n",
    "b = [4, 5, 6]\n",
    "c = [7, 8, 9]\n",
    "\n",
    "ab = list(zip(a, b))\n",
    "print(ab)\n",
    "                        \n",
    "abc = list(zip(a, b, c))\n",
    "print(abc)\n",
    "\n",
    "alp = ('abc', 'def')\n",
    "alp_1 = list(zip(alp[0],alp[1]))\n",
    "print(alp_1)\n"
   ]
  },
  {
   "cell_type": "code",
   "execution_count": 20,
   "id": "606be962",
   "metadata": {
    "scrolled": true
   },
   "outputs": [
    {
     "name": "stdout",
     "output_type": "stream",
     "text": [
      "(1, 'a')\n",
      "(2, 'b')\n",
      "(3, 'c')\n"
     ]
    }
   ],
   "source": [
    "num = [1,2,3]\n",
    "lt = ['a','b','c']\n",
    "for pair in zip(num,lt):\n",
    "    print(pair)"
   ]
  },
  {
   "cell_type": "code",
   "execution_count": 30,
   "id": "af1e572a",
   "metadata": {},
   "outputs": [
    {
     "name": "stdout",
     "output_type": "stream",
     "text": [
      "2.0\n"
     ]
    }
   ],
   "source": [
    "# 입력으로 들어오는 모든 수의 평균 값을 계산해주는 함수를 작성한 후\n",
    "# 1,2,3을 입력한 결과를 출력하세요.\n",
    "\n",
    "def average(*args):\n",
    "    result = 0\n",
    "    for i in args:\n",
    "        result+=i\n",
    "    return result/len(args)\n",
    "    \n",
    "print(average(1,2,3))"
   ]
  },
  {
   "cell_type": "code",
   "execution_count": null,
   "id": "02616733",
   "metadata": {},
   "outputs": [],
   "source": [
    "# [과제] strings를 다양한 문자가 포함된 순서로 정렬하세요.\n",
    "# ('abc', )"
   ]
  },
  {
   "cell_type": "code",
   "execution_count": null,
   "id": "ce4e50cd",
   "metadata": {},
   "outputs": [],
   "source": [
    "n = 1260\n",
    "count = 0\n",
    "\n",
    "# 큰 단위의 화폐부터 차례대로 확인하기\n",
    "coin_types = [500, 100, 50, 10]\n",
    "\n",
    "for coin in coin_types:\n",
    "    count += n // coin # 해당 화폐로 거슬러 줄 수 있는 동전의 개수 세기\n",
    "    n %= coin\n",
    "\n",
    "strings = ['a', 'ca', 'bar', 'aaaa', 'ababa']\n"
   ]
  },
  {
   "cell_type": "markdown",
   "id": "4b351137",
   "metadata": {},
   "source": [
    "내가 파이썬 이용해서 만드는 프로그램...\n",
    "무엇을 만들 것인지\n",
    "목적은 무엇인지\n",
    "어떤 것을 기대하는지\n",
    "\n",
    "어떻게 설계할 것인지\n",
    "기획에는 설계도가 있어야지\n",
    "뭐 어떻게 틀을 잡고 경로를 그어나가는 그런 거\n",
    "경우의 수를 생각하고\n",
    "내가 가지고 있는 기술로 자유롭게 프로그램 한 번 짜보자.\n",
    "\n",
    "파워포인트 5장 정도로\n",
    "\n",
    "필요한 모듈\n",
    "time\n",
    "webbrowser\n",
    "\n",
    "\n",
    "\n",
    "오늘도 좋은 하루!\n",
    "너와 내가 함께하는 이 순간, (현재 날짜와 시간 출력)!\n",
    "지금 이 시간을 어떻게 보낼지 고민되니?\n",
    "\n",
    "(지금 내 기분은...)\n",
    "\n",
    "1. 밖에 나가고 싶어! (지역명 입력 받아 산책 코스 추천)\n",
    "2. 집에서 좀 쉬고 싶은걸 (영화 추천)\n",
    "3. 노동요가 필요해! (유튜브 뮤직 노래 추천)\n",
    "4. 협곡으로 가자. OP 챔프 보여줘. (OPGG 챔피언 분석창 노출)\n",
    "5. 목록이 너무 적어요. 개선해 주세요. (개발자에게 문의하기 창 노출)\n",
    "0. 전 아직 바빠요. 우리 다음에 만나요~ (프로그램 종료)\n",
    "\n",
    "각 문항은 입력 후에 지연시간을 가진 후 결과창을 출력하도록\n",
    "\n",
    "\n",
    "취향 저격 31 라이브러리\n",
    "영화\n",
    "()\n",
    "'https://www.youtube.com/results?search_query=''+영화+추천'\n",
    "\n",
    "플레이리스트 추천\n",
    "유튜브에 해당 키워드로 검색한 결과를 출력해주고\n",
    "(신나는, 우울한, 차분한, 팝송, 아이돌, 랜덤)\n",
    "\n",
    "랜덤 키워드 입력하면 랜덤한 검색결과가 나오게 연결\n",
    "다른 키워드 입력하면 재입력하게 돌리고\n",
    "\n",
    "kw123 = input('기분이 어때? (우울한, 차분한, 신나는) ')\n",
    "print('2초 후 마법을 보여주지.')\n",
    "time.sleep(2)\n",
    "webbrowser.open('https://music.youtube.com/search?q='+kw123+' 노래 추천')\n",
    "\n"
   ]
  },
  {
   "cell_type": "code",
   "execution_count": 3,
   "id": "c80d4987",
   "metadata": {},
   "outputs": [
    {
     "data": {
      "text/plain": [
       "['bar', 'ababa', 'ca', 'aaaa', 'a']"
      ]
     },
     "execution_count": 3,
     "metadata": {},
     "output_type": "execute_result"
    }
   ],
   "source": [
    "# [과제] strings를 다양한 문자가 포함된 순서대로 정렬하세요.\n",
    "\n",
    "strings = ['a', 'ca', 'bar', 'aaaa', 'ababa']\n",
    "\n",
    "strings.sort(key = lambda x:len(set(x)))\n",
    "# 세트를 써서 중복을 줄이고 그 길이가 긴 순서대로 나열\n",
    "\n",
    "strings[::-1]"
   ]
  },
  {
   "cell_type": "code",
   "execution_count": 8,
   "id": "07fbaa74",
   "metadata": {},
   "outputs": [
    {
     "name": "stdout",
     "output_type": "stream",
     "text": [
      "('bar', 'ababa', 'ca', 'aaaa', 'a')\n"
     ]
    }
   ],
   "source": [
    "# [과제] 튜플 형태인 strings를 다양한 문자가 포함된 순서대로 정렬하세요.\n",
    "\n",
    "strings = ('a', 'ca', 'bar', 'aaaa', 'ababa')\n",
    "\n",
    "a = list(strings)\n",
    "a.sort(key = lambda x:len(set(x)))\n",
    "print(tuple(a[::-1]))"
   ]
  },
  {
   "cell_type": "code",
   "execution_count": 14,
   "id": "0ac13c73",
   "metadata": {
    "scrolled": true
   },
   "outputs": [
    {
     "name": "stdout",
     "output_type": "stream",
     "text": [
      "gfedcba\n"
     ]
    }
   ],
   "source": [
    "s = 'abcdefg'\n",
    "# 'gfedcba'로 출력\n",
    "a=list(s)\n",
    "list.reverse(a)\n",
    "print(''.join(a))"
   ]
  },
  {
   "cell_type": "code",
   "execution_count": 24,
   "id": "46c8fe03",
   "metadata": {
    "scrolled": true
   },
   "outputs": [
    {
     "name": "stdout",
     "output_type": "stream",
     "text": [
      "gfedcba\n",
      "gfedcba\n"
     ]
    }
   ],
   "source": [
    "s = 'abcdefg'\n",
    "print(s[::-1])\n",
    "print(s[6::-1])"
   ]
  },
  {
   "cell_type": "code",
   "execution_count": 23,
   "id": "32eb7a8e",
   "metadata": {
    "scrolled": true
   },
   "outputs": [
    {
     "name": "stdout",
     "output_type": "stream",
     "text": [
      "dcb\n"
     ]
    }
   ],
   "source": [
    "# [연습문제] s = 'abcdefg'에서 dcb만 출력\n",
    "s = 'abcdefg'\n",
    "\n",
    "print(s[3:0:-1]) # 슬라이싱 할 때는 레인지처럼 나중에 쓰는 숫자는 범위보다 하나 넓게 써야 함"
   ]
  }
 ],
 "metadata": {
  "kernelspec": {
   "display_name": "Python 3 (ipykernel)",
   "language": "python",
   "name": "python3"
  },
  "language_info": {
   "codemirror_mode": {
    "name": "ipython",
    "version": 3
   },
   "file_extension": ".py",
   "mimetype": "text/x-python",
   "name": "python",
   "nbconvert_exporter": "python",
   "pygments_lexer": "ipython3",
   "version": "3.8.12"
  }
 },
 "nbformat": 4,
 "nbformat_minor": 5
}
