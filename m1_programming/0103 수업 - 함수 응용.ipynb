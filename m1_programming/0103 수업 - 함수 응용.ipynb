{
 "cells": [
  {
   "cell_type": "code",
   "execution_count": 1,
   "id": "37e1f5ec",
   "metadata": {
    "scrolled": true
   },
   "outputs": [
    {
     "data": {
      "text/plain": [
       "0.6899064517355662"
      ]
     },
     "execution_count": 1,
     "metadata": {},
     "output_type": "execute_result"
    }
   ],
   "source": [
    "# random은 난수를 발생시키는 모듈\n",
    "\n",
    "import random\n",
    "\n",
    "random.random() # 0.0에서 1.0 사이의 실수 중에서 난수값을 리턴"
   ]
  },
  {
   "cell_type": "code",
   "execution_count": 2,
   "id": "48e1938d",
   "metadata": {
    "scrolled": true
   },
   "outputs": [
    {
     "data": {
      "text/plain": [
       "7.821304267004232"
      ]
     },
     "execution_count": 2,
     "metadata": {},
     "output_type": "execute_result"
    }
   ],
   "source": [
    "# 1.0 ~ 10.0 사이의 난수값을 구하려면?\n",
    "# 간단하다. 10 곱하면 된다.\n",
    "\n",
    "random.random() * 10"
   ]
  },
  {
   "cell_type": "code",
   "execution_count": 3,
   "id": "578e7ff5",
   "metadata": {
    "scrolled": true
   },
   "outputs": [
    {
     "data": {
      "text/plain": [
       "[4, 1, 5, 3, 2]"
      ]
     },
     "execution_count": 3,
     "metadata": {},
     "output_type": "execute_result"
    }
   ],
   "source": [
    "# random.shuffle() - 데이터 무작위 섞기\n",
    "\n",
    "data = [1,2,3,4,5]\n",
    "random.shuffle(data)\n",
    "data"
   ]
  },
  {
   "cell_type": "code",
   "execution_count": 4,
   "id": "b182f944",
   "metadata": {
    "scrolled": true
   },
   "outputs": [
    {
     "data": {
      "text/plain": [
       "22"
      ]
     },
     "execution_count": 4,
     "metadata": {},
     "output_type": "execute_result"
    }
   ],
   "source": [
    "# 1 ~ 100 사이의 임의의 짝수를 출력\n",
    "\n",
    "random.randrange(2,101,2) # 2~100 사이의 간격 2인 난수 리턴"
   ]
  },
  {
   "cell_type": "code",
   "execution_count": 5,
   "id": "8a65f8f8",
   "metadata": {},
   "outputs": [
    {
     "data": {
      "text/plain": [
       "24"
      ]
     },
     "execution_count": 5,
     "metadata": {},
     "output_type": "execute_result"
    }
   ],
   "source": [
    "# 실수 말고 정수로 출력하려면?\n",
    "# 1 ~ 55 사이의 정수 중에서 난수 출력\n",
    "\n",
    "random.randint(1,56)"
   ]
  },
  {
   "cell_type": "code",
   "execution_count": 6,
   "id": "4a0e1aad",
   "metadata": {},
   "outputs": [
    {
     "data": {
      "text/plain": [
       "[1, 7, 5]"
      ]
     },
     "execution_count": 6,
     "metadata": {},
     "output_type": "execute_result"
    }
   ],
   "source": [
    "# [1,2,3,4,5,6,7,8,9]에서 임의로 3개 선택\n",
    "# 선택은 sample로 하시면 됩니다\n",
    "\n",
    "s = [1,2,3,4,5,6,7,8,9]\n",
    "random.sample(s,3)"
   ]
  },
  {
   "cell_type": "code",
   "execution_count": 7,
   "id": "0d9877a4",
   "metadata": {
    "scrolled": false
   },
   "outputs": [
    {
     "name": "stdout",
     "output_type": "stream",
     "text": [
      "{'2의 개수': 2, '3의 개수': 4, '4의 개수': 2, '5의 개수': 2, '6의 개수': 2, '7의 개수': 2, '8의 개수': 2, '9의 개수': 2}\n"
     ]
    }
   ],
   "source": [
    "# [연습문제] numbers 내부에 들어있는 숫자가 몇 번 등장하는지를 출력하는 코드를 작성하세요.\n",
    "# 출력 형태는 딕셔너리로\n",
    "\n",
    "numbers = [3,6,3,5,8,2,9,7,4,3,6,3,5,8,2,9,7,4]\n",
    "\n",
    "s = {'2의 개수':numbers.count(2),'3의 개수':numbers.count(3),'4의 개수':numbers.count(4),'5의 개수':numbers.count(5),'6의 개수':numbers.count(6),'7의 개수':numbers.count(7),'8의 개수':numbers.count(8),'9의 개수':numbers.count(9)}\n",
    "print(s)\n"
   ]
  },
  {
   "cell_type": "code",
   "execution_count": 8,
   "id": "c5aa9ff8",
   "metadata": {
    "scrolled": true
   },
   "outputs": [
    {
     "name": "stdout",
     "output_type": "stream",
     "text": [
      "{2: 2, 3: 4, 4: 2, 5: 2, 6: 2, 7: 2, 8: 2, 9: 2}\n"
     ]
    }
   ],
   "source": [
    "# 극찬을 받은 누군가의 풀이\n",
    "\n",
    "numbers = [3,6,3,5,8,2,9,7,4,3,6,3,5,8,2,9,7,4]\n",
    "dic_num={}\n",
    "for i in set(numbers): # 숫자의 범위를 중복 없이 추려내기\n",
    "    dic_num[i] = numbers.count(i)\n",
    "print(dic_num)"
   ]
  },
  {
   "cell_type": "code",
   "execution_count": 9,
   "id": "c0da7d91",
   "metadata": {},
   "outputs": [
    {
     "name": "stdout",
     "output_type": "stream",
     "text": [
      "{3: 4, 6: 2, 5: 2, 8: 2, 2: 2, 9: 2, 7: 2, 4: 2}\n"
     ]
    }
   ],
   "source": [
    "# 선생님 풀이\n",
    "numbers = [3,6,3,5,8,2,9,7,4,3,6,3,5,8,2,9,7,4]\n",
    "counter = {}\n",
    "for num in numbers:\n",
    "    if num in counter:\n",
    "        counter[num]+=1\n",
    "    else:\n",
    "        counter[num] = 1\n",
    "print(counter)"
   ]
  },
  {
   "cell_type": "code",
   "execution_count": 10,
   "id": "036a7348",
   "metadata": {
    "scrolled": true
   },
   "outputs": [
    {
     "name": "stdout",
     "output_type": "stream",
     "text": [
      "[6, 5, 4, 3, 2, 1, 0]\n",
      "[6, 5, 4, 3, 2, 1, 0]\n"
     ]
    }
   ],
   "source": [
    "# [연습문제] list [0,1,2,3,4,5,6]을 내립차순으로 출력하세요. (2가지 방법)\n",
    "\n",
    "s = [0,1,2,3,4,5,6]\n",
    "\n",
    "# 1번째 방법\n",
    "print(s[::-1])\n",
    "#2번째 방법\n",
    "list.reverse(s)\n",
    "print(s)"
   ]
  },
  {
   "cell_type": "code",
   "execution_count": 11,
   "id": "e9dd5640",
   "metadata": {
    "scrolled": false
   },
   "outputs": [
    {
     "name": "stdout",
     "output_type": "stream",
     "text": [
      "1번째는 a입니다.\n",
      "2번째는 b입니다.\n",
      "3번째는 c입니다.\n"
     ]
    }
   ],
   "source": [
    "# [연습문제] list ['a','b','c']를 for문을 사용해서 아래와 같이 출력하세요\n",
    "# 1번째는 a입니다. ...\n",
    "\n",
    "li = ['a','b','c']\n",
    "\n",
    "for i in range(len(li)):\n",
    "    print('%d번째는 %s입니다.' %((i+1),li[i]))\n",
    "          "
   ]
  },
  {
   "cell_type": "code",
   "execution_count": 12,
   "id": "9499bf71",
   "metadata": {},
   "outputs": [
    {
     "name": "stdout",
     "output_type": "stream",
     "text": [
      "1번째는 a입니다.\n",
      "2번째는 b입니다.\n",
      "3번째는 c입니다.\n"
     ]
    }
   ],
   "source": [
    "# 선생님 풀이 - enumerate를 꼭 기억해!\n",
    "\n",
    "li = ['a','b','c']\n",
    "\n",
    "for i,value in enumerate(li):\n",
    "    print(f'{i+1}번째는 {value}입니다.')"
   ]
  },
  {
   "cell_type": "code",
   "execution_count": 13,
   "id": "e3161a4b",
   "metadata": {
    "scrolled": false
   },
   "outputs": [
    {
     "name": "stdout",
     "output_type": "stream",
     "text": [
      "[0, 4, 16, 36, 64, 100, 144, 196, 256, 324]\n",
      "[0, 4, 16, 36, 64, 100, 144, 196, 256, 324]\n"
     ]
    }
   ],
   "source": [
    "# [연습문제] 다음 코딩을 한 줄로 작성해서 동일한 결과를 출력하세요.\n",
    "\n",
    "li = []\n",
    "for i in range(0,20,2):\n",
    "    li.append(i*i)\n",
    "print(li)\n",
    "\n",
    "print([x*x for x in range(0,20,2)])\n"
   ]
  },
  {
   "cell_type": "code",
   "execution_count": 14,
   "id": "208f75bf",
   "metadata": {},
   "outputs": [
    {
     "name": "stdout",
     "output_type": "stream",
     "text": [
      "[0, 4, 16, 36, 64, 100, 144, 196, 256, 324]\n"
     ]
    }
   ],
   "source": [
    "# 선생님 풀이\n",
    "print(list(map(lambda i:i*i,range(0,20,2))))"
   ]
  },
  {
   "cell_type": "code",
   "execution_count": 15,
   "id": "89b30a4e",
   "metadata": {},
   "outputs": [
    {
     "name": "stdout",
     "output_type": "stream",
     "text": [
      "a::b::c\n"
     ]
    }
   ],
   "source": [
    "# [연습문제] join 함수를 이용해서 아래와 같이 출력하세요.\n",
    "# a::b::c\n",
    "s = ['a','b','c']\n",
    "print('::'.join(s))"
   ]
  },
  {
   "cell_type": "code",
   "execution_count": 16,
   "id": "fd7b873a",
   "metadata": {
    "scrolled": true
   },
   "outputs": [
    {
     "data": {
      "text/plain": [
       "(8, 2, 15, 2)"
      ]
     },
     "execution_count": 16,
     "metadata": {},
     "output_type": "execute_result"
    }
   ],
   "source": [
    "# [연습문제] 두 개의 숫자를 인자로 적용하면 사칙연산을 수행하는 사용자 함수를 작성한 후\n",
    "# 5, 3을 대입한 결과를 튜플로 출력하세요.\n",
    "\n",
    "def cal4(a,b):\n",
    "    return a+b,a-b,a*b,round(a/b)\n",
    "\n",
    "cal4(5,3)\n"
   ]
  },
  {
   "cell_type": "code",
   "execution_count": 17,
   "id": "5b2036df",
   "metadata": {
    "scrolled": true
   },
   "outputs": [
    {
     "name": "stdout",
     "output_type": "stream",
     "text": [
      "데이터를 입력해 주세요. >> \n",
      "데이터가 입력되지 않았습니다.\n"
     ]
    }
   ],
   "source": [
    "# [연습문제] 데이터를 입력하지 않으면 종료되는 코딩을 수행하세요.\n",
    "# 단, 반복적으로 작업을 수행할 수 있음\n",
    "\n",
    "while 1:\n",
    "    a = input('데이터를 입력해 주세요. >> ')\n",
    "    if a == '':\n",
    "        print('데이터가 입력되지 않았습니다.')\n",
    "        break\n",
    "    else: continue"
   ]
  },
  {
   "cell_type": "code",
   "execution_count": 18,
   "id": "ba64971d",
   "metadata": {
    "scrolled": true
   },
   "outputs": [
    {
     "name": "stdout",
     "output_type": "stream",
     "text": [
      "\n"
     ]
    }
   ],
   "source": [
    "# 선생님 풀이\n",
    "\n",
    "while 1:\n",
    "    data = input()\n",
    "    if not data: break\n",
    "    print(data)"
   ]
  },
  {
   "cell_type": "code",
   "execution_count": 19,
   "id": "31b62702",
   "metadata": {
    "scrolled": true
   },
   "outputs": [
    {
     "data": {
      "text/plain": [
       "120"
      ]
     },
     "execution_count": 19,
     "metadata": {},
     "output_type": "execute_result"
    }
   ],
   "source": [
    "# 팩토리얼 만들어 볼까요?\n",
    "\n",
    "def factorial(n):\n",
    "    output = 1\n",
    "    for i in range(1,n+1):\n",
    "        output*=i\n",
    "    return output\n",
    "factorial(5)"
   ]
  },
  {
   "cell_type": "code",
   "execution_count": 20,
   "id": "5c37fd0d",
   "metadata": {
    "scrolled": true
   },
   "outputs": [
    {
     "name": "stdout",
     "output_type": "stream",
     "text": [
      "1\n",
      "120\n",
      "3628800\n"
     ]
    }
   ],
   "source": [
    "# 재귀란 '자기자신을 호출' - ~self처럼 자기자신을 불러내는 것임!\n",
    "# 재귀함수를 이용해서 팩토리얼을 구하는 사용자 함수를 작성하고\n",
    "# 1!, 5!, 10!을 구하세요.\n",
    "\n",
    "# factorial(n) = n*factorial(n-1) (단, n>=1)\n",
    "\n",
    "def fac(n):\n",
    "    if n<1:\n",
    "        return 1\n",
    "    \n",
    "    return n*factorial(n-1)\n",
    "\n",
    "print(fac(1))\n",
    "print(fac(5))\n",
    "print(fac(10))"
   ]
  },
  {
   "cell_type": "code",
   "execution_count": 21,
   "id": "a363071a",
   "metadata": {},
   "outputs": [
    {
     "name": "stdout",
     "output_type": "stream",
     "text": [
      "78.5\n",
      "31.4\n",
      "314.0\n",
      "62.8\n"
     ]
    }
   ],
   "source": [
    "# [연습문제] 원의 면적과 둘레의 길이를 구하는 사용자 함수를 작성하여\n",
    "# 반지름이 5와 10일 때의 면적과 둘레를 구하시오.\n",
    "\n",
    "def mj(n):\n",
    "    pi = 3.14\n",
    "    return n*n*pi\n",
    "\n",
    "def dl(n):\n",
    "    pi = 3.14\n",
    "    return round(2*n*pi,2)\n",
    "\n",
    "print(mj(5))\n",
    "print(dl(5))\n",
    "print(mj(10))\n",
    "print(dl(10))"
   ]
  },
  {
   "cell_type": "code",
   "execution_count": 22,
   "id": "314b7bd6",
   "metadata": {
    "scrolled": false
   },
   "outputs": [
    {
     "name": "stdout",
     "output_type": "stream",
     "text": [
      "[1.0, 2.0, 3.0, 4.0, 5.0]\n"
     ]
    }
   ],
   "source": [
    "# [연습문제] list a의 모든 원소를 실수형으로 바꾸어 출력하세요.\n",
    "\n",
    "a = [1,2,3,4,5]\n",
    "for i in range(len(a)):\n",
    "    a[i] = float(a[i])\n",
    "\n",
    "print(a)"
   ]
  },
  {
   "cell_type": "code",
   "execution_count": 23,
   "id": "ae3e6cd4",
   "metadata": {},
   "outputs": [
    {
     "name": "stdout",
     "output_type": "stream",
     "text": [
      "[1.0, 2.0, 3.0, 4.0, 5.0]\n"
     ]
    }
   ],
   "source": [
    "# 선생님 풀이\n",
    "\n",
    "a = [1,2,3,4,5]\n",
    "a = list(map(float,a))\n",
    "print(a)"
   ]
  },
  {
   "cell_type": "code",
   "execution_count": 24,
   "id": "32cd388c",
   "metadata": {},
   "outputs": [
    {
     "data": {
      "text/plain": [
       "['Alabama',\n",
       " 'Georgia!',\n",
       " 'Georgia',\n",
       " 'georgia',\n",
       " 'FlOrIda',\n",
       " 'south   carolina##',\n",
       " 'West virginia?']"
      ]
     },
     "execution_count": 24,
     "metadata": {},
     "output_type": "execute_result"
    }
   ],
   "source": [
    "# 공백 제거 관련하여 선생님 풀이\n",
    "\n",
    "def clean_strings(strings):\n",
    "    result = []\n",
    "    for i in strings:\n",
    "        i = i.strip()\n",
    "        i = result.append(i)\n",
    "    return result\n",
    "states = ['   Alabama ', 'Georgia!', 'Georgia', 'georgia', 'FlOrIda', 'south   carolina##', 'West virginia?']\n",
    "clean_strings(states)"
   ]
  },
  {
   "cell_type": "code",
   "execution_count": 25,
   "id": "d8932693",
   "metadata": {},
   "outputs": [
    {
     "name": "stdout",
     "output_type": "stream",
     "text": [
      "news.naver.com\n"
     ]
    }
   ],
   "source": [
    "# [연습문제] url에서 호스트 도메인을 추출하여 출력하세요.\n",
    "\n",
    "url='https://news.naver.com/main/read.naver?mode=LSD&mid=shm&sid1=105&oid=028&aid=0002334601'\n",
    "\n",
    "domurl = url.split('/')\n",
    "domain = domurl[2]\n",
    "print(domain)\n"
   ]
  },
  {
   "cell_type": "code",
   "execution_count": 26,
   "id": "aefe4877",
   "metadata": {},
   "outputs": [
    {
     "name": "stdout",
     "output_type": "stream",
     "text": [
      "mode=LSD\n",
      "mid=shm\n",
      "sid1=105\n",
      "oid=028\n",
      "aid=0002334601\n"
     ]
    }
   ],
   "source": [
    "# [연습문제] url에서 쿼리문을 추출하여 출력하세요.\n",
    "# ? 뒤에 표시되는 문자열을 쿼리 문자열이라고 하며\n",
    "# 변수 = 값 사이 &으로 구분되어 나열된다.\n",
    "\n",
    "url='https://news.naver.com/main/read.naver?mode=LSD&mid=shm&sid1=105&oid=028&aid=0002334601'\n",
    "\n",
    "queurl = url.split('?')\n",
    "for query in queurl[1].split('&'):\n",
    "    print(query)\n"
   ]
  },
  {
   "cell_type": "code",
   "execution_count": 27,
   "id": "e8cd15d9",
   "metadata": {},
   "outputs": [
    {
     "name": "stdout",
     "output_type": "stream",
     "text": [
      "유안홍,185,183\n",
      "장유한,155,43\n",
      "박황송,136,192\n",
      "안윤최,172,71\n",
      "전전권,130,171\n",
      "권전권,172,144\n",
      "정권김,153,33\n",
      "오오유,136,176\n",
      "한윤서,184,162\n",
      "권정신,190,189\n",
      "\n"
     ]
    }
   ],
   "source": [
    "# [연습문제] 랜덤하게 10명의 이름, 키와 몸무게 만들기\n",
    "\n",
    "import random\n",
    "\n",
    "kname = list('김이박최정강조윤장임한오서신권황안송전홍유')\n",
    "\n",
    "with open('info.txt', 'w') as file:\n",
    "    for i in range(10):\n",
    "        name = random.choice(kname)+random.choice(kname)+random.choice(kname)\n",
    "        height = random.randrange(130,200)\n",
    "        weight = random.randrange(30,200)\n",
    "        file.write(f'{name},{height},{weight}\\n')\n",
    "with open('info.txt', 'r') as file:\n",
    "    data = file.read()\n",
    "    print(data)"
   ]
  },
  {
   "cell_type": "code",
   "execution_count": 28,
   "id": "9ce46991",
   "metadata": {},
   "outputs": [
    {
     "name": "stdout",
     "output_type": "stream",
     "text": [
      "이름: 유안홍\n",
      "키: 185\n",
      "몸무게: 183\n",
      "\n",
      "이름: 장유한\n",
      "키: 155\n",
      "몸무게: 43\n",
      "\n",
      "이름: 박황송\n",
      "키: 136\n",
      "몸무게: 192\n",
      "\n",
      "이름: 안윤최\n",
      "키: 172\n",
      "몸무게: 71\n",
      "\n",
      "이름: 전전권\n",
      "키: 130\n",
      "몸무게: 171\n",
      "\n",
      "이름: 권전권\n",
      "키: 172\n",
      "몸무게: 144\n",
      "\n",
      "이름: 정권김\n",
      "키: 153\n",
      "몸무게: 33\n",
      "\n",
      "이름: 오오유\n",
      "키: 136\n",
      "몸무게: 176\n",
      "\n",
      "이름: 한윤서\n",
      "키: 184\n",
      "몸무게: 162\n",
      "\n",
      "이름: 권정신\n",
      "키: 190\n",
      "몸무게: 189\n",
      "\n"
     ]
    }
   ],
   "source": [
    "# 출력 포맷\n",
    "\n",
    "with open('info.txt', 'r') as file:\n",
    "    for line in file:\n",
    "        (name,height,weight) = line.strip().split(',')\n",
    "        print('\\n'.join(['이름: {}', '키: {}','몸무게: {}']).format(name,height,weight))\n",
    "        print()"
   ]
  },
  {
   "cell_type": "code",
   "execution_count": 29,
   "id": "8a15067e",
   "metadata": {
    "scrolled": true
   },
   "outputs": [
    {
     "name": "stdout",
     "output_type": "stream",
     "text": [
      "[(' ', 177), ('e', 97), ('t', 85), ('A', 78), ('o', 73), ('n', 60), ('s', 60), ('r', 54), ('i', 50), ('h', 48), ('\\n', 43), ('l', 34), ('u', 27), ('d', 24), ('c', 23), ('w', 20), ('m', 20), ('f', 17), ('y', 15), ('p', 15), ('b', 13), ('g', 11), ('v', 9), (\"'\", 8), ('k', 7), ('!', 2)]\n"
     ]
    }
   ],
   "source": [
    "# \n",
    "\n",
    "def getTextFrequency(filename):\n",
    "    with open(filename, 'r') as file:\n",
    "        text = file.read()\n",
    "        fa = {}\n",
    "        for c in text:\n",
    "            if c in fa:\n",
    "                fa[c] += 1\n",
    "            else:\n",
    "                fa[c] = 1\n",
    "        return fa\n",
    "ret = getTextFrequency('data/mydata.txt')\n",
    "ret = sorted(ret.items(), key = lambda x:x[1],reverse=1)\n",
    "\n",
    "print(ret)"
   ]
  },
  {
   "cell_type": "code",
   "execution_count": 30,
   "id": "c13d6920",
   "metadata": {
    "scrolled": false
   },
   "outputs": [
    {
     "name": "stdout",
     "output_type": "stream",
     "text": [
      "[ ] -> [177]회 나타남\n",
      "[e] -> [97]회 나타남\n",
      "[t] -> [85]회 나타남\n",
      "[A] -> [78]회 나타남\n",
      "[o] -> [73]회 나타남\n",
      "[n] -> [60]회 나타남\n",
      "[s] -> [60]회 나타남\n",
      "[r] -> [54]회 나타남\n",
      "[i] -> [50]회 나타남\n",
      "[h] -> [48]회 나타남\n",
      "[l] -> [34]회 나타남\n",
      "[u] -> [27]회 나타남\n",
      "[d] -> [24]회 나타남\n",
      "[c] -> [23]회 나타남\n",
      "[w] -> [20]회 나타남\n",
      "[m] -> [20]회 나타남\n",
      "[f] -> [17]회 나타남\n",
      "[y] -> [15]회 나타남\n",
      "[p] -> [15]회 나타남\n",
      "[b] -> [13]회 나타남\n",
      "[g] -> [11]회 나타남\n",
      "[v] -> [9]회 나타남\n",
      "['] -> [8]회 나타남\n",
      "[k] -> [7]회 나타남\n",
      "[!] -> [2]회 나타남\n"
     ]
    }
   ],
   "source": [
    "# [  ] -> [177]회 나타남\n",
    "# [e] -> 97회 나타남\n",
    "# 이런 식으로 출력하려면?\n",
    "\n",
    "for i in range(len(ret)):\n",
    "    if ret[i][0] == '\\n':\n",
    "        continue\n",
    "    print(f'[{ret[i][0]}] -> [{ret[i][1]}]회 나타남')\n"
   ]
  },
  {
   "cell_type": "code",
   "execution_count": 31,
   "id": "5521bee3",
   "metadata": {
    "scrolled": true
   },
   "outputs": [
    {
     "name": "stdout",
     "output_type": "stream",
     "text": [
      "[ ] -> [177]회 나타남\n",
      "[e] -> [97]회 나타남\n",
      "[t] -> [85]회 나타남\n",
      "[A] -> [78]회 나타남\n",
      "[o] -> [73]회 나타남\n",
      "[n] -> [60]회 나타남\n",
      "[s] -> [60]회 나타남\n",
      "[r] -> [54]회 나타남\n",
      "[i] -> [50]회 나타남\n",
      "[h] -> [48]회 나타남\n",
      "[l] -> [34]회 나타남\n",
      "[u] -> [27]회 나타남\n",
      "[d] -> [24]회 나타남\n",
      "[c] -> [23]회 나타남\n",
      "[w] -> [20]회 나타남\n",
      "[m] -> [20]회 나타남\n",
      "[f] -> [17]회 나타남\n",
      "[y] -> [15]회 나타남\n",
      "[p] -> [15]회 나타남\n",
      "[b] -> [13]회 나타남\n",
      "[g] -> [11]회 나타남\n",
      "[v] -> [9]회 나타남\n",
      "['] -> [8]회 나타남\n",
      "[k] -> [7]회 나타남\n",
      "[!] -> [2]회 나타남\n"
     ]
    }
   ],
   "source": [
    "# 선생님 풀이\n",
    "\n",
    "for c, f in ret:\n",
    "    if c=='\\n':\n",
    "        continue\n",
    "    else: print(f'[{c}] -> [{f}]회 나타남')\n"
   ]
  },
  {
   "cell_type": "code",
   "execution_count": 32,
   "id": "7e67bbba",
   "metadata": {
    "scrolled": true
   },
   "outputs": [
    {
     "name": "stdout",
     "output_type": "stream",
     "text": [
      "213\n"
     ]
    }
   ],
   "source": [
    "# [연습문제] mydata.txt 파일에 들어 있는 단어수를 계산하여 출력하세요.\n",
    "\n",
    "with open('data/mydata.txt', 'r') as f:\n",
    "    text = f.read()\n",
    "    tmp = text.split()\n",
    "    \n",
    "print(len(tmp))"
   ]
  },
  {
   "cell_type": "code",
   "execution_count": 33,
   "id": "cf790bec",
   "metadata": {
    "scrolled": false
   },
   "outputs": [],
   "source": [
    "with open('data/names/yob1991.txt','r') as f:\n",
    "    text = f.read()"
   ]
  },
  {
   "cell_type": "code",
   "execution_count": 34,
   "id": "f6dacd9f",
   "metadata": {
    "scrolled": true
   },
   "outputs": [
    {
     "data": {
      "text/html": [
       "<div>\n",
       "<style scoped>\n",
       "    .dataframe tbody tr th:only-of-type {\n",
       "        vertical-align: middle;\n",
       "    }\n",
       "\n",
       "    .dataframe tbody tr th {\n",
       "        vertical-align: top;\n",
       "    }\n",
       "\n",
       "    .dataframe thead th {\n",
       "        text-align: right;\n",
       "    }\n",
       "</style>\n",
       "<table border=\"1\" class=\"dataframe\">\n",
       "  <thead>\n",
       "    <tr style=\"text-align: right;\">\n",
       "      <th></th>\n",
       "      <th>survived</th>\n",
       "      <th>pclass</th>\n",
       "      <th>sex</th>\n",
       "      <th>age</th>\n",
       "      <th>sibsp</th>\n",
       "      <th>parch</th>\n",
       "      <th>fare</th>\n",
       "      <th>embarked</th>\n",
       "      <th>class</th>\n",
       "      <th>who</th>\n",
       "      <th>adult_male</th>\n",
       "      <th>deck</th>\n",
       "      <th>embark_town</th>\n",
       "      <th>alive</th>\n",
       "      <th>alone</th>\n",
       "    </tr>\n",
       "  </thead>\n",
       "  <tbody>\n",
       "    <tr>\n",
       "      <th>0</th>\n",
       "      <td>0</td>\n",
       "      <td>3</td>\n",
       "      <td>male</td>\n",
       "      <td>22.0</td>\n",
       "      <td>1</td>\n",
       "      <td>0</td>\n",
       "      <td>7.2500</td>\n",
       "      <td>S</td>\n",
       "      <td>Third</td>\n",
       "      <td>man</td>\n",
       "      <td>True</td>\n",
       "      <td>NaN</td>\n",
       "      <td>Southampton</td>\n",
       "      <td>no</td>\n",
       "      <td>False</td>\n",
       "    </tr>\n",
       "    <tr>\n",
       "      <th>1</th>\n",
       "      <td>1</td>\n",
       "      <td>1</td>\n",
       "      <td>female</td>\n",
       "      <td>38.0</td>\n",
       "      <td>1</td>\n",
       "      <td>0</td>\n",
       "      <td>71.2833</td>\n",
       "      <td>C</td>\n",
       "      <td>First</td>\n",
       "      <td>woman</td>\n",
       "      <td>False</td>\n",
       "      <td>C</td>\n",
       "      <td>Cherbourg</td>\n",
       "      <td>yes</td>\n",
       "      <td>False</td>\n",
       "    </tr>\n",
       "    <tr>\n",
       "      <th>2</th>\n",
       "      <td>1</td>\n",
       "      <td>3</td>\n",
       "      <td>female</td>\n",
       "      <td>26.0</td>\n",
       "      <td>0</td>\n",
       "      <td>0</td>\n",
       "      <td>7.9250</td>\n",
       "      <td>S</td>\n",
       "      <td>Third</td>\n",
       "      <td>woman</td>\n",
       "      <td>False</td>\n",
       "      <td>NaN</td>\n",
       "      <td>Southampton</td>\n",
       "      <td>yes</td>\n",
       "      <td>True</td>\n",
       "    </tr>\n",
       "    <tr>\n",
       "      <th>3</th>\n",
       "      <td>1</td>\n",
       "      <td>1</td>\n",
       "      <td>female</td>\n",
       "      <td>35.0</td>\n",
       "      <td>1</td>\n",
       "      <td>0</td>\n",
       "      <td>53.1000</td>\n",
       "      <td>S</td>\n",
       "      <td>First</td>\n",
       "      <td>woman</td>\n",
       "      <td>False</td>\n",
       "      <td>C</td>\n",
       "      <td>Southampton</td>\n",
       "      <td>yes</td>\n",
       "      <td>False</td>\n",
       "    </tr>\n",
       "    <tr>\n",
       "      <th>4</th>\n",
       "      <td>0</td>\n",
       "      <td>3</td>\n",
       "      <td>male</td>\n",
       "      <td>35.0</td>\n",
       "      <td>0</td>\n",
       "      <td>0</td>\n",
       "      <td>8.0500</td>\n",
       "      <td>S</td>\n",
       "      <td>Third</td>\n",
       "      <td>man</td>\n",
       "      <td>True</td>\n",
       "      <td>NaN</td>\n",
       "      <td>Southampton</td>\n",
       "      <td>no</td>\n",
       "      <td>True</td>\n",
       "    </tr>\n",
       "  </tbody>\n",
       "</table>\n",
       "</div>"
      ],
      "text/plain": [
       "   survived  pclass     sex   age  sibsp  parch     fare embarked  class  \\\n",
       "0         0       3    male  22.0      1      0   7.2500        S  Third   \n",
       "1         1       1  female  38.0      1      0  71.2833        C  First   \n",
       "2         1       3  female  26.0      0      0   7.9250        S  Third   \n",
       "3         1       1  female  35.0      1      0  53.1000        S  First   \n",
       "4         0       3    male  35.0      0      0   8.0500        S  Third   \n",
       "\n",
       "     who  adult_male deck  embark_town alive  alone  \n",
       "0    man        True  NaN  Southampton    no  False  \n",
       "1  woman       False    C    Cherbourg   yes  False  \n",
       "2  woman       False  NaN  Southampton   yes   True  \n",
       "3  woman       False    C  Southampton   yes  False  \n",
       "4    man        True  NaN  Southampton    no   True  "
      ]
     },
     "execution_count": 34,
     "metadata": {},
     "output_type": "execute_result"
    }
   ],
   "source": [
    "import seaborn as sbn\n",
    "\n",
    "titan = sbn.load_dataset('titanic')\n",
    "titan.head() # 데이터의 앞부분 5개만 볼 수 있음\n",
    "\n",
    "# 맨 앞의 survive 는 트루 오어 폴스로 나뉘는 불리언 모델임.\n",
    "# 독립 변수가 종속변수 서바이브에 어떤 영향을 미쳤는가?"
   ]
  },
  {
   "cell_type": "code",
   "execution_count": 35,
   "id": "0502aa6f",
   "metadata": {
    "scrolled": true
   },
   "outputs": [
    {
     "data": {
      "text/plain": [
       "<AxesSubplot:ylabel='Frequency'>"
      ]
     },
     "execution_count": 35,
     "metadata": {},
     "output_type": "execute_result"
    },
    {
     "data": {
      "image/png": "[encoded data removed]",
      "text/plain": [
       "<Figure size 432x288 with 1 Axes>"
      ]
     },
     "metadata": {
      "needs_background": "light"
     },
     "output_type": "display_data"
    }
   ],
   "source": [
    "titan.age.plot(kind='hist')"
   ]
  },
  {
   "cell_type": "code",
   "execution_count": 36,
   "id": "4ef20478",
   "metadata": {},
   "outputs": [
    {
     "data": {
      "text/html": [
       "<div>\n",
       "<style scoped>\n",
       "    .dataframe tbody tr th:only-of-type {\n",
       "        vertical-align: middle;\n",
       "    }\n",
       "\n",
       "    .dataframe tbody tr th {\n",
       "        vertical-align: top;\n",
       "    }\n",
       "\n",
       "    .dataframe thead th {\n",
       "        text-align: right;\n",
       "    }\n",
       "</style>\n",
       "<table border=\"1\" class=\"dataframe\">\n",
       "  <thead>\n",
       "    <tr style=\"text-align: right;\">\n",
       "      <th></th>\n",
       "      <th>age</th>\n",
       "      <th>age_cat</th>\n",
       "    </tr>\n",
       "  </thead>\n",
       "  <tbody>\n",
       "    <tr>\n",
       "      <th>0</th>\n",
       "      <td>22.0</td>\n",
       "      <td>20</td>\n",
       "    </tr>\n",
       "    <tr>\n",
       "      <th>1</th>\n",
       "      <td>38.0</td>\n",
       "      <td>30</td>\n",
       "    </tr>\n",
       "    <tr>\n",
       "      <th>2</th>\n",
       "      <td>26.0</td>\n",
       "      <td>20</td>\n",
       "    </tr>\n",
       "    <tr>\n",
       "      <th>3</th>\n",
       "      <td>35.0</td>\n",
       "      <td>30</td>\n",
       "    </tr>\n",
       "    <tr>\n",
       "      <th>4</th>\n",
       "      <td>35.0</td>\n",
       "      <td>30</td>\n",
       "    </tr>\n",
       "  </tbody>\n",
       "</table>\n",
       "</div>"
      ],
      "text/plain": [
       "    age age_cat\n",
       "0  22.0      20\n",
       "1  38.0      30\n",
       "2  26.0      20\n",
       "3  35.0      30\n",
       "4  35.0      30"
      ]
     },
     "execution_count": 36,
     "metadata": {},
     "output_type": "execute_result"
    }
   ],
   "source": [
    "# ======== 범주화 ======== #\n",
    "\n",
    "# age 변수를 10, 20 ,30, 40, 50, 60 이상의 총 7개 범주로 구분하여\n",
    "# age_cat 변수를 생성하세요.\n",
    "\n",
    "#titan.age\n",
    "\n",
    "def age_cat(age):\n",
    "    cat = ''\n",
    "    if age <10: cat = '0'\n",
    "    elif age<20: cat = '10'\n",
    "    elif age<30: cat = '20'\n",
    "    elif age<40: cat = '30'\n",
    "    elif age<50: cat = '40'\n",
    "    elif age<60: cat = '50'\n",
    "    else: cat = 'eldery'\n",
    "\n",
    "    return cat\n",
    "\n",
    "titan['age_cat'] = titan['age'].apply(lambda x:age_cat(x)) # mapping의 일종\n",
    "titan.age_cat\n",
    "titan[['age','age_cat']].head()"
   ]
  },
  {
   "cell_type": "code",
   "execution_count": 37,
   "id": "f6ca4fda",
   "metadata": {},
   "outputs": [],
   "source": [
    "from urllib.request import urlopen\n",
    "\n",
    "imgurl = 'https://imagescdn.gettyimagesbank.com/500/21/349/383/0/1324943224.jpg'\n",
    "imgname = imgurl.split('/')[-1]\n",
    "\n",
    "# 예외처리\n",
    "\n",
    "try:\n",
    "    with urlopen(imgurl) as f:\n",
    "        with open('data/imgname.jpg','wb') as h: # 이미지라서 바이너리로 쓰기\n",
    "            img = f.read()\n",
    "            h.write(img)\n",
    "except Exception as e:\n",
    "       print(e) "
   ]
  },
  {
   "cell_type": "code",
   "execution_count": 38,
   "id": "8e2b9136",
   "metadata": {},
   "outputs": [
    {
     "name": "stdout",
     "output_type": "stream",
     "text": [
      "Requirement already satisfied: Pillow in c:\\cakd5\\sw\\anaconda3\\envs\\cakd5\\lib\\site-packages (8.4.0)\n"
     ]
    }
   ],
   "source": [
    "!pip install Pillow"
   ]
  },
  {
   "cell_type": "code",
   "execution_count": 39,
   "id": "82c617dc",
   "metadata": {},
   "outputs": [],
   "source": [
    "from PIL import Image\n",
    "im = Image.open('data/imgname.jpg')\n",
    "im.show()"
   ]
  },
  {
   "cell_type": "code",
   "execution_count": null,
   "id": "af8de5ee",
   "metadata": {},
   "outputs": [],
   "source": []
  },
  {
   "cell_type": "code",
   "execution_count": 40,
   "id": "103683f0",
   "metadata": {
    "scrolled": true
   },
   "outputs": [
    {
     "name": "stdout",
     "output_type": "stream",
     "text": [
      "게시물은 총 몇 건인가요? >> 10\n",
      "한 페이지에 몇 건의 게시물을 노출할까요? >> 3\n",
      "\n",
      "총 페이지 수는 4입니다.\n"
     ]
    }
   ],
   "source": [
    "# [과제] 게시물의 총 건수와 한 페이지에 보여줄 게시물 수를 입력 시\n",
    "# 총 페이지 수를 출력하는 프로그램을 만드세요.\n",
    "\n",
    "def tpage(a,b):\n",
    "    if a == 0:\n",
    "        return 1\n",
    "    elif a%b==0:\n",
    "        return a//b\n",
    "    else:\n",
    "        return (a//b)+1\n",
    "\n",
    "total = int(input('게시물은 총 몇 건인가요? >> '))\n",
    "page = int(input('한 페이지에 몇 건의 게시물을 노출할까요? >> '))\n",
    "\n",
    "\n",
    "print(f'\\n총 페이지 수는 {tpage(total,page)}입니다.')"
   ]
  },
  {
   "cell_type": "code",
   "execution_count": 41,
   "id": "c78510b0",
   "metadata": {},
   "outputs": [
    {
     "name": "stdout",
     "output_type": "stream",
     "text": [
      "이름: 황임신\n",
      "키: 188\n",
      "몸무게: 169\n",
      "BMI: 44.95\n",
      "결과: 비만\n",
      "\n",
      "이름: 임송황\n",
      "키: 191\n",
      "몸무게: 91\n",
      "BMI: 23.82\n",
      "결과: 과체중\n",
      "\n",
      "이름: 윤박최\n",
      "키: 151\n",
      "몸무게: 178\n",
      "BMI: 58.94\n",
      "결과: 비만\n",
      "\n",
      "이름: 권오서\n",
      "키: 191\n",
      "몸무게: 95\n",
      "BMI: 24.87\n",
      "결과: 과체중\n",
      "\n",
      "이름: 최조김\n",
      "키: 179\n",
      "몸무게: 144\n",
      "BMI: 40.22\n",
      "결과: 비만\n",
      "\n"
     ]
    }
   ],
   "source": [
    "# [과제] 1000명에 대하여 아래와 같이 출력하세요\n",
    "\n",
    "# BMI = round(int(weight)/int(height)/(100**2),2) 소수점 2자리까지 출력\n",
    "# 이름: 누구\n",
    "# 키: 123\n",
    "# 몸무게: 123\n",
    "# BMI: 몇\n",
    "# 결과: 저체중, 정상, 과체중, 비만 어쩌구\n",
    "\n",
    "\n",
    "import random\n",
    "\n",
    "kname = list('김이박최정강조윤장임한오서신권황안송')\n",
    "\n",
    "with open('bmi.txt', 'w') as file:\n",
    "    for i in range(5):\n",
    "        name = random.choice(kname)+random.choice(kname)+random.choice(kname)\n",
    "        height = random.randrange(140,200)\n",
    "        weight = random.randrange(40,200)\n",
    "        BMI = round(weight/((int(height)/100)*2),2)\n",
    "        result = ''\n",
    "        if BMI < 18.5:\n",
    "            result = '저체중'\n",
    "        elif BMI < 23:\n",
    "            result = '정상'\n",
    "        elif BMI < 25:\n",
    "            result = '과체중'\n",
    "        else:\n",
    "            result = '비만'\n",
    "        file.write(f'{name},{height},{weight},{BMI},{result}\\n')\n",
    "\n",
    "with open('bmi.txt', 'r') as file:\n",
    "    for line in file:\n",
    "        (name,height,weight,BMI,result) = line.strip().split(',')\n",
    "        print('\\n'.join(['이름: {}', '키: {}','몸무게: {}', 'BMI: {}', '결과: {}']).format(name,height,weight,BMI,result))\n",
    "        print()\n"
   ]
  },
  {
   "cell_type": "code",
   "execution_count": 42,
   "id": "776933a1",
   "metadata": {
    "scrolled": true
   },
   "outputs": [
    {
     "name": "stdout",
     "output_type": "stream",
     "text": [
      "A lot of things occur eAch dAy\n",
      "we've got to live with on our wAy\n",
      "there's so much misery on the screen\n",
      "with commerciAls in between\n",
      "\n",
      "And the russiAns won't be so lAte\n",
      "uncle sAm don't wAnt to wAit\n",
      "no mAtter if you're blAck or white\n",
      "you never ever hAd A right\n",
      "\n",
      "And look up to the eternAl skies\n",
      "see wArfAre even there\n",
      "whAt once hAs been A pArAdise\n",
      "now destruction And despAir\n",
      "\n",
      "in other worlds the children die\n",
      "lAcking food ill from A fly\n",
      "oppressed by troops to tAme their lAnd\n",
      "it's All the sAme AgAin\n",
      "\n",
      "if Any mAn is free on eArth\n",
      "then tormentors steAl his birth\n",
      "they slAm gun butts in his fAce\n",
      "And leAve his womAn choked in mAce\n",
      "\n",
      "so stAnd up for our humAn rights\n",
      "push bAck this pest of hAte\n",
      "rAise you voice pAss on the light\n",
      "unite! it's not too lAte\n",
      "\n",
      "how mAny teArs flow AwAy\n",
      "to become A seA of feArs\n",
      "how mAny heArts Are torn ApArt\n",
      "till Another torment stArts\n",
      "\n",
      "but before the world\n",
      "turns into A sun\n",
      "All cruelty And violence\n",
      "on eArth will be deAd And gone\n",
      "\n",
      "so stAnd up for our humAn rights\n",
      "push bAck this pest of hAte\n",
      "rAise you voice pAss on the light\n",
      "unite! it's not too lAte\n"
     ]
    }
   ],
   "source": [
    "# [과제] mydata.txt 파일에서 특정단어를 다른 단어로 변경하여 출력하세요.\n",
    "# a->A\n",
    "\n",
    "with open('data/mydata.txt', 'r') as f:\n",
    "    text = f.read()\n",
    "    retxt = text.replace('a','A')\n",
    "    \n",
    "print(retxt)\n",
    "    "
   ]
  },
  {
   "cell_type": "code",
   "execution_count": 43,
   "id": "d7502a00",
   "metadata": {},
   "outputs": [
    {
     "name": "stdout",
     "output_type": "stream",
     "text": [
      "a를 A로 변경했습니다.\n"
     ]
    }
   ],
   "source": [
    "# 선생님 풀이\n",
    "\n",
    "with open('data/mydata.txt', 'r') as f:\n",
    "    with open('data/mydata2.txt', 'w') as g:\n",
    "        text = f.read()\n",
    "        text = text.replace('a','A')\n",
    "        g.write(text)\n",
    "        \n",
    "print(f'%s를 %s로 변경했습니다.' %('a','A'))\n",
    "        \n",
    "# 바꾼 내용을 새로운 파일로 저장"
   ]
  },
  {
   "cell_type": "code",
   "execution_count": 44,
   "id": "28dbab39",
   "metadata": {},
   "outputs": [],
   "source": [
    "# 변경 내용 확인해 볼까?\n",
    "\n"
   ]
  },
  {
   "cell_type": "code",
   "execution_count": 45,
   "id": "01e54e21",
   "metadata": {
    "scrolled": false
   },
   "outputs": [
    {
     "name": "stdout",
     "output_type": "stream",
     "text": [
      "1880년의 출생아 수는 201484명입니다.\n",
      "\n",
      "1881년의 출생아 수는 192696명입니다.\n",
      "\n",
      "1882년의 출생아 수는 221533명입니다.\n",
      "\n",
      "1883년의 출생아 수는 216944명입니다.\n",
      "\n",
      "1884년의 출생아 수는 243461명입니다.\n",
      "\n",
      "1885년의 출생아 수는 240854명입니다.\n",
      "\n",
      "1886년의 출생아 수는 255317명입니다.\n",
      "\n",
      "1887년의 출생아 수는 247394명입니다.\n",
      "\n",
      "1888년의 출생아 수는 299473명입니다.\n",
      "\n",
      "1889년의 출생아 수는 288946명입니다.\n",
      "\n",
      "1890년의 출생아 수는 301402명입니다.\n",
      "\n",
      "1891년의 출생아 수는 286671명입니다.\n",
      "\n",
      "1892년의 출생아 수는 334374명입니다.\n",
      "\n",
      "1893년의 출생아 수는 325224명입니다.\n",
      "\n",
      "1894년의 출생아 수는 338690명입니다.\n",
      "\n",
      "1895년의 출생아 수는 351021명입니다.\n",
      "\n",
      "1896년의 출생아 수는 357484명입니다.\n",
      "\n",
      "1897년의 출생아 수는 346957명입니다.\n",
      "\n",
      "1898년의 출생아 수는 381456명입니다.\n",
      "\n",
      "1899년의 출생아 수는 339233명입니다.\n",
      "\n",
      "1900년의 출생아 수는 450274명입니다.\n",
      "\n",
      "1901년의 출생아 수는 345813명입니다.\n",
      "\n",
      "1902년의 출생아 수는 386733명입니다.\n",
      "\n",
      "1903년의 출생아 수는 381201명입니다.\n",
      "\n",
      "1904년의 출생아 수는 403489명입니다.\n",
      "\n",
      "1905년의 출생아 수는 423927명입니다.\n",
      "\n",
      "1906년의 출생아 수는 428457명입니다.\n",
      "\n",
      "1907년의 출생아 수는 465394명입니다.\n",
      "\n",
      "1908년의 출생아 수는 488652명입니다.\n",
      "\n",
      "1909년의 출생아 수는 511226명입니다.\n",
      "\n",
      "1910년의 출생아 수는 590715명입니다.\n",
      "\n",
      "1911년의 출생아 수는 644278명입니다.\n",
      "\n",
      "1912년의 출생아 수는 988066명입니다.\n",
      "\n",
      "1913년의 출생아 수는 1137112명입니다.\n",
      "\n",
      "1914년의 출생아 수는 1416346명입니다.\n",
      "\n",
      "1915년의 출생아 수는 1832448명입니다.\n",
      "\n",
      "1916년의 출생아 수는 1934432명입니다.\n",
      "\n",
      "1917년의 출생아 수는 2006762명입니다.\n",
      "\n",
      "1918년의 출생아 수는 2171126명입니다.\n",
      "\n",
      "1919년의 출생아 수는 2110271명입니다.\n",
      "\n",
      "1920년의 출생아 수는 2262666명입니다.\n",
      "\n",
      "1921년의 출생아 수는 2334533명입니다.\n",
      "\n",
      "1922년의 출생아 수는 2289179명입니다.\n",
      "\n",
      "1923년의 출생아 수는 2302521명입니다.\n",
      "\n",
      "1924년의 출생아 수는 2381687명입니다.\n",
      "\n",
      "1925년의 출생아 수는 2333329명입니다.\n",
      "\n",
      "1926년의 출생아 수는 2295934명입니다.\n",
      "\n",
      "1927년의 출생아 수는 2319351명입니다.\n",
      "\n",
      "1928년의 출생아 수는 2260944명입니다.\n",
      "\n",
      "1929년의 출생아 수는 2192147명입니다.\n",
      "\n",
      "1930년의 출생아 수는 2223350명입니다.\n",
      "\n",
      "1931년의 출생아 수는 2104260명입니다.\n",
      "\n",
      "1932년의 출생아 수는 2111249명입니다.\n",
      "\n",
      "1933년의 출생아 수는 1999290명입니다.\n",
      "\n",
      "1934년의 출생아 수는 2076662명입니다.\n",
      "\n",
      "1935년의 출생아 수는 2089767명입니다.\n",
      "\n",
      "1936년의 출생아 수는 2077506명입니다.\n",
      "\n",
      "1937년의 출생아 수는 2130541명입니다.\n",
      "\n",
      "1938년의 출생아 수는 2212490명입니다.\n",
      "\n",
      "1939년의 출생아 수는 2203366명입니다.\n",
      "\n",
      "1940년의 출생아 수는 2302512명입니다.\n",
      "\n",
      "1941년의 출생아 수는 2436243명입니다.\n",
      "\n",
      "1942년의 출생아 수는 2731635명입니다.\n",
      "\n",
      "1943년의 출생아 수는 2822379명입니다.\n",
      "\n",
      "1944년의 출생아 수는 2689965명입니다.\n",
      "\n",
      "1945년의 출생아 수는 2652749명입니다.\n",
      "\n",
      "1946년의 출생아 수는 3195166명입니다.\n",
      "\n",
      "1947년의 출생아 수는 3602156명입니다.\n",
      "\n",
      "1948년의 출생아 수는 3452379명입니다.\n",
      "\n",
      "1949년의 출생아 수는 3484672명입니다.\n",
      "\n",
      "1950년의 출생아 수는 3503511명입니다.\n",
      "\n",
      "1951년의 출생아 수는 3683742명입니다.\n",
      "\n",
      "1952년의 출생아 수는 3798130명입니다.\n",
      "\n",
      "1953년의 출생아 수는 3853758명입니다.\n",
      "\n",
      "1954년의 출생아 수는 3981359명입니다.\n",
      "\n",
      "1955년의 출생아 수는 4014146명입니다.\n",
      "\n",
      "1956년의 출생아 수는 4122099명입니다.\n",
      "\n",
      "1957년의 출생아 수는 4201084명입니다.\n",
      "\n",
      "1958년의 출생아 수는 4131828명입니다.\n",
      "\n",
      "1959년의 출생아 수는 4156271명입니다.\n",
      "\n",
      "1960년의 출생아 수는 4154148명입니다.\n",
      "\n",
      "1961년의 출생아 수는 4140578명입니다.\n",
      "\n",
      "1962년의 출생아 수는 4035255명입니다.\n",
      "\n",
      "1963년의 출생아 수는 3958769명입니다.\n",
      "\n",
      "1964년의 출생아 수는 3887838명입니다.\n",
      "\n",
      "1965년의 출생아 수는 3625873명입니다.\n",
      "\n",
      "1966년의 출생아 수는 3475671명입니다.\n",
      "\n",
      "1967년의 출생아 수는 3395139명입니다.\n",
      "\n",
      "1968년의 출생아 수는 3378814명입니다.\n",
      "\n",
      "1969년의 출생아 수는 3476024명입니다.\n",
      "\n",
      "1970년의 출생아 수는 3607224명입니다.\n",
      "\n",
      "1971년의 출생아 수는 3432585명입니다.\n",
      "\n",
      "1972년의 출생아 수는 3143551명입니다.\n",
      "\n",
      "1973년의 출생아 수는 3017385명입니다.\n",
      "\n",
      "1974년의 출생아 수는 3040392명입니다.\n",
      "\n",
      "1975년의 출생아 수는 3019931명입니다.\n",
      "\n",
      "1976년의 출생아 수는 3034923명입니다.\n",
      "\n",
      "1977년의 출생아 수는 3176932명입니다.\n",
      "\n",
      "1978년의 출생아 수는 3174433명입니다.\n",
      "\n",
      "1979년의 출생아 수는 3327561명입니다.\n",
      "\n",
      "1980년의 출생아 수는 3444903명입니다.\n",
      "\n",
      "1981년의 출생아 수는 3459613명입니다.\n",
      "\n",
      "1982년의 출생아 수는 3508186명입니다.\n",
      "\n",
      "1983년의 출생아 수는 3463369명입니다.\n",
      "\n",
      "1984년의 출생아 수는 3488517명입니다.\n",
      "\n",
      "1985년의 출생아 수는 3568692명입니다.\n",
      "\n",
      "1986년의 출생아 수는 3556571명입니다.\n",
      "\n",
      "1987년의 출생아 수는 3605031명입니다.\n",
      "\n",
      "1988년의 출생아 수는 3694188명입니다.\n",
      "\n",
      "1989년의 출생아 수는 3844001명입니다.\n",
      "\n",
      "1990년의 출생아 수는 3951542명입니다.\n",
      "\n",
      "1991년의 출생아 수는 3894699명입니다.\n",
      "\n",
      "1992년의 출생아 수는 3840536명입니다.\n",
      "\n",
      "1993년의 출생아 수는 3769610명입니다.\n",
      "\n",
      "1994년의 출생아 수는 3717007명입니다.\n",
      "\n",
      "1995년의 출생아 수는 3661587명입니다.\n",
      "\n",
      "1996년의 출생아 수는 3646629명입니다.\n",
      "\n",
      "1997년의 출생아 수는 3625240명입니다.\n",
      "\n",
      "1998년의 출생아 수는 3677625명입니다.\n",
      "\n",
      "1999년의 출생아 수는 3693141명입니다.\n",
      "\n",
      "2000년의 출생아 수는 3778860명입니다.\n",
      "\n",
      "2001년의 출생아 수는 3742248명입니다.\n",
      "\n",
      "2002년의 출생아 수는 3736997명입니다.\n",
      "\n",
      "2003년의 출생아 수는 3800956명입니다.\n",
      "\n",
      "2004년의 출생아 수는 3819357명입니다.\n",
      "\n",
      "2005년의 출생아 수는 3843098명입니다.\n",
      "\n",
      "2006년의 출생아 수는 3954169명입니다.\n",
      "\n",
      "2007년의 출생아 수는 3995523명입니다.\n",
      "\n",
      "2008년의 출생아 수는 3928172명입니다.\n",
      "\n",
      "2009년의 출생아 수는 3817468명입니다.\n",
      "\n",
      "2010년의 출생아 수는 3692881명입니다.\n",
      "\n",
      "2011년의 출생아 수는 3654375명입니다.\n",
      "\n",
      "2012년의 출생아 수는 3653573명입니다.\n",
      "\n",
      "2013년의 출생아 수는 3641093명입니다.\n",
      "\n",
      "2014년의 출생아 수는 3701218명입니다.\n",
      "\n",
      "2015년의 출생아 수는 3694784명입니다.\n",
      "\n"
     ]
    }
   ],
   "source": [
    "# [과제] 주어진 데이터에서 1880년에서 2015년까지 연도별 출생아 수를 출력하세요.\n",
    "\n",
    "# 출생아 수는 3번째 요소([2])\n",
    "\n",
    "# 1880년 234567명 / 뭐 이런 식으로...\n",
    "# 사용자 함수, for, if, read, 문자열 포맷 등등 사용해서\n",
    "\n",
    "def ybirth(a):\n",
    "    sum = 0\n",
    "    for k in range(len(a)):\n",
    "        birth = int(a[k].split(',')[2])\n",
    "        sum+=birth\n",
    "    return sum\n",
    "\n",
    "# ('1,2,3','4,5,6','7,8,9')에서 3,6,9만 추출해 모두 더해주는 함수\n",
    "\n",
    "\n",
    "for i in range(1880,2016):\n",
    "    file = ('data/names/yob{}.txt').format(i)\n",
    "    yfile = open(file, 'r')\n",
    "    a = yfile.read().split('\\n')\n",
    "    del a[-1]\n",
    "    print(f'{i}년의 출생아 수는 {ybirth(a)}명입니다.\\n')\n",
    "\n",
    "yfile.close()"
   ]
  },
  {
   "cell_type": "code",
   "execution_count": 46,
   "id": "da0457e5",
   "metadata": {},
   "outputs": [
    {
     "name": "stdout",
     "output_type": "stream",
     "text": [
      "90994\n",
      "110490\n"
     ]
    }
   ],
   "source": [
    "def fsex(a):\n",
    "    sum = 0\n",
    "    for k in range(len(a)):\n",
    "        sex = a[k].split(',')[1]\n",
    "        if sex == \"F\":\n",
    "            sum+=int(a[k].split(',')[2])\n",
    "        else:sum +=0\n",
    "    return sum\n",
    "\n",
    "def msex(a):\n",
    "    sum = 0\n",
    "    for k in range(len(a)):\n",
    "        sex = a[k].split(',')[1]\n",
    "        if sex == \"M\":\n",
    "            sum+=int(a[k].split(',')[2])\n",
    "        else:sum +=0\n",
    "    return sum\n",
    "\n",
    "yfile = open('data/names/yob1880.txt', 'r')\n",
    "a = yfile.read().split('\\n')\n",
    "del a[-1]\n",
    "\n",
    "print(fsex(a))\n",
    "print(msex(a))\n",
    "\n",
    "#for i in range(len(a)):\n",
    "    "
   ]
  },
  {
   "cell_type": "code",
   "execution_count": 47,
   "id": "c6cd5701",
   "metadata": {},
   "outputs": [
    {
     "name": "stdout",
     "output_type": "stream",
     "text": [
      "1880년에 출생한 남아는 110490명, 여아는 90994입니다.\n",
      "\n",
      "1881년에 출생한 남아는 100743명, 여아는 91953입니다.\n",
      "\n",
      "1882년에 출생한 남아는 113686명, 여아는 107847입니다.\n",
      "\n",
      "1883년에 출생한 남아는 104625명, 여아는 112319입니다.\n",
      "\n",
      "1884년에 출생한 남아는 114442명, 여아는 129019입니다.\n",
      "\n",
      "1885년에 출생한 남아는 107799명, 여아는 133055입니다.\n",
      "\n",
      "1886년에 출생한 남아는 110784명, 여아는 144533입니다.\n",
      "\n",
      "1887년에 출생한 남아는 101412명, 여아는 145982입니다.\n",
      "\n",
      "1888년에 출생한 남아는 120851명, 여아는 178622입니다.\n",
      "\n",
      "1889년에 출생한 남아는 110580명, 여아는 178366입니다.\n",
      "\n",
      "1890년에 출생한 남아는 111025명, 여아는 190377입니다.\n",
      "\n",
      "1891년에 출생한 남아는 101191명, 여아는 185480입니다.\n",
      "\n",
      "1892년에 출생한 남아는 122035명, 여아는 212339입니다.\n",
      "\n",
      "1893년에 출생한 남아는 112319명, 여아는 212905입니다.\n",
      "\n",
      "1894년에 출생한 남아는 115769명, 여아는 222921입니다.\n",
      "\n",
      "1895년에 출생한 남아는 117395명, 여아는 233626입니다.\n",
      "\n",
      "1896년에 출생한 남아는 119566명, 여아는 237918입니다.\n",
      "\n",
      "1897년에 출생한 남아는 112757명, 여아는 234200입니다.\n",
      "\n",
      "1898년에 출생한 남아는 122686명, 여아는 258770입니다.\n",
      "\n",
      "1899년에 출생한 남아는 106210명, 여아는 233023입니다.\n",
      "\n",
      "1900년에 출생한 남아는 150479명, 여아는 299795입니다.\n",
      "\n",
      "1901년에 출생한 남아는 106468명, 여아는 239345입니다.\n",
      "\n",
      "1902년에 출생한 남아는 122658명, 여아는 264075입니다.\n",
      "\n",
      "1903년에 출생한 남아는 119231명, 여아는 261970입니다.\n",
      "\n",
      "1904년에 출생한 남아는 128126명, 여아는 275363입니다.\n",
      "\n",
      "1905년에 출생한 남아는 132308명, 여아는 291619입니다.\n",
      "\n",
      "1906년에 출생한 남아는 133155명, 여아는 295302입니다.\n",
      "\n",
      "1907년에 출생한 남아는 146827명, 여아는 318567입니다.\n",
      "\n",
      "1908년에 출생한 남아는 154338명, 여아는 334314입니다.\n",
      "\n",
      "1909년에 출생한 남아는 163996명, 여아는 347230입니다.\n",
      "\n",
      "1910년에 출생한 남아는 194210명, 여아는 396505입니다.\n",
      "\n",
      "1911년에 출생한 남아는 225970명, 여아는 418308입니다.\n",
      "\n",
      "1912년에 출생한 남아는 429946명, 여아는 558120입니다.\n",
      "\n",
      "1913년에 출생한 남아는 512565명, 여아는 624547입니다.\n",
      "\n",
      "1914년에 출생한 남아는 654765명, 여아는 761581입니다.\n",
      "\n",
      "1915년에 출생한 남아는 848584명, 여아는 983864입니다.\n",
      "\n",
      "1916년에 출생한 남아는 890091명, 여아는 1044341입니다.\n",
      "\n",
      "1917년에 출생한 남아는 925490명, 여아는 1081272입니다.\n",
      "\n",
      "1918년에 출생한 남아는 1013488명, 여아는 1157638입니다.\n",
      "\n",
      "1919년에 출생한 남아는 980142명, 여아는 1130129입니다.\n",
      "\n",
      "1920년에 출생한 남아는 1064375명, 여아는 1198291입니다.\n",
      "\n",
      "1921년에 출생한 남아는 1101467명, 여아는 1233066입니다.\n",
      "\n",
      "1922년에 출생한 남아는 1088188명, 여아는 1200991입니다.\n",
      "\n",
      "1923년에 출생한 남아는 1096136명, 여아는 1206385입니다.\n",
      "\n",
      "1924년에 출생한 남아는 1132787명, 여아는 1248900입니다.\n",
      "\n",
      "1925년에 출생한 남아는 1115935명, 여아는 1217394입니다.\n",
      "\n",
      "1926년에 출생한 남아는 1110536명, 여아는 1185398입니다.\n",
      "\n",
      "1927년에 출생한 남아는 1126943명, 여아는 1192408입니다.\n",
      "\n",
      "1928년에 출생한 남아는 1107652명, 여아는 1153292입니다.\n",
      "\n",
      "1929년에 출생한 남아는 1075606명, 여아는 1116541입니다.\n",
      "\n",
      "1930년에 출생한 남아는 1097399명, 여아는 1125951입니다.\n",
      "\n",
      "1931년에 출생한 남아는 1039574명, 여아는 1064686입니다.\n",
      "\n",
      "1932년에 출생한 남아는 1044134명, 여아는 1067115입니다.\n",
      "\n",
      "1933년에 출생한 남아는 991410명, 여아는 1007880입니다.\n",
      "\n",
      "1934년에 출생한 남아는 1032485명, 여아는 1044177입니다.\n",
      "\n",
      "1935년에 출생한 남아는 1041226명, 여아는 1048541입니다.\n",
      "\n",
      "1936년에 출생한 남아는 1037153명, 여아는 1040353입니다.\n",
      "\n",
      "1937년에 출생한 남아는 1066567명, 여아는 1063974입니다.\n",
      "\n",
      "1938년에 출생한 남아는 1109082명, 여아는 1103408입니다.\n",
      "\n",
      "1939년에 출생한 남아는 1106758명, 여아는 1096608입니다.\n",
      "\n",
      "1940년에 출생한 남아는 1159067명, 여아는 1143445입니다.\n",
      "\n",
      "1941년에 출생한 남아는 1228201명, 여아는 1208042입니다.\n",
      "\n",
      "1942년에 출생한 남아는 1380978명, 여아는 1350657입니다.\n",
      "\n",
      "1943년에 출생한 남아는 1427148명, 여아는 1395231입니다.\n",
      "\n",
      "1944년에 출생한 남아는 1362788명, 여아는 1327177입니다.\n",
      "\n",
      "1945년에 출생한 남아는 1345701명, 여아는 1307048입니다.\n",
      "\n",
      "1946년에 출생한 남아는 1623907명, 여아는 1571259입니다.\n",
      "\n",
      "1947년에 출생한 남아는 1829449명, 여아는 1772707입니다.\n",
      "\n",
      "1948년에 출생한 남아는 1754555명, 여아는 1697824입니다.\n",
      "\n",
      "1949년에 출생한 남아는 1773803명, 여아는 1710869입니다.\n",
      "\n",
      "1950년에 출생한 남아는 1790441명, 여아는 1713070입니다.\n",
      "\n",
      "1951년에 출생한 남아는 1882875명, 여아는 1800867입니다.\n",
      "\n",
      "1952년에 출생한 남아는 1943773명, 여아는 1854357입니다.\n",
      "\n",
      "1953년에 출생한 남아는 1972427명, 여아는 1881331입니다.\n",
      "\n",
      "1954년에 출생한 남아는 2039245명, 여아는 1942114입니다.\n",
      "\n",
      "1955년에 출생한 남아는 2059116명, 여아는 1955030입니다.\n",
      "\n",
      "1956년에 출생한 남아는 2114471명, 여아는 2007628입니다.\n",
      "\n",
      "1957년에 출생한 남아는 2156486명, 여아는 2044598입니다.\n",
      "\n",
      "1958년에 출생한 남아는 2120770명, 여아는 2011058입니다.\n",
      "\n",
      "1959년에 출생한 남아는 2133240명, 여아는 2023031입니다.\n",
      "\n",
      "1960년에 출생한 남아는 2132133명, 여아는 2022015입니다.\n",
      "\n",
      "1961년에 출생한 남아는 2122830명, 여아는 2017748입니다.\n",
      "\n",
      "1962년에 출생한 남아는 2068664명, 여아는 1966591입니다.\n",
      "\n",
      "1963년에 출생한 남아는 2031402명, 여아는 1927367입니다.\n",
      "\n",
      "1964년에 출생한 남아는 1993019명, 여아는 1894819입니다.\n",
      "\n",
      "1965년에 출생한 남아는 1860778명, 여아는 1765095입니다.\n",
      "\n",
      "1966년에 출생한 남아는 1783661명, 여아는 1692010입니다.\n",
      "\n",
      "1967년에 출생한 남아는 1744201명, 여아는 1650938입니다.\n",
      "\n",
      "1968년에 출생한 남아는 1738548명, 여아는 1640266입니다.\n",
      "\n",
      "1969년에 출생한 남아는 1789029명, 여아는 1686995입니다.\n",
      "\n",
      "1970년에 출생한 남아는 1859084명, 여아는 1748140입니다.\n",
      "\n",
      "1971년에 출생한 남아는 1768942명, 여아는 1663643입니다.\n",
      "\n",
      "1972년에 출생한 남아는 1622377명, 여아는 1521174입니다.\n",
      "\n",
      "1973년에 출생한 남아는 1559181명, 여아는 1458204입니다.\n",
      "\n",
      "1974년에 출생한 남아는 1572957명, 여아는 1467435입니다.\n",
      "\n",
      "1975년에 출생한 남아는 1562083명, 여아는 1457848입니다.\n",
      "\n",
      "1976년에 출생한 남아는 1569794명, 여아는 1465129입니다.\n",
      "\n",
      "1977년에 출생한 남아는 1643774명, 여아는 1533158입니다.\n",
      "\n",
      "1978년에 출생한 남아는 1642585명, 여아는 1531848입니다.\n",
      "\n",
      "1979년에 출생한 남아는 1722250명, 여아는 1605311입니다.\n",
      "\n",
      "1980년에 출생한 남아는 1784565명, 여아는 1660338입니다.\n",
      "\n",
      "1981년에 출생한 남아는 1791674명, 여아는 1667939입니다.\n",
      "\n",
      "1982년에 출생한 남아는 1814920명, 여아는 1693266입니다.\n",
      "\n",
      "1983년에 출생한 남아는 1792834명, 여아는 1670535입니다.\n",
      "\n",
      "1984년에 출생한 남아는 1804899명, 여아는 1683618입니다.\n",
      "\n",
      "1985년에 출생한 남아는 1848058명, 여아는 1720634입니다.\n",
      "\n",
      "1986년에 출생한 남아는 1841254명, 여아는 1715317입니다.\n",
      "\n",
      "1987년에 출생한 남아는 1866620명, 여아는 1738411입니다.\n",
      "\n",
      "1988년에 출생한 남아는 1913680명, 여아는 1780508입니다.\n",
      "\n",
      "1989년에 출생한 남아는 2000593명, 여아는 1843408입니다.\n",
      "\n",
      "1990년에 출생한 남아는 2053312명, 여아는 1898230입니다.\n",
      "\n",
      "1991년에 출생한 남아는 2019911명, 여아는 1874788입니다.\n",
      "\n",
      "1992년에 출생한 남아는 1996889명, 여아는 1843647입니다.\n",
      "\n",
      "1993년에 출생한 남아는 1960836명, 여아는 1808774입니다.\n",
      "\n",
      "1994년에 출생한 남아는 1931567명, 여아는 1785440입니다.\n",
      "\n",
      "1995년에 출생한 남아는 1903295명, 여아는 1758292입니다.\n",
      "\n",
      "1996년에 출생한 남아는 1893926명, 여아는 1752703입니다.\n",
      "\n",
      "1997년에 출생한 남아는 1884831명, 여아는 1740409입니다.\n",
      "\n",
      "1998년에 출생한 남아는 1911032명, 여아는 1766593입니다.\n",
      "\n",
      "1999년에 출생한 남아는 1919720명, 여아는 1773421입니다.\n",
      "\n",
      "2000년에 출생한 남아는 1963393명, 여아는 1815467입니다.\n",
      "\n",
      "2001년에 출생한 남아는 1942232명, 여아는 1800016입니다.\n",
      "\n",
      "2002년에 출생한 남아는 1940791명, 여아는 1796206입니다.\n",
      "\n",
      "2003년에 출생한 남아는 1974524명, 여아는 1826432입니다.\n",
      "\n",
      "2004년에 출생한 남아는 1983991명, 여아는 1835366입니다.\n",
      "\n",
      "2005년에 출생한 남아는 1996273명, 여아는 1846825입니다.\n",
      "\n",
      "2006년에 출생한 남아는 2054077명, 여아는 1900092입니다.\n",
      "\n",
      "2007년에 출생한 남아는 2074138명, 여아는 1921385입니다.\n",
      "\n",
      "2008년에 출생한 남아는 2038689명, 여아는 1889483입니다.\n",
      "\n",
      "2009년에 출생한 남아는 1981950명, 여아는 1835518입니다.\n",
      "\n",
      "2010년에 출생한 남아는 1917024명, 여아는 1775857입니다.\n",
      "\n",
      "2011년에 출생한 남아는 1897192명, 여아는 1757183입니다.\n",
      "\n",
      "2012년에 출생한 남아는 1894735명, 여아는 1758838입니다.\n",
      "\n",
      "2013년에 출생한 남아는 1888935명, 여아는 1752158입니다.\n",
      "\n",
      "2014년에 출생한 남아는 1917773명, 여아는 1783445입니다.\n",
      "\n",
      "2015년에 출생한 남아는 1913059명, 여아는 1781725입니다.\n",
      "\n",
      "2016년에 출생한 남아는 1893471명, 여아는 1767902입니다.\n",
      "\n",
      "2017년에 출생한 남아는 1845472명, 여아는 1721550입니다.\n",
      "\n",
      "2018년에 출생한 남아는 1809166명, 여아는 1694640입니다.\n",
      "\n",
      "2019년에 출생한 남아는 1779948명, 여아는 1665373입니다.\n",
      "\n"
     ]
    }
   ],
   "source": [
    "# [도전과제] 연도별 남아, 여아 출생아 수 총 합 구하기\n",
    "\n",
    "def fsx(a):\n",
    "    sum = 0\n",
    "    for k in range(len(a)):\n",
    "        sx = a[k].split(',')[1]\n",
    "        if sx == \"F\":\n",
    "            sum+=int(a[k].split(',')[2])\n",
    "        else:sum +=0\n",
    "    return sum\n",
    "\n",
    "def msx(a):\n",
    "    sum = 0\n",
    "    for k in range(len(a)):\n",
    "        sx = a[k].split(',')[1]\n",
    "        if sx == \"M\":\n",
    "            sum+=int(a[k].split(',')[2])\n",
    "        else:sum +=0\n",
    "    return sum\n",
    "\n",
    "for i in range(1880,2020):\n",
    "    file = ('data/names/yob{}.txt').format(i)\n",
    "    yfile = open(file, 'r')\n",
    "    a = yfile.read().split('\\n')\n",
    "    del a[-1]\n",
    "    print(f'{i}년에 출생한 남아는 {msx(a)}명, 여아는 {fsx(a)}입니다.\\n')\n",
    "\n"
   ]
  },
  {
   "cell_type": "code",
   "execution_count": 49,
   "id": "55cf0897",
   "metadata": {
    "scrolled": false
   },
   "outputs": [],
   "source": [
    "# [도전과제] 연도별 인기있는 상위 10개 이름을 성별 별로 구하기\n",
    "# TOP 1 여자아기 이름: ('Jade',123123)\n",
    "\n",
    "\n",
    "# 여아 이름부터!\n",
    "\n",
    "def fname(a):\n",
    "    for i in range(0,10):\n",
    "        print(f\"TOP {i+1} 여자 아이 이름: {a[i].split(',')[0]}, {a[i].split(',')[2]}명\")\n",
    "\n",
    "for i in range(1880,2016):\n",
    "    file = ('data/names/yob{}.txt').format(i)\n",
    "    yfile = open(file, 'r')\n",
    "    a = yfile.read().split('\\n')\n",
    "    del a[-1]\n",
    "#    print(f'{i}년도 {name(a)}')\n",
    "\n"
   ]
  },
  {
   "cell_type": "code",
   "execution_count": 50,
   "id": "1e6bc5c1",
   "metadata": {
    "scrolled": true
   },
   "outputs": [
    {
     "name": "stdout",
     "output_type": "stream",
     "text": [
      "연도를 입력하세요 (1880~2019) > 1999\n",
      "\n",
      "1999년도\n",
      "\tTOP_1 여자아이 이름: Emily / 26539명\n",
      "\tTOP_2 여자아이 이름: Hannah / 21677명\n",
      "\tTOP_3 여자아이 이름: Alexis / 19234명\n",
      "\tTOP_4 여자아이 이름: Sarah / 19108명\n",
      "\tTOP_5 여자아이 이름: Samantha / 19039명\n",
      "\tTOP_6 여자아이 이름: Ashley / 18136명\n",
      "\tTOP_7 여자아이 이름: Madison / 18054명\n",
      "\tTOP_8 여자아이 이름: Taylor / 16905명\n",
      "\tTOP_9 여자아이 이름: Jessica / 16349명\n",
      "\tTOP_10 여자아이 이름: Elizabeth / 15348명\n",
      "\t=============================================\n",
      "\tTOP_1 남자아이 이름: Jacob / 35366명\n",
      "\tTOP_2 남자아이 이름: Michael / 33913명\n",
      "\tTOP_3 남자아이 이름: Matthew / 30415명\n",
      "\tTOP_4 남자아이 이름: Joshua / 27259명\n",
      "\tTOP_5 남자아이 이름: Nicholas / 25640명\n",
      "\tTOP_6 남자아이 이름: Christopher / 25604명\n",
      "\tTOP_7 남자아이 이름: Andrew / 23858명\n",
      "\tTOP_8 남자아이 이름: Joseph / 23212명\n",
      "\tTOP_9 남자아이 이름: Daniel / 22697명\n",
      "\tTOP_10 남자아이 이름: Tyler / 22666명\n"
     ]
    }
   ],
   "source": [
    "# 지금 자료는 내림차순 정렬이 돼 있는데\n",
    "# 만약 무작위 데이터라면 인덱스[2]를 어떻게 정렬할 것인가?\n",
    "\n",
    "\n",
    "year=input('연도를 입력하세요 (1880~2019) > ')\n",
    "filename = 'data/names/yob' + year + '.txt'\n",
    "print()\n",
    "\n",
    "with open(filename) as file:\n",
    "    f_fav=[]\n",
    "    m_fav=[]\n",
    "    for line in file:\n",
    "        (name, gender, birth) = line.strip().split(',')\n",
    "        if(gender == 'F'):\n",
    "            f_fav.append((name, int(birth)))\n",
    "        elif(gender == 'M'):\n",
    "            m_fav.append((name, int(birth)))\n",
    "    del f_fav[10:]\n",
    "    del m_fav[10:]\n",
    "        \n",
    "    print(f'{year}년도')\n",
    "    for i in range(10):\n",
    "        print(f'\\tTOP_{i+1} 여자아이 이름: {f_fav[i][0]} / {f_fav[i][1]}명')\n",
    "    print('\\t'+'='*45)\n",
    "    for i in range(10):\n",
    "        print(f'\\tTOP_{i+1} 남자아이 이름: {m_fav[i][0]} / {m_fav[i][1]}명')\n"
   ]
  },
  {
   "cell_type": "code",
   "execution_count": 51,
   "id": "2f080495",
   "metadata": {
    "scrolled": true
   },
   "outputs": [
    {
     "name": "stdout",
     "output_type": "stream",
     "text": [
      "출생년도 입력하세요(예:2001):1999\n",
      "TOP_1 여자아기이름:('Emily', 26539)\n",
      "TOP_2 여자아기이름:('Hannah', 21677)\n",
      "TOP_3 여자아기이름:('Alexis', 19234)\n",
      "TOP_4 여자아기이름:('Sarah', 19108)\n",
      "TOP_5 여자아기이름:('Samantha', 19039)\n",
      "TOP_6 여자아기이름:('Ashley', 18136)\n",
      "TOP_7 여자아기이름:('Madison', 18054)\n",
      "TOP_8 여자아기이름:('Taylor', 16905)\n",
      "TOP_9 여자아기이름:('Jessica', 16349)\n",
      "TOP_10 여자아기이름:('Elizabeth', 15348)\n",
      "Top_1 남자아기이름:('Jacob', 35366)\n",
      "Top_2 남자아기이름:('Michael', 33913)\n",
      "Top_3 남자아기이름:('Matthew', 30415)\n",
      "Top_4 남자아기이름:('Joshua', 27259)\n",
      "Top_5 남자아기이름:('Nicholas', 25640)\n",
      "Top_6 남자아기이름:('Christopher', 25604)\n",
      "Top_7 남자아기이름:('Andrew', 23858)\n",
      "Top_8 남자아기이름:('Joseph', 23212)\n",
      "Top_9 남자아기이름:('Daniel', 22697)\n",
      "Top_10 남자아기이름:('Tyler', 22666)\n"
     ]
    }
   ],
   "source": [
    "# 선생님 풀이\n",
    "\n",
    "from os.path import exists\n",
    "\n",
    "def getTop10BabyName(year):\n",
    "    nameF = {}\n",
    "    nameM = {}\n",
    "    \n",
    "    filename = 'data/names/yob%s.txt'%year\n",
    "    if not exists(filename):\n",
    "        print('[%s] 파일이 존재하지 않습니다.'%filename)\n",
    "        return None\n",
    "    \n",
    "    with open(filename,'r') as f:\n",
    "        data = f.readlines()\n",
    "        for d in data:\n",
    "            if d[-1] == '\\n':\n",
    "                d = d[:-1]\n",
    "                \n",
    "                tmp = d.split(',')\n",
    "                name = tmp[0]\n",
    "                sex = tmp[1]\n",
    "                birth = tmp[2]\n",
    "                \n",
    "                if sex == 'F':\n",
    "                    ret = nameF\n",
    "                else:\n",
    "                    ret = nameM\n",
    "                    \n",
    "                if name in ret:\n",
    "                    ret[name] += int(birth)\n",
    "                else:\n",
    "                    ret[name] = int(birth)\n",
    "                    \n",
    "    retF = sorted(nameF.items(), key=lambda x:x[1],reverse=True)\n",
    "    retM = sorted(nameM.items(), key=lambda x:x[1], reverse=True)\n",
    "\n",
    "    for i, name in enumerate(retF):\n",
    "        if i>9:\n",
    "            break\n",
    "        print('TOP_%d 여자아기이름:%s'%(i+1,name))\n",
    "    for i, name in enumerate(retM):\n",
    "        if i>9:\n",
    "            break\n",
    "        print('Top_%d 남자아기이름:%s'%(i+1,name))\n",
    "y = input('출생년도 입력하세요(예:2001):')\n",
    "getTop10BabyName(y)"
   ]
  },
  {
   "cell_type": "code",
   "execution_count": 52,
   "id": "63eaf9ef",
   "metadata": {
    "scrolled": true
   },
   "outputs": [
    {
     "name": "stdout",
     "output_type": "stream",
     "text": [
      "TOP 1 여자 아이 이름: 1, 3명\n",
      "TOP 2 여자 아이 이름: 4, 6명\n",
      "TOP 3 여자 아이 이름: 7, 9명\n"
     ]
    }
   ],
   "source": [
    "def name(a):\n",
    "    for k in range(len(a)):\n",
    "        print(f\"TOP {k+1} 여자 아이 이름: {a[k].split(',')[0]}, {a[k].split(',')[2]}명\")\n",
    "        \n",
    "#yfile = open('data/names/yob1880.txt', 'r')\n",
    "#a = yfile.read().split('\\n')\n",
    "#del a[-1]\n",
    "\n",
    "a = ['1,김,3', '4,이,6' ,'7,박,9']\n",
    "\n",
    "\n",
    "name(a)"
   ]
  },
  {
   "cell_type": "code",
   "execution_count": 53,
   "id": "15cad5bc",
   "metadata": {
    "scrolled": true
   },
   "outputs": [
    {
     "data": {
      "text/plain": [
       "['Alabama',\n",
       " 'Georgia',\n",
       " 'Georgia',\n",
       " 'Georgia',\n",
       " 'Florida',\n",
       " 'South   Carolina',\n",
       " 'West Virginia']"
      ]
     },
     "execution_count": 53,
     "metadata": {},
     "output_type": "execute_result"
    }
   ],
   "source": [
    "import re # regular exprission\n",
    "\n",
    "# [도전과제] 리스트 stetes의 문자열을 정형화하여 아래와 같이 출력하세요.\n",
    "states = ['   Alabama ', 'Georgia!', 'Georgia', 'georgia', 'FlOrIda', 'south   carolina##', 'West virginia?']\n",
    "# ['Alabama', 'Georgia', 'Georgia', 'Georgia', 'Florida', 'South   Carolina', 'West Virginia']\n",
    "\n",
    "# 정규표현식 알아와서 해보기\n",
    "# 할 수 있는 사람만 하는 거니까 의무 아님. 그래도 해보고 싶지 않냐?\n",
    "\n",
    "def clean_strings(strings):\n",
    "    result = []\n",
    "    for i in strings:\n",
    "        i = i.strip()\n",
    "        i = result.append(i)\n",
    "    return result\n",
    "\n",
    "clean_strings(states)\n",
    "\n",
    "import re #정규표현식 패키지 \n",
    "\n",
    "def clean_strings(strings):\n",
    "    result = []\n",
    "    for value in strings:\n",
    "        value = value.strip() # 양쪽 공백제거\n",
    "        value = re.sub('[!#?]','',value) # 특수문자 제거\n",
    "        value = value.title() # 첫 글자만 대문자로 변경\n",
    "        result.append(value)\n",
    "    return result\n",
    "\n",
    "clean_strings(states)\n",
    "\n"
   ]
  }
 ],
 "metadata": {
  "kernelspec": {
   "display_name": "Python 3 (ipykernel)",
   "language": "python",
   "name": "python3"
  },
  "language_info": {
   "codemirror_mode": {
    "name": "ipython",
    "version": 3
   },
   "file_extension": ".py",
   "mimetype": "text/x-python",
   "name": "python",
   "nbconvert_exporter": "python",
   "pygments_lexer": "ipython3",
   "version": "3.8.12"
  }
 },
 "nbformat": 4,
 "nbformat_minor": 5
}
