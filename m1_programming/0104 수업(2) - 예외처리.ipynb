{
 "cells": [
  {
   "cell_type": "markdown",
   "id": "60af4f23",
   "metadata": {},
   "source": [
    "#### 구문 오류 syntax error\n",
    "프로그램 실행 전에 발생하는 오류\n",
    "\n",
    "#### 예외 runtime error\n",
    "프로그램 실행 중에 발생하는 오류"
   ]
  },
  {
   "cell_type": "code",
   "execution_count": 1,
   "id": "a31909d1",
   "metadata": {
    "scrolled": true
   },
   "outputs": [
    {
     "ename": "SyntaxError",
     "evalue": "invalid syntax (Temp/ipykernel_15372/3932195594.py, line 3)",
     "output_type": "error",
     "traceback": [
      "\u001b[1;36m  File \u001b[1;32m\"C:\\Users\\user\\AppData\\Local\\Temp/ipykernel_15372/3932195594.py\"\u001b[1;36m, line \u001b[1;32m3\u001b[0m\n\u001b[1;33m    print(구문오류!)\u001b[0m\n\u001b[1;37m              ^\u001b[0m\n\u001b[1;31mSyntaxError\u001b[0m\u001b[1;31m:\u001b[0m invalid syntax\n"
     ]
    }
   ],
   "source": [
    "# syntax error\n",
    "\n",
    "print(구문오류!)"
   ]
  },
  {
   "cell_type": "code",
   "execution_count": 2,
   "id": "2fa27e1d",
   "metadata": {
    "scrolled": false
   },
   "outputs": [
    {
     "name": "stdout",
     "output_type": "stream",
     "text": [
      "정수를 입력해 주세용 >> asd\n"
     ]
    },
    {
     "ename": "ValueError",
     "evalue": "invalid literal for int() with base 10: 'asd'",
     "output_type": "error",
     "traceback": [
      "\u001b[1;31m---------------------------------------------------------------------------\u001b[0m",
      "\u001b[1;31mValueError\u001b[0m                                Traceback (most recent call last)",
      "\u001b[1;32m~\\AppData\\Local\\Temp/ipykernel_15372/2976979165.py\u001b[0m in \u001b[0;36m<module>\u001b[1;34m\u001b[0m\n\u001b[0;32m      1\u001b[0m \u001b[1;31m# runtime error\u001b[0m\u001b[1;33m\u001b[0m\u001b[1;33m\u001b[0m\u001b[1;33m\u001b[0m\u001b[0m\n\u001b[0;32m      2\u001b[0m \u001b[1;33m\u001b[0m\u001b[0m\n\u001b[1;32m----> 3\u001b[1;33m \u001b[0mnum_input\u001b[0m \u001b[1;33m=\u001b[0m \u001b[0mint\u001b[0m\u001b[1;33m(\u001b[0m\u001b[0minput\u001b[0m\u001b[1;33m(\u001b[0m\u001b[1;34m'정수를 입력해 주세용 >> '\u001b[0m\u001b[1;33m)\u001b[0m\u001b[1;33m)\u001b[0m\u001b[1;33m\u001b[0m\u001b[1;33m\u001b[0m\u001b[0m\n\u001b[0m\u001b[0;32m      4\u001b[0m \u001b[0mprint\u001b[0m\u001b[1;33m(\u001b[0m\u001b[1;34m'입력한 정수:'\u001b[0m\u001b[1;33m,\u001b[0m \u001b[0mnum_input\u001b[0m\u001b[1;33m)\u001b[0m\u001b[1;33m\u001b[0m\u001b[1;33m\u001b[0m\u001b[0m\n",
      "\u001b[1;31mValueError\u001b[0m: invalid literal for int() with base 10: 'asd'"
     ]
    }
   ],
   "source": [
    "# runtime error\n",
    "\n",
    "num_input = int(input('정수를 입력해 주세용 >> '))\n",
    "print('입력한 정수:', num_input)"
   ]
  },
  {
   "cell_type": "code",
   "execution_count": 7,
   "id": "c4866b77",
   "metadata": {},
   "outputs": [
    {
     "name": "stdout",
     "output_type": "stream",
     "text": [
      "정수를 입력해 주세용 >> 123\n",
      "입력한 정수: 123\n"
     ]
    }
   ],
   "source": [
    "# 조건문으로 예외 처리하기\n",
    "\n",
    "num_input = input('정수를 입력해 주세용 >> ')\n",
    "if str.isdigit(num_input) == 1:\n",
    "    print('입력한 정수:', int(num_input))\n",
    "else: print('잘못 입력하셨어용')"
   ]
  },
  {
   "cell_type": "code",
   "execution_count": 9,
   "id": "65248491",
   "metadata": {
    "scrolled": false
   },
   "outputs": [
    {
     "name": "stdout",
     "output_type": "stream",
     "text": [
      "안녕갑세요\n"
     ]
    },
    {
     "ename": "NameError",
     "evalue": "name 'hihi' is not defined",
     "output_type": "error",
     "traceback": [
      "\u001b[1;31m---------------------------------------------------------------------------\u001b[0m",
      "\u001b[1;31mNameError\u001b[0m                                 Traceback (most recent call last)",
      "\u001b[1;32m~\\AppData\\Local\\Temp/ipykernel_15372/1266890257.py\u001b[0m in \u001b[0;36m<module>\u001b[1;34m\u001b[0m\n\u001b[0;32m      1\u001b[0m \u001b[0mprint\u001b[0m\u001b[1;33m(\u001b[0m\u001b[1;34m'안녕갑세요'\u001b[0m\u001b[1;33m)\u001b[0m\u001b[1;33m\u001b[0m\u001b[1;33m\u001b[0m\u001b[0m\n\u001b[1;32m----> 2\u001b[1;33m \u001b[0mprint\u001b[0m\u001b[1;33m(\u001b[0m\u001b[0mhihi\u001b[0m\u001b[1;33m)\u001b[0m \u001b[1;31m# hihi는 문자열이 아니라 변수로 인식된 상황\u001b[0m\u001b[1;33m\u001b[0m\u001b[1;33m\u001b[0m\u001b[0m\n\u001b[0m",
      "\u001b[1;31mNameError\u001b[0m: name 'hihi' is not defined"
     ]
    }
   ],
   "source": [
    "print('안녕갑세요')\n",
    "print(hihi) # hihi는 문자열이 아니라 변수로 인식된 상황"
   ]
  },
  {
   "cell_type": "code",
   "execution_count": 15,
   "id": "a3c1d52f",
   "metadata": {
    "scrolled": true
   },
   "outputs": [
    {
     "name": "stdout",
     "output_type": "stream",
     "text": [
      "안녕갑세요\n",
      "예외 발생\n"
     ]
    }
   ],
   "source": [
    "# 한 줄씩 시도하면서 만약 안 되는 게 있다면 except의 코드 실행 후 종료\n",
    "\n",
    "try:\n",
    "    print('안녕갑세요')\n",
    "    print(hihi)\n",
    "    print('여기까지도?')\n",
    "except:\n",
    "    print('예외 발생')"
   ]
  },
  {
   "cell_type": "code",
   "execution_count": 16,
   "id": "966b65b7",
   "metadata": {
    "scrolled": true
   },
   "outputs": [
    {
     "name": "stdout",
     "output_type": "stream",
     "text": [
      "안녕갑세요\n",
      "예외 발생\n",
      "반드시 출력\n"
     ]
    }
   ],
   "source": [
    "# try-except 사용하되 최종 단계까지 도달은 하고 싶다면?\n",
    "\n",
    "try:\n",
    "    print('안녕갑세요')\n",
    "    print(hihi)\n",
    "    print('여기까지도?')\n",
    "except:\n",
    "    print('예외 발생')\n",
    "finally:\n",
    "    print('반드시 출력')"
   ]
  },
  {
   "cell_type": "code",
   "execution_count": 17,
   "id": "d6a256b3",
   "metadata": {},
   "outputs": [
    {
     "name": "stdout",
     "output_type": "stream",
     "text": [
      "name '츄라이츄라이' is not defined\n"
     ]
    }
   ],
   "source": [
    "# 코드에서 예외 발생 내용을 확인하고자 하는 경우의 처리 방법\n",
    "\n",
    "try:\n",
    "    print(츄라이츄라이)\n",
    "except Exception as E:\n",
    "    print(E)"
   ]
  },
  {
   "cell_type": "code",
   "execution_count": 21,
   "id": "747f3873",
   "metadata": {
    "scrolled": true
   },
   "outputs": [
    {
     "name": "stdout",
     "output_type": "stream",
     "text": [
      "1\n",
      "2\n",
      "3\n",
      "사용자에 의해 프로그램이 중단되었습니다. (키보드 입력)\n"
     ]
    }
   ],
   "source": [
    "import time\n",
    "\n",
    "count = 1\n",
    "try:\n",
    "    5\n",
    "    while 1:\n",
    "        print(count)\n",
    "        count+=1\n",
    "        time.sleep(0.5)\n",
    "except KeyboardInterrupt:\n",
    "    print('사용자에 의해 프로그램이 중단되었습니다. (키보드 입력)')"
   ]
  },
  {
   "cell_type": "markdown",
   "id": "19cea641",
   "metadata": {},
   "source": [
    "### try - except가 대충 어떤 느낌이냐면...\n",
    "\n",
    "구문 따라 수행하다가 오류가 발생하면 except로 넘어가는 것이기 때문에<br>\n",
    "오류가 발생할 수 있는 분기를 try에 넣어주면<br>\n",
    "오류가 없다면 try를 따라 쭉 내려가고, 오류가 생기면 except로 건너뛰는 것임<br>\n",
    "<br>\n",
    "만약 예외 코드가 별도로 있다면 그걸 except 뒤에 붙여 주면 해당 예외는 거기서만 처리하고 다른 곳에선 안 함"
   ]
  },
  {
   "cell_type": "code",
   "execution_count": 33,
   "id": "5ef44fea",
   "metadata": {
    "scrolled": true
   },
   "outputs": [
    {
     "name": "stdout",
     "output_type": "stream",
     "text": [
      "['52', '273', '32', '103']\n"
     ]
    }
   ],
   "source": [
    "# [연습문제] 리스트 ['52','273','32','문자','103']\n",
    "# 숫자 부분만 출력하세요. (예외처리 수행)\n",
    "\n",
    "li = ['52','273','32','문자','103']\n",
    "li_num = []\n",
    "\n",
    "for i in li:\n",
    "    try:\n",
    "        int(i)\n",
    "        li_num.append(i)\n",
    "    except:\n",
    "         pass\n",
    "print(li_num)"
   ]
  },
  {
   "cell_type": "code",
   "execution_count": 42,
   "id": "aee9fdda",
   "metadata": {
    "scrolled": true
   },
   "outputs": [
    {
     "name": "stdout",
     "output_type": "stream",
     "text": [
      "정수를 입력해 주세요. >> 123\n",
      "정수입니다.\n"
     ]
    }
   ],
   "source": [
    "# [연습문제] 정수를 입력하면 '정수', 정수가 아니면 '정수 아님'을 출력하세요.\n",
    "\n",
    "num = input('정수를 입력해 주세요. >> ')\n",
    "\n",
    "try:\n",
    "    int(num)\n",
    "    print('정수입니다.')\n",
    "except:\n",
    "    print('정수가 아닙니다.')\n",
    "    \n",
    "\n",
    "# try 안에 아예 int(input)으로 넣어서 오류 분기를 넣어줘도 되고!"
   ]
  },
  {
   "cell_type": "code",
   "execution_count": null,
   "id": "2bf7b922",
   "metadata": {},
   "outputs": [],
   "source": [
    "# 선생님 풀이\n",
    "try:\n",
    "    num_input = int(input('정수 입력 >> '))\n",
    "except:\n",
    "    print('정수 아님')\n",
    "else:\n",
    "    print('정수')"
   ]
  },
  {
   "cell_type": "code",
   "execution_count": 45,
   "id": "8db9a53b",
   "metadata": {
    "scrolled": true
   },
   "outputs": [
    {
     "name": "stdout",
     "output_type": "stream",
     "text": [
      "정수를 입력해 주세요. >> sda\n",
      "입력값 sda은/는 정수가 아닙니다.\n",
      "프로그램 종료\n"
     ]
    }
   ],
   "source": [
    "# [연습문제] 정수를 입력하면 '입력 정수' > '예외 발생하지 않음'> '프로그램 종료'\n",
    "# 정수가 아니면 '입력 값' > '정수 아님' > '프로그램 종료' 순서대로 출력하세요\n",
    "\n",
    "num = input('정수를 입력해 주세요. >> ')\n",
    "\n",
    "try:\n",
    "    print(f'{int(num)}로/으로 예외 발생하지 않음')\n",
    "except:\n",
    "    print(f'입력값 {num}은/는 정수가 아닙니다.')\n",
    "finally: print('프로그램 종료')"
   ]
  },
  {
   "cell_type": "code",
   "execution_count": null,
   "id": "fa33d78b",
   "metadata": {},
   "outputs": [],
   "source": [
    "# 선생님 풀이 (try~except~else~finally 사용)\n",
    "\n",
    "try:\n",
    "    num = int(input('정수를 입력해 주세요. >> '))\n",
    "except:\n",
    "    print('예외 발생')\n",
    "else:\n",
    "    print(num, '예외 발생하지 않음')\n",
    "finally:\n",
    "    print('프로그램 종료')\n"
   ]
  },
  {
   "cell_type": "code",
   "execution_count": 54,
   "id": "0d40b72e",
   "metadata": {
    "scrolled": true
   },
   "outputs": [
    {
     "name": "stdout",
     "output_type": "stream",
     "text": [
      "프로그램이 시작되었습니다.\n",
      "try 구문이 시작되었습니다.\n",
      "프로그램이 종료되었습니다.\n"
     ]
    }
   ],
   "source": [
    "print('프로그램이 시작되었습니다.')\n",
    "while 1:\n",
    "    try:\n",
    "        print('try 구문이 시작되었습니다.')\n",
    "#        a = b+c\n",
    "#        print(a)\n",
    "        break\n",
    "    except:\n",
    "        print('except 구문이 실행되었습니다.')\n",
    "    print('finally 구문이 실행되었습니다.')\n",
    "    print('while 반복문의 마지막 줄입니다.')\n",
    "print('프로그램이 종료되었습니다.')"
   ]
  },
  {
   "cell_type": "code",
   "execution_count": 61,
   "id": "f41e4cb6",
   "metadata": {
    "scrolled": true
   },
   "outputs": [
    {
     "name": "stdout",
     "output_type": "stream",
     "text": [
      "프로그램이 시작되었습니다.\n",
      "try 구문이 시작되었습니다.\n",
      "except 구문이 실행되었습니다.\n",
      "finally 구문이 실행되었습니다.\n",
      "프로그램이 종료되었습니다.\n"
     ]
    }
   ],
   "source": [
    "# [연습문제] 위 코드에서 try~except~finally를 사용하여 아래와 같이 출력하세요.\n",
    "# 프로그램이 시작되었습니다.\n",
    "# try 구문이 시작되었습니다.\n",
    "# except 구문이 실행되었습니다.\n",
    "# finally 구문이 실행되었습니다.\n",
    "# 프로그램이 종료되었습니다.\n",
    "\n",
    "\n",
    "print('프로그램이 시작되었습니다.')\n",
    "while 1:\n",
    "    try:\n",
    "        print('try 구문이 시작되었습니다.')\n",
    "        a = b+c\n",
    "        print(a)\n",
    "        break\n",
    "    except:\n",
    "        print('except 구문이 실행되었습니다.')\n",
    "        break\n",
    "    else:\n",
    "        print('else 구문이 실행되었습니다') # else가 나올 건덕지가 없는 것 같은데...?\n",
    "    finally:\n",
    "        print('finally 구문이 실행되었습니다.')\n",
    "    print('while 반복문의 마지막 줄입니다.')\n",
    "print('프로그램이 종료되었습니다.')"
   ]
  },
  {
   "cell_type": "code",
   "execution_count": null,
   "id": "b12d1bde",
   "metadata": {},
   "outputs": [],
   "source": []
  },
  {
   "cell_type": "code",
   "execution_count": 81,
   "id": "2281d873",
   "metadata": {
    "scrolled": true
   },
   "outputs": [
    {
     "name": "stdout",
     "output_type": "stream",
     "text": [
      "정수 입력 >> 23\n",
      "원의 반지름 23\n",
      "원의 둘레: 144.44\n",
      "원의 넓이: 1661.06\n"
     ]
    }
   ],
   "source": [
    "# [과제] 숫자 대신 문자를 입력 시 예외가 발생되는데 아래 코드를 수정해서\n",
    "# 예외 객체의 자료형과 예외 객체 자체를 출력하세요.\n",
    "\n",
    "num_input = input('정수 입력 >> ')\n",
    "try:\n",
    "    print('원의 반지름',int(num_input))\n",
    "    print('원의 둘레:',round(2*3.14*int(num_input),2))\n",
    "    print('원의 넓이:',round(3.14*(int(num_input)**2),2))\n",
    "except:\n",
    "    print(f'입력값 {num_input}은/는 정수가 아닙니다.\\n예외 객체의 자료형: {type(num_input)}')"
   ]
  },
  {
   "cell_type": "code",
   "execution_count": 2,
   "id": "4b41b5de",
   "metadata": {},
   "outputs": [
    {
     "name": "stdout",
     "output_type": "stream",
     "text": [
      "정수 입력 >> ds\n",
      "<class 'ValueError'>\n",
      "invalid literal for int() with base 10: 'ds'\n"
     ]
    }
   ],
   "source": [
    "# 선생님 풀이\n",
    "\n",
    "try:\n",
    "    num_input = int(input('정수 입력 >> '))\n",
    "    print('원의 반지름',int(num_input))\n",
    "    print('원의 둘레:',round(2*3.14*int(num_input),2))\n",
    "    print('원의 넓이:',round(3.14*(int(num_input)**2),2))\n",
    "    \n",
    "except Exception as E:\n",
    "    print(type(E)) # 예외의 타입형을 프린트\n",
    "    print(E)"
   ]
  },
  {
   "cell_type": "code",
   "execution_count": 8,
   "id": "7d938488",
   "metadata": {},
   "outputs": [
    {
     "name": "stdout",
     "output_type": "stream",
     "text": [
      "정수 입력 >> 123\n",
      "예외 발생: 인덱스 범위를 벗어났습니다.\n",
      "모든 예외처리 완료\n",
      "정수 입력 >> 1\n",
      "1번째 요소: 52\n",
      "모든 예외처리 완료\n"
     ]
    }
   ],
   "source": [
    "# [과제] 아래 코드를 보완하여 발생 가능한 모든 예외(정수, 인덱스, 미리 파악하지 못한 예외)를\n",
    "# 처리한 후 마지막에 '모든 예외처리 완료'를 출력하세요.\n",
    "# 아웃 오브 레인지까지 모두\n",
    "\n",
    "list_num = [52,273,32,72,100]\n",
    "\n",
    "while 1:\n",
    "    try:\n",
    "        num_input = int(eval(input('정수 입력 >> '))) # 수식을 입력해도 처리되게끔\n",
    "        print('{}번째 요소: {}'.format(num_input,list_num[num_input-1]))\n",
    "        break\n",
    "    except IndexError:\n",
    "        print('예외 발생: 인덱스 범위를 벗어났습니다.')\n",
    "    except ValueError:\n",
    "        print('예외 발생: 입력값이 정수가 아닙니다.')\n",
    "    except Exception as E:\n",
    "        print(f'예외 발생: {type(E)}')\n",
    "    finally:\n",
    "        print('모든 예외처리 완료')"
   ]
  },
  {
   "cell_type": "code",
   "execution_count": 10,
   "id": "1eca2569",
   "metadata": {},
   "outputs": [],
   "source": [
    "# [과제] 자유 주제로 프로그램을 수행하세요.\n",
    "# 단, 예외처리 3건 이상(100라인~300라인)\n",
    "\n",
    "# 이거 지난주에 내가 했던 거에 예외처리 넣어서 하면 될 듯\n",
    "# 작성해서 구글 드라이브에 업로드 (주피터노트북 파일 형태로)\n",
    "\n",
    "# 예를 들어 문자 검색해야 하는데 숫자를 집어넣었어\n",
    "# 그러면 그걸 예외로 인식해서 뺀다든지"
   ]
  },
  {
   "cell_type": "code",
   "execution_count": null,
   "id": "12c90c1b",
   "metadata": {},
   "outputs": [],
   "source": []
  }
 ],
 "metadata": {
  "kernelspec": {
   "display_name": "Python 3 (ipykernel)",
   "language": "python",
   "name": "python3"
  },
  "language_info": {
   "codemirror_mode": {
    "name": "ipython",
    "version": 3
   },
   "file_extension": ".py",
   "mimetype": "text/x-python",
   "name": "python",
   "nbconvert_exporter": "python",
   "pygments_lexer": "ipython3",
   "version": "3.8.12"
  }
 },
 "nbformat": 4,
 "nbformat_minor": 5
}
