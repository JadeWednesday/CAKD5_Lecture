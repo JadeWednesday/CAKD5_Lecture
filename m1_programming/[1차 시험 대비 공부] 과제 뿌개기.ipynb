{
 "cells": [
  {
   "cell_type": "code",
   "execution_count": 74,
   "id": "f3eab14c",
   "metadata": {},
   "outputs": [
    {
     "name": "stdout",
     "output_type": "stream",
     "text": [
      "33165\n"
     ]
    }
   ],
   "source": [
    "# [과제] while문을 사용해 1부터 1000까지의 정수 중 3과 5의 공배수의 합을 구하여라.\n",
    "s = 0\n",
    "n = 1\n",
    "\n",
    "while n<=1000:\n",
    "    if n%15==0:\n",
    "        s+=n\n",
    "    n+=1\n",
    "print(s)"
   ]
  },
  {
   "cell_type": "code",
   "execution_count": 77,
   "id": "a19b0e42",
   "metadata": {},
   "outputs": [
    {
     "name": "stdout",
     "output_type": "stream",
     "text": [
      "950\n"
     ]
    }
   ],
   "source": [
    "# [과제] 1부터 100까지의 정수 중 5에서 95까지의 합을 구하세요.\n",
    "s = 0\n",
    "for i in range(1,100):\n",
    "    if i%5==0:\n",
    "        s+=i\n",
    "print(s)"
   ]
  },
  {
   "cell_type": "code",
   "execution_count": 78,
   "id": "bd5fd449",
   "metadata": {},
   "outputs": [
    {
     "name": "stdout",
     "output_type": "stream",
     "text": [
      "11\n",
      "22\n",
      "33\n",
      "44\n",
      "55\n",
      "12345\n"
     ]
    }
   ],
   "source": [
    "# [과제] 1부터 5까지 입력해서 12345를 출력하세요.\n",
    "a = input('1')\n",
    "b = input('2')\n",
    "c = input('3')\n",
    "d = input('4')\n",
    "e = input('5')\n",
    "print(a+b+c+d+e)"
   ]
  },
  {
   "cell_type": "code",
   "execution_count": 79,
   "id": "d5fd25c8",
   "metadata": {},
   "outputs": [
    {
     "data": {
      "text/plain": [
       "[0, 1, 2, 3, 4, 5, 6, 7, 8, 'b', 'c']"
      ]
     },
     "execution_count": 79,
     "metadata": {},
     "output_type": "execute_result"
    }
   ],
   "source": [
    "# [과제] [0,1,2,3,4,5,6,7,8,9,'a','b','c']에서 9와 'a'를 삭제 후 list로 출력하세요\n",
    "li=[0,1,2,3,4,5,6,7,8,9,'a','b','c']\n",
    "del li[9:11]\n",
    "li"
   ]
  },
  {
   "cell_type": "code",
   "execution_count": 80,
   "id": "d6b91e21",
   "metadata": {},
   "outputs": [
    {
     "data": {
      "text/plain": [
       "[0, 1, 2, 3, 4, 5, 6, 7, 8, 'b']"
      ]
     },
     "execution_count": 80,
     "metadata": {},
     "output_type": "execute_result"
    }
   ],
   "source": [
    "# [과제] [0,1,2,3,4,5,6,7,8,'b','c']에서 'c'를 삭제 후 출력하세요.\n",
    "li=[0,1,2,3,4,5,6,7,8,'b','c']\n",
    "del li[-1]\n",
    "li"
   ]
  },
  {
   "cell_type": "code",
   "execution_count": 82,
   "id": "b6ada3ce",
   "metadata": {},
   "outputs": [
    {
     "name": "stdout",
     "output_type": "stream",
     "text": [
      "[9, 9, 8, 8, 5, 4, 4, 4, 3, 1]\n"
     ]
    }
   ],
   "source": [
    "# [과제] [4,8,5,4,8,4,3,9,1,9]를 내림차순으로 정렬하세요.\n",
    "li=[4,8,5,4,8,4,3,9,1,9]\n",
    "print(sorted(li, reverse=1))"
   ]
  },
  {
   "cell_type": "code",
   "execution_count": 87,
   "id": "700dda72",
   "metadata": {},
   "outputs": [
    {
     "name": "stdout",
     "output_type": "stream",
     "text": [
      "2022년 1월 6일 21시 24분 23초\n"
     ]
    }
   ],
   "source": [
    "# [과제] format 함수를 이용해서 다음과 같은 형식으로 현재 날짜/시간을 출력하세요.\n",
    "# 예시: 2021년 12월 29일 15시 47분 30초\n",
    "import datetime\n",
    "t = datetime.datetime.now()\n",
    "\n",
    "print('{}년 {}월 {}일 {}시 {}분 {}초'.format(t.year,t.month,t.day,t.hour,t.minute,t.second))"
   ]
  },
  {
   "cell_type": "code",
   "execution_count": 88,
   "id": "d291fa8a",
   "metadata": {},
   "outputs": [
    {
     "name": "stdout",
     "output_type": "stream",
     "text": [
      "오후임다\n"
     ]
    }
   ],
   "source": [
    "# [과제] 현재 시각을 오전과 오후로 구분하는 프로그램을 작성하세요.\n",
    "import datetime\n",
    "t = datetime.datetime.now()\n",
    "if t.hour<12:\n",
    "    print('오전임다')\n",
    "else: print('오후임다')"
   ]
  },
  {
   "cell_type": "code",
   "execution_count": 93,
   "id": "ffc28d57",
   "metadata": {},
   "outputs": [
    {
     "name": "stdout",
     "output_type": "stream",
     "text": [
      "정수 입력15\n",
      "홀수용\n"
     ]
    }
   ],
   "source": [
    "# [과제] 정수를 입력하면 홀수, 짝수를 판별하는 프로그램을 작성하세요.\n",
    "try:\n",
    "    n = int(input('정수 입력'))\n",
    "    if n!=0 and n%2==0:\n",
    "        print('짝수용')\n",
    "    elif n!=0 and n%2==1:print('홀수용')\n",
    "    else: print('0을 입력하신 건 아닌지?')\n",
    "        \n",
    "except: print('정수 입력하라고 --')"
   ]
  },
  {
   "cell_type": "code",
   "execution_count": 96,
   "id": "54eae3b0",
   "metadata": {},
   "outputs": [
    {
     "name": "stdout",
     "output_type": "stream",
     "text": [
      "태어난 해 입력1989\n",
      "님 뱀띠 맞죠?\n"
     ]
    }
   ],
   "source": [
    "# [과제] 태어난 연도를 입력받아 띠를 출력하는 프로그램을 작성하세요.\n",
    "# 원숭이, 닭, 개, 돼지, 쥐, 소, 범, 토끼, 용, 뱀, 말, 양\n",
    "\n",
    "y = int(input('태어난 해 입력'))%12\n",
    "a = ['원숭이', '닭', '개', '돼지', '쥐', '소', '범', '토끼', '용', '뱀', '말', '양']\n",
    "print(f'님 {a[y]}띠 맞죠?')"
   ]
  },
  {
   "cell_type": "code",
   "execution_count": 97,
   "id": "613fbcd2",
   "metadata": {},
   "outputs": [
    {
     "name": "stdout",
     "output_type": "stream",
     "text": [
      "32\n",
      "25\n"
     ]
    }
   ],
   "source": [
    "# [과제] 람다 함수를 이용해서 a의 b제곱을 구하는 식을 만들고\n",
    "# a, b가 아래와 같이 주어졌을 때 각각의 값을 구하세요.\n",
    "\n",
    "fx = lambda a,b:a**b\n",
    "a = 2; b = 5\n",
    "print(fx(a,b))\n",
    "a = 5; b = 2\n",
    "print(fx(a,b))"
   ]
  },
  {
   "cell_type": "code",
   "execution_count": 98,
   "id": "acd95227",
   "metadata": {},
   "outputs": [
    {
     "name": "stdout",
     "output_type": "stream",
     "text": [
      "2500\n"
     ]
    }
   ],
   "source": [
    "# [과제] 1부터 100까지 아래와 같이 2개의 수를 곱해서 가장 큰 수를 구하세요.\n",
    "# 1*99, 2*98,..., 99*1\n",
    "max = 0\n",
    "for i in range(1,100):\n",
    "    if (100-i)*i > max:\n",
    "        max = i*(100-i)\n",
    "print(max)"
   ]
  },
  {
   "cell_type": "code",
   "execution_count": 106,
   "id": "a4a6136c",
   "metadata": {},
   "outputs": [
    {
     "name": "stdout",
     "output_type": "stream",
     "text": [
      "[[1, 4, 7], [2, 5, 8], [3, 6, 9]]\n"
     ]
    }
   ],
   "source": [
    "# [과제] [    ]을 채워서 아래의 출력과 같이 출력하세요\n",
    "# 출력:\n",
    "# [[1,4,6],[2,5,8],[3,6,9]]\n",
    "\n",
    "numbers = [1,2,3,4,5,6,7,8,9]\n",
    "output = [[],[],[]] # 0,1,2\n",
    "for i in numbers:\n",
    "    output[i%3-1].append(i) # output의 해당 인덱스 자리에 i를 넣으시오.\n",
    "print(output)"
   ]
  },
  {
   "cell_type": "code",
   "execution_count": 123,
   "id": "0374279d",
   "metadata": {},
   "outputs": [
    {
     "name": "stdout",
     "output_type": "stream",
     "text": [
      "횟수 입력 >> 2\n",
      "[ 8 19 22 23 34 45]\n",
      "[ 9 15 16 18 19 41]\n"
     ]
    }
   ],
   "source": [
    "# [과제] 사용자가 입력한 게임 회수만큼 로또 번호를 출력하는 프로그램을 작성하세요.\n",
    "import random, numpy as np\n",
    "n = int(input('횟수 입력 >> '))\n",
    "for i in range(n):\n",
    "    while 1:\n",
    "        a = np.random.randint(1,46,size=6)\n",
    "        if len(np.unique(a))<=5:\n",
    "            continue\n",
    "        else:\n",
    "            print(np.sort(a))\n",
    "            break"
   ]
  },
  {
   "cell_type": "code",
   "execution_count": 164,
   "id": "489cd60c",
   "metadata": {},
   "outputs": [
    {
     "name": "stdout",
     "output_type": "stream",
     "text": [
      "[('남4', '여5'), ('남5', '여2'), ('남1', '여1'), ('남2', '여3'), ('남3', '여4')]\n"
     ]
    }
   ],
   "source": [
    "# [과제] 남녀 파트너 정해주기 프로그램을 작성하세요 (5개 커플)\n",
    "import random\n",
    "\n",
    "a = ['남1','남2','남3','남4','남5']\n",
    "b = ['여1','여2','여3','여4','여5']\n",
    "\n",
    "random.shuffle(a)\n",
    "random.shuffle(b)\n",
    "ab = zip(a,b)\n",
    "print(list(ab))\n",
    "\n",
    "for i,ab in enumerate(ab):\n",
    "    print(f'{ab[0]}과 {ab[1]}가 짝')"
   ]
  },
  {
   "cell_type": "code",
   "execution_count": 128,
   "id": "f9a5ddd9",
   "metadata": {},
   "outputs": [
    {
     "name": "stdout",
     "output_type": "stream",
     "text": [
      "아무거나 입력하세용 >> 32143sdad\n",
      "2143sdad3\n"
     ]
    }
   ],
   "source": [
    "#[과제] 입력받은 문자열의 각 문자를 그 다음 문자로 변경하여 출력하세요.\n",
    "# abcde -> bcdea\n",
    "st = list(input('아무거나 입력하세용 >> '))\n",
    "a = st.pop(0)\n",
    "st.append(a)\n",
    "print(''.join(st))"
   ]
  },
  {
   "cell_type": "code",
   "execution_count": 175,
   "id": "ebffa1cb",
   "metadata": {
    "scrolled": true
   },
   "outputs": [
    {
     "name": "stdout",
     "output_type": "stream",
     "text": [
      "가바보 >> 가\n",
      "가위\n",
      "가바보 >> 가\n",
      "바위\n",
      "짐\n",
      "가바보 >> 가\n",
      "가위\n",
      "가바보 >> 가\n",
      "보\n",
      "이김\n",
      "가바보 >> 가\n",
      "바위\n",
      "짐\n",
      "가바보 >> 가\n",
      "보\n",
      "이김\n",
      "가바보 >> 가\n",
      "가위\n",
      "가바보 >> 가\n",
      "보\n",
      "이김\n",
      "수고용\n"
     ]
    }
   ],
   "source": [
    "# [과제] Player가 3승할 때까지 계속 진행되는 가위바위보 게임 프로그램을 작성하세요.\n",
    "# 게임은 Player와 컴퓨터가 진행\n",
    "import random\n",
    "vic = 0\n",
    "r = ['가위','바위','보']\n",
    "while vic<3:\n",
    "    rsp = input('가바보 >> ')\n",
    "    com = random.sample(r,1)\n",
    "    print(com[0])\n",
    "    if rsp == '가':\n",
    "        if com[0] =='보':\n",
    "            print('이김')\n",
    "            vic+=1\n",
    "            continue\n",
    "        elif com[0] == '바위':\n",
    "            print('짐')\n",
    "            continue\n",
    "    elif rsp == '바':\n",
    "        if com[0] =='가위':\n",
    "            print('이김')\n",
    "            vic+=1\n",
    "            continue\n",
    "        elif com[0] == '보':\n",
    "            print('짐')\n",
    "            continue\n",
    "    elif rsp == '보':\n",
    "        if com[0] =='바위':\n",
    "            print('이김')\n",
    "            vic+=1\n",
    "            continue\n",
    "        elif com[0] == '가위':\n",
    "            print('짐')\n",
    "            continue\n",
    "    else:\n",
    "        print('비김')\n",
    "\n",
    "print('수고용')\n",
    "\n"
   ]
  },
  {
   "cell_type": "code",
   "execution_count": null,
   "id": "730b6942",
   "metadata": {},
   "outputs": [],
   "source": [
    "# [과제] 컴퓨터가 랜덤하게 생성하는 숫자 맞추기 프로그램을 작성하세요."
   ]
  },
  {
   "cell_type": "code",
   "execution_count": 15,
   "id": "e33d58f1",
   "metadata": {},
   "outputs": [],
   "source": [
    "# [과제] strings를 다양한 문자가 포함된 순서로 정렬하세요.\n"
   ]
  },
  {
   "cell_type": "code",
   "execution_count": 16,
   "id": "89cc5488",
   "metadata": {},
   "outputs": [],
   "source": [
    "# [연습문제] 랜덤하게 10명의 이름, 키와 몸무게 만들기"
   ]
  },
  {
   "cell_type": "code",
   "execution_count": 17,
   "id": "0d9480d3",
   "metadata": {},
   "outputs": [],
   "source": [
    "# [과제] 게시물의 총 건수와 한 페이지에 보여줄 게시물 수를 입력 시\n",
    "# 총 페이지 수를 출력하는 프로그램을 만드세요."
   ]
  },
  {
   "cell_type": "code",
   "execution_count": 18,
   "id": "5ef97d42",
   "metadata": {},
   "outputs": [],
   "source": [
    "# [과제] 10명에 대하여 아래와 같이 출력하세요\n",
    "kname = list('김이박최정강조윤')\n",
    "# BMI = round(int(weight)/int(height)/(100**2),2) 소수점 2자리까지 출력\n",
    "# 이름: 누구\n",
    "# 키: 123\n",
    "# 몸무게: 123\n",
    "# BMI: 몇\n",
    "# 결과: 저체중, 정상, 과체중, 비만 어쩌구"
   ]
  },
  {
   "cell_type": "code",
   "execution_count": 19,
   "id": "b658a75d",
   "metadata": {},
   "outputs": [],
   "source": [
    "# [과제] 주어진 데이터에서 1880년에서 2015년까지 연도별 출생아 수를 출력하세요."
   ]
  },
  {
   "cell_type": "code",
   "execution_count": 53,
   "id": "cd3dc52e",
   "metadata": {},
   "outputs": [
    {
     "name": "stdout",
     "output_type": "stream",
     "text": [
      "['Alabama', 'Georgia', 'Georgia', 'georgia', 'FlOrIda', 'south', 'West']\n"
     ]
    }
   ],
   "source": [
    "# [도전과제] 리스트 stetes의 문자열을 정형화하여 아래와 같이 출력하세요.\n",
    "import re\n",
    "states = ['   Alabama ', 'Georgia!', 'Georgia', 'georgia', 'FlOrIda', 'south   carolina##', 'West virginia?']\n",
    "# ['Alabama', 'Georgia', 'Georgia', 'Georgia', 'Florida', 'South   Carolina', 'West Virginia']\n",
    "li = []\n",
    "p = re.compile('[A-Za-z]+')\n",
    "\n",
    "for i in range(7):\n",
    "    m = p.search(states[i])\n",
    "    li.append(m.group())\n",
    "print(li)"
   ]
  },
  {
   "cell_type": "code",
   "execution_count": 73,
   "id": "2dea1373",
   "metadata": {
    "scrolled": true
   },
   "outputs": [
    {
     "name": "stdout",
     "output_type": "stream",
     "text": [
      "[(' ', 198), ('o', 83), ('e', 75), ('a', 71), ('n', 71), ('h', 55), ('u', 55), ('i', 54), ('m', 54), ('y', 52), ('t', 50), ('\\n', 45), ('r', 40), ('d', 34), ('f', 30), ('c', 26), ('s', 24), (\"'\", 18), ('l', 16), ('g', 15), ('w', 13), ('k', 5), ('b', 4), ('v', 3), (',', 2), ('(', 2), (')', 2), ('p', 1)]\n",
      "  -> 198회 나타남\n",
      "o -> 83회 나타남\n",
      "e -> 75회 나타남\n",
      "a -> 71회 나타남\n",
      "n -> 71회 나타남\n",
      "h -> 55회 나타남\n",
      "u -> 55회 나타남\n",
      "i -> 54회 나타남\n",
      "m -> 54회 나타남\n",
      "y -> 52회 나타남\n",
      "t -> 50회 나타남\n",
      "r -> 40회 나타남\n",
      "d -> 34회 나타남\n",
      "f -> 30회 나타남\n",
      "c -> 26회 나타남\n",
      "s -> 24회 나타남\n",
      "' -> 18회 나타남\n",
      "l -> 16회 나타남\n",
      "g -> 15회 나타남\n",
      "w -> 13회 나타남\n",
      "k -> 5회 나타남\n",
      "b -> 4회 나타남\n",
      "v -> 3회 나타남\n",
      ", -> 2회 나타남\n",
      "( -> 2회 나타남\n",
      ") -> 2회 나타남\n",
      "p -> 1회 나타남\n"
     ]
    }
   ],
   "source": [
    "# [과제] data\\thewolf.txt 파일에 대해 모든 문자의 출력 횟수를 구하시오.\n",
    "\n",
    "with open('data/thewolf.txt','r') as f:\n",
    "    txt = f.read()\n",
    "    word = {}\n",
    "    for c in txt:\n",
    "        if c in word:\n",
    "            word[c]+=1\n",
    "        else: word[c]=1\n",
    "\n",
    "word = sorted(word.items(), key=lambda x:x[1],reverse=1)\n",
    "# word의 밸류를 리스트의 2번째 인자로, 역순으로 배치한다\n",
    "print(word)\n",
    "for a,b in word:\n",
    "    if a=='\\n':pass\n",
    "    else: print(f'{a} -> {b}회 나타남')"
   ]
  },
  {
   "cell_type": "code",
   "execution_count": 16,
   "id": "63bc5dc2",
   "metadata": {
    "scrolled": true
   },
   "outputs": [
    {
     "name": "stdout",
     "output_type": "stream",
     "text": [
      "[1, 4, 9, 16, 25]\n",
      "[1, 2]\n"
     ]
    }
   ],
   "source": [
    "# [연습문제] 람다함수와 적합한 내장함수를 사용하여 아래와 같이 출력하세요\n",
    "# [1,2,3,4,5] -> [1,4,9,16,25]\n",
    "# [1,2,3,4,5] -> [1,2]\n",
    "\n",
    "a = [1,2,3,4,5]\n",
    "print(list(map(lambda x:x**2,a)))\n",
    "print(list(filter((lambda x:x<3),a)))"
   ]
  },
  {
   "cell_type": "code",
   "execution_count": 26,
   "id": "72411b7f",
   "metadata": {},
   "outputs": [
    {
     "name": "stdout",
     "output_type": "stream",
     "text": [
      "[1, 2, 6]\n",
      "[1, 2, 6]\n"
     ]
    }
   ],
   "source": [
    "# [1,-3,2,0,-5,6] 에서 양수만 필터링해서 출력하세요. (내장함수와 사용자함수 각각 이용)\n",
    "a = [1,-3,2,0,-5,6]\n",
    "print(list(filter(lambda x:x>0,a)))\n",
    "\n",
    "def posi():\n",
    "    li = []\n",
    "    for i in a:\n",
    "        if i>0:\n",
    "            li.append(i)\n",
    "    print(li)\n",
    "posi()\n",
    "        \n"
   ]
  },
  {
   "cell_type": "code",
   "execution_count": 31,
   "id": "400a16a7",
   "metadata": {},
   "outputs": [
    {
     "name": "stdout",
     "output_type": "stream",
     "text": [
      "[(1, 4), (2, 5), (3, 6)]\n",
      "[(1, 4, 7), (2, 5, 8), (3, 6, 9)]\n",
      "[('a', 'd'), ('b', 'e'), ('c', 'f')]\n"
     ]
    }
   ],
   "source": [
    "# [연습문제] 내장함수를 이용하여 동일한 개수로 이루어진 자료형을 화살표 좌측에서 우측으로 변환하세요.\n",
    "# [1,2,3], [4,5,6] -> [(1,4),(2,5),(3,6)]\n",
    "# [1,2,3], [4,5,6], [7,8,9] -> [(1,4,7),(2,5,8),(3,6,9)]\n",
    "# ('abc', 'def') -> [('a','d'),('b','e'),('c','f')]\n",
    "\n",
    "a = [1,2,3]\n",
    "b = [4,5,6]\n",
    "c = [7,8,9]\n",
    "d = ('abc','def')\n",
    "\n",
    "print(list(zip(a,b)))\n",
    "print(list(zip(a,b,c)))\n",
    "print(list(zip(d[0],d[1])))"
   ]
  },
  {
   "cell_type": "code",
   "execution_count": 74,
   "id": "5476714d",
   "metadata": {},
   "outputs": [
    {
     "data": {
      "text/plain": [
       "['bar', 'ca', 'ababa', 'a', 'aaaa']"
      ]
     },
     "execution_count": 74,
     "metadata": {},
     "output_type": "execute_result"
    }
   ],
   "source": [
    "# [과제] strings를 다양한 문자가 포함된 순서대로 정렬하세요.\n",
    "\n",
    "strings = ['a', 'ca', 'bar', 'aaaa', 'ababa']\n",
    "\n",
    "sorted(strings, key = lambda x:len(set(x)), reverse=1)\n",
    "\n",
    "#strings.sort(key = lambda x:len(set(x)))\n",
    "#print(strings[::-1])"
   ]
  },
  {
   "cell_type": "code",
   "execution_count": 38,
   "id": "11308837",
   "metadata": {},
   "outputs": [
    {
     "name": "stdout",
     "output_type": "stream",
     "text": [
      "('bar', 'ababa', 'ca', 'aaaa', 'a')\n"
     ]
    }
   ],
   "source": [
    "# [과제] 튜플 형태인 strings를 다양한 문자가 포함된 순서대로 정렬하세요.\n",
    "\n",
    "strings = ('a', 'ca', 'bar', 'aaaa', 'ababa')\n",
    "a = list(strings)\n",
    "a.sort(key = lambda x:len(set(x)))\n",
    "print(tuple(a[::-1]))"
   ]
  },
  {
   "cell_type": "code",
   "execution_count": 52,
   "id": "013c61f8",
   "metadata": {
    "scrolled": true
   },
   "outputs": [
    {
     "name": "stdout",
     "output_type": "stream",
     "text": [
      "{2: 2, 3: 4, 4: 2, 5: 2, 6: 2, 7: 2, 8: 2, 9: 2}\n"
     ]
    }
   ],
   "source": [
    "# [연습문제] numbers 내부에 들어있는 숫자가 몇 번 등장하는지를 출력하는 코드를 작성하세요.\n",
    "# 출력 형태는 딕셔너리로\n",
    "\n",
    "numbers = [3,6,3,5,8,2,9,7,4,3,6,3,5,8,2,9,7,4]\n",
    "dic = {}\n",
    "\n",
    "for i in set(numbers):\n",
    "    dic[i] = numbers.count(i)\n",
    "print(dic)"
   ]
  },
  {
   "cell_type": "code",
   "execution_count": 40,
   "id": "dd4b4bac",
   "metadata": {},
   "outputs": [
    {
     "name": "stdout",
     "output_type": "stream",
     "text": [
      "1번째는 a입니다\n",
      "2번째는 b입니다\n",
      "3번째는 c입니다\n"
     ]
    }
   ],
   "source": [
    "# [연습문제] list ['a','b','c']를 for문을 사용해서 아래와 같이 출력하세요\n",
    "# 1번째는 a입니다. ...\n",
    "\n",
    "li = ['a','b','c']\n",
    "\n",
    "for i, j in enumerate(li):\n",
    "    print(f'{i+1}번째는 {j}입니다')"
   ]
  },
  {
   "cell_type": "code",
   "execution_count": 56,
   "id": "4d3a86a8",
   "metadata": {},
   "outputs": [
    {
     "name": "stdout",
     "output_type": "stream",
     "text": [
      "[0, 4, 16, 36, 64, 100, 144, 196, 256, 324]\n",
      "[0, 4, 16, 36, 64, 100, 144, 196, 256, 324]\n"
     ]
    }
   ],
   "source": [
    "# [연습문제] 다음 코딩을 한 줄로 작성해서 동일한 결과를 출력하세요.\n",
    "\n",
    "li = []\n",
    "for i in range(0,20,2):\n",
    "    li.append(i*i)\n",
    "print(li)\n",
    "\n",
    "print(list(map(lambda x:x*x,range(0,20,2))))"
   ]
  },
  {
   "cell_type": "code",
   "execution_count": 59,
   "id": "ae1784b0",
   "metadata": {},
   "outputs": [
    {
     "data": {
      "text/plain": [
       "'032-232-3245'"
      ]
     },
     "execution_count": 59,
     "metadata": {},
     "output_type": "execute_result"
    }
   ],
   "source": [
    "# [과제] 정규 표현식을 사용하여 text에서 전화번호만 출력하세요.\n",
    "import re\n",
    "text = '문의사항이 있으면 032-232-3245로 연락주시기 바랍니다.'\n",
    "q = re.compile('[0-9]+')\n",
    "'-'.join(q.findall(text))"
   ]
  },
  {
   "cell_type": "code",
   "execution_count": 66,
   "id": "bbe44dc0",
   "metadata": {
    "scrolled": true
   },
   "outputs": [
    {
     "name": "stdout",
     "output_type": "stream",
     "text": [
      "52\n",
      "273\n",
      "32\n",
      "103\n"
     ]
    }
   ],
   "source": [
    "# [연습문제] 리스트 ['52','273','32','문자','103']\n",
    "# 숫자 부분만 출력하세요. (예외처리 수행)\n",
    "\n",
    "a = ['52','273','32','문자','103']\n",
    "for i in range(len(a)):\n",
    "    try:\n",
    "        print(int(a[i]))\n",
    "    except: pass"
   ]
  },
  {
   "cell_type": "code",
   "execution_count": 68,
   "id": "5de25a1f",
   "metadata": {
    "scrolled": true
   },
   "outputs": [
    {
     "name": "stdout",
     "output_type": "stream",
     "text": [
      "\n",
      "안녕하세요, Jade님.\n",
      "현재 시간은 10시이며, 업무 미팅은 2시 시작입니다.\n"
     ]
    }
   ],
   "source": [
    "# [과제] 업무 미팅이 2시임을 알려주는 자동 이메일을 AutoEmail 클래스를 작성하여 아래와 같이 출력하세요.\n",
    "# 안녕하세요, Jade님. 업무 미팅은 2시입니다.\n",
    "\n",
    "import datetime\n",
    "t = datetime.datetime.now()\n",
    "\n",
    "class AutoEmail:\n",
    "    def email(self,name,time):\n",
    "        global t\n",
    "        print(f'''\n",
    "안녕하세요, {name}님.\n",
    "현재 시간은 {t.hour}시이며, 업무 미팅은 {time}시 시작입니다.''')\n",
    "        \n",
    "메일 = AutoEmail()\n",
    "메일.email('Jade',2)\n",
    "        "
   ]
  },
  {
   "cell_type": "code",
   "execution_count": 73,
   "id": "4936f83b",
   "metadata": {},
   "outputs": [],
   "source": [
    "with open('data/thewolf.txt','a') as f:\n",
    "    f.write('\\n김첨지 짱짱맨')\n",
    "    "
   ]
  }
 ],
 "metadata": {
  "kernelspec": {
   "display_name": "Python 3 (ipykernel)",
   "language": "python",
   "name": "python3"
  },
  "language_info": {
   "codemirror_mode": {
    "name": "ipython",
    "version": 3
   },
   "file_extension": ".py",
   "mimetype": "text/x-python",
   "name": "python",
   "nbconvert_exporter": "python",
   "pygments_lexer": "ipython3",
   "version": "3.8.12"
  }
 },
 "nbformat": 4,
 "nbformat_minor": 5
}
