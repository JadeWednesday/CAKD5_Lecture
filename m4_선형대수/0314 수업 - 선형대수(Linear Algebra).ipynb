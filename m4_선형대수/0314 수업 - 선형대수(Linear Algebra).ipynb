{
 "cells": [
  {
   "cell_type": "markdown",
   "id": "ba7f0a31",
   "metadata": {},
   "source": [
    "## Python Numpy 선형대수\n",
    "\n",
    "- 단위행렬 (Unit matrix): np.eye(n)\n",
    "- 대각행렬 (Diagonal matrix): np.diag(x)\n",
    "- 내적 (Dot product, Inner product): np.dot(a, b)\n",
    "- 대각합 (Trace): np.trace(x)\n",
    "- 행렬식 (Matrix Determinant): np.linalg.det(x)\n",
    "- 역행렬 (Inverse of a matrix): np.linalg.inv(x)\n",
    "- 고유값 (Eigenvalue), 고유벡터 (Eigenvector): w, v = np.linalg.eig(x)\n",
    "- 특이값 분해 (Singular Value Decomposition): u, s, vh = np.linalg.svd(A)\n",
    "- 연립방정식 해 풀기 (Solve a linear matrix equation): np.linalg.solve(a, b)\n",
    "- 최소자승 해 풀기 (Compute the Least-squares solution): m, c = np.linalg.lstsq(A, y, rcond=None)[0]\n",
    "\n",
    "https://rfriend.tistory.com/380\n"
   ]
  },
  {
   "cell_type": "code",
   "execution_count": 1,
   "id": "4d07cafa",
   "metadata": {},
   "outputs": [],
   "source": [
    "import numpy as np\n",
    "import pandas as pd\n",
    "import matplotlib.pyplot as plt"
   ]
  },
  {
   "cell_type": "code",
   "execution_count": 2,
   "id": "6e3ee197",
   "metadata": {},
   "outputs": [
    {
     "data": {
      "text/plain": [
       "array([[0, 1, 2],\n",
       "       [3, 4, 5],\n",
       "       [6, 7, 8]])"
      ]
     },
     "execution_count": 2,
     "metadata": {},
     "output_type": "execute_result"
    }
   ],
   "source": [
    "# 정방행렬 (=정사각형 행렬. nxn)\n",
    "np.arange(9).reshape(3,3)"
   ]
  },
  {
   "cell_type": "code",
   "execution_count": 3,
   "id": "def79e5a",
   "metadata": {},
   "outputs": [
    {
     "data": {
      "text/plain": [
       "array([[1, 0, 0, 0],\n",
       "       [0, 2, 0, 0],\n",
       "       [0, 0, 3, 0],\n",
       "       [0, 0, 0, 4]])"
      ]
     },
     "execution_count": 3,
     "metadata": {},
     "output_type": "execute_result"
    }
   ],
   "source": [
    "# 대각 정방행렬: 주 대각선 원소 외의 다른 원소는 모두 0인 정방행렬\n",
    "np.diag([1,2,3,4])"
   ]
  },
  {
   "cell_type": "code",
   "execution_count": 4,
   "id": "40607b62",
   "metadata": {},
   "outputs": [
    {
     "data": {
      "text/plain": [
       "array([[1., 0., 0., 0.],\n",
       "       [0., 1., 0., 0.],\n",
       "       [0., 0., 1., 0.],\n",
       "       [0., 0., 0., 1.]])"
      ]
     },
     "metadata": {},
     "output_type": "display_data"
    },
    {
     "data": {
      "text/plain": [
       "array([[1., 0., 0., 0.],\n",
       "       [0., 1., 0., 0.],\n",
       "       [0., 0., 1., 0.],\n",
       "       [0., 0., 0., 1.]])"
      ]
     },
     "metadata": {},
     "output_type": "display_data"
    }
   ],
   "source": [
    "# 단위행렬 or 항등행렬: 주 대각선 원소가 1인 대각정방행렬\n",
    "# 행렬 내적에서 항등원으로 작용한다. 마치 1을 곱한 것과 같이, 곱해도 피승수가 나오는 행렬.\n",
    "display(np.eye(4),\n",
    "        np.identity(4))"
   ]
  },
  {
   "cell_type": "markdown",
   "id": "5f3ade3a",
   "metadata": {},
   "source": [
    "#### 벡터와 행렬의 연산\n",
    "- 벡터/행렬의 덧셈과 뺄셈 : 같은 위치에 있는 원소끼리 수행. 요소별 연산\n",
    "- 스칼라와 벡터/행렬의 곱셈\n",
    "- 브로드캐스팅 : 스칼라를 벡터로 변환한 연산을 허용\n",
    "- 벡터와 벡터의 곱셈. 내적\n",
    " - 두 벡터의 차원(길이)이 같아야 한다.\n",
    " - 앞의 벡터가 행벡터이고 위의 벡터가 열벡터여야 한다.\n",
    " - 내적의 결과는 스칼라 값이 됨. dot() 또는 @ 연산자로 계산\n"
   ]
  },
  {
   "cell_type": "code",
   "execution_count": 5,
   "id": "bfc28909",
   "metadata": {},
   "outputs": [],
   "source": [
    "scalar = 5\n",
    "vector = [1,2,3]\n",
    "matrix = [[1,2,3],[4,5,6]]\n",
    "# 이 모든 것은 텐서라고 칭할 수도 있다.\n",
    "# 텐서: 같은 크기의 행렬이 여러 개 같이 묶여 있는 것. 쉽게 말해 다차원 배열."
   ]
  },
  {
   "cell_type": "markdown",
   "id": "852f84b9",
   "metadata": {},
   "source": [
    "#### 쬬교's comment\n",
    "벡터 개념을 다차원으로 끌고가기 위한 정의가 텐서이고,  \n",
    "이렇게 정의하면 0차원 텐서는 스칼라, 1차원 텐서는 벡터,  \n",
    "2차원 텐서는 공간벡터 등으로 설명될 수 있다.  \n",
    "  \n",
    "3차원 텐서부터는 정해진 이름이 없습니다.  \n",
    "마치 4차원을 표현할 수 없는 것처럼요.  \n",
    "수리물리학에서는 N차 텐서로 표현했던 듯합니다.  \n",
    "아까 텐서 설명에 제가 2차 텐서부터 공간벡터로 말씀드림은.  \n",
    "면부터는 공간의 개념이 들어가기 때문에 그랬습니다.  \n",
    "1차 텐서는 확실히 벡터 개념이나, 그 이상부터는 엄밀히 말하면 n차 텐서로 표현해야 합니다.  \n",
    "텐서의 완전한 이해는 조금 어려우실 수 있어서 우선 느낌으로 받아들이시고 가시는 게 좋아보입니다.\n"
   ]
  },
  {
   "cell_type": "code",
   "execution_count": 6,
   "id": "6c3a4a04",
   "metadata": {},
   "outputs": [
    {
     "name": "stdout",
     "output_type": "stream",
     "text": [
      "[10 12 14 16 18] [10 10 10 10 10]\n"
     ]
    }
   ],
   "source": [
    "x = np.array([10,11,12,13,14])\n",
    "y = np.array([0,1,2,3,4])\n",
    "print(x+y, x-y)"
   ]
  },
  {
   "cell_type": "code",
   "execution_count": 7,
   "id": "0fbdfd56",
   "metadata": {},
   "outputs": [
    {
     "data": {
      "text/plain": [
       "array([[14, 24],\n",
       "       [34, 44]])"
      ]
     },
     "execution_count": 7,
     "metadata": {},
     "output_type": "execute_result"
    }
   ],
   "source": [
    "a = np.array([[5,6],[7,8]])\n",
    "b = np.array([[10,20],[30,40]])\n",
    "c = np.array([[1,2],[3,4]])\n",
    "a+b-c"
   ]
  },
  {
   "cell_type": "code",
   "execution_count": 8,
   "id": "4c6224c0",
   "metadata": {},
   "outputs": [
    {
     "data": {
      "text/plain": [
       "array([[ 8,  9],\n",
       "       [10, 11]])"
      ]
     },
     "metadata": {},
     "output_type": "display_data"
    },
    {
     "data": {
      "text/plain": [
       "array([[1., 2.],\n",
       "       [3., 4.]])"
      ]
     },
     "metadata": {},
     "output_type": "display_data"
    },
    {
     "data": {
      "text/plain": [
       "array([[2, 4],\n",
       "       [6, 8]])"
      ]
     },
     "metadata": {},
     "output_type": "display_data"
    }
   ],
   "source": [
    "# 브로드캐스팅\n",
    "display(a+3, b/10, c*2) "
   ]
  },
  {
   "cell_type": "markdown",
   "id": "602dfb82",
   "metadata": {},
   "source": [
    "행렬 곱을 응용하여 신경망에 적용  \n",
    "두 번째 행렬을 '가중치'라고 생각하면  \n",
    "화살표 위의 숫자가 두 번째 행렬, 즉 가중치\n",
    "<img src='행렬곱.jpg' width=300px>"
   ]
  },
  {
   "cell_type": "code",
   "execution_count": 9,
   "id": "f55465c0",
   "metadata": {},
   "outputs": [
    {
     "data": {
      "text/plain": [
       "array([[ 28,  50],\n",
       "       [ 31, 120]])"
      ]
     },
     "execution_count": 9,
     "metadata": {},
     "output_type": "execute_result"
    }
   ],
   "source": [
    "x = np.array([2,6,4,8,5,9]).reshape(2,3)\n",
    "y = np.array([[3,7],[5,2],[-2,6]])\n",
    "np.dot(x,y)"
   ]
  },
  {
   "cell_type": "code",
   "execution_count": 10,
   "id": "aadd74d0",
   "metadata": {},
   "outputs": [
    {
     "data": {
      "text/plain": [
       "array([[ 28,  50],\n",
       "       [ 31, 120]])"
      ]
     },
     "execution_count": 10,
     "metadata": {},
     "output_type": "execute_result"
    }
   ],
   "source": [
    "# 행렬의 내적은 np.dot() 말고도 @를 써도 가능하답니다\n",
    "x@y"
   ]
  },
  {
   "cell_type": "code",
   "execution_count": 11,
   "id": "86d68b0b",
   "metadata": {},
   "outputs": [
    {
     "data": {
      "text/plain": [
       "array([[32]])"
      ]
     },
     "metadata": {},
     "output_type": "display_data"
    },
    {
     "data": {
      "text/plain": [
       "array([[ 4,  5,  6],\n",
       "       [ 8, 10, 12],\n",
       "       [12, 15, 18]])"
      ]
     },
     "metadata": {},
     "output_type": "display_data"
    }
   ],
   "source": [
    "x = np.array([[1],[2],[3]]) # (3,1) 벡터\n",
    "y = np.array([[4],[5],[6]])\n",
    "display(x.T@y, x@y.T)\n",
    "# x.T@y → (1,3)*(3,1) = (1,1)\n",
    "# x@y.T → (3,1)*(1,3) = (3,3)"
   ]
  },
  {
   "cell_type": "code",
   "execution_count": 12,
   "id": "ea4520df",
   "metadata": {},
   "outputs": [
    {
     "name": "stdout",
     "output_type": "stream",
     "text": [
      "(3,) [1 2 3]\n"
     ]
    }
   ],
   "source": [
    "# 1차원 ndarray는 전치연산이 정의되지 않는다.\n",
    "x = np.array([1,2,3])\n",
    "print(x.shape, x.T)"
   ]
  },
  {
   "cell_type": "code",
   "execution_count": 13,
   "id": "9ee2ac38",
   "metadata": {},
   "outputs": [
    {
     "data": {
      "text/plain": [
       "32"
      ]
     },
     "execution_count": 13,
     "metadata": {},
     "output_type": "execute_result"
    }
   ],
   "source": [
    "x = np.array([1,2,3])\n",
    "y = np.array([4,5,6])\n",
    "x@y # (3,)*(3,)=(1,)"
   ]
  },
  {
   "cell_type": "code",
   "execution_count": 14,
   "id": "e3491511",
   "metadata": {},
   "outputs": [
    {
     "name": "stdout",
     "output_type": "stream",
     "text": [
      "총 매수금액: 870원\n"
     ]
    }
   ],
   "source": [
    "# 주식가격 p, 주식 수 n일 때 매수 금액을 내적으로 구해 보자.\n",
    "p = np.array([100,80,50])\n",
    "n = np.array([3,4,5])\n",
    "print(f'총 매수금액: {p@n}원')"
   ]
  },
  {
   "cell_type": "code",
   "execution_count": 15,
   "id": "1e4c9248",
   "metadata": {},
   "outputs": [
    {
     "name": "stdout",
     "output_type": "stream",
     "text": [
      "[[ 0.  0.  5. 13.  9.  1.  0.  0.]\n",
      " [ 0.  0. 13. 15. 10. 15.  5.  0.]\n",
      " [ 0.  3. 15.  2.  0. 11.  8.  0.]\n",
      " [ 0.  4. 12.  0.  0.  8.  8.  0.]\n",
      " [ 0.  5.  8.  0.  0.  9.  8.  0.]\n",
      " [ 0.  4. 11.  0.  1. 12.  7.  0.]\n",
      " [ 0.  2. 14.  5. 10. 12.  0.  0.]\n",
      " [ 0.  0.  6. 13. 10.  0.  0.  0.]]\n",
      "(8, 8)\n",
      "[0.]\n"
     ]
    },
    {
     "data": {
      "image/png": "[encoded data removed]",
      "text/plain": [
       "<Figure size 72x72 with 1 Axes>"
      ]
     },
     "metadata": {
      "needs_background": "light"
     },
     "output_type": "display_data"
    }
   ],
   "source": [
    "from sklearn.datasets import load_digits\n",
    "import matplotlib.gridspec as gridspec\n",
    "\n",
    "digits = load_digits()\n",
    "d1 = digits.images[0]\n",
    "print(d1)\n",
    "print(d1.shape)\n",
    "v1 = d1.reshape(64,1)\n",
    "print(v1[0,:])\n",
    "plt.figure(figsize=(1,1))\n",
    "plt.imshow(d1, aspect=1,\n",
    "          interpolation='nearest', cmap=plt.cm.bone_r)\n",
    "plt.show()"
   ]
  },
  {
   "cell_type": "code",
   "execution_count": 16,
   "id": "e1c57804",
   "metadata": {},
   "outputs": [
    {
     "data": {
      "image/png": "[encoded data removed]",
      "text/plain": [
       "<Figure size 432x288 with 1 Axes>"
      ]
     },
     "metadata": {
      "needs_background": "light"
     },
     "output_type": "display_data"
    }
   ],
   "source": [
    "# 64 길이의 1차원 벡터로 펼쳐보자.\n",
    "plt.imshow(v1, aspect=1,\n",
    "          interpolation='nearest', cmap=plt.cm.bone_r)\n",
    "plt.show()"
   ]
  },
  {
   "cell_type": "code",
   "execution_count": 17,
   "id": "cb59ef39",
   "metadata": {},
   "outputs": [
    {
     "data": {
      "image/png": "[encoded data removed]",
      "text/plain": [
       "<Figure size 648x648 with 8 Axes>"
      ]
     },
     "metadata": {},
     "output_type": "display_data"
    }
   ],
   "source": [
    "from sklearn.datasets import load_digits\n",
    "import matplotlib.gridspec as gridspec\n",
    "\n",
    "digits = load_digits()\n",
    "d1 = digits.images[0] # 1번째 0 손글씨\n",
    "d2 = digits.images[10] # 2번째 0 손글씨\n",
    "d3 = digits.images[1] # 1번째 1 손글씨\n",
    "d4 = digits.images[11] # 2번째 1 손글씨\n",
    "v1 = d1.reshape(64, 1)\n",
    "v2 = d2.reshape(64, 1)\n",
    "v3 = d3.reshape(64, 1)\n",
    "v4 = d4.reshape(64, 1)\n",
    "\n",
    "plt.figure(figsize=(9, 9))\n",
    "gs = gridspec.GridSpec(1, 8, height_ratios=[1],\n",
    "                       width_ratios=[9, 1, 9, 1, 9, 1, 9, 1])\n",
    "for i in range(4):\n",
    "    plt.subplot(gs[2 * i])\n",
    "    plt.imshow(eval(\"d\" + str(i + 1)), aspect=1,\n",
    "               interpolation='nearest', cmap=plt.cm.bone_r)\n",
    "    plt.grid(False)\n",
    "    plt.xticks([])\n",
    "    plt.yticks([])\n",
    "    plt.title(\"image {}\".format(i + 1))\n",
    "    plt.subplot(gs[2 * i + 1])\n",
    "    plt.imshow(eval(\"v\" + str(i + 1)), aspect=0.25,\n",
    "               interpolation='nearest', cmap=plt.cm.bone_r)\n",
    "    plt.grid(False)\n",
    "    plt.xticks([])\n",
    "    plt.yticks([])\n",
    "    plt.title(\"vector {}\".format(i + 1))\n",
    "plt.tight_layout()\n",
    "plt.show()\n"
   ]
  },
  {
   "cell_type": "code",
   "execution_count": 18,
   "id": "bc42c429",
   "metadata": {},
   "outputs": [
    {
     "data": {
      "text/plain": [
       "array([[ 0.,  0.,  5., 13.,  9.,  1.,  0.,  0.,  0.,  0., 13., 15., 10.,\n",
       "        15.,  5.,  0.,  0.,  3., 15.,  2.,  0., 11.,  8.,  0.,  0.,  4.,\n",
       "        12.,  0.,  0.,  8.,  8.,  0.,  0.,  5.,  8.,  0.,  0.,  9.,  8.,\n",
       "         0.,  0.,  4., 11.,  0.,  1., 12.,  7.,  0.,  0.,  2., 14.,  5.,\n",
       "        10., 12.,  0.,  0.,  0.,  0.,  6., 13., 10.,  0.,  0.,  0.]])"
      ]
     },
     "execution_count": 18,
     "metadata": {},
     "output_type": "execute_result"
    }
   ],
   "source": [
    "v1.T"
   ]
  },
  {
   "cell_type": "code",
   "execution_count": 19,
   "id": "a278970d",
   "metadata": {},
   "outputs": [
    {
     "data": {
      "text/plain": [
       "array([[1866.]])"
      ]
     },
     "execution_count": 19,
     "metadata": {},
     "output_type": "execute_result"
    }
   ],
   "source": [
    "v1.T@v3"
   ]
  },
  {
   "cell_type": "code",
   "execution_count": 20,
   "id": "6de74ccf",
   "metadata": {},
   "outputs": [
    {
     "data": {
      "text/plain": [
       "(64, 64)"
      ]
     },
     "execution_count": 20,
     "metadata": {},
     "output_type": "execute_result"
    }
   ],
   "source": [
    "(v1@v3.T).shape"
   ]
  },
  {
   "cell_type": "code",
   "execution_count": 21,
   "id": "8030b94d",
   "metadata": {},
   "outputs": [
    {
     "data": {
      "image/png": "[encoded data removed]",
      "text/plain": [
       "<Figure size 432x288 with 3 Axes>"
      ]
     },
     "metadata": {},
     "output_type": "display_data"
    }
   ],
   "source": [
    "from sklearn.datasets import fetch_olivetti_faces\n",
    "faces = fetch_olivetti_faces()\n",
    "\n",
    "fig, ax = plt.subplots(1,3)\n",
    "\n",
    "ax[0].imshow(faces.images[6], cmap = plt.cm.bone)\n",
    "ax[0].grid(False)\n",
    "ax[0].set_xticks([])\n",
    "ax[0].set_yticks([])\n",
    "ax[0].set_title('Image 1:$x_1$')\n",
    "\n",
    "ax[1].imshow(faces.images[53], cmap = plt.cm.bone)\n",
    "ax[1].grid(False)\n",
    "ax[1].set_xticks([])\n",
    "ax[1].set_yticks([])\n",
    "ax[1].set_title('Image 2:$x_2$')\n",
    "\n",
    "new_face = 0.6*faces.images[6] + 0.4*faces.images[53]\n",
    "ax[2].imshow(new_face, cmap = plt.cm.bone)\n",
    "ax[2].grid(False)\n",
    "ax[2].set_xticks([])\n",
    "ax[2].set_yticks([])\n",
    "ax[2].set_title('Image 3:$0.6x_1+0.4x_2$')\n",
    "\n",
    "plt.show()"
   ]
  },
  {
   "cell_type": "code",
   "execution_count": 22,
   "id": "db9a61fd",
   "metadata": {},
   "outputs": [],
   "source": [
    "# 행렬과 행렬의 곱셈: 앞행 열의 수와 뒷행 행의 수가 일치해야 가능함"
   ]
  },
  {
   "cell_type": "markdown",
   "id": "d952caf0",
   "metadata": {},
   "source": [
    "#### 행렬의 교환 법칙과 분배 법칙\n",
    "    행렬의 곱셈은 곱하는 행렬의 순서를 바꾸는 교환 법칙이 성립하지 않는다.\n",
    "    그러나 덧셈, 뺄셈에 대한 분배법칙은 성립한다.\n",
    "$AB\\neq BA$  \n",
    "$A(B+C)=AB+AC$  \n",
    "$(A+B)C=AC+BC$  "
   ]
  },
  {
   "cell_type": "code",
   "execution_count": 33,
   "id": "536a315b",
   "metadata": {},
   "outputs": [
    {
     "data": {
      "text/plain": [
       "array([[19, 22],\n",
       "       [43, 50]])"
      ]
     },
     "metadata": {},
     "output_type": "display_data"
    },
    {
     "data": {
      "text/plain": [
       "array([[23, 34],\n",
       "       [31, 46]])"
      ]
     },
     "metadata": {},
     "output_type": "display_data"
    },
    {
     "data": {
      "text/plain": [
       "array([[42, 42],\n",
       "       [98, 98]])"
      ]
     },
     "metadata": {},
     "output_type": "display_data"
    },
    {
     "data": {
      "text/plain": [
       "array([[42, 42],\n",
       "       [98, 98]])"
      ]
     },
     "metadata": {},
     "output_type": "display_data"
    },
    {
     "data": {
      "text/plain": [
       "array([[-64, -56],\n",
       "       [-64, -56]])"
      ]
     },
     "metadata": {},
     "output_type": "display_data"
    },
    {
     "data": {
      "text/plain": [
       "array([[-64, -56],\n",
       "       [-64, -56]])"
      ]
     },
     "metadata": {},
     "output_type": "display_data"
    }
   ],
   "source": [
    "# [연습문제] 행렬 곱셈의 교환법칙과 분배법칙의 사례를 보여주세요.\n",
    "a = np.arange(1,5).reshape(2,2)\n",
    "b = np.arange(5,9).reshape(2,2)\n",
    "c = np.arange(9,5,-1).reshape(2,2)\n",
    "\n",
    "display(a@b, b@a, a@(b+c), a@b+a@c, (a-b)@c, a@c-b@c)"
   ]
  },
  {
   "cell_type": "code",
   "execution_count": 34,
   "id": "cc4588de",
   "metadata": {},
   "outputs": [
    {
     "data": {
      "text/plain": [
       "array([[1., 2.],\n",
       "       [3., 4.]])"
      ]
     },
     "metadata": {},
     "output_type": "display_data"
    },
    {
     "data": {
      "text/plain": [
       "array([[1., 2.],\n",
       "       [3., 4.]])"
      ]
     },
     "metadata": {},
     "output_type": "display_data"
    }
   ],
   "source": [
    "# [연습문제] 어떤 행렬이든 항등행렬을 곱하면 그 행렬의 값은 변하지 않는다는 사례를 보여주세요.\n",
    "display(a@np.eye(2), np.eye(2)@a)"
   ]
  },
  {
   "cell_type": "markdown",
   "id": "f9592f9e",
   "metadata": {},
   "source": [
    "#### 전치 연산의 분배법칙\n",
    "    전치 연산에서도 덧셈, 뺄셈에 대한 분배 법칙이 성립하지만,\n",
    "    곱셈의 경우 전치 연산이 분배되면서 곱셈의 순서가 바뀜에 늘 유의하자.\n",
    "$(A+B)^T=A^T+B^T$  \n",
    "$(AB)^T=B^TA^T$  \n",
    "$(ABC)^T=C^TB^TA^T$"
   ]
  },
  {
   "cell_type": "code",
   "execution_count": 31,
   "id": "a6e3433e",
   "metadata": {},
   "outputs": [
    {
     "data": {
      "text/plain": [
       "array([[ 6, 10],\n",
       "       [ 8, 12]])"
      ]
     },
     "metadata": {},
     "output_type": "display_data"
    },
    {
     "data": {
      "text/plain": [
       "array([[ 6, 10],\n",
       "       [ 8, 12]])"
      ]
     },
     "metadata": {},
     "output_type": "display_data"
    },
    {
     "data": {
      "text/plain": [
       "array([[325, 737],\n",
       "       [284, 644]])"
      ]
     },
     "metadata": {},
     "output_type": "display_data"
    },
    {
     "data": {
      "text/plain": [
       "array([[325, 737],\n",
       "       [284, 644]])"
      ]
     },
     "metadata": {},
     "output_type": "display_data"
    }
   ],
   "source": [
    "# 위의 명제 검증\n",
    "display((a+b).T, a.T+b.T, (a@b@c).T, c.T@b.T@a.T)"
   ]
  },
  {
   "cell_type": "markdown",
   "id": "c8df58d9",
   "metadata": {},
   "source": [
    "#### 행렬 놈(노름, norm)\n",
    "- 벡터의 놈은 다음 4가지 성질을 만족하면서 벡터에서 실수 값을 연결하는 함수로 정의하고, \\||x||로 표기한다.\n",
    "\n",
    "           1. ||x||은 음수가 아닌 실수값이다. 즉, ||x||>=0\n",
    "           2. x = 0일때만 ||x|| = 0 이다.\n",
    "           3. 스칼라 a에 대해서 ||ax|| = |a|||x|| 가 성립한다.\n",
    "           4. ||x+y|| <= ||x|| + ||y|| 이 성립한다..\n",
    "\n",
    "- 위 4가지 성질을 만족하기만 하면 놈이라고 할 수 있는데, 많이 사용되는 놈은 다음 세 가지이다. 놈을 구별하기 위하여 아래 첨자를 사용하고, $||x||_1$을 1-놈, $||x||_2$ 를 2-놈, $||x||_\\infty$를 3-놈이라고 한다.\n",
    "- 1-놈($L_1 norm$)은 벡터 $x$의 성분의 절대값을 모두 더한 것(맨해튼 거리, 맨해튼 놈)으로,  \n",
    "2-놈($L_2 norm$)은 벡터의 기하학적 길이(유클리드 거리, 유클리드 놈)로,  \n",
    "$\\infty$-놈($L_\\infty norm$)은 벡터 성분 중에서 크기가 제일 큰 값으로 정의한다.\n",
    "- p = 2인 경우가 가장 많이 쓰이므로 p값 표기가 없는 경우 p=2인 프로베니우스 놈을 사용한다.\n",
    "- numpy에서는 linalg 서브패키지의 norm() 명령어로 연산 가능.\n",
    "\n",
    "https://bskyvision.com/825  \n",
    "https://pasus.tistory.com/34  \n",
    "https://jimmy-ai.tistory.com/81"
   ]
  },
  {
   "cell_type": "code",
   "execution_count": 35,
   "id": "a1f81256",
   "metadata": {},
   "outputs": [
    {
     "data": {
      "text/plain": [
       "array([[-4, -3, -2],\n",
       "       [-1,  0,  1],\n",
       "       [ 2,  3,  4]])"
      ]
     },
     "execution_count": 35,
     "metadata": {},
     "output_type": "execute_result"
    }
   ],
   "source": [
    "A = (np.arange(9)-4).reshape(3,-1)\n",
    "A"
   ]
  },
  {
   "cell_type": "code",
   "execution_count": 37,
   "id": "73c97e38",
   "metadata": {},
   "outputs": [
    {
     "data": {
      "text/plain": [
       "7.745966692414834"
      ]
     },
     "execution_count": 37,
     "metadata": {},
     "output_type": "execute_result"
    }
   ],
   "source": [
    "# linalg - linear algebra의 준말이라 생각하면 외우지 않아도 이해할 수 있다.\n",
    "np.linalg.norm(A)"
   ]
  },
  {
   "cell_type": "code",
   "execution_count": 39,
   "id": "8d3ea3b1",
   "metadata": {},
   "outputs": [
    {
     "data": {
      "text/plain": [
       "5.0"
      ]
     },
     "execution_count": 39,
     "metadata": {},
     "output_type": "execute_result"
    }
   ],
   "source": [
    "# 따로 p값을 지정 안 해주면 유클리드 거리로 계산한다. 피타고라스 정리처럼.\n",
    "np.linalg.norm([3,4])"
   ]
  },
  {
   "cell_type": "markdown",
   "id": "65a83fd8",
   "metadata": {},
   "source": [
    "#### 대각합\n",
    "    정방행렬에서만 정의되는, 대각원소들의 합\n",
    "tr$(cA)=c$ tr$(A)$\n"
   ]
  },
  {
   "cell_type": "code",
   "execution_count": 40,
   "id": "fde16c9a",
   "metadata": {},
   "outputs": [
    {
     "data": {
      "text/plain": [
       "3.0"
      ]
     },
     "execution_count": 40,
     "metadata": {},
     "output_type": "execute_result"
    }
   ],
   "source": [
    "np.trace(np.eye(3))"
   ]
  },
  {
   "cell_type": "markdown",
   "id": "72aa7f3c",
   "metadata": {},
   "source": [
    "#### 행렬식\n",
    "\n",
    "https://ratsgo.github.io/linear%20algebra/2017/05/21/determinants/  \n",
    "https://www.youtube.com/watch?v=fuVMiyahzH4"
   ]
  },
  {
   "cell_type": "code",
   "execution_count": 46,
   "id": "afdcc081",
   "metadata": {},
   "outputs": [
    {
     "name": "stdout",
     "output_type": "stream",
     "text": [
      "[[1 2 3]\n",
      " [4 5 6]\n",
      " [7 8 9]]\n"
     ]
    },
    {
     "data": {
      "text/plain": [
       "6.66133814775094e-16"
      ]
     },
     "execution_count": 46,
     "metadata": {},
     "output_type": "execute_result"
    }
   ],
   "source": [
    "A_ = np.array([[1,2,3],[4,5,6],[7,8,9]])\n",
    "print(A_)\n",
    "np.linalg.det(A_)"
   ]
  },
  {
   "cell_type": "code",
   "execution_count": 55,
   "id": "633af320",
   "metadata": {},
   "outputs": [
    {
     "name": "stdout",
     "output_type": "stream",
     "text": [
      "0\n",
      "0\n"
     ]
    }
   ],
   "source": [
    "print(1*(45-48)-2*(36-42)+3*(32-35)) # 1행을 기준\n",
    "print(1*(45-48)-4*(18-24)+7*(12-15)) # 1열을 기준\n",
    "# 행렬식은 어떤 행, 렬을 기준으로 잡아도 그 값이 같다.\n",
    "# 수기로 구할 때는 부호가 왔다리 갔다리 하는 걸로 이해하면 됨\n",
    "# -1의 (n+1)승이라서."
   ]
  },
  {
   "cell_type": "markdown",
   "id": "82569a6d",
   "metadata": {},
   "source": [
    "#### 선형 연립방정식\n",
    "- 선형예측모형은 입력 데이터 벡터와 가중치 벡터의 내적으로 계산된 예측값이 실제 출력 데이터와 유사한 값을 출력하도록 하는 모형\n",
    "- 연립방정식과 역행렬을 이용하여 선형 예측 모형의 가중치 벡터를 구할 수 있다.  \n",
    "\n",
    "#### 역행렬\n",
    "- 정방행렬에 대한 역행렬은 원래의 행렬과 다음 관계를 만족하는 정방행렬을 의미  \n",
    "$A^{-1}A = AA^{-1} = I$ (여기서 $I$는 항등행렬)\n"
   ]
  },
  {
   "cell_type": "code",
   "execution_count": 48,
   "id": "96a57f87",
   "metadata": {},
   "outputs": [
    {
     "name": "stdout",
     "output_type": "stream",
     "text": [
      "[[1 2 1]\n",
      " [2 2 3]\n",
      " [1 3 1]]\n",
      "[[ 7. -1. -4.]\n",
      " [-1.  0.  1.]\n",
      " [-4.  1.  2.]]\n"
     ]
    }
   ],
   "source": [
    "np.random.seed(0)\n",
    "mt1 = np.random.randint(1,4,size=(3,3))\n",
    "print(mt1)\n",
    "mt2 = np.linalg.inv(mt1)\n",
    "print(mt2)"
   ]
  },
  {
   "cell_type": "code",
   "execution_count": 49,
   "id": "785cf146",
   "metadata": {
    "scrolled": false
   },
   "outputs": [
    {
     "data": {
      "text/plain": [
       "array([[1., 0., 0.],\n",
       "       [0., 1., 0.],\n",
       "       [0., 0., 1.]])"
      ]
     },
     "execution_count": 49,
     "metadata": {},
     "output_type": "execute_result"
    }
   ],
   "source": [
    "mt1@mt2"
   ]
  },
  {
   "cell_type": "markdown",
   "id": "021e5b84",
   "metadata": {},
   "source": [
    "#### np.dot()과 np.matmul()의 차이\n",
    "https://m.blog.naver.com/PostView.naver?isHttpsRedirect=true&blogId=cjh226&logNo=221356884894\n",
    "<img src='matmul.png'>"
   ]
  },
  {
   "cell_type": "code",
   "execution_count": 51,
   "id": "9d7e9e5a",
   "metadata": {},
   "outputs": [
    {
     "data": {
      "text/plain": [
       "array([[1., 0., 0.],\n",
       "       [0., 1., 0.],\n",
       "       [0., 0., 1.]])"
      ]
     },
     "metadata": {},
     "output_type": "display_data"
    },
    {
     "data": {
      "text/plain": [
       "array([[1., 0., 0.],\n",
       "       [0., 1., 0.],\n",
       "       [0., 0., 1.]])"
      ]
     },
     "metadata": {},
     "output_type": "display_data"
    }
   ],
   "source": [
    "display(np.dot(mt1, mt2), np.matmul(mt1,mt2))"
   ]
  },
  {
   "cell_type": "code",
   "execution_count": 50,
   "id": "fa0d06b0",
   "metadata": {},
   "outputs": [
    {
     "name": "stdout",
     "output_type": "stream",
     "text": [
      "[[[ 0  1  2]\n",
      "  [ 3  4  5]]\n",
      "\n",
      " [[ 6  7  8]\n",
      "  [ 9 10 11]]\n",
      "\n",
      " [[12 13 14]\n",
      "  [15 16 17]]]\n",
      "[[[ 0  1]\n",
      "  [ 2  3]\n",
      "  [ 4  5]]\n",
      "\n",
      " [[ 6  7]\n",
      "  [ 8  9]\n",
      "  [10 11]]\n",
      "\n",
      " [[12 13]\n",
      "  [14 15]\n",
      "  [16 17]]]\n"
     ]
    }
   ],
   "source": [
    "# np.dot() vs. np.matmul()\n",
    "a1 = np.arange(18).reshape(3,2,3)\n",
    "a2 = np.arange(18).reshape(3,3,2)\n",
    "print(a1)\n",
    "print(a2)"
   ]
  },
  {
   "cell_type": "code",
   "execution_count": 54,
   "id": "2f6563f2",
   "metadata": {},
   "outputs": [
    {
     "data": {
      "text/plain": [
       "array([[[[ 10,  13],\n",
       "         [ 28,  31],\n",
       "         [ 46,  49]],\n",
       "\n",
       "        [[ 28,  40],\n",
       "         [100, 112],\n",
       "         [172, 184]]],\n",
       "\n",
       "\n",
       "       [[[ 46,  67],\n",
       "         [172, 193],\n",
       "         [298, 319]],\n",
       "\n",
       "        [[ 64,  94],\n",
       "         [244, 274],\n",
       "         [424, 454]]],\n",
       "\n",
       "\n",
       "       [[[ 82, 121],\n",
       "         [316, 355],\n",
       "         [550, 589]],\n",
       "\n",
       "        [[100, 148],\n",
       "         [388, 436],\n",
       "         [676, 724]]]])"
      ]
     },
     "metadata": {},
     "output_type": "display_data"
    },
    {
     "data": {
      "text/plain": [
       "array([[[ 10,  13],\n",
       "        [ 28,  40]],\n",
       "\n",
       "       [[172, 193],\n",
       "        [244, 274]],\n",
       "\n",
       "       [[550, 589],\n",
       "        [676, 724]]])"
      ]
     },
     "metadata": {},
     "output_type": "display_data"
    },
    {
     "data": {
      "text/plain": [
       "(3, 2, 3, 2)"
      ]
     },
     "metadata": {},
     "output_type": "display_data"
    },
    {
     "data": {
      "text/plain": [
       "(3, 2, 2)"
      ]
     },
     "metadata": {},
     "output_type": "display_data"
    }
   ],
   "source": [
    "# 2차원에서는 두 함수가 결과값이 같았지만 3차원 이상부터는 얘기가 달라진다.\n",
    "display(np.dot(a1,a2), np.matmul(a1,a2))\n",
    "display(np.dot(a1,a2).shape, np.matmul(a1,a2).shape)\n",
    "# 전자의 경우 3차원 곱이 4차원이 되었고, 후자는 차원이 유지됨."
   ]
  },
  {
   "cell_type": "code",
   "execution_count": null,
   "id": "89af3f78",
   "metadata": {},
   "outputs": [],
   "source": []
  },
  {
   "cell_type": "code",
   "execution_count": null,
   "id": "dba440d1",
   "metadata": {},
   "outputs": [],
   "source": []
  },
  {
   "cell_type": "code",
   "execution_count": null,
   "id": "4608882d",
   "metadata": {},
   "outputs": [],
   "source": []
  },
  {
   "cell_type": "code",
   "execution_count": null,
   "id": "85a1d2a7",
   "metadata": {},
   "outputs": [],
   "source": []
  },
  {
   "cell_type": "code",
   "execution_count": null,
   "id": "7c883c71",
   "metadata": {},
   "outputs": [],
   "source": []
  },
  {
   "cell_type": "code",
   "execution_count": null,
   "id": "fae48600",
   "metadata": {},
   "outputs": [],
   "source": []
  },
  {
   "cell_type": "code",
   "execution_count": null,
   "id": "a4c8b050",
   "metadata": {},
   "outputs": [],
   "source": []
  },
  {
   "cell_type": "code",
   "execution_count": null,
   "id": "851913e0",
   "metadata": {},
   "outputs": [],
   "source": []
  },
  {
   "cell_type": "code",
   "execution_count": null,
   "id": "91e2c2de",
   "metadata": {},
   "outputs": [],
   "source": []
  },
  {
   "cell_type": "code",
   "execution_count": null,
   "id": "13651a86",
   "metadata": {},
   "outputs": [],
   "source": []
  }
 ],
 "metadata": {
  "kernelspec": {
   "display_name": "Python 3 (ipykernel)",
   "language": "python",
   "name": "python3"
  },
  "language_info": {
   "codemirror_mode": {
    "name": "ipython",
    "version": 3
   },
   "file_extension": ".py",
   "mimetype": "text/x-python",
   "name": "python",
   "nbconvert_exporter": "python",
   "pygments_lexer": "ipython3",
   "version": "3.8.12"
  }
 },
 "nbformat": 4,
 "nbformat_minor": 5
}
