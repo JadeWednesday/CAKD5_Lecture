{
 "cells": [
  {
   "cell_type": "markdown",
   "id": "713ef88d",
   "metadata": {},
   "source": [
    "##### [과제] 산탄데르 고객 만족 데이터 세트에 대하여 고객 만족 여부를 XGBoost와 LightGBM을 활용해 예측을 수행하세요.\n",
    "단, 성능 개선을 위한 튜닝 및 중요 변수들에 대한 시각화 포함"
   ]
  },
  {
   "cell_type": "markdown",
   "id": "7a510ee5",
   "metadata": {},
   "source": [
    "xgb_clf = XGBClassifier(n_estimators = 500, n_jobs = -1, tree_method ='gpu_hist', gpu_id=0, random_state = 156)  \n",
    "이렇게 쓰면 gpu 풀가동합니다  \n",
    "cpu도 같이 풀가동 하구요  \n",
    "\n",
    "최신 버전에서는 지원한다고 들었는데  \n",
    "LGB는 뭐 깔아야 한대서 안했는데 ㅋㅋㅋ  \n",
    "\n",
    "나도 그래서 lgb는 안함  \n",
    "쓰려면 귀찮아보이길래  \n",
    "조남현님이 모두에게 09:44 AM  \n",
    "LGBM에서는 var15가 가장 중요하게 나옵니당  \n",
    "https://www.inflearn.com/questions/27184  \n",
    "저자 피셜이 담긴 링크입니다. 첫번째 답변과 밑에 두번째 답변까지 읽어보시면 이해가 가실겁니당  \n",
    "트레인, 트레인시 가중치검증, 모델 테스트 3개의 데이터가 필요하다고 합니다, 좀 더 명확히 하려면 트레인데이터를 또 트레인과 검증데이터로 추가적으로 나눠서 진행해야 한다고 합니다.  \n",
    "데이터 수가 많지 않아서 그냥 테스트 데이터를 검증 데이터로 사용했다고 합니다.  \n",
    "\n",
    "\n",
    "  \n",
    "교재 256, 257 페이지 참고  \n",
    "최종 평가할 때 테스트 데이터를 사용해야 하는데 여긴 데이터 크기가 적어서 테스트를 미리 갖다 썼대. 원래는 학습 데이터, 평가 데이터, 최종 테스트 데이터가 다 분리돼 있어야 함."
   ]
  },
  {
   "cell_type": "markdown",
   "id": "39152278",
   "metadata": {},
   "source": [
    "eval_set=[(X_train, y_train), (X_test, y_test)] 에서 트레인이 들어가 있어서 혼동이 더 있는 듯 한데, 뒤에 검증용 데이터만 적어도 상관없습니다.\n"
   ]
  },
  {
   "cell_type": "markdown",
   "id": "5eac35e9",
   "metadata": {},
   "source": [
    "훈련과 검증할 땐 훈련용 데이터만  \n",
    "테스트는 최종 테스트할 때만  \n",
    "\n",
    "실무에서는 학습, 검증(vaild), 평가 이렇게 3개로 나눈다.(교차검증이 별도로 없다면)  \n",
    "지금 난리가 난 이유가, 학습과 평가할 땐 사전 준비된 학습, 평가용 데이터를 써야 하는데  \n",
    "테스트 데이터를 집어 넣어서 추후 평가(테스트)할 때 테스트에도 적합되게끔 해 버렸잖아.  \n",
    "쬬교 코멘트 - 그럼 트레인 데이터를 한번 더 나눠주어 validation 데이터를 만들어야 합니다\n"
   ]
  },
  {
   "cell_type": "code",
   "execution_count": null,
   "id": "c272e687",
   "metadata": {},
   "outputs": [],
   "source": []
  },
  {
   "cell_type": "code",
   "execution_count": null,
   "id": "22dbf06d",
   "metadata": {},
   "outputs": [],
   "source": []
  },
  {
   "cell_type": "code",
   "execution_count": null,
   "id": "99f2a302",
   "metadata": {},
   "outputs": [],
   "source": []
  },
  {
   "cell_type": "code",
   "execution_count": null,
   "id": "74e9b412",
   "metadata": {},
   "outputs": [],
   "source": []
  },
  {
   "cell_type": "code",
   "execution_count": null,
   "id": "eb78704a",
   "metadata": {},
   "outputs": [],
   "source": []
  },
  {
   "cell_type": "code",
   "execution_count": null,
   "id": "17f7ca8c",
   "metadata": {},
   "outputs": [],
   "source": []
  },
  {
   "cell_type": "code",
   "execution_count": null,
   "id": "091baf9e",
   "metadata": {},
   "outputs": [],
   "source": []
  },
  {
   "cell_type": "code",
   "execution_count": null,
   "id": "ba56c2a5",
   "metadata": {},
   "outputs": [],
   "source": []
  },
  {
   "cell_type": "code",
   "execution_count": null,
   "id": "df632e09",
   "metadata": {},
   "outputs": [],
   "source": []
  },
  {
   "cell_type": "code",
   "execution_count": null,
   "id": "7e5aa8bb",
   "metadata": {},
   "outputs": [],
   "source": []
  },
  {
   "cell_type": "code",
   "execution_count": null,
   "id": "5f5becfa",
   "metadata": {},
   "outputs": [],
   "source": []
  },
  {
   "cell_type": "code",
   "execution_count": null,
   "id": "8552d38c",
   "metadata": {},
   "outputs": [],
   "source": []
  },
  {
   "cell_type": "code",
   "execution_count": null,
   "id": "2d877f16",
   "metadata": {},
   "outputs": [],
   "source": []
  },
  {
   "cell_type": "code",
   "execution_count": null,
   "id": "1b0396b2",
   "metadata": {},
   "outputs": [],
   "source": []
  }
 ],
 "metadata": {
  "kernelspec": {
   "display_name": "Python 3 (ipykernel)",
   "language": "python",
   "name": "python3"
  },
  "language_info": {
   "codemirror_mode": {
    "name": "ipython",
    "version": 3
   },
   "file_extension": ".py",
   "mimetype": "text/x-python",
   "name": "python",
   "nbconvert_exporter": "python",
   "pygments_lexer": "ipython3",
   "version": "3.8.12"
  }
 },
 "nbformat": 4,
 "nbformat_minor": 5
}
