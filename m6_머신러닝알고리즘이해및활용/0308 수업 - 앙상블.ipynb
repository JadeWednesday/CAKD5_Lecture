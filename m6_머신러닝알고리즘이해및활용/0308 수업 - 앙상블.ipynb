{
 "cells": [
  {
   "cell_type": "markdown",
   "id": "8dcd7b3f",
   "metadata": {},
   "source": [
    "###  앙상블 학습\n",
    "\n",
    "* 앙상블 학습의 유형은 보팅, 배깅, 부스팅 세가지로 나눌 수 있으며 이외에도 스태깅을 포함한 다양한 앙상블 방법이 있다.\n",
    "* 보팅의 경우 서로 다른 알고리즘을 가진 분류기를 결합하는 것이고 배깅의 경우 각각의 분류기각 모두 같은 유형의 알고리즘 기반이다.\n",
    "* 정형 데이터의 예측 분석 영역에서는 매우 높은 예측 성능. Bagging 과 Boosting\n",
    "* 배깅 방식의 대표인 Random Forest는 뛰어난 예측 성능, 상대적으로 빠른 수행시간, 유연성 등으로 애용.\n",
    "* 부스팅의 효시는 Gradient Boosting, 한 단계 발전시키면서도 시간 단축시킨 XgBoost, LightGBM이 정형 데이터의 분류 영역에서 \n",
    "  활용도 확대\n",
    "* 앙상블의 앙상블이라고 불리는 스태킹 기법\n",
    "* 앙상블의 기본 알고리즘은 결정 트리\n"
   ]
  },
  {
   "cell_type": "markdown",
   "id": "626c2247",
   "metadata": {},
   "source": [
    "#### Voting Classifier\n",
    "- 하드 보팅(Hard Voting): 다수결 원칙, 다수의 분류기가 결정한 예측값을 최종 보팅 결과값으로 선정\n",
    "- 소프트 보팅(Soft Voting): 분류기들의 레이블 값 결정 확률을 모두 더해서 평균을 낸 후  \n",
    "이들 중 가장 높은 레이블 값을 최종 보팅 결과값으로 선정"
   ]
  },
  {
   "cell_type": "code",
   "execution_count": 1,
   "id": "d8fc2d92",
   "metadata": {},
   "outputs": [],
   "source": [
    "import pandas as pd\n",
    "import numpy as np\n",
    "from sklearn.ensemble import VotingClassifier\n",
    "from sklearn.linear_model import LogisticRegression\n",
    "from sklearn.neighbors import KNeighborsClassifier\n",
    "from sklearn.datasets import load_breast_cancer\n",
    "from sklearn.model_selection import train_test_split\n",
    "from sklearn.metrics import accuracy_score\n",
    "import warnings\n",
    "warnings.filterwarnings('ignore')\n",
    "\n",
    "cancer = load_breast_cancer()\n",
    "lr = LogisticRegression()\n",
    "knn = KNeighborsClassifier(n_neighbors = 9) # k(이웃)값은 홀수로 넣어주기!\n",
    "vo = VotingClassifier(estimators=[('LR',lr),('KNN',knn)], voting='soft')\n",
    "# estimators는 분류기. 객체 선언한 거 넣고 보팅 방식(하드/소프트) 구분하여 선언"
   ]
  },
  {
   "cell_type": "code",
   "execution_count": 2,
   "id": "0a4f107d",
   "metadata": {},
   "outputs": [
    {
     "name": "stdout",
     "output_type": "stream",
     "text": [
      "Soft Voting 분류기 정확도: 0.9474\n"
     ]
    }
   ],
   "source": [
    "X_train, X_test, y_train, y_test = train_test_split(cancer.data, cancer.target,\n",
    "                                                   test_size=0.2, random_state=156)\n",
    "vo.fit(X_train, y_train)\n",
    "pred = vo.predict(X_test)\n",
    "print(f'Soft Voting 분류기 정확도: {accuracy_score(y_test, pred):.4f}')"
   ]
  },
  {
   "cell_type": "code",
   "execution_count": 3,
   "id": "cd1a6842",
   "metadata": {},
   "outputs": [
    {
     "name": "stdout",
     "output_type": "stream",
     "text": [
      "LogisticRegression 분류기 정확도: 0.9386\n",
      "KNeighborsClassifier 분류기 정확도: 0.9649\n"
     ]
    }
   ],
   "source": [
    "classifier = [lr, knn]\n",
    "\n",
    "for i in classifier:\n",
    "    i.fit(X_train, y_train)\n",
    "    pred = i.predict(X_test)\n",
    "    class_name = i.__class__.__name__\n",
    "    print(f'{class_name} 분류기 정확도: {accuracy_score(y_test, pred):.4f}')"
   ]
  },
  {
   "cell_type": "markdown",
   "id": "e6abade5",
   "metadata": {},
   "source": [
    "### Random Forest\n",
    "\n",
    "\n",
    "https://eunsukimme.github.io/ml/2019/11/26/Random-Forest/"
   ]
  },
  {
   "cell_type": "code",
   "execution_count": 4,
   "id": "600e2b78",
   "metadata": {},
   "outputs": [],
   "source": [
    "feature_names_df = pd.read_csv('./dataset/human_activity/features.txt',\n",
    "                              sep='\\s+', header=None, names=['column_index','column_name'])\n",
    "\n",
    "def get_new_feature_name_df(old_feature_name_df):\n",
    "    feature_dup_df = pd.DataFrame(data=old_feature_name_df.groupby('column_name').cumcount(),\n",
    "                                 columns=['dup_cnt'])\n",
    "    feature_dup_df = feature_dup_df.reset_index() \n",
    "    new_feature_name_df = pd.merge(old_feature_name_df.reset_index(),feature_dup_df,how='outer')\n",
    "    new_feature_name_df['column_name'] = new_feature_name_df[['column_name',\n",
    "                                                             'dup_cnt']].apply(lambda x:x[0]+'_'+str(x[1])\n",
    "                                                                              if x[1]>0 else x[0], axis=1)\n",
    "    new_feature_name_df = new_feature_name_df.drop(['index'],axis=1)\n",
    "    return new_feature_name_df\n",
    "\n",
    "def get_human_dataset():\n",
    "    feature_names_df = pd.read_csv('./dataset/human_activity/features.txt',\n",
    "                              sep='\\s+', header=None, names=['column_index','column_name'])\n",
    "    feature_name = feature_names_df.iloc[:,1].values.tolist()\n",
    "    new_feature_name_df = get_new_feature_name_df(feature_names_df)\n",
    "    \n",
    "    X_train = pd.read_csv('./dataset/human_activity/train/X_train.txt',\n",
    "                          sep='\\s+',header=None)\n",
    "    X_train.columns = feature_name\n",
    "    X_test = pd.read_csv('./dataset/human_activity/test/X_test.txt',\n",
    "                          sep='\\s+',header=None)\n",
    "    X_test.columns = feature_name\n",
    "    y_train = pd.read_csv('./dataset/human_activity/train/y_train.txt',\n",
    "                          sep='\\s+',header=None,names=['action'])\n",
    "    y_test = pd.read_csv('./dataset/human_activity/test/y_test.txt',\n",
    "                          sep='\\s+',header=None,names=['action'])\n",
    "    \n",
    "    return X_train, X_test, y_train, y_test"
   ]
  },
  {
   "cell_type": "code",
   "execution_count": 5,
   "id": "4e5f2044",
   "metadata": {},
   "outputs": [],
   "source": [
    "from sklearn.ensemble import RandomForestClassifier\n",
    "from sklearn.metrics import accuracy_score\n",
    "import pandas as pd"
   ]
  },
  {
   "cell_type": "code",
   "execution_count": 6,
   "id": "899fe64b",
   "metadata": {},
   "outputs": [],
   "source": [
    "# 밑에 건 나무를 많이 심어서 뽑아내는 거라 좀 오래 걸림 ㅎㅎ..."
   ]
  },
  {
   "cell_type": "code",
   "execution_count": 7,
   "id": "6ba267f3",
   "metadata": {},
   "outputs": [
    {
     "name": "stdout",
     "output_type": "stream",
     "text": [
      "RandomForestClassifier 분류기 정확도: 0.9253\n"
     ]
    }
   ],
   "source": [
    "X_train, X_test, y_train, y_test = get_human_dataset()\n",
    "\n",
    "rf = RandomForestClassifier(random_state=0)\n",
    "rf.fit(X_train, y_train)\n",
    "pred = rf.predict(X_test)\n",
    "print(f'{rf.__class__.__name__} 분류기 정확도: {accuracy_score(y_test,pred):.4f}')"
   ]
  },
  {
   "cell_type": "code",
   "execution_count": 8,
   "id": "497114d7",
   "metadata": {},
   "outputs": [
    {
     "name": "stdout",
     "output_type": "stream",
     "text": [
      "GridSearchCV 최적 파라미터: {'max_depth': 5, 'min_samples_leaf': 1, 'min_samples_split': 5, 'n_estimators': 100}\n",
      "GridSearchCV 최고 정확도: 0.9072\n"
     ]
    }
   ],
   "source": [
    "from sklearn.model_selection import GridSearchCV\n",
    "\n",
    "params = {'n_estimators':[50,100],\n",
    "         'max_depth': [2,3,5],\n",
    "         'min_samples_leaf':[1,2,3],\n",
    "         'min_samples_split':[2,3,5]}\n",
    "\n",
    "# rf로 객체 생성한 후 GridSearchCV 수행\n",
    "rf = RandomForestClassifier(random_state=4)\n",
    "grid = GridSearchCV(rf, param_grid=params, cv=3, refit=True)\n",
    "grid.fit(X_train, y_train)\n",
    "\n",
    "print(f'{grid.__class__.__name__} 최적 파라미터: {grid.best_params_}')\n",
    "print(f'{grid.__class__.__name__} 최고 정확도: {grid.best_score_:.4f}')"
   ]
  },
  {
   "cell_type": "code",
   "execution_count": 10,
   "id": "0ab9ccc8",
   "metadata": {},
   "outputs": [
    {
     "name": "stdout",
     "output_type": "stream",
     "text": [
      "테스트 데이터에서 정확도: 0.895\n"
     ]
    }
   ],
   "source": [
    "y_pred = grid.best_estimator_.predict(X_test)\n",
    "accuracy_test = accuracy_score(y_test , y_pred)\n",
    "print('테스트 데이터에서 정확도: {0:.3f}'.format(accuracy_test))"
   ]
  },
  {
   "cell_type": "code",
   "execution_count": 9,
   "id": "5caf08a1",
   "metadata": {},
   "outputs": [
    {
     "name": "stdout",
     "output_type": "stream",
     "text": [
      "최적 하이퍼 파라미터:\n",
      " {'max_depth': 10, 'min_samples_leaf': 8, 'min_samples_split': 5, 'n_estimators': 100}\n",
      "트레인 데이터 최고 예측 정확도: 0.918\n",
      "테스트 데이터에서 정확도: 0.920\n"
     ]
    }
   ],
   "source": [
    "# 믿을조 풀이\n",
    "from sklearn.model_selection import GridSearchCV\n",
    "\n",
    "params = {\n",
    "    'n_estimators':[50, 100],\n",
    "    'max_depth' : [6, 8, 10, 12], \n",
    "    'min_samples_leaf' : [5, 8, 12, 18],\n",
    "    'min_samples_split' : [5, 8, 16, 20]\n",
    "}\n",
    "rf_clf = RandomForestClassifier(random_state=0, n_jobs=-1)\n",
    "\n",
    "# n_jobs를 -1로 주면 모든 cpu를 통해 연산. 조금 빨라진다\n",
    "grid_cv = GridSearchCV(rf_clf , param_grid=params , cv=2, n_jobs=-1 )\n",
    "grid_cv.fit(X_train , y_train)\n",
    "accuracy_train = grid_cv.best_score_\n",
    "\n",
    "y_pred = grid_cv.best_estimator_.predict(X_test)\n",
    "accuracy_test = accuracy_score(y_test , y_pred)\n",
    "\n",
    "print('최적 하이퍼 파라미터:\\n', grid_cv.best_params_)\n",
    "print('트레인 데이터 최고 예측 정확도: {0:.3f}'.format(accuracy_train))\n",
    "print('테스트 데이터에서 정확도: {0:.3f}'.format(accuracy_test))\n"
   ]
  },
  {
   "cell_type": "code",
   "execution_count": 13,
   "id": "39e9d94f",
   "metadata": {},
   "outputs": [],
   "source": [
    "import matplotlib.pyplot as plt\n",
    "import seaborn as sns\n",
    "%matplotlib inline\n",
    "\n",
    "rf1 = RandomForestClassifier(n_estimators=100, max_depth=10, min_samples_leaf=8,\n",
    "                            min_samples_split=5, random_state=0)\n",
    "rf1.fit(X_train, y_train)\n",
    "\n",
    "importance = rf1.feature_importances_\n",
    "fea_impo = pd.Series(importance, index=X_train.columns)\n",
    "top20 = fea_impo.sort_values(ascending=False)[:20]"
   ]
  },
  {
   "cell_type": "code",
   "execution_count": 18,
   "id": "7341a168",
   "metadata": {},
   "outputs": [
    {
     "data": {
      "text/plain": [
       "tBodyAcc-mean()-X    0.000068\n",
       "tBodyAcc-mean()-Y    0.000208\n",
       "tBodyAcc-mean()-Z    0.000089\n",
       "tBodyAcc-std()-X     0.006275\n",
       "tBodyAcc-std()-Y     0.000157\n",
       "tBodyAcc-std()-Z     0.000158\n",
       "tBodyAcc-mad()-X     0.003624\n",
       "tBodyAcc-mad()-Y     0.000300\n",
       "tBodyAcc-mad()-Z     0.000188\n",
       "tBodyAcc-max()-X     0.012114\n",
       "dtype: float64"
      ]
     },
     "execution_count": 18,
     "metadata": {},
     "output_type": "execute_result"
    }
   ],
   "source": [
    "fea_impo[:10]"
   ]
  },
  {
   "cell_type": "code",
   "execution_count": 14,
   "id": "8c0daf8b",
   "metadata": {},
   "outputs": [
    {
     "data": {
      "image/png": "[encoded data removed]",
      "text/plain": [
       "<Figure size 576x432 with 1 Axes>"
      ]
     },
     "metadata": {
      "needs_background": "light"
     },
     "output_type": "display_data"
    }
   ],
   "source": [
    "plt.figure(figsize=(8,6))\n",
    "plt.title('Feature Importance TOP 20')\n",
    "sns.barplot(x = top20, y = top20.index)\n",
    "plt.show()"
   ]
  },
  {
   "cell_type": "code",
   "execution_count": 19,
   "id": "5ff833c4",
   "metadata": {},
   "outputs": [
    {
     "data": {
      "image/png": "[encoded data removed]",
      "text/plain": [
       "<Figure size 576x432 with 1 Axes>"
      ]
     },
     "metadata": {
      "needs_background": "dark"
     },
     "output_type": "display_data"
    }
   ],
   "source": [
    "# 믿을조 풀이\n",
    "import seaborn as sns\n",
    "import matplotlib.pyplot as plt\n",
    "\n",
    "ftr_importances_values = grid_cv.best_estimator_.feature_importances_\n",
    "\n",
    "# Series변환 후 중요도값 순으로 Series를 정렬\n",
    "ftr_importances = pd.Series(ftr_importances_values, index=X_train.columns  )\n",
    "ftr_top20 = ftr_importances.sort_values(ascending=False)[:20]\n",
    "\n",
    "fig = plt.figure(figsize=(8,6))\n",
    "ax = fig.add_subplot(111)\n",
    "\n",
    "## 다크모드여서 흰색으로 표시\n",
    "[t.set_color('white') for t in ax.xaxis.get_ticklabels()]\n",
    "[t.set_color('white') for t in ax.yaxis.get_ticklabels()]\n",
    "ax.xaxis.label.set_color('white')\n",
    "ax.yaxis.label.set_color('white')\n",
    "##\n",
    "plt.title('Feature importances Top 20')\n",
    "sns.barplot(x=ftr_top20 , y = ftr_top20.index)\n",
    "plt.show()\n"
   ]
  },
  {
   "cell_type": "code",
   "execution_count": null,
   "id": "34b9b023",
   "metadata": {},
   "outputs": [],
   "source": []
  },
  {
   "cell_type": "markdown",
   "id": "79f7b239",
   "metadata": {},
   "source": [
    "### GBM(Gradient Boosting Machine)\n",
    "- 부스팅 알고리즘은 여러 개의 약한 학습기(weak learner)를 순차적으로 학습-예측하면서 잘못 예측한 데이터에 가중치 부여를 통해 오류를 개선해 나가면서 학습하는 방식\n",
    "- 가중치 업데이트를 경사 하강법(Gradient Descent)를 이용한다.\n",
    "- 분류는 물론이고 회귀도 가능\n",
    "- 파라미터 : n_estimators, max_depth, max_features\n",
    " - loss : 경사하강법에서 사용할 비용함수 지정. 기본값 deviance 적용\n",
    " - learning_rate : GBM이 학습할 때마다 적용할 학습률.오류값 보정 시 적용하는 계수로 0 ~ 1 사이의 값 지정. 기본값은 0.1. 작게 설정하면 예측성능이 높아지나 수행시간이 오래 걸리고 큰 값을 적용하면 예측 성능이 떨어질 가능성이 높으나 빠른 수행이 가능. n_estimator와 상호 보완적으로 조합해 사용\n",
    " - n_estimator : weak learner의 개수\n",
    " - subsample : weak learner가 학습에 사용하는 데이터의 샘플링 비율. 기본값은 1\n"
   ]
  },
  {
   "cell_type": "code",
   "execution_count": 21,
   "id": "fe887549",
   "metadata": {},
   "outputs": [
    {
     "name": "stdout",
     "output_type": "stream",
     "text": [
      "GBM 정확도: 0.9389\n",
      "작업 소요시간: 4.8e+02초\n"
     ]
    }
   ],
   "source": [
    "from sklearn.ensemble import GradientBoostingClassifier\n",
    "from sklearn.metrics  import accuracy_score\n",
    "import time\n",
    "\n",
    "X_train, X_test, y_train, y_test = get_human_dataset()\n",
    "start_time = time.time()\n",
    "\n",
    "gb = GradientBoostingClassifier(random_state=0)\n",
    "gb.fit(X_train, y_train)\n",
    "gb_pred = gb.predict(X_test)\n",
    "gb_accuracy = accuracy_score(y_test, gb_pred)\n",
    "\n",
    "print(f'GBM 정확도: {gb_accuracy:.4f}')\n",
    "print(f'작업 소요시간: {(time.time()-start_time):.2}초')"
   ]
  },
  {
   "cell_type": "code",
   "execution_count": null,
   "id": "b69b224d",
   "metadata": {},
   "outputs": [],
   "source": [
    "# [과제] 상기 케이스에 대하여 성능 개선을 위한 튜닝 진행 (GridSearchCV, 약 1시간 걸림)\n",
    "# 테스트 데이터에 대해서도 작업하기"
   ]
  },
  {
   "cell_type": "code",
   "execution_count": 23,
   "id": "01220061",
   "metadata": {},
   "outputs": [
    {
     "name": "stdout",
     "output_type": "stream",
     "text": [
      "Fitting 2 folds for each of 4 candidates, totalling 8 fits\n"
     ]
    },
    {
     "ename": "TypeError",
     "evalue": "unsupported format string passed to dict.__format__",
     "output_type": "error",
     "traceback": [
      "\u001b[1;31m---------------------------------------------------------------------------\u001b[0m",
      "\u001b[1;31mTypeError\u001b[0m                                 Traceback (most recent call last)",
      "\u001b[1;32m~\\AppData\\Local\\Temp/ipykernel_8552/1944928379.py\u001b[0m in \u001b[0;36m<module>\u001b[1;34m\u001b[0m\n\u001b[0;32m      5\u001b[0m \u001b[0mgrid\u001b[0m \u001b[1;33m=\u001b[0m \u001b[0mGridSearchCV\u001b[0m\u001b[1;33m(\u001b[0m\u001b[0mgb\u001b[0m\u001b[1;33m,\u001b[0m \u001b[0mparam_grid\u001b[0m\u001b[1;33m=\u001b[0m\u001b[0mparams\u001b[0m\u001b[1;33m,\u001b[0m \u001b[0mcv\u001b[0m\u001b[1;33m=\u001b[0m\u001b[1;36m2\u001b[0m\u001b[1;33m,\u001b[0m \u001b[0mverbose\u001b[0m\u001b[1;33m=\u001b[0m\u001b[1;36m1\u001b[0m\u001b[1;33m,\u001b[0m \u001b[0mn_jobs\u001b[0m\u001b[1;33m=\u001b[0m\u001b[1;33m-\u001b[0m\u001b[1;36m1\u001b[0m\u001b[1;33m)\u001b[0m\u001b[1;33m\u001b[0m\u001b[1;33m\u001b[0m\u001b[0m\n\u001b[0;32m      6\u001b[0m \u001b[0mgrid\u001b[0m\u001b[1;33m.\u001b[0m\u001b[0mfit\u001b[0m\u001b[1;33m(\u001b[0m\u001b[0mX_train\u001b[0m\u001b[1;33m,\u001b[0m \u001b[0my_train\u001b[0m\u001b[1;33m)\u001b[0m\u001b[1;33m\u001b[0m\u001b[1;33m\u001b[0m\u001b[0m\n\u001b[1;32m----> 7\u001b[1;33m \u001b[0mprint\u001b[0m\u001b[1;33m(\u001b[0m\u001b[1;34mf'최적 하이퍼 파라미터: {grid.best_params_:.4f}'\u001b[0m\u001b[1;33m)\u001b[0m\u001b[1;33m\u001b[0m\u001b[1;33m\u001b[0m\u001b[0m\n\u001b[0m\u001b[0;32m      8\u001b[0m \u001b[0mprint\u001b[0m\u001b[1;33m(\u001b[0m\u001b[1;34mf'최적 하이퍼 파라미터: {grid.best_score_:.4f}'\u001b[0m\u001b[1;33m)\u001b[0m\u001b[1;33m\u001b[0m\u001b[1;33m\u001b[0m\u001b[0m\n",
      "\u001b[1;31mTypeError\u001b[0m: unsupported format string passed to dict.__format__"
     ]
    }
   ],
   "source": [
    "from sklearn.model_selection import GridSearchCV\n",
    "\n",
    "params = {'n_estimators':[100,500],\n",
    "         'learning_rate':[0.05, 0.1]}\n",
    "grid = GridSearchCV(gb, param_grid=params, cv=2, verbose=1, n_jobs=-1)\n",
    "grid.fit(X_train, y_train)"
   ]
  },
  {
   "cell_type": "code",
   "execution_count": 25,
   "id": "a40ed614",
   "metadata": {},
   "outputs": [
    {
     "name": "stdout",
     "output_type": "stream",
     "text": [
      "최적 하이퍼 파라미터: {'learning_rate': 0.05, 'n_estimators': 500}\n",
      "최적 하이퍼 파라미터: 0.9002\n"
     ]
    }
   ],
   "source": [
    "print(f'최적 하이퍼 파라미터: {grid.best_params_}')\n",
    "print(f'최적 하이퍼 파라미터: {grid.best_score_:.4f}')"
   ]
  },
  {
   "cell_type": "code",
   "execution_count": 26,
   "id": "fad7eda3",
   "metadata": {},
   "outputs": [
    {
     "name": "stdout",
     "output_type": "stream",
     "text": [
      "테스트 데이터에서의 최적 파라미터 정확도: 0.9393\n"
     ]
    }
   ],
   "source": [
    "# 테스트데이터에서의 최적 파라미터 적용\n",
    "gb_pred = grid.best_estimator_.predict(X_test)\n",
    "accu = accuracy_score(y_test, gb_pred)\n",
    "print(f'테스트 데이터에서의 최적 파라미터 정확도: {accu:.4f}')"
   ]
  },
  {
   "cell_type": "code",
   "execution_count": null,
   "id": "dc3aec4a",
   "metadata": {},
   "outputs": [],
   "source": []
  },
  {
   "cell_type": "code",
   "execution_count": null,
   "id": "6eb9ffdc",
   "metadata": {},
   "outputs": [],
   "source": []
  },
  {
   "cell_type": "code",
   "execution_count": null,
   "id": "2e2eeeca",
   "metadata": {},
   "outputs": [],
   "source": []
  },
  {
   "cell_type": "code",
   "execution_count": null,
   "id": "47dc7229",
   "metadata": {},
   "outputs": [],
   "source": []
  }
 ],
 "metadata": {
  "kernelspec": {
   "display_name": "Python 3 (ipykernel)",
   "language": "python",
   "name": "python3"
  },
  "language_info": {
   "codemirror_mode": {
    "name": "ipython",
    "version": 3
   },
   "file_extension": ".py",
   "mimetype": "text/x-python",
   "name": "python",
   "nbconvert_exporter": "python",
   "pygments_lexer": "ipython3",
   "version": "3.8.12"
  }
 },
 "nbformat": 4,
 "nbformat_minor": 5
}
