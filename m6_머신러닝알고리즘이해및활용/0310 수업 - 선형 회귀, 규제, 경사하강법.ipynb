{
 "cells": [
  {
   "cell_type": "markdown",
   "id": "a9b2c73b",
   "metadata": {},
   "source": [
    "https://angeloyeo.github.io/2020/08/16/gradient_descent.html"
   ]
  },
  {
   "cell_type": "markdown",
   "id": "4c755971",
   "metadata": {},
   "source": [
    "[비용 최소화]  \n",
    "\n",
    "- 비용함수 R(w)는 변수가 w 파라미터로 이뤄진 함수이며 R(w)를 최소화하는 w0와 w1의 값은 R(w)를 w0, w1으로 순차적으로 편미분해 얻을 수 있다.  \n",
    " w1 편미분값 : $-2/N*sigmax*diff$, w0 편미분값 : $-2/N*sigma*diff$\n",
    "- 업데이트는 새로운 w1을 이전 w1에서 편미분 결과값을 반영하는데 기울기가 양수이면 감소, 음수이면 증가\n",
    "- 편미분값이 너무 클 수 있기 때문에 보정 계수를 곱하는데 이를 학습률(η)이라고 한다.\n"
   ]
  },
  {
   "cell_type": "markdown",
   "id": "c3f3edcf",
   "metadata": {},
   "source": [
    "https://angeloyeo.github.io/2020/08/16/gradient_descent.html  \n",
    "https://www.youtube.com/watch?v=ve6gtpZV83E"
   ]
  },
  {
   "cell_type": "code",
   "execution_count": 13,
   "id": "386c823c",
   "metadata": {},
   "outputs": [],
   "source": [
    "import numpy as np\n",
    "import pandas as pd\n",
    "import matplotlib.pyplot as plt\n",
    "%matplotlib inline"
   ]
  },
  {
   "cell_type": "code",
   "execution_count": 27,
   "id": "ba4bd3b8",
   "metadata": {},
   "outputs": [],
   "source": [
    "def get_weight_updates(w1, w0, X, y, learning_rate=0.01):\n",
    "    N = len(y)\n",
    "    w1_update = np.zeros_like(w1) # 실수 형태 0행렬 반환. 초기화를 위해 선언해 주는 것\n",
    "    w0_update = np.zeros_like(w0)\n",
    "    y_pred = np.dot(X, w1.T) + w0 # 행렬 내적하려면 w1의 전치 형태여야 가능\n",
    "    diff = y - y_pred # 실제값 - 예측값\n",
    "    w0_factors = np.ones((N,1))\n",
    "    \n",
    "    w1_update = -(2/N)*learning_rate*(np.dot(X.T, diff)) # 이 식은 편미분 결과\n",
    "    w0_update = -(2/N)*learning_rate*(np.dot(w0_factors.T, diff))\n",
    "    \n",
    "    return w1_update, w0_update"
   ]
  },
  {
   "cell_type": "code",
   "execution_count": 28,
   "id": "da21fab5",
   "metadata": {},
   "outputs": [],
   "source": [
    "def gradient_descent_steps(X, y, iters=10000):\n",
    "    # w0, w1를 모두 0으로 초기화\n",
    "    w0 = np.zeros((1,1))\n",
    "    w1 = np.zeros((1,1))\n",
    "    \n",
    "    # 경사하강법을 통해 반복 수행\n",
    "    for i in range(iters):\n",
    "        w1_update, w0_update = get_weight_updates(w1, w0, X, y, learning_rate=0.01)\n",
    "        w1 = w1 - w1_update\n",
    "        w0 = w0 - w0_update\n",
    "        \n",
    "        return w1, w0"
   ]
  },
  {
   "cell_type": "code",
   "execution_count": 29,
   "id": "6f15ec2f",
   "metadata": {},
   "outputs": [],
   "source": [
    "def get_cost(y, y_pred):\n",
    "    N = len(y)\n",
    "    cost = np.sum(np.square(y - y_pred))/N\n",
    "    return cost"
   ]
  },
  {
   "cell_type": "code",
   "execution_count": 19,
   "id": "4cf18394",
   "metadata": {},
   "outputs": [
    {
     "data": {
      "image/png": "[encoded data removed]",
      "text/plain": [
       "<Figure size 432x288 with 1 Axes>"
      ]
     },
     "metadata": {
      "needs_background": "light"
     },
     "output_type": "display_data"
    }
   ],
   "source": [
    "# 임의의 어떤 분포를 만든다. 단, 경향은 y=4x+6을 따르도록.\n",
    "np.random.seed(0)\n",
    "X = 2*np.random.rand(100,1)\n",
    "y = 6 + 4*X + np.random.rand(100,1)\n",
    "plt.scatter(X,y)\n",
    "plt.show()"
   ]
  },
  {
   "cell_type": "code",
   "execution_count": null,
   "id": "d67b5281",
   "metadata": {},
   "outputs": [],
   "source": []
  },
  {
   "cell_type": "code",
   "execution_count": 31,
   "id": "46c9cbaf",
   "metadata": {},
   "outputs": [
    {
     "name": "stdout",
     "output_type": "stream",
     "text": [
      "w1: 0.2214, w0: 0.2062\n"
     ]
    }
   ],
   "source": [
    "w1, w0 = gradient_descent_steps(X, y, iters=1000)\n",
    "print(f'w1: {w1[0,0]:.4f}, w0: {w0[0,0]:.4f}')"
   ]
  },
  {
   "cell_type": "code",
   "execution_count": 32,
   "id": "3e050fcb",
   "metadata": {},
   "outputs": [
    {
     "name": "stdout",
     "output_type": "stream",
     "text": [
      "Gradient Descent Total Cost: 102.6528\n"
     ]
    }
   ],
   "source": [
    "y_pred = w1[0,0]*X + w0\n",
    "print(f'Gradient Descent Total Cost: {get_cost(y, y_pred):.4f}')"
   ]
  },
  {
   "cell_type": "code",
   "execution_count": 33,
   "id": "37193b37",
   "metadata": {},
   "outputs": [
    {
     "data": {
      "image/png": "[encoded data removed]",
      "text/plain": [
       "<Figure size 432x288 with 1 Axes>"
      ]
     },
     "metadata": {
      "needs_background": "light"
     },
     "output_type": "display_data"
    }
   ],
   "source": [
    "plt.scatter(X,y)\n",
    "plt.plot(X, y_pred)\n",
    "plt.show()"
   ]
  },
  {
   "cell_type": "code",
   "execution_count": null,
   "id": "c87ec574",
   "metadata": {},
   "outputs": [],
   "source": []
  },
  {
   "cell_type": "code",
   "execution_count": null,
   "id": "83f19a89",
   "metadata": {},
   "outputs": [],
   "source": []
  },
  {
   "cell_type": "code",
   "execution_count": null,
   "id": "1327aeac",
   "metadata": {},
   "outputs": [],
   "source": []
  },
  {
   "cell_type": "code",
   "execution_count": null,
   "id": "7acb78fc",
   "metadata": {},
   "outputs": [],
   "source": []
  },
  {
   "cell_type": "code",
   "execution_count": null,
   "id": "de6cb8cc",
   "metadata": {},
   "outputs": [],
   "source": []
  }
 ],
 "metadata": {
  "kernelspec": {
   "display_name": "Python 3 (ipykernel)",
   "language": "python",
   "name": "python3"
  },
  "language_info": {
   "codemirror_mode": {
    "name": "ipython",
    "version": 3
   },
   "file_extension": ".py",
   "mimetype": "text/x-python",
   "name": "python",
   "nbconvert_exporter": "python",
   "pygments_lexer": "ipython3",
   "version": "3.8.12"
  }
 },
 "nbformat": 4,
 "nbformat_minor": 5
}
