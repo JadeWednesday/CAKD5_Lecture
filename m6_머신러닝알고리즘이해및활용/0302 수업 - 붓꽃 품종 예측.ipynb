{
 "cells": [
  {
   "cell_type": "code",
   "execution_count": 1,
   "id": "a6fc9d39",
   "metadata": {},
   "outputs": [],
   "source": [
    "from sklearn.datasets import load_iris\n",
    "from sklearn.tree import DecisionTreeClassifier\n",
    "from sklearn.model_selection import train_test_split\n",
    "import pandas as pd\n",
    "import numpy as np"
   ]
  },
  {
   "cell_type": "code",
   "execution_count": 2,
   "id": "d380ab9e",
   "metadata": {},
   "outputs": [
    {
     "data": {
      "text/plain": [
       "dict_keys(['data', 'target', 'frame', 'target_names', 'DESCR', 'feature_names', 'filename', 'data_module'])"
      ]
     },
     "execution_count": 2,
     "metadata": {},
     "output_type": "execute_result"
    }
   ],
   "source": [
    "iris = load_iris()\n",
    "iris.keys()"
   ]
  },
  {
   "cell_type": "code",
   "execution_count": 3,
   "id": "8b93b2f0",
   "metadata": {},
   "outputs": [
    {
     "data": {
      "text/plain": [
       "array(['setosa', 'versicolor', 'virginica'], dtype='<U10')"
      ]
     },
     "execution_count": 3,
     "metadata": {},
     "output_type": "execute_result"
    }
   ],
   "source": [
    "iris.target_names"
   ]
  },
  {
   "cell_type": "code",
   "execution_count": 4,
   "id": "a61f7501",
   "metadata": {},
   "outputs": [
    {
     "data": {
      "text/plain": [
       "['sepal length (cm)',\n",
       " 'sepal width (cm)',\n",
       " 'petal length (cm)',\n",
       " 'petal width (cm)']"
      ]
     },
     "execution_count": 4,
     "metadata": {},
     "output_type": "execute_result"
    }
   ],
   "source": [
    "iris.feature_names"
   ]
  },
  {
   "cell_type": "code",
   "execution_count": 5,
   "id": "6bed9ccd",
   "metadata": {},
   "outputs": [
    {
     "name": "stdout",
     "output_type": "stream",
     "text": [
      "붓꽃 target값: [0 0 0 0 0 0 0 0 0 0 0 0 0 0 0 0 0 0 0 0 0 0 0 0 0 0 0 0 0 0 0 0 0 0 0 0 0\n",
      " 0 0 0 0 0 0 0 0 0 0 0 0 0 1 1 1 1 1 1 1 1 1 1 1 1 1 1 1 1 1 1 1 1 1 1 1 1\n",
      " 1 1 1 1 1 1 1 1 1 1 1 1 1 1 1 1 1 1 1 1 1 1 1 1 1 1 2 2 2 2 2 2 2 2 2 2 2\n",
      " 2 2 2 2 2 2 2 2 2 2 2 2 2 2 2 2 2 2 2 2 2 2 2 2 2 2 2 2 2 2 2 2 2 2 2 2 2\n",
      " 2 2]\n",
      "붓꽃 target명: ['setosa' 'versicolor' 'virginica']\n"
     ]
    }
   ],
   "source": [
    "iris_data = iris.data # 이렇게 선언을 해주는 이유를 모르겠네... 그냥 써도 되지 않나?\n",
    "iris_label = iris.target # 이것도 그렇고\n",
    "print('붓꽃 target값:', iris_label)\n",
    "print('붓꽃 target명:', iris.target_names)"
   ]
  },
  {
   "cell_type": "code",
   "execution_count": 6,
   "id": "53b49595",
   "metadata": {},
   "outputs": [
    {
     "data": {
      "text/html": [
       "<div>\n",
       "<style scoped>\n",
       "    .dataframe tbody tr th:only-of-type {\n",
       "        vertical-align: middle;\n",
       "    }\n",
       "\n",
       "    .dataframe tbody tr th {\n",
       "        vertical-align: top;\n",
       "    }\n",
       "\n",
       "    .dataframe thead th {\n",
       "        text-align: right;\n",
       "    }\n",
       "</style>\n",
       "<table border=\"1\" class=\"dataframe\">\n",
       "  <thead>\n",
       "    <tr style=\"text-align: right;\">\n",
       "      <th></th>\n",
       "      <th>sepal length (cm)</th>\n",
       "      <th>sepal width (cm)</th>\n",
       "      <th>petal length (cm)</th>\n",
       "      <th>petal width (cm)</th>\n",
       "      <th>labels</th>\n",
       "    </tr>\n",
       "  </thead>\n",
       "  <tbody>\n",
       "    <tr>\n",
       "      <th>0</th>\n",
       "      <td>5.1</td>\n",
       "      <td>3.5</td>\n",
       "      <td>1.4</td>\n",
       "      <td>0.2</td>\n",
       "      <td>0</td>\n",
       "    </tr>\n",
       "    <tr>\n",
       "      <th>1</th>\n",
       "      <td>4.9</td>\n",
       "      <td>3.0</td>\n",
       "      <td>1.4</td>\n",
       "      <td>0.2</td>\n",
       "      <td>0</td>\n",
       "    </tr>\n",
       "    <tr>\n",
       "      <th>2</th>\n",
       "      <td>4.7</td>\n",
       "      <td>3.2</td>\n",
       "      <td>1.3</td>\n",
       "      <td>0.2</td>\n",
       "      <td>0</td>\n",
       "    </tr>\n",
       "    <tr>\n",
       "      <th>3</th>\n",
       "      <td>4.6</td>\n",
       "      <td>3.1</td>\n",
       "      <td>1.5</td>\n",
       "      <td>0.2</td>\n",
       "      <td>0</td>\n",
       "    </tr>\n",
       "    <tr>\n",
       "      <th>4</th>\n",
       "      <td>5.0</td>\n",
       "      <td>3.6</td>\n",
       "      <td>1.4</td>\n",
       "      <td>0.2</td>\n",
       "      <td>0</td>\n",
       "    </tr>\n",
       "  </tbody>\n",
       "</table>\n",
       "</div>"
      ],
      "text/plain": [
       "   sepal length (cm)  sepal width (cm)  petal length (cm)  petal width (cm)  \\\n",
       "0                5.1               3.5                1.4               0.2   \n",
       "1                4.9               3.0                1.4               0.2   \n",
       "2                4.7               3.2                1.3               0.2   \n",
       "3                4.6               3.1                1.5               0.2   \n",
       "4                5.0               3.6                1.4               0.2   \n",
       "\n",
       "   labels  \n",
       "0       0  \n",
       "1       0  \n",
       "2       0  \n",
       "3       0  \n",
       "4       0  "
      ]
     },
     "execution_count": 6,
     "metadata": {},
     "output_type": "execute_result"
    }
   ],
   "source": [
    "iris_df = pd.DataFrame(data = iris.data, columns = iris.feature_names)\n",
    "iris_df['labels'] = iris.target\n",
    "iris_df.head()\n",
    "\n",
    "# 독립변수는 꽃받침의 길이와 너비, 꽃잎의 길이와 너비\n",
    "# 종속변수는 붓꽃의 품종(labels)"
   ]
  },
  {
   "cell_type": "code",
   "execution_count": 7,
   "id": "7070182e",
   "metadata": {},
   "outputs": [],
   "source": [
    "# 대충 학습 8 검증 2 로 나눠서 진행해 보자.\n",
    "X_train, X_test, y_train, y_test= train_test_split(iris_data,\n",
    "                                                  iris_label,\n",
    "                                                  test_size=0.2, # 테스트 20%\n",
    "                                                  random_state=11) # seed 고정이랑 동일\n",
    "# 독립변수 학습/검증, 종속변수 학습/검증의 순서로 분리"
   ]
  },
  {
   "cell_type": "code",
   "execution_count": 8,
   "id": "af5f9331",
   "metadata": {},
   "outputs": [
    {
     "data": {
      "text/plain": [
       "(120, 4)"
      ]
     },
     "metadata": {},
     "output_type": "display_data"
    },
    {
     "data": {
      "text/plain": [
       "(120,)"
      ]
     },
     "metadata": {},
     "output_type": "display_data"
    }
   ],
   "source": [
    "display(X_train.shape, y_train.shape)\n",
    "# 독립변수 4개, 종속변수 1개"
   ]
  },
  {
   "cell_type": "code",
   "execution_count": 9,
   "id": "6a7a97f2",
   "metadata": {},
   "outputs": [],
   "source": [
    "# DecisionTreeClassifier 객체 생성\n",
    "dtc = DecisionTreeClassifier(random_state=11)\n",
    "\n",
    "# 의사결정 나무 학습 가보자고~~~\n",
    "dtc.fit(X_train, y_train)\n",
    "\n",
    "# 테스트 해보자고~~~\n",
    "# 여기선 X_test를 집어넣어 나온 결과가 y_test와 얼마나 일치하는지를 볼 것임\n",
    "predict = dtc.predict(X_test)"
   ]
  },
  {
   "cell_type": "code",
   "execution_count": 10,
   "id": "f35654a6",
   "metadata": {
    "scrolled": true
   },
   "outputs": [
    {
     "name": "stdout",
     "output_type": "stream",
     "text": [
      "예측 정확도:0.9333\n"
     ]
    }
   ],
   "source": [
    "from sklearn.metrics import accuracy_score as AS\n",
    "print('예측 정확도:{0:.4f}'.format(AS(y_test,predict)))"
   ]
  },
  {
   "cell_type": "markdown",
   "id": "3c9c1bec",
   "metadata": {},
   "source": [
    "## 교차검증\n",
    "- K Fold\n",
    "- Stratified K Fold\n",
    "- cross_val_score"
   ]
  },
  {
   "cell_type": "markdown",
   "id": "5c4850b4",
   "metadata": {},
   "source": [
    "### K Fold"
   ]
  },
  {
   "cell_type": "code",
   "execution_count": 11,
   "id": "95190340",
   "metadata": {
    "scrolled": false
   },
   "outputs": [
    {
     "name": "stdout",
     "output_type": "stream",
     "text": [
      "붓꽃 데이터 세트 크기: 150\n"
     ]
    }
   ],
   "source": [
    "from sklearn.model_selection import KFold\n",
    "dtc = DecisionTreeClassifier(random_state=156)\n",
    "kfold = KFold(n_splits=5) # 5개의 폴드 분리\n",
    "cross = []\n",
    "print('붓꽃 데이터 세트 크기:', iris.data.shape[0])"
   ]
  },
  {
   "cell_type": "code",
   "execution_count": 12,
   "id": "30155e0e",
   "metadata": {},
   "outputs": [
    {
     "data": {
      "text/plain": [
       "[(array([ 30,  31,  32,  33,  34,  35,  36,  37,  38,  39,  40,  41,  42,\n",
       "          43,  44,  45,  46,  47,  48,  49,  50,  51,  52,  53,  54,  55,\n",
       "          56,  57,  58,  59,  60,  61,  62,  63,  64,  65,  66,  67,  68,\n",
       "          69,  70,  71,  72,  73,  74,  75,  76,  77,  78,  79,  80,  81,\n",
       "          82,  83,  84,  85,  86,  87,  88,  89,  90,  91,  92,  93,  94,\n",
       "          95,  96,  97,  98,  99, 100, 101, 102, 103, 104, 105, 106, 107,\n",
       "         108, 109, 110, 111, 112, 113, 114, 115, 116, 117, 118, 119, 120,\n",
       "         121, 122, 123, 124, 125, 126, 127, 128, 129, 130, 131, 132, 133,\n",
       "         134, 135, 136, 137, 138, 139, 140, 141, 142, 143, 144, 145, 146,\n",
       "         147, 148, 149]),\n",
       "  array([ 0,  1,  2,  3,  4,  5,  6,  7,  8,  9, 10, 11, 12, 13, 14, 15, 16,\n",
       "         17, 18, 19, 20, 21, 22, 23, 24, 25, 26, 27, 28, 29]))]"
      ]
     },
     "execution_count": 12,
     "metadata": {},
     "output_type": "execute_result"
    }
   ],
   "source": [
    "list(kfold.split(iris.data))[:1]"
   ]
  },
  {
   "cell_type": "code",
   "execution_count": 13,
   "id": "fffa7b8c",
   "metadata": {},
   "outputs": [
    {
     "name": "stdout",
     "output_type": "stream",
     "text": [
      "1회차 교차검증 정확도: 1.0, 학습 데이터 크기: 120, 검증 데이터 크기: 30\n",
      "\n",
      "1회차 검증 세트 인덱스: [ 0  1  2  3  4  5  6  7  8  9 10 11 12 13 14 15 16 17 18 19 20 21 22 23\n",
      " 24 25 26 27 28 29]\n",
      "\n",
      "2회차 교차검증 정확도: 0.9667, 학습 데이터 크기: 120, 검증 데이터 크기: 30\n",
      "\n",
      "2회차 검증 세트 인덱스: [30 31 32 33 34 35 36 37 38 39 40 41 42 43 44 45 46 47 48 49 50 51 52 53\n",
      " 54 55 56 57 58 59]\n",
      "\n",
      "3회차 교차검증 정확도: 0.8667, 학습 데이터 크기: 120, 검증 데이터 크기: 30\n",
      "\n",
      "3회차 검증 세트 인덱스: [60 61 62 63 64 65 66 67 68 69 70 71 72 73 74 75 76 77 78 79 80 81 82 83\n",
      " 84 85 86 87 88 89]\n",
      "\n",
      "4회차 교차검증 정확도: 0.9333, 학습 데이터 크기: 120, 검증 데이터 크기: 30\n",
      "\n",
      "4회차 검증 세트 인덱스: [ 90  91  92  93  94  95  96  97  98  99 100 101 102 103 104 105 106 107\n",
      " 108 109 110 111 112 113 114 115 116 117 118 119]\n",
      "\n",
      "5회차 교차검증 정확도: 0.7333, 학습 데이터 크기: 120, 검증 데이터 크기: 30\n",
      "\n",
      "5회차 검증 세트 인덱스: [120 121 122 123 124 125 126 127 128 129 130 131 132 133 134 135 136 137\n",
      " 138 139 140 141 142 143 144 145 146 147 148 149]\n",
      "\n",
      "\n",
      "평균 검증 정확도: 0.9\n"
     ]
    }
   ],
   "source": [
    "n_iter=0 # 반복횟수 체크 파라미터\n",
    "\n",
    "# KFold 객체의 split()을 호출하면 폴드 별 학습/검증 데이터의 인덱스를 배열로 반환\n",
    "\n",
    "for train_index, test_index in kfold.split(iris.data):\n",
    "    # 인덱스를 이용하여 데이터 추출\n",
    "    X_train, X_test = iris.data[train_index], iris.data[test_index]\n",
    "    y_train, y_test = iris.target[train_index], iris.target[test_index]\n",
    "    # 학습 및 예측\n",
    "    dtc.fit(X_train, y_train)\n",
    "    pred = dtc.predict(X_test)\n",
    "    # 정확도 출력\n",
    "    accuracy = AS(y_test, pred).round(4)\n",
    "    train_size = X_train.shape[0]\n",
    "    test_size = X_test.shape[0]\n",
    "    # 총정리\n",
    "    n_iter+=1\n",
    "    print(f'{n_iter}회차 교차검증 정확도: {accuracy}, 학습 데이터 크기: {train_size}, \\\n",
    "검증 데이터 크기: {test_size}')\n",
    "    print(f'\\n{n_iter}회차 검증 세트 인덱스: {test_index}\\n')\n",
    "    cross.append(accuracy) # 평균 내기 위한 리스트에 각 정확도 삽입\n",
    "    \n",
    "print('\\n평균 검증 정확도: {0}'.format(np.mean(cross)))\n"
   ]
  },
  {
   "cell_type": "markdown",
   "id": "6f7a78a3",
   "metadata": {},
   "source": [
    "### Stratified K Fold"
   ]
  },
  {
   "cell_type": "code",
   "execution_count": 14,
   "id": "2e5b20e3",
   "metadata": {},
   "outputs": [
    {
     "data": {
      "text/plain": [
       "0    50\n",
       "1    50\n",
       "2    50\n",
       "Name: labels, dtype: int64"
      ]
     },
     "execution_count": 14,
     "metadata": {},
     "output_type": "execute_result"
    }
   ],
   "source": [
    "iris = load_iris()\n",
    "iris_df = pd.DataFrame(data = iris.data, columns = iris.feature_names)\n",
    "iris_df['labels'] = iris.target\n",
    "iris_df.labels.value_counts()"
   ]
  },
  {
   "cell_type": "code",
   "execution_count": 15,
   "id": "992dd699",
   "metadata": {},
   "outputs": [
    {
     "name": "stdout",
     "output_type": "stream",
     "text": [
      "<1회차 교차 검증>\n",
      "학습 레이블 데이터:\n",
      "1    50\n",
      "2    50\n",
      "Name: labels, dtype: int64\n",
      "검증 레이블 데이터:\n",
      "0    50\n",
      "Name: labels, dtype: int64\n",
      "\n",
      "<2회차 교차 검증>\n",
      "학습 레이블 데이터:\n",
      "0    50\n",
      "2    50\n",
      "Name: labels, dtype: int64\n",
      "검증 레이블 데이터:\n",
      "1    50\n",
      "Name: labels, dtype: int64\n",
      "\n",
      "<3회차 교차 검증>\n",
      "학습 레이블 데이터:\n",
      "0    50\n",
      "1    50\n",
      "Name: labels, dtype: int64\n",
      "검증 레이블 데이터:\n",
      "2    50\n",
      "Name: labels, dtype: int64\n",
      "\n"
     ]
    }
   ],
   "source": [
    "# 일반적인 K Fold를 사용하면\n",
    "# 데이터 분리 시 편향이 발생했을 때 해결할 수 없음\n",
    "# 극단적인 예시로, 3개의 붓꽃 품종에서 2종만 학습 후 나머지 1종을 예측하는 모델을 구상해 보자\n",
    "\n",
    "kfold = KFold(3)\n",
    "n_iter=0\n",
    "for train, test in kfold.split(iris_df):\n",
    "    n_iter+=1\n",
    "    label1 = iris_df.labels.iloc[train]\n",
    "    label2 = iris_df.labels.iloc[test]\n",
    "    print(f'<{n_iter}회차 교차 검증>')\n",
    "    print(f'학습 레이블 데이터:\\n{label1.value_counts()}')\n",
    "    print(f'검증 레이블 데이터:\\n{label2.value_counts()}\\n')\n",
    "    \n",
    "# 이렇게 되면 a와 b는 학습하고서 c를 예측해야 하는 상황이 발생함\n",
    "# 참으로 난리가 나는 것임..."
   ]
  },
  {
   "cell_type": "code",
   "execution_count": 16,
   "id": "196a1df5",
   "metadata": {},
   "outputs": [
    {
     "name": "stdout",
     "output_type": "stream",
     "text": [
      "<1회차 교차 검증>\n",
      "학습 레이블 데이터:\n",
      "2    34\n",
      "0    33\n",
      "1    33\n",
      "Name: labels, dtype: int64\n",
      "검증 레이블 데이터:\n",
      "0    17\n",
      "1    17\n",
      "2    16\n",
      "Name: labels, dtype: int64\n",
      "\n",
      "<2회차 교차 검증>\n",
      "학습 레이블 데이터:\n",
      "1    34\n",
      "0    33\n",
      "2    33\n",
      "Name: labels, dtype: int64\n",
      "검증 레이블 데이터:\n",
      "0    17\n",
      "2    17\n",
      "1    16\n",
      "Name: labels, dtype: int64\n",
      "\n",
      "<3회차 교차 검증>\n",
      "학습 레이블 데이터:\n",
      "0    34\n",
      "1    33\n",
      "2    33\n",
      "Name: labels, dtype: int64\n",
      "검증 레이블 데이터:\n",
      "1    17\n",
      "2    17\n",
      "0    16\n",
      "Name: labels, dtype: int64\n",
      "\n"
     ]
    }
   ],
   "source": [
    "# Stratified K Fold를 쓰면 이러한 편향 문제를 해결해 줄 수 있다!\n",
    "from sklearn.model_selection import StratifiedKFold\n",
    "\n",
    "skf = StratifiedKFold(3)\n",
    "n_iter=0\n",
    "\n",
    "# 레이블 데이터 세트도 꼭 넣어라!\n",
    "# 이유인 즉, 레이블 데이터의 분포를 보고서 데이터를 분리하기 때문이다!\n",
    "for train, test in skf.split(iris_df, iris_df.labels):\n",
    "    n_iter+=1\n",
    "    label1 = iris_df.labels.iloc[train]\n",
    "    label2 = iris_df.labels.iloc[test]\n",
    "    print(f'<{n_iter}회차 교차 검증>')\n",
    "    print(f'학습 레이블 데이터:\\n{label1.value_counts()}')\n",
    "    print(f'검증 레이블 데이터:\\n{label2.value_counts()}\\n')\n",
    "# 아쥬매니 고르게 분산해서 뽑아놓은 것을 볼 수 있다.\n",
    "# 코드는 KFold의 경우와 똑같지만 편향 문제를 깰껌히 해결한 것."
   ]
  },
  {
   "cell_type": "markdown",
   "id": "7d87ea92",
   "metadata": {},
   "source": [
    "### cross_val_score()"
   ]
  },
  {
   "cell_type": "code",
   "execution_count": 17,
   "id": "53f77609",
   "metadata": {},
   "outputs": [
    {
     "data": {
      "text/html": [
       "<div>\n",
       "<style scoped>\n",
       "    .dataframe tbody tr th:only-of-type {\n",
       "        vertical-align: middle;\n",
       "    }\n",
       "\n",
       "    .dataframe tbody tr th {\n",
       "        vertical-align: top;\n",
       "    }\n",
       "\n",
       "    .dataframe thead th {\n",
       "        text-align: right;\n",
       "    }\n",
       "</style>\n",
       "<table border=\"1\" class=\"dataframe\">\n",
       "  <thead>\n",
       "    <tr style=\"text-align: right;\">\n",
       "      <th></th>\n",
       "      <th>sepal length (cm)</th>\n",
       "      <th>sepal width (cm)</th>\n",
       "      <th>petal length (cm)</th>\n",
       "      <th>petal width (cm)</th>\n",
       "      <th>labels</th>\n",
       "    </tr>\n",
       "  </thead>\n",
       "  <tbody>\n",
       "    <tr>\n",
       "      <th>0</th>\n",
       "      <td>5.1</td>\n",
       "      <td>3.5</td>\n",
       "      <td>1.4</td>\n",
       "      <td>0.2</td>\n",
       "      <td>0</td>\n",
       "    </tr>\n",
       "    <tr>\n",
       "      <th>1</th>\n",
       "      <td>4.9</td>\n",
       "      <td>3.0</td>\n",
       "      <td>1.4</td>\n",
       "      <td>0.2</td>\n",
       "      <td>0</td>\n",
       "    </tr>\n",
       "    <tr>\n",
       "      <th>2</th>\n",
       "      <td>4.7</td>\n",
       "      <td>3.2</td>\n",
       "      <td>1.3</td>\n",
       "      <td>0.2</td>\n",
       "      <td>0</td>\n",
       "    </tr>\n",
       "    <tr>\n",
       "      <th>3</th>\n",
       "      <td>4.6</td>\n",
       "      <td>3.1</td>\n",
       "      <td>1.5</td>\n",
       "      <td>0.2</td>\n",
       "      <td>0</td>\n",
       "    </tr>\n",
       "    <tr>\n",
       "      <th>4</th>\n",
       "      <td>5.0</td>\n",
       "      <td>3.6</td>\n",
       "      <td>1.4</td>\n",
       "      <td>0.2</td>\n",
       "      <td>0</td>\n",
       "    </tr>\n",
       "  </tbody>\n",
       "</table>\n",
       "</div>"
      ],
      "text/plain": [
       "   sepal length (cm)  sepal width (cm)  petal length (cm)  petal width (cm)  \\\n",
       "0                5.1               3.5                1.4               0.2   \n",
       "1                4.9               3.0                1.4               0.2   \n",
       "2                4.7               3.2                1.3               0.2   \n",
       "3                4.6               3.1                1.5               0.2   \n",
       "4                5.0               3.6                1.4               0.2   \n",
       "\n",
       "   labels  \n",
       "0       0  \n",
       "1       0  \n",
       "2       0  \n",
       "3       0  \n",
       "4       0  "
      ]
     },
     "execution_count": 17,
     "metadata": {},
     "output_type": "execute_result"
    }
   ],
   "source": [
    "# cross_val_score(): 교차검증을 좀 더 편리하게!\n",
    "from sklearn.model_selection import cross_val_score, cross_validate\n",
    "from sklearn.datasets import load_iris\n",
    "IRIS = load_iris()\n",
    "iris_df = pd.DataFrame(IRIS.data, columns = IRIS.feature_names)\n",
    "iris_df['labels'] = IRIS.target\n",
    "iris_df.head()"
   ]
  },
  {
   "cell_type": "code",
   "execution_count": 18,
   "id": "fd624c61",
   "metadata": {
    "scrolled": true
   },
   "outputs": [
    {
     "name": "stdout",
     "output_type": "stream",
     "text": [
      "교차 검증별 정확도: [0.98 0.92 0.98]\n",
      "평균 검증 정확도: 0.96\n"
     ]
    }
   ],
   "source": [
    "dtc = DecisionTreeClassifier()\n",
    "scores = cross_val_score(dtc, IRIS.data, IRIS.target, scoring='accuracy', cv=3)\n",
    "# 독립변수 IRIS.data, 종속변수 IRIS.target, 성능지표 정확도, 교차검증 폴드 수 3개\n",
    "# 학습 알고리즘은 의사결정 나무, 데이터 분류 알고리즘은 Stratified K Fold\n",
    "# 만약 예측 아니고 회귀분석이었으면 K Fold로 함\n",
    "print('교차 검증별 정확도:', scores)\n",
    "print(f'평균 검증 정확도: {scores.mean()}')"
   ]
  },
  {
   "cell_type": "code",
   "execution_count": 19,
   "id": "6faed1c4",
   "metadata": {},
   "outputs": [
    {
     "data": {
      "text/plain": [
       "array([0, 0, 0, 0, 0, 0, 0, 0, 0, 0, 0, 0, 0, 0, 0, 0, 0, 0, 0, 0, 0, 0,\n",
       "       0, 0, 0, 0, 0, 0, 0, 0, 0, 0, 0, 0, 0, 0, 0, 0, 0, 0, 0, 0, 0, 0,\n",
       "       0, 0, 0, 0, 0, 0, 1, 1, 1, 1, 1, 1, 1, 1, 1, 1, 1, 1, 1, 1, 1, 1,\n",
       "       1, 1, 1, 1, 1, 1, 1, 1, 1, 1, 1, 1, 1, 1, 1, 1, 1, 1, 1, 1, 1, 1,\n",
       "       1, 1, 1, 1, 1, 1, 1, 1, 1, 1, 1, 1, 2, 2, 2, 2, 2, 2, 2, 2, 2, 2,\n",
       "       2, 2, 2, 2, 2, 2, 2, 2, 2, 2, 2, 2, 2, 2, 2, 2, 2, 2, 2, 2, 2, 2,\n",
       "       2, 2, 2, 2, 2, 2, 2, 2, 2, 2, 2, 2, 2, 2, 2, 2, 2, 2])"
      ]
     },
     "execution_count": 19,
     "metadata": {},
     "output_type": "execute_result"
    }
   ],
   "source": [
    "IRIS.target"
   ]
  },
  {
   "cell_type": "code",
   "execution_count": 20,
   "id": "385c671c",
   "metadata": {},
   "outputs": [
    {
     "data": {
      "text/html": [
       "<div>\n",
       "<style scoped>\n",
       "    .dataframe tbody tr th:only-of-type {\n",
       "        vertical-align: middle;\n",
       "    }\n",
       "\n",
       "    .dataframe tbody tr th {\n",
       "        vertical-align: top;\n",
       "    }\n",
       "\n",
       "    .dataframe thead th {\n",
       "        text-align: right;\n",
       "    }\n",
       "</style>\n",
       "<table border=\"1\" class=\"dataframe\">\n",
       "  <thead>\n",
       "    <tr style=\"text-align: right;\">\n",
       "      <th></th>\n",
       "      <th>params</th>\n",
       "      <th>mean_test_score</th>\n",
       "      <th>rank_test_score</th>\n",
       "    </tr>\n",
       "  </thead>\n",
       "  <tbody>\n",
       "    <tr>\n",
       "      <th>0</th>\n",
       "      <td>{'max_depth': 1, 'min_samples_split': 2}</td>\n",
       "      <td>0.700000</td>\n",
       "      <td>5</td>\n",
       "    </tr>\n",
       "    <tr>\n",
       "      <th>1</th>\n",
       "      <td>{'max_depth': 1, 'min_samples_split': 3}</td>\n",
       "      <td>0.700000</td>\n",
       "      <td>5</td>\n",
       "    </tr>\n",
       "    <tr>\n",
       "      <th>2</th>\n",
       "      <td>{'max_depth': 2, 'min_samples_split': 2}</td>\n",
       "      <td>0.958333</td>\n",
       "      <td>3</td>\n",
       "    </tr>\n",
       "    <tr>\n",
       "      <th>3</th>\n",
       "      <td>{'max_depth': 2, 'min_samples_split': 3}</td>\n",
       "      <td>0.958333</td>\n",
       "      <td>3</td>\n",
       "    </tr>\n",
       "    <tr>\n",
       "      <th>4</th>\n",
       "      <td>{'max_depth': 3, 'min_samples_split': 2}</td>\n",
       "      <td>0.975000</td>\n",
       "      <td>1</td>\n",
       "    </tr>\n",
       "    <tr>\n",
       "      <th>5</th>\n",
       "      <td>{'max_depth': 3, 'min_samples_split': 3}</td>\n",
       "      <td>0.975000</td>\n",
       "      <td>1</td>\n",
       "    </tr>\n",
       "  </tbody>\n",
       "</table>\n",
       "</div>"
      ],
      "text/plain": [
       "                                     params  mean_test_score  rank_test_score\n",
       "0  {'max_depth': 1, 'min_samples_split': 2}         0.700000                5\n",
       "1  {'max_depth': 1, 'min_samples_split': 3}         0.700000                5\n",
       "2  {'max_depth': 2, 'min_samples_split': 2}         0.958333                3\n",
       "3  {'max_depth': 2, 'min_samples_split': 3}         0.958333                3\n",
       "4  {'max_depth': 3, 'min_samples_split': 2}         0.975000                1\n",
       "5  {'max_depth': 3, 'min_samples_split': 3}         0.975000                1"
      ]
     },
     "execution_count": 20,
     "metadata": {},
     "output_type": "execute_result"
    }
   ],
   "source": [
    "from sklearn.model_selection import GridSearchCV\n",
    "\n",
    "X_train, X_test, y_train, y_test = train_test_split(IRIS.data, IRIS.target,\n",
    "                                                   test_size=0.2, random_state=121)\n",
    "\n",
    "dtc = DecisionTreeClassifier()\n",
    "param = {'max_depth':[1,2,3], 'min_samples_split':[2,3]}\n",
    "grid_dtc = GridSearchCV(dtc, param_grid = param, cv=3, refit=True)\n",
    "grid_dtc.fit(X_train, y_train)\n",
    "\n",
    "scores_df = pd.DataFrame(grid_dtc.cv_results_)\n",
    "scores_df[['params','mean_test_score','rank_test_score']]"
   ]
  },
  {
   "cell_type": "code",
   "execution_count": 21,
   "id": "77d1c2e3",
   "metadata": {},
   "outputs": [
    {
     "data": {
      "text/plain": [
       "{'max_depth': 3, 'min_samples_split': 2}"
      ]
     },
     "execution_count": 21,
     "metadata": {},
     "output_type": "execute_result"
    }
   ],
   "source": [
    "# 최적 파라미터 - 여기선 공동 1위\n",
    "grid_dtc.best_params_"
   ]
  },
  {
   "cell_type": "code",
   "execution_count": 22,
   "id": "eeb387bf",
   "metadata": {},
   "outputs": [
    {
     "data": {
      "text/plain": [
       "0.975"
      ]
     },
     "execution_count": 22,
     "metadata": {},
     "output_type": "execute_result"
    }
   ],
   "source": [
    "# 최고 정확도 - 이 역시 여기선 공동 1위\n",
    "grid_dtc.best_score_"
   ]
  },
  {
   "cell_type": "markdown",
   "id": "b934a8cc",
   "metadata": {},
   "source": [
    "### 데이터 인코딩(전처리)"
   ]
  },
  {
   "cell_type": "code",
   "execution_count": 23,
   "id": "b52e0f0f",
   "metadata": {},
   "outputs": [
    {
     "data": {
      "text/plain": [
       "array([0, 1, 4, 5, 3, 3, 2, 2], dtype=int64)"
      ]
     },
     "execution_count": 23,
     "metadata": {},
     "output_type": "execute_result"
    }
   ],
   "source": [
    "# 레이블 인코딩\n",
    "from sklearn.preprocessing import LabelEncoder\n",
    "LE = LabelEncoder()\n",
    "\n",
    "items = ['TV','냉장고','전자레인지','컴퓨터','선풍기','선풍기','믹서','믹서']\n",
    "result = LE.fit_transform(items)\n",
    "result"
   ]
  },
  {
   "cell_type": "code",
   "execution_count": 24,
   "id": "6151bdb5",
   "metadata": {
    "scrolled": true
   },
   "outputs": [
    {
     "name": "stdout",
     "output_type": "stream",
     "text": [
      "인코딩 클래스: ['TV' '냉장고' '믹서' '선풍기' '전자레인지' '컴퓨터']\n",
      "디코딩 가 볼까요? ['TV' '냉장고' '전자레인지' '컴퓨터' '선풍기' '선풍기' '믹서' '믹서']\n"
     ]
    }
   ],
   "source": [
    "print('인코딩 클래스:',LE.classes_)\n",
    "print('디코딩 가 볼까요?',LE.inverse_transform(result))"
   ]
  },
  {
   "cell_type": "code",
   "execution_count": 25,
   "id": "235be8cc",
   "metadata": {},
   "outputs": [
    {
     "data": {
      "text/plain": [
       "array([[1., 0., 0., 0., 0., 0.],\n",
       "       [0., 1., 0., 0., 0., 0.],\n",
       "       [0., 0., 0., 0., 1., 0.],\n",
       "       [0., 0., 0., 0., 0., 1.],\n",
       "       [0., 0., 0., 1., 0., 0.],\n",
       "       [0., 0., 0., 1., 0., 0.],\n",
       "       [0., 0., 1., 0., 0., 0.],\n",
       "       [0., 0., 1., 0., 0., 0.]])"
      ]
     },
     "metadata": {},
     "output_type": "display_data"
    },
    {
     "data": {
      "text/plain": [
       "(8, 6)"
      ]
     },
     "metadata": {},
     "output_type": "display_data"
    }
   ],
   "source": [
    "# OneHotEncoding\n",
    "# 숫자 자체의 크기가 중요한 학습의 경우 레이블 인코딩을 해 버리면\n",
    "# 알고리즘은 이걸 가중치처럼 이해할 우려가 있다.\n",
    "# 그렇다면 숫자의 크기가 중요한 학습에는 무엇을 써야 하나?\n",
    "# 바로 원핫 인코딩과 겟 더미스가 있겠다.\n",
    "# 새로운 요소 출현에 대한 대응이 다르다거나 하는 차이가 있긴 한데\n",
    "# 일단 우리 수준에선 두 개가 비슷비슷하다 정도로만 알아도 괜찮지 않을까...?\n",
    "# 여튼 이렇게 하면 회귀분석에도 써먹을 수 있음.\n",
    "from sklearn.preprocessing import OneHotEncoder\n",
    "\n",
    "# 레이블 인코딩 먼저 수행\n",
    "label = LE.fit_transform(items)\n",
    "# 2차원 데이터로 변환\n",
    "label = label.reshape(-1,1) # 우리 n행 1열 데이터 필요한데 몇 행 될지 몰라. 그렇담 -1을!\n",
    "# 원핫 인코딩 돌입!\n",
    "OH = OneHotEncoder()\n",
    "result = OH.fit_transform(label)\n",
    "display(result.toarray(), result.shape)"
   ]
  },
  {
   "cell_type": "code",
   "execution_count": 26,
   "id": "2e676aec",
   "metadata": {},
   "outputs": [
    {
     "data": {
      "text/html": [
       "<div>\n",
       "<style scoped>\n",
       "    .dataframe tbody tr th:only-of-type {\n",
       "        vertical-align: middle;\n",
       "    }\n",
       "\n",
       "    .dataframe tbody tr th {\n",
       "        vertical-align: top;\n",
       "    }\n",
       "\n",
       "    .dataframe thead th {\n",
       "        text-align: right;\n",
       "    }\n",
       "</style>\n",
       "<table border=\"1\" class=\"dataframe\">\n",
       "  <thead>\n",
       "    <tr style=\"text-align: right;\">\n",
       "      <th></th>\n",
       "      <th>가전_TV</th>\n",
       "      <th>가전_냉장고</th>\n",
       "      <th>가전_믹서</th>\n",
       "      <th>가전_선풍기</th>\n",
       "      <th>가전_전자레인지</th>\n",
       "      <th>가전_컴퓨터</th>\n",
       "    </tr>\n",
       "  </thead>\n",
       "  <tbody>\n",
       "    <tr>\n",
       "      <th>0</th>\n",
       "      <td>1</td>\n",
       "      <td>0</td>\n",
       "      <td>0</td>\n",
       "      <td>0</td>\n",
       "      <td>0</td>\n",
       "      <td>0</td>\n",
       "    </tr>\n",
       "    <tr>\n",
       "      <th>1</th>\n",
       "      <td>0</td>\n",
       "      <td>1</td>\n",
       "      <td>0</td>\n",
       "      <td>0</td>\n",
       "      <td>0</td>\n",
       "      <td>0</td>\n",
       "    </tr>\n",
       "    <tr>\n",
       "      <th>2</th>\n",
       "      <td>0</td>\n",
       "      <td>0</td>\n",
       "      <td>0</td>\n",
       "      <td>0</td>\n",
       "      <td>1</td>\n",
       "      <td>0</td>\n",
       "    </tr>\n",
       "    <tr>\n",
       "      <th>3</th>\n",
       "      <td>0</td>\n",
       "      <td>0</td>\n",
       "      <td>0</td>\n",
       "      <td>0</td>\n",
       "      <td>0</td>\n",
       "      <td>1</td>\n",
       "    </tr>\n",
       "    <tr>\n",
       "      <th>4</th>\n",
       "      <td>0</td>\n",
       "      <td>0</td>\n",
       "      <td>0</td>\n",
       "      <td>1</td>\n",
       "      <td>0</td>\n",
       "      <td>0</td>\n",
       "    </tr>\n",
       "    <tr>\n",
       "      <th>5</th>\n",
       "      <td>0</td>\n",
       "      <td>0</td>\n",
       "      <td>0</td>\n",
       "      <td>1</td>\n",
       "      <td>0</td>\n",
       "      <td>0</td>\n",
       "    </tr>\n",
       "    <tr>\n",
       "      <th>6</th>\n",
       "      <td>0</td>\n",
       "      <td>0</td>\n",
       "      <td>1</td>\n",
       "      <td>0</td>\n",
       "      <td>0</td>\n",
       "      <td>0</td>\n",
       "    </tr>\n",
       "    <tr>\n",
       "      <th>7</th>\n",
       "      <td>0</td>\n",
       "      <td>0</td>\n",
       "      <td>1</td>\n",
       "      <td>0</td>\n",
       "      <td>0</td>\n",
       "      <td>0</td>\n",
       "    </tr>\n",
       "  </tbody>\n",
       "</table>\n",
       "</div>"
      ],
      "text/plain": [
       "   가전_TV  가전_냉장고  가전_믹서  가전_선풍기  가전_전자레인지  가전_컴퓨터\n",
       "0      1       0      0       0         0       0\n",
       "1      0       1      0       0         0       0\n",
       "2      0       0      0       0         1       0\n",
       "3      0       0      0       0         0       1\n",
       "4      0       0      0       1         0       0\n",
       "5      0       0      0       1         0       0\n",
       "6      0       0      1       0         0       0\n",
       "7      0       0      1       0         0       0"
      ]
     },
     "execution_count": 26,
     "metadata": {},
     "output_type": "execute_result"
    }
   ],
   "source": [
    "# get_dummies 언급했으면 써야지. 총이 나왔으면 쏴야 하듯이.\n",
    "dummy = pd.DataFrame(items,columns=['가전'])\n",
    "pd.get_dummies(dummy)"
   ]
  },
  {
   "cell_type": "code",
   "execution_count": null,
   "id": "3b057426",
   "metadata": {},
   "outputs": [],
   "source": []
  },
  {
   "cell_type": "code",
   "execution_count": 27,
   "id": "1886eff6",
   "metadata": {},
   "outputs": [
    {
     "data": {
      "text/html": [
       "<div>\n",
       "<style scoped>\n",
       "    .dataframe tbody tr th:only-of-type {\n",
       "        vertical-align: middle;\n",
       "    }\n",
       "\n",
       "    .dataframe tbody tr th {\n",
       "        vertical-align: top;\n",
       "    }\n",
       "\n",
       "    .dataframe thead th {\n",
       "        text-align: right;\n",
       "    }\n",
       "</style>\n",
       "<table border=\"1\" class=\"dataframe\">\n",
       "  <thead>\n",
       "    <tr style=\"text-align: right;\">\n",
       "      <th></th>\n",
       "      <th>sepal length (cm)</th>\n",
       "      <th>sepal width (cm)</th>\n",
       "      <th>petal length (cm)</th>\n",
       "      <th>petal width (cm)</th>\n",
       "      <th>labels</th>\n",
       "    </tr>\n",
       "  </thead>\n",
       "  <tbody>\n",
       "    <tr>\n",
       "      <th>0</th>\n",
       "      <td>-0.900681</td>\n",
       "      <td>1.019004</td>\n",
       "      <td>-1.340227</td>\n",
       "      <td>-1.315444</td>\n",
       "      <td>-1.224745</td>\n",
       "    </tr>\n",
       "    <tr>\n",
       "      <th>1</th>\n",
       "      <td>-1.143017</td>\n",
       "      <td>-0.131979</td>\n",
       "      <td>-1.340227</td>\n",
       "      <td>-1.315444</td>\n",
       "      <td>-1.224745</td>\n",
       "    </tr>\n",
       "    <tr>\n",
       "      <th>2</th>\n",
       "      <td>-1.385353</td>\n",
       "      <td>0.328414</td>\n",
       "      <td>-1.397064</td>\n",
       "      <td>-1.315444</td>\n",
       "      <td>-1.224745</td>\n",
       "    </tr>\n",
       "    <tr>\n",
       "      <th>3</th>\n",
       "      <td>-1.506521</td>\n",
       "      <td>0.098217</td>\n",
       "      <td>-1.283389</td>\n",
       "      <td>-1.315444</td>\n",
       "      <td>-1.224745</td>\n",
       "    </tr>\n",
       "    <tr>\n",
       "      <th>4</th>\n",
       "      <td>-1.021849</td>\n",
       "      <td>1.249201</td>\n",
       "      <td>-1.340227</td>\n",
       "      <td>-1.315444</td>\n",
       "      <td>-1.224745</td>\n",
       "    </tr>\n",
       "  </tbody>\n",
       "</table>\n",
       "</div>"
      ],
      "text/plain": [
       "   sepal length (cm)  sepal width (cm)  petal length (cm)  petal width (cm)  \\\n",
       "0          -0.900681          1.019004          -1.340227         -1.315444   \n",
       "1          -1.143017         -0.131979          -1.340227         -1.315444   \n",
       "2          -1.385353          0.328414          -1.397064         -1.315444   \n",
       "3          -1.506521          0.098217          -1.283389         -1.315444   \n",
       "4          -1.021849          1.249201          -1.340227         -1.315444   \n",
       "\n",
       "     labels  \n",
       "0 -1.224745  \n",
       "1 -1.224745  \n",
       "2 -1.224745  \n",
       "3 -1.224745  \n",
       "4 -1.224745  "
      ]
     },
     "metadata": {},
     "output_type": "display_data"
    },
    {
     "name": "stdout",
     "output_type": "stream",
     "text": [
      "평균:\n",
      "sepal length (cm)   -2.775558e-16\n",
      "sepal width (cm)    -9.695948e-16\n",
      "petal length (cm)   -8.652338e-16\n",
      "petal width (cm)    -4.662937e-16\n",
      "labels               1.184238e-17\n",
      "dtype: float64\n",
      "\n",
      "분산:\n",
      "sepal length (cm)    1.006711\n",
      "sepal width (cm)     1.006711\n",
      "petal length (cm)    1.006711\n",
      "petal width (cm)     1.006711\n",
      "labels               1.006711\n",
      "dtype: float64\n"
     ]
    }
   ],
   "source": [
    "# 피처 스케일링과 정규화\n",
    "from sklearn.preprocessing import StandardScaler\n",
    "\n",
    "scaler = StandardScaler()\n",
    "scaled = scaler.fit_transform(iris_df)\n",
    "sdf = pd.DataFrame(scaled, columns = iris_df.columns)\n",
    "display(sdf.head())\n",
    "print(f'평균:\\n{sdf.mean()}\\n')\n",
    "print(f'분산:\\n{sdf.var()}') # 이건 뭐다? 불편분산"
   ]
  },
  {
   "cell_type": "code",
   "execution_count": 28,
   "id": "e3b73919",
   "metadata": {},
   "outputs": [
    {
     "data": {
      "text/html": [
       "<div>\n",
       "<style scoped>\n",
       "    .dataframe tbody tr th:only-of-type {\n",
       "        vertical-align: middle;\n",
       "    }\n",
       "\n",
       "    .dataframe tbody tr th {\n",
       "        vertical-align: top;\n",
       "    }\n",
       "\n",
       "    .dataframe thead th {\n",
       "        text-align: right;\n",
       "    }\n",
       "</style>\n",
       "<table border=\"1\" class=\"dataframe\">\n",
       "  <thead>\n",
       "    <tr style=\"text-align: right;\">\n",
       "      <th></th>\n",
       "      <th>sepal length (cm)</th>\n",
       "      <th>sepal width (cm)</th>\n",
       "      <th>petal length (cm)</th>\n",
       "      <th>petal width (cm)</th>\n",
       "      <th>labels</th>\n",
       "    </tr>\n",
       "  </thead>\n",
       "  <tbody>\n",
       "    <tr>\n",
       "      <th>0</th>\n",
       "      <td>0.222222</td>\n",
       "      <td>0.625000</td>\n",
       "      <td>0.067797</td>\n",
       "      <td>0.041667</td>\n",
       "      <td>0.0</td>\n",
       "    </tr>\n",
       "    <tr>\n",
       "      <th>1</th>\n",
       "      <td>0.166667</td>\n",
       "      <td>0.416667</td>\n",
       "      <td>0.067797</td>\n",
       "      <td>0.041667</td>\n",
       "      <td>0.0</td>\n",
       "    </tr>\n",
       "    <tr>\n",
       "      <th>2</th>\n",
       "      <td>0.111111</td>\n",
       "      <td>0.500000</td>\n",
       "      <td>0.050847</td>\n",
       "      <td>0.041667</td>\n",
       "      <td>0.0</td>\n",
       "    </tr>\n",
       "    <tr>\n",
       "      <th>3</th>\n",
       "      <td>0.083333</td>\n",
       "      <td>0.458333</td>\n",
       "      <td>0.084746</td>\n",
       "      <td>0.041667</td>\n",
       "      <td>0.0</td>\n",
       "    </tr>\n",
       "    <tr>\n",
       "      <th>4</th>\n",
       "      <td>0.194444</td>\n",
       "      <td>0.666667</td>\n",
       "      <td>0.067797</td>\n",
       "      <td>0.041667</td>\n",
       "      <td>0.0</td>\n",
       "    </tr>\n",
       "  </tbody>\n",
       "</table>\n",
       "</div>"
      ],
      "text/plain": [
       "   sepal length (cm)  sepal width (cm)  petal length (cm)  petal width (cm)  \\\n",
       "0           0.222222          0.625000           0.067797          0.041667   \n",
       "1           0.166667          0.416667           0.067797          0.041667   \n",
       "2           0.111111          0.500000           0.050847          0.041667   \n",
       "3           0.083333          0.458333           0.084746          0.041667   \n",
       "4           0.194444          0.666667           0.067797          0.041667   \n",
       "\n",
       "   labels  \n",
       "0     0.0  \n",
       "1     0.0  \n",
       "2     0.0  \n",
       "3     0.0  \n",
       "4     0.0  "
      ]
     },
     "metadata": {},
     "output_type": "display_data"
    },
    {
     "data": {
      "text/html": [
       "<div>\n",
       "<style scoped>\n",
       "    .dataframe tbody tr th:only-of-type {\n",
       "        vertical-align: middle;\n",
       "    }\n",
       "\n",
       "    .dataframe tbody tr th {\n",
       "        vertical-align: top;\n",
       "    }\n",
       "\n",
       "    .dataframe thead th {\n",
       "        text-align: right;\n",
       "    }\n",
       "</style>\n",
       "<table border=\"1\" class=\"dataframe\">\n",
       "  <thead>\n",
       "    <tr style=\"text-align: right;\">\n",
       "      <th></th>\n",
       "      <th>sepal length (cm)</th>\n",
       "      <th>sepal width (cm)</th>\n",
       "      <th>petal length (cm)</th>\n",
       "      <th>petal width (cm)</th>\n",
       "      <th>labels</th>\n",
       "    </tr>\n",
       "  </thead>\n",
       "  <tbody>\n",
       "    <tr>\n",
       "      <th>min</th>\n",
       "      <td>0.0</td>\n",
       "      <td>0.0</td>\n",
       "      <td>0.0</td>\n",
       "      <td>0.0</td>\n",
       "      <td>0.0</td>\n",
       "    </tr>\n",
       "    <tr>\n",
       "      <th>max</th>\n",
       "      <td>1.0</td>\n",
       "      <td>1.0</td>\n",
       "      <td>1.0</td>\n",
       "      <td>1.0</td>\n",
       "      <td>1.0</td>\n",
       "    </tr>\n",
       "  </tbody>\n",
       "</table>\n",
       "</div>"
      ],
      "text/plain": [
       "     sepal length (cm)  sepal width (cm)  petal length (cm)  petal width (cm)  \\\n",
       "min                0.0               0.0                0.0               0.0   \n",
       "max                1.0               1.0                1.0               1.0   \n",
       "\n",
       "     labels  \n",
       "min     0.0  \n",
       "max     1.0  "
      ]
     },
     "metadata": {},
     "output_type": "display_data"
    },
    {
     "name": "stdout",
     "output_type": "stream",
     "text": [
      "분산:\n",
      "sepal length (cm)    0.052908\n",
      "sepal width (cm)     0.032983\n",
      "petal length (cm)    0.089522\n",
      "petal width (cm)     0.100869\n",
      "labels               0.167785\n",
      "dtype: float64\n"
     ]
    }
   ],
   "source": [
    "# MinMax\n",
    "from sklearn.preprocessing import MinMaxScaler\n",
    "mm = MinMaxScaler()\n",
    "\n",
    "mscale = mm.fit_transform(iris_df)\n",
    "mdf = pd.DataFrame(mscale, columns = iris_df.columns)\n",
    "display(mdf.head(), mdf.apply(['min','max']))\n",
    "print(f'분산:\\n{mdf.var()}') # 이건 뭐다? 불편분산"
   ]
  },
  {
   "cell_type": "code",
   "execution_count": null,
   "id": "4164ea08",
   "metadata": {},
   "outputs": [],
   "source": []
  },
  {
   "cell_type": "code",
   "execution_count": null,
   "id": "5c8984a7",
   "metadata": {},
   "outputs": [],
   "source": []
  },
  {
   "cell_type": "code",
   "execution_count": null,
   "id": "41fd5be0",
   "metadata": {},
   "outputs": [],
   "source": []
  },
  {
   "cell_type": "code",
   "execution_count": null,
   "id": "30f048ce",
   "metadata": {},
   "outputs": [],
   "source": []
  },
  {
   "cell_type": "code",
   "execution_count": 29,
   "id": "2e693fc7",
   "metadata": {},
   "outputs": [],
   "source": [
    "# [과제] Stratified K Fold 케이스에 관한 교차검증을 수행하세요.\n",
    "# 예제에선 데이터 레이블 분리만 했으니까요.\n",
    "\n",
    "# 각 회차별 교차검증 정확도 및 검증 세트 인덱스 출력\n",
    "# 평균 교차검증 정확도 출력"
   ]
  },
  {
   "cell_type": "code",
   "execution_count": 30,
   "id": "e163a0be",
   "metadata": {},
   "outputs": [],
   "source": [
    "from sklearn.metrics import accuracy_score as AS\n",
    "from sklearn.datasets import load_iris\n",
    "from sklearn.model_selection import StratifiedKFold\n",
    "from sklearn.tree import DecisionTreeClassifier\n",
    "from sklearn.model_selection import train_test_split\n",
    "import warnings\n",
    "import pandas as pd\n",
    "import numpy as np\n",
    "warnings.filterwarnings('ignore')"
   ]
  },
  {
   "cell_type": "code",
   "execution_count": 31,
   "id": "fdeaac6f",
   "metadata": {
    "scrolled": false
   },
   "outputs": [
    {
     "data": {
      "text/html": [
       "<div>\n",
       "<style scoped>\n",
       "    .dataframe tbody tr th:only-of-type {\n",
       "        vertical-align: middle;\n",
       "    }\n",
       "\n",
       "    .dataframe tbody tr th {\n",
       "        vertical-align: top;\n",
       "    }\n",
       "\n",
       "    .dataframe thead th {\n",
       "        text-align: right;\n",
       "    }\n",
       "</style>\n",
       "<table border=\"1\" class=\"dataframe\">\n",
       "  <thead>\n",
       "    <tr style=\"text-align: right;\">\n",
       "      <th></th>\n",
       "      <th>sepal length (cm)</th>\n",
       "      <th>sepal width (cm)</th>\n",
       "      <th>petal length (cm)</th>\n",
       "      <th>petal width (cm)</th>\n",
       "      <th>labels</th>\n",
       "    </tr>\n",
       "  </thead>\n",
       "  <tbody>\n",
       "    <tr>\n",
       "      <th>0</th>\n",
       "      <td>5.1</td>\n",
       "      <td>3.5</td>\n",
       "      <td>1.4</td>\n",
       "      <td>0.2</td>\n",
       "      <td>0</td>\n",
       "    </tr>\n",
       "    <tr>\n",
       "      <th>1</th>\n",
       "      <td>4.9</td>\n",
       "      <td>3.0</td>\n",
       "      <td>1.4</td>\n",
       "      <td>0.2</td>\n",
       "      <td>0</td>\n",
       "    </tr>\n",
       "    <tr>\n",
       "      <th>2</th>\n",
       "      <td>4.7</td>\n",
       "      <td>3.2</td>\n",
       "      <td>1.3</td>\n",
       "      <td>0.2</td>\n",
       "      <td>0</td>\n",
       "    </tr>\n",
       "    <tr>\n",
       "      <th>3</th>\n",
       "      <td>4.6</td>\n",
       "      <td>3.1</td>\n",
       "      <td>1.5</td>\n",
       "      <td>0.2</td>\n",
       "      <td>0</td>\n",
       "    </tr>\n",
       "    <tr>\n",
       "      <th>4</th>\n",
       "      <td>5.0</td>\n",
       "      <td>3.6</td>\n",
       "      <td>1.4</td>\n",
       "      <td>0.2</td>\n",
       "      <td>0</td>\n",
       "    </tr>\n",
       "  </tbody>\n",
       "</table>\n",
       "</div>"
      ],
      "text/plain": [
       "   sepal length (cm)  sepal width (cm)  petal length (cm)  petal width (cm)  \\\n",
       "0                5.1               3.5                1.4               0.2   \n",
       "1                4.9               3.0                1.4               0.2   \n",
       "2                4.7               3.2                1.3               0.2   \n",
       "3                4.6               3.1                1.5               0.2   \n",
       "4                5.0               3.6                1.4               0.2   \n",
       "\n",
       "   labels  \n",
       "0       0  \n",
       "1       0  \n",
       "2       0  \n",
       "3       0  \n",
       "4       0  "
      ]
     },
     "execution_count": 31,
     "metadata": {},
     "output_type": "execute_result"
    }
   ],
   "source": [
    "iris = pd.DataFrame(load_iris().data, columns = load_iris().feature_names)\n",
    "iris['labels'] = load_iris().target\n",
    "iris.head()"
   ]
  },
  {
   "cell_type": "code",
   "execution_count": 32,
   "id": "c10072b2",
   "metadata": {},
   "outputs": [
    {
     "name": "stdout",
     "output_type": "stream",
     "text": [
      "1회차 교차검증 정확도: 0.98\n",
      "학습 데이터 크기: 100\n",
      "검증 데이터 크기: 50\n",
      "1회차 검증 데이터 인덱스: [  0   1   2   3   4   5   6   7   8   9  10  11  12  13  14  15  16  50\n",
      "  51  52  53  54  55  56  57  58  59  60  61  62  63  64  65  66 100 101\n",
      " 102 103 104 105 106 107 108 109 110 111 112 113 114 115]\n",
      "2회차 교차검증 정확도: 0.94\n",
      "학습 데이터 크기: 100\n",
      "검증 데이터 크기: 50\n",
      "2회차 검증 데이터 인덱스: [ 17  18  19  20  21  22  23  24  25  26  27  28  29  30  31  32  33  67\n",
      "  68  69  70  71  72  73  74  75  76  77  78  79  80  81  82 116 117 118\n",
      " 119 120 121 122 123 124 125 126 127 128 129 130 131 132]\n",
      "3회차 교차검증 정확도: 0.98\n",
      "학습 데이터 크기: 100\n",
      "검증 데이터 크기: 50\n",
      "3회차 검증 데이터 인덱스: [ 34  35  36  37  38  39  40  41  42  43  44  45  46  47  48  49  83  84\n",
      "  85  86  87  88  89  90  91  92  93  94  95  96  97  98  99 133 134 135\n",
      " 136 137 138 139 140 141 142 143 144 145 146 147 148 149]\n",
      "평균 검증 정확도: 0.9667\n"
     ]
    }
   ],
   "source": [
    "# 학습 알고리즘 설정\n",
    "dtc = DecisionTreeClassifier(random_state=156)\n",
    "# 분류 알고리즘 설정\n",
    "skf = StratifiedKFold(n_splits=3)\n",
    "n = 0 # 반복횟수 카운트\n",
    "cross = [] # 정확도를 뽑아 모아줄 리스트\n",
    "\n",
    "for train, test in skf.split(load_iris().data, iris.labels):\n",
    "    # 학습, 검증용 데이터셋 분리\n",
    "    X_train, X_test = load_iris().data[train], load_iris().data[test]\n",
    "    y_train, y_test = iris.labels[train], iris.labels[test]\n",
    "    # 학습, 예측\n",
    "    dtc.fit(X_train, y_train)\n",
    "    pred = dtc.predict(X_test)\n",
    "    \n",
    "    # 정확도 봅시다\n",
    "    accuracy = AS(y_test, pred)\n",
    "    cross.append(accuracy)\n",
    "    n+=1\n",
    "    print(f'{n}회차 교차검증 정확도: {accuracy}')\n",
    "    print(f'학습 데이터 크기: {X_train.shape[0]}')\n",
    "    print(f'검증 데이터 크기: {X_test.shape[0]}')\n",
    "    print(f'{n}회차 검증 데이터 인덱스: {test}')\n",
    "\n",
    "print(f'평균 검증 정확도: {np.mean(cross).round(4)}')\n",
    "# 0~49, 50~99 이런 식으로 천편률적으로 짤라내는 게 아니라\n",
    "# 원본 데이터 분포를 파악해서 그것을 반영해서 짤라놨음 인덱스 체크해보셈"
   ]
  },
  {
   "cell_type": "code",
   "execution_count": null,
   "id": "d069fbb9",
   "metadata": {},
   "outputs": [],
   "source": []
  },
  {
   "cell_type": "code",
   "execution_count": null,
   "id": "b3a0dfba",
   "metadata": {},
   "outputs": [],
   "source": []
  },
  {
   "cell_type": "code",
   "execution_count": 33,
   "id": "d9a2144c",
   "metadata": {},
   "outputs": [],
   "source": [
    "# [과제] train.csv 데이터로 생존자 분석 예측을 위한 분석용 데이터셋을\n",
    "# 하나의 전처리 사용자 함수를 이용하여 작성한 후\n",
    "# 모델링 및 성능평가를 수행하세요.\n",
    "# 전처리는 5개 이상, 정확도는 0.85 이상\n",
    "# 시각적 탐색 3개 이상"
   ]
  },
  {
   "cell_type": "code",
   "execution_count": 34,
   "id": "3a0f2ed7",
   "metadata": {},
   "outputs": [
    {
     "data": {
      "text/html": [
       "<div>\n",
       "<style scoped>\n",
       "    .dataframe tbody tr th:only-of-type {\n",
       "        vertical-align: middle;\n",
       "    }\n",
       "\n",
       "    .dataframe tbody tr th {\n",
       "        vertical-align: top;\n",
       "    }\n",
       "\n",
       "    .dataframe thead th {\n",
       "        text-align: right;\n",
       "    }\n",
       "</style>\n",
       "<table border=\"1\" class=\"dataframe\">\n",
       "  <thead>\n",
       "    <tr style=\"text-align: right;\">\n",
       "      <th></th>\n",
       "      <th>PassengerId</th>\n",
       "      <th>Survived</th>\n",
       "      <th>Pclass</th>\n",
       "      <th>Name</th>\n",
       "      <th>Sex</th>\n",
       "      <th>Age</th>\n",
       "      <th>SibSp</th>\n",
       "      <th>Parch</th>\n",
       "      <th>Ticket</th>\n",
       "      <th>Fare</th>\n",
       "      <th>Cabin</th>\n",
       "      <th>Embarked</th>\n",
       "    </tr>\n",
       "  </thead>\n",
       "  <tbody>\n",
       "    <tr>\n",
       "      <th>0</th>\n",
       "      <td>1</td>\n",
       "      <td>0</td>\n",
       "      <td>3</td>\n",
       "      <td>Braund, Mr. Owen Harris</td>\n",
       "      <td>male</td>\n",
       "      <td>22.0</td>\n",
       "      <td>1</td>\n",
       "      <td>0</td>\n",
       "      <td>A/5 21171</td>\n",
       "      <td>7.2500</td>\n",
       "      <td>NaN</td>\n",
       "      <td>S</td>\n",
       "    </tr>\n",
       "    <tr>\n",
       "      <th>1</th>\n",
       "      <td>2</td>\n",
       "      <td>1</td>\n",
       "      <td>1</td>\n",
       "      <td>Cumings, Mrs. John Bradley (Florence Briggs Th...</td>\n",
       "      <td>female</td>\n",
       "      <td>38.0</td>\n",
       "      <td>1</td>\n",
       "      <td>0</td>\n",
       "      <td>PC 17599</td>\n",
       "      <td>71.2833</td>\n",
       "      <td>C85</td>\n",
       "      <td>C</td>\n",
       "    </tr>\n",
       "    <tr>\n",
       "      <th>2</th>\n",
       "      <td>3</td>\n",
       "      <td>1</td>\n",
       "      <td>3</td>\n",
       "      <td>Heikkinen, Miss. Laina</td>\n",
       "      <td>female</td>\n",
       "      <td>26.0</td>\n",
       "      <td>0</td>\n",
       "      <td>0</td>\n",
       "      <td>STON/O2. 3101282</td>\n",
       "      <td>7.9250</td>\n",
       "      <td>NaN</td>\n",
       "      <td>S</td>\n",
       "    </tr>\n",
       "    <tr>\n",
       "      <th>3</th>\n",
       "      <td>4</td>\n",
       "      <td>1</td>\n",
       "      <td>1</td>\n",
       "      <td>Futrelle, Mrs. Jacques Heath (Lily May Peel)</td>\n",
       "      <td>female</td>\n",
       "      <td>35.0</td>\n",
       "      <td>1</td>\n",
       "      <td>0</td>\n",
       "      <td>113803</td>\n",
       "      <td>53.1000</td>\n",
       "      <td>C123</td>\n",
       "      <td>S</td>\n",
       "    </tr>\n",
       "    <tr>\n",
       "      <th>4</th>\n",
       "      <td>5</td>\n",
       "      <td>0</td>\n",
       "      <td>3</td>\n",
       "      <td>Allen, Mr. William Henry</td>\n",
       "      <td>male</td>\n",
       "      <td>35.0</td>\n",
       "      <td>0</td>\n",
       "      <td>0</td>\n",
       "      <td>373450</td>\n",
       "      <td>8.0500</td>\n",
       "      <td>NaN</td>\n",
       "      <td>S</td>\n",
       "    </tr>\n",
       "  </tbody>\n",
       "</table>\n",
       "</div>"
      ],
      "text/plain": [
       "   PassengerId  Survived  Pclass  \\\n",
       "0            1         0       3   \n",
       "1            2         1       1   \n",
       "2            3         1       3   \n",
       "3            4         1       1   \n",
       "4            5         0       3   \n",
       "\n",
       "                                                Name     Sex   Age  SibSp  \\\n",
       "0                            Braund, Mr. Owen Harris    male  22.0      1   \n",
       "1  Cumings, Mrs. John Bradley (Florence Briggs Th...  female  38.0      1   \n",
       "2                             Heikkinen, Miss. Laina  female  26.0      0   \n",
       "3       Futrelle, Mrs. Jacques Heath (Lily May Peel)  female  35.0      1   \n",
       "4                           Allen, Mr. William Henry    male  35.0      0   \n",
       "\n",
       "   Parch            Ticket     Fare Cabin Embarked  \n",
       "0      0         A/5 21171   7.2500   NaN        S  \n",
       "1      0          PC 17599  71.2833   C85        C  \n",
       "2      0  STON/O2. 3101282   7.9250   NaN        S  \n",
       "3      0            113803  53.1000  C123        S  \n",
       "4      0            373450   8.0500   NaN        S  "
      ]
     },
     "metadata": {},
     "output_type": "display_data"
    },
    {
     "data": {
      "text/html": [
       "<div>\n",
       "<style scoped>\n",
       "    .dataframe tbody tr th:only-of-type {\n",
       "        vertical-align: middle;\n",
       "    }\n",
       "\n",
       "    .dataframe tbody tr th {\n",
       "        vertical-align: top;\n",
       "    }\n",
       "\n",
       "    .dataframe thead th {\n",
       "        text-align: right;\n",
       "    }\n",
       "</style>\n",
       "<table border=\"1\" class=\"dataframe\">\n",
       "  <thead>\n",
       "    <tr style=\"text-align: right;\">\n",
       "      <th></th>\n",
       "      <th>PassengerId</th>\n",
       "      <th>Survived</th>\n",
       "      <th>Pclass</th>\n",
       "      <th>Name</th>\n",
       "      <th>Sex</th>\n",
       "      <th>Age</th>\n",
       "      <th>SibSp</th>\n",
       "      <th>Parch</th>\n",
       "      <th>Ticket</th>\n",
       "      <th>Fare</th>\n",
       "      <th>Cabin</th>\n",
       "      <th>Embarked</th>\n",
       "    </tr>\n",
       "  </thead>\n",
       "  <tbody>\n",
       "    <tr>\n",
       "      <th>886</th>\n",
       "      <td>887</td>\n",
       "      <td>0</td>\n",
       "      <td>2</td>\n",
       "      <td>Montvila, Rev. Juozas</td>\n",
       "      <td>male</td>\n",
       "      <td>27.0</td>\n",
       "      <td>0</td>\n",
       "      <td>0</td>\n",
       "      <td>211536</td>\n",
       "      <td>13.00</td>\n",
       "      <td>NaN</td>\n",
       "      <td>S</td>\n",
       "    </tr>\n",
       "    <tr>\n",
       "      <th>887</th>\n",
       "      <td>888</td>\n",
       "      <td>1</td>\n",
       "      <td>1</td>\n",
       "      <td>Graham, Miss. Margaret Edith</td>\n",
       "      <td>female</td>\n",
       "      <td>19.0</td>\n",
       "      <td>0</td>\n",
       "      <td>0</td>\n",
       "      <td>112053</td>\n",
       "      <td>30.00</td>\n",
       "      <td>B42</td>\n",
       "      <td>S</td>\n",
       "    </tr>\n",
       "    <tr>\n",
       "      <th>888</th>\n",
       "      <td>889</td>\n",
       "      <td>0</td>\n",
       "      <td>3</td>\n",
       "      <td>Johnston, Miss. Catherine Helen \"Carrie\"</td>\n",
       "      <td>female</td>\n",
       "      <td>NaN</td>\n",
       "      <td>1</td>\n",
       "      <td>2</td>\n",
       "      <td>W./C. 6607</td>\n",
       "      <td>23.45</td>\n",
       "      <td>NaN</td>\n",
       "      <td>S</td>\n",
       "    </tr>\n",
       "    <tr>\n",
       "      <th>889</th>\n",
       "      <td>890</td>\n",
       "      <td>1</td>\n",
       "      <td>1</td>\n",
       "      <td>Behr, Mr. Karl Howell</td>\n",
       "      <td>male</td>\n",
       "      <td>26.0</td>\n",
       "      <td>0</td>\n",
       "      <td>0</td>\n",
       "      <td>111369</td>\n",
       "      <td>30.00</td>\n",
       "      <td>C148</td>\n",
       "      <td>C</td>\n",
       "    </tr>\n",
       "    <tr>\n",
       "      <th>890</th>\n",
       "      <td>891</td>\n",
       "      <td>0</td>\n",
       "      <td>3</td>\n",
       "      <td>Dooley, Mr. Patrick</td>\n",
       "      <td>male</td>\n",
       "      <td>32.0</td>\n",
       "      <td>0</td>\n",
       "      <td>0</td>\n",
       "      <td>370376</td>\n",
       "      <td>7.75</td>\n",
       "      <td>NaN</td>\n",
       "      <td>Q</td>\n",
       "    </tr>\n",
       "  </tbody>\n",
       "</table>\n",
       "</div>"
      ],
      "text/plain": [
       "     PassengerId  Survived  Pclass                                      Name  \\\n",
       "886          887         0       2                     Montvila, Rev. Juozas   \n",
       "887          888         1       1              Graham, Miss. Margaret Edith   \n",
       "888          889         0       3  Johnston, Miss. Catherine Helen \"Carrie\"   \n",
       "889          890         1       1                     Behr, Mr. Karl Howell   \n",
       "890          891         0       3                       Dooley, Mr. Patrick   \n",
       "\n",
       "        Sex   Age  SibSp  Parch      Ticket   Fare Cabin Embarked  \n",
       "886    male  27.0      0      0      211536  13.00   NaN        S  \n",
       "887  female  19.0      0      0      112053  30.00   B42        S  \n",
       "888  female   NaN      1      2  W./C. 6607  23.45   NaN        S  \n",
       "889    male  26.0      0      0      111369  30.00  C148        C  \n",
       "890    male  32.0      0      0      370376   7.75   NaN        Q  "
      ]
     },
     "metadata": {},
     "output_type": "display_data"
    }
   ],
   "source": [
    "df = pd.read_csv('./dataset/train.csv')\n",
    "display(df.head(), df.tail(5))"
   ]
  },
  {
   "cell_type": "code",
   "execution_count": 35,
   "id": "9db202fd",
   "metadata": {},
   "outputs": [
    {
     "name": "stdout",
     "output_type": "stream",
     "text": [
      "<class 'pandas.core.frame.DataFrame'>\n",
      "RangeIndex: 891 entries, 0 to 890\n",
      "Data columns (total 12 columns):\n",
      " #   Column       Non-Null Count  Dtype  \n",
      "---  ------       --------------  -----  \n",
      " 0   PassengerId  891 non-null    int64  \n",
      " 1   Survived     891 non-null    int64  \n",
      " 2   Pclass       891 non-null    int64  \n",
      " 3   Name         891 non-null    object \n",
      " 4   Sex          891 non-null    object \n",
      " 5   Age          714 non-null    float64\n",
      " 6   SibSp        891 non-null    int64  \n",
      " 7   Parch        891 non-null    int64  \n",
      " 8   Ticket       891 non-null    object \n",
      " 9   Fare         891 non-null    float64\n",
      " 10  Cabin        204 non-null    object \n",
      " 11  Embarked     889 non-null    object \n",
      "dtypes: float64(2), int64(5), object(5)\n",
      "memory usage: 83.7+ KB\n"
     ]
    }
   ],
   "source": [
    "# 전체적인 브리핑 먼저\n",
    "df.info()\n",
    "# 패신저 아이디는 그냥 승객 넘버인 듯. 빼도 되겠지?\n",
    "# survived는 종속변수다. 여기에 유효한 독립변수를 빼내는 것이 핵심.\n",
    "# 결측치 채워야 하는 거: Age, Cabin, Embarked\n",
    "# 선착장의 경우 최빈값으로 채우고, Age는 특정 층의 평균을 내고, cabin은 음...\n",
    "# 여튼 접근법을 궁리는 해보자고\n",
    "# 없애도 되는 것은 티켓과 페어 정도..?"
   ]
  },
  {
   "cell_type": "code",
   "execution_count": 36,
   "id": "dd87b98e",
   "metadata": {},
   "outputs": [
    {
     "name": "stdout",
     "output_type": "stream",
     "text": [
      "S    644\n",
      "C    168\n",
      "Q     77\n",
      "Name: Embarked, dtype: int64\n",
      "0    S\n",
      "dtype: object\n"
     ]
    },
    {
     "data": {
      "image/png": "[encoded data removed]",
      "text/plain": [
       "<Figure size 432x288 with 1 Axes>"
      ]
     },
     "metadata": {
      "needs_background": "light"
     },
     "output_type": "display_data"
    }
   ],
   "source": [
    "import matplotlib.pyplot as plt\n",
    "from sklearn.preprocessing import LabelEncoder\n",
    "print(df.Embarked.value_counts())\n",
    "print(df.Embarked.mode())\n",
    "df[['Survived','Embarked']].groupby('Embarked').sum().plot(kind='bar', rot=0)\n",
    "plt.show()\n",
    "# 뭐 걍 최빈값 넣어도 될 듯..."
   ]
  },
  {
   "cell_type": "code",
   "execution_count": null,
   "id": "30535181",
   "metadata": {},
   "outputs": [],
   "source": []
  },
  {
   "cell_type": "code",
   "execution_count": null,
   "id": "effcace1",
   "metadata": {},
   "outputs": [],
   "source": []
  },
  {
   "cell_type": "code",
   "execution_count": null,
   "id": "2af2e2b8",
   "metadata": {},
   "outputs": [],
   "source": []
  },
  {
   "cell_type": "code",
   "execution_count": null,
   "id": "705447fc",
   "metadata": {},
   "outputs": [],
   "source": []
  },
  {
   "cell_type": "code",
   "execution_count": null,
   "id": "602b20f5",
   "metadata": {},
   "outputs": [],
   "source": []
  },
  {
   "cell_type": "code",
   "execution_count": null,
   "id": "e9f6f549",
   "metadata": {},
   "outputs": [],
   "source": []
  },
  {
   "cell_type": "code",
   "execution_count": 37,
   "id": "538ad295",
   "metadata": {},
   "outputs": [
    {
     "data": {
      "text/html": [
       "<div>\n",
       "<style scoped>\n",
       "    .dataframe tbody tr th:only-of-type {\n",
       "        vertical-align: middle;\n",
       "    }\n",
       "\n",
       "    .dataframe tbody tr th {\n",
       "        vertical-align: top;\n",
       "    }\n",
       "\n",
       "    .dataframe thead th {\n",
       "        text-align: right;\n",
       "    }\n",
       "</style>\n",
       "<table border=\"1\" class=\"dataframe\">\n",
       "  <thead>\n",
       "    <tr style=\"text-align: right;\">\n",
       "      <th></th>\n",
       "      <th>Survived</th>\n",
       "      <th>Pclass</th>\n",
       "      <th>Sex</th>\n",
       "      <th>Age</th>\n",
       "      <th>Embarked</th>\n",
       "      <th>Family</th>\n",
       "    </tr>\n",
       "  </thead>\n",
       "  <tbody>\n",
       "    <tr>\n",
       "      <th>0</th>\n",
       "      <td>0</td>\n",
       "      <td>3</td>\n",
       "      <td>1</td>\n",
       "      <td>2</td>\n",
       "      <td>2</td>\n",
       "      <td>1</td>\n",
       "    </tr>\n",
       "    <tr>\n",
       "      <th>1</th>\n",
       "      <td>1</td>\n",
       "      <td>1</td>\n",
       "      <td>0</td>\n",
       "      <td>3</td>\n",
       "      <td>0</td>\n",
       "      <td>1</td>\n",
       "    </tr>\n",
       "    <tr>\n",
       "      <th>2</th>\n",
       "      <td>1</td>\n",
       "      <td>3</td>\n",
       "      <td>0</td>\n",
       "      <td>2</td>\n",
       "      <td>2</td>\n",
       "      <td>0</td>\n",
       "    </tr>\n",
       "    <tr>\n",
       "      <th>3</th>\n",
       "      <td>1</td>\n",
       "      <td>1</td>\n",
       "      <td>0</td>\n",
       "      <td>3</td>\n",
       "      <td>2</td>\n",
       "      <td>1</td>\n",
       "    </tr>\n",
       "    <tr>\n",
       "      <th>4</th>\n",
       "      <td>0</td>\n",
       "      <td>3</td>\n",
       "      <td>1</td>\n",
       "      <td>3</td>\n",
       "      <td>2</td>\n",
       "      <td>0</td>\n",
       "    </tr>\n",
       "  </tbody>\n",
       "</table>\n",
       "</div>"
      ],
      "text/plain": [
       "   Survived  Pclass  Sex  Age  Embarked  Family\n",
       "0         0       3    1    2         2       1\n",
       "1         1       1    0    3         0       1\n",
       "2         1       3    0    2         2       0\n",
       "3         1       1    0    3         2       1\n",
       "4         0       3    1    3         2       0"
      ]
     },
     "execution_count": 37,
     "metadata": {},
     "output_type": "execute_result"
    }
   ],
   "source": [
    "df = pd.read_csv('./dataset/train.csv')\n",
    "def transfrom_features(df):\n",
    "    # 컬럼 병합\n",
    "    df['Family'] = df.SibSp+df.Parch\n",
    "    # 결측치 보완\n",
    "    df.Embarked.fillna(df.Embarked.mode(), inplace=True)\n",
    "    df['Title'] = df.Name.str.split(', ').str[1].str.split('.').str[0]\n",
    "    tdf = df.groupby('Title')\n",
    "    a = dict(tdf.Age.agg('mean').round(2))\n",
    "    for i, j in zip(a.keys(), a.values()):\n",
    "        df.Age[(df.Age.isnull())&(df.Title==i)] = j\n",
    "    # 컬럼 삭제\n",
    "    df.drop(['Name', 'Title','SibSp','Parch','PassengerId','Fare','Ticket','Cabin'], axis=1, inplace=True)\n",
    "    # 인코딩\n",
    "    LE = LabelEncoder()\n",
    "    col = ['Embarked','Sex']\n",
    "    for i in col:\n",
    "        df[i] = LE.fit_transform(df[i])\n",
    "    return df\n",
    "transfrom_features(df)\n",
    "\n",
    "def agecat(a):\n",
    "    cat=''\n",
    "    if a<14: cat=0\n",
    "    elif a<20: cat=1\n",
    "    elif a<30: cat=2\n",
    "    elif a<40: cat=3\n",
    "    elif a<50: cat=4\n",
    "    elif a<60: cat=5\n",
    "    elif a<70: cat=6\n",
    "    else: cat = 7\n",
    "    return cat\n",
    "df.Age = df.Age.apply(lambda x:agecat(x))\n",
    "df.head()"
   ]
  },
  {
   "cell_type": "code",
   "execution_count": 38,
   "id": "82994e75",
   "metadata": {},
   "outputs": [],
   "source": [
    "# 독립변수, 종속변수\n",
    "\n",
    "X = df.drop('Survived',axis=1)\n",
    "Y = df.Survived\n",
    "\n",
    "X_train, X_test, y_train, y_test = train_test_split(X,Y,test_size=0.2,random_state=2)\n"
   ]
  },
  {
   "cell_type": "code",
   "execution_count": 39,
   "id": "bea4ab93",
   "metadata": {},
   "outputs": [
    {
     "data": {
      "text/plain": [
       "0.770949720670391"
      ]
     },
     "execution_count": 39,
     "metadata": {},
     "output_type": "execute_result"
    }
   ],
   "source": [
    "import sklearn\n",
    "from sklearn.metrics import accuracy_score # 정확도 평가\n",
    "from sklearn.linear_model import LogisticRegression # 알고리즘 임포트 1\n",
    "from sklearn.ensemble import RandomForestClassifier # 알고리즘 임포트 2\n",
    "\n",
    "dtc = sklearn.tree.DecisionTreeClassifier()\n",
    "dtc.fit(X_train, y_train)\n",
    "pred = dtc.predict(X_test)\n",
    "acc = sklearn.metrics.accuracy_score(y_test, pred)\n",
    "acc"
   ]
  },
  {
   "cell_type": "code",
   "execution_count": 40,
   "id": "9904885f",
   "metadata": {},
   "outputs": [
    {
     "name": "stdout",
     "output_type": "stream",
     "text": [
      "rf 정확도: 0.79\n",
      "lr 정확도: 0.77\n"
     ]
    }
   ],
   "source": [
    "rf_model = RandomForestClassifier()\n",
    "rf_model.fit(X_train,y_train) # 준비~ 학습 시작!\n",
    "rf_pred = rf_model.predict(X_test) # 학습했으니 평가용 데이터로 예측해 볼까? (predict 함수 사용)\n",
    "\n",
    "acc_rf = accuracy_score(y_test,rf_pred).round(2)\n",
    "print(f'rf 정확도: {acc_rf}') # 0.85까지는 해내야 함\n",
    "\n",
    "# # 모델 학습 및 평가 (2) - 다른 알고리즘으로 해보자\n",
    "\n",
    "lr_model = LogisticRegression()\n",
    "lr_model.fit(X_train, y_train)\n",
    "lr_pred = lr_model.predict(X_test)\n",
    "acc_lr = accuracy_score(y_test,lr_pred).round(2)\n",
    "\n",
    "print(f'lr 정확도: {acc_lr}')"
   ]
  }
 ],
 "metadata": {
  "kernelspec": {
   "display_name": "Python 3 (ipykernel)",
   "language": "python",
   "name": "python3"
  },
  "language_info": {
   "codemirror_mode": {
    "name": "ipython",
    "version": 3
   },
   "file_extension": ".py",
   "mimetype": "text/x-python",
   "name": "python",
   "nbconvert_exporter": "python",
   "pygments_lexer": "ipython3",
   "version": "3.8.12"
  }
 },
 "nbformat": 4,
 "nbformat_minor": 5
}
